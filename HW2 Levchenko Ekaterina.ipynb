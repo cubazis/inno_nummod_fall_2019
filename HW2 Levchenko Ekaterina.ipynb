{
  "nbformat": 4,
  "nbformat_minor": 0,
  "metadata": {
    "kernelspec": {
      "display_name": "Python 3",
      "language": "python",
      "name": "python3"
    },
    "language_info": {
      "codemirror_mode": {
        "name": "ipython",
        "version": 3
      },
      "file_extension": ".py",
      "mimetype": "text/x-python",
      "name": "python",
      "nbconvert_exporter": "python",
      "pygments_lexer": "ipython3",
      "version": "3.6.8"
    },
    "colab": {
      "name": "HW2.ipynb",
      "provenance": []
    }
  },
  "cells": [
    {
      "cell_type": "code",
      "metadata": {
        "id": "eo8mFAoI4S6g",
        "colab_type": "code",
        "colab": {}
      },
      "source": [
        "import sympy as sp\n",
        "import numpy as np\n",
        "import matplotlib.pyplot as plt"
      ],
      "execution_count": 0,
      "outputs": []
    },
    {
      "cell_type": "markdown",
      "metadata": {
        "id": "Ma8ZhTnH4S6n",
        "colab_type": "text"
      },
      "source": [
        "### 1. Formulate the statement of the interpolation problem with Cubic Spline [mathematical formula]"
      ]
    },
    {
      "cell_type": "markdown",
      "metadata": {
        "id": "0kVJqhXy8jFv",
        "colab_type": "text"
      },
      "source": [
        "### Formula of Cubic Spline: \n",
        "\n",
        "$S_{3,i}(x) = a_{0,i}+a_{1,i}(x-x_i)+a_{2,i}(x-x_i)^2+a_{3,i}(x-x_i)^3$\n",
        "\n",
        "### Spline at $x_i$ is equeal to function at $x_i$:\n",
        "\n",
        "$S_{3,i}(x_i) = f(x_i), i=0,1$ (with top underline)\n",
        "$f(x_i)$ - net (сеточная) function on $[a,b]$\n",
        "\n",
        "### We are able to take first and second derivative \n",
        "\n",
        "$S'_{3,i} \\neq 0$\n",
        "\n",
        "$max(p) = 2$\n",
        "\n",
        "$m = 3$\n",
        "\n",
        "$q = m - max(p), q = 1$"
      ]
    },
    {
      "cell_type": "markdown",
      "metadata": {
        "id": "cuslnFfH4S6v",
        "colab_type": "text"
      },
      "source": [
        "### 2. Formulate the functional and differential compatibility conditions [mathematical formula]"
      ]
    },
    {
      "cell_type": "markdown",
      "metadata": {
        "id": "y7K_4mlPbtnW",
        "colab_type": "text"
      },
      "source": [
        "### Common formula:\n",
        "\n",
        "$\\delta S^{(p_1)}_{m,i}(x)|_{x=x_i} = S^{(p_1)}_{m,i}(x)|_{x=x_j} - f^{(p_1)}(x)|_{x=x_j} = 0$  \n",
        "\n",
        "## For Cubic Spline\n",
        "\n",
        "### Functional compatibility conditions:\n",
        "\n",
        "$p_1 = \\{0\\}$\n",
        "\n",
        "$\\delta S_{3,i}(x)|_{x=x_i} = S_{3,i}(x_i) - f(x_i) = 0$ \n",
        "\n",
        "$\\delta S_{3,i}(x)|_{x=x_i+1} = S_{3,i}(x_{i+1}) - f(x_{i+1}) = 0$ \n",
        "\n",
        "### Differential compatibility conditions:\n",
        "\n",
        "$p_1 = \\{2\\}$\n",
        "\n",
        "$\\delta S''_{3,i}(x)|_{x=x_i} = S''_{3,i}(x_i) - f''(x_i) = 0$ \n",
        "\n",
        "$\\delta S''_{3,i}(x)|_{x=x_i+1} = S''_{3,i}(x_{i+1}) - f''(x_{i+1}) = 0$ "
      ]
    },
    {
      "cell_type": "markdown",
      "metadata": {
        "id": "I_uCefh44S64",
        "colab_type": "text"
      },
      "source": [
        "### 3. Formulate stitching conditions [mathematical formula]"
      ]
    },
    {
      "cell_type": "markdown",
      "metadata": {
        "id": "1J2jZ7joes1Q",
        "colab_type": "text"
      },
      "source": [
        "$S^{(p_2)}_{m,i-1}(x)|_{x=x_i}=S^{(p_2)}_{m,i}(x)|_{x=x_i}, i=1,n-1$ with top underline\n",
        "\n",
        "\n",
        "\n"
      ]
    },
    {
      "cell_type": "markdown",
      "metadata": {
        "id": "Qj3C82VJ4S69",
        "colab_type": "text"
      },
      "source": [
        "### 4. Justify why these conditions provide you with the required smoothness [thesis text, no more than 500 characters]"
      ]
    },
    {
      "cell_type": "markdown",
      "metadata": {
        "id": "lZw8GBAtgOKz",
        "colab_type": "text"
      },
      "source": [
        "*   Functional compatibility conditions - is providing the \"realness\" of the spline, e.g. for our net (сеточной) function the result of spline at $x_i$ is equal to result of function at $x_i$\n",
        "*   Differential compatibility conditions - spline is changing with the same speed as the real function => the curve is very close to curve of real function nearby $x_i$ and $x_{x+1}$\n",
        "*   Stitching conditions - derivatives from both sides are equal => spline connects smoothly from both sides\n",
        "\n",
        "\n",
        "\n"
      ]
    },
    {
      "cell_type": "markdown",
      "metadata": {
        "id": "3rvIbutT4S7F",
        "colab_type": "text"
      },
      "source": [
        "### 5. Derive dependency formula: the dependence of the second derivatives at the grid nodes on the increment of the function (the function values difference on the grid nodes). [Mathematical formulas derivation. Detailed, with clear transitions]"
      ]
    },
    {
      "cell_type": "markdown",
      "metadata": {
        "id": "B9w7VpK1fogk",
        "colab_type": "text"
      },
      "source": [
        "\n",
        "(1) $\\delta S_{3,i}(x)|_{x=x_i} = S_{3,i}(x_i) - f(x_i) = 0$ \n",
        "\n",
        "(2) $\\delta S_{3,i}(x)|_{x=x_i+1} = S_{3,i}(x_{i+1}) - f(x_{i+1}) = 0$ \n",
        "\n",
        "(3) $\\delta S''_{3,i}(x)|_{x=x_i} = S''_{3,i}(x_i) - f''(x_i) = 0$ \n",
        "\n",
        "(4) $\\delta S''_{3,i}(x)|_{x=x_i+1} = S''_{3,i}(x_{i+1}) - f''(x_{i+1}) = 0$ \n",
        "\n",
        "Подставим $S_{3,i}(x) = a_{0,i}+a_{1,i}(x-x_i)+a_{2,i}(x-x_i)^2+a_{3,i}(x-x_i)^3$ в каждое условие\n",
        "\n",
        "\n",
        "## Условие (1)\n",
        "\n",
        "$\\delta S_{3,i}(x)|_{x=x_i} = S_{3,i}(x_i) - f(x_i) = 0$\n",
        "\n",
        "$S_{3,i}(x_i) - f(x_i) = 0$ - Наше уравнение\n",
        "\n",
        "$S_{3,i}(x_i) = a_{0,i}+a_{1,i}(x_i-x_i)+a_{2,i}(x_i-x_i)^2+a_{3,i}(x_i-x_i)^3$\n",
        "\n",
        "$S_{3,i}(x_i) = a_{0,i}$\n",
        "\n",
        "Подставляем: \n",
        "\n",
        "$a_{0,i}-f(x_i) = 0$\n",
        "\n",
        "## $a_{0,i}=f(x_i)$\n",
        "\n",
        "## Условие (3)\n",
        "\n",
        "$\\delta S''_{3,i}(x)|_{x=x_i} = S''_{3,i}(x_i) - f''(x_i) = 0$ \n",
        "\n",
        "$ S''_{3,i}(x_i) - f''(x_i) = 0$ - Наше уравнение\n",
        "\n",
        "Возьмем производную от полинома $S_{3,i}(x) = a_{0,i}+a_{1,i}(x-x_i)+a_{2,i}(x-x_i)^2+a_{3,i}(x-x_i)^3$\n",
        "\n",
        "$S'_{3,i}(x) = a_{1,i}+2a_{2,i}x+3a_{3,i}(x-x_i)^2$\n",
        "\n",
        "$S''_{3,i}(x) = 2a_{2,i}+6a_{3,i}(x-x_i)$\n",
        "\n",
        "Подставляем \n",
        "\n",
        "$2a_{2,i}+6a_{3,i}(x_i-x_i) - f''(x_i) = 0$\n",
        "\n",
        "$2a_{2,i} - f''(x_i) = 0$\n",
        "\n",
        "## $a_{2,i} = {{f''(x_i)}\\over{2}}$\n",
        "\n",
        "## Условие (4)\n",
        "\n",
        "$\\delta S''_{3,i}(x)|_{x=x_i+1} = S''_{3,i}(x_{i+1}) - f''(x_{i+1}) = 0$ \n",
        "\n",
        "$ S''_{3,i}(x_{i+1}) - f''(x_{i+1}) = 0$ \n",
        "\n",
        "Подставляем: \n",
        "\n",
        "$ 6a_{3,i}(x_{i+1}-x_i) + 2a_{2,i} - f''(x_{i+1}) =0$\n",
        "\n",
        "$ 6a_{3,i}(x_{i+1}-x_i) + 2{{f''(x_i)}\\over{2}}  - f''(x_{i+1}) =0$\n",
        "\n",
        "$ 6a_{3,i}(x_{i+1}-x_i) + f''(x_i)  - f''(x_{i+1}) =0$\n",
        "\n",
        "## $ a_{3,i} =  {{f''(x_{i+1}) - f''(x_i)}\\over{6(x_{i+1}-x_i)}} $\n",
        "\n",
        "## Условие (2)\n",
        "\n",
        "$\\delta S_{3,i}(x)|_{x=x_i+1} = S_{3,i}(x_{i+1}) - f(x_{i+1}) = 0$ \n",
        "\n",
        "$S_{3,i}(x_{i+1}) - f(x_{i+1}) = 0$\n",
        "\n",
        "$a_{0,i} + a_{1,i}(x_{i+1} - x_i) + a_{2,i}(x_{i+1}-x_i)^2 + a_{3,i}(x_{i+1}-x_i)^3 - f(x_{i+1}) =0$\n",
        "\n",
        "$f(x_i) + a_{1,i}(x_{i+1} - x_i) + {{f''(x_i)}\\over{2}}(x_{i+1}-x_i)^2 + {{f''(x_{i+1}) - f''(x_i)}\\over{6(x_{i+1}-x_i)}}(x_{i+1}-x_i)^3 - f(x_{i+1}) =0$\n",
        "\n",
        "\n",
        "$a_{1,i}(x_{i+1} - x_i) =f(x_{i+1})-f(x_i) - {{f''(x_i)}\\over{2}}(x_{i+1}-x_i)^2 - + {{f''(x_{i+1}) - f''(x_i)}\\over{6(x_{i+1}-x_i)}}(x_{i+1}-x_i)^3$\n",
        "\n",
        "## $a_{1,i} ={f(x_{i+1})-f(x_i)\\over{(x_{i+1} - x_i)}}- {{f''(x_i)}\\over{2}}(x_{i+1}-x_i) - + {{f''(x_{i+1}) - f''(x_i)}\\over{6}}(x_{i+1}-x_i)$\n",
        "\n",
        "## Составим систему \n",
        "\n",
        "$\n",
        "\\begin{cases}\n",
        "a_{0,i}=f(x_i)\\\\\n",
        "a_{1,i} ={f(x_{i+1})-f(x_i)\\over{(x_{i+1} - x_i)}}- {{f''(x_i)}\\over{2}}(x_{i+1}-x_i) - + {{f''(x_{i+1}) - f''(x_i)}\\over{6}}(x_{i+1}-x_i)\\\\\n",
        "a_{2,i} = {{f''(x_i)}\\over{2}}\\\\\n",
        "a_{3,i} =  {{f''(x_{i+1}) - f''(x_i)}\\over{6(x_{i+1}-x_i)}}\n",
        "\\end{cases}\n",
        "$\n",
        "\n",
        "\\\\\n",
        "$\n",
        "\\begin{cases}\n",
        "a_{0,i}=f(x_i)\\\\\n",
        "a_{1,i} = {1\\over{(x_{i+1} - x_i)}} (f(x_{i+1})-f(x_i) )- {{(x_{i+1}-x_i)}\\over{2}}f''(x_i) - + {{(x_{i+1}-x_i)}\\over{6}}f''(x_{i+1}) - f''(x_i)\\\\\n",
        "a_{2,i} = {{f''(x_i)}\\over{2}}\\\\\n",
        "a_{3,i} =  {{1}\\over{6(x_{i+1}-x_i)}}(f''(x_{i+1}) - f''(x_i))\n",
        "\\end{cases}\n",
        "$\n",
        "\n",
        "\\\\\n",
        "\n",
        "Заменим $f(x_i)$ на $f_i$ для удобства\n",
        "\n",
        "\n",
        "$\n",
        "\\begin{cases}\n",
        "a_{0,i}=f_i\\\\\n",
        "a_{1,i} = {1\\over{(x_{i+1} - x_i)}} (f_{i+1}-f_i )- {{(x_{i+1}-x_i)}\\over{2}}f''_i - + {{(x_{i+1}-x_i)}\\over{6}}f''_{i+1} - f''_i\\\\\n",
        "a_{2,i} = {{f''_i}\\over{2}}\\\\\n",
        "a_{3,i} =  {{1}\\over{6(x_{i+1}-x_i)}}(f''_{i+1} - f''_i)\n",
        "\\end{cases}\n",
        "$\n",
        "\n",
        "\\\\\n",
        "Введем обозначения \n",
        "\n",
        "$h_{i+1}=x_{i+1}-x_i\\\\\n",
        "\\Delta f_i = f_{i+1} - f_i\\\\\n",
        "\\Delta m_i = m_{i+1} - m_i\n",
        "$\n",
        "\n",
        "\\\\\n",
        "$\n",
        "\\begin{cases}\n",
        "a_{0,i}=f_i\\\\\n",
        "a_{1,i} = {1\\over{h_{i+1}}} \\Delta f_i- {{h_{i+1}}\\over{2}}m_i - + {{h_{i+1}}\\over{6}} \\Delta m_{i}\\\\\n",
        "a_{2,i} = {{m_i}\\over{2}}\\\\\n",
        "a_{3,i} =  {{1}\\over{6h_{i+1}}}\\Delta m_i\n",
        "\\end{cases}\n",
        "$\n",
        "\n",
        "\\\\\n",
        "Подставим в исходный полином $S_{3,i}(x)$: \n",
        "\n",
        "$S_{3,i}(x) = f_i+({1\\over{h_{i+1}}}\\Delta f_i - {h_{i+1}\\over2}m_i - {h_{i+1}\\over6}\\Delta m_i)(x - x_i) + {m_i\\over2}(x-x_i)^2+{1\\over{6h_{i+1}}}\\Delta m_i(x-x_i)^3$ \n",
        "\n",
        "$i=1,n-1$ with top underline\n",
        "\n"
      ]
    },
    {
      "cell_type": "markdown",
      "metadata": {
        "id": "y6abd42AUFbl",
        "colab_type": "text"
      },
      "source": [
        "Lets write right part $S_{3,i}(x) = f_i+({1\\over{h_{i+1}}}\\Delta f_i - {h_{i+1}\\over2}m_i - {h_{i+1}\\over6}\\Delta m_i)(x - x_i) + {m_i\\over2}(x-x_i)^2+{1\\over{6h_{i+1}}}\\Delta m_i(x-x_i)^3$ для $S_{3,i-1}(x)$\n",
        "\n",
        "$S_{3,i-1}(x) = f_{i-1}+({1\\over{h_{i}}}\\Delta f_{i-1} - {h_{i}\\over2}m_{i-1} - {h_{i}\\over6}\\Delta m_{i-1})(x - x_{i-1}) + {m_{i-1}\\over2}(x-x_{i-1})^2+{1\\over{6h_{i}}}\\Delta m_{i-1}(x-x_{i-1})^3$\n",
        "\n",
        "Take derivative  \n",
        "\n",
        "$S'_{3,i-1}(x) = ({1\\over{h_{i}}}\\Delta f_{i-1} - {h_{i}\\over2}m_{i-1} - {h_{i}\\over6}\\Delta m_{i-1}) + {m_{i-1}}(x-x_{i-1})+{1\\over{2h_{i}}}\\Delta m_{i-1}(x-x_{i-1})^2$\n",
        "\n",
        "Take derivative from S_{3,i}(x)\n",
        "\n",
        "$S'_{3,i}(x) = ({1\\over{h_{i+1}}}\\Delta f_i - {h_{i+1}\\over2}m_i - {h_{i+1}\\over6}\\Delta m_i) + {m_i}(x-x_i)+{1\\over{2h_{i+1}}}\\Delta m_i(x-x_i)^2$\n",
        "\n",
        "Make them equal\n",
        " \n",
        "$({1\\over{h_{i}}}\\Delta f_{i-1} - {h_{i}\\over2}m_{i-1} - {h_{i}\\over6}\\Delta m_{i-1}) + {m_{i-1}}(x-x_{i-1})+{1\\over{2h_{i}}}\\Delta m_{i-1}(x-x_{i-1})^2=({1\\over{h_{i+1}}}\\Delta f_i - {h_{i+1}\\over2}m_i - {h_{i+1}\\over6}\\Delta m_i) + {m_i}(x-x_i)+{1\\over{2h_{i+1}}}\\Delta m_i(x-x_i)^2$\n",
        "\n",
        "Permutations and subtractions: \n",
        "\n",
        "${h_i\\over6}m_{i-1} + {h_i+h_{i+1}\\over3}m_i+{h_{i+1}\\over6m_i+1} = {\\Delta f_i\\over {h_{i+1}}} - {\\Delta f_{i-1}\\over h_i}, i=1, n-1$ with top underline"
      ]
    },
    {
      "cell_type": "markdown",
      "metadata": {
        "id": "1tsWmdob4S7L",
        "colab_type": "text"
      },
      "source": [
        "### 6. Create a system of equations using this formula [Matrix representation. Mathematical formulas]"
      ]
    },
    {
      "cell_type": "markdown",
      "metadata": {
        "id": "2TRvdQfOWXOC",
        "colab_type": "text"
      },
      "source": [
        "We know that system of Tridiagonal matrix has view: \n",
        "\n",
        "$\\alpha _ix_{i-1} - \\beta _ix_i + \\gamma _ix_{i+1} = \\delta _i$\n",
        "\n",
        "it is the matrix: \n",
        "\n",
        "$\n",
        "\\begin{bmatrix}\n",
        "-\\beta_1&\\gamma_1&0&0&...&0&0&\\delta_1\\\\\n",
        "\\alpha_2&-\\beta_2&\\gamma_2&0&...&0&0&\\delta_2\\\\\n",
        "0&\\alpha_3&-\\beta_3&\\gamma_3&...&0&0&\\delta_3\\\\\n",
        "...&...&...&...&...&...&...&...\\\\\n",
        "0&0&...&...&...&\\alpha_n&-\\beta_n&\\delta_n\n",
        "\\end{bmatrix}\n",
        "$\n",
        "\n",
        "Our result recursive formula is \n",
        "\n",
        "${h_i\\over6}m_{i-1}+{{h_i+h_{i+1}\\over3}m_i} + {h_{i+1}\\over6}m_{i+1} = {\\Delta f_i\\over h_{i+1}}-{\\Delta f_{i-1}\\over h_i}, i=1,n-1$ with top underline \n",
        "\n",
        "We can see that it is the same:\n",
        "\n",
        "$ \\alpha = {h_i\\over6}\\\\\n",
        "\\beta = {h_i+h_{i+1}\\over 3}\\\\\n",
        "\\gamma = {h_{i+1}\\over 6}\\\\\n",
        "\\delta = {\\Delta f_i\\over h_{i+1}} - {\\Delta f_{i-1}\\over h_i}$"
      ]
    },
    {
      "cell_type": "markdown",
      "metadata": {
        "id": "DV1RvdXl4S7P",
        "colab_type": "text"
      },
      "source": [
        "### 7. Explain what is an unknown variable in this system. whether the system is closed with respect to an unknown variable. What is missing for closure. [Text, no more than 200 characters]"
      ]
    },
    {
      "cell_type": "markdown",
      "metadata": {
        "id": "0AbXzAT06KPX",
        "colab_type": "text"
      },
      "source": [
        "m is what we are working with. The system is not closed under $m_i(i=0,n)$ with top underline because two equations are missing. In simple case (and also in our case) we can set $m_0=0; m_n=0$\n",
        "\n",
        "\n",
        "\n",
        "\n",
        "\n",
        "\n",
        "\n",
        "\n"
      ]
    },
    {
      "cell_type": "markdown",
      "metadata": {
        "id": "v4r1_NvE4S7U",
        "colab_type": "text"
      },
      "source": [
        "### 8. Bring this matrix to the appropriate form to use the Tridiagonal matrix algorithm [Mathematical derivation. Use Gauss Elimination]"
      ]
    },
    {
      "cell_type": "markdown",
      "metadata": {
        "id": "hAEac6G9dXl-",
        "colab_type": "text"
      },
      "source": [
        "Gauss elimination on the first two rows of the matrix: \n",
        "\n",
        "**Step 1:** divide 1st row by ${h_1+h_2\\over 3}$\n",
        "\n",
        "Result: \n",
        "\n",
        "$$\n",
        "\\begin{bmatrix}\n",
        "1&{h_2\\over 2(h_1+h_2)}&0&...&0&({\\Delta f_1\\over h_2} - {\\Delta f_0\\over h_1}){3\\over h_1+h_2}\\\\\n",
        "\\end{bmatrix}\n",
        "$$\n",
        "\n",
        "**Step 2:** subtract 1st row multiplied by ${h_2\\over 6}$ from 2nd row:\n",
        "\n",
        "Result: \n",
        "\n",
        "$\n",
        "\\begin{bmatrix}\n",
        "1&{h_2\\over 2(h_1+h_2)}&0&...&0&({\\Delta f_1\\over h_2} - {\\Delta f_0\\over h_1}){3\\over h_1+h_2}\\\\\n",
        "0&{{-h_2^2+4(h_1+h_2)(h_2+h_3)}\\over {12(h_1+h_2)}}&{h_3\\over6}&...&0&{2(\\Delta f_2h_2-\\Delta f_1h_3)h_1(h_1+h_2)-(\\Delta f_1h_1 - \\Delta f_0h_2)h_2h_3 \\over {2h_1h_2h_3(h_1+h_2)}}\n",
        "\\end{bmatrix}\n",
        "$\n",
        "\n",
        "**Step 3:** divide 2nd row by ${{-h_2^2+4(h_1+h_2)(h_2+h_3)}\\over {12(h_1+h_2)}}$\n",
        "\n",
        "Result: \n",
        "\n",
        "$\n",
        "\\begin{bmatrix}\n",
        "1&{h_2\\over 2(h_1+h_2)}&0&...&0&({\\Delta f_1\\over h_2} - {\\Delta f_0\\over h_1}){3\\over h_1+h_2}\\\\\n",
        "0&1&{2h_3(h_1+h_2) \\over 4(h_2+h_3)(h_1+h_2) - h_2}&...&0&{6h_2^2h_3\\Delta f_0 + 12 (h_1+h_2)\\Delta f_2 +h_2h_1 - 12 (h_1+h_2)\\Delta f_1h_1h_3 - h_1h_2h_36 \\Delta f_1 \\over {h_1h_2h_3(4(h_2+h_3)(h_1+h_2)-h_2^2)}}\n",
        "\\end{bmatrix}\n",
        "$\n",
        "\n",
        "By continuing this operations we get matrix: \n",
        "\n",
        "$\n",
        "\\begin{bmatrix}\n",
        "1&-P_1&0&0&...&Q_1\\\\\n",
        "0&1&-P_2&0&...&Q_2\\\\\n",
        "0&0&1&-P_3&...&Q_3\\\\\n",
        "...&...&...&...&...&...\\\\\n",
        "0&0&0&1&...&Q_n\n",
        "\\end{bmatrix}\n",
        "$\n",
        "\n",
        "$P_i$ and $Q_i$ are formulas from question 9."
      ]
    },
    {
      "cell_type": "markdown",
      "metadata": {
        "id": "lyUQYYBF4S7c",
        "colab_type": "text"
      },
      "source": [
        "### 9. Derive formulas of direct pass and reverse pass of Tridiagonal matrix algorithm [Mathematical formals]"
      ]
    },
    {
      "cell_type": "markdown",
      "metadata": {
        "id": "AUwBwD8Ftigs",
        "colab_type": "text"
      },
      "source": [
        "From matrix we can see that:\n",
        "\n",
        "$x_i=P_ix_{i+1}+Q_{i}$\n",
        "\n",
        "$i=1,n-1$ with top underline\n",
        "\n",
        "To get $P_i, Q_i$:\n",
        "\n",
        "$x_{i-1}=P_{i-1}x_i + Q_{i-1}$\n",
        "\n",
        "Put it in $\\alpha _ix_{i-1} - \\beta _ix_i + \\gamma _ix_{i+1} = \\delta _i$\n",
        "\n",
        "$\\alpha _i(P_{i-1}x_i+Q_{i-1}) - \\beta _ix_i + \\gamma _ix_{i+1} = \\delta _i$\n",
        "\n",
        "$x_i={\\delta_i-\\alpha_iQ_{i-1}-\\gamma_ix_{i+1}\\over \\alpha_i P_{i-1} - \\beta_i}$\n",
        "\n",
        "Rewrite it as $x_i=P_ix_{i+1}+Q_{i}$\n",
        "\n",
        "$x_i={-\\gamma_i\\over\\alpha_iP_{i-1}-\\beta_i}(x_i+1)+{\\delta_i-\\alpha_iQ_{i-1}\\over\\alpha_iP_{i-1}-\\beta_i}$\n",
        "\n",
        "We can see that: \n",
        "\n",
        "$P_i = {\\gamma_i\\over\\beta_i-\\alpha_iP_{i-1}}$\n",
        "\n",
        "$Q_i={\\alpha_iQ_{i-1}-\\delta_i\\over\\beta_i-\\alpha_iP_{i-1}}$\n",
        "\n",
        "$i=1,n-1$ with top underline\n",
        "\n",
        "are **direct pass** formulas\n",
        "\n",
        "For reverse pass we compute:\n",
        "\n",
        "$x_{n-1}=P_{n-1}x_n+Q_{n-1}$\n",
        "\n",
        "$\\alpha_nx_{n-1}-\\beta_nx_n+0x_{n+1}=\\delta_n$ - the last equation from matrix\n",
        "\n",
        "then\n",
        "\n",
        "$x_n={\\alpha_nQ_{n-1}-\\beta_n\\over\\beta_n-\\alpha_nP_{n-1}}=Q_n$\n",
        "\n",
        "=> $x_n=Q_n$\n",
        "\n",
        "our **reverse formulas**\n"
      ]
    },
    {
      "cell_type": "markdown",
      "metadata": {
        "id": "Bm3AhVPx4S7f",
        "colab_type": "text"
      },
      "source": [
        "### 10. Implement code prototype of the future algorithm implementation. Classes/methods (if you use OOP), functions. The final implementation (on language chosen by you) should not differ from the functions declared in the prototype. [Python code]"
      ]
    },
    {
      "cell_type": "code",
      "metadata": {
        "id": "Jngdbqt94S7g",
        "colab_type": "code",
        "colab": {}
      },
      "source": [
        "\n",
        "def forward_pass(x_array, y_array):\n",
        "  pass # return Ps and Qs for the matrix based on recursive formulas \n",
        "\n",
        "def backward_pass():\n",
        "  pass # return all x\n",
        "\n"
      ],
      "execution_count": 0,
      "outputs": []
    },
    {
      "cell_type": "markdown",
      "metadata": {
        "id": "ZfoPaLZL4S7h",
        "colab_type": "text"
      },
      "source": [
        "### 11. Derive formula of Cubic Spline method error [Mathematical formulas]"
      ]
    },
    {
      "cell_type": "markdown",
      "metadata": {
        "id": "Mrqx0cQBClzW",
        "colab_type": "text"
      },
      "source": [
        "$||f^{(p)}(x)-S_3^{(p)}(x)||_{C[a,b]} = \\max_{[a,b]}|f^{(p)}(x)-S_3^{(p)}(x)|\\leq M_4h^{4-p},p = 0,1,2$\n",
        "\n",
        "But it assumes that $f(x) \\in C_4[a,b]$ which means that $f(x)$ has 4 derivatives which might be not true, because it **must** have only 2 der."
      ]
    },
    {
      "cell_type": "markdown",
      "metadata": {
        "id": "eFgCLVjk4S7j",
        "colab_type": "text"
      },
      "source": [
        "### 12. Rate the complexity of the algorithm [Text, and rate in terms of big O, no more than 100 characters]"
      ]
    },
    {
      "cell_type": "markdown",
      "metadata": {
        "id": "IMbshDQpEqTl",
        "colab_type": "text"
      },
      "source": [
        "O(n) - for forward pass because we compute for each line\n",
        "O(n) - for backward pass because we compute for each line\n",
        "\n",
        "=> O(2n) = **O(n)**\n",
        "\n",
        "\n",
        "\n",
        "\n",
        "\n",
        "\n"
      ]
    },
    {
      "cell_type": "markdown",
      "metadata": {
        "id": "_Nzr-fvE4S7m",
        "colab_type": "text"
      },
      "source": [
        "### Congrats!"
      ]
    }
  ]
}