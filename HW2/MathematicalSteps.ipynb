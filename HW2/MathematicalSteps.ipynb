{
 "cells": [
  {
   "cell_type": "code",
   "execution_count": 1,
   "metadata": {},
   "outputs": [],
   "source": [
    "import sympy as sp\n",
    "import numpy as np\n",
    "import matplotlib.pyplot as plt"
   ]
  },
  {
   "cell_type": "markdown",
   "metadata": {},
   "source": [
    "### 1. Formulate the statement of the interpolation problem with Cubic Spline [mathematical formula]"
   ]
  },
  {
   "cell_type": "markdown",
   "metadata": {},
   "source": [
    "Cubic spline interpolation task - given a set of known data points $x$ and function values at these points ($y = f(x)$), find a way to approximate function values in between (on a grid) of known points using the global piece-wise (spline) method with each piece interploated using 3-rd degree polynomials. The problem corresponds to finding correct coefficients for each polynomial $S_{3,i}(x)$ and undetermined parameters (function derivative values at points).\n",
    "\n",
    "$S_3(x) \\in C^{(2)}[a, b]$ - smoothness class<br>\n",
    "$S_3(x) = \\bigcup\\limits_{i=0}^{n-1}S_{3,i}(x)$, defined at $x \\in [a, b]$ and $i = \\overline{0, n-1}$,\n",
    "and combined from the union of 3-rd order polynomials $S_{3, i}(x)$ <br>\n",
    "(1) $S_{3, i}(x) = \\sum\\limits_{k=0}^{3}a_{k,i}(x-x_i)^k = \n",
    "a_{0,i} + a_{1,i}(x-x_i) + a_{2,i}(x-x_i)^2 + a_{3,i}(x-x_i)^3$, $x \\in [x_i, x_{i+1}]$"
   ]
  },
  {
   "cell_type": "markdown",
   "metadata": {},
   "source": [
    "## Assumption\n",
    "\n",
    "**Let's assume that we use cubic spline according to first algorithm described in \"Численные методы в примерах и задачах\" by V.I.Kireev and A.V.Panteleev, 3-rd edition, 2008, page 188.** (Also was discussed during the lab 4)\n",
    "\n",
    "This gives us differential orders for $p1$ and $p2$ as\n",
    "\n",
    "$p_1 = \\{0, 2\\}$, $p_2 = \\{1\\}$\n",
    "\n",
    "$p1$ and $p2$ are non-intersecting sets of derivative orders"
   ]
  },
  {
   "cell_type": "markdown",
   "metadata": {},
   "source": [
    "### 2. Formulate the functional and differential compatibility conditions [mathematical formula]"
   ]
  },
  {
   "cell_type": "markdown",
   "metadata": {},
   "source": [
    "- **General form for cubic spline**<br>\n",
    "$\\delta S_{3,i}^{(p_1)}(x_j) = S_{3,i}^{(p_1)}(x)|_{x=x_j} - f^{(p_1)}(x)|_{x=x_j} = 0, \\ j=i,i+1$\n",
    "<br>\n",
    "\n",
    "- **Functional compatibility conditions ($p_1=0$)**<br>\n",
    "(2) $\\delta S_{3,i}(x_j) = S_{3,i}(x_j) - f(x_j) = 0, \\ j=i,i+1$ (2 conditions: 1 for each $j$)\n",
    "<br>\n",
    "\n",
    "- **Differential compatibility conditions ($p_1=2$)**<br>\n",
    "(3) $\\delta S_{3,i}^{''}(x_j) = S_{3,i}^{''}(x_j) - f^{''}(x_j) = 0, \\ j=i,i+1$ (2 conditions: 1 for each $j$)"
   ]
  },
  {
   "cell_type": "markdown",
   "metadata": {},
   "source": [
    "### 3. Formulate stitching conditions [mathematical formula]"
   ]
  },
  {
   "cell_type": "markdown",
   "metadata": {},
   "source": [
    "- **General form for cubic spline** <br>\n",
    "$S_{3,i-1}^{(p_2)}(x)|_{x=x_i} = S_{3,i}^{(p_2)}(x)|_{x=x_i},\\ i=\\overline{1,n-1}$\n",
    "<br>\n",
    "\n",
    "- **Form for $p_1 = 1$** <br>\n",
    "(4) $S_{3,i-1}^{'}(x)|_{x=x_i} = S_{3,i}^{'}(x)|_{x=x_i},\\ i=\\overline{1,n-1}$ "
   ]
  },
  {
   "cell_type": "markdown",
   "metadata": {},
   "source": [
    "### 4. Justify why these conditions provide you with the required smoothness [thesis text, no more than 500 characters]"
   ]
  },
  {
   "cell_type": "markdown",
   "metadata": {},
   "source": [
    "Required smoothness: $S_{3}(x) \\in C^{(2)}[a, b]$, $C^{2}$ - class of functions which have continuous first and second derivatives.\n",
    "\n",
    "Functional compatibility conditions help us to solve interpolation task (add equations) and make the whole function continuous.\n",
    "\n",
    "Differential compatibility conditions (for $p = 2$) provide us with required smoothness ($C^{2}$) for all points in each piece of spline polynomial, except stitching points.\n",
    "\n",
    "Stitching conditions help us to connect unknown part of parameters with already known parameters (such as express $f^{''}$ through $f$) and help to avoid absence of derivative in stitching point in order not to get such type of curve (picture for quadratic spline, but idea is the same)\n",
    "\n",
    "![title](ex.png)\n",
    "\n",
    "All these conditions help us to achieve required smoothness for $S_{3, i}(x)$"
   ]
  },
  {
   "cell_type": "markdown",
   "metadata": {},
   "source": [
    "### 5. Derive dependency formula: the dependence of the second derivatives at the grid nodes on the increment of the function (the function values difference on the grid nodes). [Mathematical formulas derivation. Detailed, with clear transitions]"
   ]
  },
  {
   "cell_type": "markdown",
   "metadata": {},
   "source": [
    "Let's use formulas (1), (2) and (3).\n",
    "\n",
    "Compute derivatives for (1)\n",
    "(1) $S_{3, i}(x) = a_{0,i} + a_{1,i}(x-x_i) + a_{2,i}(x-x_i)^2 + a_{3,i}(x-x_i)^3$ <br>\n",
    "$S_{3, i}^{'}(x) = a_{1,i} + 2a_{2,i}(x-x_i) + 3a_{3,i}(x-x_i)^2$ <br>\n",
    "$S_{3, i}^{''}(x) = 2a_{2,i} + 6a_{3,i}(x-x_i)$\n",
    "\n",
    "Plug (1) in (2) and (3) and receive system of linear equations, from which we will find coefficients of i-th polynomial.\n",
    "\n",
    "$\\begin{cases}\n",
    "\\delta S_{3,i}(x_i) = S_{3,i}(x_i) - f(x_i) = 0 \\\\\n",
    "\\delta S_{3,i}(x_{i+1}) = S_{3,i}(x_{i+1}) - f(x_{i+1}) = 0 \\\\\n",
    "\\delta S_{3,i}^{''}(x_i) = S_{3,i}^{''}(x_i) - f^{''}(x_i) = 0 \\\\\n",
    "\\delta S_{3,i}^{''}(x_{i+1}) = S_{3,i}^{''}(x_{i+1}) - f^{''}(x_{i+1}) = 0 \\\\\n",
    "\\end{cases}$\n",
    "\n",
    "$\\Downarrow$\n",
    "\n",
    "$\\begin{cases}\n",
    "a_{0,i} - f_i = 0 \\\\\n",
    "a_{0,i} + a_{1,i}(x_{i+1}-x_i) + a_{2,i}(x_{i+1}-x_i)^2 + a_{3,i}(x_{i+1}-x_i)^3 - f_{i+1} = 0 \\\\\n",
    "2a_{2,i} - f_i^{''} = 0 \\\\\n",
    "2a_{2,i} + 6a_{3,i}(x_{i+1} - x_i) - f_{i+1}^{''} = 0 \\\\\n",
    "\\end{cases}$\n",
    "\n",
    "$\\Downarrow$\n",
    "\n",
    "Let <br>\n",
    "$m_i = f_i^{''}$ <br>\n",
    "$h_{i+1} = x_{i+1} - x_i$ <br>\n",
    "$\\Delta f_i = f_{i+1} - f_i$ <br>\n",
    "$\\Delta m_i = m_{i+1} - m_i$ <br>\n",
    "\n",
    "$\\begin{cases}\n",
    "a_{0,i} = f_i  \\\\\n",
    "a_{1,i} = \\cfrac{1}{h_{i+1}}\\Delta f_i - \\cfrac{h_{i+1}}{2}m_i - \\cfrac{h_{i+1}}{6}\\Delta m_i \\\\\n",
    "a_{2,i} = \\cfrac{m_i}{2} \\\\\n",
    "a_{3,i} = \\cfrac{1}{6h_{i+1}}\\Delta m_i \\\\\n",
    "\\end{cases}$"
   ]
  },
  {
   "cell_type": "markdown",
   "metadata": {},
   "source": [
    "After finding coefficients, we obtain\n",
    "\n",
    "$S_{3, i}(x) = f_i\n",
    "+ [\\cfrac{1}{h_{i+1}}\\Delta f_i - \\cfrac{h_{i+1}}{2}m_i - \\cfrac{h_{i+1}}{6}\\Delta m_i](x-x_i)\n",
    "+ \\cfrac{m_i}{2}(x-x_i)^2 \n",
    "+ \\cfrac{1}{6h_{i+1}}\\Delta m_i(x-x_i)^3$\n",
    "\n",
    "And now, we want to find undetermined parameters $m_i\\ (i = \\overline{0,n})$ <br>\n",
    "This can be done using stitching conditions (4): <br>\n",
    "$S_{3,i-1}^{'}(x)|_{x=x_i} = S_{3,i}^{'}(x)|_{x=x_i},\\ i=\\overline{1,n-1}$ <br>\n",
    "$S_{3,i-1}$ piece for $x \\in [x_{i-1}, x_i]$ <br>\n",
    "$S_{3,i}$ piece for $x \\in [x_{i}, x_{i+1}]$ <br>\n",
    "\n",
    "$S_{3,i-1}^{'}(x)|_{x=x_i} =\n",
    "\\cfrac{1}{h_{i}}\\Delta f_{i-1} - \\cfrac{h_{i}}{2}m_{i-1} - \\cfrac{h_{i}}{6}\\Delta m_{i-1}\n",
    "+ m_{i-1}h_i + \\cfrac{\\Delta m_{i-1}h_i}{2}$\n",
    "\n",
    "$S_{3,i}^{'}(x)|_{x=x_i} = \\cfrac{1}{h_{i+1}}\\Delta f_{i} - \\cfrac{h_{i+1}}{2}m_{i} - \\cfrac{h_{i+1}}{6}\\Delta m_{i}$\n",
    "\n",
    "$\\cfrac{1}{h_{i}}\\Delta f_{i-1} - \\cfrac{h_{i}}{2}m_{i-1} - \\cfrac{h_{i}}{6}\\Delta m_{i-1}\n",
    "+ m_{i-1}h_i + \\cfrac{\\Delta m_{i-1}h_i}{2} = \\cfrac{1}{h_{i+1}}\\Delta f_{i} - \\cfrac{h_{i+1}}{2}m_{i} - \\cfrac{h_{i+1}}{6}\\Delta m_{i}$\n",
    "\n",
    "$\\cfrac{\\Delta f_i}{h_{i+1}} - \\cfrac{\\Delta f_{i-1}}{h_{i}} = \n",
    "\\cfrac{h_i}{6}m_{i-1} + \\cfrac{h_i+h_{i+1}}{3}m_i + \\cfrac{h_i}{6}m_{i+1}$\n",
    "\n",
    "We assume that $h_{i+1} = h_i = const$, then\n",
    "\n",
    "$$(5)\\ \\cfrac{\\Delta f_i - \\Delta f_{i-1}}{h} = \n",
    "\\cfrac{h}{6}m_{i-1} + \\cfrac{2h}{3}m_i + \\cfrac{h}{6}m_{i+1},\\ i = \\overline{1, n-1}$$ <br>\n",
    "$$\\Uparrow$$ <br>\n",
    "The dependence of the second derivatives ($m$'s) at the grid nodes on the increment of the function."
   ]
  },
  {
   "cell_type": "markdown",
   "metadata": {},
   "source": [
    "### 6. Create a system of equations using this formula [Matrix representation. Mathematical formulas]"
   ]
  },
  {
   "cell_type": "markdown",
   "metadata": {},
   "source": [
    "Using (5), we obtain matix $A$\n",
    "\n",
    "$\n",
    "A \\cdot m = \\delta \\Rightarrow \n",
    "\\begin{bmatrix}\n",
    "\\cfrac{h}{6} &\\cfrac{2h}{3} & \\cfrac{h}{6}  & 0         & 0        & \\dots & 0 & 0 & 0\\\\\n",
    "0 & \\cfrac{h}{6} & \\cfrac{2h}{3} & \\cfrac{h}{6}  & 0        & \\dots & 0 & 0 & 0\\\\\n",
    "0& 0 & \\cfrac{h}{6}  & \\cfrac{2h}{3} & \\cfrac{h}{6} & \\dots & 0 & 0 & 0\\\\\n",
    "\\dots & \\dots & \\dots & \\dots & \\dots & \\dots & \\dots & \\dots & \\dots     \\\\\n",
    "0 & 0 & 0 & \\dots & \\dots & \\dots & \\cfrac{h}{6} & \\cfrac{2h}{3} & \\cfrac{h}{6}\\\\\n",
    "\\end{bmatrix}\n",
    "\\cdot\n",
    "\\begin{bmatrix}\n",
    "m_0 \\\\\n",
    "m_1 \\\\\n",
    "m_2 \\\\\n",
    "m_3 \\\\\n",
    "\\dots \\\\\n",
    "m_n\n",
    "\\end{bmatrix}\n",
    "=\n",
    "\\begin{bmatrix}\n",
    "\\cfrac{\\Delta f_1 - \\Delta f_0}{h} \\\\\n",
    "\\dots \\\\\n",
    "\\dots \\\\\n",
    "\\cfrac{\\Delta f_{n-1} - \\Delta f_{n-2}}{h} \\\\\n",
    "\\end{bmatrix}\n",
    "$\n",
    "\n",
    "Dimensionalities: \n",
    "$\\underset{(n-1)\\text{x}(n+1)}{A} \\cdot \\underset{(n+1)\\text{x}1}{m} = \\underset{(n-1)\\text{x}1}{\\delta}$"
   ]
  },
  {
   "cell_type": "markdown",
   "metadata": {},
   "source": [
    "### 7. Explain what is an unknown variable in this system. whether the system is closed with respect to an unknown variable. What is missing for closure. [Text, no more than 200 characters]"
   ]
  },
  {
   "cell_type": "markdown",
   "metadata": {},
   "source": [
    "Unknown variables in this system are $m_i\\ (i = \\overline{0,n}) \\Rightarrow$ we have $n+1$ unknown variables.\n",
    "\n",
    "The system given in (5) is not closed with respect to an unknown variables, because we have $n - 1$. equations This happened, because we don't know function values at points $f_{-1}$ and $f_{n+1}$ in order to compute $m_0$ and $m_n$. Thus we need \"border conditions\". For natural spline these border conditions are: $m_0 = 0;\\ m_n = 0$\n",
    "\n",
    "Border conditions add 2 missing equations for the system (5) and make the whole system closed."
   ]
  },
  {
   "cell_type": "markdown",
   "metadata": {},
   "source": [
    "### 8. Bring this matrix to the appropriate form to use the Tridiagonal matrix algorithm [Mathematical derivation. Use Gauss Elimination]"
   ]
  },
  {
   "cell_type": "markdown",
   "metadata": {},
   "source": [
    "Now we know that $m_0$ and $m_n$ are equal to $0 \\Rightarrow$ remove first and last columns of matrix A (they do not influence calculations)<br>\n",
    "Let's compose extended matrix including output vector (we have a system $Ax = b$, so add $b$ to A as last column).\n",
    "\n",
    "Let last column values $\\cfrac{\\Delta f_i - \\Delta f_{i-1}}{h}$ be $\\delta_i$\n",
    "\n",
    "And now we obtain extended matrix $A_1$, which is well-suited for tridiagonal matrix algorithm\n",
    "\n",
    "$A_1 =\n",
    "\\begin{bmatrix}\n",
    "\\cfrac{2h}{3} & \\cfrac{h}{6}  & 0         & 0        & \\dots & 0 & 0 & \\delta_1\\\\\n",
    "\\cfrac{h}{6}  & \\cfrac{2h}{3} & \\cfrac{h}{6}  & 0        & \\dots & 0 & 0 & \\delta_2\\\\\n",
    "0         & \\cfrac{h}{6}  & \\cfrac{2h}{3} & \\cfrac{h}{6} & \\dots & 0 & 0 & \\delta_3\\\\\n",
    "\\dots & \\dots & \\dots & \\dots & \\dots & \\dots & \\dots      \\\\\n",
    "0 & 0 & \\dots & \\dots & \\dots & \\cfrac{h}{6} & \\cfrac{2h}{3} & \\delta_{n-1}\\\\\n",
    "\\end{bmatrix}\n",
    ";\\ m =\n",
    "\\begin{bmatrix}\n",
    "m_1 \\\\\n",
    "m_2 \\\\\n",
    "m_3 \\\\\n",
    "\\dots \\\\\n",
    "m_{n-1}\n",
    "\\end{bmatrix}\n",
    "; m_0 = m_n = 0\n",
    "$\n",
    "\n",
    "$A_1(\\text{without }\\delta \\text{ column}) \\cdot m = \\delta$ gives us $(n-1)$ equations, and $m_0 = m_n = 0$  2 more - in total $n+1$ equations"
   ]
  },
  {
   "cell_type": "markdown",
   "metadata": {},
   "source": [
    "### 9. Derive formulas of direct pass and reverse pass of Tridiagonal matrix algorithm [Mathematical formals]"
   ]
  },
  {
   "cell_type": "markdown",
   "metadata": {},
   "source": [
    "Now we need to apply alogrithm of direct pass by Gauss and get enchanced matrix $\\hat{A}_1$\n",
    "\n",
    "$\\hat{A}_1 =\n",
    "\\begin{bmatrix}\n",
    "1 & \\cfrac{1}{4}  & 0         & 0        & \\dots & 0 & 0 & \\cfrac{3\\delta_1}{2h} (=Q_1)\\\\\n",
    "0  & 1 & \\cfrac{4}{15}  & 0        & \\dots & 0 & 0 & \\cfrac{24\\cdot(\\delta_2 - Q_1*\\cfrac{h}{6})}{15h} (=Q_2)\\\\\n",
    "0         & 0  & 1 & \\cfrac{15}{56} & \\dots & 0 & 0 & \\cfrac{5(\\delta_3-Q_2*\\cfrac{h}{6})}{3h} (=Q_3)\\\\\n",
    "\\dots & \\dots & \\dots & \\dots & \\dots & \\dots & \\dots      \\\\\n",
    "0 & 0 & \\dots & \\dots & \\dots & 0 & 1 & {Q_{n-1}}\\\\\n",
    "\\end{bmatrix}\n",
    "$\n",
    "\n",
    "General forms of these matrices are\n",
    "\n",
    "$\n",
    "A_1 =\n",
    "\\begin{bmatrix}\n",
    "b_1 & c_1 & 0 & 0 & \\dots & 0 & 0 & \\delta_1\\\\\n",
    "a_2 & b_2 & c_2 & 0 & \\dots & 0 & 0 & \\delta_2\\\\\n",
    "0 & a_3 & b_3 & c_3 & \\dots & 0 & 0 & \\delta_3\\\\\n",
    "\\dots & \\dots & \\dots & \\dots & \\dots & \\dots & \\dots      \\\\\n",
    "0 & 0 & \\dots & \\dots & \\dots & a_{n-1} & b_{n-1} & \\delta_{n-1}\\\\\n",
    "\\end{bmatrix}\n",
    ";\\ \\hat{A}_1 =\n",
    "\\begin{bmatrix}\n",
    "1 & P_1 & 0 & 0 & \\dots & 0 & 0 & Q_1\\\\\n",
    "0 & 1 & P_2 & 0 & \\dots & 0 & 0 & Q_2\\\\\n",
    "0 & 0 & 1 & P_3 & \\dots & 0 & 0 & Q_3\\\\\n",
    "\\dots & \\dots & \\dots & \\dots & \\dots & \\dots & \\dots      \\\\\n",
    "0 & 0 & \\dots & \\dots & \\dots & 0 & 1 & {Q_{n-1}}\\\\\n",
    "\\end{bmatrix}\n",
    "$"
   ]
  },
  {
   "cell_type": "markdown",
   "metadata": {},
   "source": [
    "First of all, we need to apply Gauss elimination for tridiagonal matrix, which is done by <br>\n",
    "substituring $c_i$ with recursively computed values ($P_i$), $b_i$ with $1$ and $a_i$ with $0$<br>\n",
    "\n",
    "To compute $P_i$ we divide $c_i$ by the row normalization element - make $b_i = 1$(row diagonal element($b_i$) - coefficient makes $a_i = 0$\n",
    "($a_i\\cdot P_{i-1}$)), so <br>\n",
    "\n",
    "(6) $P_i = \\cfrac{c_i}{b_i - a_i \\cdot P_{i-1}} = \\cfrac{\\cfrac{h}{6}}{\\cfrac{2h}{3}-\\cfrac{h}{6}\\cdot P_{i-1}} =\n",
    "\\cfrac{1}{4-P_{i-1}}$, if $i=1$ then compute without $P_{i-1}$ <br>\n",
    "\n",
    "To compute $Q_i$ we subtract $a_i \\cdot Q_{i-1}$, which corresponds to zeroing $a_i$ and then divide by the same value as $P_i$ <br>(corresponds to normalizing the row -> making $b_i = 1$), so <br>\n",
    "\n",
    "(7) $Q_i = \\cfrac{\\delta_i - a_i*Q_{i-1}}{b_i - a_i \\cdot P_{i-1}} =\n",
    "\\cfrac{6\\delta_i-h Q_{i-1}}{h(4-P_{i-1})}$, if $i=1$ then compute without $hQ_{i-1}$ <br> \n",
    "\n",
    "**Formulas for $P_i \\text{ and } Q_i$ correspond to direct pass (computing this coefficients to get $\\hat{A}_1$ from $A_1$)**<br>\n",
    "\n",
    "Reverse pass starts with computing $m_{n-1}$ as $Q_{n-1}$ (already computed during direct pass)<br>\n",
    "Having a system with $P's$ and $Q's$ we can compute unknown variables ($m's$) as follows <br>\n",
    "restructure system of linear equations back as<br>\n",
    "$\\hat{A}_1(\\text{without } Q) \\cdot m = Q$ <br>\n",
    "$\\Downarrow$\n",
    "\n",
    "(8) $m_i = Q_i - m_{i+1}\\cdot P_i $, $i = \\overline{1, n-1}$, $m_0 = m_n = 0$\n",
    "\n",
    "**Formula (8) corresponds to reverse pass of tridiagonal algorithm**"
   ]
  },
  {
   "cell_type": "markdown",
   "metadata": {},
   "source": [
    "### 10. Implement code prototype of the future algorithm implementation. Classes/methods (if you use OOP), functions. The final implementation (on language chosen by you) should not differ from the functions declared in the prototype. [Python code]"
   ]
  },
  {
   "cell_type": "code",
   "execution_count": 18,
   "metadata": {},
   "outputs": [],
   "source": [
    "def compute_PQ(N: int, f: list, h: float) -> (list, list):\n",
    "    \"\"\"Compute P and Q coefficients, according to \n",
    "    formulas (6) and (7).\n",
    "    \"\"\"\n",
    "    pass\n",
    "\n",
    "def compute_m(Q: list, P: list)-> list:\n",
    "    \"\"\"Compute m coefficients, according to formula (8).\"\"\"\n",
    "    pass\n",
    "\n",
    "def compute_coefficients(f: list, m: list, h: float) -> (list, list):\n",
    "    \"\"\"Compute a coefficients, according to task 5 a1, a2, a3, a4 values.\"\"\"\n",
    "    pass\n",
    "\n",
    "def compute_value(S: list, x: float, x_i: float) -> float:\n",
    "    \"\"\"Compute function value in point of spline\"\"\"\n",
    "    dx = x - x_i\n",
    "    return S[0] + S[1] * dx + S[2] * dx**2 + S[3] * dx**3\n",
    "\n",
    "def main():\n",
    "    read_values(N, x, f)\n",
    "    h = x[1] - x[0] # if N > 1\n",
    "    P, Q = compute_PQ(N, f, h)\n",
    "    m = compute_m(Q, P)\n",
    "    S[N - 1] # spline for N-1 pieces, 4 coef. each\n",
    "    for i in range(N-1):\n",
    "        a, b, c, d = compute_coefficients(f, m, h)\n",
    "        S[i] = (a, b, c, d)\n",
    "        \n",
    "    read_values(x_new)\n",
    "    for xd in x_new:\n",
    "        if xd belongs to i-th cell:\n",
    "            res = compute_value(S[i], xd, x_i)\n",
    "            print(res)\n"
   ]
  },
  {
   "cell_type": "markdown",
   "metadata": {},
   "source": [
    "### 11. Derive formula of Cubic Spline method error [Mathematical formulas]"
   ]
  },
  {
   "cell_type": "markdown",
   "metadata": {},
   "source": [
    "In \"Численные методы в примерах и задачах\" by V.I.Kireev and A.V.Panteleev, page 192, they say that the method error can be estimated by following formula\n",
    "\n",
    "$||f^{(p)}(x) - S_3^{(p)}(x)||_{C[a,b]} = \\max_{[a, b]}|f^(p)(x) - S_3^{(p)}(x)|\n",
    "\\le M_4h^{4-p}$, for $p=0,1,2$\n",
    "\n",
    "If we consider natural spline, the artificial border conditions ($m_0 = m_n = 0$) can not be hold for some interpolated functions, which leads to the reduction of precision. Instead of 4'th order precision, natural spline has only 2'nd order precision according to [source](http://scask.ru/i_book_clm.php?id=90). <br>"
   ]
  },
  {
   "cell_type": "markdown",
   "metadata": {},
   "source": [
    "### 12. Rate the complexity of the algorithm [Text, and rate in terms of big O, no more than 100 characters]"
   ]
  },
  {
   "cell_type": "markdown",
   "metadata": {},
   "source": [
    "To perform the algorithm we use \n",
    "- 1) direct pass - Gauss Elimination for tridiagonal matrix, which has complexity $O(n)$ source: https://algowiki-project.org/ru/Компактная_схема_метода_Гаусса_для_трёхдиагональной_матрицы,_последовательный_вариант\n",
    "- 2) reverse pass - We use recurrent formula $x_i = P_ix_{i+1} + Q_i$, where $P_i$ and $Q_i$ are precomputed from original tridiagonal matrix<br>\n",
    "This step has the same time complexity of $O(n)$\n",
    "\n",
    "So, the total complexity is $O(n) + O(n) = O(n)$"
   ]
  },
  {
   "cell_type": "markdown",
   "metadata": {},
   "source": [
    "### Congrats!"
   ]
  }
 ],
 "metadata": {
  "kernelspec": {
   "display_name": "Python 3",
   "language": "python",
   "name": "python3"
  },
  "language_info": {
   "codemirror_mode": {
    "name": "ipython",
    "version": 3
   },
   "file_extension": ".py",
   "mimetype": "text/x-python",
   "name": "python",
   "nbconvert_exporter": "python",
   "pygments_lexer": "ipython3",
   "version": "3.7.3"
  }
 },
 "nbformat": 4,
 "nbformat_minor": 2
}
