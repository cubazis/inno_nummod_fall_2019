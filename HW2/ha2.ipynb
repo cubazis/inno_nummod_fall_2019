{
 "cells": [
  {
   "cell_type": "code",
   "execution_count": null,
   "metadata": {},
   "outputs": [],
   "source": [
    "import sympy as sp\n",
    "import numpy as np\n",
    "import matplotlib.pyplot as plt"
   ]
  },
  {
   "cell_type": "markdown",
   "metadata": {},
   "source": [
    "### 1. Formulate the statement of the interpolation problem with Cubic Spline [mathematical formula]"
   ]
  },
  {
   "cell_type": "markdown",
   "metadata": {},
   "source": [
    "### YOUR TEXT/CODE HERE\n",
    "### Abstract on Splines\n",
    "On the segment $[a, b]$ there are $n$ points $x_1,x_2,...,x_N$ which are called interpolation nodes, and the value of some function $y = f(x)$ at these points: $f(x_1) = y_1, f(x_2) = y_2,..., f(x_N ) = y_N$. We need to construct a function $(x)$ (interpolating function), which coincides with $(x)$ in the interpolation nodes and approximates it between them that is,such that $(x_1)=y_1, F(x_2)=y_2,..., F(x_N)=y_N$. The geometric interpretation of the interpolation problem is to find a curve $y=F(x)$ of a certain type that passes through a given system of points $(x_i, y_i)$ where $(i = 1, 2,. . . , N)$.\n",
    "\n",
    "### Cubic Spline\n",
    "\n",
    "$S_3(x)$ - cubic splines are continuous at the first derivative. The value of $m_i = S`_3(x_i)$ is called the slope of the spline at the point $x_i$. Lets split the segment $[a, b]$ into $N$ equal segments $[x_i,x_{i+1}]$, where $x_i=a+ih, i=0,1,2...,N-1, X_n=b, h=(b-a)/N$.\n",
    "\n",
    "if in the nodes $x_i,x_{i+1}$ we have $f_i, f_{i+1}$, which takes a cubic spline, then on a partial segment $[x_i,x_{i+1}]$ it takes the form:\n",
    "\n",
    "\n",
    "$S_3(x)=\\frac{(x_{i+1}-x)^2(2(x-x_i)+h)}{h^3}f_i + \\frac{(x-x_i)^2(2(x_{i+1}-x)+h)}{h^3}f_{i+1} + \\frac{(x_{i+1}-x)^2(x-x_i)}{h^2}m_i + \\frac{(x-x_i)^2(x-x_{i+1})}{h^2}m_{i+1}$\n",
    "\n",
    "\n",
    "\n",
    "\n",
    "\n"
   ]
  },
  {
   "cell_type": "markdown",
   "metadata": {},
   "source": [
    "### 2. Formulate the functional and differential compatibility conditions [mathematical formula]"
   ]
  },
  {
   "cell_type": "markdown",
   "metadata": {},
   "source": [
    "### YOUR TEXT/CODE HERE\n",
    "Functional conditions:\n",
    "\n",
    "$1.\\sqrt{\\frac{1}{n+1}\\sum_{i=0}^{n}[ \\hat{f_m}(x,\\hat{a})- f(x-i)]^2 } \\rightarrow{{min}\\over{a}}, (m<=n)$\n",
    "\n",
    "$2.\\delta\\hat{f_m}(I_{x_i}^{x_{i+1}})=\\int_{x_i}^{x_{i+1}}\\hat{f_m}(x,\\hat{a})dx-I_{i}^{i+1}=0$\n",
    "\n",
    "Differential conditions\n",
    "\n",
    "$1.\\delta\\hat{f_m^{(p)}}(x,\\hat{a})=\\hat{f_m^{(p)}}(x,\\hat{a})-\\hat{f_m^{(p)}}(x_i)=0$, where $p$ is order of derivative\n",
    "\n",
    "\n",
    "\n",
    "\n",
    "\n",
    "\n",
    "\n"
   ]
  },
  {
   "cell_type": "markdown",
   "metadata": {},
   "source": [
    "### 3. Formulate stitching conditions [mathematical formula]"
   ]
  },
  {
   "cell_type": "markdown",
   "metadata": {},
   "source": [
    "### YOUR TEXT/CODE HERE\n",
    "$S_{m,i-1}^{(p_2)}(x)|_{x=x_i}=S_{m,i}^{(p_2)}(x)|_{x=x_i},i=\\overline{1,n-1}$\n",
    "\n",
    "\n",
    "\n",
    "\n",
    "\n",
    "\n",
    "\n"
   ]
  },
  {
   "cell_type": "markdown",
   "metadata": {},
   "source": [
    "### 4. Justify why these conditions provide you with the required smoothness [thesis text, no more than 500 characters]"
   ]
  },
  {
   "cell_type": "markdown",
   "metadata": {},
   "source": [
    "### YOUR TEXT/CODE HERE\n",
    "\n",
    "\n",
    "The stitching conditions creates the equations that are needed for the uniqueness of the values of $m$. If all the derivatives were in the compatibility conditions, there would be no equations, and there would be $2$ times more unknowns.\n",
    "\n",
    "The functional condition provides a solution to the interpolation problem\n",
    "\n",
    "\n",
    "\n",
    "\n",
    "\n"
   ]
  },
  {
   "cell_type": "markdown",
   "metadata": {},
   "source": [
    "### 5. Derive dependency formula: the dependence of the second derivatives at the grid nodes on the increment of the function (the function values difference on the grid nodes). [Mathematical formulas derivation. Detailed, with clear transitions]"
   ]
  },
  {
   "cell_type": "code",
   "execution_count": null,
   "metadata": {},
   "outputs": [],
   "source": [
    "### YOUR TEXT/CODE HERE\n",
    "\n",
    "\n",
    "\n",
    "\n",
    "\n",
    "\n",
    "\n",
    "\n"
   ]
  },
  {
   "cell_type": "markdown",
   "metadata": {},
   "source": [
    "### 6. Create a system of equations using this formula [Matrix representation. Mathematical formulas]"
   ]
  },
  {
   "cell_type": "code",
   "execution_count": null,
   "metadata": {},
   "outputs": [],
   "source": [
    "### YOUR TEXT/CODE HERE\n",
    "\n",
    "\n",
    "\n",
    "\n",
    "\n",
    "\n",
    "\n",
    "\n"
   ]
  },
  {
   "cell_type": "markdown",
   "metadata": {},
   "source": [
    "### 7. Explain what is an unknown variable in this system. whether the system is closed with respect to an unknown variable. What is missing for closure. [Text, no more than 200 characters]"
   ]
  },
  {
   "cell_type": "code",
   "execution_count": null,
   "metadata": {},
   "outputs": [],
   "source": [
    "### YOUR TEXT/CODE HERE\n",
    "\n",
    "\n",
    "\n",
    "\n",
    "\n",
    "\n",
    "\n",
    "\n"
   ]
  },
  {
   "cell_type": "markdown",
   "metadata": {},
   "source": [
    "### 8. Bring this matrix to the appropriate form to use the Tridiagonal matrix algorithm [Mathematical derivation. Use Gauss Elimination]"
   ]
  },
  {
   "cell_type": "code",
   "execution_count": null,
   "metadata": {},
   "outputs": [],
   "source": [
    "### YOUR TEXT/CODE HERE\n",
    "\n",
    "\n",
    "\n",
    "\n",
    "\n",
    "\n",
    "\n",
    "\n"
   ]
  },
  {
   "cell_type": "markdown",
   "metadata": {},
   "source": [
    "### 9. Derive formulas of direct pass and reverse pass of Tridiagonal matrix algorithm [Mathematical formals]"
   ]
  },
  {
   "cell_type": "code",
   "execution_count": null,
   "metadata": {},
   "outputs": [],
   "source": [
    "### YOUR TEXT/CODE HERE\n",
    "\n",
    "\n",
    "\n",
    "\n",
    "\n",
    "\n",
    "\n",
    "\n"
   ]
  },
  {
   "cell_type": "markdown",
   "metadata": {},
   "source": [
    "### 10. Implement code prototype of the future algorithm implementation. Classes/methods (if you use OOP), functions. The final implementation (on language chosen by you) should not differ from the functions declared in the prototype. [Python code]"
   ]
  },
  {
   "cell_type": "code",
   "execution_count": null,
   "metadata": {},
   "outputs": [],
   "source": [
    "### YOUR CODE HERE\n",
    "\n",
    "\n",
    "\n",
    "\n",
    "\n",
    "\n",
    "\n",
    "\n"
   ]
  },
  {
   "cell_type": "markdown",
   "metadata": {},
   "source": [
    "### 11. Derive formula of Cubic Spline method error [Mathematical formulas]"
   ]
  },
  {
   "cell_type": "code",
   "execution_count": null,
   "metadata": {},
   "outputs": [],
   "source": [
    "### YOUR TEXT/CODE HERE\n",
    "\n",
    "\n",
    "\n",
    "\n",
    "\n",
    "\n",
    "\n",
    "\n"
   ]
  },
  {
   "cell_type": "markdown",
   "metadata": {},
   "source": [
    "### 12. Rate the complexity of the algorithm [Text, and rate in terms of big O, no more than 100 characters]"
   ]
  },
  {
   "cell_type": "code",
   "execution_count": null,
   "metadata": {},
   "outputs": [],
   "source": [
    "### YOUR TEXT/CODE HERE\n",
    "\n",
    "\n",
    "\n",
    "\n",
    "\n",
    "\n",
    "\n",
    "\n"
   ]
  },
  {
   "cell_type": "markdown",
   "metadata": {},
   "source": [
    "### Congrats!"
   ]
  }
 ],
 "metadata": {
  "kernelspec": {
   "display_name": "Python 3",
   "language": "python",
   "name": "python3"
  },
  "language_info": {
   "codemirror_mode": {
    "name": "ipython",
    "version": 3
   },
   "file_extension": ".py",
   "mimetype": "text/x-python",
   "name": "python",
   "nbconvert_exporter": "python",
   "pygments_lexer": "ipython3",
   "version": "3.7.3"
  }
 },
 "nbformat": 4,
 "nbformat_minor": 2
}
