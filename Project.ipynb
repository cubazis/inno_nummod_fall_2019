{
  "nbformat": 4,
  "nbformat_minor": 0,
  "metadata": {
    "colab": {
      "name": "Project.ipynb",
      "provenance": [],
      "collapsed_sections": [],
      "machine_shape": "hm"
    },
    "kernelspec": {
      "name": "python3",
      "display_name": "Python 3"
    }
  },
  "cells": [
    {
      "cell_type": "code",
      "metadata": {
        "id": "ZWJ5eUJUlUxP",
        "colab_type": "code",
        "colab": {}
      },
      "source": [
        "import numpy as np\n",
        "import matplotlib.pyplot as plt\n",
        "from scipy.sparse import csr_matrix, lil_matrix,identity\n",
        "import seaborn"
      ],
      "execution_count": 0,
      "outputs": []
    },
    {
      "cell_type": "code",
      "metadata": {
        "id": "gOfkHlGNlWvR",
        "colab_type": "code",
        "colab": {}
      },
      "source": [
        "def is_house_box(x_pos, y_pos, x, y):\n",
        "  return (x_pos < x and x < x_pos + 18 and y_pos < y and y < y_pos + 18)\n",
        "\n",
        "\n",
        "def is_houses_1(x_pos, y_pos, x, y):\n",
        "  if x_pos < x and x < x_pos+18 and y_pos < y and y < y_pos+78:\n",
        "    return True\n",
        "  x_pos = x_pos - 12\n",
        "  y_pos = y_pos + 60\n",
        "  return (x_pos < x and x < x_pos + 13 and y_pos < y and y < y_pos + 18)\n",
        "\n",
        "\n",
        "def is_houses_2(x_pos, y_pos, x, y):\n",
        "  if x_pos < x and x < x_pos + 18 and y_pos < y and y < y_pos + 78:\n",
        "    return True\n",
        "  x_pos = x_pos + 12\n",
        "  return (x_pos < x and x < x_pos + 12 and y_pos < y and y < y_pos + 18)\n",
        "\n",
        "\n",
        "def houses_check(x,y):\n",
        "  boxes = [\n",
        "    (69,  111),  (69, 264),\n",
        "    (138, 12),  (138, 165),\n",
        "    (192, 111), (192, 264),\n",
        "    (261, 12),  (261, 165)\n",
        "  ]\n",
        "\n",
        "  houses_2 = [\n",
        "    (69,  12),  (69, 165),\n",
        "    (192, 12), (192, 165)\n",
        "  ]\n",
        "  \n",
        "  houses_1 = [        \n",
        "    (138, 51), (138, 204),\n",
        "    (261, 51), (261, 204)\n",
        "  ]\n",
        "\n",
        "  for box in boxes:\n",
        "    if is_house_box(box[0], box[1], x, y):\n",
        "      return True\n",
        "\n",
        "  for house in houses_1:\n",
        "    if is_houses_1(house[0],house[1],x,y):\n",
        "      return True\n",
        "  \n",
        "  for house in houses_2:\n",
        "    if is_houses_2(house[0],house[1],x,y):\n",
        "      return True\n",
        "  return False\n"
      ],
      "execution_count": 0,
      "outputs": []
    },
    {
      "cell_type": "code",
      "metadata": {
        "id": "XJksAs-CCf0E",
        "colab_type": "code",
        "colab": {}
      },
      "source": [
        "def solve(steps): \n",
        "  eps = 1e-7  \n",
        "  k = 0.5\n",
        "  lambda_1 = 1.0\n",
        "  lambda_2 = 0\n",
        "  M = 300\n",
        "  h = 1 / M\n",
        "  tau = (h * h) / (4 * k)\n",
        "  MM = M * M\n",
        "\n",
        "  x = np.zeros((MM, 1))\n",
        "  for i in range(M):\n",
        "    x[i] = 1\n",
        "        \n",
        "  dx = [1, -1, 0, 0]\n",
        "  dy = [0, 0, 1, -1]\n",
        "  \n",
        "  coeffs = [\n",
        "    tau*(k / (h**2) - lambda_1 / (2*h)),\n",
        "    tau*(k / (h**2) + lambda_1 / (2*h)),\n",
        "    tau*(k / (h**2) - lambda_2 / (2*h)),\n",
        "    tau*(k / (h**2) + lambda_2 / (2*h))\n",
        "  ]\n",
        "\n",
        "  A, b = lil_matrix((MM, MM)), np.zeros(MM)\n",
        "  for i in range(0, M): \n",
        "    for e in range(0, M):\n",
        "      ind = i * M + e\n",
        "      A[ind, ind] = 1-4 * (tau*k) / (h**2)\n",
        "      for j in range(0, 4):\n",
        "        x1, y1 = i + dx[j], e + dy[j]\n",
        "        coeff = coeffs[j]\n",
        "        if x1 == 0:\n",
        "          b[ind] -= coeff\n",
        "        elif houses_check(x1, y1) or (x1 > M-1 or y1 > M-1 or y1 == 0):\n",
        "          A[ind,ind] += coeff\n",
        "        else:\n",
        "          A[ind, x1*M + y1] = coeff\n",
        "\n",
        "  A, b = csr_matrix(A), b.reshape(MM, -1)\n",
        "  for i in range(steps):\n",
        "    x_new = (A * x + b)\n",
        "    if np.max(np.abs(x_new - x)) < eps:\n",
        "      break\n",
        "    x = x_new\n",
        "\n",
        "  return 1 - x.reshape((M, M)).T\n"
      ],
      "execution_count": 0,
      "outputs": []
    },
    {
      "cell_type": "code",
      "metadata": {
        "id": "gJ_8n26ziGiL",
        "colab_type": "code",
        "outputId": "bf58a96c-6c4d-428f-d947-ee1a2433d2b0",
        "colab": {
          "base_uri": "https://localhost:8080/",
          "height": 295
        }
      },
      "source": [
        "u = solve(3500)\n",
        "seaborn.heatmap(u)"
      ],
      "execution_count": 18,
      "outputs": [
        {
          "output_type": "execute_result",
          "data": {
            "text/plain": [
              "<matplotlib.axes._subplots.AxesSubplot at 0x7f789947b208>"
            ]
          },
          "metadata": {
            "tags": []
          },
          "execution_count": 18
        },
        {
          "output_type": "display_data",
          "data": {
            "image/png": "[encoded data removed]",
            "text/plain": [
              "<Figure size 432x288 with 2 Axes>"
            ]
          },
          "metadata": {
            "tags": []
          }
        }
      ]
    },
    {
      "cell_type": "code",
      "metadata": {
        "id": "RsQLzgXb3oUf",
        "colab_type": "code",
        "outputId": "90ffbff3-6de9-42dc-e2c5-0b93d0669ad3",
        "colab": {
          "base_uri": "https://localhost:8080/",
          "height": 295
        }
      },
      "source": [
        "u = solve(350000)\n",
        "seaborn.heatmap(u)"
      ],
      "execution_count": 19,
      "outputs": [
        {
          "output_type": "execute_result",
          "data": {
            "text/plain": [
              "<matplotlib.axes._subplots.AxesSubplot at 0x7f789a8f40f0>"
            ]
          },
          "metadata": {
            "tags": []
          },
          "execution_count": 19
        },
        {
          "output_type": "display_data",
          "data": {
            "image/png": "[encoded data removed]",
            "text/plain": [
              "<Figure size 432x288 with 2 Axes>"
            ]
          },
          "metadata": {
            "tags": []
          }
        }
      ]
    }
  ]
}