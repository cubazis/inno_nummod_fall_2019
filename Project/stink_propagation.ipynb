{
  "nbformat": 4,
  "nbformat_minor": 0,
  "metadata": {
    "colab": {
      "name": "stink propagation",
      "provenance": [],
      "collapsed_sections": [],
      "machine_shape": "hm"
    },
    "kernelspec": {
      "display_name": "Python 3",
      "language": "python",
      "name": "python3"
    },
    "language_info": {
      "codemirror_mode": {
        "name": "ipython",
        "version": 3
      },
      "file_extension": ".py",
      "mimetype": "text/x-python",
      "name": "python",
      "nbconvert_exporter": "python",
      "pygments_lexer": "ipython3",
      "version": "3.7.5"
    }
  },
  "cells": [
    {
      "cell_type": "code",
      "metadata": {
        "id": "s0SIjbaCNy7H",
        "colab_type": "code",
        "colab": {}
      },
      "source": [
        "import numpy as np\n",
        "import matplotlib.pyplot as plt\n",
        "from scipy.sparse import csr_matrix, lil_matrix,identity\n"
      ],
      "execution_count": 0,
      "outputs": []
    },
    {
      "cell_type": "code",
      "metadata": {
        "colab_type": "code",
        "id": "pTHrmgFhNw-v",
        "colab": {}
      },
      "source": [
        "\n",
        "def box_house(posx,posy,x,y):\n",
        "    return (posx < x and x < posx+18 and posy < y and y < posy+18)\n",
        "\n",
        "def l_house(posx,posy,x,y):\n",
        "    if posx < x and x < posx+18 and posy < y and y < posy+78:\n",
        "        return True\n",
        "\n",
        "    posx = posx-12\n",
        "    posy = posy+60\n",
        "\n",
        "    return (posx < x and x < posx+13 and posy < y and y < posy+18)\n",
        "\n",
        "def L_house(posx,posy,x,y):\n",
        "    if posx < x and x < posx+18 and posy < y and y < posy+78:\n",
        "        return True\n",
        "\n",
        "    posx = posx+12\n",
        "\n",
        "    return (posx < x and x < posx+12 and posy < y and y < posy+18)\n",
        "\n",
        "def houses_check(x,y):\n",
        "    boxes = [(69,111),(69,264),\n",
        "           (138,12),(138,165),\n",
        "           (192,111),(192,264),\n",
        "           (261,12),(261,165)]\n",
        "    L_houses = [(69,12),(69,165),\n",
        "              (192,12),(192,165)]\n",
        "\n",
        "    l_houses = [(138,51),(138,204),\n",
        "              (261,51),(261,204)]\n",
        "    for box in boxes:\n",
        "        if box_house(box[0],box[1],x,y):\n",
        "            return True\n",
        "\n",
        "    for house in L_houses:\n",
        "        if L_house(house[0],house[1],x,y):\n",
        "            return True\n",
        "\n",
        "    for house in l_houses:\n",
        "        if l_house(house[0],house[1],x,y):\n",
        "            return True\n",
        "    return False\n",
        "\n",
        "\n",
        "def edge_cond_check(x,y):\n",
        "    if houses_check(x,y):\n",
        "        return True\n",
        "    if x>299 or y>299 or y == 0:\n",
        "        return True\n",
        "\n",
        "    return False"
      ],
      "execution_count": 0,
      "outputs": []
    },
    {
      "cell_type": "code",
      "metadata": {
        "id": "33UCv4a_NjWJ",
        "colab_type": "code",
        "colab": {}
      },
      "source": [
        "def solve(tau=0.25, k=0.5, h=1, lambda1=1.0, lambda2=0, steps=3000, eps=10e-5):   \n",
        "\n",
        "    n = 300\n",
        "\n",
        "\n",
        "    N = n * n\n",
        "\n",
        "    x = np.zeros((N, 1))\n",
        "    for i in range(300):\n",
        "        x[300*i,0]=1\n",
        "\n",
        "    A = lil_matrix((N, N))\n",
        "\n",
        "    b = np.zeros(N)\n",
        "\n",
        "    dx = [1, -1, 0, 0]\n",
        "    dy = [0, 0, 1, -1]\n",
        "    u0coeff = 1-4*(tau*k)/(h**2)\n",
        "    coeffs = [tau*(k/(h**2)-lambda1/(2*h)),\n",
        "            tau*(k/(h**2)+lambda1/(2*h)),\n",
        "            tau*(k/(h**2)-lambda2/(2*h)),\n",
        "            tau*(k/(h**2)+lambda2/(2*h))]\n",
        "\n",
        "    for i in range(0, n): \n",
        "        for e in range(0, n):\n",
        "            ind = i*n+e\n",
        "            A[ind,ind] = u0coeff\n",
        "            for j in range(0, 4):\n",
        "                x1 = i + dx[j]\n",
        "                y1 = e + dy[j]\n",
        "                coeff = coeffs[j]\n",
        "\n",
        "                if x1==0:\n",
        "                    b[ind] -= coeff\n",
        "                elif edge_cond_check(x1,y1):\n",
        "                    A[ind,ind] += coeff\n",
        "                else:\n",
        "                    A[ind,x1*300+y1] = coeff\n",
        "\n",
        "    A = csr_matrix(A)\n",
        "\n",
        "    b = b.reshape(N, -1)\n",
        "    for i in range(steps):\n",
        "        x_new = (A * x + b)\n",
        "        error = np.max(np.abs(x_new - x))\n",
        "        if error < eps:\n",
        "            break\n",
        "    \n",
        "        x = x_new\n",
        "    print(f'ERROR:{error}')\n",
        "    return - x.reshape((300,300)).T\n",
        "\n"
      ],
      "execution_count": 0,
      "outputs": []
    },
    {
      "cell_type": "code",
      "metadata": {
        "id": "jOrxhYYbNjWM",
        "colab_type": "code",
        "colab": {
          "base_uri": "https://localhost:8080/",
          "height": 286
        },
        "outputId": "d15bc954-c679-4b89-f306-dc90d054ccc7"
      },
      "source": [
        "x_res = solve(steps=6000, eps=1e-4)\n",
        "ax = plt.gca()\n",
        "im = ax.imshow(x_res)\n",
        "cbar = ax.figure.colorbar(im, ax=ax)\n",
        "cbar.ax.set_ylabel('Concentration', rotation=-90, va=\"bottom\")\n",
        "plt.gca().invert_yaxis()\n",
        "plt.show()"
      ],
      "execution_count": 4,
      "outputs": [
        {
          "output_type": "stream",
          "text": [
            "ERROR:9.997118196442001e-05\n"
          ],
          "name": "stdout"
        },
        {
          "output_type": "display_data",
          "data": {
            "image/png": "[encoded data removed]",
            "text/plain": [
              "<Figure size 432x288 with 2 Axes>"
            ]
          },
          "metadata": {
            "tags": []
          }
        }
      ]
    },
    {
      "cell_type": "code",
      "metadata": {
        "id": "kX3L2n-DNjWP",
        "colab_type": "code",
        "colab": {}
      },
      "source": [
        ""
      ],
      "execution_count": 0,
      "outputs": []
    }
  ]
}