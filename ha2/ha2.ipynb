{
 "cells": [
  {
   "cell_type": "code",
   "execution_count": 8,
   "metadata": {},
   "outputs": [],
   "source": [
    "#import sympy as sp\n",
    "import numpy as np\n",
    "import matplotlib.pyplot as plt"
   ]
  },
  {
   "cell_type": "markdown",
   "metadata": {},
   "source": [
    "### 1. Formulate the statement of the interpolation problem with Cubic Spline [mathematical formula]"
   ]
  },
  {
   "cell_type": "markdown",
   "metadata": {},
   "source": [
    "We have a mesh function ${y_i = f(x)}$ defined on the segment $[a; b]$ on mesh $\\Omega_n$, where $n$ - number of known points.\n",
    "\n",
    "We need to fill the gaps between known points with function $S_m(x)$, where $m$ - polynomial degree (number of partial segments) using piecewise-global method.\n",
    "For our needs we can use different polynomial for each gap between known points in form:\n",
    "$$S_{3,i}=a_{0,i}+a_{1,i}(x-x_i)+a_{2,i}(x-x_i)^2+a_{3,i}(x-x_i)^3$$\n",
    "Since total number of partial segments is equal to m, so overall we get $4m$ unknowns.\n",
    "\n",
    "Now we can union all polynomials and get a single cubic curve on the segment $[a; b]$. \n",
    "But the problem is that two adjacent polynomials didn't know anything about each other.\n",
    "    To solve it we need to ensure the continuity of the entire spline, for this we introduce $stiching$ $conditions$. For some point $x_i$, that is common for the segment $i-1$, which belongs to partial segment $[x_i, x_{i+1}]$, and for segment $i$ which belongs to partial segment $[x_i, x_{i+1}]$, this condition is in form: $$S_{3, i-1}^{(p)}(x)|_{x=x_i} = S_{3, i}^{(p)}(x)|x=x_i$$\n",
    "        The number of inner knots is $m-1$, so we have $3(m-1)$ conditions (equations) for the desired coefficients. So, the total number of equations is equal to $4m-2$. To find other two conditions, (simple case) we can set to zero derivatives at the ends of the segment: $$m_0=0, m_n = 0$$\n",
    "        If all conditions are satisfied, so our resulting polynomial is a function of class $C^2[a;b]$ (has the second continious derivative on the segment $[a,b]$)"
   ]
  },
  {
   "cell_type": "markdown",
   "metadata": {},
   "source": [
    "### 2. Formulate the functional and differential compatibility conditions [mathematical formula]"
   ]
  },
  {
   "cell_type": "markdown",
   "metadata": {},
   "source": [
    "1) Functional compability condition is:\n",
    "$$\\delta\\tilde{f_m}(x_i,\\bar{a}) = \\tilde{f_m}(x_i,\\bar{a})-f(x_i) = S_{3,i}(x_i) - f(x_i) = 0$$\n",
    "\n",
    "2) Differential compability condition, in its turn, is:\n",
    "$$\\delta\\tilde{f_m}^{(p_1)}(x_i,\\bar{a}) = \\tilde{f_m}^{(p_1)}(x_i,\\bar{a})-f^{(p_1)}(x_i) = S''_{3,i}(x_i)-f''(x_i) = 0$$\n",
    "where $p_1$ between $0$ and $r$ (smoothness of the resulting function (maximum order of derivative that is continuous on the segment $[a;b]$))"
   ]
  },
  {
   "cell_type": "markdown",
   "metadata": {},
   "source": [
    "### 3. Formulate stitching conditions [mathematical formula]"
   ]
  },
  {
   "cell_type": "markdown",
   "metadata": {},
   "source": [
    "Stiching conditions of partial segments $S_{m,i}$: $$S_{m,i-1}^{(p_2)}(x)|_{x=x_i} = S_{m,i}^{(p_2)}(x)|_{x=x_i} , i = \\overline{1,n-1}$$\n",
    "where $p_2$ is integer, between $0$ and $r$, but none of possible values of $p_2$ not equal to any of $p_1$ values\n",
    "\n",
    "\n",
    "\n",
    "\n",
    "\n",
    "\n"
   ]
  },
  {
   "cell_type": "markdown",
   "metadata": {},
   "source": [
    "### 4. Justify why these conditions provide you with the required smoothness [thesis text, no more than 500 characters]"
   ]
  },
  {
   "cell_type": "markdown",
   "metadata": {},
   "source": [
    "Stiching conditions paired with compability conditions provides continuity of $S_m^{(p)}(x)$, $p = 0,1,...r$, in all inner points $x_i$, which define partial segment stiching points, i.e. $(x_i,S_m(x_i))$, $(i=\\overline{1,n-1})$. This guarantees that the condition is met: $S_m(x)\\in C_r[a,b]$. Otherwords, stiching conditions, provides the resulting interpolant function to have the same derivatives on the joint knots, which is the condition for the continuity of function. On the other side, functional and differential compatibility conditions fulfill smoothness on the inside knots, by following smoothness of resulting interpolated function."
   ]
  },
  {
   "cell_type": "markdown",
   "metadata": {},
   "source": [
    "### 5. Derive dependency formula: the dependence of the second derivatives at the grid nodes on the increment of the function (the function values difference on the grid nodes). [Mathematical formulas derivation. Detailed, with clear transitions]"
   ]
  },
  {
   "cell_type": "markdown",
   "metadata": {},
   "source": [
    "$$S_{3,i}(x)=a_{0,i}+a_{1,i}(x-x_i)+a_{2,i}(x-x_i)^2+a_{3,i}(x-x_i)^3$$\n",
    "Second derivitive:\n",
    "$$S''_{3,i}(x)=2a_{2,i}+6a_{3,i}x-6a_{3,i}x_i$$\n",
    "$$h_{i+1}=x_{i+1}-x_i, \\Delta f_i=f_{i+1}-f_i, m_i=f''(x_i), \\Delta m_i=m_{i+1}-m_i$$\n",
    "\n",
    "From functional conditions (eq 1 from ex. 2):\n",
    "\n",
    "$S_{3,i}(x_i)-f(x_i)=0$, so $a_{0,i}=f(x_i)=f_i$\n",
    "\n",
    "From differential compability conditions for $p = {0,2}$ (eq 2 from ex. 2):\n",
    "\n",
    "$2a_{2,i}+6a_{3,i}x-6a_{3,i}x_i = f''(x_i)$\n",
    "\n",
    "$2a_{2,i}=m_i$\n",
    "\n",
    "$a_{2,i}=\\frac{m_i}{2}$\n",
    "\n",
    "$S_{3,i}(x_i)-f(x_i)=0$, so $a_{0,i}=f(x_i)=f_i$\n",
    "\n",
    "To $S''_{3,i}(x_{i+1})-f''(x_i)=0$ substitute $a_{2,i}$):\n",
    "\n",
    "$f''(x_{i+1}) = m_i+6a_{3+i}x_{i+1}-6a_{3,i}x_i$\n",
    "\n",
    "$m_i+6a_{3,i}h_{i+1}=m_{i+1}$\n",
    "\n",
    "$a_{3,i}=\\frac{ \\Delta m_i}{6h_{i+1}}$\n",
    "\n",
    "To $S_{3,i}(x_{i+1})-f(x_{i+1}) = 0$ substitute $a_{0,i}, a_{2,i}, a_{3,i}$\n",
    "\n",
    "$f(x_{i+1})=a_{0,i}+a_{1,i}(x_{i+1}-x+i)+a_{2,i}(x_{i+1}-x_i)^2+a_{3,i}(x_{i+1}-x_i)^3$\n",
    "\n",
    "$a_{1,i}=\\frac{\\Delta f_i}{h_{i+1}} - \\frac{m_ih_{i+1}}{2} \\frac{\\Delta m_ih_{i+1}}{6}$\n",
    "\n",
    "$S_{3,i}=S_{3,i-1}$:\n",
    "\n",
    "$S'_{3,i}(x)=a_{i,1}+2a_{2,i}(x-x_i)+3a_{3,i}(x-x_i)^2$\n",
    "\n",
    "$S'_{3,i-1}(x)=a_{1,i-1}+2a_{2,i-1}(x-x_{i-1})+3a_{3,i-1}(x-x_{i-1})^2$\n",
    "\n",
    "$S'_{3,i}(x)|_{x=x_i}=S'_{3,i-1}(x)|_{x=x_i}$\n",
    "\n",
    "Thus, $a_{1,i} = a_{1,i-1}+2a_{2,i-1}h_i+3a_{3,i-1}h_i^2$\n",
    "\n",
    "Consider $x = x_i$, since derivatives intersect in one point($S_{3,i}(x_i)=S_{3,i-1}(x_i)$):\n",
    "\n",
    "$\\frac{\\Delta f_i}{h_{i+1}} - \\frac{m_in_{i+1}}{3} - \\frac{m_{i+1}n_{i+1}}{6} = \n",
    "\\frac{\\Delta f_{i-1}}{h_i} - \\frac{m_{i-1}n_i}{3} - \\frac{m_in_i}{6} + m_{i-1}h_i + \\frac{m_ih_i}{2} - \\frac{m_{i-1}h_i}{2}$\n",
    "\n",
    "Thus,\n",
    "$\\frac{h_i}{6}m_{i-1} + \\frac{h_i+h_{i+1}}{3}m_i + \\frac{h_{i+1}}{6}m_{i+1} =\n",
    " \\frac{\\Delta f_i}{h_{i+1}} - \\frac{\\Delta f_{i-1}}{h_i}$, $i=\\overline{1,n-1}$"
   ]
  },
  {
   "cell_type": "markdown",
   "metadata": {},
   "source": [
    "### 6. Create a system of equations using this formula [Matrix representation. Mathematical formulas]"
   ]
  },
  {
   "cell_type": "markdown",
   "metadata": {},
   "source": [
    "$\\begin{vmatrix} \n",
    "1 & 0 & 0 & 0 \\\\\n",
    "1 & (x_{i+1}-x_i) & (x_{i+1}-x_{i})^2 & (x_{i+1}-x_i)^3 \\\\\n",
    "0 & 0 & 2 & 0 \\\\\n",
    "0 & 0 & 2 & 6(x_{i+1}-x_{i})\n",
    "\\end{vmatrix} \\cdot \\begin{vmatrix} \n",
    "a_{0,i} \\\\\n",
    "a_{1,i} \\\\\n",
    "a_{2,i} \\\\\n",
    "a_{3,i} \\\\\n",
    "\\end{vmatrix} = \\begin{vmatrix} \n",
    "f_i \\\\\n",
    "f_{i+1} \\\\\n",
    "m_i \\\\\n",
    "m_{i+1}\n",
    "\\end{vmatrix}$\n",
    "\n",
    "$\\frac{1}{6} \\begin{vmatrix} \n",
    "h_1 & 2(h_1 + h_2) & h_2 & 0 & 0 & ... \\\\\n",
    "0 & h_2 & 2(h_2 + h_3) & h_3 & 0 & ... \\\\\n",
    "... & ... & ... & ... & ... & ... \\\\\n",
    "... & 0 & 0 & h_n-1 & 2(h_n-1 + h_n) & h_n\n",
    "\\end{vmatrix} \\cdot \\begin{vmatrix} \n",
    "m_0 \\\\\n",
    "m_1 \\\\\n",
    "m_2 \\\\\n",
    "... \\\\\n",
    "m_n\n",
    "\\end{vmatrix} = \\begin{vmatrix} \n",
    "\\frac{\\Delta f_1}{h_2} - \\frac{\\Delta f_0}{h_1} \\\\\n",
    "\\frac{\\Delta f_2}{h_3} - \\frac{\\Delta f_1}{h_2} \\\\\n",
    "... \\\\\n",
    "\\frac{\\Delta f_{n-1}}{h_n} - \\frac{\\Delta f_{n-2}}{h_{n-1}}\n",
    "\\end{vmatrix}$\n",
    "\n",
    "\n",
    "\n",
    "\n",
    "\n",
    "\n",
    "\n"
   ]
  },
  {
   "cell_type": "markdown",
   "metadata": {},
   "source": [
    "### 7. Explain what is an unknown variable in this system. whether the system is closed with respect to an unknown variable. What is missing for closure. [Text, no more than 200 characters]"
   ]
  },
  {
   "cell_type": "markdown",
   "metadata": {},
   "source": [
    "System is not closed relatevly ${m_i(i=\\overline{1,n-1})}$ (unknown variable). It's needed to appoximate value of $m_i$ on the boundaries (close the system).\n",
    "1) Simple way - we can set $m_0 = 0; m_n = 0$ (natural spline conditions).\n",
    "\n",
    "2) Proportion and two three-point equations allows to close the system:\n",
    "\n",
    "$\\frac{\\Delta m_{k-1}}{h_k} = \\frac{\\Delta m_k}{h_{k+1}} (k=\\overline{1,n-1})$\n",
    "\n",
    "$\\frac{m_0}{h_1}-(\\frac{1}{h_1} + \\frac{1}{h_2})m_1+\\frac{m_2}{h_2} = 0$\n",
    "\n",
    "$\\frac{m_{n-2}}{h_{n-1}}-(\\frac{1}{h_{n-1}}+\\frac{1}{h_n})m_{n-1}+\\frac{m_n}{h_n} = 0$\n",
    "\n"
   ]
  },
  {
   "cell_type": "markdown",
   "metadata": {},
   "source": [
    "### 8. Bring this matrix to the appropriate form to use the Tridiagonal matrix algorithm [Mathematical derivation. Use Gauss Elimination]"
   ]
  },
  {
   "cell_type": "markdown",
   "metadata": {},
   "source": [
    "$\\begin{vmatrix}\n",
    "-\\frac{h_1 + h_{2}}{3} & \\frac{h_{2}}{6} & 0 & 0 & 0 & ... \\\\\n",
    "\\frac{h_2}{6} & -\\frac{h_2 + h_{3}}{3} & \\frac{h_{3}}{6} & 0 & 0 & ... \\\\\n",
    "... & ... & ... & ... & ... & ... \\\\\n",
    "... & 0 & 0 & 0 & \\frac{h_n-1}{6} & -\\frac{h_n-1 + h_{n}}{3}\n",
    "\\end{vmatrix} \\cdot \\begin{vmatrix} \n",
    "m_0 \\\\\n",
    "m_1 \\\\\n",
    "m_2 \\\\\n",
    "... \\\\\n",
    "m_n\n",
    "\\end{vmatrix} = \\begin{vmatrix} \n",
    "\\frac{\\Delta f_1}{h_2} - \\frac{\\Delta f_0}{h_1} \\\\\n",
    "\\frac{\\Delta f_2}{h_3} - \\frac{\\Delta f_1}{h_2} \\\\\n",
    "... \\\\\n",
    "\\frac{\\Delta f_{n-1}}{h_n} - \\frac{\\Delta f_{n-2}}{h_{n-1}}\n",
    "\\end{vmatrix}$\n",
    "\n",
    "1) Divide first row by $-\\beta=(\\frac{h_1+h_2}{3})$\n",
    "\n",
    "2) Subtruct 1st row multiplied by $\\alpha_2=(\\frac{h_2}{6})$ from 2nd row\n",
    "\n",
    "3) Divide 2nd row by $(-\\beta_2+\\frac{\\gamma_1\\alpha_2}{\\beta_1}) = (\\frac{-h_2^2+4(h_1+h_2)(h_2+h_3)}{12(h_1+h_2)})$\n",
    "\n",
    "After performing this steps on other rows, we have matrix in following form:\n",
    "\n",
    "$\\begin{vmatrix} \n",
    "1 & -P_1 & 0 & 0 & ... & Q_1 \\\\\n",
    "0 & 1 & -P_2 & 0 & ... & Q_2 \\\\\n",
    "0 & 0 & 1 & -P_3 & ... & Q_3\\\\\n",
    "... & ... & ... & ... & ... & ... \\\\\n",
    "... & ... & ... & 1 & -P_{n-1} & Q_{n-1}\n",
    "\\end{vmatrix}$\n",
    "\n",
    "where $P_i$ and $Q_i$ are derived in question 9.\n",
    "\n",
    "\n",
    "\n"
   ]
  },
  {
   "cell_type": "markdown",
   "metadata": {},
   "source": [
    "### 9. Derive formulas of direct pass and reverse pass of Tridiagonal matrix algorithm [Mathematical formals]"
   ]
  },
  {
   "cell_type": "markdown",
   "metadata": {},
   "source": [
    "$m_i = P_i m_{i+1} + Q_i$, $i=\\overline{1, n-2}$\n",
    "\n",
    "$m_{i-1} = P_{i-1}m_i + Q_{i-1}$\n",
    "\n",
    "We can substitute in general equation of the system:\n",
    "\n",
    "$\\frac{(P_{i-1}m_i + Q_{i-1}) h_i}{6} - \\frac{m_i(h_i+h_{i+1})}{3} + \\frac{m_{i+1}h_{i+1}}{6} = \\frac{\\Delta f_{i}}{h_{i+1}} - \\frac{\\Delta f_{i-1}}{h_{i}}$\n",
    "\n",
    "$\\alpha_i = \\frac{h_i}{6}, \\beta_i = \\frac{h_i + h_{i+1}}{3}, \\gamma_i = \\frac{h_{i+1}}{6}, \\delta_i = \\frac{\\Delta f_{i}}{h_{i+1}} - \\frac{\\Delta f_{i-1}}{h_{i}}$\n",
    "\n",
    "$\\alpha_i (P_{i-1}m_i + Q_{i-1}) - \\beta_i m_i + \\gamma_i m_{i+1} = \\delta_i \\\\\n",
    "\\alpha_i P_{i-1}m_i + \\alpha_i Q_{i-1} - \\beta_i m_i + \\gamma_i m_{i+1} = \\delta_i \\\\\n",
    "m_i(\\alpha_i P_{i-1} - \\beta_i) + \\alpha_i Q_{i-1} + \\gamma_i m_{i+1} = \\delta_i \\\\\n",
    "m_i = -\\frac{\\gamma_i m_{i+1}}{\\alpha_i P_{i-1} - \\beta_i} - \\frac{\\alpha_i Q_{i-1}}{\\alpha_i P_{i-1} - \\beta_i} + \\frac{\\delta_i}{\\alpha_i P_{i-1} - \\beta_i} = \\frac{\\gamma_i m_{i+1}}{\\beta_i - \\alpha_i P_{i-1}} + \\frac{\\alpha_i Q_{i-1} - \\delta_i}{\\beta_i - \\alpha_i P_{i-1}}$\n",
    "\n",
    "Thus, forward pass:\n",
    "$P_i = \\frac{\\gamma_i}{\\beta_i-\\alpha P_{i-1}}, P_1=\\frac{\\gamma_1}{\\beta_1}$\n",
    "\n",
    "$Q_i = \\frac{\\alpha_iQ_{i-1}-\\delta_i}{\\beta_i-\\alpha P_{i-1}}, Q_1=\\frac{\\delta_1}{\\beta_1}$\n",
    "\n",
    "Last equation:\n",
    "\n",
    "$m_{n-1} = P_{n-1}m_n + Q_{n-1} \\\\\n",
    "\\alpha_n m_{n-1} - \\beta_n m_n = \\delta_n$\n",
    "\n",
    "Substitute $m_{n-1}$:\n",
    "\n",
    "$\\alpha_n(P_{n-1}m_n + Q_{n-1}) - \\beta_n m_n = \\delta_n \\\\\n",
    "\\alpha_n P_{n-1}m_n + \\alpha_n Q_{n-1} - \\beta_n m_n = \\delta_n \\\\\n",
    "m_n(\\alpha_n P_{n-1} - \\beta_n) = \\delta_n - \\alpha_n Q_{n-1} \\\\\n",
    "m_n = \\frac{\\delta_n - \\alpha_n Q_{n-1}}{\\alpha_n P_{n-1} - \\beta_n} = \\frac{\\alpha_n Q_{n-1} - \\delta_n}{\\beta_n - \\alpha_n P_{n-1}}$\n",
    "\n",
    "Thus, backward pass:\n",
    "\n",
    "$x_n=\\frac{\\alpha_nQ_{n-1}-\\delta_n}{\\beta_n-\\alpha_nP_{n-1}} = Q_n$\n",
    "\n",
    "$x_i=P_ix_{i+1}+Q_i, i = \\overline{1, n-1}$\n",
    "\n",
    "\n",
    "\n"
   ]
  },
  {
   "cell_type": "markdown",
   "metadata": {},
   "source": [
    "### 10. Implement code prototype of the future algorithm implementation. Classes/methods (if you use OOP), functions. The final implementation (on language chosen by you) should not differ from the functions declared in the prototype. [Python code]"
   ]
  },
  {
   "cell_type": "code",
   "execution_count": null,
   "metadata": {},
   "outputs": [],
   "source": [
    "def estimate_parameters(i, x, y):\n",
    "    # returns a, b, c, q\n",
    "    return x[i] / 6 - x[i - 1] / 6, -x[i + 1] / 3 + x[i - 1] / 3, x[i + 1] / 6 - x[i] / 6, (\n",
    "            (y[i + 1] - y[i]) / (x[i + 1] - x[i])) - ((y[i] - y[i - 1]) / (x[i] - x[i - 1]))\n",
    "\n",
    "def forward_backward(x, y, n):\n",
    "    P = [0]\n",
    "    Q = [0]\n",
    "    m = [0] * n\n",
    "    # formward pass\n",
    "    for i in range(1, n - 1):\n",
    "        a, b, c, q = estimate_parameters(i, x, y)\n",
    "\n",
    "        if i == 1:\n",
    "            P.append(c / b)\n",
    "            Q.append(- q / b)\n",
    "            continue\n",
    "\n",
    "        P.append(c / (b - a * P[i - 1]))\n",
    "        Q.append((a * Q[i - 1] - q) / (b - a * P[i - 1]))\n",
    "    # backward pass\n",
    "    m[n - 2] = Q[n - 2]\n",
    "    for i in range(n - 2, 1, -1):\n",
    "        m[i - 1] = P[i - 1] * m[i] + Q[i - 1]\n",
    "    return m\n",
    "\n",
    "def result(test_point, m, x, y, n):\n",
    "    for i in range(n):\n",
    "        if test_point < x[i]:\n",
    "            iter = i - 1\n",
    "            difference = (test_point - x[i])\n",
    "            a_0, a_1, a_2, a_3 = y[iter], ((y[iter + 1] - y[iter]) / (x[iter + 1] - x[iter])) - ((m[iter] * (x[iter + 1] - x[iter])) / 2) - (\n",
    "                    ((m[iter + 1] - m[iter]) * (x[iter + 1] - x[iter])) / 6), m[iter] / 2, (m[iter + 1] - m[iter]) / (6 * (x[iter + 1] - x[iter]))\n",
    "            return a_0 + a_1 * x_dif + a_2 * difference ** 2 + a_3 * difference ** 3\n",
    "\n",
    "# [a; b] = [0; 0.9]\n",
    "x = [0.0, 0.1, 0.2, 0.3, 0.4, 0.5, 0.6, 0.7, 0.8, 0.9]\n",
    "test_x = [0.05, 0.15, 0.25, 0.35, 0.45, 0.55, 0.65, 0.75, 0.85]\n",
    "y = [0.0, 0.32142412, 0.42131231, 0.66741, 0.236612, \n",
    "     1.1021, -0.32199772, -0.098712345, -0.8796421, 0.7162311]\n",
    "n = 10\n",
    "\n",
    "m = forward_backward(x, y, n)\n",
    "for point in test_x:\n",
    "    y_test = result(point, m, x, y, n)"
   ]
  },
  {
   "cell_type": "markdown",
   "metadata": {},
   "source": [
    "### 11. Derive formula of Cubic Spline method error [Mathematical formulas]"
   ]
  },
  {
   "cell_type": "markdown",
   "metadata": {},
   "source": [
    "$|| f^{(p)}(x)-S_3^{(p)}(x)||_{C[a,b]} = \\max_{[a,b]}|f^{(p)}(x)-S_3^{(p)}(x)|\\leq M_4h^{4-p}$, $p=0,1,2$\n",
    "\n",
    "where $M_4=\\max_{[a;b]}|f^{(4)}(x)|, h_{max}=\\max_{1<=i<=n}h_i$\n",
    "\n",
    "Note: estimation is true if $S_3(x)$ converges to $f(x) \\in C_4[a,b]$"
   ]
  },
  {
   "cell_type": "markdown",
   "metadata": {},
   "source": [
    "### 12. Rate the complexity of the algorithm [Text, and rate in terms of big O, no more than 100 characters]"
   ]
  },
  {
   "cell_type": "markdown",
   "metadata": {},
   "source": [
    "Forward pass finds $P$ and $Q$ $n$ times, backward pass finds $n$ times too. Complexity: $\\mathcal{O}(2n) = \\mathcal{O}(n) $\n",
    "\n",
    "\n",
    "\n",
    "\n",
    "\n"
   ]
  },
  {
   "cell_type": "markdown",
   "metadata": {},
   "source": [
    "### Congrats!"
   ]
  }
 ],
 "metadata": {
  "kernelspec": {
   "display_name": "Python 3",
   "language": "python",
   "name": "python3"
  },
  "language_info": {
   "codemirror_mode": {
    "name": "ipython",
    "version": 3
   },
   "file_extension": ".py",
   "mimetype": "text/x-python",
   "name": "python",
   "nbconvert_exporter": "python",
   "pygments_lexer": "ipython3",
   "version": "3.7.2"
  }
 },
 "nbformat": 4,
 "nbformat_minor": 2
}
