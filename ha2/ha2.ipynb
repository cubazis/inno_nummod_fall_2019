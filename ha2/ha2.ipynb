{
 "cells": [
  {
   "cell_type": "code",
   "execution_count": 2,
   "metadata": {
    "pycharm": {
     "is_executing": false
    }
   },
   "outputs": [],
   "source": [
    "import sympy as sp\n",
    "import numpy as np\n",
    "import matplotlib.pyplot as plt"
   ]
  },
  {
   "cell_type": "markdown",
   "metadata": {},
   "source": [
    "### 1. Formulate the statement of the interpolation problem with Cubic Spline [mathematical formula]\n"
   ]
  },
  {
   "cell_type": "markdown",
   "source": [
    "Given $y_i = f(x_i)$, $i=\\overline{0,n}$ and $x_i \\in [a,b]$ based on interpolation problem\n",
    "we consider $S_3(x) \\in C_2[a,b]$.\n",
    "\n",
    "There is a polynomial in each part of the spline.\n",
    "\n",
    "\\begin{eqnarray}\n",
    "    S_{3,i}(x) = a_{0,i} + a_{1,i} (x-x_i) +  a_{2,i} (x-x_i)^2 +  a_{3,i} (x-x_i)^3.  \n",
    "\\end{eqnarray}\n",
    "\n",
    "\n",
    "\n",
    "\n",
    "\n",
    "\n",
    "\n"
   ],
   "metadata": {
    "collapsed": false,
    "pycharm": {
     "name": "#%% md\n"
    }
   }
  },
  {
   "cell_type": "markdown",
   "metadata": {},
   "source": [
    "### 2. Formulate the functional and differential compatibility conditions [mathematical formula]"
   ]
  },
  {
   "cell_type": "markdown",
   "source": [
    "For every $i$-th  part of the spline for which $x \\in [x_i, x_{i+1}]$:\n",
    "\n",
    "\\begin{eqnarray}\n",
    "    \\begin{cases}\n",
    "        \\delta S_{3,i}(x) |_{ x=x_i}= S_{3,i}(x_i) - f(x_i) = 0, \\\\\n",
    "        \\delta S_{3,i}(x) |_{x=x_{i+1}} = S_{3,i}(x_{i+1}) - f(x_{i+1}) = 0, \\\\\n",
    "        \\delta S^{\\prime\\prime}_{3,i}(x) |_{x=x_i} = \n",
    "                S^{\\prime\\prime}_{3,i}(x_i) - f^{\\prime\\prime}(x_i) = 0, \\\\\n",
    "        \\delta S^{\\prime\\prime}_{3,i}(x) |_{x=x_{i+1}} = \n",
    "                S^{\\prime\\prime}_{3,i}(x_{i+1}) - f^{\\prime\\prime}(x_{i+1}) = 0.\n",
    "    \\end{cases} \n",
    "\\end{eqnarray}\n",
    "\n",
    "\n",
    "\n",
    "\n",
    "\n"
   ],
   "metadata": {
    "collapsed": false,
    "pycharm": {
     "name": "#%% md\n"
    }
   }
  },
  {
   "cell_type": "markdown",
   "metadata": {},
   "source": [
    "### 3. Formulate stitching conditions [mathematical formula]"
   ]
  },
  {
   "cell_type": "markdown",
   "metadata": {
    "pycharm": {
     "name": "#%% md\n"
    }
   },
   "source": [
    "For every $i$-th  part of the spline for which $x \\in [x_i, x_{i+1}]$:\n",
    "\n",
    "\\begin{eqnarray}\n",
    "    \\begin{cases}\n",
    "        S_{3,i-1}(x) |_{ x=x_i} = S_{3,i}(x) |_{ x=x_i}, i=\\overline{1,n-1}, \\\\\n",
    "        S^{\\prime\\prime}_{3,i-1}(x) |_{x=x_i} = \n",
    "                S^{\\prime\\prime}_{3,i}(x) |_{x=x_i}, i=\\overline{1,n-1}.\n",
    "    \\end{cases} \n",
    "\\end{eqnarray}\n",
    "\n",
    "\n",
    "\n",
    "\n",
    "\n",
    "\n",
    "\n",
    "\n",
    "\n"
   ]
  },
  {
   "cell_type": "markdown",
   "metadata": {},
   "source": [
    "### 4. Justify why these conditions provide you with the required smoothness [thesis text, no more than 500 characters]"
   ]
  },
  {
   "cell_type": "markdown",
   "metadata": {
    "pycharm": {
     "name": "#%% md\n"
    }
   },
   "source": [
    "Functional equallity provides us function continuity.\n",
    "First and second derivatives provides us same angle and convex in the point \n",
    "of the function connection. \n",
    "Therefore these conditions will provide us the required smoothness.\n",
    "\n",
    "\n",
    "\n"
   ]
  },
  {
   "cell_type": "markdown",
   "metadata": {},
   "source": [
    "### 5. Derive dependency formula: the dependence of the second derivatives at the grid nodes on the increment of the function (the function values difference on the grid nodes). [Mathematical formulas derivation. Detailed, with clear transitions]"
   ]
  },
  {
   "cell_type": "markdown",
   "metadata": {
    "pycharm": {
     "name": "#%% md\n"
    }
   },
   "source": [
    "Given:\n",
    "\n",
    "\\begin{eqnarray}\n",
    "    \\begin{cases}\n",
    "        S_{3,i}(x) &= a_{0,i} + a_{1,i} (x-x_i) +  a_{2,i} (x-x_i)^2 +  a_{3,i} (x-x_i)^3,\\\\\n",
    "        \\delta S_{3,i}(x) |_{ x=x_i} &= S_{3,i}(x_i) - f(x_i) = 0, \\\\\n",
    "        \\delta S_{3,i}(x) |_{x=x_{i+1}} &= S_{3,i}(x_{i+1}) - f(x_{i+1}) = 0, \\\\\n",
    "        \\delta S^{\\prime\\prime}_{3,i}(x) |_{x=x_i} &= \n",
    "                S^{\\prime\\prime}_{3,i}(x_i) - f^{\\prime\\prime}(x_i) = 0, \\\\\n",
    "        \\delta S^{\\prime\\prime}_{3,i}(x) |_{x=x_{i+1}} &= \n",
    "                S^{\\prime\\prime}_{3,i}(x_{i+1}) - f^{\\prime\\prime}(x_{i+1}) = 0, \\\\\n",
    "         h_{i+1} &= x_{i+1} - x_i, \\\\\n",
    "         \\triangle f_i &= f_{i+1} - f_i, \\\\\n",
    "         m_i &= f^{\\prime\\prime}(x_i), \\\\ \n",
    "         \\triangle m_i &= m_{i+1} - m_i, \\\\\n",
    "         i &= \\overline{1,n-1}.\n",
    "    \\end{cases} \n",
    "\\end{eqnarray}\n",
    "\n",
    "\n",
    "Find $a_{0,i} $, $a_{1,i} $, $a_{2,i} $, $a_{3,i} $. \n",
    "\n",
    "\\begin{gather}\n",
    "    S_{3,i}(x_i) = f(x_i), \\\\\n",
    "    a_{0,i} = f(x_i), \\\\\n",
    "    S^\\prime_{3,i}(x) = a_{1,i} + 2a_{2,i} (x-x_i) + 3a_{3,i}(x-x_i)^2, \\\\\n",
    "    S^{\\prime\\prime}_{3,i}(x) = 2a_{2,i} + 6a_{3,i}(x-x_i), \\\\\n",
    "    S^{\\prime\\prime}_{3,i}(x_i) = f^{\\prime\\prime}(x_i), \\\\\n",
    "    2a_{2,i} = m_i, \\\\\n",
    "    a_{2,i} = \\frac{m_i}{2}, \\\\\n",
    "    S^{\\prime\\prime}_{3,i}(x_{i+1}) = f^{\\prime\\prime}(x_{i+1}), \\\\\n",
    "    m_i + 6 a{3,i} h_{i+1} = m_{i+1}, \\\\\n",
    "    a{3,i} = \\frac{\\triangle m_i}{6h_{i+1}}, \\\\\n",
    "    S_{3,i}(x_{i+1}) = f(x_{i+1}), \\\\\n",
    "    f(x_i) + a_{1,i} h_{i+1} +\\frac{m_i}{2} h^2_{i+1} + \n",
    "            \\frac{\\triangle m_i}{6h_{i+1}} h^3_{i+1} = f(x_{i+1}), \\\\\n",
    "    a_{1,i} h_{i+1} + \\frac{m_i}{2} h^2_{i+1} + \\frac{\\triangle m_i}{6} h^2_{i+1} \n",
    "            = \\triangle f_i , \\\\\n",
    "    a_{1,i} h_{i+1} = \\triangle f_i - \\frac{m_i}{2} h^2_{i+1} - \\frac{\\triangle m_i}{6} h^2_{i+1}, \\\\\n",
    "    a_{1,i} = \\frac{\\triangle f_i}{h_{i+1}} - \\frac{m_i}{2} h_{i+1} - \\frac{\\triangle m_i}{6} h_{i+1}.    \n",
    "\\end{gather}\n",
    "\n",
    "Therefore\n",
    "\n",
    "\\begin{eqnarray}\n",
    "    S_{3,i}(x) = f_i \n",
    "        + (\\frac{\\triangle f_i}{h_{i+1}} - \\frac{m_i}{2} h_{i+1} - \\frac{\\triangle m_i}{6} h_{i+1}) (x-x_i)\n",
    "        + \\frac{m_i}{2} (x-x_i)^2 +  \\frac{\\triangle m_i}{6h_{i+1}} (x-x_i)^3.\n",
    "\\end{eqnarray}\n",
    "\n",
    "Nextly consider this equation: \n",
    "\n",
    "\\begin{eqnarray}\n",
    "    S^\\prime_{3,i}(x_i) = S^\\prime_{3,i-1}(x_i). \n",
    "\\end{eqnarray}\n",
    "\n",
    "\n",
    "\n",
    "\n",
    "\\begin{gather}\n",
    "    S^\\prime_{3,i}(x) = a_{1,i} + 2a_{2,i} (x-x_i) + 3a_{3,i}(x-x_i)^2, \\\\\n",
    "    S^\\prime_{3,i}(x_i) = a_{1,i} + 2a_{2,i} (x_i-x_i) + 3a_{3,i}(x_i-x_i)^2, \\\\\n",
    "    S^\\prime_{3,i}(x_i) = a_{1,i}, \\\\\n",
    "    S^\\prime_{3,i-1}(x_i) = a_{1,i-1} + 2a_{2,i-1} (x_i-x_{i-1}) + 3a_{3,i-1}(x_i-x_{i-1})^2, \\\\\n",
    "    a_{1,i} = a_{1,i-1} + 2a_{2,i-1} (x_i-x_{i-1}) + 3a_{3,i-1}(x_i-x_{i-1})^2, \\\\\n",
    "    \\frac{\\triangle f_i}{h_{i+1}} - \\frac{m_i}{2} h_{i+1} - \\frac{\\triangle m_i}{6} h_{i+1} = \n",
    "         \\frac{\\triangle f_{i-1}}{h_{i}} - \\frac{m_{i-1}}{2} h_{i} - \\frac{\\triangle m_{i-1}}{6} h_{i} + \n",
    "         m_{i-1} h_i + \\frac{\\triangle m_{i-1}}{2h_{i}} h^2_i, \\\\\n",
    "    \\frac{\\triangle f_i}{h_{i+1}} -\\frac{\\triangle f_{i-1}}{h_{i}}  = \\frac{m_i}{2} h_{i+1} + \n",
    "        \\frac{m_{i+1} - m_i}{6} h_{i+1} - \\frac{m_{i-1}}{2} h_{i} - \\frac{m_{i} - m_{i-1}}{6} h_{i} + \n",
    "        m_{i-1} h_i + \\frac{(m_{i} - m_{i-1})h_i}{2}, \\\\\n",
    "    \\frac{\\triangle f_i}{h_{i+1}} -\\frac{\\triangle f_{i-1}}{h_i}  = \\frac{h_{i+1}}{2} m_i + \n",
    "        \\frac{h_{i+1}}{6}m_{i+1} - \\frac{h_{i+1}}{6} m_i - \\frac{h_i}{2} m_{i-1} - \\frac{h_i}{6} m_{i} + \\frac{h_i}{6} m_{i-1} + \n",
    "         h_i m_{i-1} + \\frac{h_i}{2}m_{i} -\\frac{h_i}{2} m_{i-1}, \\\\\n",
    "    \\frac{\\triangle f_i}{h_{i+1}} -\\frac{\\triangle f_{i-1}}{h_i}  =  h_i m_{i-1} + \\frac{h_i}{6} m_{i-1} - \\frac{h_i}{2} m_{i-1} \n",
    "        -\\frac{h_i}{2} m_{i-1} +  \\frac{h_i}{2}m_i  + \\frac{h_{i+1}}{2} m_i - \\frac{h_{i+1}}{6} m_i - \\frac{h_i}{6} m_i +\n",
    "        \\frac{h_{i+1}}{6}m_{i+1}  , \\\\\n",
    "    \\frac{\\triangle f_i}{h_{i+1}} -\\frac{\\triangle f_{i-1}}{h_i}  =  (h_i + \\frac{h_i}{6}- \\frac{h_i}{2} -\\frac{h_i}{2}) m_{i-1} \n",
    "        +  (\\frac{h_i}{2}  + \\frac{h_{i+1}}{2} - \\frac{h_{i+1}}{6} - \\frac{h_i}{6}) m_i + \\frac{h_{i+1}}{6}m_{i+1}  , \\\\\n",
    "    \\frac{\\triangle f_i}{h_{i+1}} -\\frac{\\triangle f_{i-1}}{h_i}  =  \\frac{h_i}{6} m_{i-1} \n",
    "        +  \\frac{2h_i + 2h_{i+1}}{6} m_i + \\frac{h_{i+1}}{6}m_{i+1}  , \\\\\n",
    "    \\frac{\\triangle f_i}{h_{i+1}} -\\frac{\\triangle f_{i-1}}{h_i}  =  \\frac{h_i}{6} m_{i-1} \n",
    "        +  \\frac{h_i + h_{i+1}}{3} m_i + \\frac{h_{i+1}}{6}m_{i+1}.\n",
    "\\end{gather}\n",
    "\n",
    "\n",
    "Finally:\n",
    "\n",
    "\\begin{gather} \n",
    "    \\frac{\\triangle f_i}{h_{i+1}} -\\frac{\\triangle f_{i-1}}{h_i}  =  \n",
    "        \\frac{h_i}{6} m_{i-1} +  \\frac{h_i + h_{i+1}}{3} m_i + \\frac{h_{i+1}}{6}m_{i+1}.\n",
    "\\end{gather}\n",
    "\n",
    "Where:\n",
    "\n",
    "\\begin{eqnarray}\n",
    "    h_{i+1} &= x_{i+1} - x_i, \\\\\n",
    "    \\triangle f_i &= f_{i+1} - f_i, \\\\\n",
    "    i &= \\overline{1,n-1}.\n",
    "\\end{eqnarray}"
   ]
  },
  {
   "cell_type": "markdown",
   "metadata": {},
   "source": [
    "### 6. Create a system of equations using this formula [Matrix representation. Mathematical formulas]"
   ]
  },
  {
   "cell_type": "markdown",
   "metadata": {
    "pycharm": {
     "name": "#%% md\n"
    }
   },
   "source": [
    "Matrix representation:\n",
    "\n",
    "\\begin{pmatrix}\n",
    "    \\frac{h_1 + h_{2}}{3} & \\frac{h_2}{6} & 0 & 0 & 0 & \\dots & 0 & 0 \n",
    "        & \\frac{\\triangle f_1}{h_2} -\\frac{\\triangle f_0}{h_1} \\\\\n",
    "    \\frac{h_2}{6} & \\frac{h_2 + h_3}{3} & \\frac{h_3}{6} & 0 & 0 & \\dots & 0 & 0 \n",
    "        & \\frac{\\triangle f_2}{h_3} -\\frac{\\triangle f_1}{h_2} \\\\\n",
    "    0 & \\frac{h_3}{6} & \\frac{h_3 + h_4}{3} & \\frac{h_4}{6} & 0 & \\dots & 0 & 0 \n",
    "        & \\frac{\\triangle f_3}{h_4} -\\frac{\\triangle f_2}{h_3} \\\\\n",
    "    0 & 0 &  \\frac{h_4}{6} & \\frac{h_4 + h_5}{3} & \\frac{h_5}{6} &  \\dots & 0 & 0 \n",
    "        & \\frac{\\triangle f_4}{h_5} -\\frac{\\triangle f_3}{h_4} \\\\\n",
    "    \\vdots & \\vdots & \\vdots & \\vdots & \\vdots & \\ddots & \\vdots & \\vdots & \\vdots \\\\\n",
    "    0 & 0  & 0 & 0 & 0 & \\dots &  \\frac{h_{n-1}}{6} & \\frac{h_{n-1} + h_n}{3} \n",
    "        & \\frac{\\triangle f_{n-1}}{h_n} -\\frac{\\triangle f_{n-2}}{h_{n-1}} \\\\\n",
    "\\end{pmatrix}\n",
    "\n",
    "and generally\n"
   ]
  },
  {
   "cell_type": "markdown",
   "metadata": {},
   "source": [
    "### 7. Explain what is an unknown variable in this system. whether the system is closed with respect to an unknown variable. What is missing for closure. [Text, no more than 200 characters]"
   ]
  },
  {
   "cell_type": "markdown",
   "metadata": {
    "pycharm": {
     "name": "#%% md\n"
    }
   },
   "source": [
    "The unknown variable is $m_i$, where $i = \\overline{0,n}$ \n",
    "and the system is unclosed because we need two more equations to determine $m_0$ and $m_n$.\n",
    "\n",
    "The simples way to get closed system is $m_0 = 0$ and $m_n = 0$. \n",
    "That conditions called conditions of natural spline.\n",
    "\n",
    "\n",
    "\n",
    "\n",
    "\n",
    "\n"
   ]
  },
  {
   "cell_type": "markdown",
   "metadata": {},
   "source": [
    "### 8. Bring this matrix to the appropriate form to use the Tridiagonal matrix algorithm [Mathematical derivation. Use Gauss Elimination]"
   ]
  },
  {
   "cell_type": "markdown",
   "metadata": {
    "pycharm": {
     "name": "#%% md\n"
    }
   },
   "source": [
    "The appropriate form of the matrix is:\n",
    "\n",
    "\\begin{pmatrix}\n",
    "    1 & -P_1  & 0 & 0 & \\dots & Q_1 \\\\\n",
    "    0 & 1 & -P_2 & 0 & \\dots  & Q_2 \\\\\n",
    "    0 & 0 & 1 & -P_3  & \\dots& Q_3 \\\\\n",
    "    \\vdots & \\vdots & \\vdots & \\vdots  & \\ddots & \\vdots \\\\\n",
    "    0 & 0 & 0 & 1  & \\dots  & Q_n \\\\\n",
    "\\end{pmatrix}\n",
    "\n",
    "Therefore:\n",
    "\n",
    "\\begin{pmatrix}\n",
    "    1 & \\frac{h_2}{6} * \\frac{3}{h_1 + h_{2}}  & 0 & 0 & \\dots & 0 & 0 \n",
    "        & (\\frac{\\triangle f_1}{h_2} -\\frac{\\triangle f_0}{h_1}) \\frac{3}{h_1 + h_{2}}  \\\\\n",
    "    \\frac{h_2}{6} & \\frac{h_2 + h_3}{3} & \\frac{h_3}{6} & 0 &  \\dots & 0 & 0 \n",
    "        & \\frac{\\triangle f_2}{h_3} -\\frac{\\triangle f_1}{h_2} \\\\\n",
    "    0 & \\frac{h_3}{6} & \\frac{h_3 + h_4}{3} & \\frac{h_4}{6} & \\dots & 0 & 0 \n",
    "        & \\frac{\\triangle f_3}{h_4} -\\frac{\\triangle f_2}{h_3} \\\\\n",
    "    \\vdots & \\vdots & \\vdots & \\vdots  & \\ddots & \\vdots & \\vdots & \\vdots \\\\\n",
    "    0 & 0  & 0 & 0 & \\dots &  \\frac{h_{n-1}}{6} & \\frac{h_{n-1} + h_n}{3} \n",
    "        & \\frac{\\triangle f_{n-1}}{h_n} -\\frac{\\triangle f_{n-2}}{h_{n-1}} \\\\\n",
    "\\end{pmatrix}\n",
    "\n",
    "\\begin{pmatrix}\n",
    "    1 & \\frac{h_2 }{2(h_1 + h_{2})}  & 0 & 0 & \\dots & 0 & 0 \n",
    "        & (\\frac{\\triangle f_1}{h_2} -\\frac{\\triangle f_0}{h_1}) \\frac{3}{h_1 + h_{2}}  \\\\\n",
    "    \\frac{h_2}{6} - \\frac{h_2}{6} & \\frac{h_2 + h_3}{3} - \\frac{h_2}{6} * \\frac{h_2 }{2(h_1 + h_{2})} & \\frac{h_3}{6} & 0 &  \\dots & 0 & 0 \n",
    "        & (\\frac{\\triangle f_2}{h_3} -\\frac{\\triangle f_1}{h_2}) - \\frac{h_2}{6} * (\\frac{\\triangle f_1}{h_2} -\\frac{\\triangle f_0}{h_1}) \\frac{3}{h_1 + h_{2}} \\\\\n",
    "    0 & \\frac{h_3}{6} & \\frac{h_3 + h_4}{3} & \\frac{h_4}{6} & \\dots & 0 & 0 \n",
    "        & \\frac{\\triangle f_3}{h_4} -\\frac{\\triangle f_2}{h_3} \\\\\n",
    "    \\vdots & \\vdots & \\vdots & \\vdots  & \\ddots & \\vdots & \\vdots & \\vdots \\\\\n",
    "    0 & 0  & 0 & 0 & \\dots &  \\frac{h_{n-1}}{6} & \\frac{h_{n-1} + h_n}{3} \n",
    "        & \\frac{\\triangle f_{n-1}}{h_n} -\\frac{\\triangle f_{n-2}}{h_{n-1}} \\\\\n",
    "\\end{pmatrix}\n",
    "\n",
    "\\begin{pmatrix}\n",
    "    1 & \\frac{h_2 (h_1 + h_{2})}{2}  & 0 & 0 & \\dots & 0 & 0 \n",
    "        & (\\frac{\\triangle f_1}{h_2} -\\frac{\\triangle f_0}{h_1}) \\frac{3}{h_1 + h_{2}}  \\\\\n",
    "    0 & \\frac{4(h_2 + h_3)(h_1 + h_2)}{12(h_1 + h_2)} - \\frac{h^2_2}{12(h_1 + h_2)} & \\frac{h_3}{6} & 0 &  \\dots & 0 & 0 \n",
    "        & (\\frac{\\triangle f_2}{h_3} -\\frac{\\triangle f_1}{h_2}) - (\\frac{\\triangle f_1}{2(h_1 + h_2)} -\\frac{\\triangle f_0 h_2}{2h_1 (h_1 + h_2)}) \\\\\n",
    "    0 & \\frac{h_3}{6} & \\frac{h_3 + h_4}{3} & \\frac{h_4}{6} & \\dots & 0 & 0 \n",
    "        & \\frac{\\triangle f_3}{h_4} -\\frac{\\triangle f_2}{h_3} \\\\\n",
    "    \\vdots & \\vdots & \\vdots & \\vdots  & \\ddots & \\vdots & \\vdots & \\vdots \\\\\n",
    "    0 & 0  & 0 & 0 & \\dots &  \\frac{h_{n-1}}{6} & \\frac{h_{n-1} + h_n}{3} \n",
    "        & \\frac{\\triangle f_{n-1}}{h_n} -\\frac{\\triangle f_{n-2}}{h_{n-1}} \\\\\n",
    "\\end{pmatrix}\n",
    "\n",
    "\\begin{pmatrix}\n",
    "    1 & \\frac{h_2 (h_1 + h_{2})}{2}  & 0 & 0 & \\dots & 0 & 0 \n",
    "        & (\\frac{\\triangle f_1}{h_2} -\\frac{\\triangle f_0}{h_1}) \\frac{3}{h_1 + h_{2}}  \\\\\n",
    "    0 & \\frac{ 4h_1 h_2 + 4h^2_2 + 4h_1 h_3 + 4h_2 h_3 - h^2_2}{12(h_1 + h_2)} & \\frac{h_3}{6} & 0 &  \\dots & 0 & 0 \n",
    "        & \\frac{\\triangle f_2 2h_1 h_2 (h_1 + h_2)}{2h_1 h_2 h_3(h_1 + h_2)} -\\frac{\\triangle f_1 2h_1 h_3(h_1 + h_2)}{2h_1 h_2 h_3(h_1 + h_2)} \n",
    "        - \\frac{\\triangle f_1 h_1 h_2 h_3}{2h_1 h_2 h_3(h_1 + h_2)} +\\frac{\\triangle f_0 h^2_2 h_3}{2 h_1 h_2 h_3 (h_1 + h_2)}) \\\\\n",
    "    0 & \\frac{h_3}{6} & \\frac{h_3 + h_4}{3} & \\frac{h_4}{6} & \\dots & 0 & 0 \n",
    "        & \\frac{\\triangle f_3}{h_4} -\\frac{\\triangle f_2}{h_3} \\\\\n",
    "    \\vdots & \\vdots & \\vdots & \\vdots  & \\ddots & \\vdots & \\vdots & \\vdots \\\\\n",
    "    0 & 0  & 0 & 0 & \\dots &  \\frac{h_{n-1}}{6} & \\frac{h_{n-1} + h_n}{3} \n",
    "        & \\frac{\\triangle f_{n-1}}{h_n} -\\frac{\\triangle f_{n-2}}{h_{n-1}} \\\\\n",
    "\\end{pmatrix}\n",
    "\n",
    "\\begin{pmatrix}\n",
    "    1 & \\frac{h_2 (h_1 + h_{2})}{2}  & 0 & 0 & \\dots & 0 & 0 \n",
    "        & (\\frac{\\triangle f_1}{h_2} -\\frac{\\triangle f_0}{h_1}) \\frac{3}{h_1 + h_{2}}  \\\\\n",
    "    0 & \\frac{ 3h^2_2 + 4h_1 h_2 + 4h_2 h_3 + 4h_1 h_3  }{12(h_1 + h_2)} & \\frac{h_3}{6} & 0 &  \\dots & 0 & 0 \n",
    "        & \\frac{\\triangle f_0 h^2_2 h_3  - \\triangle f_1 h_1 h_3(2h_1 + 3h_2) + \\triangle f_2 2h_1 h_2 (h_1 + h_2)}{2 h_1 h_2 h_3 (h_1 + h_2)}) \\\\\n",
    "    0 & \\frac{h_3}{6} & \\frac{h_3 + h_4}{3} & \\frac{h_4}{6} & \\dots & 0 & 0 \n",
    "        & \\frac{\\triangle f_3}{h_4} -\\frac{\\triangle f_2}{h_3} \\\\\n",
    "    \\vdots & \\vdots & \\vdots & \\vdots  & \\ddots & \\vdots & \\vdots & \\vdots \\\\\n",
    "    0 & 0  & 0 & 0 & \\dots &  \\frac{h_{n-1}}{6} & \\frac{h_{n-1} + h_n}{3} \n",
    "        & \\frac{\\triangle f_{n-1}}{h_n} -\\frac{\\triangle f_{n-2}}{h_{n-1}} \\\\\n",
    "\\end{pmatrix}\n",
    "\n",
    "\\begin{pmatrix}\n",
    "    1 & \\frac{h_2 (h_1 + h_{2})}{2}  & 0 & 0 & \\dots & 0 & 0 \n",
    "        & (\\frac{\\triangle f_1}{h_2} -\\frac{\\triangle f_0}{h_1}) \\frac{3}{h_1 + h_{2}}  \\\\\n",
    "    0 & \\frac{ 3h^2_2 + 4h_1 h_2 + 4h_2 h_3 + 4h_1 h_3  }{12(h_1 + h_2)} * \\frac{12(h_1 + h_2)}{ 3h^2_2 + 4h_1 h_2 + 4h_2 h_3 + 4h_1 h_3  } \n",
    "        & \\frac{h_3}{6}  * \\frac{12(h_1 + h_2)}{ 3h^2_2 + 4h_1 h_2 + 4h_2 h_3 + 4h_1 h_3  }  & 0 &  \\dots & 0 & 0 \n",
    "        & \\frac{\\triangle f_0 h^2_2 h_3  - \\triangle f_1 h_1 h_3(2h_1 + 3h_2) + \\triangle f_2 2h_1 h_2 (h_1 + h_2)}{2 h_1 h_2 h_3 (h_1 + h_2)}\n",
    "             * \\frac{12(h_1 + h_2)}{ 3h^2_2 + 4h_1 h_2 + 4h_2 h_3 + 4h_1 h_3  } \\\\\n",
    "    0 & \\frac{h_3}{6} & \\frac{h_3 + h_4}{3} & \\frac{h_4}{6} & \\dots & 0 & 0 \n",
    "        & \\frac{\\triangle f_3}{h_4} -\\frac{\\triangle f_2}{h_3} \\\\\n",
    "    \\vdots & \\vdots & \\vdots & \\vdots  & \\ddots & \\vdots & \\vdots & \\vdots \\\\\n",
    "    0 & 0  & 0 & 0 & \\dots &  \\frac{h_{n-1}}{6} & \\frac{h_{n-1} + h_n}{3} \n",
    "        & \\frac{\\triangle f_{n-1}}{h_n} -\\frac{\\triangle f_{n-2}}{h_{n-1}} \\\\\n",
    "\\end{pmatrix}\n",
    "\n",
    "\n",
    "\\begin{pmatrix}\n",
    "    1 & \\frac{h_2 (h_1 + h_{2})}{2}  & 0 & 0 & \\dots & 0 & 0 \n",
    "        & (\\frac{\\triangle f_1}{h_2} -\\frac{\\triangle f_0}{h_1}) \\frac{3}{h_1 + h_{2}}  \\\\\n",
    "    0 & 1 & \\frac{2(h_1 + h_2)h_3}{ 3h^2_2 + 4h_1 h_2 + 4h_2 h_3 + 4h_1 h_3  }  & 0 &  \\dots & 0 & 0 \n",
    "        & \\frac{6(\\triangle f_0 h^2_2 h_3  - \\triangle f_1 h_1 h_3(2h_1 + 3h_2) + \\triangle f_2 2h_1 h_2 (h_1 + h_2))}{ h_1 h_2 h_3 (3h^2_2 + 4h_1 h_2 + 4h_2 h_3 + 4h_1 h_3 )} \\\\\n",
    "    0 & \\frac{h_3}{6} & \\frac{h_3 + h_4}{3} & \\frac{h_4}{6} & \\dots & 0 & 0 \n",
    "        & \\frac{\\triangle f_3}{h_4} -\\frac{\\triangle f_2}{h_3} \\\\\n",
    "    \\vdots & \\vdots & \\vdots & \\vdots  & \\ddots & \\vdots & \\vdots & \\vdots \\\\\n",
    "    0 & 0  & 0 & 0 & \\dots &  \\frac{h_{n-1}}{6} & \\frac{h_{n-1} + h_n}{3} \n",
    "        & \\frac{\\triangle f_{n-1}}{h_n} -\\frac{\\triangle f_{n-2}}{h_{n-1}} \\\\\n",
    "\\end{pmatrix}\n",
    "\n",
    "\n",
    "And so on to get such matrix:\n",
    "\n",
    "\\begin{pmatrix}\n",
    "    1 & -P_1  & 0 & 0 & \\dots & Q_1 \\\\\n",
    "    0 & 1 & -P_2 & 0 & \\dots  & Q_2 \\\\\n",
    "    0 & 0 & 1 & -P_3  & \\dots& Q_3 \\\\\n",
    "    \\vdots & \\vdots & \\vdots & \\vdots  & \\ddots & \\vdots \\\\\n",
    "    0 & 0 & 0 & 1  & \\dots  & Q_n \\\\\n",
    "\\end{pmatrix}\n",
    "\n",
    "Where $P_i$ and $Q_i$ will declare in the next stage."
   ]
  },
  {
   "cell_type": "markdown",
   "metadata": {},
   "source": [
    "### 9. Derive formulas of direct pass and reverse pass of Tridiagonal matrix algorithm [Mathematical formals]"
   ]
  },
  {
   "cell_type": "markdown",
   "metadata": {
    "pycharm": {
     "name": "#%% md\n"
    }
   },
   "source": [
    "Consider:\n",
    "\n",
    "\\begin{gather} \n",
    "    \\alpha_i = \\frac{h_i}{6}, \\\\\n",
    "    \\beta_i = -\\frac{h_i + h_{i+1}}{3}, \\\\\n",
    "    \\gamma_i = \\frac{h_{i+1}}{6}m_{i+1}, \\\\\n",
    "    \\delta_i = \\frac{\\triangle f_i}{h_{i+1}} -\\frac{\\triangle f_{i-1}}{h_i}, \\\\\n",
    "    \\alpha_i x_{i-1} - \\beta_i x_i + \\gamma_i x_{i+1} = \\delta_i.\n",
    "\\end{gather}\n",
    "\n",
    "The part of reverse pass:\n",
    "\n",
    "\\begin{gather} \n",
    "    x_i = P_i x_{i+1} + Q_i, \\\\\n",
    "    i = \\overline{1,n-1}.    \n",
    "\\end{gather}\n",
    " \n",
    "\n",
    "Therefore \n",
    "\n",
    "\\begin{gather} \n",
    "    x_i = P_i x_{i+1} + Q_i, \\\\\n",
    "    x_{i-1} = P_{i-1} x_{i} + Q_{i-1}, \\\\\n",
    "    \\alpha_i (P_{i-1} x_{i} + Q_{i-1}) - \\beta_i x_i + \\gamma_i x_{i+1} = \\delta_i, \\\\\n",
    "    \\alpha_i P_{i-1} x_{i} + \\alpha_i Q_{i-1} - \\beta_i x_i + \\gamma_i x_{i+1} = \\delta_i, \\\\\n",
    "    x_{i} (\\alpha_i P_{i-1} - \\beta_i) + \\gamma_i x_{i+1} = \\delta_i - \\alpha_i Q_{i-1}, \\\\\n",
    "    x_{i}  =  \\frac{\\gamma_i}{\\beta_i- \\alpha_i P_{i-1}} x_{i+1} \n",
    "        + \\frac{\\delta_i - \\alpha_i Q_{i-1}}{\\alpha_i P_{i-1} - \\beta_i}, \\\\\n",
    "    P_i = \\frac{\\gamma_i}{\\beta_i- \\alpha_i P_{i-1}}, \\\\\n",
    "    Q_i = \\frac{\\delta_i - \\alpha_i Q_{i-1}}{\\alpha_i P_{i-1} - \\beta_i}.\n",
    "\\end{gather}\n",
    "\n",
    "\n",
    "Where:\n",
    "\n",
    "\\begin{gather} \n",
    "    P_i = \\frac{\\gamma_i}{\\beta_i- \\alpha_i P_{i-1}}, \\\\\n",
    "    P_1 = \\frac{\\gamma_1}{\\beta_1}, \\\\\n",
    "    Q_i = \\frac{\\delta_i - \\alpha_i Q_{i-1}}{\\alpha_i P_{i-1} - \\beta_i}, \\\\\n",
    "    Q_1 =  - \\frac{\\delta_1}{\\beta_1}, \\\\\n",
    "    i = \\overline{1,n-1}.    \n",
    "\\end{gather}\n",
    "\n",
    "is direct pass.\n",
    "\n",
    "And reverse pass: \n",
    "\n",
    "\\begin{gather} \n",
    "    x_i = P_i x_{i+1} + Q_i, \\\\\n",
    "    x_n = Q_n = \\frac{\\delta_n - \\alpha_n Q_{n-1}}{\\alpha_n P_{n-1} - \\beta_n}, \\\\\n",
    "    i = \\overline{1,n-1}.    \n",
    "\\end{gather}\n"
   ]
  },
  {
   "cell_type": "markdown",
   "metadata": {},
   "source": [
    "### 10. Implement code prototype of the future algorithm implementation. Classes/methods (if you use OOP), functions. The final implementation (on language chosen by you) should not differ from the functions declared in the prototype. [Python code]"
   ]
  },
  {
   "cell_type": "code",
   "execution_count": null,
   "metadata": {},
   "outputs": [],
   "source": [
    "def gauss_elimination():\n",
    "    pass\n",
    "\n",
    "def direct_pass():\n",
    "    pass\n",
    "\n",
    "\n",
    "def reverse_pass():\n",
    "    pass\n",
    "\n",
    "\n",
    "\n",
    "\n"
   ]
  },
  {
   "cell_type": "markdown",
   "metadata": {},
   "source": [
    "### 11. Derive formula of Cubic Spline method error [Mathematical formulas]"
   ]
  },
  {
   "cell_type": "markdown",
   "metadata": {
    "pycharm": {
     "name": "#%% md\n"
    }
   },
   "source": [
    "We can derive method error only if $f(x) \\in C_4[a,b]$ otherwise we can determine method error.\n",
    "\n",
    "If $f(x) \\in C_4[a,b]$:\n",
    "\n",
    "\\begin{gather} \n",
    "    ||f^{(p)} - S^{(p)}_3(x) ||_{C[a,b]} = \\max_{[a,b]}|f^{(p)} - S^{(p)}_3(x)| \\le M_4h^{4-p}, ~p=0,1,2.\n",
    "\\end{gather}\n",
    "    \n",
    "\n",
    "\n",
    "\n",
    "\n"
   ]
  },
  {
   "cell_type": "markdown",
   "metadata": {},
   "source": [
    "### 12. Rate the complexity of the algorithm [Text, and rate in terms of big O, no more than 100 characters]"
   ]
  },
  {
   "cell_type": "markdown",
   "metadata": {
    "pycharm": {
     "name": "#%% md\n"
    }
   },
   "source": [
    "\n",
    "Direct pass: $O(n)$.\n",
    "Reverse pass: $O(n)$.\n",
    "Therefore full algorithm $O(n)$.\n",
    "\n",
    "\n",
    "\n",
    "\n",
    "\n",
    "\n"
   ]
  },
  {
   "cell_type": "markdown",
   "metadata": {},
   "source": [
    "### Congrats!"
   ]
  }
 ],
 "metadata": {
  "kernelspec": {
   "display_name": "Python 3",
   "language": "python",
   "name": "python3"
  },
  "language_info": {
   "codemirror_mode": {
    "name": "ipython",
    "version": 3
   },
   "file_extension": ".py",
   "mimetype": "text/x-python",
   "name": "python",
   "nbconvert_exporter": "python",
   "pygments_lexer": "ipython3",
   "version": "3.6.8"
  },
  "pycharm": {
   "stem_cell": {
    "cell_type": "raw",
    "source": [],
    "metadata": {
     "collapsed": false
    }
   }
  }
 },
 "nbformat": 4,
 "nbformat_minor": 2
}