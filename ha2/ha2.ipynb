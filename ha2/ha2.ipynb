{
 "cells": [
  {
   "cell_type": "code",
   "execution_count": null,
   "metadata": {},
   "outputs": [],
   "source": [
    "import sympy as sp\n",
    "import numpy as np\n",
    "import matplotlib.pyplot as plt"
   ]
  },
  {
   "cell_type": "markdown",
   "metadata": {},
   "source": [
    "### 1. Formulate the statement of the interpolation problem with Cubic Spline [mathematical formula]"
   ]
  },
  {
   "cell_type": "markdown",
   "metadata": {},
   "source": [
    "Let on interval $[a, b]$ be grid-based function $y_i = f(x_i)$ on grid $\\Omega_n$, we should approximate this \n",
    "function $\\tilde{f} -> \\hat{f_i} = f_i$ with Cubic Spline:\n",
    "\n",
    "$S_3 \\in C^2[a, b]$, with $q = 1$, such that\n",
    "\n",
    "$S_3(x) = \\bigcup \\limits_{i=0}^{n-1} S_{3, i}(x)$, \n",
    "\n",
    "$S_{3, i} = a_{0, i} + a_{1, i} (x - x_i) + a_{2, i} (x - x_i)^2 + a_{3, i} (x - x_i)^3 $,\n",
    "where $i = 0, \\ldots, n-1$, number of splines."
   ]
  },
  {
   "cell_type": "markdown",
   "metadata": {},
   "source": [
    "### 2. Formulate the functional and differential compatibility conditions [mathematical formula]"
   ]
  },
  {
   "cell_type": "markdown",
   "metadata": {},
   "source": [
    "\n",
    "Compatibility conditions:\n",
    "$\\delta S^{(p_1)}_{3, i}(x_j) = S^{(p_1)}_{3, i}(x)$ $\\large|_{x=x_i}$ $ - f^{(p_1)}(x)$ $\\large |_{x=x_i}$ \n",
    "$ = 0, j = i, i+1$\n",
    "\n",
    "Assume first method, where $p_1 = \\{0, 2\\}$\n",
    "\n",
    "Functional compatibility conditions:\n",
    "- 1) $\\delta S_{3, i}(x)$ $\\large|_{x=x_i}$ $= S_{3, i}(x_i)$ $ - f(x_i)$ $ = 0$\n",
    "- 2) $\\delta S_{3, i}(x)$ $\\large|_{x=x_{i+1}}$ $= S_{3, i}(x_{i+1})$ $ - f(x_{i+1})$ $ = 0$\n",
    "\n",
    "Differential compatibility conditions:\n",
    "- 3) $\\delta S^{''}_{3, i}(x)$ $\\large|_{x=x_i}$ $= S^{''}_{3, i}(x_i)$ $ - f^{''}(x_i)$ $ = 0$\n",
    "- 4) $\\delta S^{''}_{3, i}(x)$ $\\large|_{x=x_{i+1}}$ $= S^{''}_{3, i}(x_{i+1})$ $ - f^{''}(x_{i+1})$ $ = 0$\n",
    "\n"
   ]
  },
  {
   "cell_type": "markdown",
   "metadata": {},
   "source": [
    "### 3. Formulate stitching conditions [mathematical formula]"
   ]
  },
  {
   "cell_type": "markdown",
   "metadata": {},
   "source": [
    "\n",
    "Stitching conditions: $S^{(p_2)}_{3, i-1}(x)$ $\\large|_{x=x_i}$ \n",
    "$= S^{(p_2)}_{3, i}(x)$ $\\large|_{x=x_i}$  $ i = \\overline{1, n-1}$\n",
    "\n",
    "Assume first method, where $p_2 = \\{1\\}$\n",
    "\n",
    "Stitching conditions:\n",
    "* $S^{'}_{3, i-1}(x)$ $\\large|_{x=x_i}$ \n",
    "$= S^{'}_{3, i}(x)$ $\\large|_{x=x_i}$  $ i = \\overline{1, n-1}$\n",
    "\n"
   ]
  },
  {
   "cell_type": "markdown",
   "metadata": {},
   "source": [
    "### 4. Justify why these conditions provide you with the required smoothness [thesis text, no more than 500 characters]"
   ]
  },
  {
   "cell_type": "markdown",
   "metadata": {},
   "source": [
    "\n",
    "Functional compatibility conditions solves interpolation problem. Stitching conditions solves problem with \n",
    "different tangents on the knots, and makes cubic spline piece-wise smooth function. Two conditions does not give \n",
    "enough equations, to find all coefficients.  So we add another differential conditions, which adds more unknown \n",
    "parameters to the system of equations, but with bounding conditions, the system becomes closed.\n"
   ]
  },
  {
   "cell_type": "markdown",
   "metadata": {},
   "source": [
    "### 5. Derive dependency formula: the dependence of the second derivatives at the grid nodes on the increment of the function (the function values difference on the grid nodes). [Mathematical formulas derivation. Detailed, with clear transitions]"
   ]
  },
  {
   "cell_type": "markdown",
   "metadata": {},
   "source": [
    "First derivative of spline:\n",
    "$S^{'}_{3, i}(x) = a_{1,i} + 2a_{2, i}(x - x_i) + 3a_{3, i}(x - x_i)^2$\n",
    "\n",
    "Second derivative of spline:\n",
    "$S^{''}_{3, i}(x) = 2a_{2, i} + 6a_{3, i} (x - x_i)$\n",
    "\n",
    "Substitute spline equation into (1), (2), and second derivative into (3), (4).\n",
    "\n",
    "\\begin{cases} a_{0,i} + a_{1,i}(x_i - x_i) + a_{2,i}(x_i - x_i)^2 + a_{3,i}(x_i - x_i)^3 - f(x_i) = 0 \\\\ a_{0,i} + a_{1,i}(x_{i+1} - x_i) + a_{2,i}(x_{i+1} - x_i)^2 + a_{3,i}(x_{i+1} - x_i)^3 - f(x_{i+1}) = 0 \\\\ 2a_{2,i} + 6a_{3,i}(x_i - x_i) - f^{''}(x_i) = 0 \\\\ 2a_{2,i} + 6a_{3,i}(x_{i+1} - x_i) - f^{''}(x_{i+1}) = 0 \\end{cases}\n",
    "\n",
    "let $h_{i+1} = x_{i+1} - x_{i}$, $\\Delta f_i = f_{i+1} - f_{i}$, $f_i = f(x_i)$, $\\Delta m_i = m_{i+1} - m_i$, $m_i = f^{''}(x_i)$\n",
    "\n",
    "\\begin{cases} a_{0, i} - f_i = 0 \\\\ a_{0,i} + a_{1,i}(x_{i+1} - x_i) + a_{2,i}(x_{i+1} - x_i)^2 + a_{3,i}(x_{i+1} - x_i)^3 - f_{i+1} = 0 \\\\ 2a_{2, i} - m_i = 0 \\\\ 2a_{2, i} + 6a_{3, i}(x_{i+1} - x_i) - m_{i+1} = 0 \\end{cases}\n",
    "\n",
    "Subtracting 4th from 3rd equations:\n",
    "\n",
    "\\begin{equation} -6a_{3, i}(x_{i+1} - x_i) - m_i + m_{i+1} = 0 \\end{equation}\n",
    "\n",
    "Substitute $h_{i+1}$ and $\\Delta m_i$:\n",
    "\n",
    "\\begin{equation}-6a_{3, i}h_{i+1} + \\Delta m_i = 0\\end{equation}\n",
    "\n",
    "\\begin{equation} a_{3, i} = \\frac{1}{6h_{i+1}}\\Delta m_i\\end{equation}\n",
    "\n",
    "\\begin{cases} a_{0, i} = f_i \\\\ f_i + a_{1,i}h_{i+1} + \\frac{m_i}{2} h_{i+1}^2 + \\frac{1}{6h_{i+1}}\\Delta m_i h_{i+1}^3 - f_{i+1} = 0 \\\\ a_{2, i} = \\frac{m_i}{2} \\\\ a_{3, i} = \\frac{1}{6h_{i+1}}\\Delta m_i \\end{cases}\n",
    "\n",
    "Solving second equation:\n",
    "\n",
    "\\begin{equation}f_i + a_{1,i}h_{i+1} + \\frac{m_i}{2} h_{i+1}^2 + \\frac{1}{6h_{i+1}}\\Delta m_i h_{i+1}^3 - f_{i+1} = 0\\end{equation}\n",
    "\n",
    "Substitute $\\Delta f_i$:\n",
    "\n",
    "\\begin{equation}-\\Delta f_i + a_{1, i}h_{i+1} + \\frac{m_i}{2} h_{i+1}^2 + \\frac{1}{6h_{i+1}}\\Delta m_i h_{i+1}^3 = 0\\end{equation}\n",
    "\n",
    "\\begin{equation}a_{1, i}h_{i+1} = \\Delta f_i - \\frac{m_i}{2} h_{i+1}^2 - \\frac{1}{6}\\Delta m_i h_{i+1}^2\\end{equation}\n",
    "\n",
    "\\begin{equation}a_{1, i} = \\frac{1}{h_{i+1}}\\Delta f_i - \\frac{h_{i+1}}{2} m_i - \\frac{h_{i+1}}{6}\\Delta m_i\\end{equation}\n",
    "\n",
    "\\begin{cases} a_{0, i} = f_i \\\\ a_{1, i} = \\frac{1}{h_{i+1}}\\Delta f_i - \\frac{h_{i+1}}{2} m_i - \\frac{h_{i+1}}{6}\\Delta m_i \\\\  a_{2, i} = \\frac{m_i}{2} \\\\ a_{3, i} = \\frac{1}{6h_{i+1}}\\Delta m_i \\end{cases}\n",
    "\n",
    "Substitute $a_{0, i}$, $a_{1,i}$, $a_{2,i}$, $a_{3, i}$ into spline equation:\n",
    "\n",
    "\\begin{equation}S_{3, i}(x) = f_i + \\left( \\frac{1}{h_{i+1}}\\Delta f_i - \\frac{h_{i+1}}{2} m_i - \\frac{h_{i+1}}{6}\\Delta m_i \\right)(x-x_i) + \\frac{m_i}{2} (x - x_i)^2 + \\frac{1}{6h_{i+1}}\\Delta m_i (x - x_i)^3\\end{equation}\n",
    "\n",
    "Taking first derivative of left part of equation of stitching conditions:\n",
    "\n",
    "\\begin{equation} S_{3, i-1}^{'}(x) = a_{1, i-1} + 2a_{2, i-1}(x - x_{i-1}) + 3a_{3, i-1}(x - x_{i-1})^2 \\end{equation}\n",
    "\n",
    "Taking first derivative of right part of equation of stitching conditions:\n",
    "\n",
    "\\begin{equation}S_{3, i}^{'}(x) = a_{1, i} + 2a_{2, i}(x - x_{i}) + 3a_{3, i}(x - x_{i})^2\\end{equation}\n",
    "\n",
    "Substitute coeffitients into stitching condition:\n",
    "\n",
    "\\begin{equation} \\frac{1}{h_i} \\Delta f_{i-1} - \\frac{h_i}{2} m_{i-1} - \\frac{h_i}{6} \\Delta m_{i-1} +  m_{i-1}(x_i - x_{i-1}) + \\frac{\\Delta m_{i-1}}{2h_{i}}(x_i - x_{i-1})^2 = \\frac{1}{h_{i+1}} \\Delta f_{i} - \\frac{h_{i+1}}{2} m_{i} - \\frac{h_{i+1}}{6} \\Delta m_{i} +  m_{i}(x_i - x_{i}) + \\frac{\\Delta m_{i}}{2h_{i+1}}(x_i - x_{i})^2 \\end{equation}\n",
    "\n",
    "Substituting $h_{i}$:\n",
    "$$ \\frac{1}{h_{i}} \\Delta f_{i-1} - \\frac{h_{i}}{2} m_{i-1} - \\frac{h_{i}}{6} \\Delta m_{i-1} +  m_{i-1} h_{i} + \\frac{\\Delta m_{i-1}}{2} h_{i} = \\frac{1}{h_{i+1}} \\Delta f_{i} - \\frac{h_{i+1}}{2} m_{i} - \\frac{h_{i+1}}{6} \\Delta m_{i} $$\n",
    "\n",
    "\\begin{equation} \\frac{h_i}{2}m_{i-1} + \\frac{h_i}{3}\\Delta m_{i-1} + \\frac{h_{i+1}}{2}m_i + \\frac{h_{i+1}}{6}\\Delta m_i = \\frac{1}{h_{i+1}} \\Delta f_i - \\frac{1}{h_i} \\Delta f_{i-1}\\end{equation}\n",
    "\n",
    "Let's remove $\\Delta m_i$ and $\\Delta m_{i-1}$:\n",
    "\n",
    "\\begin{equation} \\frac{h_i}{2}m_{i-1} + \\frac{h_i}{3}(m_i - m_{i-1}) + \\frac{h_{i+1}}{2}m_i + \\frac{h_{i+1}}{6} (m_{i+1} - m_i) = \\frac{1}{h_{i+1}} \\Delta f_i - \\frac{1}{h_i} \\Delta f_{i-1} \\end{equation}\n",
    "\n",
    "\\begin{equation} \\frac{h_i}{2} m_{i-1} + \\frac{h_i}{3} m_i - \\frac{h_i}{3} m_{i-1} + \\frac{h_{i+1}}{2} m_i + \\frac{h_{i+1}}{6} m_{i+1} - \\frac{h_{i+1}}{6} m_i =  \\frac{1}{h_{i+1}} \\Delta f_i - \\frac{1}{h_i} \\Delta f_{i-1} \\end{equation}\n",
    "\n",
    "\\begin{equation} m_{i-1} \\left( \\frac{3h_i}{6} - \\frac{2h_i}{6} \\right) + m_i \\left( \\frac{h_i}{3} + \\frac{3h_{i+1}}{6} - \\frac{h_{i+1}}{6} \\right) + \\frac{h_{i+1}}{6} m_{i+1} =  \\frac{1}{h_{i+1}} \\Delta f_i - \\frac{1}{h_i} \\Delta f_{i-1}  \\end{equation}\n",
    "\n",
    "\\begin{equation} \\frac{h_i}{6}m_{i-1} + m_i \\left( \\frac{h_i}{3} + \\frac{h_{i+1}}{3} \\right) + \\frac{h_{i+1}}{6} m_{i+1} =  \\frac{1}{h_{i+1}} \\Delta f_i - \\frac{1}{h_i} \\Delta f_{i-1} \\end{equation}\n",
    "\n",
    "\\begin{equation} \\frac{h_i}{6}m_{i-1} + \\frac{h_i + h_{i+1}}{3} m_i + \\frac{h_{i+1}}{6} m_{i+1} =  \\frac{1}{h_{i+1}} \\Delta f_i - \\frac{1}{h_i} \\Delta f_{i-1} \\end{equation}"
   ]
  },
  {
   "cell_type": "markdown",
   "metadata": {},
   "source": [
    "### 6. Create a system of equations using this formula [Matrix representation. Mathematical formulas]"
   ]
  },
  {
   "cell_type": "markdown",
   "metadata": {},
   "source": [
    "$$\\begin{bmatrix} \n",
    "\\frac{h_1 + h_2}{3} & \\frac{h_2}{6} & 0 & 0 & \\dots & 0 & 0 & 0 & \\frac{\\Delta f_1}{h_2} - \\frac{\\Delta f_0}{h_1} \\\\ \n",
    "\\frac{h_2}{6} & \\frac{h_2 + h_3}{3} & \\frac{h_3}{6} & 0 & \\dots & 0 & 0 & 0 & \\frac{\\Delta f_2}{h_3} - \\frac{\\Delta f_1}{h_2} \\\\\n",
    "0 & \\frac{h_3}{6} & \\frac{h_3 + h_4}{3} & \\frac{h_4}{6} & \\dots & 0 & 0 & 0 & \\frac{\\Delta f_3}{h_4} - \\frac{\\Delta f_2}{h_3} \\\\\n",
    "\\dots & \\dots & \\dots & \\dots & \\dots & \\dots & \\dots & \\dots & \\dots \\\\\n",
    "0 & 0 & 0 & 0 & \\dots & \\frac{h_{n-1}}{6} & \\frac{h_{n-1} + h_{n}}{3} & \\frac{h_n}{6} & \\frac{\\Delta f_{n-1}}{h_{n}} - \\frac{\\Delta f_{n-2}}{h_{n-1}}\n",
    "\\end{bmatrix} $$\n",
    "\n"
   ]
  },
  {
   "cell_type": "markdown",
   "metadata": {},
   "source": [
    "### 7. Explain what is an unknown variable in this system. whether the system is closed with respect to an unknown variable. What is missing for closure. [Text, no more than 200 characters]"
   ]
  },
  {
   "cell_type": "markdown",
   "metadata": {},
   "source": [
    "Unknown variable is $m_i$, it is not closed, as we are missing two equations. For closure used different \n",
    "ways of approximation of derivatives on the end(Boundary Conditions). For natural spline: $m_0 = 0$, \n",
    "$m_n = 0$.\n",
    "\n"
   ]
  },
  {
   "cell_type": "markdown",
   "metadata": {},
   "source": [
    "### 8. Bring this matrix to the appropriate form to use the Tridiagonal matrix algorithm [Mathematical derivation. Use Gauss Elimination]"
   ]
  },
  {
   "cell_type": "markdown",
   "metadata": {},
   "source": [
    "Open notation of tridiagonal system:\n",
    "\n",
    "\\begin{equation} \\alpha_i x_{i-1} - \\beta_i x_i + \\gamma_i x_{i+1} = \\delta_i, \\alpha_1 = \\gamma_n = 0, i = \\overline{1, n} \\end{equation}\n",
    "\n",
    "With extended matrix:\n",
    "\n",
    "$$ \\begin{bmatrix} \n",
    "-\\beta_1 & \\gamma_1 & 0 & 0 & \\dots & 0 & 0 & \\delta_1 \\\\ \n",
    "\\alpha_2 & -\\beta_2 & \\gamma_2 & 0 & \\dots & 0 & 0 & \\delta_2 \\\\\n",
    "0 & \\alpha_3 & -\\beta_3 & \\gamma_3 & \\dots & 0 & 0 & \\delta_3 \\\\\n",
    "\\dots & \\dots & \\dots & \\dots & \\dots & \\dots & \\dots & \\dots \\\\\n",
    "0 & 0 & 0 & 0 & \\dots & \\alpha_{n-1} & -\\beta_{n-1} & \\delta_{n-1}\n",
    "\\end{bmatrix} $$, where we have:\n",
    "\n",
    "$\\alpha_i = \\frac{h_i}{6}$, $\\beta_i = -\\frac{h_i + h_{i+1}}{3}$, $\\gamma_i = \\frac{h_{i+1}}{6}, \\delta_i = \\frac{\\Delta f_i}{h_{i+1}} - \\frac{\\Delta f_{i-1}}{h_i}$\n",
    "\n",
    "Appropriate form of Tridiagonal matrix:\n",
    "\n",
    "$$ \\begin{bmatrix} \n",
    "1 & -P_1 & 0 & 0 & \\dots & Q_1 \\\\ \n",
    "0 & 1 & -P_2  & 0 & \\dots & Q_2 \\\\\n",
    "0 & 0 & 1 & -P_3 & \\dots & Q_3 \\\\\n",
    "\\dots & \\dots & \\dots & \\dots & \\dots & \\dots \\\\\n",
    "0 & 0 & 0 & 1 & \\dots & Q_{n-1}\n",
    "\\end{bmatrix} $$\n",
    "\n",
    "**Step 1:** Divide 1st row by $-\\beta_1$.\n",
    "\n",
    "$$\n",
    "\\begin{bmatrix}\n",
    "1 & -\\frac{\\gamma_1}{\\beta_1} & 0 & 0 & \\dots & 0 & 0 & -\\frac{\\delta_1}{\\beta_1}\n",
    "\\end{bmatrix}\n",
    "$$\n",
    "\n",
    "**Step 2:** Subtruct 1st row multiplied by $\\alpha_2$ from 2nd row:\n",
    "\n",
    "$$\n",
    "\\begin{bmatrix}\n",
    "1 & -\\frac{\\gamma_1}{\\beta_1} & 0 & 0 & \\dots & 0 & 0 & -\\frac{\\delta_1}{\\beta_1} \\\\\n",
    "0 & -\\beta_2 + \\frac{\\gamma_1 \\alpha_2}{\\beta_1} & \\gamma_2 & 0 & \\dots & 0 & 0 & \\delta_2 + \\frac{\\delta_1 \\alpha_2}{\\beta_1}\n",
    "\\end{bmatrix}\n",
    "$$\n",
    "\n",
    "**Step 3:** Divide 2nd row by $-\\beta_2 + \\frac{\\gamma_1 \\alpha_2}{\\beta_1}$\n",
    "\n",
    "$$\n",
    "\\begin{bmatrix}\n",
    "1 & -\\frac{\\gamma_1}{\\beta_1} & 0 & 0 & \\dots & 0 & 0 & -\\frac{\\delta_1}{\\beta_1} \\\\\n",
    "0 & 1 & \\gamma_2 : (-\\beta_2 + \\frac{\\gamma_1 \\alpha_2}{\\beta_1}) & 0 & \\dots & 0 & 0 & (\\delta_2 + \\frac{\\delta_1 \\alpha_2}{\\beta_1}) : (-\\beta_2 + \\frac{\\gamma_1 \\alpha_2}{\\beta_1})\n",
    "\\end{bmatrix}\n",
    "$$\n",
    "\n",
    "By following the steps and substituting values of $\\beta_i$, $\\alpha_i$, $\\gamma_i$ and $\\delta_i$:\n",
    "\n",
    "$$\n",
    "\\begin{bmatrix}\n",
    "1 & \\frac{h_2}{2(h_1 + h_2)} & 0 & 0 & \\dots & (\\frac{\\Delta f_1}{h_2} - \\frac{\\Delta f_0}{h_1}) \\frac{3}{h_1 + h_2}  \\\\\n",
    "0 & 1 & \\frac{h_3}{2(h_2 + h_3)} - \\frac{2 h_3 (h_1 + h_2)}{h_2^2} & 0 & \\dots & (\\frac{h_2}{2(h_1 + h_2)} (\\frac{\\Delta f_1}{h_2} - \\frac{\\Delta f_0}{h_1}) - \\frac{\\Delta f_2}{h_3} + \\frac{\\Delta f_1}{h_2}) : (-\\frac{h_2 + h_3}{3} + \\frac{h_2^2}{12(h_1 + h_2)}) \\\\\n",
    "\\dots & \\dots & \\dots & \\dots & \\dots & \\dots \\\\\n",
    "0 & 0 & 0 & 1 & \\dots & (\\frac{h_{n-1}}{6} Q_{n-2}) : (-\\frac{h_{n-1} + h_n}{3} - \\frac{h_{n-1}}{6} P_{n-2})\n",
    "\\end{bmatrix}\n",
    "$$"
   ]
  },
  {
   "cell_type": "markdown",
   "metadata": {},
   "source": [
    "### 9. Derive formulas of direct pass and reverse pass of Tridiagonal matrix algorithm [Mathematical formals]"
   ]
  },
  {
   "cell_type": "markdown",
   "metadata": {},
   "source": [
    "Direct pass:\n",
    "\n",
    "1. Find $P_1$ and $Q_1$\n",
    "\n",
    "    From 8th exercise:\n",
    "    $$-P_1 = -\\frac{\\gamma_1}{\\beta_1} = \\frac{h_2}{2(h_1 + h_2)}$$\n",
    "    $$P_1 = -\\frac{h_2}{2(h_1 + h_2)}$$\n",
    "    $$Q_1 = -\\frac{\\delta_1}{\\beta_1} = -(\\frac{\\Delta f_1}{h_2} - \\frac{\\Delta f_0}{h_1}) \\frac{3}{h_1 + h_2}$$\n",
    "\n",
    "2. Find coefficients $P_2, Q_2$; $P_3, Q_3$; $\\dots$; $P_{n-1}, Q_{n-1}$, where\n",
    "\n",
    "$$-P_2 = \\gamma_2 : (-\\beta_2 + \\frac{\\gamma_1 \\alpha_2}{\\beta_1}) =  \\gamma_2 : (-\\beta_2 + \\alpha_2 \\frac{\\gamma_1}{\\beta_1})$$\n",
    "\n",
    "Substitute $P_1$:\n",
    "\n",
    "$$P_2 = \\frac{\\gamma_2}{\\beta_2 - \\alpha_2 P_{1}}$$\n",
    "\n",
    "Thus,\n",
    "\n",
    "$P_i = \\frac{\\gamma_i}{\\beta_i - \\alpha_i P_{i-1}} = \\frac{h_{i+1}}{6} : (-\\frac{h_i + h_{i+1}}{3} - \\frac{h_i}{6} P_{i-1}) = - \\frac{h_{i+1}}{2(h_i + h_{i+1})} - \\frac{h_{i+1}}{h_i} P_{i-1}$\n",
    "\n",
    "$$Q_2 = (\\delta_2 + \\frac{\\delta_1 \\alpha_2}{\\beta_1}) : (-\\beta_2 + \\frac{\\gamma_1 \\alpha_2}{\\beta_1}) = (\\delta_2 - \\alpha_2 (-\\frac{\\delta_1}{\\beta_1})) : (-\\beta_2 + \\alpha_2 \\frac{\\gamma_1}{\\beta_1})$$\n",
    "\n",
    "Substitute $P_1$ and $Q_1$:\n",
    "\n",
    "$$Q_2 = \\frac{\\delta_2 - \\alpha_2 Q_1}{-\\beta_2 + \\alpha_2 P_1} = \\frac{\\alpha_2 Q_{1} - \\delta_2}{\\beta_2 - \\alpha_2 P_{1}}$$\n",
    "\n",
    "Thus,\n",
    "\n",
    "$Q_i = \\frac{\\alpha_i Q_{i-1} - \\delta_i}{\\beta_i - \\alpha_i P_{i-1}} = (\\frac{h_i}{6} Q_{i-1} - \\frac{\\Delta f_i}{h_{i+1}} + \\frac{\\Delta f_{i-1}}{h_i}) : (- \\frac{h_i + h_{i+1}}{3} - \\frac{h_i}{6} P_{i-1})$\n",
    "\n",
    "Reverse pass:\n",
    "\n",
    "1. Find $m_{n-1} = \\frac{\\alpha_{n-1} Q_{n-2} - \\delta_{n-1}}{\\beta_{n-1} - \\alpha_{n-1} P_{n-2}} = (\\frac{h_{n-1}}{6} Q_{n-2} - \\frac{\\Delta f_{n-1}}{h_{n}} + \\frac{\\Delta f_{n-2}}{h_{n-1}}) : (- \\frac{h_{n-1} + h_{n}}{3} - \\frac{h_{n-1}}{6} P_{n-2})$\n",
    "\n",
    "2. Find $m_{n-2}, m_{n-3}, \\dots, m_1$ with formula \n",
    "\n",
    "$m_{n-2} = P_{n-2} m_{n-1} + Q_{n-2} = P_{n-2} (\\frac{h_{n-1}}{6} Q_{n-2} - \\frac{\\Delta f_{n-1}}{h_{n}} + \\frac{\\Delta f_{n-2}}{h_{n-1}}) : (- \\frac{h_{n-1} + h_{n}}{3} - \\frac{h_{n-1}}{6} P_{n-2}) + Q_{n-2}$\n",
    "\n",
    "$m_{n-3} = P_{n-3} m_{n-2} + Q_{n-3}$\n",
    "\n",
    "$m_1 = P_1 m_2 + Q_1$\n"
   ]
  },
  {
   "cell_type": "markdown",
   "metadata": {},
   "source": [
    "### 10. Implement code prototype of the future algorithm implementation. Classes/methods (if you use OOP), functions. The final implementation (on language chosen by you) should not differ from the functions declared in the prototype. [Python code]"
   ]
  },
  {
   "cell_type": "code",
   "execution_count": 125,
   "metadata": {},
   "outputs": [
    {
     "name": "stdout",
     "output_type": "stream",
     "text": [
      "tridiagonal matrix\n",
      "alpha [0, 0.016666666666666666, 0.016666666666666663, 0.016666666666666673, 0.016666666666666663, 0.016666666666666663, 0.016666666666666663, 0.01666666666666668] \n",
      "beta [-0.06666666666666667, -0.06666666666666667, -0.06666666666666667, -0.06666666666666667, -0.06666666666666665, -0.06666666666666665, -0.0666666666666667, -0.0666666666666667] \n",
      "gamma [0.016666666666666666, 0.016666666666666663, 0.016666666666666673, 0.016666666666666663, 0.016666666666666663, 0.016666666666666663, 0.01666666666666668, 0] \n",
      "delta [-2.245139882897927, -3.6327126400268037, -3.6327126400268015, -2.245139882897931, -3.552713678800501e-15, 2.245139882897934, 3.6327126400268015, 3.6327126400268046] \n",
      "\n",
      "forward pass\n",
      "p [-0.25, -0.2666666666666666, -0.26785714285714296, -0.26794258373205737, -0.26794871794871794, -0.2679491583648231, -0.26794918998527256, -0.0] \n",
      "q [-33.67709824346891, -49.14284270883715, -45.21962027484936, -23.977852971987964, 6.424834963006974, 34.37347140105734, 49.19260074177127, 45.22182742178982] \n",
      "\n",
      "derivatives\n",
      " [0, -23.97844436064178, -38.79461553130852, -38.805851915732376, -23.94473520737008, -0.12360022866318054, 24.43913612202259, 37.0754487144489, 45.22182742178982, 0] \n",
      "\n",
      "coefficients:\n",
      "[0.0, 6.27749326226876, 0.0, -39.96407393440296]\n",
      "[0.5877852522924731, 5.078571044236671, -11.98922218032089, -24.6936186177779]\n",
      "[0.9510565162951535, 1.9399180496391566, -19.39730776565426, -0.018727307373088333]\n",
      "[0.9510565162951535, -1.940105322712887, -19.402925957866188, 24.768527847270484]\n",
      "[0.5877852522924732, -5.0776346788680105, -11.97236760368504, 39.70189163117818]\n",
      "[1.2246467991473532e-16, -6.281051450669674, -0.06180011433159027, 40.937893917809625]\n",
      "[-0.5877852522924734, -5.065274656001703, 12.219568061011294, 21.060520987377195]\n",
      "[-0.9510565162951535, -1.98954541417813, 18.53772435722445, 13.57729784556818]\n",
      "[-0.9510565162951536, 2.1253183926338104, 22.61091371089491, -75.36971236964972]\n",
      "\n"
     ]
    },
    {
     "data": {
      "image/png": "[encoded data removed]",
      "text/plain": [
       "<Figure size 432x288 with 1 Axes>"
      ]
     },
     "metadata": {
      "needs_background": "light"
     },
     "output_type": "display_data"
    }
   ],
   "source": [
    "from pprint import pprint\n",
    "from matplotlib import pyplot as plt\n",
    "\n",
    "%matplotlib inline\n",
    "\n",
    "N = 10\n",
    "x = [0.0, 0.1, 0.2, 0.3, 0.4, 0.5, 0.6, 0.7, 0.8, 0.9]\n",
    "\n",
    "M = 3\n",
    "y1 = [0.0, 0.5877852522924731, 0.9510565162951535, 0.9510565162951535, 0.5877852522924732,\n",
    "      1.2246467991473532e-16, -0.5877852522924734, -0.9510565162951535, -0.9510565162951536,\n",
    "      -0.5877852522924734]\n",
    "y2 = [1.0, 0.8090169943749475, 0.30901699437494745, -0.30901699437494756, -0.8090169943749473,\n",
    "      -1.0, -0.8090169943749472, -0.30901699437494756, 0.30901699437494723, 0.8090169943749473]\n",
    "y3 = [0.0, 0.1, 0.2, 0.30000000000000004, 0.4, 0.5, 0.6000000000000001, 0.7000000000000001, 0.8, 0.9]\n",
    "\n",
    "K = 9\n",
    "x_head = [0.05, 0.15, 0.25, 0.35, 0.45, 0.55, 0.65, 0.75, 0.85]\n",
    "\n",
    "m0, mN = 0, 0\n",
    "\n",
    "y1_head = [0.3088791538716377, 0.8086540467262824, 0.9995568084495542, 0.8086400012457524,\n",
    "           0.30893533579375737, -0.3090898360795863, -0.8078674998166081, -1.0024923138803028,\n",
    "           -0.7976845264324319]\n",
    "y2_head = [0.9319662914399691, 0.5925249845080666, -0.0013456361131560868, -0.5871424400554418,\n",
    "           -0.9508051970241554, -0.9503148792696466, -0.5886133933189681, 0.0040478591864412305,\n",
    "           0.5724219565732039]\n",
    "y3_head = [0.05, 0.15000000000000002, 0.25, 0.35000000000000003, 0.45, 0.55, 0.6500000000000001,\n",
    "           0.7500000000000001, 0.8500000000000001]\n",
    "\n",
    "\n",
    "def create_tridiagonal(x, y, N):\n",
    "    alpha, beta, gamma, delta = [], [], [], []\n",
    "    \n",
    "    for i in range(N-1):\n",
    "        if i == 0:\n",
    "            continue\n",
    "        \n",
    "        if i != 1:\n",
    "            alpha.append((x[i] - x[i-1]) / 6)\n",
    "        else:\n",
    "            alpha.append(0)\n",
    "        \n",
    "        beta.append(-(x[i + 1] - x[i - 1]) / 3)\n",
    "        \n",
    "        if i != N-2:\n",
    "            gamma.append((x[i + 1] - x[i]) / 6)\n",
    "        else:\n",
    "            gamma.append(0)\n",
    "        \n",
    "        deltafi, deltafi1 = y[i+1] - y[i], y[i] - y[i-1]\n",
    "        delta.append(deltafi / (x[i + 1] - x[i]) - deltafi1 / (x[i] - x[i-1]))\n",
    "    \n",
    "    print('tridiagonal matrix\\nalpha', alpha, '\\nbeta', beta, '\\ngamma', gamma, '\\ndelta', delta, '\\n')\n",
    "    \n",
    "    return alpha, beta, gamma, delta\n",
    "    \n",
    "    \n",
    "def forward_pass(a, b, g, d, N):\n",
    "    q = []\n",
    "    p = []\n",
    "    for i in range(N-1):\n",
    "        if i == 0:\n",
    "            continue\n",
    "        \n",
    "        pi_last = 0 if i == 1 else pi\n",
    "        qi_last = 0 if i == 1 else qi\n",
    "        \n",
    "        pi = g[i - 1] / (b[i - 1] - a[i - 1] * pi_last)\n",
    "        qi = (a[i - 1] * qi_last - d[i - 1]) / (b[i - 1] - a[i - 1] * pi_last)\n",
    "        \n",
    "        p.append(pi)\n",
    "        q.append(qi)\n",
    "        \n",
    "    print('forward pass\\np', p, '\\nq', q, '\\n')\n",
    "    \n",
    "    return p, q\n",
    "    \n",
    "\n",
    "def reverse_pass(p, q, N, m0, mN):\n",
    "    m = [0] * N\n",
    "    m[0] = m0\n",
    "    m[-1] = mN\n",
    "    \n",
    "    for i in range(N-1):\n",
    "        if i == 0:\n",
    "            continue\n",
    "\n",
    "        if i == 1:\n",
    "            mn = q[-1]\n",
    "        else:\n",
    "            mn_last = mn\n",
    "            pn2 = p[N - 2 - i]\n",
    "            qn2 = q[N - 2 - i]\n",
    "            mn = mn * pn2 + qn2\n",
    "    \n",
    "        m[N - i - 1] = mn\n",
    "        \n",
    "    print('derivatives\\n', m, '\\n')\n",
    "    \n",
    "    return m\n",
    "\n",
    "\n",
    "def build_spline(m, x, y, N):\n",
    "    coeff = []\n",
    "    for i in range(N-1):\n",
    "        hi1 = (x[i + 1] - x[i])\n",
    "        deltay = (y[i + 1] - y[i])\n",
    "        deltam = m[i + 1] - m[i]\n",
    "        \n",
    "        a0 = y[i]\n",
    "        a1 = (deltay / hi1) - (m[i] * hi1 / 2) - (deltam * hi1 / 6)\n",
    "        a2 = m[i] / 2\n",
    "        a3 = deltam / (hi1 * 6)\n",
    "                                                  \n",
    "        coeff.append([a0, a1, a2, a3])\n",
    "        \n",
    "    print('coefficients:')\n",
    "    [print(c) for c in coeff]\n",
    "    print()\n",
    "    return coeff\n",
    "\n",
    "def get_y_head(spline, coeff, x_head, x):\n",
    "    a0 = coeff[spline][0]\n",
    "    a1 = coeff[spline][1] * (x_head - x[i])\n",
    "    a2 = coeff[spline][2] * (x_head - x[i])**2\n",
    "    a3 = coeff[spline][3] * (x_head - x[i])**3\n",
    "    \n",
    "    return a0 + a1 + a2 + a3\n",
    "\n",
    "alpha, beta, gamma, delta = create_tridiagonal(x, y1, N)\n",
    "p, q = forward_pass(alpha, beta, gamma, delta, N)\n",
    "m = reverse_pass(p, q, N, m0, mN)\n",
    "coeff = build_spline(m, x, y1, N)\n",
    "\n",
    "y_head = []\n",
    "for dot in x_head: \n",
    "    for i in range(N):\n",
    "        if dot >= x[i] and dot <= x[i + 1]:\n",
    "            y = get_y_head(i, coeff, dot, x)\n",
    "            y_head.append(y)\n",
    "            break \n",
    "\n",
    "plt.plot(x, y1, 'b-o')\n",
    "plt.plot(x_head, y_head, 'r-o')\n",
    "plt.show()"
   ]
  },
  {
   "cell_type": "markdown",
   "metadata": {},
   "source": [
    "### 11. Derive formula of Cubic Spline method error [Mathematical formulas]"
   ]
  },
  {
   "cell_type": "markdown",
   "metadata": {},
   "source": [
    "Cubic Spline error:\n",
    "\n",
    "$|| f^{(p)}(x) - S_3^{(p)}(x) ||_{C[a,b]} = \\max \\limits_{[a,b]} |  f^{(p)}(x) - S_3^{(p)}(x) | \\leq M_4 h^{4-p}, p = 0, 1, 2$\n",
    "\n",
    "For function:\n",
    "\n",
    "$|| f(x) - S_3(x) ||_{C[a,b]} = \\max \\limits_{[a,b]} |  f(x) - S_3(x) | \\leq M_4 h^{4}$\n",
    "\n",
    "For first derivative:\n",
    "\n",
    "$|| f^{'}(x) - S_3^{'}(x) ||_{C[a,b]} = \\max \\limits_{[a,b]} |  f^{'}(x) - S_3^{'}(x) | \\leq M_4 h^{3}$\n",
    "\n",
    "For second derivative:\n",
    "\n",
    "$|| f^{''}(x) - S_3^{''}(x) ||_{C[a,b]} = \\max \\limits_{[a,b]} |  f^{''}(x) - S_3^{''}(x) | \\leq M_4 h^{2}$\n",
    "\n",
    "However, this estimation of the error is valid if $f(x) \\in C^4[a, b]$ and we have uniform grid. Although, \n",
    "usually we know nothing about $f$, we can not say anythonh about the method error. But if can assume that the\n",
    "condition for $f$ is true, the method error could be used."
   ]
  },
  {
   "cell_type": "markdown",
   "metadata": {},
   "source": [
    "### 12. Rate the complexity of the algorithm [Text, and rate in terms of big O, no more than 100 characters]"
   ]
  },
  {
   "cell_type": "markdown",
   "metadata": {},
   "source": [
    "Forward pass finds $n$ amount of $P$ and $Q$, reverse pass finds $n$ amount of $m$. Overall\n",
    "complexity: $\\mathcal{O}(n)$\n",
    "\n",
    "\n",
    "\n",
    "\n",
    "\n"
   ]
  },
  {
   "cell_type": "markdown",
   "metadata": {},
   "source": [
    "### Congrats!"
   ]
  }
 ],
 "metadata": {
  "kernelspec": {
   "display_name": "Python 3",
   "language": "python",
   "name": "python3"
  },
  "language_info": {
   "codemirror_mode": {
    "name": "ipython",
    "version": 3
   },
   "file_extension": ".py",
   "mimetype": "text/x-python",
   "name": "python",
   "nbconvert_exporter": "python",
   "pygments_lexer": "ipython3",
   "version": "3.6.5"
  }
 },
 "nbformat": 4,
 "nbformat_minor": 2
}
