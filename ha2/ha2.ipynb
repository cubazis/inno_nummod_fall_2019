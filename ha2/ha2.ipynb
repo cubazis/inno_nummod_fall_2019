{
 "cells": [
  {
   "cell_type": "markdown",
   "metadata": {},
   "source": [
    "## 1. Formulate the statement of the interpolation problem with Cubic Spline [mathematical formula]\n"
   ]
  },
  {
   "cell_type": "markdown",
   "metadata": {},
   "source": [
    "Statement of the interpolation problem: given a set of $n+1$ points $(x_i, y_i)$ of unknown function $f(x)$    construct a smoothing polynomial of the best integral approximation. This can be done using a spline in our particular case let's consider cubic spline. In other words  $\\forall\\ i\\ x_i\\ \\in [a,b]$ the spline $S_3(x)$ ($S(x)$ later) is a set of functions satisfying:\n",
    "\n",
    "1. $S_3(X) \\in C^2[a,b]$ ($S_3(x)=\\cup^{n-1}_{i=0}S_{3,i}(x)$ is continuous on $[a,b]$ as well as its derivatives $S_3^{(p)}(x)$ for some $p=1,2,...$)\n",
    "\n",
    "2. On each $[x_{i-1},x_i]$ $S_{3,i}(x)$ is a polynomial of degree 3, $\\forall\\ i\\$\n",
    "\n",
    "3. $S_3(x_i)=y_i \\forall\\ i\\$\n",
    "\n",
    "\n",
    "\n"
   ]
  },
  {
   "cell_type": "markdown",
   "metadata": {},
   "source": [
    "## 2. Formulate the functional and differential compatibility conditions [mathematical formula]"
   ]
  },
  {
   "cell_type": "markdown",
   "metadata": {},
   "source": [
    "$\\delta S^{-1}_i(x_i,x_{i+1}) = \\int^{xi+1}_{x_i}[S_i(x)-f(x)]dx=0$\n",
    "\n",
    "$\\delta S^{(p_1)}_i(x_j)=S^{(p_1)}_i(x)|_{x=x_j}-f^{(p_1)}(x)|_{x=x_j}=0 \\ \\ j =i, i+1$"
   ]
  },
  {
   "cell_type": "markdown",
   "metadata": {},
   "source": [
    "## 3. Formulate stitching conditions [mathematical formula]"
   ]
  },
  {
   "cell_type": "markdown",
   "metadata": {},
   "source": [
    "$S_{i-1}^{p_2}(x)|_{x=x_i}=S_{i}^{p_2}(x)|_{x=x_i}, \\ \\ i =\\overline{1,n-1}$\n",
    "\n",
    "$p_2$ is a integer value or in general case some number of integer values, such that $0≤p_2≤r$ (r - maximum derivative derivative order) and all less that $p_1$"
   ]
  },
  {
   "cell_type": "markdown",
   "metadata": {},
   "source": [
    "## 4. Justify why these conditions provide you with the required smoothness [thesis text, no more than 500 characters]"
   ]
  },
  {
   "cell_type": "markdown",
   "metadata": {},
   "source": [
    "Since derivatives from both sides exist (3) and are equal (4),  in other words there is only one tangent in each x_i hence this    guarantee that the $S^{(p)}(x), \\ p=0,1,..,r$ is smothn at all internal stitching points $x_i$, i.e. $(x_i,(x_i)), (i=\\overline{1,n-1})$. Thus, $S^{(p)}(x)\\in C[a,b]$"
   ]
  },
  {
   "cell_type": "markdown",
   "metadata": {},
   "source": [
    "## 5. Derive dependency formula: the dependence of the second derivatives at the grid nodes on the increment of the function (the function values difference on the grid nodes). [Mathematical formulas derivation. Detailed, with clear transitions]"
   ]
  },
  {
   "cell_type": "markdown",
   "metadata": {},
   "source": [
    "Let's consider cubic spline in general form and find the coefficients: $S_{3,i}(x)=a_{0,i} + a_{1,i}(x-x_i) + a_{2,i}(x-x_i)^2 + a_{3,i}(x-x_i)^3$  (1)\n",
    "\n",
    "$\\bullet$ From differential compatibility condtions (let $p=\\{0, 2\\}$):\n",
    "\n",
    "$S_{3,i}(x_i)-f(x_i)=0 \\Rightarrow S_{3,i}(x_i)=f(x_i) \\Rightarrow a_{0,i}=f(x_i)=f_i$ \n",
    "\n",
    "$S_{3,i}(x_{i+1})-f(x_{i+1})=0 \\Rightarrow S_{3,i}(x_{i+1})=f(x_{i+1})$\n",
    "\n",
    "$S''_{3,i}(x_i)-f''(x_i)=0 \\Rightarrow S''_{3,i}(x_i)=f''(x_i)$\n",
    "\n",
    "$S''_{3,i}(x_{i+1})-f''(x_{i+1})=0 \\Rightarrow S''_{3,i}(x_{i+1})=f''(x_{i+1})$\n",
    "\n",
    "$\\bullet$ $S''_{3,i}(x) = 2a_{2,i}+6a_{3,i}(x-x_i)$\n",
    "\n",
    "$S''_{3,i}(x)|_{x=x_i}=2a_{2,i}=f''(x_i)$ (2)\n",
    "\n",
    "$f''(x_{i+1})-f''(x_{i}) = 6a_{3,i}(x_{i+1} - x_i)$ (3)\n",
    "\n",
    "$\\bullet$ Let $h_{i+1}=x_{i+1}-x_i, m_i = f''(x_{i}), \\Delta m_i=m_{i+1}-m_i$\n",
    "\n",
    "Hence, $a_{2,i}=\\frac{m_i}{2}$;\n",
    "$a_{3,i}=\\frac{\\Delta m_i}{6h_{i+1}}$ from (2) and (3) respectively\n",
    "\n",
    "$\\bullet$ $f(x_{i+1})=a_{0,i} + a_{1,i}(x_{i+1}-x_i) + a_{2,i}(x_{i+1}-x_i)^2 + a_{3,i}(x_{i+1}-x_i)^3$\n",
    "\n",
    "$ \\Rightarrow a_{1, i}=\\frac{\\Delta f_i}{h_{i+1}} - \\frac{m_i h_{i+1}}{2} - \\frac{\\Delta m_i h_{i+1}}{6}$\n",
    "\n",
    "$\\bullet$ Now, let's consider stitching between $S_{3,i-1}$ and $S_{3,i}$, $p=1$:\n",
    "\n",
    "$S'_{3, i}(x)=a_{1,i}+2a_{2,i}(x-x_i)+3a_{3,i}(x-x_i)^2$\n",
    "\n",
    "$S'_{3, i-1}(x)=a_{1,i-1}+2a_{2,i-1}(x-x_{i-1})+3a_{3,i-1}(x-x_{i-1})^2$\n",
    "\n",
    "$S'_{3, i}(x)|_{x=x_i} = S'_{3, i-1}(x)|_{x=x_i} \\Leftrightarrow  a_{1,i}=a_{1,i-1}+2a_{2,i-1}h_i+3a_{3,i-1}h_i^2$ (4)\n",
    "\n",
    "Now let's rewrite (4) using found values of $a$'s:\n",
    "\n",
    "$\\frac{\\Delta f_i}{h_{i+1}} - \\frac{m_ih_{i+1}}{3} - \\frac{m_{i+1}h_{i+1}}{6}=\\frac{\\Delta f_{i-1}}{h_{i}} - \\frac{m_{i-1}h_i}{3} - \\frac{m_{i}h_{i}}{6} + m_{i-1}h_i + \\frac{m_ih_i}{2}-\\frac{m_{i-1}h_i}{2}$\n",
    "\n",
    "$ \\Rightarrow  \\frac{h_i}{6}m_{i-1}+\\frac{h_i+h_{i+1}}{3}m_i+\\frac{h_{i+1}}{6}m_{i+1}=\\frac{\\Delta f_i}{h_{i+1}}-\\frac{\\Delta f_{i-1}}{h_i}, \\ \\ i =\\overline{1,n-1}$"
   ]
  },
  {
   "cell_type": "markdown",
   "metadata": {},
   "source": [
    "## 6. Create a system of equations using this formula [Matrix representation. Mathematical formulas]"
   ]
  },
  {
   "cell_type": "markdown",
   "metadata": {},
   "source": [
    "$$\\frac{1}{6}\n",
    "\\begin{bmatrix}\n",
    "h_1 & 2(h_1+h_2) & h_2 & 0 &  0 & ... & 0 \\\\\n",
    "0 & h_2 & 2(h_2+h_3) & h_3 &  0 & ... & 0 \\\\\n",
    "0 & 0 & h_3 & 2(h_3+h_4) & h_4 & ... & 0 \\\\\n",
    "\\vdots & \\vdots & \\vdots & \\vdots &\\vdots &\\ddots & \\vdots\\\\\n",
    "0 & 0 & ... & h_{n-2} & 2(h_{n-2}+h_{n-1}) & h_{n-1} & 0\\\\\n",
    "0 & 0 & ... & 0 & h_{n-1} & 2(h_{n-1}+h_n) & h_{n}\\\\\n",
    "\\end{bmatrix}\n",
    "\\quad \n",
    "\\begin{bmatrix}\n",
    "m_0 \\\\\n",
    "m_1  \\\\\n",
    "m_2 \\\\\n",
    "... \\\\\n",
    "m_{n-2} \\\\\n",
    "m_{n-1} \\\\\n",
    "m_{n}\n",
    "\\end{bmatrix}=\n",
    "\\begin{bmatrix}\n",
    "\\frac{\\Delta f_1}{h_{2}}-\\frac{\\Delta f_{0}}{h_1} \\\\\n",
    "\\frac{\\Delta f_2}{h_{3}}-\\frac{\\Delta f_{1}}{h_2} \\\\\n",
    "\\frac{\\Delta f_3}{h_{4}}-\\frac{\\Delta f_{2}}{h_3} \\\\\n",
    "... \\\\\n",
    "\\frac{\\Delta f_{n-2}}{h_{n-1}}-\\frac{\\Delta f_{n-3}}{h_{n-2}} \\\\\n",
    "\\frac{\\Delta f_{n-1}}{h_{n}}-\\frac{\\Delta f_{n-2}}{h_{n-1}}\n",
    "\\end{bmatrix}\n",
    "$$\n",
    "\n"
   ]
  },
  {
   "cell_type": "markdown",
   "metadata": {},
   "source": [
    "$ \\qquad \\qquad \\qquad \\qquad (n-1)\\times(n+1)   \\qquad \\qquad \\qquad \\qquad \\qquad \\qquad \\qquad \\qquad \\qquad \\qquad (n-1)\\times1 \\qquad \\qquad \\qquad (n-1)\\times1$ "
   ]
  },
  {
   "cell_type": "markdown",
   "metadata": {},
   "source": [
    "## 7. Explain what is an unknown variable in this system. whether the system is closed with respect to an unknown variable. What is missing for closure. [Text, no more than 200 characters]"
   ]
  },
  {
   "cell_type": "markdown",
   "metadata": {},
   "source": [
    "$m_i$ for $i=\\overline{1,n-1}$ are unknown variables. The system is not closed w.r.t. $m_i$ , since there are only $n-1$ equations, while there are $n+1$ unknowns. So we need to add two equations: $m_0 = 0$, $m_n = 0$"
   ]
  },
  {
   "cell_type": "markdown",
   "metadata": {},
   "source": [
    "## 8. Bring this matrix to the appropriate form to use the Tridiagonal matrix algorithm [Mathematical derivation. Use Gauss Elimination]"
   ]
  },
  {
   "cell_type": "markdown",
   "metadata": {},
   "source": [
    "After performing Task 7 upon Task 6 we've got:\n",
    "\n",
    "$$\\frac{1}{6}\n",
    "\\begin{bmatrix}\n",
    "2(h_1+h_2) & h_2 & 0 & 0 &  0 & ... & 0 \\\\\n",
    "h_2 & 2(h_2+h_3) & h_3 & 0 & 0 & ... & 0 \\\\\n",
    "0 & h_3 & 2(h_3+h_4) & h_4 & 0 & ... & 0 \\\\\n",
    "\\vdots & \\vdots & \\vdots & \\ddots &\\ddots &\\ddots & \\vdots\\\\\n",
    "0 & 0 & ... & 0 & h_{n-2} & 2(h_{n-2}+h_{n-1}) & h_{n-1}\\\\\n",
    "0 & 0 & ... & 0 & 0 & h_{n-1} & 2(h_{n-1}+h_n) \\\\\n",
    "\\end{bmatrix}_{(n-1)\\times (n-1)}$$\n",
    "\n",
    "Gauss Elimination Representation:\n",
    "$$\\frac{1}{6}\n",
    "\\left[\n",
    "\\begin{array}{ccccccc|c}\n",
    "2(h_1+h_2) & h_2 & 0 & 0 &  0 & ... & 0 & \\frac{\\Delta f_1}{h_{2}}-\\frac{\\Delta f_{0}}{h_1} \\\\\n",
    "h_2 & 2(h_2+h_3) & h_3 & 0 &  0 & ... & 0 & \\frac{\\Delta f_2}{h_{3}}-\\frac{\\Delta f_{1}}{h_2}\\\\\n",
    "0 & h_3 & 2(h_3+h_4) & h_4 & 0 & ... & 0 & \\frac{\\Delta f_3}{h_{4}}-\\frac{\\Delta f_{2}}{h_3}\\\\\n",
    "\\vdots & \\vdots & \\vdots & \\ddots &\\ddots &\\ddots & \\vdots & \\vdots\\\\\n",
    "0 & 0 & ... & 0 & h_{n-2} & 2(h_{n-2}+h_{n-1}) & h_{n-1} & \\frac{\\Delta f_{n-2}}{h_{n-1}}-\\frac{\\Delta f_{n-3}}{h_{n-2}}\\\\\n",
    "0 & 0 & ... & 0 & 0 & h_{n-1} & 2(h_{n-1}+h_n) & \\frac{\\Delta f_{n-1}}{h_{n}}-\\frac{\\Delta f_{n-2}}{h_{n-1}}\\\\\n",
    "\\end{array}\n",
    "\\right]=\n",
    "$$\n",
    "\n",
    "\n",
    "$$=\n",
    "\\left[\n",
    "\\begin{array}{ccccccc|c}\n",
    "-b_1 & c_1 & 0 & 0 &  0 & ... & 0 & q_1 \\\\\n",
    "a_2 & -b_2 & c_2 & 0 & 0 & ... & 0 & q_2\\\\\n",
    "0 & a_3 & -b_3 & c_3 & ... & 0 & 0 & q_3\\\\\n",
    "\\vdots & \\vdots & \\vdots & \\ddots &\\ddots &\\ddots & \\vdots & \\vdots\\\\\n",
    "0 & 0 & ... & 0 & a_{l-1} & b_{l-1} & c_{l-1} & q_{l-1}\\\\\n",
    "0 & 0 & ... & 0 & 0 & a_{l} & -b_{l} & q_{l}\\\\\n",
    "\\end{array}\n",
    "\\right]\n",
    "$$\n",
    "\n",
    "This matrix above reflects the system of equations:\n",
    "\n",
    "(*) $a_ix_{i-1}-b_ix_i+c_ix_{i+1}=q_i; a_1=c_n=0, i=\\overline{1,l},$ where $l=n-2$ \n",
    "\n",
    "Let's divide first row by $-b_1$ and set $P_1 = \\frac{c_1}{b_1}$, $Q_1=-\\frac{q_1}{b_1}$:\n",
    "\n",
    "$$=\n",
    "\\left[\n",
    "\\begin{array}{ccccccc|c}\n",
    "1 & -P_1 & 0 & 0 &  0 & ... & 0 & Q_1 \\\\\n",
    "a_2 & -b_2 & c_2 & 0 &  0 & ... & 0 & q_2\\\\\n",
    "0 & a_3 & -b_3 & c_3 & ... & 0 & 0 & q_3\\\\\n",
    "\\vdots & \\vdots & \\vdots & \\ddots &\\ddots &\\ddots & \\vdots & \\vdots\\\\\n",
    "0 & 0 & ... & 0 & a_{l-1} & b_{l-1} & c_{l-1} & q_{l-1}\\\\\n",
    "0 & 0 & ... & 0 & 0 & a_{l} & -b_{l} & q_{l}\\\\\n",
    "\\end{array}\n",
    "\\right]\n",
    "$$\n",
    "\n",
    "Note: $x_1=P_1x_2+Q_1$\n",
    "\n",
    "Let's multiply first row by $a_2$ and subtract it from second row:\n",
    "\n",
    "$$\n",
    "\\left[\n",
    "\\begin{array}{ccccccc|c}\n",
    "1 & -P_1 & 0 & 0 &  0 & ... & 0 & Q_1 \\\\\n",
    "0 & a_2P_1-b_2 & c_2 & 0 &  0 & ... & 0 & q_2-a_2Q_1\\\\\n",
    "0 & a_3 & -b_3 & c_3 & ... & 0 & 0 & q_3\\\\\n",
    "\\vdots & \\vdots & \\vdots & \\ddots &\\ddots &\\ddots & \\vdots & \\vdots\\\\\n",
    "0 & 0 & ... & 0 & a_{l-1} & b_{l-1} & c_{l-1} & q_{l-1}\\\\\n",
    "0 & 0 & ... & 0 & 0 & a_{l} & -b_{l} & q_{l}\\\\\n",
    "\\end{array}\n",
    "\\right]\n",
    "$$\n",
    "\n",
    "Let's divide second row by $a_2P_1-b_2$ and set $P_2 = \\frac{c_2}{a_2P_1-b_2}$, $Q_2=-\\frac{q_2-a_2Q_1}{a_2P_1-b_2}$:\n",
    "\n",
    "$$\n",
    "\\left[\n",
    "\\begin{array}{ccccccc|c}\n",
    "1 & -P_1 & 0 & 0 &  0 & ... & 0 & Q_1 \\\\\n",
    "0 & 1 & -P_2 & 0 &  0 & ... & 0 & Q_2\\\\\n",
    "0 & a_3 & -b_3 & c_3 & ... & 0 & 0 & q_3\\\\\n",
    "\\vdots & \\vdots & \\vdots & \\ddots &\\ddots &\\ddots & \\vdots & \\vdots\\\\\n",
    "0 & 0 & ... & 0 & a_{l-1} & b_{l-1} & c_{l-1} & q_{l-1}\\\\\n",
    "0 & 0 & ... & 0 & 0 & a_{l} & -b_{l} & q_{l}\\\\\n",
    "\\end{array}\n",
    "\\right]\n",
    "$$\n",
    "\n",
    "Note: $x_2=P_2x_3+Q_2$\n",
    "\n",
    "This process of substitutions and eliminations repeats until matrix becomes:\n",
    "$$\n",
    "\\left[\n",
    "\\begin{array}{ccccccc|c}\n",
    "1 & -P_1 & 0 & 0 &  0 & ... & 0 & Q_1 \\\\\n",
    "0 & 1 & -P_2 & 0 &  0 & ... & 0 & Q_2\\\\\n",
    "0 & 0 & 1 & -P_3 & ... & 0 & 0 & q_3\\\\\n",
    "\\vdots & \\vdots & \\vdots & \\ddots &\\ddots &\\ddots & \\vdots & \\vdots\\\\\n",
    "0 & 0 & ... & 0 & 0 & 1 & -P_{l-1} & Q_{l-1}\\\\\n",
    "0 & 0 & ... & 0 & 0 & 0 & 1 & Q_{l}\\\\\n",
    "\\end{array}\n",
    "\\right]\n",
    "$$\n",
    "\n",
    "Thus, recurrent formulas could be retrieved:\n",
    "\n",
    "$x_{i-1}=P_{i-1}x_{i}+Q_{i-1}, \\ i=\\overline{1,l-1}$\n",
    "\n",
    "by substituting into (*):\n",
    "\n",
    "$a_i(P_{i-1}x_i + Q_{i-1})-b_ix_i+c_ix_{i+1}=q_i$\n",
    "\n",
    "AND\n",
    "\n",
    "$P_i=\\frac{c_i}{b_i-a_iP_{i-1}}, \\ Q_i=\\frac{a_iQ_{i-1}-q_i}{b_i-a_iP_{i-1}}, \\ i=\\overline{1,l-1}$\n",
    "\n",
    "This all above is a direct pass of Gauss Elimination."
   ]
  },
  {
   "cell_type": "markdown",
   "metadata": {},
   "source": [
    "## 9. Derive formulas of direct pass and reverse pass of Tridiagonal matrix algorithm [Mathematical formals]"
   ]
  },
  {
   "cell_type": "markdown",
   "metadata": {},
   "source": [
    "Forward pass:\n",
    "\n",
    "$P_i = \\frac{c_i}{b_i - a P_{i-1}}, P_1 = \\frac{c_1}{b_1}$\n",
    "\n",
    "$Q_i = \\frac{a_i Q_{i-1} - \\delta_i}{b_i - a P_{i-1}}, Q_1 = -\\frac{q_1}{b_1}$\n",
    "$i = \\overline{1, l-1}$\n",
    "\n",
    "Backward pass:\n",
    "\n",
    "$x_n = \\frac{a_n Q_{n-1} - b_n}{b_n - a_n P_{n-1}} = Q_n$\n",
    "\n",
    "$x_i = P_ix_{i+1} + Q_i, i = \\overline{1, l-1}$"
   ]
  },
  {
   "cell_type": "markdown",
   "metadata": {},
   "source": [
    "## 10. Implement code prototype of the future algorithm implementation. Classes/methods (if you use OOP), functions. The final implementation (on language chosen by you) should not differ from the functions declared in the prototype. [Python code in ipynb]"
   ]
  },
  {
   "cell_type": "code",
   "execution_count": 3,
   "metadata": {},
   "outputs": [],
   "source": [
    "class CubicSpline():\n",
    "    def __init__(self, x, y):\n",
    "        self.x = x\n",
    "        self.y = y\n",
    "    \n",
    "    def _get_params(self):\n",
    "        \"\"\"\n",
    "        return list of h, a, b, c, q values\n",
    "        \"\"\"\n",
    "        pass\n",
    "    def _gauss_forward_pass(self, a, b, c, d):\n",
    "        \"\"\"\n",
    "        return list of P values, list of Q values\n",
    "        Task 9\n",
    "        \"\"\"\n",
    "        pass\n",
    "    def _gaus_reverse_path(self, P, Q):\n",
    "        \"\"\"\n",
    "        return list of m values\n",
    "        Task 9\n",
    "        \"\"\"\n",
    "        pass\n",
    "    \n",
    "    def _get_spline(self, m):\n",
    "        \"\"\"\n",
    "        Task 5\n",
    "        \"\"\"\n",
    "        pass\n",
    "    def interpolate(self):\n",
    "        h, a, b, c, d = self._get_params()\n",
    "        P, Q = self._gauss_forward_pass(a, b, c, d)\n",
    "        m = self._gaus_reverse_path(P, Q)\n",
    "        spline = self._get_spline(m)\n",
    "        return spline"
   ]
  },
  {
   "cell_type": "markdown",
   "metadata": {},
   "source": [
    "## 11. Derive formula of Cubic Spline method error [Mathematical formulas]"
   ]
  },
  {
   "cell_type": "markdown",
   "metadata": {},
   "source": [
    "Let $f$ has continuous derivative of 4th order on $[a,b]$ and\n",
    "\n",
    "$M_4 = \\max\\limits_{[a,b]}|f^{(4)}(x)|$.\n",
    "\n",
    "Then for Cubic Spline $S_3(x)$, which meets boundary conditions, the following is legal:\n",
    "\n",
    "$\\max\\limits_{[a,b]}|f(x)-S_3(x)| \\leqslant CM_4h^4_{max}$\n",
    "\n",
    "where $h_{max} = \\max\\limits_{1 \\leqslant i \\leqslant n} h_i$ - maximal interval length.\n",
    "\n",
    "If on each $x_i$ we know $y'_i = f'(x_i)$, then on each $[x_{i-1}, x_i]$ spline is uniquly determined by $y_{i-1}, y_i, y'_{i-1}, y'_i$ \n"
   ]
  },
  {
   "cell_type": "markdown",
   "metadata": {},
   "source": [
    "## 12. Rate the complexity of the algorithm [Text, and rate in terms of big O, no more than 100 characters]"
   ]
  },
  {
   "cell_type": "markdown",
   "metadata": {},
   "source": [
    "Forward pass - $O(n)$, backward pass - $O(n)$, total - $O(n)$, where n is the number of datapoints. "
   ]
  }
 ],
 "metadata": {
  "kernelspec": {
   "display_name": "Python 3",
   "language": "python",
   "name": "python3"
  },
  "language_info": {
   "codemirror_mode": {
    "name": "ipython",
    "version": 3
   },
   "file_extension": ".py",
   "mimetype": "text/x-python",
   "name": "python",
   "nbconvert_exporter": "python",
   "pygments_lexer": "ipython3",
   "version": "3.7.1"
  }
 },
 "nbformat": 4,
 "nbformat_minor": 2
}
