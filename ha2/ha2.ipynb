{
 "cells": [
  {
   "cell_type": "code",
   "execution_count": null,
   "metadata": {},
   "outputs": [],
   "source": [
    "import sympy as sp\n",
    "import numpy as np\n",
    "import matplotlib.pyplot as plt"
   ]
  },
  {
   "cell_type": "markdown",
   "metadata": {},
   "source": [
    "### 1. Formulate the statement of the interpolation problem with Cubic Spline [mathematical formula]"
   ]
  },
  {
   "cell_type": "markdown",
   "metadata": {},
   "source": [
    "**Given**: function y, it's values $y_i = f(x_i)$, where i=0,n and \n",
    "$x_i \\in [a,b]$. Here $x_i = x_{i-1} + h_i$ are values on a grid $\\Omega$: $x \\in \\Omega$. \n",
    "\n",
    "**Problem**: Interpolate all values of a function that are not defined on a grid using splines which are defined on each segment of a grid, so that $S_3(x) \\in C_2[a,b]$ - spline belongs to a class of functions that have at least 2 derivatives, which are continuously differentiable. \n",
    "\n",
    "Cubic spline for i-th grid segment is defined as:\n",
    "\n",
    "$S_{3,i} = a_{0,i} + a_{1,i}(x-x_i) + a_{2,i}(x-x_i)^2 + a_{3,i}(x-x_i)^3$\n",
    "\n",
    "\n",
    "\n",
    "\n",
    "\n",
    "\n",
    "\n",
    "\n",
    "\n"
   ]
  },
  {
   "cell_type": "markdown",
   "metadata": {},
   "source": [
    "### 2. Formulate the functional and differential compatibility conditions [mathematical formula]"
   ]
  },
  {
   "cell_type": "markdown",
   "metadata": {},
   "source": [
    "\n",
    "**Functional compatibility condition**:\n",
    "\n",
    "Spline interpolates function in given points of grid.\n",
    "\n",
    "$S(x_i) = f(x_i), x_i \\in \\Omega$\n",
    "\n",
    "**Differential compatibility condition**:\n",
    "\n",
    "Spline is continuous on grid segment [a, b]\n",
    "\n",
    "$S''(x_i) = f''(x_i)$ - guarantees that $S_3(x) \\in C_2[a,b]$ \n"
   ]
  },
  {
   "cell_type": "markdown",
   "metadata": {},
   "source": [
    "### 3. Formulate stitching conditions [mathematical formula]"
   ]
  },
  {
   "cell_type": "markdown",
   "metadata": {},
   "source": [
    "Stiching conditions guarantee that splines from neighboring grid segments have same first derivative:\n",
    "\n",
    "$S_n, S_{n+1}$ - adjacency splines on $[x_{i-1}, x_{i}]$, $[x_{i}, x_{i+1}]$ with common point $x_i$\n",
    "\n",
    "**Stiching condition**:\n",
    "\n",
    "$S_n'(x_i) = S_{n+1}'(x_i)$\n",
    "\n",
    "\n",
    "\n",
    "\n",
    "\n"
   ]
  },
  {
   "cell_type": "markdown",
   "metadata": {},
   "source": [
    "### 4. Justify why these conditions provide you with the required smoothness [thesis text, no more than 500 characters]"
   ]
  },
  {
   "cell_type": "markdown",
   "metadata": {},
   "source": [
    "**Requireed smothness**: $S(x) \\in C_2[a,b]$\n",
    "\n",
    "$C_2$ -  is defined as class of functions which first and second derivatives are continuous. \n",
    "\n",
    "1. Differential and stiching conditions guarantee continuity of $S_m^{(p)}(x)$ in all internal nodes $x_i$ \n",
    "2. All cubic splines are polynoms of a third power - all second derivatives exist and are continuous.\n",
    "\n",
    "$\\Rightarrow$ First and second derivatives of S(x) exist on all grid $\\Omega_n$[a,b]  and inside grid segments.\n",
    "\n",
    "$\\Rightarrow$ $S_3(x)\\in C_2[a,b]$\n"
   ]
  },
  {
   "cell_type": "markdown",
   "metadata": {},
   "source": [
    "### 5. Derive dependency formula: the dependence of the second derivatives at the grid nodes on the increment of the function (the function values difference on the grid nodes). [Mathematical formulas derivation. Detailed, with clear transitions]"
   ]
  },
  {
   "cell_type": "markdown",
   "metadata": {},
   "source": [
    "\n",
    "**Cubic spline formula**:\n",
    "\n",
    "$S_i(x) = a_{0i} + a_{1i}(x - x_i) + a_{2i}(x-x_i)^2 + a_{3i}(x-x_i)^3$ **(1)**\n",
    "\n",
    "**Required compatibility conditions**:\n",
    "\n",
    "$S_n(x_i) = f(x_i)$      **(2)**\n",
    "\n",
    "$S_n(x_{i+1}) = f(x_{i+1})$  **(3)**\n",
    "\n",
    "$S_n^2(x_i) = f^2(x_i)$ = $M_i$  **(4)**\n",
    "\n",
    "$S_n^2(x_{i+1}) = f^2(x_{i+1})$ = $M_{i+1}$ **(5)**\n",
    "\n",
    "\n",
    "$\\Rightarrow$ 4 unknown params in **(1)**, 4 equations from compatibility conditions:\n",
    "\n",
    "**Deriving system matrix**:\n",
    "\n",
    "\n",
    "$\\begin{bmatrix}\n",
    "1 & 0 & 0 & 0 \\\\\n",
    "1 & h & h^2 & h^3\\\\\n",
    "0 & 0 & 2 & 0 \\\\\n",
    "0 & 0 & 2 & 6h\n",
    "\\end{bmatrix}$ \n",
    "$\\begin{bmatrix}\n",
    "a_0 \\\\\n",
    "a_1 \\\\\n",
    "a_2 \\\\\n",
    "a_3 \n",
    "\\end{bmatrix}$ = \n",
    "$\\begin{bmatrix}\n",
    "f(x_i) \\\\\n",
    "f(x_{i+1})\\\\\n",
    "M_i \\\\\n",
    "M_{i+1}\n",
    "\\end{bmatrix}$\n",
    "\n",
    "---------------\n",
    "\n",
    "$a_0 = f(x_i)$\n",
    "\n",
    "$a_1 = \\frac{f(x_{i+1}) - f(x_i)}{h} - \\frac{M_i}{2}h - \\frac{\\Delta M_i}{6}h$\n",
    "\n",
    "$a_2 = \\frac{M_i}{2}$\n",
    "\n",
    "$a_3=\\frac{\\Delta M}{6h}, \\ where \\ \\Delta M = M_{i+1} - M_i$\n",
    "\n",
    "\n",
    "---------------\n",
    "\n",
    "1) $S_i(x_{i+1}) = f(x_i) + \\frac{f(x_{i+1}) - f(x_i)}{h}(x_{i+1}-x_i) - \\frac{M_i}{2}h(x_{i+1} - x_i) - \\frac{\\Delta M_i}{6}h(x_{i+1} - x_i) + \\frac{M_i}{2}(x_{i+1} - x_i)^2 + \\frac{\\Delta M}{6h}(x_{i+1} - x_i)^3 $\n",
    "\n",
    "\n",
    "2) $S_{i+1}(x_{i+1}) = f(x_{i+1}) + \\frac{f(x_{i+2}) - f(x_{i+1})}{h}(x_{i+1}-x_{i+1}) - \\frac{M_{i+1}}{2}h(x_{i+1} - x_{i+1}) - \\frac{\\Delta M_{i+1}}{6}h(x_{i+1} - x_{i+1}) + \\frac{M_{i+1}}{2}(x_{i+1} - x_{i+1})^2 + \\frac{\\Delta M_{i+1}}{6h}(x_{i+1} - x_{i+1})^3 $ \n",
    "\n",
    "3) **From stiching condition**:  $S_n'(x_{n+1}) = S_{n+1}'(x_{n+1})$\n",
    "\n",
    "$S_i'(x_{i+1}) =  \\frac{f(x_{i+1}) - f(x_i)}{h} - \\frac{M_i}{2}h - \\frac{\\Delta M_i}{6}h + M_i(h) + \\frac{\\Delta M_i}{2}(h) $\n",
    "\n",
    "\n",
    "$S_{i+1}'(x_{i+1}) = \\frac{f(x_{i+2})- f(x_{i+1})}{h} - \\frac{M_{i+1}}{2}h - \\frac{\\Delta M_{i+1}}{6}h$ \n",
    "\n",
    "\n",
    "\n",
    "$\\Rightarrow$ $\\frac{f(x_{i+1}) - f(x_i)}{h} - \\frac{M_i}{2}h - \\frac{\\Delta M_i}{6}h + M_i(h) + \\frac{\\Delta M_i}{2}(h)  = \\frac{f(x_{i+2})- f(x_{i+1})}{h} - \\frac{M_{i+1}}{2}h - \\frac{\\Delta M_{i+1}}{6}h$ \n"
   ]
  },
  {
   "cell_type": "markdown",
   "metadata": {},
   "source": [
    "$ -\\frac{M_i}{2}h - \\frac{M_{i+1}}{6}h + \\frac{M_i}{6}h + M_ih + \\frac{M_{i+1}}{2}h - \\frac{M_i}{2}h + \\frac{M_{i+1}}{2}h +  \\frac{M_{i+2}}{6}h - \\frac{M_{i+1}}{6}h= \\frac{\\Delta f_{i+1} - \\Delta f_i}{h}$\n",
    "\n",
    "$\\frac{M_i}{6}h + \\frac{2M_{i+1}}{3}h + \\frac{M_{i+2}}{6}h = \\frac{\\Delta f_{i+1} - \\Delta f_i}{h}$ \n",
    "\n",
    "We can shift indexes to derive dependency for i-th point:\n",
    "\n",
    "> $ \\frac{M_{i-1}}{6}h + \\frac{2M_{i}}{3}h + \\frac{M_{i+1}}{6}h = \\frac{\\Delta f_{i} - \\Delta f_{i-1}}{h}, \\ i=1,n-1$ "
   ]
  },
  {
   "cell_type": "markdown",
   "metadata": {},
   "source": [
    "### 6. Create a system of equations using this formula [Matrix representation. Mathematical formulas]"
   ]
  },
  {
   "cell_type": "markdown",
   "metadata": {},
   "source": [
    "**On grid $\\Omega_n$ for each spline in range (1, n-1)**:\n",
    "\n",
    "- compute $M_{i-1}, M_{i}, M_{i+1}$: \n",
    "\n",
    "    $ \\frac{M_{i-1}}{6}h + \\frac{2M_{i}}{3}h + \\frac{M_{i+1}}{6}h = \\frac{\\Delta f_{i} - \\Delta f_{i-1}}{h}$ \n",
    "\n",
    "\n",
    "Matrix repressentation:\n",
    "\n",
    "$\\begin{bmatrix}\n",
    "\\frac{h}{6} &\\frac{2}{3}h & \\frac{h}{6} & 0 & 0 &... \\\\\n",
    "0 & \\frac{h}{6}& \\frac{2}{3}h& \\frac{h}{6} & 0 & ...\\\\\n",
    "0 & 0&\\frac{h}{6}& \\frac{2}{3}h& \\frac{h}{6} & ...\\\\\n",
    "... & ... & ... & ... & ... & ... \\\\\n",
    "0 & 0& ... &\\frac{2}{3}h & \\frac{h}{6} & \\frac{2}{3}h\n",
    "\\end{bmatrix}$ \n",
    "$\\begin{bmatrix}\n",
    "M_0 \\\\\n",
    "M_1 \\\\\n",
    "M_2 \\\\\n",
    "M_3 \\\\\n",
    "... \\\\\n",
    "M_{n+1}\n",
    "\\end{bmatrix}$ = \n",
    "$\\begin{bmatrix}\n",
    "\\frac{\\Delta f_{1} - \\Delta f_{0}}{h} \\\\\n",
    "\\frac{\\Delta f_{2} - \\Delta f_{1}}{h}\\\\\n",
    "\\frac{\\Delta f_{3} - \\Delta f_2}{h} \\\\\n",
    "... \\\\\n",
    "\\frac{\\Delta f_{n-1} - \\Delta f_{n-2}}{h}\n",
    "\\end{bmatrix}$\n",
    "\n",
    "$  \\hspace{20mm} _{(n+1,n+1)} \\hspace{30mm} _{(n+1, 1)} \\hspace{10mm} _{(n-1, 1)}$\n",
    "\n",
    "Obviously, we cannot solve this matrix equation."
   ]
  },
  {
   "cell_type": "markdown",
   "metadata": {},
   "source": [
    "### 7. Explain what is an unknown variable in this system. whether the system is closed with respect to an unknown variable. What is missing for closure. [Text, no more than 200 characters]"
   ]
  },
  {
   "cell_type": "markdown",
   "metadata": {},
   "source": [
    "**Unknown** : second derivative ($M_i$) as we are given only a value of $f(x_i)$ on a grid $\\Omega_n$. We do not have values of first and second derivatives in these points.\n",
    "\n",
    "--------\n",
    "\n",
    "*This system is not closed as M_i ranges from 0 to n, while we have equations only from 1 to n-1 $\\Rightarrow$ we need 2 more equations to solve this system*\n",
    "\n",
    "1. One of the possible solutions is to say that second derivatives of the spline on its ends are zero:\n",
    "\n",
    "    $M_{0}, M_{n} = 0$\n",
    "    \n",
    "    Such conditions  are called conditions of a *natural spline*.\n",
    "    \n",
    "$\\begin{bmatrix}\n",
    "\\frac{2}{3}h & \\frac{h}{6} & 0 & 0 &... \\\\\n",
    "\\frac{h}{6}& \\frac{2}{3}h& \\frac{h}{6} & 0 & ...\\\\\n",
    "0&\\frac{h}{6}& \\frac{2}{3}h& \\frac{h}{6} & ...\\\\\n",
    "... & ... & ... & ... & ... \\\\\n",
    "0 & 0& ... &\\frac{2}{3}h & \\frac{h}{6}\n",
    "\\end{bmatrix}$ \n",
    "$\\begin{bmatrix}\n",
    "M_1 \\\\\n",
    "M_2 \\\\\n",
    "M_3 \\\\\n",
    "... \\\\\n",
    "M_{n-1} \n",
    "\\end{bmatrix}$ = \n",
    "$\\begin{bmatrix}\n",
    "\\frac{\\Delta f_{1} - \\Delta f_{0}}{h} \\\\\n",
    "\\frac{\\Delta f_{2} - \\Delta f_{1}}{h}\\\\\n",
    "\\frac{\\Delta f_{3} - \\Delta f_2}{h} \\\\\n",
    "... \\\\\n",
    "\\frac{\\Delta f_{n-1} - \\Delta f_{n-2}}{h}\n",
    "\\end{bmatrix}$\n",
    "\n",
    "\n",
    "\n",
    "$  \\hspace{20mm} _{(n-1,n-1)} \\hspace{31mm} _{(n-1, 1)} \\hspace{15mm} _{(n-1, 1)}$\n",
    "\n",
    "2. Another solution is to state that first two and last two segments have equal third derivative."
   ]
  },
  {
   "cell_type": "markdown",
   "metadata": {},
   "source": [
    "### 8. Bring this matrix to the appropriate form to use the Tridiagonal matrix algorithm [Mathematical derivation. Use Gauss Elimination]"
   ]
  },
  {
   "cell_type": "markdown",
   "metadata": {},
   "source": [
    "A = $\\begin{bmatrix}\n",
    "\\frac{2}{3}h & \\frac{h}{6} & 0 & 0 &... &\\frac{\\Delta f_{1} - \\Delta f_{0}}{h} \\\\\n",
    "\\frac{h}{6}& \\frac{2}{3}h& \\frac{h}{6} & 0 & ...&\\frac{\\Delta f_{2} - \\Delta f_{1}}{h}\\\\\n",
    "0&\\frac{h}{6}& \\frac{2}{3}h& \\frac{h}{6} & ...&\\frac{\\Delta f_{3} - \\Delta f_2}{h}\\\\\n",
    "... & ... & ... & ... & ... \\\\\n",
    "0 & 0& ... &\\frac{2}{3}h & \\frac{h}{6}& \\frac{\\Delta f_{n-1} - \\Delta f_{n-2}}{h}\n",
    "\\end{bmatrix}$ \n"
   ]
  },
  {
   "cell_type": "markdown",
   "metadata": {},
   "source": [
    "### 9. Derive formulas of direct pass and reverse pass of Tridiagonal matrix algorithm [Mathematical formals]"
   ]
  },
  {
   "cell_type": "markdown",
   "metadata": {},
   "source": [
    "As a result of the algorithm we need to derive matrix of this form:\n",
    "\n",
    "$\\hat{A}$ = $\\begin{bmatrix}\n",
    "1 & -P_1 & 0 & 0 &... &Q_1 \\\\\n",
    "0& 1& -P_2& 0 & ...&Q_2\\\\\n",
    "0&0& 1& -P_3 & ...&Q_3\\\\\n",
    "... & ... & ... & ... & ... \\\\\n",
    "0 & 0& 0 &1&...&Q_n\n",
    "\\end{bmatrix}$ \n",
    "where  $x_i=P_i*x_{i+1} + Q_i, \\ i=1,n-1$\n",
    "\n",
    "from tridiagonal matrix:\n",
    "\n",
    "A = $\\begin{bmatrix}\n",
    "-\\beta_1 & \\gamma_1 & 0 & 0 &... &\\delta_1 \\\\\n",
    "\\alpha_2& -\\beta_2& \\gamma_2& 0 & ...&\\delta_2\\\\\n",
    "...&\\alpha_i& -\\beta_i& \\gamma_i& ...&\\delta_i\\\\\n",
    "... & ... & ... & ... & ... \\\\\n",
    "0 & 0& \\alpha_n& -\\beta_n&...&\\delta_n\n",
    "\\end{bmatrix}$ \n",
    "\n",
    "\n",
    "\n",
    "\n",
    "**Derivation of direct pass**\n",
    "\n",
    "(1) for i = 1: $P_1 = \\frac{\\gamma_1}{\\beta_1}, \\ Q_1 = -\\frac{\\sigma_1}{\\beta_1}$\n",
    "\n",
    "(2) for i = 1, n-1:\n",
    "\n",
    "- $\\alpha_ix_{i-1} - \\beta_ix_i + \\gamma_ix_{i+1} = \\delta_i$\n",
    "\n",
    "- $x_{i-1} = P_{i-1}x_i + Q_{i-1}\\ $  //  $\\ * -\\alpha_i$\n",
    "\n",
    "$\\Rightarrow$ $\\alpha_ix_{i-1} - \\alpha_ix_{i-1} - \\beta_ix_i + \\gamma_ix_{i+1} = \\delta_i - \\alpha_iP_{i-1}x_{i} - \\alpha_iQ_{i-1}$\n",
    "\n",
    "$ - \\beta_ix_i + \\gamma_ix_{i+1} = \\delta_i - \\alpha_iP_{i-1}x_{i} - \\alpha_iQ_{i-1} $\n",
    "\n",
    "$x_i(\\alpha_iP_{i-1} - \\beta_i)= - \\gamma_ix_{i+1} - \\alpha_iQ_{i-1}$\n",
    "\n",
    "$x_i = \\frac{\\gamma_i}{\\beta_i - \\alpha_iP_{i-1}}x_{i+1} + \\frac{\\alpha_iQ_{i-1}- \\delta_i}{\\beta_i- \\alpha_iP_{i-1}}$\n",
    "\n",
    "$\\Rightarrow$\n",
    "\n",
    "$P_i = \\frac{\\gamma_i}{\\beta_i - \\alpha_iP_{i-1} }$ *\n",
    "\n",
    "$Q_i = \\frac{\\alpha_iQ_{i-1}- \\delta_i}{\\beta_i- \\alpha_iP_{i-1}}$ *\n",
    "\n",
    "**QED**\n",
    "\n",
    "----\n",
    "**Derivation of reverse pass**\n",
    "\n",
    "- $x_{n-1} = P_{n-1}x_n + Q_n$\n",
    "- $\\alpha_nx_{n-1} - \\beta_nx_n = \\delta_n$\n",
    "\n",
    "Subtituting $x_{n-1}$ from first to las equation\n",
    "\n",
    "$\\Rightarrow \\alpha_nP_{n-1}x_n + \\alpha Q_n - \\beta_n x_n = \\delta_n$\n",
    "\n",
    "$x_n(\\alpha_n P_{n-1} - \\beta_n) = \\delta_n - \\alpha_n Q_n$\n",
    "\n",
    "$x_n = \\frac{\\alpha_n Q_n - \\delta_n}{ \\beta_n - \\alpha_n P_{n-1}}= Q_n$ *\n",
    "\n",
    "\n",
    "*where $\\beta$ = - $\\frac{2}{3}h$, $\\gamma =  \\frac{h}{6}$, $\\alpha = \\frac{h}{6}$, $\\delta_i = \\frac{\\Delta f_{i} - \\Delta f_{i-1}}{h}$"
   ]
  },
  {
   "cell_type": "markdown",
   "metadata": {},
   "source": [
    "### 10. Implement code prototype of the future algorithm implementation. Classes/methods (if you use OOP), functions. The final implementation (on language chosen by you) should not differ from the functions declared in the prototype. [Python code]"
   ]
  },
  {
   "cell_type": "code",
   "execution_count": 9,
   "metadata": {},
   "outputs": [],
   "source": [
    "from typing import List\n",
    "'''\n",
    "                                        OOP implementation:\n",
    "'''\n",
    "# probably too slow for pcms\n",
    "class CubicSpline:\n",
    "    \n",
    "    def __init__(self, grid: List[int]):\n",
    "        '''\n",
    "        Initialize spline\n",
    "        \n",
    "        '''\n",
    "        self.grid = grid\n",
    "        self.bounds = (min(grid[:, 0]), max(grid[:, 0]))\n",
    "        self.M = self.get_second_derivatives()\n",
    "        \n",
    "        \n",
    "    def _get_second_derivatives_(self):\n",
    "        '''\n",
    "        1. Forward pass: compute Pi, Qi\n",
    "        2. Backward pass: compute M\n",
    "        return vector M - vector of second derivatives of a function\n",
    "        '''\n",
    "        pass\n",
    "    def _get_spline_(self, i: int):\n",
    "        '''\n",
    "        :param i: index of spline\n",
    "        Computes spline coefficients using grid values and second derivatives: \n",
    "        a0, a1, a2, a3\n",
    "        :returns: coefficients\n",
    "        '''\n",
    "        return a0, a1, a2, a3\n",
    "    def compute(self, x: int):\n",
    "        '''\n",
    "        Computes:\n",
    "        - i: index of corresponding segment in a grid\n",
    "        - spline coefficients\n",
    "        - computes value \n",
    "        return y: int\n",
    "        :raises:\n",
    "            Exception: Out of grid bounds\n",
    "        '''\n",
    "        return y\n",
    "        \n",
    "        \n",
    "\n",
    "'''\n",
    "                                        Fast implementation:\n",
    "'''\n",
    "\n",
    "def main(grid: List[int], x:int):\n",
    "    n = len(grid) - 1  # points range from 0 to n -> n+1 point\n",
    "    bounds = (min(grid[:, 0]), max(grid[:, 0]))\n",
    "    delta_f = [...]\n",
    "    spline_id = - 1\n",
    "    P, Q = [], []\n",
    "    for i in range(1, n-1):\n",
    "        P_i = ...\n",
    "        Q_i = ...\n",
    "        spline_id = ...\n",
    "    \n",
    "    M = []\n",
    "    for i in range (1, n-1):\n",
    "        M_i = ...\n",
    "    \n",
    "    curr_M = M[spline_id]\n",
    "    x_i = grid[spline_id, 0]\n",
    "    a0 = ...\n",
    "    a1 = ...\n",
    "    a2 = ...\n",
    "    a3 = ...\n",
    "    y = a0 + a1*(x - x_i) + a2*(x - x_i)**2 + a3*(x - x_i)**3\n",
    "    \n",
    "    return y\n",
    "\n",
    "\n"
   ]
  },
  {
   "cell_type": "markdown",
   "metadata": {},
   "source": [
    "### 11. Derive formula of Cubic Spline method error [Mathematical formulas]"
   ]
  },
  {
   "cell_type": "markdown",
   "metadata": {},
   "source": [
    "Method Error\n",
    "\n",
    "\\begin{equation*}max_{a,b}|u(x)^{(p)} - U_3(x)^{(p)}| <=CM_4h_{max}^{4-p}, p = 0, 1, 2.\n",
    "\\end{equation*}\n",
    "\n",
    "Assuming, $u(x) \\in C_4[a,b]$"
   ]
  },
  {
   "cell_type": "markdown",
   "metadata": {},
   "source": [
    "### 12. Rate the complexity of the algorithm [Text, and rate in terms of big O, no more than 100 characters]"
   ]
  },
  {
   "cell_type": "markdown",
   "metadata": {},
   "source": [
    "Direct pass - O(N)\n",
    "\n",
    "Reverse pass - O(N)\n",
    "\n",
    "Compute S(x) - const\n",
    "\n",
    "Total O(N)"
   ]
  },
  {
   "cell_type": "markdown",
   "metadata": {},
   "source": [
    "### Congrats!"
   ]
  }
 ],
 "metadata": {
  "kernelspec": {
   "display_name": "Python 3",
   "language": "python",
   "name": "python3"
  },
  "language_info": {
   "codemirror_mode": {
    "name": "ipython",
    "version": 3
   },
   "file_extension": ".py",
   "mimetype": "text/x-python",
   "name": "python",
   "nbconvert_exporter": "python",
   "pygments_lexer": "ipython3",
   "version": "3.7.4"
  }
 },
 "nbformat": 4,
 "nbformat_minor": 2
}
