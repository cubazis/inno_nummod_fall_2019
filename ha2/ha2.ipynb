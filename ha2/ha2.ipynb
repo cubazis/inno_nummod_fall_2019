{
 "cells": [
  {
   "cell_type": "code",
   "execution_count": 34,
   "metadata": {},
   "outputs": [],
   "source": [
    "import sympy as sp\n",
    "import numpy as np\n",
    "import matplotlib.pyplot as plt"
   ]
  },
  {
   "cell_type": "markdown",
   "metadata": {},
   "source": [
    "### 1. Formulate the statement of the interpolation problem with Cubic Spline [mathematical formula]"
   ]
  },
  {
   "cell_type": "markdown",
   "metadata": {},
   "source": [
    "Given n points, it's possible to build for every i such that $x \\in [x_i, x_{i+1}]$:\n",
    "\n",
    "$S_{3,i}(x)=a_{0,i} + a_{1,i}(x-x_i) + a_{2,i}(x-x_i)^2 + a_{3,i}(x-x_i)^3$, where i-th indicates each member of a spline, then spline can be constructed\n",
    "\n",
    "$S_{3}(x)=\\cup_{i=0}^{n-1}S_{3,i}(x)$ assuming $C_2[a,b]$ ($S_{3}(x)$ twice continuous differentiable)"
   ]
  },
  {
   "cell_type": "markdown",
   "metadata": {},
   "source": [
    "### 2. Formulate the functional and differential compatibility conditions [mathematical formula]"
   ]
  },
  {
   "cell_type": "markdown",
   "metadata": {},
   "source": [
    "Compatibility conditions for first method $(p=\\{0,2\\})$\n",
    "\n",
    "Functional:\n",
    "\n",
    "$\\delta S_{3,i}(x)|_{x=x_i} = S_{3,i}(x_i)-f(x_i) = 0$\n",
    "\n",
    "$\\delta S_{3,i}(x)|_{x=x_{i+1}} = S_{3,i}(x_{i+1})-f(x_{i+1}) = 0$\n",
    "\n",
    "Differential:\n",
    "\n",
    "$\\delta S_{3,i}^{''}(x)|_{x=x_i} = S_{3,i}^{''}(x_i)-f^{''}(x_i) = 0$\n",
    "\n",
    "$\\delta S_{3,i}^{''}(x)|_{x=x_{i+1}} = S_{3,i}^{''}(x_{i+1})-f^{''}(x_{i+1}) = 0$"
   ]
  },
  {
   "cell_type": "markdown",
   "metadata": {},
   "source": [
    "### 3. Formulate stitching conditions [mathematical formula]"
   ]
  },
  {
   "cell_type": "markdown",
   "metadata": {},
   "source": [
    "Stitching condition:\n",
    "\n",
    "$\\delta S_{3,i-1}^{'}(x)|_{x=x_i} = \\delta S_{3,i}^{'}(x)|_{x=x_i}, i \\in [1, n-1]$"
   ]
  },
  {
   "cell_type": "markdown",
   "metadata": {},
   "source": [
    "### 4. Justify why these conditions provide you with the required smoothness [thesis text, no more than 500 characters]"
   ]
  },
  {
   "cell_type": "markdown",
   "metadata": {},
   "source": [
    "Functional conditions ensures that spline correctly interpolates points. Differential condition provides smoothness in the derivatives and, thus, in function"
   ]
  },
  {
   "cell_type": "markdown",
   "metadata": {},
   "source": [
    "### 5. Derive dependency formula: the dependence of the second derivatives at the grid nodes on the increment of the function (the function values difference on the grid nodes). [Mathematical formulas derivation. Detailed, with clear transitions]"
   ]
  },
  {
   "cell_type": "markdown",
   "metadata": {},
   "source": [
    "According to compatability conditions\n",
    "\n",
    "$\\delta S_{3,i}(x)|_{x=x_i} = S_{3,i}(x_i)-f(x_i) = 0$\n",
    "\n",
    "$\\delta S_{3,i}(x)|_{x=x_{i+1}} = S_{3,i}(x_{i+1})-f(x_{i+1}) = 0$\n",
    "\n",
    "$\\delta S_{3,i}^{''}(x)|_{x=x_i} = S_{3,i}^{''}(x_i)-f^{''}(x_i) = 0$\n",
    "\n",
    "$\\delta S_{3,i}^{''}(x)|_{x=x_{i+1}} = S_{3,i}^{''}(x_{i+1})-f^{''}(x_{i+1}) = 0$\n",
    "\n",
    "$S_{3,i}^{'}(x)=a_{1}+2a_{2}(x-x_i)+3a_{3}(x-x_i)^2$\n",
    "\n",
    "$S_{3,i}^{''}(x)=2a_{2}+6a_{3}(x-x_i)$\n",
    "\n",
    "$\\begin{cases} \n",
    "    a_{0,i} + a_{1,i}(x_i-x_i) + a_{2,i}(x_i-x_i)^2 + a_{3,i}(x_i-x_i)^3 - f(x_i) = 0 \\\\\n",
    "    a_{0,i} + a_{1,i}(x_{i+1}-x_i) + a_{2,i}(x_{i+1}-x_{i})^2 + a_{3,i}(x_{i+1}-x_i)^3 - f(x_{i+1}) \\\\\n",
    "    2a_{2}+6a_{3}(x_i-x_i)-f^{''}(x_i) = 0 \\\\\n",
    "    2a_{2}+6a_{3}(x_{i+1}-x_{i})-f^{''}(x_{i+1}) = 0\n",
    "\\end{cases}$\n",
    "\n",
    "$\\begin{cases} \n",
    "    a_{0,i} - f_i = 0 \\\\\n",
    "    a_{0,i} + a_{1,i}(x_{i+1}-x_i) + a_{2,i}(x_{i+1}-x_{i})^2 + a_{3,i}(x_{i+1}-x_i)^3 - f_{i+1} \\\\\n",
    "    2a_{2}-m_{i} = 0 \\\\\n",
    "    2a_{2}+6a_{3}(x_{i+1}-x_{i})-m_{i+1} = 0\n",
    "\\end{cases}$\n",
    "\n",
    "$\\begin{vmatrix} \n",
    "1 & 0 & 0 & 0 & -f_i \\\\\n",
    "1 & (x_{i+1}-x_i) & (x_{i+1}-x_{i})^2 & (x_{i+1}-x_i)^3 & -f_{i+1} \\\\\n",
    "0 & 0 & 2 & 0 & -m_i \\\\\n",
    "0 & 0 & 2 & 6(x_{i+1}-x_{i}) & -m_{i+1}\n",
    "\\end{vmatrix} \\cdot \\begin{vmatrix} \n",
    "a_{0,i} \\\\\n",
    "a_{1,i} \\\\\n",
    "a_{2,i} \\\\\n",
    "a_{3,i} \\\\\n",
    "1\n",
    "\\end{vmatrix} = \\begin{vmatrix} \n",
    "0 \\\\\n",
    "0 \\\\\n",
    "0 \\\\\n",
    "0\n",
    "\\end{vmatrix}$\n",
    "\n",
    "From the first equation in the matrix:\n",
    "\n",
    "$a_{0,i} = f_i$\n",
    "\n",
    "From the third equation in the matrix:\n",
    "\n",
    "$a_{2,i} = \\frac{m_i}{2}$\n",
    "\n",
    "From the fourth equation in the matrix and known value of $a_{2,i}$:\n",
    "\n",
    "$m_i + 6a_{3,i}(x_{i+1}-x_{i}) = m_{i+1} \\\\\n",
    "6a_{3,i}(x_{i+1}-x_{i}) = m_{i+1} - m_i \\\\\n",
    "a_{3,i}=\\frac{m_{i+1} - m_i}{6(x_{i+1}-x_{i})}$\n",
    "\n",
    "Finally, using second equation, and knowledge of $a_{0,i}, a_{2,i}, a_{3,i}$:\n",
    "\n",
    "$f_i + a_{1,i}(x_{i+1}-x_i) + \\frac{m_i}{2}(x_{i+1}-x_{i})^2 + \\frac{m_{i+1} - m_i}{6(x_{i+1}-x_{i})}(x_{i+1}-x_i)^3 = f_{i+1} \\\\\n",
    "a_{1,i}(x_{i+1}-x_i) = f_{i+1} - f_i - \\frac{m_i}{2}(x_{i+1}-x_{i})^2 - \\frac{m_{i+1} - m_i}{6(x_{i+1}-x_{i})}(x_{i+1}-x_i)^3 \\\\ \n",
    "a_{1,i} = \\frac{f_{i+1} - f_i - \\frac{m_i}{2}(x_{i+1}-x_{i})^2 - \\frac{m_{i+1} - m_i}{6(x_{i+1}-x_{i})}(x_{i+1}-x_i)^3}{x_{i+1}-x_i} \\\\\n",
    "a_{1,i} = \\frac{f_{i+1} - f_i}{x_{i+1}-x_i} - \\frac{m_i(x_{i+1}-x_{i})}{2} - \\frac{(m_{i+1} - m_i)(x_{i+1}-x_{i})}{6}$\n",
    "\n",
    "Let $h_{i+1} = x_{i+1} - x_i, \\Delta f_i = f_{i+1} - f_i, \\Delta m_i = m_{i+1} - m_i$, then:\n",
    "\n",
    "$a_{0,i} = f_i \\\\ \n",
    "a_{1,i} = \\frac{\\Delta f_i}{h_{i+1}} - \\frac{m_i \\cdot h_{i+1}}{2} - \\frac{\\Delta m_i \\cdot h_{i+1}}{6} \\\\\n",
    "a_{2,i} = \\frac{m_i}{2} \\\\\n",
    "a_{3,i} = \\frac{\\Delta m_i}{6h_{i+1}}$\n",
    "\n",
    "According to stitching condition (p = 1):\n",
    "\n",
    "$a_{1, i-1}+2a_{2, i-1}(x_i-x_{i-1})+3a_{3, i-1}(x_i-x_{i-1})^2=a_{1, i-1}+2a_{2, i-1}(x_i-x_{i})+3a_{3, i-1}(x_i-x_{i})^2$\n",
    "\n",
    "Substituing found coefficient into equation above:\n",
    "\n",
    "$\\frac{\\Delta f_{i-1}}{h_{i}} - \\frac{m_{i-1} \\cdot h_{i}}{2} - \\frac{\\Delta m_{i-1} \\cdot h_{i}}{6}+m_{i-1}(x_i-x_{i-1})+\\frac{\\Delta m_{i-1}}{2h_{i}}(x_i-x_{i-1})^2 = \\frac{\\Delta f_{i}}{h_{i+1}} - \\frac{m_{i} \\cdot h_{i+1}}{2} - - \\frac{\\Delta m_i \\cdot h_{i+1}}{6}$\n",
    "\n",
    "Using $h_{i+1} = x_{i+1} - x_i$:\n",
    "\n",
    "$\\frac{\\Delta f_{i-1}}{h_{i}} - \\frac{m_{i-1} \\cdot h_{i}}{2} - \\frac{\\Delta m_{i-1} \\cdot h_{i}}{6}+m_{i-1}h_i+\\frac{\\Delta m_{i-1}}{2}h_i = \\frac{\\Delta f_{i}}{h_{i+1}} - \\frac{m_{i} \\cdot h_{i+1}}{2} - \\frac{\\Delta m_i \\cdot h_{i+1}}{6}$\n",
    "\n",
    "Simplifying:\n",
    "\n",
    "$\\frac{\\Delta f_{i-1}}{h_{i}} + \\frac{m_{i-1} \\cdot h_{i}}{2} +\\frac{\\Delta m_{i-1}}{3}h_i = \\frac{\\Delta f_{i}}{h_{i+1}} - \\frac{m_{i} \\cdot h_{i+1}}{2} - \\frac{\\Delta m_i \\cdot h_{i+1}}{6}$\n",
    "\n",
    "Using $\\Delta m_i = m_{i+1} - m_i$:\n",
    "\n",
    "$\\frac{\\Delta f_{i-1}}{h_{i}} + \\frac{m_{i-1} \\cdot h_{i}}{2} +\\frac{m_{i} - m_{i-1}}{3}h_i = \\frac{\\Delta f_{i}}{h_{i+1}} - \\frac{m_{i} \\cdot h_{i+1}}{2} - \\frac{(m_{i+1} - m_i) \\cdot h_{i+1}}{6}$\n",
    "\n",
    "$\\frac{m_{i-1} \\cdot h_{i}}{2} +\\frac{m_{i} - m_{i-1}}{3}h_i + \\frac{m_{i} \\cdot h_{i+1}}{2} + \\frac{(m_{i+1} - m_i) \\cdot h_{i+1}}{6} = \\frac{\\Delta f_{i}}{h_{i+1}} - \\frac{\\Delta f_{i-1}}{h_{i}}$\n",
    "\n",
    "$\\frac{3m_{i-1}h_i + 2m_i h_i - 2m_{i-1}h_i + 2m_i h_{i+1}}{6} + \\frac{m_{i+1}h_{i+1}}{6}= \\frac{\\Delta f_{i}}{h_{i+1}} - \\frac{\\Delta f_{i-1}}{h_{i}}$\n",
    "\n",
    "$\\frac{2m_i(h_i+h_{i+1})}{6} + \\frac{m_{i-1}h_i}{6} + \\frac{m_{i+1}h_{i+1}}{6} = \\frac{\\Delta f_{i}}{h_{i+1}} - \\frac{\\Delta f_{i-1}}{h_{i}}$\n",
    "\n",
    "$\\frac{m_{i-1}h_i}{6} + \\frac{m_i(h_i+h_{i+1})}{3} + \\frac{m_{i+1}h_{i+1}}{6} = \\frac{\\Delta f_{i}}{h_{i+1}} - \\frac{\\Delta f_{i-1}}{h_{i}}$, for $i \\in [1, n-1]$"
   ]
  },
  {
   "cell_type": "markdown",
   "metadata": {},
   "source": [
    "### 6. Create a system of equations using this formula [Matrix representation. Mathematical formulas]"
   ]
  },
  {
   "cell_type": "markdown",
   "metadata": {},
   "source": [
    "$\\begin{vmatrix} \n",
    "1 & 0 & 0 & 0 \\\\\n",
    "1 & (x_{i+1}-x_i) & (x_{i+1}-x_{i})^2 & (x_{i+1}-x_i)^3 \\\\\n",
    "0 & 0 & 2 & 0 \\\\\n",
    "0 & 0 & 2 & 6(x_{i+1}-x_{i})\n",
    "\\end{vmatrix} \\cdot \\begin{vmatrix} \n",
    "a_{0,i} \\\\\n",
    "a_{1,i} \\\\\n",
    "a_{2,i} \\\\\n",
    "a_{3,i} \\\\\n",
    "\\end{vmatrix} = \\begin{vmatrix} \n",
    "f_i \\\\\n",
    "f_{i+1} \\\\\n",
    "m_i \\\\\n",
    "m_{i+1}\n",
    "\\end{vmatrix}$\n",
    "\n",
    "$\\begin{vmatrix} \n",
    "\\frac{h_1}{6} & \\frac{h_1 + h_{2}}{3} & \\frac{h_{2}}{6} & 0 & 0 & ... \\\\\n",
    "0 & \\frac{h_2}{6} & \\frac{h_2 + h_{3}}{3} & \\frac{h_{3}}{6} & 0 & ... \\\\\n",
    "... & ... & ... & ... & ... & ... \\\\\n",
    "... & 0 & 0 & \\frac{h_n-1}{6} & \\frac{h_n-1 + h_{n}}{3} & \\frac{h_{n}}{6}\n",
    "\\end{vmatrix} \\cdot \\begin{vmatrix} \n",
    "m_0 \\\\\n",
    "m_1 \\\\\n",
    "m_2 \\\\\n",
    "... \\\\\n",
    "m_n\n",
    "\\end{vmatrix} = \\begin{vmatrix} \n",
    "\\frac{\\Delta f_1}{h_2} - \\frac{\\Delta f_0}{h_1} \\\\\n",
    "\\frac{\\Delta f_2}{h_3} - \\frac{\\Delta f_1}{h_2} \\\\\n",
    "... \\\\\n",
    "\\frac{\\Delta f_{n-1}}{h_n} - \\frac{\\Delta f_{n-2}}{h_{n-1}}\n",
    "\\end{vmatrix}$"
   ]
  },
  {
   "cell_type": "markdown",
   "metadata": {},
   "source": [
    "### 7. Explain what is an unknown variable in this system. whether the system is closed with respect to an unknown variable. What is missing for closure. [Text, no more than 200 characters]"
   ]
  },
  {
   "cell_type": "markdown",
   "metadata": {},
   "source": [
    "The system is not closed with respect to $m_i$ ($i \\in [0, n])$, which is an unknown variable. We need to somehow appoximate value of $m_i$ on the boundaries ($m_0$ and $m_n$)"
   ]
  },
  {
   "cell_type": "markdown",
   "metadata": {},
   "source": [
    "### 8. Bring this matrix to the appropriate form to use the Tridiagonal matrix algorithm [Mathematical derivation. Use Gauss Elimination]"
   ]
  },
  {
   "cell_type": "markdown",
   "metadata": {},
   "source": [
    "$\\begin{vmatrix}\n",
    "-\\frac{h_1 + h_{2}}{3} & \\frac{h_{2}}{6} & 0 & 0 & 0 & ... \\\\\n",
    "\\frac{h_2}{6} & -\\frac{h_2 + h_{3}}{3} & \\frac{h_{3}}{6} & 0 & 0 & ... \\\\\n",
    "... & ... & ... & ... & ... & ... \\\\\n",
    "... & 0 & 0 & 0 & \\frac{h_n-1}{6} & -\\frac{h_n-1 + h_{n}}{3}\n",
    "\\end{vmatrix} \\cdot \\begin{vmatrix} \n",
    "m_0 \\\\\n",
    "m_1 \\\\\n",
    "m_2 \\\\\n",
    "... \\\\\n",
    "m_n\n",
    "\\end{vmatrix} = \\begin{vmatrix} \n",
    "\\frac{\\Delta f_1}{h_2} - \\frac{\\Delta f_0}{h_1} \\\\\n",
    "\\frac{\\Delta f_2}{h_3} - \\frac{\\Delta f_1}{h_2} \\\\\n",
    "... \\\\\n",
    "\\frac{\\Delta f_{n-1}}{h_n} - \\frac{\\Delta f_{n-2}}{h_{n-1}}\n",
    "\\end{vmatrix}$\n",
    "\n",
    "$\\begin{vmatrix} \n",
    "1 & -P_1 & 0 & 0 & ... & Q_1 \\\\\n",
    "0 & 1 & -P_2 & 0 & ... & Q_2 \\\\\n",
    "0 & 0 & 1 & -P_3 & ... & Q_3\\\\\n",
    "... & ... & ... & ... & ... & ... \\\\\n",
    "... & ... & ... & 1 & -P_{n-1} & Q_{n-1}\n",
    "\\end{vmatrix}$"
   ]
  },
  {
   "cell_type": "markdown",
   "metadata": {},
   "source": [
    "### 9. Derive formulas of direct pass and reverse pass of Tridiagonal matrix algorithm [Mathematical formals]"
   ]
  },
  {
   "cell_type": "markdown",
   "metadata": {},
   "source": [
    "From the matrix above, we can find $m_i$ recurrently:\n",
    "\n",
    "$m_i = P_i m_{i+1} + Q_i$, $i \\in [1, n-2]$\n",
    "\n",
    "Write down formula for $x_{i-1}$:\n",
    "\n",
    "$m_{i-1} = P_{i-1}m_i + Q_{i-1}$\n",
    "\n",
    "Substituting into general equation of the system:\n",
    "\n",
    "$\\frac{(P_{i-1}m_i + Q_{i-1}) h_i}{6} - \\frac{m_i(h_i+h_{i+1})}{3} + \\frac{m_{i+1}h_{i+1}}{6} = \\frac{\\Delta f_{i}}{h_{i+1}} - \\frac{\\Delta f_{i-1}}{h_{i}}$\n",
    "\n",
    "Let $\\alpha_i = \\frac{h_i}{6}, \\beta_i = \\frac{h_i + h_{i+1}}{3}, \\gamma_i = \\frac{h_{i+1}}{6}, \\sigma_i = \\frac{\\Delta f_{i}}{h_{i+1}} - \\frac{\\Delta f_{i-1}}{h_{i}}$:\n",
    "\n",
    "$\\alpha_i (P_{i-1}m_i + Q_{i-1}) - \\beta_i m_i + \\gamma_i m_{i+1} = \\sigma_i \\\\\n",
    "\\alpha_i P_{i-1}m_i + \\alpha_i Q_{i-1} - \\beta_i m_i + \\gamma_i m_{i+1} = \\sigma_i \\\\\n",
    "m_i(\\alpha_i P_{i-1} - \\beta_i) + \\alpha_i Q_{i-1} + \\gamma_i m_{i+1} = \\sigma_i \\\\\n",
    "m_i = -\\frac{\\gamma_i m_{i+1}}{\\alpha_i P_{i-1} - \\beta_i} - \\frac{\\alpha_i Q_{i-1}}{\\alpha_i P_{i-1} - \\beta_i} + \\frac{\\sigma_i}{\\alpha_i P_{i-1} - \\beta_i} = \\frac{\\gamma_i m_{i+1}}{\\beta_i - \\alpha_i P_{i-1}} + \\frac{\\alpha_i Q_{i-1} - \\sigma_i}{\\beta_i - \\alpha_i P_{i-1}}$\n",
    "\n",
    "Now we can get $P, Q$, which is in fact, direct pass:\n",
    "\n",
    "$P_i = \\frac{\\gamma_i}{\\beta_i - \\alpha_i P_{i-1}} \\\\\n",
    "Q_i = \\frac{\\alpha_i Q_{i-1} - \\sigma_i}{\\beta_i - \\alpha_i P_{i-1}}$\n",
    "\n",
    "For the reverse pass, write down last equation:\n",
    "\n",
    "$m_{n-1} = P_{n-1}m_n + Q_{n-1} \\\\\n",
    "\\alpha_n m_{n-1} - \\beta_n m_n = \\sigma_n$\n",
    "\n",
    "Substitute $m_{n-1}$:\n",
    "\n",
    "$\\alpha_n(P_{n-1}m_n + Q_{n-1}) - \\beta_n m_n = \\sigma_n \\\\\n",
    "\\alpha_n P_{n-1}m_n + \\alpha_n Q_{n-1} - \\beta_n m_n = \\sigma_n \\\\\n",
    "m_n(\\alpha_n P_{n-1} - \\beta_n) = \\sigma_n - \\alpha_n Q_{n-1} \\\\\n",
    "m_n = \\frac{\\sigma_n - \\alpha_n Q_{n-1}}{\\alpha_n P_{n-1} - \\beta_n} = \\frac{\\alpha_n Q_{n-1} - \\sigma_n}{\\beta_n - \\alpha_n P_{n-1}}$\n",
    "\n",
    "Which means that reverse pass is:\n",
    "\n",
    "$Q_n = \\frac{\\alpha_n Q_{n-1} - \\sigma_n}{\\beta_n - \\alpha_n P_{n-1}} = m_n$"
   ]
  },
  {
   "cell_type": "markdown",
   "metadata": {},
   "source": [
    "### 10. Implement code prototype of the future algorithm implementation. Classes/methods (if you use OOP), functions. The final implementation (on language chosen by you) should not differ from the functions declared in the prototype. [Python code]"
   ]
  },
  {
   "cell_type": "code",
   "execution_count": 88,
   "metadata": {},
   "outputs": [
    {
     "name": "stdout",
     "output_type": "stream",
     "text": [
      "[0.30887915387163767, 0.8086540467262823, 0.9995568084495541, 0.8086400012457526, 0.3089353357937575, -0.3090898360795866, -0.8078674998166083, -1.0024923138803028, -0.7976845264324324]\n"
     ]
    }
   ],
   "source": [
    "# Done for the very first spline, some functions most likely to be as an array\n",
    "\n",
    "x = [0.0, 0.1, 0.2, 0.3, 0.4, 0.5, 0.6, 0.7, 0.8, 0.9]\n",
    "x_test = [0.05, 0.15, 0.25, 0.35, 0.45, 0.55, 0.65, 0.75, 0.85]\n",
    "y = [0.0, 0.5877852522924731, 0.9510565162951535, 0.9510565162951535, 0.5877852522924732, \n",
    "     1.2246467991473532e-16, -0.5877852522924734, -0.9510565162951535, -0.9510565162951536, -0.5877852522924734]\n",
    "rez = [0.3088791538716377, 0.8086540467262824, 0.9995568084495542, 0.8086400012457524, 0.30893533579375737, \n",
    "       -0.3090898360795863, -0.8078674998166081, -1.0024923138803028, -0.7976845264324319]\n",
    "n = len(x)\n",
    "\n",
    "def a(h, i):\n",
    "    return h[i] / 6\n",
    "\n",
    "def b(h, i):\n",
    "    return -((h[i] + h[i+1])/3)\n",
    "\n",
    "def c(h, i):\n",
    "    return h[i+1] / 6\n",
    "\n",
    "def gamma(h, df, i):\n",
    "    return (df[i]/h[i+1]) - (df[i-1]/h[i])\n",
    "\n",
    "def propogate(x, y, n):\n",
    "    P = [0] * (n)\n",
    "    Q = [0] * (n)\n",
    "    h = [0] * (n)\n",
    "    df = [0] * (n)\n",
    "    m = [0] * (n)\n",
    "    for i in range(n-1):\n",
    "        h[i+1] = x[i+1] - x[i]\n",
    "        df[i] = y[i+1] - y[i]\n",
    "    P[1] = c(h, 1) / b(h, 1)\n",
    "    Q[1] = - gamma(h, df, 1) / b(h, 1)\n",
    "    for i in range(2, n-1):\n",
    "        P[i] = c(h, i) / (-a(h, i) * P[i-1] + b(h, i))\n",
    "        Q[i] = (-gamma(h, df, i) + a(h, i) * Q[i-1]) / (-a(h,i)*P[i-1] + b(h,i))\n",
    "    m[n-1] = Q[n-1]\n",
    "    for i in range(n-1, 1, -1):\n",
    "        m[i-1] = P[i-1]*m[i] + Q[i-1]\n",
    "    return P, Q, h, df, m\n",
    "    \n",
    "P, Q, h, df, m = propogate(x, y, n)\n",
    "\n",
    "def a_0(y, i):\n",
    "    return y[i]\n",
    "\n",
    "def a_1(i):\n",
    "    return (df[i] / h[i+1]) - ((m[i] * h[i+1])/2) - (((m[i+1] - m[i])*h[i+1])/6)\n",
    "\n",
    "def a_2(i):\n",
    "    return m[i] / 2\n",
    "\n",
    "def a_3(i):\n",
    "    return (m[i+1] - m[i]) / (6 * h[i+1])\n",
    "    \n",
    "def calc(x_init, y, x_test, n, h, m):\n",
    "    for i in range(n):\n",
    "        if x_test < x_init[i]:\n",
    "            spline_member = i-1\n",
    "            break\n",
    "    return a_0(y, spline_member) + a_1(spline_member) * (x_test - x_init[spline_member]) + a_2(spline_member) * (x_test - x_init[spline_member])**2 + a_3(spline_member) * (x_test - x_init[spline_member])**3\n",
    "\n",
    "y_from_spline = []\n",
    "for item in x_test:\n",
    "    rez = calc(x, y, item, n, h, m)\n",
    "    y_from_spline.append(rez)\n",
    "\n",
    "print(y_from_spline)\n",
    "# plt.plot(x, y, 'b')\n",
    "# plt.plot(x_test, y_from_spline, 'r')\n",
    "# plt.show()"
   ]
  },
  {
   "cell_type": "markdown",
   "metadata": {},
   "source": [
    "\n",
    "### 11. Derive formula of Cubic Spline method error [Mathematical formulas]"
   ]
  },
  {
   "cell_type": "markdown",
   "metadata": {},
   "source": [
    "Cubic Spline method error:\n",
    "\n",
    "$|| f^{(p)}(x)-S_3^{(p)}(x)||_{C[a,b]} = \\max_{[a,b]}|f^{(p)}(x)-S_3^{(p)}(x)|\\leq M_4h^{4-p}$, $p=0,1,2$\n",
    "\n",
    "Then, using each p:\n",
    "\n",
    "$|| f^{(0)}(x)-S_3^{(0)}(x)||_{C[a,b]} = \\max_{[a,b]}|f^{(0)}(x)-S_3^{(0)}(x)|\\leq M_4h^{4}$, for function\n",
    "\n",
    "$|| f^{(1)}(x)-S_3^{(1)}(x)||_{C[a,b]} = \\max_{[a,b]}|f^{(1)}(x)-S_3^{(1)}(x)|\\leq M_4h^{3}$, for first derivative\n",
    "\n",
    "$|| f^{(2)}(x)-S_3^{(2)}(x)||_{C[a,b]} = \\max_{[a,b]}|f^{(2)}(x)-S_3^{(2)}(x)|\\leq M_4h^{2}$, for second derivative\n",
    "\n",
    "This metrics only work for $f(x) \\in C_4[a,b]$"
   ]
  },
  {
   "cell_type": "markdown",
   "metadata": {},
   "source": [
    "### 12. Rate the complexity of the algorithm [Text, and rate in terms of big O, no more than 100 characters]"
   ]
  },
  {
   "cell_type": "markdown",
   "metadata": {},
   "source": [
    "For the direct pass, there is $O(n)$\n",
    "\n",
    "For the reverse pass, there is $O(n)$\n",
    "\n",
    "Combining $O(2n) = O(n)$"
   ]
  },
  {
   "cell_type": "markdown",
   "metadata": {},
   "source": [
    "### Congrats!"
   ]
  }
 ],
 "metadata": {
  "kernelspec": {
   "display_name": "Python 3",
   "language": "python",
   "name": "python3"
  },
  "language_info": {
   "codemirror_mode": {
    "name": "ipython",
    "version": 3
   },
   "file_extension": ".py",
   "mimetype": "text/x-python",
   "name": "python",
   "nbconvert_exporter": "python",
   "pygments_lexer": "ipython3",
   "version": "3.7.1"
  }
 },
 "nbformat": 4,
 "nbformat_minor": 2
}
