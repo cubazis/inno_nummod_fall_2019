{
  "nbformat": 4,
  "nbformat_minor": 0,
  "metadata": {
    "kernelspec": {
      "display_name": "Python 3",
      "language": "python",
      "name": "python3"
    },
    "language_info": {
      "codemirror_mode": {
        "name": "ipython",
        "version": 3
      },
      "file_extension": ".py",
      "mimetype": "text/x-python",
      "name": "python",
      "nbconvert_exporter": "python",
      "pygments_lexer": "ipython3",
      "version": "3.6.8"
    },
    "colab": {
      "name": "ha2.ipynb",
      "version": "0.3.2",
      "provenance": [],
      "collapsed_sections": []
    }
  },
  "cells": [
    {
      "cell_type": "code",
      "metadata": {
        "colab_type": "code",
        "id": "5tu0wSN1_MRq",
        "colab": {}
      },
      "source": [
        "import numpy as np\n",
        "import matplotlib.pyplot as plt\n",
        "plt.rcParams['figure.figsize'] = [10, 5]"
      ],
      "execution_count": 0,
      "outputs": []
    },
    {
      "cell_type": "markdown",
      "metadata": {
        "id": "kGRASRRLMH8l",
        "colab_type": "text"
      },
      "source": [
        "### 1. Formulate the statement of the interpolation problem with Cubic Spline"
      ]
    },
    {
      "cell_type": "markdown",
      "metadata": {
        "id": "YkgGDVkZNWrQ",
        "colab_type": "text"
      },
      "source": [
        "Given a set of $N+1$ points $(x_i, f_i), a=x_0, b=x_n,$ find a function S such that on each interval $[x_{i-1}, x_i], i \\in {1..n}, S(x)$ is a polynomial $S_i(x)$ of degree 3 and $\\forall i \\in {1..n} : S(x_i)=f_i$"
      ]
    },
    {
      "cell_type": "markdown",
      "metadata": {
        "id": "knUHxb4XMH8w",
        "colab_type": "text"
      },
      "source": [
        "### 2. Formulate the functional and differential compatibility conditions"
      ]
    },
    {
      "cell_type": "markdown",
      "metadata": {
        "id": "mRR60A6ONeZD",
        "colab_type": "text"
      },
      "source": [
        "$\\forall i \\in 1..N$\n",
        "\n",
        "__Functional compatibility__:\n",
        "$ S(x_i) = f_i $\n",
        "\n",
        "__Differential compatibility__:\n",
        "$ S''(x_i) = f''_i $ \n"
      ]
    },
    {
      "cell_type": "markdown",
      "metadata": {
        "id": "RLUhmXn0MH82",
        "colab_type": "text"
      },
      "source": [
        "### 3. Formulate stitching conditions"
      ]
    },
    {
      "cell_type": "markdown",
      "metadata": {
        "id": "9eTNJimQNgVt",
        "colab_type": "text"
      },
      "source": [
        "$ \\forall i \\in 1..N $\n",
        "\n",
        "$ S_{i-1}(x_i) = S_i(x_i) $\n",
        "\n",
        "$ S'_{i-1}(x_i) = S'_i(x_i) $\n",
        "\n",
        "$ S''_{i-1}(x_i) = S''_i(x_i) $"
      ]
    },
    {
      "cell_type": "markdown",
      "metadata": {
        "id": "SOLID4paMH8-",
        "colab_type": "text"
      },
      "source": [
        "### 4. Justify why these conditions provide you with the required smoothness"
      ]
    },
    {
      "cell_type": "markdown",
      "metadata": {
        "id": "feZV25PhNi2T",
        "colab_type": "text"
      },
      "source": [
        "#### Functional compatibility condition\n",
        "\n",
        "Ensures that the resulting function solves the interpolation problem.\n",
        "\n",
        "#### Differential compatibility condition\n",
        "\n",
        "Differential condition provides additional equations to make the solution unique.\n",
        "\n",
        "#### Stitching condition\n",
        "\n",
        "Stitching conditions ensure that the resulting function is continuous and differentiable on $[x_0;x_n]$"
      ]
    },
    {
      "cell_type": "markdown",
      "metadata": {
        "id": "tdaxfuMiMH9I",
        "colab_type": "text"
      },
      "source": [
        "### 5. Derive dependency formula: the dependence of the second derivatives at the grid nodes on the increment of the function (the function values difference on the grid nodes)\n"
      ]
    },
    {
      "cell_type": "markdown",
      "metadata": {
        "id": "mDiVTxbXNkXZ",
        "colab_type": "text"
      },
      "source": [
        "Definitions:\n",
        "\n",
        "$$ m_i = f''_i, i = 0..N $$ \n",
        "$$ h_{i+1} = x_{i+1} - x_i $$ \n",
        "$$ \\Delta f_i = f_{i+1} - f_i $$\n",
        "$$ \\Delta m_i = m_{i+1} - m_i $$\n",
        "\n",
        "Differential/functional compatibility:\n",
        "\n",
        "$$ S_i(x_i) - f(x_i) = 0 $$\n",
        "\n",
        "$$ S_i(x_{i+1}) - f(x_{i+1}) = 0 $$\n",
        "\n",
        "$$ S''_i(x_i) - f''(x_i) = 0 $$\n",
        "\n",
        "$$ S''_i(x_{i+1}) - f''(x_{i+1}) = 0 $$\n",
        "\n",
        "Spline:\n",
        "\n",
        "$$ S_i(x) = a_i + b_i(x-x_i) + c_i(x-x_i)^2 + d_i(x-x_i)^3 $$\n",
        "\n",
        "After subsitution:\n",
        "\n",
        "$$ a_i = f_i $$\n",
        "$$ b_i = \\left( \\frac{1}{h_{i+1}} \\Delta f_i - \\frac{h_{i+1}}{2}m_i - \\frac{h_{i+1}}{6} \\Delta m_i \\right) $$\n",
        "$$ c_i = \\frac{m_i}{2} $$\n",
        "$$ d_i = \\frac{1}{6h_{i+1}} \\Delta m_i $$\n",
        "\n",
        "$$ S_i(x) = f_i + \\left( \\frac{1}{h_{i+1}} \\Delta f_i - \\frac{h_{i+1}}{2}m_i - \\frac{h_{i+1}}{6} \\Delta m_i \\right) (x - x_i) \n",
        "+ \\frac{m_i}{2}(x-x_i)^2 + \\frac{1}{6h_{i+1}} \\Delta m_i(x-x_i)^3 $$\n",
        "\n",
        "---\n",
        "\n",
        "Stitching condition:\n",
        "\n",
        "$$ S'_i(x_i) = S'_{i+1}(x_i) $$\n",
        "\n",
        "By substituting $ S'_i $ and $ S'_{i+1} $:\n",
        "\n",
        "$$ b_i+2c_i(x-x_i) + 3d_i(x-x_i)^2 = b_{i+1} + 2c_{i+1}(x-x_i) + 3d_{i+1}(x-x_i)^2 $$\n",
        "\n",
        "By substituting $ b_i, c_i, d_i, b_{i+1}, c_{i+1}, d_{i+1} $:\n",
        "\n",
        "$$ \\frac{h_{i+1}}{6}m_{i} + \\frac{h_{i+1}+h_{i+2}}{3}m_{i+1} + \\frac{h_{i+2}}{6}m_{i+2} = \\frac{\\Delta f_{i+1}}{h_{i+2}} - \\frac{\\Delta f_i}{h_{i+1}}, i=0..(N-2) $$"
      ]
    },
    {
      "cell_type": "markdown",
      "metadata": {
        "id": "zBPJ6hqXMH9Q",
        "colab_type": "text"
      },
      "source": [
        "### 6. Create a system of equations using this formula [Matrix representation. Mathematical formulas]"
      ]
    },
    {
      "cell_type": "markdown",
      "metadata": {
        "id": "kBoD3O0WNlnr",
        "colab_type": "text"
      },
      "source": [
        "The following is only correct if $m_0=m_N=0$\n",
        "\n",
        "$$ A_i = \\frac{h_{i+1}}{6} $$\n",
        "$$ B_i = \\frac{h_{i+1} + h_{i+2}}{3} $$\n",
        "$$ C_i = \\frac{h_{i+2}}{6} $$\n",
        "$$ F_i = \\frac{\\Delta f_{i+1}}{h_{i+2}} - \\frac{\\Delta f_i}{h_{i+1}} $$\n",
        "$$ A_i m_i + B_i m_{i+1} + C_i m_{i+2} = F_i $$\n",
        "$$ i=0..(N-2) $$\n",
        "\n",
        "---\n",
        "\n",
        "$$ \\begin{bmatrix}\n",
        "    B_0    & C_0    & 0      & \\dots   & 0      \\\\\n",
        "    A_1    & B_1    & C_1    & \\dots   & 0      \\\\\n",
        "    0      & A_2    & B_2    & \\dots   & 0      \\\\\n",
        "    \\vdots & \\vdots & \\vdots & \\ddots  & \\vdots \\\\\n",
        "    0      & 0      & \\dots  & A_{N-2}    & B_{N-2} \n",
        "\\end{bmatrix} \\begin{bmatrix}\n",
        "    m_1 \\\\\n",
        "    m_2 \\\\\n",
        "    m_3 \\\\\n",
        "    \\vdots \\\\\n",
        "    m_{N-2}\n",
        "\\end{bmatrix} = \\begin{bmatrix}\n",
        "    F_0 \\\\\n",
        "    F_1 \\\\\n",
        "    F_2 \\\\\n",
        "    \\vdots \\\\\n",
        "    F_{N-2}\n",
        "\\end{bmatrix} $$ "
      ]
    },
    {
      "cell_type": "markdown",
      "metadata": {
        "id": "R-EoOH_HMH9W",
        "colab_type": "text"
      },
      "source": [
        "### 7. Explain what is an unknown variable in this system. whether the system is closed with respect to an unknown variable. What is missing for closure. "
      ]
    },
    {
      "cell_type": "markdown",
      "metadata": {
        "id": "1MpxSwMiNm1v",
        "colab_type": "text"
      },
      "source": [
        "The unknown variable is $m$, which is the second derivative of function $f$.\n",
        "\n",
        "This system is not closed. A natural spline can be obtained by adding two equations to the system to make it solvable: \n",
        "$$ m_0 = 0 $$\n",
        "$$ m_N = 0 $$ "
      ]
    },
    {
      "cell_type": "markdown",
      "metadata": {
        "id": "RehZCygbMH9c",
        "colab_type": "text"
      },
      "source": [
        "### 8. Bring this matrix to the appropriate form to use the Tridiagonal matrix algorithm [Mathematical derivation. Use Gauss Elimination]"
      ]
    },
    {
      "cell_type": "markdown",
      "metadata": {
        "id": "h7zGLsJvNn4M",
        "colab_type": "text"
      },
      "source": [
        "#### Forward pass\n",
        "\n",
        "$$ \\begin{bmatrix}\n",
        "    1      & -P_0   & 0      & 0      & \\dots     & 0      \\\\\n",
        "    0      & 1      & -P_1   & 0      & \\dots     & 0      \\\\\n",
        "    0      & 0      & 1      & -P_2   & \\dots     & 0      \\\\\n",
        "    \\vdots & \\vdots & \\vdots & \\vdots & \\ddots    & \\vdots \\\\\n",
        "    0      & 0      & 0      & 0      & \\dots     & 1 \n",
        "\\end{bmatrix} M = \\begin{bmatrix}\n",
        "    Q_0 \\\\\n",
        "    Q_1 \\\\\n",
        "    Q_2 \\\\\n",
        "    \\vdots \\\\\n",
        "    Q_{N-2}\n",
        "\\end{bmatrix} $$ \n",
        "\n",
        "where \n",
        "$$ P_0 = \\frac{C_0}{-B_0} $$ \n",
        "$$ Q_0 = - \\frac{C_0}{-B_0} $$ \n",
        "$$ P_i = \\frac{C_i}{-B_i - A_i P_{i-1}} $$ \n",
        "$$ Q_i = \\frac{A_i Q_{i-1} - F_i}{-B_i - A_i P_{i-1}} $$"
      ]
    },
    {
      "cell_type": "markdown",
      "metadata": {
        "id": "gLs3CJA1MH9k",
        "colab_type": "text"
      },
      "source": [
        "### 9. Derive formulas of direct pass and reverse pass of Tridiagonal matrix algorithm [Mathematical formals]"
      ]
    },
    {
      "cell_type": "markdown",
      "metadata": {
        "id": "4Omk6Q0pNpw2",
        "colab_type": "text"
      },
      "source": [
        "#### Forward pass\n",
        "$$ i = 1..N $$\n",
        "$$ A_i = 0 $$\n",
        "$$ B_i = B_i * B_{i-1} - A_i * C_{i-1} $$\n",
        "$$ C_i = C_i * B_{i-1} $$\n",
        "$$ F_i = F_i * B_{i-1} - A_i * F_{i-1} $$\n",
        "\n",
        "#### Backward pass\n",
        "$$ i = (N-1)..0 $$\n",
        "The matrix becomes identity:\n",
        "$$ A_i = 0 $$\n",
        "$$ B_i = 1 $$\n",
        "$$ C_i = 0 $$\n",
        "The solution is calculated as:\n",
        "$$ m_i = F_i * B_{i+1} - (F_{i+1} * C_i) / (B_i * B_{i+1}) $$"
      ]
    },
    {
      "cell_type": "markdown",
      "metadata": {
        "id": "ioseUWxxMH9o",
        "colab_type": "text"
      },
      "source": [
        "### 10. Implement code prototype of the future algorithm implementation. Classes/methods (if you use OOP), functions. The final implementation (on language chosen by you) should not differ from the functions declared in the prototype. [Python code]"
      ]
    },
    {
      "cell_type": "code",
      "metadata": {
        "id": "twEmd7IkMH9r",
        "colab_type": "code",
        "colab": {
          "base_uri": "https://localhost:8080/",
          "height": 323
        },
        "outputId": "e964451f-6655-4bce-e783-d9269ece5671"
      },
      "source": [
        "def gen_points():\n",
        "  x = np.linspace(30, 50, 10)\n",
        "  y = np.log(x) + np.sin(x/2)\n",
        "  return np.array((x,y))\n",
        "\n",
        "\n",
        "def tridiagonal_algorithm(system):\n",
        "  # forward pass\n",
        "  for i in range(1, system.shape[1]):\n",
        "    prev = system[:, i - 1]\n",
        "    curr = system[:, i]\n",
        "    system[:, i] = np.array([\n",
        "      0,                                      # A\n",
        "      curr[1] * prev[1] - curr[0] * prev[2],  # B\n",
        "      curr[2] * prev[1],                      # C\n",
        "      curr[3] * prev[1] - curr[0] * prev[3],  # F\n",
        "    ])\n",
        "  # backwards pass\n",
        "  system[:, -1] = np.array([0, 1, 0, system[3, -1] / system[1, -1]]) # handle last value\n",
        "  for i in range(system.shape[1] - 2, -1, -1):\n",
        "    prev = system[:, i + 1]\n",
        "    curr = system[:, i]\n",
        "    system[:, i] = np.array([\n",
        "      0, # A\n",
        "      1, # B\n",
        "      0, # C\n",
        "      (curr[3] * prev[1] - prev[3] * curr[2]) / (curr[1] * prev[1]), # solution\n",
        "    ])\n",
        "  return system[3]\n",
        "    \n",
        "\n",
        "def solve(x, y):\n",
        "  # find linear system values\n",
        "  a = (x[1:-1] - x[:-2]) / 6 # x_{i+1} - x_i\n",
        "  b = (x[2:] - x[:-2]) / 3   # x_{i+2} - x_i\n",
        "  c = (x[2:] - x[1:-1]) / 6  # x_{i+2} - x_{i+1}\n",
        "  f = (y[2:] - y[1:-1]) / (x[2:] - x[1:-1]) - (y[1:-1] - y[:-2]) / (x[1:-1] - x[:-2])\n",
        "\n",
        "  # tridiagonal and f\n",
        "  system = np.stack([a, b, c, f])\n",
        "\n",
        "  # solve the system\n",
        "  solution = tridiagonal_algorithm(system)\n",
        "  # m_0 and m_last are 0\n",
        "  m = np.concatenate([[0], solution, [0]])\n",
        "  \n",
        "  # polynomial coefficients\n",
        "  a = y[:-1]\n",
        "  b = (y[1:] - y[:-1]) / (x[1:] - x[:-1])     \\\n",
        "    - (x[1:] - x[:-1]) * m[:-1] / 2           \\\n",
        "    - (x[1:] - x[:-1]) * (m[1:] - m[:-1]) / 6\n",
        "  c = m[:-1] / 2\n",
        "  d = (m[1:] - m[:-1]) / (x[1:] - x[:-1]) / 6\n",
        "\n",
        "  return np.stack([a, b, c, d]).T\n",
        "\n",
        "\n",
        "x, y = gen_points()\n",
        "splines = solve(x, y)\n",
        "\n",
        "for i, coefs in enumerate(splines):\n",
        "  x1 = x[i]\n",
        "  x2 = x[i + 1]\n",
        "  xs = np.linspace(x1, x2, 10)\n",
        "  ys = np.polyval(np.flip(coefs), xs - x1)\n",
        "  plt.plot(xs, ys)\n",
        "\n",
        "plt.scatter(x, y)\n",
        "plt.show()"
      ],
      "execution_count": 7,
      "outputs": [
        {
          "output_type": "display_data",
          "data": {
            "image/png": "[encoded data removed]",
            "text/plain": [
              "<Figure size 720x360 with 1 Axes>"
            ]
          },
          "metadata": {
            "tags": []
          }
        }
      ]
    },
    {
      "cell_type": "markdown",
      "metadata": {
        "id": "UbQh04tPMH9v",
        "colab_type": "text"
      },
      "source": [
        "### 11. Derive formula of Cubic Spline method error [Mathematical formulas]"
      ]
    },
    {
      "cell_type": "markdown",
      "metadata": {
        "id": "IWWkWZ5ENskG",
        "colab_type": "text"
      },
      "source": [
        "???"
      ]
    },
    {
      "cell_type": "markdown",
      "metadata": {
        "id": "FO5ZA7kaMH90",
        "colab_type": "text"
      },
      "source": [
        "### 12. Rate the complexity of the algorithm [Text, and rate in terms of big O, no more than 100 characters]"
      ]
    },
    {
      "cell_type": "markdown",
      "metadata": {
        "id": "aOleNG3INub0",
        "colab_type": "text"
      },
      "source": [
        "Both forward and backward passes of tridiagonal matrix algorithm are O(n), as shown in \\#10."
      ]
    },
    {
      "cell_type": "markdown",
      "metadata": {
        "id": "T7P9Cg8CMH96",
        "colab_type": "text"
      },
      "source": [
        "### Congrats!"
      ]
    }
  ]
}