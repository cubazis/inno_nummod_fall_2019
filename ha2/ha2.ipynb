{
 "cells": [
  {
   "cell_type": "code",
   "execution_count": null,
   "metadata": {},
   "outputs": [],
   "source": [
    "import sympy as sp\n",
    "import numpy as np\n",
    "import matplotlib.pyplot as plt"
   ]
  },
  {
   "cell_type": "markdown",
   "metadata": {},
   "source": [
    "### 1. Formulate the statement of the interpolation problem with Cubic Spline [mathematical formula]"
   ]
  },
  {
   "cell_type": "markdown",
   "metadata": {},
   "source": [
    "**Задача интерполяции**: по данному набору значений функции $u(x)$ на сетке ${x_i}$ восстановить функцию $U(x)$, совпадающую с $u(x)$ в узлах $x_i$.\n",
    "\n",
    "**Интерполяция кубическими сплайнами**: на каждом отрезке $[x_{i-1}, x_i]$ искомая функция - многочлен 3-й степени $S_i(x)$. $S_i(x)$ представлен в виде:\n",
    "\n",
    "$S_{3,i}(x) = a_{0,i} + a_{1,i}(x-x_i) + a_{2,i}(x-x_i)^2 + a_{3,i}(x-x_i)^3$\n",
    "\n",
    "Тогда задача интерполяции сводится к нахождению совокупности этих многочленов, при условии, что они достаточно гладкие (дважды дифференцируемые):\n",
    "\n",
    "$S_3(x) = \\bigcup_{i=0}^{n-1}S_{3,i}(x) \\in C_2[a, b]$\n",
    "\n",
    "\n",
    "\n",
    "\n",
    "\n",
    "\n",
    "\n"
   ]
  },
  {
   "cell_type": "markdown",
   "metadata": {},
   "source": [
    "### 2. Formulate the functional and differential compatibility conditions [mathematical formula]"
   ]
  },
  {
   "cell_type": "markdown",
   "metadata": {},
   "source": [
    "Функциональные:\n",
    "\n",
    "(1) $\\delta S_{3,i}(x)|_{x=x_i} = S_{3,i}(x_i) - f(x_i) = 0,$\n",
    "\n",
    "(2) $\\delta S_{3,i}(x)|_{x=x_i+1} = S_{3,i}(x_{i+1}) - f(x_{i+1}) = 0;$\n",
    "\n",
    "Дифференциальные:\n",
    "\n",
    "(3) $\\delta S''_{3,i}(x)|_{x=x_i} = S''_{3,i}(x_i) - f''(x_i) = 0,$\n",
    "\n",
    "(4) $\\delta S''_{3,i}(x)|_{x=x_i+1} = S''_{3,i}(x_{i+1}) - f''(x_{i+1}) = 0.$"
   ]
  },
  {
   "cell_type": "markdown",
   "metadata": {},
   "source": [
    "### 3. Formulate stitching conditions [mathematical formula]"
   ]
  },
  {
   "cell_type": "markdown",
   "metadata": {},
   "source": [
    "$S^{p}_{3, i-1}(x)|_{x=x_i} = S^{p}_{3, i}(x)|_{x=x_i}$\n",
    "\n",
    "$i = \\overline{1, n-1}$\n",
    "\n",
    "$0 \\leq p \\leq 3, p \\in \\mathbb{Z}$"
   ]
  },
  {
   "cell_type": "markdown",
   "metadata": {},
   "source": [
    "### 4. Justify why these conditions provide you with the required smoothness [thesis text, no more than 500 characters]"
   ]
  },
  {
   "cell_type": "markdown",
   "metadata": {},
   "source": [
    "Условия стыковки вместе с дифференциальными условиями согласования обеспечивают непрерывность $S^{p}_3(x), p=0,1,2$, во всех внутренних узлах $x_i$, определяющих точки стыковки звеньев, т.е. $(x_i, S_3(x_i)), (i=\\overline{1,n-1})$. Это гарантирует выполнение условия $S_m(x) \\in C_2[a,b]$."
   ]
  },
  {
   "cell_type": "markdown",
   "metadata": {},
   "source": [
    "### 5. Derive dependency formula: the dependence of the second derivatives at the grid nodes on the increment of the function (the function values difference on the grid nodes). [Mathematical formulas derivation. Detailed, with clear transitions]"
   ]
  },
  {
   "cell_type": "markdown",
   "metadata": {},
   "source": [
    "$S_{3,i}(x) = a_{0,i} + a_{1,i}(x-x_i) + a_{2,i}(x-x_i)^2 + a_{3,i}(x-x_i)^3$\n",
    "\n",
    "$S''_{3,i}(x) = 2a_{2,i} + 6a_{3,i}x - 6a_{3,i}x_i$\n",
    "\n",
    "$h_{i+1} = x_{i+1} - x_i, \\Delta f_i = f_{i+1} - f_i, m_i = f''(x_i), \\Delta m_i = m_{i+1} - m_i$\n",
    "\n",
    "**Из уравнения (1) п. 2:**\n",
    "\n",
    "$a_{0,i} = f_i$\n",
    "\n",
    "**Из уравнения (3) п. 2:**\n",
    "\n",
    "$2a_{2,i} + 6a_{3,i}x_i - 6a_{3,i}x_i = f''(x_i)$\n",
    "\n",
    "$2a_{2,i} = m_i$\n",
    "\n",
    "$a_{2,i} = \\frac{m_i}{2}$\n",
    "\n",
    "**Из уравнения (4) п. 2 c подстановкой $a_{2,i}$:**\n",
    "\n",
    "$m_i + 6a_{3,i}x_{i+1} - 6a_{3,i}x_i = f''(x_{i+1})$\n",
    "\n",
    "$m_i + 6a_{3,i}h_{i+1} = m_{i+1}$\n",
    "\n",
    "$a_{3,i} = \\frac{\\Delta m_i}{6h_{i+1}}$\n",
    "\n",
    "**Из уравнения (2) п. 2 c подстановкой $a_{0,i}, a_{2,i}, a_{3,i}$:**\n",
    "\n",
    "$ f_i + a_{1,i}(x_{i+1}-x_i) + \\frac{m_i}{2}(x_{i+1}-x_i)^2 + \\frac{\\Delta m_i}{6h_{i+1}}(x_{i+1}-x_i)^3 = f_{i+1}$\n",
    "\n",
    "$ f_i + a_{1,i}h_{i+1} + \\frac{m_i}{2}h_{i+1}^2 + \\frac{\\Delta m_i}{6h_{i+1}}h_{i+1}^3 = f_{i+1}$\n",
    "\n",
    "$ a_{1,i}h_{i+1} = -\\frac{m_i}{2}h_{i+1}^2 - \\frac{\\Delta m_i}{6h_{i+1}}h_{i+1}^3 + \\Delta f_i$\n",
    "\n",
    "$ a_{1,i} = \\frac{1}{h_{i+1}}\\Delta f_i -\\frac{h_{i+1}}{2}m_i - \\frac{h_{i+1}}{6}\\Delta m_i$\n",
    "\n",
    "**Таким образом общая формула одного звена сплайна:**\n",
    "\n",
    "$S_{3,i}(x) = f_i + (\\frac{1}{h_{i+1}}\\Delta f_i -\\frac{h_{i+1}}{2}m_i - \\frac{h_{i+1}}{6}\\Delta m_i)(x-x_i) + \\frac{m_i}{2}(x-x_i)^2 + \\frac{\\Delta m_i}{6h_{i+1}}(x-x_i)^3$\n",
    "\n",
    "**Далее:**\n",
    "$S'_{3,i} = S'_{3,i-1}$"
   ]
  },
  {
   "cell_type": "markdown",
   "metadata": {},
   "source": [
    "$ S'_{3,i}(x) = \\frac{\\Delta f_i}{h_{i+1}} - \\frac{h_{i+1}}{2}m_i - \\frac{h_{i+1}}{6}\\Delta m_i + m_i(x - x_i) + \\frac{\\Delta m_i}{2h_{i+1}}(x - x_i)^2, x \\in [x_i, x_{i+1}]$"
   ]
  },
  {
   "cell_type": "markdown",
   "metadata": {},
   "source": [
    "$ S'_{3,i-1}(x) = \\frac{\\Delta f_{i-1}}{h_{i}} - \\frac{h_{i}}{2}m_{i-1} - \\frac{h_{i}}{6}\\Delta m_{i-1} + m_{i-1}(x -x_{i-1}) + \\frac{\\Delta m_{i-1}}{2h_{i}}(x-x_{i-1})^2, x \\in [x_{i-1}, x_{i}]$"
   ]
  },
  {
   "cell_type": "markdown",
   "metadata": {},
   "source": [
    "Т.к. производные пересекаются только в одной точке, можно подставить $x=x_i$:\n",
    "\n",
    "$S'_{3,i}(x_i) = S'_{3,i-1}(x_i)$\n",
    "\n",
    "$\\frac{\\Delta f_i}{h_{i+1}} - \\frac{h_{i+1}}{2}m_i - \\frac{h_{i+1}}{6}\\Delta m_i = \\frac{\\Delta f_{i-1}}{h_{i}} - \\frac{h_{i}}{2}m_{i-1}- \\frac{h_{i}}{6}\\Delta m_{i-1}+ m_{i-1}h_i + \\frac{h_i}{2}\\Delta m_{i-1}$\n",
    "\n",
    "$\\frac{\\Delta f_i}{h_{i+1}} - \\frac{\\Delta f_{i-1}}{h_{i}} =  \\frac{h_{i+1}}{2}m_i + \\frac{h_{i+1}}{6}(m_{i+1}-m_i) - \\frac{h_{i}}{2}m_{i-1}- \\frac{h_{i}}{6}(m_{i}-m_{i-1})$\n",
    "\n",
    "$\\frac{\\Delta f_i}{h_{i+1}} - \\frac{\\Delta f_{i-1}}{h_{i}} =  \\frac{h_{i+1} + h_i}{3}m_i + \\frac{h_{i+1}}{6}m_{i+1} + \\frac{h_{i}}{6}m_{i-1}, i = \\overline{1, n-1}$"
   ]
  },
  {
   "cell_type": "markdown",
   "metadata": {},
   "source": [
    "### 6. Create a system of equations using this formula [Matrix representation. Mathematical formulas]"
   ]
  },
  {
   "cell_type": "markdown",
   "metadata": {},
   "source": [
    "Matrix representation:\n",
    "$$\n",
    "\\begin{bmatrix}\n",
    "    \\frac{h_1+h_2}{3} & \\frac{h_2}{6}     & 0                 & \\dots & 0     & 0 \n",
    "    & \\frac{\\Delta f_1}{h_2} - \\frac{\\Delta f_0}{h_1} \\\\\n",
    "    \\frac{h_2}{6}     & \\frac{h_2+h_3}{3} & \\frac{h_3}{6}     & \\dots & 0     & 0   \n",
    "    & \\frac{\\Delta f_2}{h_3} - \\frac{\\Delta f_1}{h_2}\\\\\n",
    "    0                 & \\frac{h_3}{6}     & \\frac{h_3+h_4}{3} & \\dots & 0     & 0    \n",
    "    & \\frac{\\Delta f_3}{h_4} - \\frac{\\Delta f_2}{h_3} \\\\\n",
    "    \\dots             & \\dots             & \\dots             & \\dots & \\dots & \\dots & \\dots \\\\\n",
    "    0                 & 0                 & 0                 & \\dots & \\frac{h_{n-1}}{6} & \\frac{h_{n-1}+h_n}{3}\n",
    "    & \\frac{\\Delta f_{n-1}}{h_n} - \\frac{\\Delta f_{n-2}}{h_{n-1}}\n",
    "\\end{bmatrix}$$"
   ]
  },
  {
   "cell_type": "markdown",
   "metadata": {},
   "source": [
    "### 7. Explain what is an unknown variable in this system. whether the system is closed with respect to an unknown variable. What is missing for closure. [Text, no more than 200 characters]"
   ]
  },
  {
   "cell_type": "markdown",
   "metadata": {},
   "source": [
    "Данная система относительно $m_i (i = \\overline{0,n})$ является незамкнутой, т.к. не хватает двух уравнений для $m_0$ и $m_n$. Существуют различные способы для аппроксимации производных на концах, простейший: $m_0 = m_n = 0$ - условия натурального сплайна."
   ]
  },
  {
   "cell_type": "markdown",
   "metadata": {},
   "source": [
    "### 8. Bring this matrix to the appropriate form to use the Tridiagonal matrix algorithm [Mathematical derivation. Use Gauss Elimination]"
   ]
  },
  {
   "cell_type": "markdown",
   "metadata": {},
   "source": [
    "We will demonstrate Gauss elimination on the first two rows of the matrix:\n",
    "\n",
    "**Step 1**: divide 1st row by $\\frac{h_1+h_2}{3}$\n",
    "\n",
    "Result (1st row):\n",
    "\n",
    "$\n",
    "\\begin{bmatrix}\n",
    "    1 & \\frac{h_2}{2(h_1+h_2)} & 0 & \\dots & 0 & (\\frac{\\Delta f_1}{h_2} - \\frac{\\Delta f_0}{h_1})\\frac{3}{h_1+h_2}\n",
    "\\end{bmatrix}\n",
    "$\n",
    "\n",
    "**Step 2**: subtract 1st row multiplied by $\\frac{h_2}{6}$ from 2nd row:\n",
    "\n",
    "Result (1st and 2nd rows):\n",
    "\n",
    "$\n",
    "\\begin{bmatrix}\n",
    "    1 & \\frac{h_2}{2(h_1+h_2)} & 0 & \\dots & 0 & (\\frac{\\Delta f_1}{h_2} - \\frac{\\Delta f_0}{h_1})\\frac{3}{h_1+h_2}\\\\\n",
    "    0 & \\frac{-h_2^2 + 4(h_1+h_2)(h_2+h_3)}{12(h_1+h_2)} & \\frac{h_3}{6} & \\dots & 0 & \\frac{2(\\Delta f_2 h_2 - \\Delta f_1 h_3)h_1(h_1+h_2) - (\\Delta f_1 h_1 - \\Delta f_0 h_2)h_2 h_3}{2 h_1 h_2 h_3 (h_1 + h_2)}\n",
    "\\end{bmatrix}\n",
    "$\n",
    "\n",
    "**Step 3**: divide 2nd row by $\\frac{-h_2^2 + 4(h_1+h_2)(h_2+h_3)}{12(h_1+h_2)}$:\n",
    "\n",
    "Result (1st and 2nd rows):\n",
    "\n",
    "$\n",
    "\\begin{bmatrix}\n",
    "    1 & \\frac{h_2}{2(h_1+h_2)} & 0 & \\dots & 0 & (\\frac{\\Delta f_1}{h_2} - \\frac{\\Delta f_0}{h_1})\\frac{3}{h_1+h_2}\\\\\n",
    "    0 & 1 & \\frac{2h_3(h_1+h_2)}{4(h_2+h_3)(h_1+h_2)-h_2} & \\dots & 0 & \\frac{6 h_2^2 h_3 \\Delta f_0 + 12(h_1+h_2) \\Delta f_2 + h_2 h_1 - 12(h_1+h_2)\\Delta f_1 h_1 h_3 - h_1 h_2 h_3 6 \\Delta f_1}{h_1 h_2 h_3 (4(h_2+h_3)(h_1 + h_2) - h_2^2)}\n",
    "\\end{bmatrix}\n",
    "$\n",
    "\n",
    "And after performing these operations on other rows, we get following structure of matrix:\n",
    "\n",
    "$$\n",
    "\\begin{bmatrix}\n",
    "    1     & -P_1  & 0     & 0     & \\dots & Q_1   \\\\\n",
    "    0     & 1     & -P_2  & 0     & \\dots & Q_2   \\\\\n",
    "    0     & 0     & 1     & -P_3  & \\dots & Q_3   \\\\\n",
    "    \\dots & \\dots & \\dots & \\dots & \\dots & \\dots \\\\\n",
    "    0     & 0     & 0     & 1     & \\dots & Q_n   \\\\\n",
    "\\end{bmatrix}$$\n",
    "\n",
    "where $P_i$ and $Q_i$ are computed using formaulas from question 9."
   ]
  },
  {
   "cell_type": "markdown",
   "metadata": {},
   "source": [
    "### 9. Derive formulas of direct pass and reverse pass of Tridiagonal matrix algorithm [Mathematical formals]"
   ]
  },
  {
   "cell_type": "markdown",
   "metadata": {},
   "source": [
    "Forward pass:\n",
    "\n",
    "$P_i = \\frac{\\gamma_i}{\\beta_i - \\alpha P_{i-1}}, P_1 = \\frac{\\gamma_1}{\\beta_1}$\n",
    "\n",
    "$Q_i = \\frac{\\alpha_i Q_{i-1} - \\delta_i}{\\beta_i - \\alpha P_{i-1}}, Q_1 = -\\frac{\\delta_1}{\\beta_1}$\n",
    "\n",
    "$i = \\overline{1, n-1}$"
   ]
  },
  {
   "cell_type": "markdown",
   "metadata": {},
   "source": [
    "Backward pass:\n",
    "\n",
    "$x_n = \\frac{\\alpha_n Q_{n-1} - \\delta_n}{\\beta_n - \\alpha_n P_{n-1}} = Q_n$\n",
    "\n",
    "$x_i = P_ix_{i+1} + Q_i, i = \\overline{1, n-1}$"
   ]
  },
  {
   "cell_type": "markdown",
   "metadata": {},
   "source": [
    "### 10. Implement code prototype of the future algorithm implementation. Classes/methods (if you use OOP), functions. The final implementation (on language chosen by you) should not differ from the functions declared in the prototype. [Python code]"
   ]
  },
  {
   "cell_type": "code",
   "execution_count": null,
   "metadata": {},
   "outputs": [],
   "source": [
    "### YOUR CODE HERE\n"
   ]
  },
  {
   "cell_type": "markdown",
   "metadata": {},
   "source": [
    "### 11. Derive formula of Cubic Spline method error [Mathematical formulas]"
   ]
  },
  {
   "cell_type": "markdown",
   "metadata": {},
   "source": [
    "Пусть функция $f$ имеет на отрезке $[a,b]$ непрерывную производную четвертого порядка и $M_4 = \\max\\limits_{[a,b]}|f^{(4)}(x)|$. Тогда для интерполяционного кубического сплайна $S_3(x)$, удовлетворяющего граничным условиям, справедлива следующая оценка погрешности:\n",
    "\n",
    "$\\max\\limits_{[a,b]}|f(x)-S_3(x)| \\leqslant CM_4h^4_{max}$\n",
    "\n",
    "Где $h_{max} = \\max\\limits_{1 \\leqslant i \\leqslant n} h_i$ - максимальная из длин частичных отрезков.\n",
    "\n",
    "Если на точках $x_i$ известны значения производной $y'_i = f'(x_i)$, тогда на каждом частичном отрезке $[x_{i-1}, x_i]$ сплайн однозначно определяется значениями $y_{i-1}, y_i, y'_{i-1}, y'_i$ (локальный сплайн). В этом случае константа $C = \\frac{1}{384}$."
   ]
  },
  {
   "cell_type": "markdown",
   "metadata": {},
   "source": [
    "### 12. Rate the complexity of the algorithm [Text, and rate in terms of big O, no more than 100 characters]"
   ]
  },
  {
   "cell_type": "markdown",
   "metadata": {},
   "source": [
    "Forward pass - $O(n)$, backward pass - $O(n) \\rightarrow O(2n) = O(n)$"
   ]
  },
  {
   "cell_type": "markdown",
   "metadata": {},
   "source": [
    "### Congrats!"
   ]
  }
 ],
 "metadata": {
  "kernelspec": {
   "display_name": "Python 3",
   "language": "python",
   "name": "python3"
  },
  "language_info": {
   "codemirror_mode": {
    "name": "ipython",
    "version": 3
   },
   "file_extension": ".py",
   "mimetype": "text/x-python",
   "name": "python",
   "nbconvert_exporter": "python",
   "pygments_lexer": "ipython3",
   "version": "3.7.2"
  }
 },
 "nbformat": 4,
 "nbformat_minor": 2
}
