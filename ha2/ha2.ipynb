{
 "cells": [
  {
   "cell_type": "code",
   "execution_count": null,
   "metadata": {},
   "outputs": [],
   "source": [
    "import sympy as sp\n",
    "import numpy as np\n",
    "import matplotlib.pyplot as plt"
   ]
  },
  {
   "cell_type": "markdown",
   "metadata": {},
   "source": [
    "### 1. Formulate the statement of the interpolation problem with Cubic Spline [mathematical formula]"
   ]
  },
  {
   "cell_type": "markdown",
   "metadata": {},
   "source": [
    "Задача интерполяции состоит в восстановлении непрерывной функции используя таблицу (сеточную проекцию некой функции $f(t)$.\n",
    "Сеточная проекция определяется с помощь оператора рестрикции $R$ на отрезке $[a,b]$ таким образом:\n",
    "$$\n",
    "\\begin{aligned}\n",
    " f_n = \\{f(t_n)\\}^N_{n=0}\n",
    "\\end{aligned}\n",
    "$$\n",
    "Каждый из узлов $t_n$ входит в **совокупность узлов**, которая в простейшем случае *равномерна*:\n",
    "$$\n",
    "\\begin{aligned}\n",
    " \\{t_n\\}^N_{n=0}, t_n = a + n\\tau, \\tau = \\frac{b-a}{N}, t \\in [a,b] \n",
    "\\end{aligned}\n",
    "$$\n",
    "\n",
    "**Сплайн** – кусочно-многочленная глобальная интерполяция, обозначаемая $S_m(t)$, где $m$ обозначает степень многочлена. В случае кубического сплайна $m=3$.\n",
    "\n",
    "**Гладкостью** сплайна $l$ называется количество непрерывных производных в узлах сетки.\n",
    "\n",
    "**Дефектом** сплайна называется разность $d=l-m$.\n",
    "\n",
    "Итак, кубическим сплайном дефекта $d$, интерполирующим на отрезке $[a,b]$ заданную функцию $f(t)$, называют функцию $S(t)$ удовлетворяющую следующим условиям:\n",
    "\n",
    "1. $S(t_n) = f(t_n)$ – условие интерполяции в узлах сетки $\\{t_n\\}^N_{n=0}$.\n",
    "\n",
    "2. $S(t) \\in C^l[a,b]$ – непрерывна вместе с $l=d+m$ первыми производными.\n",
    "\n",
    "3. На каждом отрезке $[t_n, t_{n+1}]$ ($n = 0, \\dots, N-1$), $S(t)$ является кубическим многочленом.\n",
    "\n",
    "4. На краях отрезка $[a,b]$ заданы некоторые краевые условия на производные функции и сплайна.\n",
    "\n",
    "Задача имеет единственное решение.\n",
    "\n",
    "К примеру, кубический интерполянт дефекта 1 задается такой многозвенной функцией:\n",
    "\n",
    "$S_3(t) = \\bigcup_{n=0}^{N-1}S_{3,n}(t) \\in C_2[a, b]$"
   ]
  },
  {
   "cell_type": "markdown",
   "metadata": {},
   "source": [
    "### 2. Formulate the functional and differential compatibility conditions [mathematical formula]"
   ]
  },
  {
   "cell_type": "markdown",
   "metadata": {},
   "source": [
    "$\\delta S^{(p)}(t)|_{t = t_{n}} = S^{(p)}(t)|_{t = t_{n}} - f^{(p)}(t_{n}) = 0, n = 0, \\dots, N-1$\n",
    "\n",
    "Условие функционально, когда $p=0$, дифференциально, когда $p=2$."
   ]
  },
  {
   "cell_type": "markdown",
   "metadata": {},
   "source": [
    "### 3. Formulate stitching conditions [mathematical formula]"
   ]
  },
  {
   "cell_type": "markdown",
   "metadata": {},
   "source": [
    "$S^{'}_{3, n-1}(t) \\large|_{t=t_n} = S^{'}_{3, n}(t), \\large|_{t=t_n}, n = 0, \\dots, N-1$\n",
    "\n",
    "\n",
    "\n",
    "\n",
    "\n"
   ]
  },
  {
   "cell_type": "markdown",
   "metadata": {},
   "source": [
    "### 4. Justify why these conditions provide you with the required smoothness [thesis text, no more than 500 characters]"
   ]
  },
  {
   "cell_type": "markdown",
   "metadata": {},
   "source": [
    "Функциональное условие необходимо для соответсвия сплайна исходной функции в узлах сетки.\n",
    "\n",
    "Дифференциальное условие обеспечивает гладкость решения, что обеспечивает удобство работы со сплайном и расширяет спектр возможных его применений. \n",
    "\n",
    "Условия сшивания обеспечиваю непрерывность решения.\n",
    "\n",
    "Все это вместе позволяет гарантировать что функция и некоторое количество ее производных гладкие и непрерывные."
   ]
  },
  {
   "cell_type": "markdown",
   "metadata": {},
   "source": [
    "### 5. Derive dependency formula: the dependence of the second derivatives at the grid nodes on the increment of the function (the function values difference on the grid nodes). [Mathematical formulas derivation. Detailed, with clear transitions]"
   ]
  },
  {
   "cell_type": "markdown",
   "metadata": {},
   "source": [
    "Сплайн:\n",
    "\n",
    "$S_{3, n} = a_{0, n} + a_{1, n}(t - t_{n}) + a_{2, n}(t - t_{n})^{2} + t_{3, n}(t - t_{n})^{3}$\n",
    "\n",
    "Первая производная сплайна:\n",
    "\n",
    "$S^{'}_{3, n}(t) = a_{1, n} + 2a_{2, n}(t - t_n) + 3a_{3, n}(t - t_n)^2$\n",
    "\n",
    "Вторая производная сплайна:\n",
    "\n",
    "$S^{''}_{3, n}(t) = 2a_{2, n} + 6a_{3, n} (t - t_n)$\n",
    "\n",
    "Запишем условия согласования:\n",
    "\n",
    "$\\left\\{\\begin{array} \\\\\n",
    "S_{3, n}(t)|_{t=t_{n}} = f(t_{n})\\\\ \n",
    "S_{3, n}(t)|_{t=t_{n+1}} = f(t_{n+1})\\\\ \n",
    "S^{''}_{3, n}(t)|_{t=t_{n}} = f^{(2)}(t_{n})\\\\ \n",
    "S^{''}_{3, n}(t)|_{t=t_{n+1}} = f^{(2)}(t_{n+1})\\end{array}\\right.$\n",
    "\n",
    "Подставим значения сплайна и производных:\n",
    "\n",
    "$\\left\\{\\begin{array} \\\\\n",
    "a_{0, n} + a_{1, n}(t_{n} - t_{n}) + a_{2, n}(t_{n} - t_{n})^{2} +a_{3, n}(t_{n}- t_{n}) ^ {3} = f(t_{n})\\\\ \n",
    "a_{0, n} + a_{1, n}(t_{n+1} - t_{n}) + a_{2, n}(t_{n+1} - t_{n})^{2} + a_{3, n}(t_{n+  1} - t_{n})^{3} = f(t_{n+1})\\\\ \n",
    "2a_{2,n} + 6a_{3,n}(t_{n} - t_{n}) =f^{(2)}(t_{n})\\\\ \n",
    "2a_{2,n} + 6a_{3,n}(t_{n+1}-t_{n}) = f^{(2)}(t_{n+1})\\end{array}\\right.$\n",
    "\n",
    "Пусть $f(t_{n}) = f_{n}$, $f^{''}(t_{n}) = m_{n}$, $t_{n+1} - t_{n} = \\tau_{n+1}$. Решим систему относительно $a$:\n",
    "\n",
    "$S_{3, n}(t) = f_{n} + (\\frac{f_{n+1} - f_{n}}{\\tau_{n+1}} - \\frac{\\tau_{n+1}}{2}m_{n} - \\frac{\\tau_{n+1}}{6}(m_{n+1} - m_{n}))(t-t_{n}) + \\frac{m_{n}}{2}(t-t_{n})^{2} + \\frac{1}{6\\tau_{n+1}}(m_{n+1} - m_{n})(t-t_{n})^{3}, n = 0, \\dots, N-1$.\n",
    "\n",
    "Введем условия стыковки:\n",
    "$\\left\\{\\begin{array} \\\\\n",
    "S'_{3, 0}(t)|_{t=t_{1}} = S'_{3, 1}(t)|_{t=t_{1}}\\\\ \n",
    "S'_{3, 1}(t)|_{t=t_{2}} = S'_{3, 1}(t)|_{t=t_{2}}\\\\ \n",
    "\\dots \\\\\n",
    "S'_{3, n-2}(t)|_{t=t_{n-1}} = S'_{3, n-1}(t)|_{t=t_{n-1}}\\\\ \n",
    "\\end{array}\\right.$\n",
    "\n",
    "Подставим $S^{'}_{3, n}(t)$ и получим искомое:\n",
    "\n",
    "$\\frac{\\tau_{n}}{6}m_{n-1} + \\frac{\\tau_{n} + \\tau_{n +1}}{3}m_{n} + \\frac{\\tau_{n+1}}{6}m_{n+1} = \\frac{f_{n+1} - f_{n}}{\\tau_{n+1}} - \\frac{f_{n} - f_{n-1}}{\\tau_{n}} n = 0, \\dots, N-1$."
   ]
  },
  {
   "cell_type": "markdown",
   "metadata": {},
   "source": [
    "### 6. Create a system of equations using this formula [Matrix representation. Mathematical formulas]"
   ]
  },
  {
   "cell_type": "markdown",
   "metadata": {},
   "source": [
    "$\\begin{pmatrix}\n",
    "\\frac{\\tau_{1}}{6} & \\frac{\\tau_{1} + \\tau_{2}}{3} & \\frac{\\tau_{2}}{6} &  0 & ... & ...\\\\ \n",
    " 0 & \\frac{\\tau_{2}}{6}& \\frac{\\tau_{2} + h_{3}}{3} & \\frac{\\tau_{3}}{6} & 0 & ...\\\\ \n",
    " ... & ... & ... & ... & ... & ...\\\\ \n",
    " ... & 0 & \\frac{\\tau_{n-2}}{6} & \\frac{\\tau_{n-2} + \\tau_{n-1}}{3} & \\frac{\\tau_{n-1}}{6} & 0\\\\\n",
    "... & ...  & 0 & \\frac{\\tau_{n-  1}}{6} & \\frac{\\tau_{n-1} +  \\tau_{n}}{3} & \\frac{\\tau_{n}}{6}\\\\\n",
    "\\end{pmatrix}$ $\\begin{pmatrix}\n",
    "m_{0}\\\\ \n",
    "m_{1}\\\\ \n",
    "...\\\\ \n",
    "...\\\\ \n",
    "m_{n-1}\\\\ \n",
    "m_{n} \\\\\n",
    "\\end{pmatrix}$ = $\\begin{pmatrix}\n",
    "\\frac{\\Delta f_{1}}{\\tau_{2}} - \\frac{\\Delta f_{0}}{\\tau_{1}}\\\\ \n",
    "\\frac{\\Delta f_{2}}{\\tau_{3}} - \\frac{\\Delta f_{1}}{\\tau_{2}}\\\\ \n",
    "...\\\\ \n",
    "...\\\\ \n",
    "\\frac{\\Delta f_{n-2}}{\\tau_{n-1}} - \\frac{\\Delta f_{n-3}}{\\tau_{n-2}}\\\\ \n",
    "\\frac{\\Delta f_{n-1}}{\\tau_{n}} - \\frac{\\Delta f_{n-2}}{\\tau_{n-1}} \\\\\n",
    "\\end{pmatrix}$\n",
    "\n",
    "где $\\Delta f_{n} =  f_{n} -  f_{n-1}$\n",
    "\n",
    "\n",
    "\n",
    "\n"
   ]
  },
  {
   "cell_type": "markdown",
   "metadata": {},
   "source": [
    "### 7. Explain what is an unknown variable in this system. whether the system is closed with respect to an unknown variable. What is missing for closure. [Text, no more than 200 characters]"
   ]
  },
  {
   "cell_type": "markdown",
   "metadata": {},
   "source": [
    "Неизвестная переменная $m$ – вторая производная функции $f(t)$.\n",
    "\n",
    "Система не замкнута по отношению к $m$, так как отсутсвуют краевые условия, которые необходимо задать неким образом, чтобы количество уравнений в системе было достаточным (необходимо добавить 2 уравнения)."
   ]
  },
  {
   "cell_type": "markdown",
   "metadata": {},
   "source": [
    "### 8. Bring this matrix to the appropriate form to use the Tridiagonal matrix algorithm [Mathematical derivation. Use Gauss Elimination]"
   ]
  },
  {
   "cell_type": "markdown",
   "metadata": {},
   "source": [
    "$\\begin{pmatrix}\n",
    "-b_{1} & c_{1} &  0 & ... & ...\\\\ \n",
    "a_{1} & -b_{2} & c_{2} & 0 & ...\\\\ \n",
    " ... & ... & ... & ... & ... \\\\ \n",
    " ... & 0 & a_{n-1} & -b_{n-1} & c_{n}\\\\\n",
    "... & ...  & 0 & a_{n} & -b_{n}\\\\\n",
    "\\end{pmatrix} \\hat{x} = \\begin{pmatrix}\n",
    "d_{1}\\\\ \n",
    "d_{2}\\\\ \n",
    "...\\\\ \n",
    "d_{n-1}\\\\ \n",
    "d_{n}\\\\\n",
    "\\end{pmatrix}$\n",
    "\n",
    "Пусть $P_{1} = \\frac{c_{1}}{b_{1}}$, $Q_{1} = -\\frac{d_{1}}{b_{1}}$. Делим первую строчку на $-b_{1}$ и подставляем:\n",
    "\n",
    "$\\begin{pmatrix}\n",
    "1 & -P_{1} &  0 & ... & ...\\\\ \n",
    "a_{1} & -b_{2} & c_{2} & 0 & ...\\\\ \n",
    " ... & ... & ... & ... & ... \\\\ \n",
    " ... & 0 & a_{n-1} & -b_{n-1} & c_{n}\\\\\n",
    "... & ...  & 0 & a_{n} & -b_{n}\\\\\n",
    "\\end{pmatrix} \\hat{t} = \\begin{pmatrix}\n",
    "Q_{1}\\\\ \n",
    "d_{2}\\\\ \n",
    "...\\\\ \n",
    "d_{n-1}\\\\ \n",
    "d_{n}\\\\\n",
    "\\end{pmatrix}$\n",
    "\n",
    "Вычитаем первую строку из второй:\n",
    "\n",
    "$\\begin{pmatrix}\n",
    "1 & -P_{1} &  0 & ... & ...\\\\ \n",
    "0 & a_{2}P_{1} -b_{2} & c_{2} & 0 & ...\\\\ \n",
    " ... & ... & ... & ... & ... \\\\ \n",
    " ... & 0 & a_{n-1} & -b_{n-1} & c_{n}\\\\\n",
    "... & ...  & 0 & a_{n} & -b_{n}\\\\\n",
    "\\end{pmatrix} \\hat{t} = \\begin{pmatrix}\n",
    "Q_{1}\\\\ \n",
    "d_{2} - a_{2}Q_{1}\\\\ \n",
    "...\\\\ \n",
    "d_{n-1}\\\\ \n",
    "d_{n}\\\\\n",
    "\\end{pmatrix}$\n",
    "\n",
    "Делим вторую строку на $-b_{2} + a_{2}P_{1}$:\n",
    "\n",
    "$\\begin{pmatrix}\n",
    "1 & -P_{1} &  0 & ... & ...\\\\ \n",
    "0 & 1 & \\frac{c_{2}}{a_{2}P_{1} -b_{2}} & 0 & ...\\\\ \n",
    " ... & ... & ... & ... & ... \\\\ \n",
    " ... & 0 & a_{n-1} & -b_{n-1} & c_{n}\\\\\n",
    "... & ...  & 0 & a_{n} & -b_{n}\\\\\n",
    "\\end{pmatrix} \\hat{x} = \\begin{pmatrix}\n",
    "Q_{1}\\\\ \n",
    "\\frac{d_{2} - a_{2}Q_{1}}{a_{2}P_{1} -b_{2}}\\\\ \n",
    "...\\\\ \n",
    "d_{n-1}\\\\ \n",
    "d_{n}\\\\\n",
    "\\end{pmatrix}$\n",
    "\n",
    "Аналогично $P_{2} = -\\frac{c_{2}}{a_{2}P_{1} -b_{2}}$, $Q_{2} = \\frac{d_{2} - a_{2}Q_{1}}{a_{2}P_{1} -b_{2}}$.\n",
    "\n",
    "$\\begin{pmatrix}\n",
    "1 & -P_{1} &  0 & ... & ...\\\\ \n",
    "0 & 1 & -P_{2} & 0 & ...\\\\ \n",
    " ... & ... & ... & ... & ... \\\\ \n",
    " ... & 0 & a_{n-1} & -b_{n-1} & c_{n}\\\\\n",
    "... & ...  & 0 & a_{n} & -b_{n}\\\\\n",
    "\\end{pmatrix} \\hat{t} = \\begin{pmatrix}\n",
    "Q_{1}\\\\ \n",
    "Q_{2}\\\\ \n",
    "...\\\\ \n",
    "d_{n-1}\\\\ \n",
    "d_{n}\\\\\n",
    "\\end{pmatrix}$\n",
    "\n",
    "После Гауссовской эллиминации:\n",
    "\n",
    "$t_{n-1} = P_{n-1}t_{n} + Q_{n-1}$\n",
    "\n",
    "где:\n",
    "\n",
    "$P_{1} = \\frac{c_{1}}{b_{1}}$\n",
    "\n",
    "$Q_{1} = -\\frac{d_{1}}{b_{1}}$\n",
    "\n",
    "$P_{2} = -\\frac{c_{2}}{a_{2}P_{1} -b_{2}}$\n",
    "\n",
    "$Q_{2} = \\frac{d_{2} - a_{2}Q_{1}}{a_{2}P_{1} -b_{2}}$\n",
    "\n",
    "$P_{n-1} = -\\frac{c_{n-1}}{a_{n-1}P_{n-2} + b_{n-1}}$\n",
    "\n",
    "$Q_{n-1} = \\frac{d_{n-1} - a_{n-1}Q_{n-2}}{a_{n-1}P_{n-2} - b_{n-1}}$. \n"
   ]
  },
  {
   "cell_type": "markdown",
   "metadata": {},
   "source": [
    "### 9. Derive formulas of direct pass and reverse pass of Tridiagonal matrix algorithm [Mathematical formals]"
   ]
  },
  {
   "cell_type": "markdown",
   "metadata": {},
   "source": [
    "Прямой проход определен в восьмом задании.\n",
    "\n",
    "\n",
    "Обратный проход решается подстановкой $t_{n-1}$ в $t_{n-1} = P_{n-1}t_{n} + Q_{n-1}$ из прошлого задания.\n",
    "\n",
    "Получим: \n",
    "\n",
    "$a_{n}(P_{n-1}t_{n} + Q_{n}) + b_{n} t_{n} = d_{n}$.\n",
    "\n",
    "Продолжим решение с  $t_{n}$ и после с  $t_{n+1}$ и получим делаемый результат."
   ]
  },
  {
   "cell_type": "markdown",
   "metadata": {},
   "source": [
    "### 10. Implement code prototype of the future algorithm implementation. Classes/methods (if you use OOP), functions. The final implementation (on language chosen by you) should not differ from the functions declared in the prototype. [Python code]"
   ]
  },
  {
   "cell_type": "code",
   "execution_count": 1,
   "metadata": {},
   "outputs": [],
   "source": [
    "def cubic_spline(X, Y):\n",
    "  \"\"\"\n",
    "  Interpolate a cubic spline with deffect 1.\n",
    "  \n",
    "  :params:\n",
    "  X: grid\n",
    "  Y: values of function in grid nodes\n",
    "  \n",
    "  :return:\n",
    "  S: spline function\n",
    "  \"\"\"\n",
    "  pass\n",
    "\n",
    "def tridiagonal_matrix_solve(A, d):\n",
    "  \"\"\"\n",
    "  Solve tridiagonal matrix (Ax = d).\n",
    "  \n",
    "  :params:\n",
    "  A: matrix\n",
    "  d: vector\n",
    "  \n",
    "  :return:\n",
    "  x: solution vector\n",
    "  \"\"\"\n",
    "  pass"
   ]
  },
  {
   "cell_type": "markdown",
   "metadata": {},
   "source": [
    "### 11. Derive formula of Cubic Spline method error [Mathematical formulas]"
   ]
  },
  {
   "cell_type": "markdown",
   "metadata": {},
   "source": [
    "Выводы данных формул не приведены в учебниках, но есть в очень обширной форме (включая доказательства нескольких лемм и теорем) в найденной научной статье.\n",
    "\n",
    "Все формулы посчитаны с учетом равномерной сетки, однако могут быть применены и для неравномерного случая при выборе длины макимального промежутка между узлами для расчетов.\n",
    "\n",
    "Пусть $M_4 = \\max_{[a,b]}|f^{(4)}(t)|$.\n",
    "\n",
    "Оценка ошибки:\n",
    "\n",
    "$|| f^{(p)}(t) - S_3^{(p)}(t) ||_{C[a,b]} = \\max \\limits_{[a,b]} |  f^{(p)}(t) - S_3^{(p)}(t) | \\leq M_4 h^{4  - p}, p = 0, 1, 2$\n"
   ]
  },
  {
   "cell_type": "markdown",
   "metadata": {},
   "source": [
    "### 12. Rate the complexity of the algorithm [Text, and rate in terms of big O, no more than 100 characters]"
   ]
  },
  {
   "cell_type": "markdown",
   "metadata": {},
   "source": [
    "Алгоритм требует два прохода – прямой и обратный.\n",
    "\n",
    "Каждый из проходов имеет сложность $O(n)$, таким образом **сложность алгоритма $O(n)$**."
   ]
  },
  {
   "cell_type": "markdown",
   "metadata": {},
   "source": [
    "### Congrats!"
   ]
  }
 ],
 "metadata": {
  "kernelspec": {
   "display_name": "Python 3",
   "language": "python",
   "name": "python3"
  },
  "language_info": {
   "codemirror_mode": {
    "name": "ipython",
    "version": 3
   },
   "file_extension": ".py",
   "mimetype": "text/x-python",
   "name": "python",
   "nbconvert_exporter": "python",
   "pygments_lexer": "ipython3",
   "version": "3.7.3"
  }
 },
 "nbformat": 4,
 "nbformat_minor": 2
}
