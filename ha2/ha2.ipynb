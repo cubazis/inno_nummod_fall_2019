{
 "cells": [
  {
   "cell_type": "code",
   "execution_count": 1,
   "metadata": {},
   "outputs": [],
   "source": [
    "import sympy as sp\n",
    "import numpy as np\n",
    "import matplotlib.pyplot as plt"
   ]
  },
  {
   "cell_type": "markdown",
   "metadata": {},
   "source": [
    "### 1. Formulate the statement of the interpolation problem with Cubic Spline [mathematical formula]"
   ]
  },
  {
   "cell_type": "code",
   "execution_count": 83,
   "metadata": {},
   "outputs": [
    {
     "data": {
      "text/latex": [
       "Let the grid $\\Omega _n = \\{x_i , i \\in [0,n]\\}$ be given \n",
       "on the set $\\Omega=[a,b]$ and defined by $n + 1$ point $x_0, x_1,...,x_n$\n",
       "and on the this grid the grid function $y_i = f(x_i)$ $i \\in [0,n]$ is given:\n",
       "$$\\\\$$\n",
       "    \\[y_0 = f(x_0), y_1 = f(x_1), ..., y_n = f(x_n)\\]\n",
       "$$\\\\$$\n",
       "Problem: need to find the function $y = F(x)$ which taking at points $x_0, x_1, ..., x_n$\n",
       "the same values as the function $y_i = f(x_i)$ $i \\in [0,n]$, i.e. $F(x_i)=y_i$ $i \\in [0,n]$\n",
       "$$\\\\$$\n",
       "\n",
       "When Cubic Splines are used for interpolation, \n",
       "function on each segment $[x_{i-1}, x_i]$ should be the cubic polynomial \n",
       "so union form of function now:\n",
       "    $$\\\\$$\n",
       "    $$S_3(x) = \\bigcup_{i=0}^{n-1}S_{3,i}(x) \\in C_2[a, b]$$\n"
      ],
      "text/plain": [
       "<IPython.core.display.Latex object>"
      ]
     },
     "metadata": {},
     "output_type": "display_data"
    }
   ],
   "source": [
    "%%latex\n",
    "Let the grid $\\Omega _n = \\{x_i , i \\in [0,n]\\}$ be given \n",
    "on the set $\\Omega=[a,b]$ and defined by $n + 1$ point $x_0, x_1,...,x_n$\n",
    "and on the this grid the grid function $y_i = f(x_i)$ $i \\in [0,n]$ is given:\n",
    "$$\\\\$$\n",
    "    \\[y_0 = f(x_0), y_1 = f(x_1), ..., y_n = f(x_n)\\]\n",
    "$$\\\\$$\n",
    "Problem: need to find the function $y = F(x)$ which taking at points $x_0, x_1, ..., x_n$\n",
    "the same values as the function $y_i = f(x_i)$ $i \\in [0,n]$, i.e. $F(x_i)=y_i$ $i \\in [0,n]$\n",
    "$$\\\\$$\n",
    "\n",
    "When Cubic Splines are used for interpolation, \n",
    "function on each segment $[x_{i-1}, x_i]$ should be the cubic polynomial \n",
    "so union form of function now:\n",
    "    $$\\\\$$\n",
    "    $$S_3(x) = \\bigcup_{i=0}^{n-1}S_{3,i}(x) \\in C_2[a, b]$$"
   ]
  },
  {
   "cell_type": "markdown",
   "metadata": {},
   "source": [
    "### 2. Formulate the functional and differential compatibility conditions [mathematical formula]"
   ]
  },
  {
   "cell_type": "code",
   "execution_count": 70,
   "metadata": {},
   "outputs": [
    {
     "data": {
      "text/latex": [
       "\n",
       "$\\delta S^{(p)}(x_i) = S^{(p)}(x_i) - f^{(p)}(x_i) = 0$ then $p=0$ is functional, then $p>0$ is differential\n",
       "\n",
       "\n"
      ],
      "text/plain": [
       "<IPython.core.display.Latex object>"
      ]
     },
     "metadata": {},
     "output_type": "display_data"
    }
   ],
   "source": [
    "%%latex\n",
    "\n",
    "$\\delta S^{(p)}(x_i) = S^{(p)}(x_i) - f^{(p)}(x_i) = 0$ then $p=0$ is functional, then $p>0$ is differential\n",
    "\n",
    "\n"
   ]
  },
  {
   "cell_type": "markdown",
   "metadata": {},
   "source": [
    "### 3. Formulate stitching conditions [mathematical formula]"
   ]
  },
  {
   "cell_type": "code",
   "execution_count": 125,
   "metadata": {},
   "outputs": [
    {
     "data": {
      "text/latex": [
       "\n",
       "$p_1 = \\{0,2\\}$\n",
       "$$\\\\$$\n",
       "$p_2 = \\{1\\}$\n",
       "$$\\\\$$\n",
       "$S^{(p_{2})}_{m, i-1}(x)|_{x = x_{i}} = S^{(p_{2})}_{m,i}(x)|_{x = x_{i}}$\n",
       "where $i \\in  [1,n-1]$\n",
       "\n",
       "\n",
       "\n",
       "\n"
      ],
      "text/plain": [
       "<IPython.core.display.Latex object>"
      ]
     },
     "metadata": {},
     "output_type": "display_data"
    }
   ],
   "source": [
    "%%latex\n",
    "\n",
    "$p_1 = \\{0,2\\}$\n",
    "$$\\\\$$\n",
    "$p_2 = \\{1\\}$\n",
    "$$\\\\$$\n",
    "$S^{(p_{2})}_{m, i-1}(x)|_{x = x_{i}} = S^{(p_{2})}_{m,i}(x)|_{x = x_{i}}$\n",
    "where $i \\in  [1,n-1]$\n",
    "\n",
    "\n",
    "\n",
    "\n"
   ]
  },
  {
   "cell_type": "markdown",
   "metadata": {},
   "source": [
    "### 4. Justify why these conditions provide you with the required smoothness [thesis text, no more than 500 characters]"
   ]
  },
  {
   "cell_type": "code",
   "execution_count": 126,
   "metadata": {},
   "outputs": [
    {
     "data": {
      "text/latex": [
       "\n",
       "Stiching condition with differential give us continuity at internal points (smoothness).\n",
       "$$\\\\$$\n",
       "Functional condition give us correctness of approximation  \n",
       "\n",
       "\n",
       "\n",
       "\n",
       "\n",
       "\n"
      ],
      "text/plain": [
       "<IPython.core.display.Latex object>"
      ]
     },
     "metadata": {},
     "output_type": "display_data"
    }
   ],
   "source": [
    "%%latex\n",
    "\n",
    "Stiching condition with differential give us continuity at internal points (smoothness).\n",
    "$$\\\\$$\n",
    "Functional condition give us correctness of approximation  \n",
    "\n",
    "\n",
    "\n",
    "\n",
    "\n",
    "\n"
   ]
  },
  {
   "cell_type": "markdown",
   "metadata": {},
   "source": [
    "### 5. Derive dependency formula: the dependence of the second derivatives at the grid nodes on the increment of the function (the function values difference on the grid nodes). [Mathematical formulas derivation. Detailed, with clear transitions]"
   ]
  },
  {
   "cell_type": "code",
   "execution_count": 140,
   "metadata": {},
   "outputs": [
    {
     "data": {
      "text/latex": [
       "Start point:\n",
       "$$\\\\$$\n",
       "    $S_{3,i}(x)=a_{0,i}+a_{1,i}(x-x_i)+a_{2,i}(x-x_i)^2+a_{3,i}(x-x_i)^3$\n",
       "\n",
       "    \n",
       "$$\\\\$$\n",
       "Using two differential condition with $p_1=\\{0;2\\}$ for the end of segment $[x_i,x_{i+1}]$ we have:\n",
       "    $$\\\\$$\n",
       "$\\left\\{\\begin{matrix}\n",
       "S_{3, i}(x)|_{x=x_{i}} = f(x_{i})\\\\ \n",
       "S_{3, i}(x)|_{x=x_{i+1}} = f(x_{i+1})\\\\ \n",
       "S^{(2)}_{3, i}(x)|_{x=x_{i}} = f^{(2)}(x_{i})\\\\ \n",
       "S^{(2)}_{3, i}(x)|_{x=x_{i+1}} = f^{(2)}(x_{i+1})\\end{matrix}\\right.$\n",
       "\n",
       "        \n",
       "$$\\\\$$ Using first formula and get derivative from it and using $f_i = f(x_i)$, $f_{i+1} = f(x_{i+1})$, $m_i = f^{(2)}(x_i)$, $m_{i+1} = f^{(2)}(x_{i+1})$:          \n",
       "        \n",
       "$$\\\\$$\n",
       "$\\left\\{\\begin{matrix}\n",
       "a_{0, i} + a_{1, i}(x_{i} - x_{i}) + a_{2, i}(x_{i} - x_{i})^{2} + a_{3, i}(x_{i} - x_{i})^{3} = f_i)\\\\ \n",
       "a_{0, i} + a_{1, i}(x_{i+1} - x_{i}) + a_{2, i}(x_{i+1} - x_{i})^{2} + a_{3, i}(x_{i+1} - x_{i})^{3} = f_{i+1}\\\\ \n",
       "2a_{2,i} + 6a_{3,i}(x_{i}-x_{i}) =m_i\\\\ \n",
       "2a_{2,i} + 6a_{3,i}(x_{i+1}-x_{i}) = m_{i+1}\\end{matrix}\\right.$\n",
       "        \n",
       "        \n",
       "$$\\\\$$ which equals with $h_{i+1}=x_{i+1}-x_{i}$:\n",
       "        \n",
       "$$\\\\$$\n",
       "$\\left\\{\\begin{matrix}\n",
       "a_{0, i} = f_{i}\\\\ \n",
       "a_{0, i} + a_{1, i}h_{i+1} + a_{2, i}h_{i+1}^{2} + a_{3, i}h_{i+1}^{3} = f_{i+1}\\\\ \n",
       "2a_{2,i} = m_{i}\\\\ \n",
       "2a_{2,i} + 6a_{3,i}h_{i+1} = m_{i+1}\\end{matrix}\\right.$\n",
       "        \n",
       "        \n",
       "$$\\\\$$ Solving this system of equations for the four unknowns $a_{k,i}$ $(k = 0,1,2,3)$ and substituting them into the original formula we have:\n",
       "$$\\\\$$\n",
       "\n",
       "$S_{3, i} = f_{i} + (\\frac{\\Delta f_{i}}{h_{i+1}} - \\frac{h_{i+1}}{2}m_{i} - \\frac{h_{i+1}}{6}\\Delta m_{i})(x-x_{i}) + \\frac{m_{i}}{2}(x-x_{i})^{2} + \\frac{1}{6h_{i+1}}\\Delta m_{i}(x-x_{i})^{3}$, $i =[1,n-1]$,\n",
       "\n",
       "where $\\Delta f_{i} = f_{i+1} - f_{i}$, $\\Delta m_{i} = m_{i+1} - m_{i}$.\n",
       "        \n",
       "$$\\\\$$ With using stiching condition, fixed i and what we get in previous calculations, we can get this: \n",
       "$$\\\\$$\n",
       "        \n",
       "$ S'_{3, i-1}(x)|_{x=x_{i}} = S'_{3, i}(x)|_{x=x_{i}} \\Rightarrow  \\frac{\\Delta f_{i-1}}{h_{i}} - \\frac{h_{i}m_{i-1}}{2}-\\frac{h_{i}\\Delta m_{i-1}}{6} + m_{i-1}h_{i} + \\frac{\\Delta m_{i-1}}{2h_{i}}h_{i}^{2} = \\frac{\\Delta f_{i}}{h_{i+1}} - \\frac{h_{i+1}m_{i}}{2} - \\frac{h_{i+1}\\Delta m_{i}}{6}$\n",
       "        \n",
       "$$\\\\$$ So finally we have:\n",
       "$$\\\\$$ \n",
       "$\\frac{h_{i}}{6}m_{i-1} + \\frac{h_{i} + h_{i+1}}{3}m_{i} + \\frac{h_{i+1}}{6}m_{i+1} = \\frac{\\Delta f_{i}}{h_{i+1}} - \\frac{\\Delta f_{i-1}}{h_{i}}$, $i \\in \\{1, ..., n-1\\}$.\n"
      ],
      "text/plain": [
       "<IPython.core.display.Latex object>"
      ]
     },
     "metadata": {},
     "output_type": "display_data"
    }
   ],
   "source": [
    "%%latex\n",
    "Start point:\n",
    "$$\\\\$$\n",
    "    $S_{3,i}(x)=a_{0,i}+a_{1,i}(x-x_i)+a_{2,i}(x-x_i)^2+a_{3,i}(x-x_i)^3$\n",
    "\n",
    "    \n",
    "$$\\\\$$\n",
    "Using two differential condition with $p_1=\\{0;2\\}$ for the end of segment $[x_i,x_{i+1}]$ we have:\n",
    "    $$\\\\$$\n",
    "$\\left\\{\\begin{matrix}\n",
    "S_{3, i}(x)|_{x=x_{i}} = f(x_{i})\\\\ \n",
    "S_{3, i}(x)|_{x=x_{i+1}} = f(x_{i+1})\\\\ \n",
    "S^{(2)}_{3, i}(x)|_{x=x_{i}} = f^{(2)}(x_{i})\\\\ \n",
    "S^{(2)}_{3, i}(x)|_{x=x_{i+1}} = f^{(2)}(x_{i+1})\\end{matrix}\\right.$\n",
    "\n",
    "        \n",
    "$$\\\\$$ Using first formula and get derivative from it and using $f_i = f(x_i)$, $f_{i+1} = f(x_{i+1})$, $m_i = f^{(2)}(x_i)$, $m_{i+1} = f^{(2)}(x_{i+1})$:          \n",
    "        \n",
    "$$\\\\$$\n",
    "$\\left\\{\\begin{matrix}\n",
    "a_{0, i} + a_{1, i}(x_{i} - x_{i}) + a_{2, i}(x_{i} - x_{i})^{2} + a_{3, i}(x_{i} - x_{i})^{3} = f_i)\\\\ \n",
    "a_{0, i} + a_{1, i}(x_{i+1} - x_{i}) + a_{2, i}(x_{i+1} - x_{i})^{2} + a_{3, i}(x_{i+1} - x_{i})^{3} = f_{i+1}\\\\ \n",
    "2a_{2,i} + 6a_{3,i}(x_{i}-x_{i}) =m_i\\\\ \n",
    "2a_{2,i} + 6a_{3,i}(x_{i+1}-x_{i}) = m_{i+1}\\end{matrix}\\right.$\n",
    "        \n",
    "        \n",
    "$$\\\\$$ which equals with $h_{i+1}=x_{i+1}-x_{i}$:\n",
    "        \n",
    "$$\\\\$$\n",
    "$\\left\\{\\begin{matrix}\n",
    "a_{0, i} = f_{i}\\\\ \n",
    "a_{0, i} + a_{1, i}h_{i+1} + a_{2, i}h_{i+1}^{2} + a_{3, i}h_{i+1}^{3} = f_{i+1}\\\\ \n",
    "2a_{2,i} = m_{i}\\\\ \n",
    "2a_{2,i} + 6a_{3,i}h_{i+1} = m_{i+1}\\end{matrix}\\right.$\n",
    "        \n",
    "        \n",
    "$$\\\\$$ Solving this system of equations for the four unknowns $a_{k,i}$ $(k = 0,1,2,3)$ and substituting them into the original formula we have:\n",
    "$$\\\\$$\n",
    "\n",
    "$S_{3, i} = f_{i} + (\\frac{\\Delta f_{i}}{h_{i+1}} - \\frac{h_{i+1}}{2}m_{i} - \\frac{h_{i+1}}{6}\\Delta m_{i})(x-x_{i}) + \\frac{m_{i}}{2}(x-x_{i})^{2} + \\frac{1}{6h_{i+1}}\\Delta m_{i}(x-x_{i})^{3}$, $i =[1,n-1]$,\n",
    "\n",
    "where $\\Delta f_{i} = f_{i+1} - f_{i}$, $\\Delta m_{i} = m_{i+1} - m_{i}$.\n",
    "        \n",
    "$$\\\\$$ With using stiching condition, fixed i and what we get in previous calculations, we can get this: \n",
    "$$\\\\$$\n",
    "        \n",
    "$ S'_{3, i-1}(x)|_{x=x_{i}} = S'_{3, i}(x)|_{x=x_{i}} \\Rightarrow  \\frac{\\Delta f_{i-1}}{h_{i}} - \\frac{h_{i}m_{i-1}}{2}-\\frac{h_{i}\\Delta m_{i-1}}{6} + m_{i-1}h_{i} + \\frac{\\Delta m_{i-1}}{2h_{i}}h_{i}^{2} = \\frac{\\Delta f_{i}}{h_{i+1}} - \\frac{h_{i+1}m_{i}}{2} - \\frac{h_{i+1}\\Delta m_{i}}{6}$\n",
    "        \n",
    "$$\\\\$$ So finally we have:\n",
    "$$\\\\$$ \n",
    "$\\frac{h_{i}}{6}m_{i-1} + \\frac{h_{i} + h_{i+1}}{3}m_{i} + \\frac{h_{i+1}}{6}m_{i+1} = \\frac{\\Delta f_{i}}{h_{i+1}} - \\frac{\\Delta f_{i-1}}{h_{i}}$, $i \\in \\{1, ..., n-1\\}$.\n"
   ]
  },
  {
   "cell_type": "markdown",
   "metadata": {},
   "source": [
    "### 6. Create a system of equations using this formula [Matrix representation. Mathematical formulas]"
   ]
  },
  {
   "cell_type": "code",
   "execution_count": 147,
   "metadata": {},
   "outputs": [
    {
     "data": {
      "text/latex": [
       "\n",
       "$\\begin{pmatrix}\n",
       "\\frac{h_{1}}{6} & \\frac{h_{1} + h_{2}}{3} & \\frac{h_{2}}{6} &  0 & 0 & ...\\\\ \n",
       "0 & \\frac{h_{2}}{6}& \\frac{h_{2} + h_{3}}{3} & \\frac{h_{3}}{6} & 0 & ...\\\\ \n",
       "... & ... & ... & ... & ... & ...\\\\ \n",
       "... & 0 & \\frac{h_{n-2}}{6} & \\frac{h_{n-2} + h_{n-1}}{3} & \\frac{h_{n-1}}{6} & 0\\\\\n",
       "... & 0  & 0 & \\frac{h_{n-1}}{6} & \\frac{h_{n-1} + h_{n}}{3} & \\frac{h_{n}}{6}\\\\\n",
       "\\end{pmatrix}$ \n",
       "\n",
       "*\n",
       "\n",
       "$\\begin{pmatrix}\n",
       "m_{0}\\\\ \n",
       "m_{1}\\\\ \n",
       "...\\\\ \n",
       "...\\\\ \n",
       "m_{n-1}\\\\ \n",
       "m_{n} \\\\\n",
       "\\end{pmatrix}$ \n",
       "\n",
       "= \n",
       "\n",
       "\n",
       "$\\begin{pmatrix}\n",
       "\\frac{\\Delta f_{1}}{h_{2}} - \\frac{\\Delta f_{0}}{h_{1}}\\\\ \n",
       "\\frac{\\Delta f_{2}}{h_{3}} - \\frac{\\Delta f_{1}}{h_{2}}\\\\ \n",
       "...\\\\ \n",
       "...\\\\ \n",
       "\\frac{\\Delta f_{n-2}}{h_{n-1}} - \\frac{\\Delta f_{n-3}}{h_{n-2}}\\\\ \n",
       "\\frac{\\Delta f_{n-1}}{h_{n}} - \\frac{\\Delta f_{n-2}}{h_{n-1}} \\\\\n",
       "\\end{pmatrix} \\Rightarrow $ \n",
       "\n",
       "$$\\\\$$\n",
       "\n",
       "\n",
       "\n",
       "\n",
       "\n",
       "\n",
       "\n",
       "\n"
      ],
      "text/plain": [
       "<IPython.core.display.Latex object>"
      ]
     },
     "metadata": {},
     "output_type": "display_data"
    }
   ],
   "source": [
    "%%latex\n",
    "\n",
    "$\\begin{pmatrix}\n",
    "\\frac{h_{1}}{6} & \\frac{h_{1} + h_{2}}{3} & \\frac{h_{2}}{6} &  0 & 0 & ...\\\\ \n",
    "0 & \\frac{h_{2}}{6}& \\frac{h_{2} + h_{3}}{3} & \\frac{h_{3}}{6} & 0 & ...\\\\ \n",
    "... & ... & ... & ... & ... & ...\\\\ \n",
    "... & 0 & \\frac{h_{n-2}}{6} & \\frac{h_{n-2} + h_{n-1}}{3} & \\frac{h_{n-1}}{6} & 0\\\\\n",
    "... & 0  & 0 & \\frac{h_{n-1}}{6} & \\frac{h_{n-1} + h_{n}}{3} & \\frac{h_{n}}{6}\\\\\n",
    "\\end{pmatrix}$ \n",
    "\n",
    "*\n",
    "\n",
    "$\\begin{pmatrix}\n",
    "m_{0}\\\\ \n",
    "m_{1}\\\\ \n",
    "...\\\\ \n",
    "...\\\\ \n",
    "m_{n-1}\\\\ \n",
    "m_{n} \\\\\n",
    "\\end{pmatrix}$ \n",
    "\n",
    "= \n",
    "\n",
    "\n",
    "$\\begin{pmatrix}\n",
    "\\frac{\\Delta f_{1}}{h_{2}} - \\frac{\\Delta f_{0}}{h_{1}}\\\\ \n",
    "\\frac{\\Delta f_{2}}{h_{3}} - \\frac{\\Delta f_{1}}{h_{2}}\\\\ \n",
    "...\\\\ \n",
    "...\\\\ \n",
    "\\frac{\\Delta f_{n-2}}{h_{n-1}} - \\frac{\\Delta f_{n-3}}{h_{n-2}}\\\\ \n",
    "\\frac{\\Delta f_{n-1}}{h_{n}} - \\frac{\\Delta f_{n-2}}{h_{n-1}} \\\\\n",
    "\\end{pmatrix} $\n",
    "\n",
    "\n",
    "\n",
    "\n",
    "\n",
    "\n",
    "\n",
    "\n"
   ]
  },
  {
   "cell_type": "markdown",
   "metadata": {},
   "source": [
    "### 7. Explain what is an unknown variable in this system. whether the system is closed with respect to an unknown variable. What is missing for closure. [Text, no more than 200 characters]"
   ]
  },
  {
   "cell_type": "code",
   "execution_count": 144,
   "metadata": {},
   "outputs": [
    {
     "data": {
      "text/latex": [
       "$$\\\\$$ The unknown variable is second vector:\n",
       "$$\\\\$$\n",
       "$\\begin{pmatrix}\n",
       "m_{0}\\\\ \n",
       "m_{1}\\\\ \n",
       "...\\\\ \n",
       "...\\\\ \n",
       "m_{n-1}\\\\ \n",
       "m_{n} \\\\\n",
       "\\end{pmatrix}\\; where \\:m_i = f^{(2)}(x_i)$ \n",
       "\n",
       "\n",
       "$$\\\\$$ The system is not closed with respect to the this vector, because first matrix not square $(n+1,n+1)$\n",
       "$$\\\\$$ For doing it closed to respect, we should add some conditions for border variables\n",
       "\n",
       " \n",
       "\n",
       "\n",
       "\n",
       "\n"
      ],
      "text/plain": [
       "<IPython.core.display.Latex object>"
      ]
     },
     "metadata": {},
     "output_type": "display_data"
    }
   ],
   "source": [
    "%%latex\n",
    "$$\\\\$$ The unknown variable is second vector:\n",
    "$$\\\\$$\n",
    "$\\begin{pmatrix}\n",
    "m_{0}\\\\ \n",
    "m_{1}\\\\ \n",
    "...\\\\ \n",
    "...\\\\ \n",
    "m_{n-1}\\\\ \n",
    "m_{n} \\\\\n",
    "\\end{pmatrix}\\; where \\:m_i = f^{(2)}(x_i)$ \n",
    "\n",
    "\n",
    "$$\\\\$$ The system is not closed with respect to the this vector, because first matrix not square $(n+1,n+1)$\n",
    "$$\\\\$$ For doing it closed to respect, we should add some conditions for border values\n",
    "\n",
    " \n",
    "\n",
    "\n",
    "\n",
    "\n"
   ]
  },
  {
   "cell_type": "markdown",
   "metadata": {},
   "source": [
    "### 8. Bring this matrix to the appropriate form to use the Tridiagonal matrix algorithm [Mathematical derivation. Use Gauss Elimination]"
   ]
  },
  {
   "cell_type": "code",
   "execution_count": 179,
   "metadata": {},
   "outputs": [
    {
     "data": {
      "text/latex": [
       "$$\\\\$$Using Gauss elimination on our tridigonal matrix we get:\n",
       "$$\\\\$$\n",
       "$\\begin{pmatrix}\n",
       "1 & -P_1 &  0 & 0 & ...\\\\ \n",
       "0 & 1 & -P_2 & 0 & ...\\\\ \n",
       "... & ... & ... & ... & ... \\\\ \n",
       "... & 0 & 0 & 1 & -P_{n-1}\\\\\n",
       "... & 0 & 0 & 0 & 1\\\\\n",
       "\\end{pmatrix} \n",
       "\n",
       "*\n",
       "\n",
       "\\bar{x} \n",
       "\n",
       "= \n",
       "\n",
       "\\begin{pmatrix}\n",
       "Q_1\\\\ \n",
       "Q_2\\\\ \n",
       "...\\\\ \n",
       "Q_{n-1}\\\\ \n",
       "Q_{n}\\\\\n",
       "\\end{pmatrix}$\n",
       "\n",
       "$$\\\\$$\n",
       "\n",
       "Where:  $P_i = \\frac {c_i}{\\beta_i - \\alpha_i P_{i-1}}$ \n",
       "    and \n",
       "        $Q_i = \\frac {\\alpha_i Q_{i-1} - \\delta_i}{\\beta_i - \\alpha_i P_{i-1}}$\n",
       "        \n",
       "If first our matrix coefficients:\n",
       "$$\\\\$$\n",
       "$\\begin{pmatrix}\n",
       "-\\beta_{1} & c_{1} &  0 & ... & ...\\\\ \n",
       "\\alpha_{1} & -\\beta_{2} & c_{2} & 0 & ...\\\\ \n",
       " ... & ... & ... & ... & ... \\\\ \n",
       " ... & 0 & \\alpha_{n-1} & -\\beta_{n-1} & c_{n}\\\\\n",
       "... & ...  & 0 & \\alpha_{n} & -\\beta_{n}\\\\\n",
       "\\end{pmatrix} \\bar{x} = \\begin{pmatrix}\n",
       "\\delta_{1}\\\\ \n",
       "\\delta_{2}\\\\ \n",
       "...\\\\ \n",
       "\\delta_{n-1}\\\\ \n",
       "\\delta_{n}\\\\\n",
       "\\end{pmatrix}$\n",
       "\n",
       "$$\\\\$$\n",
       "I'm tired of writing latex\n"
      ],
      "text/plain": [
       "<IPython.core.display.Latex object>"
      ]
     },
     "metadata": {},
     "output_type": "display_data"
    }
   ],
   "source": [
    "%%latex\n",
    "$$\\\\$$Using Gauss elimination on our tridigonal matrix we get:\n",
    "$$\\\\$$\n",
    "$\\begin{pmatrix}\n",
    "1 & -P_1 &  0 & 0 & ...\\\\ \n",
    "0 & 1 & -P_2 & 0 & ...\\\\ \n",
    "... & ... & ... & ... & ... \\\\ \n",
    "... & 0 & 0 & 1 & -P_{n-1}\\\\\n",
    "... & 0 & 0 & 0 & 1\\\\\n",
    "\\end{pmatrix} \n",
    "\n",
    "*\n",
    "\n",
    "\\bar{x} \n",
    "\n",
    "= \n",
    "\n",
    "\\begin{pmatrix}\n",
    "Q_1\\\\ \n",
    "Q_2\\\\ \n",
    "...\\\\ \n",
    "Q_{n-1}\\\\ \n",
    "Q_{n}\\\\\n",
    "\\end{pmatrix}$\n",
    "\n",
    "$$\\\\$$\n",
    "\n",
    "Where:  $P_i = \\frac {c_i}{\\beta_i - \\alpha_i P_{i-1}}$ \n",
    "    and \n",
    "        $Q_i = \\frac {\\alpha_i Q_{i-1} - \\delta_i}{\\beta_i - \\alpha_i P_{i-1}}$\n",
    "        \n",
    "If first our matrix coefficients:\n",
    "$$\\\\$$\n",
    "$\\begin{pmatrix}\n",
    "-\\beta_{1} & c_{1} &  0 & ... & ...\\\\ \n",
    "\\alpha_{1} & -\\beta_{2} & c_{2} & 0 & ...\\\\ \n",
    " ... & ... & ... & ... & ... \\\\ \n",
    " ... & 0 & \\alpha_{n-1} & -\\beta_{n-1} & c_{n}\\\\\n",
    "... & ...  & 0 & \\alpha_{n} & -\\beta_{n}\\\\\n",
    "\\end{pmatrix} \\bar{x} = \\begin{pmatrix}\n",
    "\\delta_{1}\\\\ \n",
    "\\delta_{2}\\\\ \n",
    "...\\\\ \n",
    "\\delta_{n-1}\\\\ \n",
    "\\delta_{n}\\\\\n",
    "\\end{pmatrix}$\n",
    "\n",
    "$$\\\\$$\n",
    "I'm tired of writing latex"
   ]
  },
  {
   "cell_type": "markdown",
   "metadata": {},
   "source": [
    "### 9. Derive formulas of direct pass and reverse pass of Tridiagonal matrix algorithm [Mathematical formals]"
   ]
  },
  {
   "cell_type": "code",
   "execution_count": null,
   "metadata": {},
   "outputs": [],
   "source": [
    "### YOUR TEXT/CODE HERE\n",
    "\n",
    "\n",
    "\n",
    "\n",
    "\n",
    "\n",
    "\n",
    "\n"
   ]
  },
  {
   "cell_type": "markdown",
   "metadata": {},
   "source": [
    "### 10. Implement code prototype of the future algorithm implementation. Classes/methods (if you use OOP), functions. The final implementation (on language chosen by you) should not differ from the functions declared in the prototype. [Python code]"
   ]
  },
  {
   "cell_type": "code",
   "execution_count": 184,
   "metadata": {},
   "outputs": [],
   "source": [
    "def forward_backward(grid):\n",
    "    pass\n",
    "    return M_vector\n",
    "\n",
    "def compute_coefficients(number_of_spline):\n",
    "    pass\n",
    "    return a0, a1, a2, a3\n",
    "\n",
    "def compute_values(x):\n",
    "    pass\n",
    "    return values\n"
   ]
  },
  {
   "cell_type": "markdown",
   "metadata": {},
   "source": [
    "### 11. Derive formula of Cubic Spline method error [Mathematical formulas]"
   ]
  },
  {
   "cell_type": "code",
   "execution_count": 183,
   "metadata": {},
   "outputs": [
    {
     "data": {
      "text/latex": [
       "$$\\\\$$Uniform grid:\n",
       "$$\\\\$$\n",
       "\n",
       "$||f^{(p)}(x) - S^{(p)} _{3}(x)||_{C[a, b]} = \\max _{[a, b]} |f^{(p)}(x) - S^{(p)} _{3}(x)| \\leq M_{4}h^{4-p}$, $p = 0, 1, 2.$  Where $M_4 = \\max_{[a,b]}|f^{(4)}(x)|$.\n",
       "\n",
       "\n",
       "$$\\\\$$ Nonuniform grid:\n",
       "    \n",
       "$$\\\\$$ \n",
       "\n",
       "$||f^{(p)}(x) - S^{(p)} _{3}(x)||_{C[a, b]} \\leq M_{4}h_{max}^{4-p}$, where $h_{max} = \\max _{1 \\leq i \\leq n}h_{i}$.\n",
       "\n",
       "\n",
       "\n",
       "\n"
      ],
      "text/plain": [
       "<IPython.core.display.Latex object>"
      ]
     },
     "metadata": {},
     "output_type": "display_data"
    }
   ],
   "source": [
    "%%latex\n",
    "$$\\\\$$Uniform grid:\n",
    "$$\\\\$$\n",
    "\n",
    "$||f^{(p)}(x) - S^{(p)} _{3}(x)||_{C[a, b]} = \\max _{[a, b]} |f^{(p)}(x) - S^{(p)} _{3}(x)| \\leq M_{4}h^{4-p}$, $p = 0, 1, 2.$  Where $M_4 = \\max_{[a,b]}|f^{(4)}(x)|$.\n",
    "\n",
    "\n",
    "$$\\\\$$ Nonuniform grid:\n",
    "    \n",
    "$$\\\\$$ \n",
    "\n",
    "$||f^{(p)}(x) - S^{(p)} _{3}(x)||_{C[a, b]} \\leq M_{4}h_{max}^{4-p}$, where $h_{max} = \\max _{1 \\leq i \\leq n}h_{i}$.\n",
    "\n",
    "\n",
    "\n",
    "\n"
   ]
  },
  {
   "cell_type": "markdown",
   "metadata": {},
   "source": [
    "### 12. Rate the complexity of the algorithm [Text, and rate in terms of big O, no more than 100 characters]"
   ]
  },
  {
   "cell_type": "code",
   "execution_count": 177,
   "metadata": {},
   "outputs": [
    {
     "data": {
      "text/latex": [
       "$$\\\\$$\n",
       "Forward pass complexity: $O(N)$\n",
       "$$\\\\$$\n",
       "Backward pass complexity: $O(N)$\n",
       "$$\\\\$$\n",
       "Result complexity: $O(N)=O(N)+O(N)$\n",
       "\n",
       "\n",
       "\n",
       "\n",
       "\n",
       "\n",
       "\n",
       "\n"
      ],
      "text/plain": [
       "<IPython.core.display.Latex object>"
      ]
     },
     "metadata": {},
     "output_type": "display_data"
    }
   ],
   "source": [
    "%%latex\n",
    "$$\\\\$$\n",
    "Forward pass complexity: $O(N)$\n",
    "$$\\\\$$\n",
    "Backward pass complexity: $O(N)$\n",
    "$$\\\\$$\n",
    "Result complexity: $O(N)=O(N)+O(N)$\n",
    "\n",
    "\n",
    "\n",
    "\n",
    "\n",
    "\n",
    "\n",
    "\n"
   ]
  },
  {
   "cell_type": "markdown",
   "metadata": {},
   "source": [
    "### Congrats!"
   ]
  }
 ],
 "metadata": {
  "kernelspec": {
   "display_name": "Python 3",
   "language": "python",
   "name": "python3"
  },
  "language_info": {
   "codemirror_mode": {
    "name": "ipython",
    "version": 3
   },
   "file_extension": ".py",
   "mimetype": "text/x-python",
   "name": "python",
   "nbconvert_exporter": "python",
   "pygments_lexer": "ipython3",
   "version": "3.6.8"
  }
 },
 "nbformat": 4,
 "nbformat_minor": 2
}
