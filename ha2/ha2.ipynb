{
  "nbformat": 4,
  "nbformat_minor": 0,
  "metadata": {
    "kernelspec": {
      "display_name": "Python 3",
      "language": "python",
      "name": "python3"
    },
    "language_info": {
      "codemirror_mode": {
        "name": "ipython",
        "version": 3
      },
      "file_extension": ".py",
      "mimetype": "text/x-python",
      "name": "python",
      "nbconvert_exporter": "python",
      "pygments_lexer": "ipython3",
      "version": "3.6.8"
    },
    "colab": {
      "name": "ha2.ipynb",
      "version": "0.3.2",
      "provenance": []
    }
  },
  "cells": [
    {
      "cell_type": "code",
      "metadata": {
        "id": "U3z61RzyWemX",
        "colab_type": "code",
        "colab": {}
      },
      "source": [
        "import sympy as sp\n",
        "import numpy as np\n",
        "import matplotlib.pyplot as plt"
      ],
      "execution_count": 0,
      "outputs": []
    },
    {
      "cell_type": "markdown",
      "metadata": {
        "id": "Wtpqd_-SWemo",
        "colab_type": "text"
      },
      "source": [
        "### 1. Formulate the statement of the interpolation problem with Cubic Spline [mathematical formula]"
      ]
    },
    {
      "cell_type": "markdown",
      "metadata": {
        "id": "vye__KQRWhVl",
        "colab_type": "text"
      },
      "source": [
        "Interpolation problem involves reconstruction of a function $U(x)$ which has the same values as $u(x)$ on a grid $\\Omega _{n} = \\{(x_{i}, y_{i}), i \\in \\{0, 1, ..., n\\}\\}$.\n",
        "\n",
        "When Cubic Splines are used for interpolation, the sought function on each segment $[x_{i-1}, x_i]$ is modeled as a a polynomial of degree 3. In this case interpolation problem is reduced to finding polynomials $S_{3, i}$ with $i$ ranging from $0$ to $n-1$, that in union form a function that has 2 continuous derivatives:\n",
        "$S_3(x) = \\bigcup_{i=0}^{n-1}S_{3,i}(x) \\in C_2[a, b]$"
      ]
    },
    {
      "cell_type": "markdown",
      "metadata": {
        "id": "-yPi8f2QWem4",
        "colab_type": "text"
      },
      "source": [
        "### 2. Formulate the functional and differential compatibility conditions [mathematical formula]"
      ]
    },
    {
      "cell_type": "markdown",
      "metadata": {
        "id": "J77QPJQlXt9j",
        "colab_type": "text"
      },
      "source": [
        "$\\delta S^{(p_{1})}(x)|_{x = x_{i}} = S^{(p_{1})}(x)|_{x = x_{i}} - f^{(p_{1})}(x_{i}) = 0$ with $i$ ranging from $0$ to $n$. When $p$ equals $0$, this condition is called functional, else differential."
      ]
    },
    {
      "cell_type": "markdown",
      "metadata": {
        "id": "3NjoZk8LWenF",
        "colab_type": "text"
      },
      "source": [
        "### 3. Formulate stitching conditions [mathematical formula]"
      ]
    },
    {
      "cell_type": "markdown",
      "metadata": {
        "id": "JcX0wRThaR_z",
        "colab_type": "text"
      },
      "source": [
        "$S^{(p_{2})}_{3, i-1}(x)|_{x = x_{i}} = S^{(p_{2})}_{3,i}(x)|_{x = x_{i}}$ with $i$ ranging from $1$ to $n$.\n",
        "\n",
        "It is worth noting that values of $p_{1}$ in the previous section and values of $p_{2}$ in this one are never equal, but together they aggregate a set $\\{0, 1, 2\\}$. The choice here will be $p_{1} = \\{0, 2\\}$ and $p_{2} = \\{1\\}$."
      ]
    },
    {
      "cell_type": "markdown",
      "metadata": {
        "id": "Z5AmwNVLWenN",
        "colab_type": "text"
      },
      "source": [
        "### 4. Justify why these conditions provide you with the required smoothness [thesis text, no more than 500 characters]"
      ]
    },
    {
      "cell_type": "markdown",
      "metadata": {
        "id": "J2HflkiyktG3",
        "colab_type": "text"
      },
      "source": [
        "Условия стыковки вместе с дифференциальными условиями согласования обеспечивают непрерывность $S^{p}_3(x), p=0,1,2$ во всех внутренних узлах $x_i$, определяющих точки стыковки звеньев, т.е. $(x_i, S_3(x_i)), (i=\\overline{1,n-1})$. Это гарантирует выполнение условия $S_m(x) \\in C_2[a,b]$. \n",
        "\n",
        "(Украл у @palette-knife25, так как мне не хватает знаний мат. анализа для того, чтобы доказать этот очевидный факт)."
      ]
    },
    {
      "cell_type": "markdown",
      "metadata": {
        "id": "TpB7PieLWena",
        "colab_type": "text"
      },
      "source": [
        "### 5. Derive dependency formula: the dependence of the second derivatives at the grid nodes on the increment of the function (the function values difference on the grid nodes). [Mathematical formulas derivation. Detailed, with clear transitions]"
      ]
    },
    {
      "cell_type": "markdown",
      "metadata": {
        "id": "NxcrICFja6C8",
        "colab_type": "text"
      },
      "source": [
        "First define each polynomial to be of the form $S_{3, i} = a_{0, i} + a_{1, i}(x - x_{i}) + a_{2, i}(x - x_{i})^{2} + a_{3, i}(x - x_{i})^{3}$ defined on a segment $[x_{i}, x_{i+1}]$.\n",
        "\n",
        "Take some value of $i$ (ranging from $0$ to $n-1$) and its corresponding segment $[x_{i}, x_{i+1}]$. Consider functional/differential conditions applied to the ends of this segment:\n",
        "\n",
        "$\\left\\{\\begin{matrix}\n",
        "S_{3, i}(x)|_{x=x_{i}} = f(x_{i})\\\\ \n",
        "S_{3, i}(x)|_{x=x_{i+1}} = f(x_{i+1})\\\\ \n",
        "S^{(2)}_{3, i}(x)|_{x=x_{i}} = f^{(2)}(x_{i})\\\\ \n",
        "S^{(2)}_{3, i}(x)|_{x=x_{i+1}} = f^{(2)}(x_{i+1})\\end{matrix}\\right.$\n",
        "\n",
        "$\\left\\{\\begin{matrix}\n",
        "a_{0, i} + a_{1, i}(x_{i} - x_{i}) + a_{2, i}(x_{i} - x_{i})^{2} + a_{3, i}(x_{i} - x_{i})^{3} = f(x_{i})\\\\ \n",
        "a_{0, i} + a_{1, i}(x_{i+1} - x_{i}) + a_{2, i}(x_{i+1} - x_{i})^{2} + a_{3, i}(x_{i+1} - x_{i})^{3} = f(x_{i+1})\\\\ \n",
        "2a_{2,i} + 6a_{3,i}(x_{i}-x_{i}) =f^{(2)}(x_{i})\\\\ \n",
        "2a_{2,i} + 6a_{3,i}(x_{i+1}-x_{i}) = f^{(2)}(x_{i+1})\\end{matrix}\\right.$\n",
        "\n",
        "Setting $f(x_{i})$ to be $f_{i}$, $f^{(2)}(x_{i})$ to be $m_{i}$ and $x_{i+1} - x_{i}$ to be $h_{i+1}$ we arrive to the following system of equations:\n",
        "\n",
        "$\\left\\{\\begin{matrix}\n",
        "a_{0, i} = f_{i}\\\\ \n",
        "a_{0, i} + a_{1, i}h_{i+1} + a_{2, i}h_{i+1}^{2} + a_{3, i}h_{i+1}^{3} = f_{i+1}\\\\ \n",
        "2a_{2,i} = m_{i}\\\\ \n",
        "2a_{2,i} + 6a_{3,i}h_{i+1} = m_{i+1}\\end{matrix}\\right.$\n",
        "\n",
        "Now, assuming $m$'s are known, since we have 4 unknowns ($a$'s) and 4 equations, we can solve (details ommitted: задачу реши да) the above system of equations and write $a$'s in terms of $m$'s. Substituting obtained values into formula for $S_{3, i}$ we get the following:\n",
        "\n",
        "$S_{3, i} = f_{i} + (\\frac{\\Delta f_{i}}{h_{i+1}} - \\frac{h_{i+1}}{2}m_{i} - \\frac{h_{i+1}}{6}\\Delta m_{i})(x-x_{i}) + \\frac{m_{i}}{2}(x-x_{i})^{2} + \\frac{1}{6h_{i+1}}\\Delta m_{i}(x-x_{i})^{3}$, $i \\in \\{0, 1, ..., n-1\\}$,\n",
        "\n",
        "where $\\Delta f_{i} = f_{i+1} - f_{i}$, $\\Delta m_{i} = m_{i+1} - m_{i}$.\n",
        "\n",
        "This way we've jumped from $4(n-1)$ unknowns to just $n+1$ unknowns. Now we need $n+1$ equations in order to receive the solution and hence get the coefficients for each polynomial. \n",
        "\n",
        "We have $n$ polynomials and $n-1$ points between consecutive polynomials and hence we can obtain $n-1$ equations by utilizing stitching conditions:\n",
        "\n",
        "$\\left\\{\\begin{matrix}\n",
        "S'_{3, 0}(x)|_{x=x_{1}} = S'_{3, 1}(x)|_{x=x_{1}}\\\\ \n",
        "S'_{3, 1}(x)|_{x=x_{2}} = S'_{3, 1}(x)|_{x=x_{2}}\\\\ \n",
        ". . . \\\\\n",
        "S'_{3, n-2}(x)|_{x=x_{n-1}} = S'_{3, n-1}(x)|_{x=x_{n-1}}\\\\ \n",
        "\\end{matrix}\\right.$\n",
        "\n",
        "Fix $i$ and expand $i$'th equation, substituting $h_{i+1}$ instead of $(x_{i+1}-x_{i})$'s:\n",
        "\n",
        "$S'_{3, i-1}(x)|_{x=x_{i}} = S'_{3, i}(x)|_{x=x_{i}}$\n",
        "\n",
        "$\\frac{\\Delta f_{i-1}}{h_{i}} - \\frac{h_{i}m_{i-1}}{2}-\\frac{h_{i}\\Delta m_{i-1}}{6} + m_{i-1}h_{i} + \\frac{\\Delta m_{i-1}}{2h_{i}}h_{i}^{2} = \\frac{\\Delta f_{i}}{h_{i+1}} - \\frac{h_{i+1}m_{i}}{2} - \\frac{h_{i+1}\\Delta m_{i}}{6}$\n",
        "\n",
        "From this (combining coefficients before $m_{i}$'s under parentheses) we get the formula from Kireev's book:\n",
        "\n",
        "$\\frac{h_{i}}{6}m_{i-1} + \\frac{h_{i} + h_{i+1}}{3}m_{i} + \\frac{h_{i+1}}{6}m_{i+1} = \\frac{\\Delta f_{i}}{h_{i+1}} - \\frac{\\Delta f_{i-1}}{h_{i}}$, $i \\in \\{1, ..., n-1\\}$."
      ]
    },
    {
      "cell_type": "markdown",
      "metadata": {
        "id": "k2L5hD5ZWenf",
        "colab_type": "text"
      },
      "source": [
        "### 6. Create a system of equations using this formula [Matrix representation. Mathematical formulas]"
      ]
    },
    {
      "cell_type": "markdown",
      "metadata": {
        "id": "fyY6aa38UuN_",
        "colab_type": "text"
      },
      "source": [
        "$\\left\\{\\begin{matrix}\n",
        "\\frac{h_{1}}{6}m_{0} + \\frac{h_{1} + h_{2}}{3}m_{1} + \\frac{h_{2}}{6}m_{2} = \\frac{\\Delta f_{1}}{h_{2}} - \\frac{\\Delta f_{0}}{h_{1}}\\\\ \n",
        "\\frac{h_{2}}{6}m_{1} + \\frac{h_{2} + h_{3}}{3}m_{2} + \\frac{h_{3}}{6}m_{3} = \\frac{\\Delta f_{2}}{h_{3}} - \\frac{\\Delta f_{1}}{h_{2}}\\\\ \n",
        ". . .\\\\ \n",
        "\\frac{h_{n-1}}{6}m_{n-2} + \\frac{h_{n-1} + h_{n}}{3}m_{n-1} + \\frac{h_{n}}{6}m_{n} = \\frac{\\Delta f_{n-1}}{h_{n}} - \\frac{\\Delta f_{n-2}}{h_{n-1}}\\\\ \n",
        "\\end{matrix}\\right.$\n",
        "\n",
        "$\\begin{pmatrix}\n",
        "\\frac{h_{1}}{6} & \\frac{h_{1} + h_{2}}{3} & \\frac{h_{2}}{6} &  0 & ... & ...\\\\ \n",
        " 0 & \\frac{h_{2}}{6}& \\frac{h_{2} + h_{3}}{3} & \\frac{h_{3}}{6} & 0 & ...\\\\ \n",
        " ... & ... & ... & ... & ... & ...\\\\ \n",
        " ... & 0 & \\frac{h_{n-2}}{6} & \\frac{h_{n-2} + h_{n-1}}{3} & \\frac{h_{n-1}}{6} & 0\\\\\n",
        "... & ...  & 0 & \\frac{h_{n-1}}{6} & \\frac{h_{n-1} + h_{n}}{3} & \\frac{h_{n}}{6}\\\\\n",
        "\\end{pmatrix}$ $\\begin{pmatrix}\n",
        "m_{0}\\\\ \n",
        "m_{1}\\\\ \n",
        "...\\\\ \n",
        "...\\\\ \n",
        "m_{n-1}\\\\ \n",
        "m_{n} \\\\\n",
        "\\end{pmatrix}$ = $\\begin{pmatrix}\n",
        "\\frac{\\Delta f_{1}}{h_{2}} - \\frac{\\Delta f_{0}}{h_{1}}\\\\ \n",
        "\\frac{\\Delta f_{2}}{h_{3}} - \\frac{\\Delta f_{1}}{h_{2}}\\\\ \n",
        "...\\\\ \n",
        "...\\\\ \n",
        "\\frac{\\Delta f_{n-2}}{h_{n-1}} - \\frac{\\Delta f_{n-3}}{h_{n-2}}\\\\ \n",
        "\\frac{\\Delta f_{n-1}}{h_{n}} - \\frac{\\Delta f_{n-2}}{h_{n-1}} \\\\\n",
        "\\end{pmatrix}$"
      ]
    },
    {
      "cell_type": "markdown",
      "metadata": {
        "id": "rMdsxkwBWenn",
        "colab_type": "text"
      },
      "source": [
        "### 7. Explain what is an unknown variable in this system. whether the system is closed with respect to an unknown variable. What is missing for closure. [Text, no more than 200 characters]"
      ]
    },
    {
      "cell_type": "markdown",
      "metadata": {
        "id": "5eEMXHh9V4ti",
        "colab_type": "text"
      },
      "source": [
        "Unknown variables in this system are $m$'s. The system is not closed due to lack of equations (there are $n+1$ unknowns with just $n-1$ equations). In order to obtain closure, one has to add 2 equations. In our case we add $m_{0} = m_{n} = 0$."
      ]
    },
    {
      "cell_type": "markdown",
      "metadata": {
        "id": "kZb_su_aWenr",
        "colab_type": "text"
      },
      "source": [
        "### 8. Bring this matrix to the appropriate form to use the Tridiagonal matrix algorithm [Mathematical derivation. Use Gauss Elimination]"
      ]
    },
    {
      "cell_type": "markdown",
      "metadata": {
        "id": "dSE9KPH2kvXE",
        "colab_type": "text"
      },
      "source": [
        "$\\begin{pmatrix}\n",
        "-b_{1} & c_{1} &  0 & ... & ...\\\\ \n",
        "a_{1} & -b_{2} & c_{2} & 0 & ...\\\\ \n",
        " ... & ... & ... & ... & ... \\\\ \n",
        " ... & 0 & a_{n-1} & -b_{n-1} & c_{n}\\\\\n",
        "... & ...  & 0 & a_{n} & -b_{n}\\\\\n",
        "\\end{pmatrix} \\bar{x} = \\begin{pmatrix}\n",
        "d_{1}\\\\ \n",
        "d_{2}\\\\ \n",
        "...\\\\ \n",
        "d_{n-1}\\\\ \n",
        "d_{n}\\\\\n",
        "\\end{pmatrix}$\n",
        "\n",
        "Divide first row by $-b_{1}$:\n",
        "\n",
        "$\\begin{pmatrix}\n",
        "1 & -\\frac{c_{1}}{b_{1}} &  0 & ... & ...\\\\ \n",
        "a_{1} & -b_{2} & c_{2} & 0 & ...\\\\ \n",
        " ... & ... & ... & ... & ... \\\\ \n",
        " ... & 0 & a_{n-1} & -b_{n-1} & c_{n}\\\\\n",
        "... & ...  & 0 & a_{n} & -b_{n}\\\\\n",
        "\\end{pmatrix} \\bar{x} = \\begin{pmatrix}\n",
        "-\\frac{d_{1}}{b_{1}}\\\\ \n",
        "d_{2}\\\\ \n",
        "...\\\\ \n",
        "d_{n-1}\\\\ \n",
        "d_{n}\\\\\n",
        "\\end{pmatrix}$\n",
        "\n",
        "Set $P_{1} = \\frac{c_{1}}{b_{1}}$, $Q_{1} = -\\frac{d_{1}}{b_{1}}$. Then $x_{1} = P_{1}x_{2} + Q_{1}$.\n",
        "\n",
        "$\\begin{pmatrix}\n",
        "1 & -P_{1} &  0 & ... & ...\\\\ \n",
        "a_{1} & -b_{2} & c_{2} & 0 & ...\\\\ \n",
        " ... & ... & ... & ... & ... \\\\ \n",
        " ... & 0 & a_{n-1} & -b_{n-1} & c_{n}\\\\\n",
        "... & ...  & 0 & a_{n} & -b_{n}\\\\\n",
        "\\end{pmatrix} \\bar{x} = \\begin{pmatrix}\n",
        "Q_{1}\\\\ \n",
        "d_{2}\\\\ \n",
        "...\\\\ \n",
        "d_{n-1}\\\\ \n",
        "d_{n}\\\\\n",
        "\\end{pmatrix}$\n",
        "\n",
        "Multiply first row by $a_{1}$ and subtract it from second row:\n",
        "\n",
        "$\\begin{pmatrix}\n",
        "1 & -P_{1} &  0 & ... & ...\\\\ \n",
        "0 & a_{2}P_{1} -b_{2} & c_{2} & 0 & ...\\\\ \n",
        " ... & ... & ... & ... & ... \\\\ \n",
        " ... & 0 & a_{n-1} & -b_{n-1} & c_{n}\\\\\n",
        "... & ...  & 0 & a_{n} & -b_{n}\\\\\n",
        "\\end{pmatrix} \\bar{x} = \\begin{pmatrix}\n",
        "Q_{1}\\\\ \n",
        "d_{2} - a_{2}Q_{1}\\\\ \n",
        "...\\\\ \n",
        "d_{n-1}\\\\ \n",
        "d_{n}\\\\\n",
        "\\end{pmatrix}$\n",
        "\n",
        "Divide second row by $-b_{2} + a_{2}P_{1}$:\n",
        "\n",
        "$\\begin{pmatrix}\n",
        "1 & -P_{1} &  0 & ... & ...\\\\ \n",
        "0 & 1 & \\frac{c_{2}}{a_{2}P_{1} -b_{2}} & 0 & ...\\\\ \n",
        " ... & ... & ... & ... & ... \\\\ \n",
        " ... & 0 & a_{n-1} & -b_{n-1} & c_{n}\\\\\n",
        "... & ...  & 0 & a_{n} & -b_{n}\\\\\n",
        "\\end{pmatrix} \\bar{x} = \\begin{pmatrix}\n",
        "Q_{1}\\\\ \n",
        "\\frac{d_{2} - a_{2}Q_{1}}{a_{2}P_{1} -b_{2}}\\\\ \n",
        "...\\\\ \n",
        "d_{n-1}\\\\ \n",
        "d_{n}\\\\\n",
        "\\end{pmatrix}$\n",
        "\n",
        "Set $P_{2} = -\\frac{c_{2}}{a_{2}P_{1} -b_{2}}$, $Q_{2} = \\frac{d_{2} - a_{2}Q_{1}}{a_{2}P_{1} -b_{2}}$. Then $x_{2} = P_{2}x_{3} + Q_{2}$.\n",
        "\n",
        "$\\begin{pmatrix}\n",
        "1 & -P_{1} &  0 & ... & ...\\\\ \n",
        "0 & 1 & -P_{2} & 0 & ...\\\\ \n",
        " ... & ... & ... & ... & ... \\\\ \n",
        " ... & 0 & a_{n-1} & -b_{n-1} & c_{n}\\\\\n",
        "... & ...  & 0 & a_{n} & -b_{n}\\\\\n",
        "\\end{pmatrix} \\bar{x} = \\begin{pmatrix}\n",
        "Q_{1}\\\\ \n",
        "Q_{2}\\\\ \n",
        "...\\\\ \n",
        "d_{n-1}\\\\ \n",
        "d_{n}\\\\\n",
        "\\end{pmatrix}$\n",
        "\n",
        "Steps of Gauss elimination after this one are obvious and recursive derivation of $P$'s and $Q$'s is clear, too.\n",
        "\n",
        "To be precise, $x_{i-1} = P_{i-1}x_{i} + Q_{i-1}$, where $P_{i-1} = -\\frac{c_{i-1}}{a_{i-1}P_{i-2} + b_{i-1}}$, $Q_{i-1} = \\frac{d_{i-1} - a_{i-1}Q_{i-2}}{a_{i-1}P_{i-2} - b_{i-1}}$. $P_{1}$ and $Q_{1}$ were defined above.\n",
        "\n",
        "(My derivation of formulas is in line with: https://old.math.tsu.ru/EEResources/cm/text/4_7_1.htm)"
      ]
    },
    {
      "cell_type": "markdown",
      "metadata": {
        "id": "4bydMJQbWen0",
        "colab_type": "text"
      },
      "source": [
        "### 9. Derive formulas of direct pass and reverse pass of Tridiagonal matrix algorithm [Mathematical formals]"
      ]
    },
    {
      "cell_type": "markdown",
      "metadata": {
        "id": "csEfErLNsE3C",
        "colab_type": "text"
      },
      "source": [
        "I've derived formulas of direct pass in the question above. Formulas for reverse pass are obvious: we take formula for $x_{n-1}$, substitute it into the last equation, obtaining:\n",
        "\n",
        "$a_{n}(P_{n-1}x_{n} + Q_{n}) + b_{n}x_{n} = d_{n}$.\n",
        "\n",
        "Solve it for $x_{n}$ and obtain values for all previous $x_{i}$'s by substituting value of $x_{i+1}$ into formula for $x_{i}$."
      ]
    },
    {
      "cell_type": "markdown",
      "metadata": {
        "id": "CHjwJAiuWen9",
        "colab_type": "text"
      },
      "source": [
        "### 10. Implement code prototype of the future algorithm implementation. Classes/methods (if you use OOP), functions. The final implementation (on language chosen by you) should not differ from the functions declared in the prototype. [Python code]"
      ]
    },
    {
      "cell_type": "code",
      "metadata": {
        "id": "fsGHsBcvveLi",
        "colab_type": "code",
        "colab": {}
      },
      "source": [
        "import numpy as np\n",
        "\n",
        "\n",
        "def metod_progonki(A, d):\n",
        "  '''\n",
        "  Arguments:\n",
        "    A: np.ndarray of dimensionality 2. Has to have a tridiagonal form.\n",
        "    d: np.ndarray of dimensionality 1. Corresponding vector. I.e. b term in Ax = b.\n",
        "  Returns:\n",
        "    xs: np.ndarray. Array of solutions.\n",
        "  '''\n",
        "  n = A.shape[0]\n",
        "  xs = np.zeros(n)\n",
        "  \n",
        "  Ps = []\n",
        "  Qs = []\n",
        "  \n",
        "  Ps.append(A[0][1] / -A[0][0])\n",
        "  Qs.append(d[0] / A[0][0])\n",
        "  \n",
        "  for i in range(1, n):\n",
        "    Ps.append(A[i][i+1] / (-A[i][i - 1] * Ps[-1] - A[i][i]))\n",
        "    Qs.append((-d[i] + A[i][i - 1] * Qs[-1]) / (-A[i][i - 1] * Ps[-2] - A[i][i]))\n",
        "    \n",
        "  xs[n - 1] = (d[n - 1] - A[n - 1][n - 2] * Qs[-1]) / (A[n - 1][n - 2] + A[n - 1][n - 1])\n",
        "  \n",
        "  for i in range(n - 2, 0, -1):\n",
        "    xs[i] = Ps[i] * xs[i + 1] + Qs[i]\n",
        "    \n",
        "  return xs"
      ],
      "execution_count": 0,
      "outputs": []
    },
    {
      "cell_type": "markdown",
      "metadata": {
        "id": "bPTFwGGQWeoD",
        "colab_type": "text"
      },
      "source": [
        "### 11. Derive formula of Cubic Spline method error [Mathematical formulas]"
      ]
    },
    {
      "cell_type": "markdown",
      "metadata": {
        "id": "P0G0kPP72Y2B",
        "colab_type": "text"
      },
      "source": [
        "Доказано, что на равномерной сетке сплайн-функция $S_{3, i}$ сходится к $f(x) \\in C_{4}[a, b]$ с четвертым порядком, причем справедливы оценки \n",
        "\n",
        "$||f^{(p)}(x) - S^{(p)} _{3}(x)||_{C[a, b]} = \\max _{[a, b]} |f^{(p)}(x) - S^{(p)} _{3}(x)| \\leq M_{4}h^{4-p}$, $p = 0, 1, 2.$ $(4.78)$\n",
        "\n",
        "Where $M_4 = \\max_{[a,b]}|f^{(4)}(x)|$.\n",
        "\n",
        "(На неравномерной сетке $||f^{(p)}(x) - S^{(p)} _{3}(x)||_{C[a, b]} \\leq M_{4}h_{max}^{4-p}$, где $h_{max} = \\max _{1 \\leq i \\leq n}h_{i}$.) "
      ]
    },
    {
      "cell_type": "markdown",
      "metadata": {
        "id": "Wl8AKqfjWeoO",
        "colab_type": "text"
      },
      "source": [
        "### 12. Rate the complexity of the algorithm [Text, and rate in terms of big O, no more than 100 characters]"
      ]
    },
    {
      "cell_type": "markdown",
      "metadata": {
        "id": "OMR6r0xdk5lI",
        "colab_type": "text"
      },
      "source": [
        "Forward pass is $O(n)$, backward pass is $O(n)$, hence total complexity of the algorithm is $O(n)$, too."
      ]
    },
    {
      "cell_type": "markdown",
      "metadata": {
        "id": "M01n7G3-WeoR",
        "colab_type": "text"
      },
      "source": [
        "### Congrats!"
      ]
    }
  ]
}