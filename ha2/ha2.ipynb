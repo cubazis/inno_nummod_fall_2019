{
 "cells": [
  {
   "cell_type": "code",
   "execution_count": 11,
   "metadata": {},
   "outputs": [],
   "source": [
    "import sympy as sp\n",
    "import numpy as np\n",
    "import matplotlib.pyplot as plt"
   ]
  },
  {
   "cell_type": "markdown",
   "metadata": {},
   "source": [
    "### 1. Formulate the statement of the interpolation problem with Cubic Spline [mathematical formula]"
   ]
  },
  {
   "cell_type": "markdown",
   "metadata": {},
   "source": [
    "Интерполяция это математический инструмент для восстановление функции $U(x)$ по заданному набору значений функции $u(x)$ в точках определенных на сетке $\\Omega _{n} = \\{(x_{i}, y_{i}), i \\in \\{0, 1, ..., n\\}\\}$.\n",
    "При использовании Cubic Spline для интерполяции искомая функция на каждом отрезке $[x_{i-1}, x_i]$ представляется как полином 3 степени. \n",
    "При условие что функция является дважды дифференцируемой, задача интерполяции сводится к нахождению совокупности полиномов.\n",
    "$S_3(x) = \\bigcup_{i=0}^{n-1}S_{3,i}(x) \\in C_2[a, b]$"
   ]
  },
  {
   "cell_type": "markdown",
   "metadata": {},
   "source": [
    "### 2. Formulate the functional and differential compatibility conditions [mathematical formula]"
   ]
  },
  {
   "cell_type": "markdown",
   "metadata": {},
   "source": [
    "Функциональные:\n",
    "\n",
    "(1) $\\delta S_{3,i}(x)|_{x=x_i} = S_{3,i}(x_i) - f(x_i) = 0,$\n",
    "\n",
    "(2) $\\delta S_{3,i}(x)|_{x=x_i+1} = S_{3,i}(x_{i+1}) - f(x_{i+1}) = 0;$\n",
    "\n",
    "Дифференциальные:\n",
    "\n",
    "(3) $\\delta S''_{3,i}(x)|_{x=x_i} = S''_{3,i}(x_i) - f''(x_i) = 0,$\n",
    "\n",
    "(4) $\\delta S''_{3,i}(x)|_{x=x_i+1} = S''_{3,i}(x_{i+1}) - f''(x_{i+1}) = 0.$"
   ]
  },
  {
   "cell_type": "markdown",
   "metadata": {},
   "source": [
    "### 3. Formulate stitching conditions [mathematical formula]"
   ]
  },
  {
   "cell_type": "markdown",
   "metadata": {},
   "source": [
    "$S^{(p_{2})}_{3, i-1}(x)|_{x = x_{i}} = S^{(p_{2})}_{3,i}(x)|_{x = x_{i}}$, где  $i = \\overline{1, n-1}$ , \n",
    "$ p \\in \\{0, 1, 2\\}$"
   ]
  },
  {
   "cell_type": "markdown",
   "metadata": {},
   "source": [
    "### 4. Justify why these conditions provide you with the required smoothness [thesis text, no more than 500 characters]"
   ]
  },
  {
   "cell_type": "markdown",
   "metadata": {},
   "source": [
    "Дифференциальные условия вместе с условиями стычки гарантируют непрерывность $S^{p}_3(x)$, где $ p \\in \\{0, 1, 2\\}$, во всех точках стычки $\\implies  S_m(x) \\in C_2 [a,b]$ выполняется."
   ]
  },
  {
   "cell_type": "markdown",
   "metadata": {},
   "source": [
    "### 5. Derive dependency formula: the dependence of the second derivatives at the grid nodes on the increment of the function (the function values difference on the grid nodes). [Mathematical formulas derivation. Detailed, with clear transitions]"
   ]
  },
  {
   "cell_type": "markdown",
   "metadata": {},
   "source": [
    "Для начала определим каждый из полиномов в виде $S_{3,i}(x) = a_{0,i} + a_{1,i}(x-x_i) + a_{2,i}(x-x_i)^2 + a_{3,i}(x-x_i)^3$ на участке $[x_{i}, x_{i+1}]$.\n",
    "Считая, что функциональные и дифференциальные условия применены к концам сегмента $[x_{i}, x_{i+1}]$, возьмем соответствующие значение $i$, где $i = \\overline{1, n-1}$.\n",
    "\n",
    "\n",
    "$\\left\\{\\begin{matrix}\n",
    "S_{3, i}(x)|_{x=x_{i}} = f(x_{i})\\\\ \n",
    "S_{3, i}(x)|_{x=x_{i+1}} = f(x_{i+1})\\\\ \n",
    "S^{(2)}_{3, i}(x)|_{x=x_{i}} = f^{(2)}(x_{i})\\\\ \n",
    "S^{(2)}_{3, i}(x)|_{x=x_{i+1}} = f^{(2)}(x_{i+1})\\end{matrix}\\right.$\n",
    "\n",
    "\n",
    "$\\left\\{\\begin{matrix}\n",
    "a_{0, i} + a_{1, i}(x_{i} - x_{i}) + a_{2, i}(x_{i} - x_{i})^{2} + a_{3, i}(x_{i} - x_{i})^{3} = f(x_{i})\\\\ \n",
    "a_{0, i} + a_{1, i}(x_{i+1} - x_{i}) + a_{2, i}(x_{i+1} - x_{i})^{2} + a_{3, i}(x_{i+1} - x_{i})^{3} = f(x_{i+1})\\\\ \n",
    "2a_{2,i} + 6a_{3,i}(x_{i}-x_{i}) =f^{(2)}(x_{i})\\\\ \n",
    "2a_{2,i} + 6a_{3,i}(x_{i+1}-x_{i}) = f^{(2)}(x_{i+1})\\end{matrix}\\right.$\n",
    "\n",
    "Задаем $f(x_{i})$ значение $f_{i}$, $f^{(2)}(x_{i})$ значение $m_{i}$ и $x_{i+1} - x_{i}$ значение $h_{i+1}$ получается следующая система уравнений:\n",
    "\n",
    "\n",
    "$\\left\\{\\begin{matrix}\n",
    "a_{0, i} = f_{i}\\\\ \n",
    "a_{0, i} + a_{1, i}h_{i+1} + a_{2, i}h_{i+1}^{2} + a_{3, i}h_{i+1}^{3} = f_{i+1}\\\\ \n",
    "2a_{2,i} = m_{i}\\\\ \n",
    "2a_{2,i} + 6a_{3,i}h_{i+1} = m_{i+1}\\end{matrix}\\right.$\n",
    "\n",
    "\n",
    "У нас есть 4 неизвестных ($a$'s) и 4 уравнения. Предполагая, что $m$'s известно, мы можем решить систему уравнений и выразить $a$'шки через $m$'ки. Подставив полученные значения в формулул для $S_{3, i}$, мы получим:\n",
    "\n",
    "\n",
    "$S_{3, i} = f_{i} + (\\frac{\\Delta f_{i}}{h_{i+1}} - \\frac{h_{i+1}}{2}m_{i} - \\frac{h_{i+1}}{6}\\Delta m_{i})(x-x_{i}) + \\frac{m_{i}}{2}(x-x_{i})^{2} + \\frac{1}{6h_{i+1}}\\Delta m_{i}(x-x_{i})^{3}$, $i \\in \\{0, 1, ..., n-1\\}$,где $\\Delta f_{i} = f_{i+1} - f_{i}$, $\\Delta m_{i} = m_{i+1} - m_{i}$.\n",
    "\n",
    "\n",
    "Благодаря этому, вместо $4(n-1)$ неизвестных получили $n+1$ неизвестных. И теперь нам надо всего $n+1$ уравнение для решения системы и получения коэффицентов для каждого многочлена.\n",
    "У нас есть $n$ многочленов и $n-1$ точек между последовательныи многочленами $\\implies$ мы можем получить $n-1$ уравнение используя условия стычки:\n",
    "\n",
    "\n",
    "$\\left\\{\\begin{matrix}\n",
    "S'_{3, 0}(x)|_{x=x_{1}} = S'_{3, 1}(x)|_{x=x_{1}}\\\\ \n",
    "S'_{3, 1}(x)|_{x=x_{2}} = S'_{3, 1}(x)|_{x=x_{2}}\\\\ \n",
    ". . . \\\\\n",
    "S'_{3, n-2}(x)|_{x=x_{n-1}} = S'_{3, n-1}(x)|_{x=x_{n-1}}\\\\ \n",
    "\\end{matrix}\\right.$\n",
    "\n",
    "Подставив $h_{i+1}$ вместо $(x_{i+1}-x_{i})$'ов, получим:\n",
    "\n",
    "$S'_{3, i-1}(x)|_{x=x_{i}} = S'_{3, i}(x)|_{x=x_{i}}$\n",
    "\n",
    "$\\frac{\\Delta f_{i-1}}{h_{i}} - \\frac{h_{i}m_{i-1}}{2}-\\frac{h_{i}\\Delta m_{i-1}}{6} + m_{i-1}h_{i} + \\frac{\\Delta m_{i-1}}{2h_{i}}h_{i}^{2} = \\frac{\\Delta f_{i}}{h_{i+1}} - \\frac{h_{i+1}m_{i}}{2} - \\frac{h_{i+1}\\Delta m_{i}}{6}$\n",
    "\n",
    "И из этого получаем формулу из книги Киреева:\n",
    "\n",
    "$\\frac{h_{i}}{6}m_{i-1} + \\frac{h_{i} + h_{i+1}}{3}m_{i} + \\frac{h_{i+1}}{6}m_{i+1} = \\frac{\\Delta f_{i}}{h_{i+1}} - \\frac{\\Delta f_{i-1}}{h_{i}}$, $i \\in \\{1, ..., n-1\\}$.\n"
   ]
  },
  {
   "cell_type": "markdown",
   "metadata": {},
   "source": [
    "### 6. Create a system of equations using this formula [Matrix representation. Mathematical formulas]"
   ]
  },
  {
   "cell_type": "markdown",
   "metadata": {},
   "source": [
    "$\\left\\{\\begin{matrix}\n",
    "\\frac{h_{1}}{6}m_{0} + \\frac{h_{1} + h_{2}}{3}m_{1} + \\frac{h_{2}}{6}m_{2} = \\frac{\\Delta f_{1}}{h_{2}} - \\frac{\\Delta f_{0}}{h_{1}}\\\\ \n",
    "\\frac{h_{2}}{6}m_{1} + \\frac{h_{2} + h_{3}}{3}m_{2} + \\frac{h_{3}}{6}m_{3} = \\frac{\\Delta f_{2}}{h_{3}} - \\frac{\\Delta f_{1}}{h_{2}}\\\\ \n",
    ". . .\\\\ \n",
    "\\frac{h_{n-1}}{6}m_{n-2} + \\frac{h_{n-1} + h_{n}}{3}m_{n-1} + \\frac{h_{n}}{6}m_{n} = \\frac{\\Delta f_{n-1}}{h_{n}} - \\frac{\\Delta f_{n-2}}{h_{n-1}}\\\\ \n",
    "\\end{matrix}\\right.$\n",
    "\n",
    "$\\begin{pmatrix}\n",
    "\\frac{h_{1}}{6} & \\frac{h_{1} + h_{2}}{3} & \\frac{h_{2}}{6} &  0 & ... & ...\\\\ \n",
    " 0 & \\frac{h_{2}}{6}& \\frac{h_{2} + h_{3}}{3} & \\frac{h_{3}}{6} & 0 & ...\\\\ \n",
    " ... & ... & ... & ... & ... & ...\\\\ \n",
    " ... & 0 & \\frac{h_{n-2}}{6} & \\frac{h_{n-2} + h_{n-1}}{3} & \\frac{h_{n-1}}{6} & 0\\\\\n",
    "... & ...  & 0 & \\frac{h_{n-1}}{6} & \\frac{h_{n-1} + h_{n}}{3} & \\frac{h_{n}}{6}\\\\\n",
    "\\end{pmatrix}$ $\\begin{pmatrix}\n",
    "m_{0}\\\\ \n",
    "m_{1}\\\\ \n",
    "...\\\\ \n",
    "...\\\\ \n",
    "m_{n-1}\\\\ \n",
    "m_{n} \\\\\n",
    "\\end{pmatrix}$ = $\\begin{pmatrix}\n",
    "\\frac{\\Delta f_{1}}{h_{2}} - \\frac{\\Delta f_{0}}{h_{1}}\\\\ \n",
    "\\frac{\\Delta f_{2}}{h_{3}} - \\frac{\\Delta f_{1}}{h_{2}}\\\\ \n",
    "...\\\\ \n",
    "...\\\\ \n",
    "\\frac{\\Delta f_{n-2}}{h_{n-1}} - \\frac{\\Delta f_{n-3}}{h_{n-2}}\\\\ \n",
    "\\frac{\\Delta f_{n-1}}{h_{n}} - \\frac{\\Delta f_{n-2}}{h_{n-1}} \\\\\n",
    "\\end{pmatrix}$"
   ]
  },
  {
   "cell_type": "markdown",
   "metadata": {},
   "source": [
    "### 7. Explain what is an unknown variable in this system. whether the system is closed with respect to an unknown variable. What is missing for closure. [Text, no more than 200 characters]"
   ]
  },
  {
   "cell_type": "markdown",
   "metadata": {},
   "source": [
    "Неизвестным в этой системе являтся вектор $m'ок$. Система является **недоопределённой** в ней $n+1$ неизвестных и только $n-1$ уравнений. Для решения этой проблемы мы вводим условие натурального сплайна, а именно $m_{0} = 0$ и $ m_{n}  = 0$."
   ]
  },
  {
   "cell_type": "markdown",
   "metadata": {},
   "source": [
    "### 8. Bring this matrix to the appropriate form to use the Tridiagonal matrix algorithm [Mathematical derivation. Use Gauss Elimination]"
   ]
  },
  {
   "cell_type": "markdown",
   "metadata": {},
   "source": [
    "Решение будет основано на методе **Прогонки** ( https://old.math.tsu.ru/EEResources/cm/text/4_7_1.htm )\n",
    "\n",
    "$\\begin{pmatrix}\n",
    "-b_{1} & c_{1} &  0 & ... & ...\\\\ \n",
    "a_{1} & -b_{2} & c_{2} & 0 & ...\\\\ \n",
    " ... & ... & ... & ... & ... \\\\ \n",
    " ... & 0 & a_{n-1} & -b_{n-1} & c_{n}\\\\\n",
    "... & ...  & 0 & a_{n} & -b_{n}\\\\\n",
    "\\end{pmatrix} \\bar{x} = \\begin{pmatrix}\n",
    "d_{1}\\\\ \n",
    "d_{2}\\\\ \n",
    "...\\\\ \n",
    "d_{n-1}\\\\ \n",
    "d_{n}\\\\\n",
    "\\end{pmatrix}$\n",
    "\n",
    "Разделим первую строку на $-b_{1}$:\n",
    "\n",
    "$\\begin{pmatrix}\n",
    "1 & -\\frac{c_{1}}{b_{1}} &  0 & ... & ...\\\\ \n",
    "a_{1} & -b_{2} & c_{2} & 0 & ...\\\\ \n",
    " ... & ... & ... & ... & ... \\\\ \n",
    " ... & 0 & a_{n-1} & -b_{n-1} & c_{n}\\\\\n",
    "... & ...  & 0 & a_{n} & -b_{n}\\\\\n",
    "\\end{pmatrix} \\bar{x} = \\begin{pmatrix}\n",
    "-\\frac{d_{1}}{b_{1}}\\\\ \n",
    "d_{2}\\\\ \n",
    "...\\\\ \n",
    "d_{n-1}\\\\ \n",
    "d_{n}\\\\\n",
    "\\end{pmatrix}$\n",
    "\n",
    "Зададим $P_{1} = \\frac{c_{1}}{b_{1}}$, $Q_{1} = -\\frac{d_{1}}{b_{1}}$. Тогда $x_{1} = P_{1}x_{2} + Q_{1}$.\n",
    "\n",
    "$\\begin{pmatrix}\n",
    "1 & -P_{1} &  0 & ... & ...\\\\ \n",
    "a_{1} & -b_{2} & c_{2} & 0 & ...\\\\ \n",
    " ... & ... & ... & ... & ... \\\\ \n",
    " ... & 0 & a_{n-1} & -b_{n-1} & c_{n}\\\\\n",
    "... & ...  & 0 & a_{n} & -b_{n}\\\\\n",
    "\\end{pmatrix} \\bar{x} = \\begin{pmatrix}\n",
    "Q_{1}\\\\ \n",
    "d_{2}\\\\ \n",
    "...\\\\ \n",
    "d_{n-1}\\\\ \n",
    "d_{n}\\\\\n",
    "\\end{pmatrix}$\n",
    "\n",
    "Домножим первую строку на $a_{1}$ и вычтем из второй строки:\n",
    "\n",
    "$\\begin{pmatrix}\n",
    "1 & -P_{1} &  0 & ... & ...\\\\ \n",
    "0 & a_{2}P_{1} -b_{2} & c_{2} & 0 & ...\\\\ \n",
    " ... & ... & ... & ... & ... \\\\ \n",
    " ... & 0 & a_{n-1} & -b_{n-1} & c_{n}\\\\\n",
    "... & ...  & 0 & a_{n} & -b_{n}\\\\\n",
    "\\end{pmatrix} \\bar{x} = \\begin{pmatrix}\n",
    "Q_{1}\\\\ \n",
    "d_{2} - a_{2}Q_{1}\\\\ \n",
    "...\\\\ \n",
    "d_{n-1}\\\\ \n",
    "d_{n}\\\\\n",
    "\\end{pmatrix}$\n",
    "\n",
    "Разделим вторую строку на  $-b_{2} + a_{2}P_{1}$:\n",
    "\n",
    "$\\begin{pmatrix}\n",
    "1 & -P_{1} &  0 & ... & ...\\\\ \n",
    "0 & 1 & \\frac{c_{2}}{a_{2}P_{1} -b_{2}} & 0 & ...\\\\ \n",
    " ... & ... & ... & ... & ... \\\\ \n",
    " ... & 0 & a_{n-1} & -b_{n-1} & c_{n}\\\\\n",
    "... & ...  & 0 & a_{n} & -b_{n}\\\\\n",
    "\\end{pmatrix} \\bar{x} = \\begin{pmatrix}\n",
    "Q_{1}\\\\ \n",
    "\\frac{d_{2} - a_{2}Q_{1}}{a_{2}P_{1} -b_{2}}\\\\ \n",
    "...\\\\ \n",
    "d_{n-1}\\\\ \n",
    "d_{n}\\\\\n",
    "\\end{pmatrix}$\n",
    "\n",
    "Зададим $P_{2} = -\\frac{c_{2}}{a_{2}P_{1} -b_{2}}$, $Q_{2} = \\frac{d_{2} - a_{2}Q_{1}}{a_{2}P_{1} -b_{2}}$. Тогда $x_{2} = P_{2}x_{3} + Q_{2}$.\n",
    "\n",
    "$\\begin{pmatrix}\n",
    "1 & -P_{1} &  0 & ... & ...\\\\ \n",
    "0 & 1 & -P_{2} & 0 & ...\\\\ \n",
    " ... & ... & ... & ... & ... \\\\ \n",
    " ... & 0 & a_{n-1} & -b_{n-1} & c_{n}\\\\\n",
    "... & ...  & 0 & a_{n} & -b_{n}\\\\\n",
    "\\end{pmatrix} \\bar{x} = \\begin{pmatrix}\n",
    "Q_{1}\\\\ \n",
    "Q_{2}\\\\ \n",
    "...\\\\ \n",
    "d_{n-1}\\\\ \n",
    "d_{n}\\\\\n",
    "\\end{pmatrix}$\n",
    "\n",
    "Все последующие шаги очевидны."
   ]
  },
  {
   "cell_type": "markdown",
   "metadata": {},
   "source": [
    "### 9. Derive formulas of direct pass and reverse pass of Tridiagonal matrix algorithm [Mathematical formals]"
   ]
  },
  {
   "cell_type": "markdown",
   "metadata": {},
   "source": [
    "**Direct:**\n",
    "$x_{i-1} = P_{i-1}x_{i} + Q_{i-1}$, где $P_{i-1} = -\\frac{c_{i-1}}{a_{i-1}P_{i-2} + b_{i-1}}$, $Q_{i-1} = \\frac{d_{i-1} - a_{i-1}Q_{i-2}}{a_{i-1}P_{i-2} - b_{i-1}}$. $P_{1}$ и $Q_{1}$ было определено выше.\n",
    "\n",
    "**Reverse:**\n",
    "Мы берем формулу для $x_{n-1}$, определенную выше, подставляем ее в последнее уравнение и получаем:\n",
    "\n",
    "$a_{n}(P_{n-1}x_{n} + Q_{n}) + b_{n}x_{n} = d_{n}$.\n",
    "\n",
    "Решив это для $x_{n}$ и получив значения для всех предыдущих $x_{i}$'ых заменой значения $x_{i+1}$ в формуле для $x_{i}$."
   ]
  },
  {
   "cell_type": "markdown",
   "metadata": {},
   "source": [
    "### 10. Implement code prototype of the future algorithm implementation. Classes/methods (if you use OOP), functions. The final implementation (on language chosen by you) should not differ from the functions declared in the prototype. [Python code]"
   ]
  },
  {
   "cell_type": "code",
   "execution_count": 12,
   "metadata": {},
   "outputs": [],
   "source": [
    "def run_method(A, d):\n",
    "    pass"
   ]
  },
  {
   "cell_type": "markdown",
   "metadata": {},
   "source": [
    "### 11. Derive formula of Cubic Spline method error [Mathematical formulas]"
   ]
  },
  {
   "cell_type": "markdown",
   "metadata": {},
   "source": [
    "Мы знаем, что на равномерной сетке функция сплайна $S_{3, i}$ сходится к $f(x) \\in C_{4}[a, b]$ с четвертым порядком, так как это доказано. \n",
    "\n",
    "При этом будут справедливы следующие оценки:\n",
    "$||f^{(p)}(x) - S^{(p)} _{3}(x)||_{C[a, b]} = \\max _{[a, b]} |f^{(p)}(x) - S^{(p)} _{3}(x)| \\leq M_{4}h^{4-p}$, $p = 0, 1, 2.$ $(4.78)$\n",
    "\n",
    "Где $M_4 = \\max_{[a,b]}|f^{(4)}(x)|$."
   ]
  },
  {
   "cell_type": "markdown",
   "metadata": {},
   "source": [
    "### 12. Rate the complexity of the algorithm [Text, and rate in terms of big O, no more than 100 characters]"
   ]
  },
  {
   "cell_type": "markdown",
   "metadata": {},
   "source": [
    "Прямой проход, так же как и обратный имеет сложность $O(n) \\implies $ сложность всего олгаритма равна $O(n)$."
   ]
  },
  {
   "cell_type": "markdown",
   "metadata": {},
   "source": [
    "### Congrats!"
   ]
  }
 ],
 "metadata": {
  "kernelspec": {
   "display_name": "Python 3",
   "language": "python",
   "name": "python3"
  },
  "language_info": {
   "codemirror_mode": {
    "name": "ipython",
    "version": 3
   },
   "file_extension": ".py",
   "mimetype": "text/x-python",
   "name": "python",
   "nbconvert_exporter": "python",
   "pygments_lexer": "ipython3",
   "version": "3.6.4"
  }
 },
 "nbformat": 4,
 "nbformat_minor": 2
}
