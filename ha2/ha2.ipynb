{
 "cells": [
  {
   "cell_type": "code",
   "execution_count": 1,
   "metadata": {},
   "outputs": [],
   "source": [
    "import sympy as sp\n",
    "import numpy as np\n",
    "import matplotlib.pyplot as plt"
   ]
  },
  {
   "cell_type": "markdown",
   "metadata": {},
   "source": [
    "### 1. Formulate the statement of the interpolation problem with Cubic Spline [mathematical formula]"
   ]
  },
  {
   "cell_type": "markdown",
   "metadata": {},
   "source": [
    "Given the grid function $f(x)$ on the interval $[a,b]$ with a grid $\\Omega_n$. And we need to restore it using the function $S_m(x)$, where $m$ is the degree of polynomial, using piecewise-global method.\n",
    "    \n",
    "Cubic spline is the union $S_{3,i}(x)$ of algebraic polynomials of degree 3, defined on the intervals $[x_i, x_{i+1}]$,  $i=\\overline{0,n-1}$ and connected together on this intervals in a way, so we can compose the function $S_m(x)=\\bigcup\\limits_{i=0}^{n-1}S_{m,i}(x)$, which is defined, continuous and has the continuous derivatives $S_m^{(p)}(x)$ (till some predefined p) on the whole interval $[a,b]$."
   ]
  },
  {
   "cell_type": "markdown",
   "metadata": {},
   "source": [
    "### 2. Formulate the functional and differential compatibility conditions [mathematical formula]"
   ]
  },
  {
   "cell_type": "markdown",
   "metadata": {},
   "source": [
    "\n",
    "$$ S_{m,i}^{(p)}(x_i) - f(x_i) = 0, i=\\overline{0,n-1}$$\n",
    "\n",
    "If $p=0$, it's a functional compatibility condition, otherwise it's differential."
   ]
  },
  {
   "cell_type": "markdown",
   "metadata": {},
   "source": [
    "### 3. Formulate stitching conditions [mathematical formula]"
   ]
  },
  {
   "cell_type": "markdown",
   "metadata": {},
   "source": [
    "$$ S_{m, i-1}^{(p)}(x_i) = S_{m, i}^{(p)}(x_i) $$"
   ]
  },
  {
   "cell_type": "markdown",
   "metadata": {},
   "source": [
    "### 4. Justify why these conditions provide you with the required smoothness [thesis text, no more than 500 characters]"
   ]
  },
  {
   "cell_type": "markdown",
   "metadata": {},
   "source": [
    "Functional compatibility condition ensures that the resulting function passes through the given points, thus solves the interpolation problem\n",
    "Differential compatibility conditions shows us that the resulting function is differentiable up to $p$.\n",
    "And the stitching conditions ensure us that the resulting function will be continious."
   ]
  },
  {
   "cell_type": "markdown",
   "metadata": {},
   "source": [
    "### 5. Derive dependency formula: the dependence of the second derivatives at the grid nodes on the increment of the function (the function values difference on the grid nodes). [Mathematical formulas derivation. Detailed, with clear transitions]"
   ]
  },
  {
   "cell_type": "markdown",
   "metadata": {},
   "source": [
    "Stage 1:\n",
    "We need to find all $a_{k,i}$ for $S_{3,i} = a_{0,i} + a_{1,i}(x - x_i) + a_{2,i}(x - x_i)^2 + a_{3,i}(x - x_i)^3$.\n",
    "\n",
    "We should solve two compatibility conditions ($p=\\{0, 2\\}$) for both ends of our interval $[x_i, x_{i+1}]$:\n",
    "\n",
    "$\\begin{cases}\n",
    "S_{3, i}(x_i)-f(x_i)=0\\\\\n",
    "S_{3, i}(x_{i + 1})-f(x_{i + 1})=0\\\\\n",
    "S_{3, i}''(x_i)-f''(x_i)=0\\\\\n",
    "S_{3, i}''(x_{i + 1})-f''(x_{i + 1})=0\n",
    "\\end{cases}$\n",
    "\n",
    "Let:\n",
    "* $h_{i + 1} = x_{i + 1} - x_{i}$\n",
    "* $\\Delta f_i = f_{i + 1} - f_{i}$\n",
    "* $\\Delta m_i = m_{i + 1} - m_{i}$\n",
    "\n",
    "then, after substitution of $S_{3, i} = a_{0, i} + a_{1, i}(x - x_i) + a_{2, i}(x - x_i)^2 + a_{3, i}(x - x_i)^3$ in our system:\n",
    "\n",
    "$\\begin{cases}\n",
    "a_{0, i} - f_i = 0 \\\\\n",
    "a_{0, i} + a_{1, i}h_{i + 1} + a_{2, i}h_{i + 1}^2 + a_{3, i}h_{i + 1}^3 - f_{i + 1} = 0 \\\\\n",
    "2a_{2, i} - m_i = 0 \\\\\n",
    "2a_{2, i} + 6a_{3, i}h_{i + 1} - m_{i + 1} = 0\n",
    "\\end{cases}$\n",
    "\n",
    "then:\n",
    "\n",
    "$\\begin{cases}\n",
    "a_{0, i} = f_i \\\\\n",
    "f_i + a_{1, i}h_{i + 1} + \\frac{m_i}{2}h_{i + 1}^2 + a_{3, i}h_{i + 1}^3 - f_{i + 1} = 0 \\\\\n",
    "a_{2, i} = \\frac{m_i}{2} \\\\\n",
    "m_i + 6a_{3, i}h_{i + 1} - m_{i + 1} = 0\n",
    "\\end{cases}$\n",
    "\n",
    "Now let's work through the forth and second equation:\n",
    "\n",
    "4) $\n",
    "m_i + 6a_{3, i}h_{i + 1} - m_{i + 1} = 0 \\\\\n",
    "\\Rightarrow a_{3, i} = \\frac{\\Delta m_i}{6h_{i + 1}}\n",
    "$\n",
    "\n",
    "2) $\n",
    "f_i + a_{1, i}h_{i + 1} + \\frac{m_i}{2}h_{i + 1}^2 + a_{3, i}h_{i + 1}^3 - f_{i + 1} = 0 \\\\\n",
    "\\Rightarrow f_i + a_{1, i}h_{i + 1} + \\frac{m_i}{2}h_{i + 1}^2 + \\frac{\\Delta m_i}{6h_{i + 1}}h_{i + 1}^3 - f_{i + 1} = 0 \\\\\n",
    "\\Rightarrow -\\frac{\\Delta f_i}{h_{i + 1}} + a_{1, i} + \\frac{m_i}{2}h_{i + 1} + \\frac{\\Delta m_i}{6}h_{i + 1} = 0 \\\\\n",
    "\\Rightarrow a_{1, i} = \\frac{\\Delta f_i}{h_{i + 1}} - \\frac{h_{i + 1}}{2}m_i - \\frac{h_{i + 1}}{6}\\Delta m_i$\n",
    "\n",
    "And if we substitute the values for $a_{0,i},a_{1,i},a_{2,i},a_{3,i}$ back into $S_{3,i}$ equation:\n",
    "\n",
    "$S_{3, i} = f_i + (\\frac{\\Delta f_i}{h_{i + 1}} - \\frac{h_{i + 1}}{2}m_i - \\frac{h_{i + 1}}{6}\\Delta m_i)(x - x_i) + \\frac{m_i}{2}(x - x_i)^2 + \\frac{\\Delta m_i}{6h_{i + 1}}(x - x_i)^3$\n",
    "\n",
    "Stage 2:\n",
    "\n",
    "$S_{3, i-1}(x) = f_{i - 1} + (\\frac{\\Delta f_{i-1}}{h_{i}} - \\frac{h_{i}}{2}m_{i - 1} - \\frac{h_{i}}{6}\\Delta m_{i - 1})(x - x_{i-1}) + \\frac{m_{i - 1}}{2}(x - x_{i - 1})^2 + \\frac{\\Delta m_{i - 1}}{6h_{i}}(x - x_{i - 1})^3$\n",
    "\n",
    "$S_{3, i - 1}^{'}(x_i) = \\frac{\\Delta f_{i - 1}}{h_i} - \\frac{h_i}{2}m_{i - 1} - \\frac{h_i}{6}\\Delta m_{i - 1} + h_im_{i - 1} + \\frac{h_i}{2}\\Delta m_{i - 1}$\n",
    "\n",
    "$S_{3, i}^{'}(x_i) = \\frac{\\Delta f_i}{h_{i + 1}} - \\frac{h_{i + 1}}{2}m_i - \\frac{h_{i + 1}}{6}\\Delta m_i$\n",
    "\n",
    "By using stitching condition ($S_{3,i - 1}^{'}(x)|_{x=x_i} = S_{3,i}^{'}(x)|_{x=x_i}$):\n",
    "\n",
    "$\\frac{\\Delta f_{i - 1}}{h_i} - \\frac{h_i}{2}m_{i - 1} - \\frac{h_i}{6}\\Delta m_{i - 1} + h_im_{i - 1} + \\frac{h_i}{2}\\Delta m_{i - 1} = \\frac{\\Delta f_i}{h_{i + 1}} - \\frac{h_{i + 1}}{2}m_i - \\frac{h_{i + 1}}{6}\\Delta m_i$\n",
    "\n",
    "$\\Rightarrow \\frac{h_i}{2}m_{i - 1} - \\frac{h_i}{6}m_{i} + \\frac{h_i}{6}m_{i - 1} + \\frac{h_i}{2}m_{i} - \\frac{h_i}{2}m_{i - 1} + \\frac{h_{i + 1}}{2}m_i - \\frac{h_{i + 1}}{6}m_{i + 1} + \\frac{h_{i + 1}}{6}m_i = \\frac{\\Delta f_i}{h_{i + 1}} - \\frac{\\Delta f_{i - 1}}{h_i}$\n",
    "\n",
    "so:\n",
    "\n",
    "$\\frac{h_i}{6}m_{i - 1} + \\frac{h_i + h_{i + 1}}{3}m_i + \\frac{h_{i + 1}}{6}m_{i + 1} = \\frac{\\Delta f_i}{h_{i + 1}} - \\frac{\\Delta f_{i - 1}}{h_i}, i = 1..n-1$"
   ]
  },
  {
   "cell_type": "markdown",
   "metadata": {},
   "source": [
    "### 6. Create a system of equations using this formula [Matrix representation. Mathematical formulas]"
   ]
  },
  {
   "cell_type": "markdown",
   "metadata": {},
   "source": [
    "$\n",
    "\\frac{1}{6}\n",
    "\\begin{vmatrix} \n",
    "h_1 & 2(h_1 + h_2) & h_2 & 0 & 0 & ... \\\\\n",
    "0 & h_2 & 2(h_2 + h_3) & h_3 & 0 & ... \\\\\n",
    "... & ... & ... & ... & ... & ... \\\\\n",
    "... & 0 & 0 & h_{n-1} & 2(h_{n-1} + h_n) & h_n\n",
    "\\end{vmatrix} \\cdot \\begin{vmatrix} \n",
    "m_0 \\\\\n",
    "m_1 \\\\\n",
    "m_2 \\\\\n",
    "... \\\\\n",
    "m_n\n",
    "\\end{vmatrix} = \\begin{vmatrix} \n",
    "\\frac{\\Delta f_1}{h_2} - \\frac{\\Delta f_0}{h_1} \\\\\n",
    "\\frac{\\Delta f_2}{h_3} - \\frac{\\Delta f_1}{h_2} \\\\\n",
    "... \\\\\n",
    "\\frac{\\Delta f_{n-1}}{h_n} - \\frac{\\Delta f_{n-2}}{h_{n-1}}\n",
    "\\end{vmatrix}\n",
    "$"
   ]
  },
  {
   "cell_type": "markdown",
   "metadata": {},
   "source": [
    "### 7. Explain what is an unknown variable in this system. whether the system is closed with respect to an unknown variable. What is missing for closure. [Text, no more than 200 characters]"
   ]
  },
  {
   "cell_type": "markdown",
   "metadata": {},
   "source": [
    "Unknown variables in our system are $m_i$, where $i=\\overline{0,3}$ ($\\overline{0,n}$). And our system is not closed with respect to it, as it misses two equations (for $m_0$ and $m_n$)."
   ]
  },
  {
   "cell_type": "markdown",
   "metadata": {},
   "source": [
    "### 8. Bring this matrix to the appropriate form to use the Tridiagonal matrix algorithm [Mathematical derivation. Use Gauss Elimination]"
   ]
  },
  {
   "cell_type": "markdown",
   "metadata": {},
   "source": [
    "$\\begin{bmatrix}\n",
    "1 & -P_1 & 0 & .. & .. & 0 & .. & Q_1\n",
    "\\\\ 0 & 1 & -P_2 & 0  & 0  & 0 & .. & Q_2\n",
    "\\\\ 0 & 0 & 1 & -P_3 & 0 & 0 & .. & Q_3\n",
    "\\\\ .. & .. & .. & .. & .. & .. & .. & ..\n",
    "\\\\ 0 & 0 & 0 & 0 & 0 & 1 & .. & Q_{n-1}\n",
    "\\end{bmatrix}\n",
    "$\n",
    "\n",
    "where:\n",
    "\n",
    "$\n",
    "P_1 = \\frac{h_2}{-2(h_2 + h_1)}; \\\\\n",
    "Q_1 = -\\frac{6(\\frac{\\Delta f_1}{h_2}-\\frac{\\Delta f_0}{h_1})}{-2(h_2 + h_1)}; \\\\\n",
    "P_i = \\frac{h_{i+1}}{-2(h_{i+1} + h_i) - h_iP_{i-1}}; \\\\\n",
    "Q_i = \\frac{h_iQ_{i-1} - 6(\\frac{\\Delta f_{i}}{h_{i+1}} - \\frac{\\Delta f_{i-1}}{h_{i}})}{-2(h_{i+1} + h_i) - h_iP_{i-1}}\n",
    "$"
   ]
  },
  {
   "cell_type": "markdown",
   "metadata": {},
   "source": [
    "### 9. Derive formulas of direct pass and reverse pass of Tridiagonal matrix algorithm [Mathematical formals]"
   ]
  },
  {
   "cell_type": "markdown",
   "metadata": {},
   "source": [
    "Reverse pass:\n",
    "\n",
    "If we take the Triagonal matrix from the last question, we'll see that $x_{n-1}=Q_{n-1}$, and we can derive the formula for $x_i$:\n",
    "$x_i=P_ix_{i+1}+Q_i$\n",
    "\n",
    "Forward pass:\n",
    "\n",
    "If we'll take the expanded record of tridiagonal matrix:\n",
    "\n",
    "$\\alpha_ix_{i - 1} - \\beta_ix_i + \\gamma_ix_{i + 1} = \\delta_i; \\alpha_1=\\gamma_n=0; i=\\overline{1,n}$\n",
    "\n",
    "And substitute the $x_{i-1} = P_{i-1}x_i + Q_{i-1}$ in it:\n",
    "\n",
    "$\n",
    "\\alpha_i(P_{i - 1}x_i + Q_{i - 1}) - \\beta_ix_i + \\gamma_ix_{i + 1} = \\delta_i \\\\\n",
    "\\Rightarrow x_i = \\frac{-\\gamma_i}{\\alpha_iP_{i - 1} - \\beta_i}x_{i + 1} + \\frac{-\\alpha_iQ_{i - 1} + \\delta_i}{\\alpha_iP_{i - 1} - \\beta_i}\n",
    "$\n",
    "\n",
    "And again, using the formula for $x_i$, we can derive next formulas:\n",
    "\n",
    "$\n",
    "P_i = \\frac{h_{i+1}}{-2(h_{i+1} + h_i) - h_iP_{i-1}}; \\\\\n",
    "Q_i = \\frac{h_iQ_{i-1} - 6(\\frac{\\Delta f_{i}}{h_{i+1}} - \\frac{\\Delta f_{i-1}}{h_{i}})}{-2(h_{i+1} + h_i) - h_iP_{i-1}}\n",
    "$\n"
   ]
  },
  {
   "cell_type": "markdown",
   "metadata": {},
   "source": [
    "### 10. Implement code prototype of the future algorithm implementation. Classes/methods (if you use OOP), functions. The final implementation (on language chosen by you) should not differ from the functions declared in the prototype. [Python code]"
   ]
  },
  {
   "cell_type": "code",
   "execution_count": 77,
   "metadata": {},
   "outputs": [
    {
     "name": "stdout",
     "output_type": "stream",
     "text": [
      "\n",
      "Interpolation result: 0.7679\n",
      "Expected result:      0.7679\n"
     ]
    }
   ],
   "source": [
    "def cubic_spline(x, y):\n",
    "    \"\"\"\n",
    "    Calculate the coefficients (a_{k,i}) for the cubic spline.\n",
    "    \n",
    "    :param x: grid values\n",
    "    :param y: function values in x positions\n",
    "    :return: (3, len(x)) numpy array with the calculated coefficients\n",
    "    \"\"\"\n",
    "    dlt_x = x[:-1] - x[1:]\n",
    "    dlt_y = y[:-1] - y[1:]\n",
    "    deltas = []\n",
    "    for i in range(0, len(dlt_x)-1):\n",
    "        deltas.append(6 * \n",
    "                      (dlt_y[i] / dlt_x[i] \n",
    "                       - dlt_y[i + 1] / dlt_x[i + 1]))\n",
    "    \n",
    "    alphas = dlt_x.copy()\n",
    "    betas = - 2 * (dlt_x[1:] + dlt_x[:-1])\n",
    "    gammas = dlt_x[1:].copy()\n",
    "    \n",
    "    N = len(deltas)\n",
    "    \n",
    "    # Direct pass\n",
    "    P = [gammas[0] / betas[0]]\n",
    "    Q = [-deltas[0] / betas[0]]\n",
    "    for i in range(1, N):\n",
    "        Q.append((alphas[i] * Q[-1] - deltas[i]) \n",
    "                 / (betas[i] - alphas[i] * P[-1]))\n",
    "        P.append(gammas[i] / (betas[i] - alphas[i] * P[-1]))\n",
    "    \n",
    "    # Reverse pass\n",
    "    m = np.zeros(len(x))\n",
    "    m[-2] = Q[-1]\n",
    "    for i in range(N - 2, -1, -1):\n",
    "        m[i+1] = P[i] * m[i+2] + Q[i]\n",
    "        \n",
    "    # Calculate final coefficients\n",
    "    a = np.zeros((4, len(x)))\n",
    "    \n",
    "    for i in range(len(x)-1):\n",
    "        a[0][i] = y[i]\n",
    "        a[1][i] = dlt_y[i] / dlt_x[i] - dlt_x[i] * m[i] / 2 + dlt_x[i] * (m[i+1] - m[i]) / 6\n",
    "        a[2][i] = m[i] / 2\n",
    "        a[3][i] = (m[i + 1] - m[i]) / (- 6 * dlt_x[i])\n",
    "        \n",
    "    return a\n",
    "\n",
    "def interpolate(p, x, y, a):\n",
    "    \"\"\"\n",
    "    Inrerpolate the cubic spline in given point.\n",
    "    \n",
    "    :param p: x position to interpolate\n",
    "    :param x: grid values\n",
    "    :param y: function values in x positions\n",
    "    :return: Interpolation result\n",
    "    \"\"\"\n",
    "    # find the needed spline\n",
    "    i = -1\n",
    "    while x[i + 1] < p: i += 1\n",
    "    del_x = p - x[i]\n",
    "    \n",
    "    return (a[0][i] \n",
    "            + a[1][i] * del_x \n",
    "            + a[2][i] * del_x ** 2 \n",
    "            + a[3][i] * del_x ** 3)\n",
    "\n",
    "\n",
    "# Thanks to @guru_ruru for the example.\n",
    "data = np.array([ \n",
    "                 (1, 0),\n",
    "                 (2, 1),\n",
    "                 (3, 0),\n",
    "                 (4, 1),\n",
    "                 (5, 0),\n",
    "                ])\n",
    "point = 1.5\n",
    "\n",
    "x = data[:, 0]\n",
    "y = data[:, 1]\n",
    "# find coefficients\n",
    "a = cubic_spline(x, y)\n",
    "# find the position\n",
    "res = interpolate(point, x, y, a)\n",
    "\n",
    "print(f\"\"\"\n",
    "Interpolation result: {res:.4}\n",
    "Expected result:      {0.7679}\"\"\")"
   ]
  },
  {
   "cell_type": "markdown",
   "metadata": {},
   "source": [
    "### 11. Derive formula of Cubic Spline method error [Mathematical formulas]"
   ]
  },
  {
   "cell_type": "markdown",
   "metadata": {},
   "source": [
    "$|| f^{(p)}(x)-S_3^{(p)}(x)||_{C[a,b]} = \\max_{[a,b]}|f^{(p)}(x)-S_3^{(p)}(x)|\\leq M_4h^{4-p}$, $p=0,1,2$\n",
    "\n",
    "(Thanks to the бука by В.И.Киреев, page 192)"
   ]
  },
  {
   "cell_type": "markdown",
   "metadata": {},
   "source": [
    "### 12. Rate the complexity of the algorithm [Text, and rate in terms of big O, no more than 100 characters]"
   ]
  },
  {
   "cell_type": "markdown",
   "metadata": {},
   "source": [
    "Tridiagonal matrix algorithm complexity is $O(n)$, and the complexity of building the Tridiagonal matrix is $O(n)$. So, the final complexity of the algorithm is $O(n)$."
   ]
  },
  {
   "cell_type": "markdown",
   "metadata": {},
   "source": [
    "### Congrats!\n",
    "\n",
    "Соре за late submit, я думал дедлайн как и в прошлый раз в десять вечера."
   ]
  }
 ],
 "metadata": {
  "kernelspec": {
   "display_name": "Python 3",
   "language": "python",
   "name": "python3"
  },
  "language_info": {
   "codemirror_mode": {
    "name": "ipython",
    "version": 3
   },
   "file_extension": ".py",
   "mimetype": "text/x-python",
   "name": "python",
   "nbconvert_exporter": "python",
   "pygments_lexer": "ipython3",
   "version": "3.7.3"
  }
 },
 "nbformat": 4,
 "nbformat_minor": 2
}
