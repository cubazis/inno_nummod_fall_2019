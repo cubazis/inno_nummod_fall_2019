{
 "cells": [
  {
   "cell_type": "code",
   "execution_count": null,
   "metadata": {},
   "outputs": [],
   "source": [
    "import sympy as sp\n",
    "import numpy as np\n",
    "import matplotlib.pyplot as plt"
   ]
  },
  {
   "cell_type": "markdown",
   "metadata": {},
   "source": [
    "### 1. Formulate the statement of the interpolation problem with Cubic Spline [mathematical formula]"
   ]
  },
  {
   "cell_type": "markdown",
   "metadata": {},
   "source": [
    "First of all, let's introduce some definitions.<br> Let's start with basic definition of a spline.<br><br>\n",
    "Suppose that on segment $[a,b]$ a system of grid nodes $\\{t_n\\}_{n=0}^{N-1}$ is defined. Then spline $S_m(t)$ is a function defined on \\[a, b\\] and that has $l$ continuous derivatives and is in each interval $(t_{n-1}, t_n)$ a polynomial of degree $m$.\n",
    "\n",
    "Our task is to find cubic spline.\n",
    "\n",
    "The cubic spline of defect 1 interpolating a given function on a segment $[a,b]$ is a function $S(t)$ that satisfies the following conditions:<br>\n",
    "1. $S(t_n) = f(t_n)$ -  interpolation condition in grid nodes $\\{t_n\\}_{n=0}^{N-1}$<br>\n",
    "2. $S(t) \\in C^2[a, b]$, so it is continuous along with it's first and second derivatives<br>\n",
    "3. On each segment $[t_n, t_{n+1}]$, $S(t)$ is a cubic polinom; $n = 0, ..., N-1$.<br>\n",
    "4. At the edges of the segment $[a,b]$, boundary conditions are specified. For example,\n",
    "    - $S'(a) = f'(a), S'(b) = f'(b)$;<br>\n",
    "    - $S''(a) = f''(a), S''(b) = f''(b)$; often supposed $S''(a) = S''(b) = 0$<br>\n",
    "    - $S(a) = S(b), S'(a) = S'(b)$; these conditions are called periodic.<br>\n",
    " \n",
    "\n",
    "\n",
    "<br> So now we can formulate our interpolation problem with cubic spline:\n",
    "We need to find $S_{3}(x)$ such that:\n",
    "- $S_3(x_i) = f(x_i)$ for $i \\in [0, N-1]$\n",
    "- $S_{3}(x) = \\bigcup\\limits_{i=0}^{N-1} S_{3, i}(x) \\in C_2[a, b]$\n",
    "- $S_{3, i}(x) = a_{0, i} + a_{1, i}(x - x_i) + a_{2, i}(x - x_i)^2 + a_{3, i}(x - x_i)^3$\n",
    "Generally, there are 1-3 conditions from definition in more detailed and slightly different format of notations for simplification.\n",
    "\n",
    "According to the corollary of the Schoenberg-Whitney theorem on the conditions for the existence of an interpolation spline, interpolation cubic spline $S(t)$, satisfied conditions 1-3 and one of boundary conditions 4, exists and unique.\n",
    "\n",
    "\n",
    "\n",
    "\n",
    "\n",
    "\n",
    "\n"
   ]
  },
  {
   "cell_type": "markdown",
   "metadata": {},
   "source": [
    "### 2. Formulate the functional and differential compatibility conditions [mathematical formula]"
   ]
  },
  {
   "cell_type": "markdown",
   "metadata": {},
   "source": [
    "For an algebraic polynomial $S_{3, i}(x) = a_{0, i} + a_{1, i}(x - x_i) + a_{2, i}(x - x_i)^2 + a_{3, i}(x - x_i)^3$ related to one spline unit for which $x \\in [x_i, x_{i+1}]$, two compatibility conditions with order $p_1 = \\{0; 2\\}$ are selected, each of which refers to the ends of the segment $[x_i, x_{i+1}]$: <br> \n",
    "1. $\\delta S_{3, i}(x)|_{x=x_i} = S_{3, i}(x_i) - f(x_i) = 0$<br>\n",
    "$\\delta S_{3, i}(x)|_{x=x_{i+1}} = S_{3, i}(x_{i+1}) - f(x_{i+1}) = 0$<br>\n",
    "\n",
    "2. $\\delta S_{3, i}''(x)|_{x=x_i} = S_{3, i}''(x_i) - f''(x_i) = 0$<br>\n",
    "$\\delta S_{3, i}''(x)|_{x=x_{i+1}} = S_{3, i}''(x_{i+1}) - f''(x_{i+1}) = 0$<br>\n",
    "\n",
    "The first conditions are functional and they are definite. While the second ones are differential and indefinite.\n",
    "\n",
    "\n",
    "\n",
    "\n",
    "\n",
    "\n"
   ]
  },
  {
   "cell_type": "markdown",
   "metadata": {},
   "source": [
    "### 3. Formulate stitching conditions [mathematical formula]"
   ]
  },
  {
   "cell_type": "markdown",
   "metadata": {},
   "source": [
    "Stitching condition for cubic spline:<br>\n",
    "$S_{3, i-1}'(x)|_{x=x_i} = S_{3, i}'(x)|_{x=x_i}$\n",
    "\n",
    "\n",
    "\n",
    "\n",
    "\n",
    "\n",
    "\n",
    "\n"
   ]
  },
  {
   "cell_type": "markdown",
   "metadata": {},
   "source": [
    "### 4. Justify why these conditions provide you with the required smoothness [thesis text, no more than 500 characters]"
   ]
  },
  {
   "cell_type": "markdown",
   "metadata": {},
   "source": [
    "With stitching conditions we can guarantee that function will be continous. While differential compatibility conditions guarantee the smoothnes of spline function. \n",
    "By these conditions we can guarantee smoothness only in nodes of a grid. However, as we use cubic polinomials to represent each spline, and each polinomial is smooth as it is infinitely differentiable, we can guarantee smoothness of the whole spline function.\n",
    "\n",
    "\n",
    "\n",
    "\n",
    "\n",
    "\n"
   ]
  },
  {
   "cell_type": "markdown",
   "metadata": {},
   "source": [
    "### 5. Derive dependency formula: the dependence of the second derivatives at the grid nodes on the increment of the function (the function values difference on the grid nodes). [Mathematical formulas derivation. Detailed, with clear transitions]"
   ]
  },
  {
   "cell_type": "markdown",
   "metadata": {},
   "source": [
    "Our task is to find polinomials:<br>\n",
    "$$S_{3, i}(x) = a_{0, i} + a_{1, i}(x - x_i) + a_{2, i}(x - x_i)^2 + a_{3, i}(x - x_i)^3$$<br>\n",
    "The second derivative of the polinomial is:<br>\n",
    "$$S_{3, i}''(x) = 2a_{2,i} + 6a_{3,i}x - 6a_{3,i}x_i$$<br>\n",
    "\n",
    "We can substitute this polynomial and it's second derivative into compatibility conditions. It will lead us to the system of 4 algebraic equations with unknown coefficients $a_{k,i} (k = 0,1,2,3)$ :<br>\n",
    "$$(1)\\qquad a_{0,i} + a_{1,i}(x_i-x_i) + a_{2,i}(x_i-x_i)^2 + a_{3,i}(x_i-x_i)^3 - f(x_i) = 0$$<br>\n",
    "$$(2)\\qquad a_{0,i} + a_{1,i}(x_{i+1}-x_{i}) + a_{2,i}(x_{i+1}-x_{i})^2 + a_{3,i}(x_{i+1}-x_{i})^3 - f(x_{i+1}) = 0$$<br>\n",
    "$$(3)\\qquad 2a_{2,i} + 6a_{3,i}x_i - 6a_{3,i}x_i - f''(x_i) = 0$$<br>\n",
    "$$(4)\\qquad 2a_{2,i} + 6a_{3,i}x_{i+1} - 6a_{3,i}x_{i} - f''(x_{i+1}) = 0$$<br>\n",
    "or equivalently:<br>\n",
    "$$(1)\\qquad a_{0,i} - f(x_i) = 0$$<br>\n",
    "$$(2)\\qquad a_{0,i} + a_{1,i}(x_{i+1}-x_{i}) + a_{2,i}(x_{i+1}-x_{i})^2 + a_{3,i}(x_{i+1}-x_{i})^3 - f(x_{i+1}) = 0$$<br>\n",
    "$$(3)\\qquad 2a_{2,i} - f''(x_i) = 0$$<br>\n",
    "$$(4)\\qquad 2a_{2,i} + 6a_{3,i}x_{i+1} - 6a_{3,i}x_{i} - f''(x_{i+1}) = 0$$<br>\n",
    "<br> Now, let's introduce some new variables:<br>\n",
    "$$f''(x_i) = m_i$$<br>\n",
    "$$\\Delta m_i = m_{i+1} - m_i,$$<br>\n",
    "$$f(x_i) = f_i$$<br>\n",
    "$$\\Delta f_i = f_{i+1} - f_i$$<br>\n",
    "$$h_{i+1} = x_{i+1} - x_i$$<br>\n",
    "<br>From (1) we get:<br>\n",
    "$$a_{0,i} = f_i$$<br>\n",
    "<br>From (3) we get:<br>\n",
    "$$a_{2,i} = \\frac{m_i}{2}$$<br>\n",
    "<br>Now we can substitute $a_{2,i}$ into (4). So, we have:<br>\n",
    "$$m_i + 6a_{3,i}x_{i+1} - 6a_{3,i}x_{i} - m_{i+1} = 0$$<br>\n",
    "$$6a_{3,i}(x_{i+1} - x_{i}) = m_{i+1} - m_i$$<br>\n",
    "$$6h_{i+1}a_{3,i} = \\Delta m_i$$<br>\n",
    "$$a_{3,i} = \\frac{\\Delta m_i}{6h_{i+1}}$$<br>\n",
    "<br> And, finally, we can derive $a_{1,i}$ from (3) by substituting values of $a_{0,i}$, $a_{2,i}$, $a_{3,i}$:<br>\n",
    "$$f_i + a_{1,i}(x_{i+1}-x_{i}) + \\frac{m_i}{2}(x_{i+1}-x_{i})^2 + \\frac{\\Delta m_i}{6h_{i+1}}(x_{i+1}-x_{i})^3 - f_{i+1} = 0$$<br>\n",
    "$$a_{1,i}h_{i+1} = f_{i+1} - f_{i} - \\frac{m_i}{2}h_{i+1}^2 - \\frac{\\Delta m_i}{6h_{i+1}}h_{i+1}^3$$<br>\n",
    "$$a_{1,i} = \\frac{1}{h_{i+1}}\\Delta f_i - \\frac{h_{i+1}}{2}m_i - \\frac{h_{i+1}}{6}\\Delta m_i$$<br>\n",
    "<br> And so we got for $S_{3, i}(x)$ that:<br>\n",
    "$$S_{3, i}(x) = f_i + (\\frac{1}{h_{i+1}}\\Delta f_i - \\frac{h_{i+1}}{2}m_i - \\frac{h_{i+1}}{6}\\Delta m_i)(x-x_i) + \\frac{m_i}{2}(x-x_i)^2 + \\frac{1}{6h_{i+1}}\\Delta m_i(x-x_i)^3$$<br>\n",
    "<br>We can derive the dependence of the second derivatives at the grid nodes on the increment of the function from the equality of the derivative of $S_{3, i-1}(x_i)$ to the derivative of $S_{3, i}(x_i)$:<br>\n",
    "$$S_{3, i-1}'(x_i) = S_{3, i}'(x_i)$$<br>\n",
    "$$\\frac{1}{h_i}\\Delta f_{i-1} - \\frac{h_i}{2}m_{i-1} - \\frac{h_i}{6}\\Delta m_{i-1} + m_{i-1}(x_i-x_{i-1}) + \\frac{1}{2h_i}\\Delta m_{i-1}(x_i-x_{i-1})^2= \\frac{1}{h_{i+1}}\\Delta f_i - \\frac{h_{i+1}}{2}m_i - \\frac{h_{i+1}}{6}\\Delta m_i + m_i(x_i-x_i) + \\frac{1}{2h_{i+1}}\\Delta m_i (x_i-x_i)^2$$<br>\n",
    "$$\\frac{h_{i+1}}{2}m_i + \\frac{h_{i+1}}{6}\\Delta m_i  - \\frac{h_i}{2}m_{i-1} - \\frac{h_i}{6}\\Delta m_{i-1} + m_{i-1}h_i + \\frac{h_i}{2}\\Delta m_{i-1} = \\frac{\\Delta f_i}{h_{i+1}} - \\frac{\\Delta f_{i-1}}{h_i}$$<br>\n",
    "$$\\frac{h_{i+1}}{2}m_i + \\frac{h_{i+1}}{6}(m_{i+1}-m_i) - \\frac{h_i}{2}m_{i-1} - \\frac{h_i}{6}(m_{i}-m_{i-1}) + m_{i-1}h_i + \\frac{h_i}{2}(m_{i}-m_{i-1}) = \\frac{\\Delta f_i}{h_{i+1}} - \\frac{\\Delta f_{i-1}}{h_i}$$<br>\n",
    "$$m_{i-1}(-\\frac{h_i}{2} + \\frac{h_i}{6} + h_i - \\frac{h_i}{2}) + m_i(\\frac{h_{i+1}}{2} - \\frac{h_{i+1}}{6} - \\frac{h_i}{6} + \\frac{h_i}{2}) + \\frac{h_{i+1}}{6}m_{i+1} = \\frac{\\Delta f_i}{h_{i+1}} - \\frac{\\Delta f_{i-1}}{h_i}$$<br>\n",
    "$$\\frac{h_i}{6}m_{i-1} + \\frac{h_i + h_{i+1}}{3}m_i + \\frac{h_{i+1}}{6}m_{i+1} = \\frac{\\Delta f_i}{h_{i+1}} - \\frac{\\Delta f_{i-1}}{h_i}$$<br>\n",
    "\n"
   ]
  },
  {
   "cell_type": "markdown",
   "metadata": {},
   "source": [
    "### 6. Create a system of equations using this formula [Matrix representation. Mathematical formulas]"
   ]
  },
  {
   "cell_type": "markdown",
   "metadata": {},
   "source": [
    "By spreading the dependency formula from the previous step on all inner nodes we can get system of equation. Let's write them in a matrix representation:\n",
    "\n",
    "\n",
    "$$\n",
    "\\begin{bmatrix}\n",
    "    \\frac{h_1+h_2}{3} & \\frac{h_2}{6}& 0 & \\dots &0     & 0 & \\frac{\\Delta f_1}{h_2} - \\frac{\\Delta f_0}{h_1} \\\\\n",
    "    \\frac{h_2}{6} & \\frac{h_2+h_3}{3} & \\frac{h_3}{6} &\\dots & 0 &0 &\\frac{\\Delta f_2}{h_3} - \\frac{\\Delta f_1}{h_2}\\\\\n",
    "    0 & \\frac{h_3}{6} & \\frac{h_3+h_4}{3} & \\dots & 0 & 0 & \\frac{\\Delta f_3}{h_4} - \\frac{\\Delta f_2}{h_3} \\\\\n",
    "    \\dots & \\dots & \\dots & \\dots & \\dots & \\dots & \\dots \\\\\n",
    "    0 & 0 & 0 & \\dots & \\frac{h_{n-1}}{6} & \\frac{h_{n-1}+h_n}{3} & \\frac{\\Delta f_{n-1}}{h_n} - \\frac{\\Delta f_{n-2}}{h_{n-1}}\n",
    "\\end{bmatrix}$$\n",
    "\n",
    "\n",
    "\n",
    "\n",
    "\n",
    "\n",
    "\n",
    "\n"
   ]
  },
  {
   "cell_type": "markdown",
   "metadata": {},
   "source": [
    "### 7. Explain what is an unknown variable in this system. whether the system is closed with respect to an unknown variable. What is missing for closure. [Text, no more than 200 characters]"
   ]
  },
  {
   "cell_type": "markdown",
   "metadata": {},
   "source": [
    "The system is not closed with respect to $m_i$, because we are lack of 2 equations. We need equations for $m_0$ and $m_n$. There are several methods how we can solve this. In the simplest case we can just assume that the second derivations on the ends equal to 0. So we have: $$m_0 = 0; m_n = 0$$\n",
    "These conditions are called conditions of natural spline.\n",
    "\n",
    "\n",
    "\n",
    "\n",
    "\n",
    "\n",
    "\n",
    "\n"
   ]
  },
  {
   "cell_type": "markdown",
   "metadata": {},
   "source": [
    "### 8. Bring this matrix to the appropriate form to use the Tridiagonal matrix algorithm [Mathematical derivation. Use Gauss Elimination]"
   ]
  },
  {
   "cell_type": "markdown",
   "metadata": {},
   "source": [
    "We can bring the matrix to the apptopriate form by using Gauss Elimenation:<br>\n",
    "First, let's divide the first row by $\\frac{h_1+h_2}{3}$<br>\n",
    "Resulted matrix is:<br>\n",
    "\n",
    "\n",
    "$$\n",
    "\\begin{bmatrix}\n",
    "    1 & \\frac{h_2}{2(h_1+h_2)} & 0 & \\dots & 0 & 0 & (\\frac{\\Delta f_1}{h_2} - \\frac{\\Delta f_0}{h_1})\\frac{3}{h_1+h_2}\\\\\n",
    "    \\frac{h_2}{6} & \\frac{h_2+h_3}{3} & \\frac{h_3}{6} &\\dots & 0 &0 &\\frac{\\Delta f_2}{h_3} - \\frac{\\Delta f_1}{h_2}\\\\\n",
    "    0 & \\frac{h_3}{6} & \\frac{h_3+h_4}{3} & \\dots & 0 & 0 & \\frac{\\Delta f_3}{h_4} - \\frac{\\Delta f_2}{h_3} \\\\\n",
    "    \\dots & \\dots & \\dots & \\dots & \\dots & \\dots & \\dots \\\\\n",
    "    0 & 0 & 0 & \\dots & \\frac{h_{n-1}}{6} & \\frac{h_{n-1}+h_n}{3} & \\frac{\\Delta f_{n-1}}{h_n} - \\frac{\\Delta f_{n-2}}{h_{n-1}}\n",
    "\\end{bmatrix}\n",
    "$$<br>\n",
    "Next, we should subtract the first row multiplied by $\\frac{h_2}{6}$ from the second row:<br>\n",
    "Resulted matrix:<br>\n",
    "\n",
    "\n",
    "$$\n",
    "\\begin{bmatrix}\n",
    "    1 & \\frac{h_2}{2(h_1+h_2)} & 0 & \\dots & 0 & 0 & (\\frac{\\Delta f_1}{h_2} - \\frac{\\Delta f_0}{h_1})\\frac{3}{h_1+h_2}\\\\\n",
    "    0 & \\frac{-h_2^2 + 4(h_1+h_2)(h_2+h_3)}{12(h_1+h_2)} & \\frac{h_3}{6} & \\dots & 0 & 0 & \\frac{2(\\Delta f_2 h_2 - \\Delta f_1 h_3)h_1(h_1+h_2) - (\\Delta f_1 h_1 - \\Delta f_0 h_2)h_2 h_3}{2 h_1 h_2 h_3 (h_1 + h_2)}\\\\\n",
    "    0 & \\frac{h_3}{6} & \\frac{h_3+h_4}{3} & \\dots & 0 & 0 & \\frac{\\Delta f_3}{h_4} - \\frac{\\Delta f_2}{h_3} \\\\\n",
    "    \\dots & \\dots & \\dots & \\dots & \\dots & \\dots & \\dots \\\\\n",
    "    0 & 0 & 0 & \\dots & \\frac{h_{n-1}}{6} & \\frac{h_{n-1}+h_n}{3} & \\frac{\\Delta f_{n-1}}{h_n} - \\frac{\\Delta f_{n-2}}{h_{n-1}}\n",
    "\\end{bmatrix}\n",
    "$$<br>\n",
    "And then we should repeat previous steps for each row of the matrix.<br>\n",
    "And after performing these operations on other rows, we get following structure of matrix:<br>\n",
    "\n",
    "\n",
    "$$\n",
    "\\begin{bmatrix}\n",
    "    1     & -P_1  & 0     & 0     & \\dots & Q_1   \\\\\n",
    "    0     & 1     & -P_2  & 0     & \\dots & Q_2   \\\\\n",
    "    0     & 0     & 1     & -P_3  & \\dots & Q_3   \\\\\n",
    "    \\dots & \\dots & \\dots & \\dots & \\dots & \\dots \\\\\n",
    "    0     & 0     & 0     & 1     & \\dots & Q_n   \\\\\n",
    "\\end{bmatrix}$$<br>\n",
    "$P_i$ and $Q_i$ have recurrent formulas and can be computed by direct and reverse passes.\n",
    "\n",
    "\n",
    "\n",
    "\n",
    "\n",
    "\n",
    "\n"
   ]
  },
  {
   "cell_type": "markdown",
   "metadata": {},
   "source": [
    "### 9. Derive formulas of direct pass and reverse pass of Tridiagonal matrix algorithm [Mathematical formals]"
   ]
  },
  {
   "cell_type": "markdown",
   "metadata": {},
   "source": [
    "Forward (direct) pass:<br>\n",
    "$$P_i = \\frac{\\gamma_i}{\\beta_i - \\alpha_i P_{i-1}}, P_1 = \\frac{\\gamma_1}{\\beta_1}$$\n",
    "$$Q_i = \\frac{\\alpha_i Q_{i-1} - \\delta_i}{\\beta_i - \\alpha_i P_{i-1}}, Q_1 = -\\frac{\\delta_1}{\\beta_1}$$\n",
    "Backward (reverse) pass:<br>\n",
    "$$x_i = P_i x_{i+1} + Q_i,\\ i =\\overline {1, n-1}$$\n",
    "$$x_n = \\frac{\\alpha_n Q_{n-1} - \\delta_n}{\\beta_n - \\alpha_n P_{n-1}}$$\n",
    "\n",
    "<br>$\\alpha_i, \\beta_i, \\gamma_i, \\delta_i$ we can get from the initial tridiagonal matrix:\n",
    "$$\n",
    "\\begin{bmatrix}\n",
    "    -\\beta_1  & \\gamma_1     & 0   & 0  & \\dots  & 0  & 0 & \\delta_1   \\\\\n",
    "    \\alpha_2     & -\\beta_2     & \\gamma_2  & 0     & \\dots & 0  & 0 & \\delta_2   \\\\\n",
    "    0     & \\alpha_3     & -\\beta_3     & \\gamma_3  & \\dots & 0  & 0 & \\delta_3   \\\\\n",
    "    \\dots & \\dots & \\dots & \\dots & \\dots & \\dots & \\dots & \\dots\\\\\n",
    "    0     & 0     & \\dots & \\dots & \\dots & \\alpha_n     & -\\beta_n  & \\delta_n  \\\\\n",
    "\\end{bmatrix}$$<br>\n",
    "\n",
    "\n",
    "\n",
    "\n",
    "\n",
    "\n",
    "\n",
    "\n",
    "\n",
    "\n"
   ]
  },
  {
   "cell_type": "markdown",
   "metadata": {},
   "source": [
    "### 10. Implement code prototype of the future algorithm implementation. Classes/methods (if you use OOP), functions. The final implementation (on language chosen by you) should not differ from the functions declared in the prototype. [Python code]"
   ]
  },
  {
   "cell_type": "code",
   "execution_count": null,
   "metadata": {},
   "outputs": [],
   "source": [
    "def forward_pass(alpha, beta, gamma, delta):\n",
    "    '''\n",
    "    This method is used to implement forward pass of Tridiagonal matrix algorithm\n",
    "    '''\n",
    "    pass\n",
    "\n",
    "def backward_pass(alpha, beta, delta, p, q):\n",
    "    '''\n",
    "    This method is used to implement backward pass of Tridiagonal matrix algorithm\n",
    "    '''\n",
    "    pass\n",
    "\n",
    "\n",
    "\n",
    "\n",
    "\n",
    "\n",
    "\n",
    "\n"
   ]
  },
  {
   "cell_type": "markdown",
   "metadata": {},
   "source": [
    "### 11. Derive formula of Cubic Spline method error [Mathematical formulas]"
   ]
  },
  {
   "cell_type": "markdown",
   "metadata": {},
   "source": [
    "The formula of cubic spline error is:\n",
    "$$\\parallel f^{(p)}(x) - S_3^{(p)}(x)\\parallel_{C[a,b]} = \\underset{[a,b]}{max}|f^{(p)}(x) - S_3^{(p)}(x)| \\leqslant M_4 h^{4-p}, \\  \\ p = 0,1,2$$\n",
    "<br>But this is proved only for continuous functions such that $f(x) \\in C_4[a,b]$, but we don't know $f(x)$, we cannot guarantee that it is 4 times differentiable and so we can't say anything about the error of the method in this case.\n",
    "\n",
    "\n",
    "\n",
    "\n",
    "\n",
    "\n",
    "\n"
   ]
  },
  {
   "cell_type": "markdown",
   "metadata": {},
   "source": [
    "### 12. Rate the complexity of the algorithm [Text, and rate in terms of big O, no more than 100 characters]"
   ]
  },
  {
   "cell_type": "markdown",
   "metadata": {},
   "source": [
    "Complexity of forward (direct) pass is $O(n)$<br>\n",
    "Complexity of backward (reverse) pass is  $O(n)$<br>\n",
    "So, in total we are getting complexity of the algorithm: $O(2n) = O(n)$\n",
    "\n",
    "\n",
    "\n",
    "\n",
    "\n",
    "\n",
    "\n",
    "\n"
   ]
  },
  {
   "cell_type": "markdown",
   "metadata": {},
   "source": [
    "### Congrats!"
   ]
  }
 ],
 "metadata": {
  "kernelspec": {
   "display_name": "Python 3",
   "language": "python",
   "name": "python3"
  },
  "language_info": {
   "codemirror_mode": {
    "name": "ipython",
    "version": 3
   },
   "file_extension": ".py",
   "mimetype": "text/x-python",
   "name": "python",
   "nbconvert_exporter": "python",
   "pygments_lexer": "ipython3",
   "version": "3.7.1"
  }
 },
 "nbformat": 4,
 "nbformat_minor": 2
}
