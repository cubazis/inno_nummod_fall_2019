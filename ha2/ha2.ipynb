{
 "cells": [
  {
   "cell_type": "code",
   "execution_count": 1,
   "metadata": {},
   "outputs": [],
   "source": [
    "import sympy as sp\n",
    "import numpy as np\n",
    "import matplotlib.pyplot as plt\n",
    "%matplotlib inline"
   ]
  },
  {
   "cell_type": "markdown",
   "metadata": {},
   "source": [
    "### 1. Formulate the statement of the interpolation problem with Cubic Spline [mathematical formula]"
   ]
  },
  {
   "cell_type": "markdown",
   "metadata": {},
   "source": [
    "\n",
    "Problem of interpolation:\n",
    "Having grid function (data points) we can't get values of intermediate points as well as first and second derivatives\\newline at data point.\n",
    "Completition of values is a problem of interpolartion. We address problem of piecewise-global interpolation as global interpolation is not commonly used.\n",
    "Derivatives of linear and quadrtatic interpolation suffers braking at junctions. In order to avoid it we should approximate both function and its derivatives.\n",
    "The requirement is the continuity of:  $ S_m,  \\: S_m' \\: and \\: S_m''\\: at \\: x \\: \\epsilon \\: [a,b].$\n",
    "\n",
    "Problem:\n",
    "\n",
    "$ y_i = f_i(x)$\n",
    "\n",
    "$ i = 0,n $\n",
    "\n",
    "$x_i \\: \\epsilon \\: [a,b]$\n",
    "\n",
    "$ \\text{Deffect } q = 1$\n",
    "\n",
    "$ \\text{Find coefficients } a_0...a_3 \\text{ for polynom:}$\n",
    "\n",
    "$ S_{3,i}(x) = a_{0,i} + a_{1,i}(x-x_i) + a_{2,i}(x-x_i)^2 + a_{3,i}(x-x_i)^3 $\n"
   ]
  },
  {
   "cell_type": "markdown",
   "metadata": {},
   "source": [
    "### 2. Formulate the functional and differential compatibility conditions [mathematical formula]"
   ]
  },
  {
   "cell_type": "markdown",
   "metadata": {},
   "source": [
    "\n",
    "Given polynomial: $ S_{3,i}(x) = a_{0,i}+a_{1,i}(x-x_{i})+a_{2,i}(x-x_{i})^{2}+a_{3,i}(x-x_{i})^{3} $\n",
    "\n",
    "Which is the $i$'s spline component, we choose 2 functional conditions: \n",
    "\n",
    "$\\delta S_{3,i}(x)|_{x=x_i} = S_{3,i}(x_{i})-f(x_i)=0$, \n",
    "\n",
    "$\\delta S_{3,i}(x)|_{x=x_{i+1}} = S_{3,i}(x_{i+1})-f(x_{i+1})=0$ \n",
    "\n",
    "$\\text{and 2 differential conditions:} $\n",
    "\n",
    "$\\delta S^{''}_{3,i}(x)|_{x=x_i} = S^{''}_{3,i}(x_{i})-f^{''}(x_i)=0,$ \n",
    "\n",
    "$\\delta S^{''}_{3,i}(x)|_{x=x_{i+1}} = S^{''}_{3,i}(x_{i+1})-f^{''}(x_{i+1})=0 $\n",
    "\n",
    "\n",
    "\n",
    "\n",
    "\n",
    "\n",
    "\n"
   ]
  },
  {
   "cell_type": "markdown",
   "metadata": {},
   "source": [
    "### 3. Formulate stitching conditions [mathematical formula]"
   ]
  },
  {
   "cell_type": "markdown",
   "metadata": {},
   "source": [
    "\n",
    "Stitching condition for spline $ S_{m}(x)\\: \\text{where: i-1 is from }\\: [x_{i-1}, x_i]\\:$ and i is defined on $ [x_{i}, x_{i+1}]$\n",
    "\n",
    "$ S^{(p)}_{m,i-1}(x)|_{x=x_i}=S^{(p)}_{m,i}(x)|_{x=x_i} $\n",
    "\n",
    "\n",
    "\n",
    "\n"
   ]
  },
  {
   "cell_type": "markdown",
   "metadata": {},
   "source": [
    "### 4. Justify why these conditions provide you with the required smoothness [thesis text, no more than 500 characters]"
   ]
  },
  {
   "cell_type": "markdown",
   "metadata": {},
   "source": [
    "Functional conditions are nessessary for interpolation problem solving.\n",
    " (Interpolation function should be equal to grid function in points defined in the grid\n",
    " Differential conditions provide continuity of the spline.\n",
    " Solving system of equations for these conditions give us ability to define polinome\n",
    " for one particular spline. \n",
    " To make the whole function on [a,b] smooth we need to make smooth stitching of the splines. \n",
    " The stiching conditions is responsible for that. \n",
    "\n",
    "\n",
    "\n",
    "\n",
    "\n",
    "\n"
   ]
  },
  {
   "cell_type": "markdown",
   "metadata": {},
   "source": [
    "### 5. Derive dependency formula: the dependence of the second derivatives at the grid nodes on the increment of the function (the function values difference on the grid nodes). [Mathematical formulas derivation. Detailed, with clear transitions]"
   ]
  },
  {
   "cell_type": "markdown",
   "metadata": {},
   "source": [
    "Start point:\n",
    "\n",
    "$ S_{3,i}(x) = a_{0,i} + a_{1,i}(x-x_i) + a_{2,i}(x-x_i)^2 + a_{3,i}(x-x_i)^3 $\n",
    "\n",
    "$ S_{3,i}'(x)= a_{1,i} + 2a_{2,i}(x-x_i) + 3a_{3,i}(x-x_i)^2 $\n",
    "\n",
    "$ S_{3,i}''(x)= 2a_{2,i} + 6a_{3,i}(x-x_i) $ \n",
    "\n",
    "$\\text{Differential compatibility conditions:}\\: y'' = y_1''\\: at\\: x = x_1\\: and \\:y'' = y_2'' \\:at\\: x = x_2$\n",
    "\n",
    "$ S_{3,1}''(x_1)= 2a_{2,1} + 6a_{3,1}(x_1-x_1) = 2a_{2,1} $\n",
    "\n",
    "$ S_{3,2}''(x_2)= S_{3,1}''(x_1) + 6a_{3,1}(x_2-x_1)$\n",
    "\n",
    "$ a_{3,i} = \\frac{(S_{3,2}''(x)- S_{3,1}''(x))}{6(x_2-x_1)} $ \n",
    "\n",
    "$\\text{ Resulting in the following equation for 2d derivative:}$\n",
    "\n",
    "$ S_{3,1}''(x)= S_{3,1}''(x) + \\frac{(S_{3,2}''(x)- S_{3,1}''(x))(x-x_1)}{x_2 - x_1} $\n",
    "\n",
    "$\\text{Functional compatibility conditions:}\\: y_1 = S(x1) and y_2 = S(x_2)$\n",
    "\n",
    "$ S_{3,1}(x_1) = a_{0,1} + a_{1,1}(x_1-x_1) + a_{2,1}(x_1-x_1)^2 + a_{3,i}(x_1-x_1)^3 = a_{0,1} $\n",
    "\n",
    "$ S_{3,2}(x_2) = S_{3,1}(x_1) + a_{1,1}(x_2-x_1) + \\frac{S_{3,1}''(x_1)(x_2-x_1)^2}{2} + \\frac{(S_{3,2}''(x_2)- S_{3,1}''(x_1))}{6(x_2-x_1)}(x_2-x_1)^3 $\n",
    "\n",
    "$ S_{3,2}(x_2) - S_{3,1}(x_1) =  a_{1,1}(x_2-x_1) + \\frac{S_{3,1}''(x_1)(x_2-x_1)^2}{2} - \\frac{S_{3,1}''(x_1)(x_2-x_1)^2}{6}+ \\frac{S_{3,2}''(x_2)(x_2-x_1)^2}{6} $\n",
    "\n",
    "$ a_{1,1} = \\frac{S_{3,2}(x_2) - S_{3,1}(x_1)}{(x_2-x_1)}-\\frac{S_{3,2}''(x_2)(x_2-x_1)^2}{6} - \\frac{S_{3,1}''(x_1)(x_2-x_1)}{3} $\n",
    "\n",
    "$\\text{Stitching compatibility conditions:}\\: y_2'\\:in spline \\: 1  \\: must equal \\:y_2'\\: in spline  \\:2$\n",
    "\n",
    "$  a_{1,1} + 2a_{2,1}(x_2-x_1) + 3a_{3,1}(x_2-x_1)^2 = a_{1,2} + 2a_{2,2}(x_2-x_2) + 3a_{3,2}(x_2-x_2)^2 $ \n",
    "\n",
    "$  a_{1,1} + 2a_{2,1}(x_2-x_1) + 3a_{3,1}(x_2-x_1)^2 = a_{1,2} $ --------- ref_formula_1\n",
    "\n",
    "$\\text{Calculate previous steps for nex spline (2). We need it for calculating a1,2 and will need it in future for calculting next interval.}$\n",
    "\n",
    "$ h_1 = (x_2-x_1)$\n",
    "\n",
    "$ h_2 = (x_3-x_2)$\n",
    "\n",
    "$\\text{As we got {a} parameters in previous steps, put them inside the ref_formula_1 and get the final equation.}$\n",
    "\n",
    "$ \\frac{h_1(S_{3,2}''(x_2)- S_{3,1}''(x_1))}{2} + S_{3,1}''(x_1)h_1 +  \\frac{(S_{3,2}(x_2)- S_{3,1}(x_1))}{h_1} - \\frac{S_{3,2}''(x_2)h_1}{6}- \\frac{S_{3,1}''(x_1)h_1}{3} = \\frac{S_{3,3}(x_3)- S_{3,2}''(x_2)}{h_2} - \\frac{S_{3,3}''(x_3)h_2}{6}- \\frac{S_{3,2}''(x_2)h_2}{3}$\n",
    "\n",
    "$\\text{Simplification of the equation above lead us to the formula:}$\n",
    "\n",
    "$S_{3,1}''(x_1)h_1 + 2(h_1+h_2)S_{3,2}''(x_2) + S_{3,3}''(x_3)h_2 = 6\\left[\\frac{(S_{3,3}(x_3)-S_{3,2}(x_2))}{h_2} - \\frac{(S_{3,2}(x_2)-S_{3,1}(x_1))}{h_1}\\right]$\n",
    "\n",
    "$ \\text{Generalize equation:}$\n",
    "\n",
    "$x_1 -> x_i$\n",
    "\n",
    "$x_2 -> x_{i+1}$\n",
    "\n",
    "$x_3 -> x_{i+2}$\n",
    "\n",
    "$h_i = (x_{i+1}-x_i)$\n",
    "\n",
    "$h_{i+1} = (x_{i+2}-x_{i+1})$\n",
    "\n",
    "$S_{3,i}''(x_i)h_i + 2(h_i+h_{i+1})S_{3,i+1}''(x_{i+1}) + S_{3,i+2}''(x_{i+2})h_{i+1} = 6\\left[\\frac{(S_{3,i+2}(x_{i+2})-S_{3,i+1}(x_{i+1}))}{h_{i+1}} - \\frac{(S_{3,i+1}(x_{i+1})-S_{3,i}(x_i))}{h_i}\\right]$"
   ]
  },
  {
   "cell_type": "markdown",
   "metadata": {},
   "source": [
    "### 6. Create a system of equations using this formula [Matrix representation. Mathematical formulas]"
   ]
  },
  {
   "cell_type": "markdown",
   "metadata": {},
   "source": [
    "\n",
    "$ h_1S^{''}_{1}+2(h_1+h_2)S^{''}_2+h_{2}S^{''}_{3}=6*[(S_3-S_2)/h_2-(S_2-S_1)/h_1] $\n",
    "\n",
    "$ h_2S^{''}_{2}+2(h_2+h_3)S^{''}_3+h_{3}S^{''}_{4}=6*[(S_4-S_3)/h_3-(S_3-S_2)/h_2] $\n",
    "\n",
    "$ ........................................................... $\n",
    "\n",
    "$ h_{n-2}S^{''}_{n-2}+2(h_{n-2}+h_{n-1})S^{''}_{n-1}+h_{n}S^{''}_{n}=6*[(S_n-S_{n-1})/h_{S-1}-(S_{n-1}-S_{n-2})/h_{n-2}] $\n",
    "\n",
    "\n",
    "\n",
    "$$ \\text{Making tridiagonal matrix from this linear system:} $$\n",
    "\n",
    "\n",
    "$\\text{A:} \\left[\\begin{matrix} ? &  \\\\ h_1 & 2(h_1+h_2) & h_2 \\\\ & h_2 & 2(h_2+h_3) & h_3 & ... \\\\ & & & ...& \\\\ & & & & h_{n-2} & 2(h_{n-2}+h_{n-1}) & h_{n-1} \\\\ & & & & & & ? \\end{matrix} \\right] \n",
    "\\text{X: } \\left[\\begin{matrix} S^{''}_{1} \\\\ S^{''}_2 \\\\ : \\\\ : \\\\ S^{''}_{n-1} \\\\ S^{''}_{n}\\end{matrix} \\right] = \n",
    "\\text{b: } \\left[\\begin{matrix} ? \\\\ (S_3-S_2)/h_2-(S_2-S_1)/h_1 \\\\ : \\\\ : \\\\ (S_n-S_{n-1})/h_{n-1}-(S_{n-1}-S_{n-2})/h_{n-2} \\\\ ?\\end{matrix} \\right]$\n",
    "\n",
    "\n",
    "\n",
    "\n",
    "\n",
    "\n"
   ]
  },
  {
   "cell_type": "markdown",
   "metadata": {},
   "source": [
    "### 7. Explain what is an unknown variable in this system. whether the system is closed with respect to an unknown variable. What is missing for closure. [Text, no more than 200 characters]"
   ]
  },
  {
   "cell_type": "markdown",
   "metadata": {},
   "source": [
    "The unknown variable is a vector of second order derivatives X.\n",
    "Solving this equation will allow us to finish calculation of all parameters {a}. \n",
    "Unfortunately:(, the system is not closed with respect to X and that is not the end of suffering. \n",
    "It is not closed because for each point $i$ we also use points $i-1$ and $i+1$ and \n",
    "on the borders i=0 and i=n we dont have i-1 and i+1 respectively.\n",
    "To close the system we define bounds (simplest approach make equations {b} equal zero).\n",
    "\n",
    "\n",
    "\n",
    "\n",
    "\n",
    "\n"
   ]
  },
  {
   "cell_type": "markdown",
   "metadata": {},
   "source": [
    "### 8. Bring this matrix to the appropriate form to use the Tridiagonal matrix algorithm [Mathematical derivation. Use Gauss Elimination]"
   ]
  },
  {
   "cell_type": "markdown",
   "metadata": {},
   "source": [
    "\n",
    "$ \\text{Using Gauss elimination on tridiagonal matrix we will get:} $\n",
    "\n",
    "$$ \\text{A:} \\left[\\begin{matrix} 0 & 0 & 0 & 0 & &&& 0\\\\ 0 & 1 & -P_1 & 0 & & & & Q_1 \\\\ 0 & 0 & 1 & -P_2 &... & & & Q_2\\\\ & & & ... & ... \\\\ & & & & ... & 1 & ... & Q_n\\\\ 0 & 0 & 0 & 0 & 0 & 0 & 0 &0 \\end{matrix} \\right] \\\\ $$\n",
    "\n",
    "$ \\text{Where:} P_i=\\frac{y_i}{(\\beta_i-a_iP_{i-1})} \\text{ and } Q_i=\\frac{a_iQ_{i-1}-\\delta_i}{\\beta_i-a_iP_{i-1}},$\n",
    "\n",
    "$a_i=h_{i},$\n",
    "\n",
    "$\\beta_i=2(h_{i}+h_{i+1}), y_{i}=h_{i+1},$\n",
    "\n",
    "$\\delta_i=6[(S_{i+2}-S_{i+1})/h_{i+1} + (S_{i+1}-S_{i})/h_{i}] $\n",
    "\n",
    "$\\text{Lets's calculate it for } P_1 \\text{ and } Q_1 \\text{:} $\n",
    "\n",
    "$ P_1 = \\frac{y_1}{\\beta_1-a_1P_0} = [P_0=0] = \\frac{y_1}{\\beta_1} = \\frac{h_2}{2(h_1+h_2)} $\n",
    "\n",
    "$ Q_1 = \\frac{a_1Q_0-\\delta_1}{\\beta_1-a_1P_0} = [P_0=0, Q_0=0] = \\frac{-\\delta_1}{\\beta_1} = \\frac{-6(\\frac{S_3-S_2}{h_2}+\\frac{S_2-S_1}{h_1})}{2(h_1+h_2)}$\n",
    "\n",
    "$ \\text{All other coefficients are calculated in the same manner} $\n",
    "\n",
    "\n",
    "\n",
    "\n",
    "\n",
    "\n"
   ]
  },
  {
   "cell_type": "markdown",
   "metadata": {},
   "source": [
    "### 9. Derive formulas of direct pass and reverse pass of Tridiagonal matrix algorithm [Mathematical formals]"
   ]
  },
  {
   "cell_type": "markdown",
   "metadata": {},
   "source": [
    "$$ \\text{FORWARD PASS}$$\n",
    "$ \\text{Suppose we have initial system of linear equations: } $\n",
    "\n",
    "$ a_ix_{i-1}-b_ix_i+y_ix_{i+1}=\\delta_i, \\text{where } a_1=y_n=0, i=1:n $\n",
    "\n",
    "$ \\text{And corresponding matrix A:} $\n",
    "\n",
    "$ \\text{A:} \\left[\\begin{matrix} -\\beta_1 & y_1 & 0 & 0 & & 0 & 0 & \\delta_1\\\\ a_2 & -\\beta_2 & y_2 & 0 & & 0 & 0 & \\delta_2 \\\\ 0 & a_3 & -\\beta_3 & y_3 &... & 0 & 0 & \\delta_3 \\\\ & & & ... & ... \\\\ 0 & 0 & & & ... & a_n & -\\beta_n & \\delta_n \\\\\\end{matrix} \\right] \\\\ $\n",
    "\n",
    "$ \\text{First and last equations can be regarded as bounding conditions. '-' sign before } \\delta_i \\text{ is for pretty formulas} $\n",
    "\n",
    "$ \\text{We need to find the solution: } x = (x_1, ..., x_n)^T$\n",
    "\n",
    "$ \\text{Let's use Gauss elimination on this matrix(as in previous question:) } $\n",
    "\n",
    "$ \\text{A*:} \\left[\\begin{matrix} 0 & 0 & 0 & 0 & &&& 0\\\\ 0 & 1 & -P_1 & 0 & & & & Q_1 \\\\ 0 & 0 & 1 & -P_2 &... & & & Q_2\\\\ & & & ... & ... \\\\ & & & & ... & 1 & ... & Q_n\\\\ 0 & 0 & 0 & 0 & 0 & 0 & 0 &0 \\end{matrix} \\right]  $\n",
    "\n",
    "$ \\text{Multiplying A* by x we get the reccurent equation:} x_i=P_ix_{i+1}+Q_i, \\text{where: i=1:n-1}$\n",
    "\n",
    "$ \\text{Rewriting it for index i-1:} x_i = P_{i-1}x_i+Q_{i-1}$\n",
    "\n",
    "$ \\text{Subsitute to initial system: } a_i(P_{i-1}x_i+Q_{i-1})-B_ix_i+y_ix_{i+1}=\\delta_i $\n",
    "\n",
    "$ \\text{Derive: } P_i, Q_i $\n",
    "\n",
    "$ P_i=\\frac{y_1}{\\beta_i-a_iP_{i-1}}, \\: Q_i=\\frac{a_iQ_{i-1}-\\delta_i}{\\beta_i-a_iP_{i-1}} $\n",
    "\n",
    "$$\\text{ REVERSE PASS}$$\n",
    "\n",
    "$\\text{Having recurrent formula: } x_i = P_ix_{i+1} + Q_i$\n",
    "\n",
    "$\\text{Having initial formula: } a_ix_{i-1}-b_ix_i+y_ix_{i+1}=\\delta_i, \\text{where } a_1=y_n=0, i=1:n $\n",
    "\n",
    "$ \\text{We calculate } x_n: $\n",
    "\n",
    "$x_{n-1} = P_{n-1}x_n + Q_{n-1} $\n",
    "\n",
    "$a_nx_{n-1} - \\beta_nx_n = \\delta_n $\n",
    "\n",
    "$x_n = \\frac{a_nQ_{n-1} - \\delta_n}{\\delta_n - \\alpha_nP_{n-1}} = Q_n $\n",
    "\n",
    "$ x_n = Q_n$\n",
    "$ \\text{Because: } Q_i = \\frac{\\alpha_iQ_{i-1} - \\delta_i}{\\beta_i-\\alpha_iP_{i-1}}$\n",
    "\n",
    "$ \\text{Putting result into recurrent formula calculate values of each x in vector X.}$\n",
    "\n",
    "$\\text{The end}$\n"
   ]
  },
  {
   "cell_type": "markdown",
   "metadata": {},
   "source": [
    "### 10. Implement code prototype of the future algorithm implementation. Classes/methods (if you use OOP), functions. The final implementation (on language chosen by you) should not differ from the functions declared in the prototype. [Python code]"
   ]
  },
  {
   "cell_type": "code",
   "execution_count": null,
   "metadata": {},
   "outputs": [],
   "source": [
    "\n",
    "A  # Initial Tridiagonal matrix\n",
    "b # Right solution vector\n",
    "n # Grid length\n",
    "\n",
    "def forward_backward_pass(A, b, n):\n",
    "    return x\n",
    "\n",
    "def make_spline_coefficients(x, f, n):\n",
    "    return coefficients\n",
    "\n",
    "def main():\n",
    "    # Read input\n",
    "    x = forward_backward_pass\n",
    "    coefficients = make_spline_coefficients\n",
    "    # Interpolate each segment of grid\n"
   ]
  },
  {
   "cell_type": "markdown",
   "metadata": {},
   "source": [
    "### 11. Derive formula of Cubic Spline method error [Mathematical formulas]"
   ]
  },
  {
   "cell_type": "markdown",
   "metadata": {},
   "source": [
    "Let the function $y = f(x)$ have a fourth-order continuous derivative on the interval $[a, b]$ and $M_4 = max_{[a, b]}|f^{(4)}(x)|$.\n",
    "$$ \\\\ $$\n",
    "Then, for cubic spline $S_3(x)$, satisfying the boundary conditions, the following error estimate holds: $max_{[a, b]}|f^{(p)}(x) - S_3^{(p)}(x)| ≤ С_pM_4h_{max}^{4 - p}, p=[1,2,3], h_{max} = max_{1 ≤ i ≤ n}h_i$\n",
    "\n",
    "\n",
    "\n",
    "\n",
    "\n",
    "\n"
   ]
  },
  {
   "cell_type": "markdown",
   "metadata": {},
   "source": [
    "### 12. Rate the complexity of the algorithm [Text, and rate in terms of big O, no more than 100 characters]"
   ]
  },
  {
   "cell_type": "markdown",
   "metadata": {},
   "source": [
    "\n",
    "Forward pass complexity: $O(n)$\n",
    "\n",
    "Backward pass complexity: $O(n)$\n",
    "\n",
    "Result: $O(n) = O(n)+O(n)$\n",
    "\n",
    "\n",
    "\n",
    "\n",
    "\n",
    "\n",
    "\n"
   ]
  },
  {
   "cell_type": "markdown",
   "metadata": {},
   "source": [
    "### Congrats!"
   ]
  }
 ],
 "metadata": {
  "kernelspec": {
   "display_name": "Python 3",
   "language": "python",
   "name": "python3"
  },
  "language_info": {
   "codemirror_mode": {
    "name": "ipython",
    "version": 3
   },
   "file_extension": ".py",
   "mimetype": "text/x-python",
   "name": "python",
   "nbconvert_exporter": "python",
   "pygments_lexer": "ipython3",
   "version": "3.7.3"
  }
 },
 "nbformat": 4,
 "nbformat_minor": 2
}
