{
 "cells": [
  {
   "cell_type": "code",
   "execution_count": 172,
   "metadata": {},
   "outputs": [],
   "source": [
    "import sympy as sp\n",
    "import numpy as np\n",
    "import matplotlib.pyplot as plt\n",
    "from IPython.display import display, Markdown\n"
   ]
  },
  {
   "cell_type": "markdown",
   "metadata": {},
   "source": [
    "### 1. Formulate the statement of the interpolation problem with Cubic Spline [mathematical formula]"
   ]
  },
  {
   "cell_type": "code",
   "execution_count": 173,
   "metadata": {},
   "outputs": [],
   "source": [
    "#RUN TO PLOT\n",
    "from scipy.interpolate import interp1d\n",
    "\n",
    "x = np.linspace(0, 10, num=11, endpoint=True)\n",
    "y = np.cos(-x**2/9.0)\n",
    "\n",
    "xnew = np.linspace(0, 10, num=41, endpoint=True)\n",
    "f = interp1d(x, y, kind='cubic')\n",
    "\n",
    "plt.plot(x, y, 'o', xnew, f(xnew), '-')\n",
    "plt.legend(['data', 'cubic'], loc='best')\n",
    "plt.show()\n"
   ]
  },
  {
   "cell_type": "markdown",
   "metadata": {},
   "source": [
    "### Abstract on Splines\n",
    "On the segment $[a, b]$ there are $n$ points $x_1,x_2,...,x_N$ which are called interpolation nodes, and the value of some function $y = f(x)$ at these points: $f(x_1) = y_1, f(x_2) = y_2,..., f(x_N ) = y_N$. We need to construct a function $(x)$ (interpolating function), which coincides with $(x)$ in the interpolation nodes and approximates it between them that is,such that $(x_1)=y_1, F(x_2)=y_2,..., F(x_N)=y_N$. The geometric interpretation of the interpolation problem is to find a curve $y=F(x)$ of a certain type that passes through a given system of points $(x_i, y_i)$ where $(i = 1, 2,. . . , N)$.\n",
    "\n",
    "### Cubic Spline\n",
    "\n",
    "$S_3(x)$ - cubic splines are continuous at the first derivative. The value of $m_i = S`_3(x_i)$ is called the slope of the spline at the point $x_i$. Lets split the segment $[a, b]$ into $N$ equal segments $[x_i,x_{i+1}]$, where $x_i=a+ih, i=0,1,2...,N-1, X_n=b, h=(b-a)/N$.\n",
    "\n",
    "if in the nodes $x_i,x_{i+1}$ we have $f_i, f_{i+1}$, which takes a cubic spline, then on a partial segment $[x_i,x_{i+1}]$ it takes the form:\n",
    "\n",
    "\n",
    "$S_3(x)=\\frac{(x_{i+1}-x)^2(2(x-x_i)+h)}{h^3}f_i + \\frac{(x-x_i)^2(2(x_{i+1}-x)+h)}{h^3}f_{i+1} + \\frac{(x_{i+1}-x)^2(x-x_i)}{h^2}m_i + \\frac{(x-x_i)^2(x-x_{i+1})}{h^2}m_{i+1}$\n",
    "\n",
    "\n"
   ]
  },
  {
   "cell_type": "markdown",
   "metadata": {},
   "source": [
    "### 2. Formulate the functional and differential compatibility conditions [mathematical formula]"
   ]
  },
  {
   "cell_type": "markdown",
   "metadata": {},
   "source": [
    "Functional conditions:\n",
    "\n",
    "$1.\\delta S_{3,i}(x)|_{x=x_{i+1}}=S_{3,i}(x_{i+1})-f(x_{i+1})=0$\n",
    "\n",
    "\n",
    "Differential conditions\n",
    "\n",
    "$1.\\delta S_{3,i}^{,,}(x)|_{x=x_{i+1}}=S_{3,i}^{,,}(x_{i+1})-f^{,,}(x_{i+1})=0$"
   ]
  },
  {
   "cell_type": "markdown",
   "metadata": {},
   "source": [
    "### 3. Formulate stitching conditions [mathematical formula]"
   ]
  },
  {
   "cell_type": "markdown",
   "metadata": {},
   "source": [
    "$S_{m,i-1}^{(p_2)}(x)|_{x=x_i}=S_{m,i}^{(p_2)}(x)|_{x=x_i},i=\\overline{1,n-1}$"
   ]
  },
  {
   "cell_type": "markdown",
   "metadata": {},
   "source": [
    "### 4. Justify why these conditions provide you with the required smoothness [thesis text, no more than 500 characters]"
   ]
  },
  {
   "cell_type": "markdown",
   "metadata": {},
   "source": [
    "\n",
    "\n",
    "The functional condition provides a solution to the interpolation problem\n",
    "\n",
    "The stitching condition provides us with  the equation where derivatives of splines in the point of their intersection(надеюсь ты понял что я  имел ввиду) equal to each other. So, this condition provides us with some smoothness on all function in range $[a,b]$\n",
    "\n"
   ]
  },
  {
   "cell_type": "markdown",
   "metadata": {},
   "source": [
    "### 5. Derive dependency formula: the dependence of the second derivatives at the grid nodes on the increment of the function (the function values difference on the grid nodes). [Mathematical formulas derivation. Detailed, with clear transitions]"
   ]
  },
  {
   "cell_type": "markdown",
   "metadata": {},
   "source": [
    "Our cubic spline(as example)\n",
    "\n",
    "$S_{3, i}=a_{0, i}+a_{1,i}(x - x_i)+a_{2, i}(x - x_i)^{2}+a_{3, i}(x - x_i)^{3}$\n",
    "\n",
    "$S_{3, i}^{`}$ - first derivative\n",
    "\n",
    "$S_{3, i}^{``}$ - second derivative\n",
    "\n",
    "Then we solve this system of linear equations and find coefficents\n",
    "\n",
    "\n",
    "let \n",
    "\n",
    "$h_i = x_i - x_{i - 1}$\n",
    "\n",
    "$\\delta f_i = f_{i + 1} - f_i$\n",
    "\n",
    "$\\delta m_i = m_{i + 1} - m_i$\n",
    "\n",
    "then we will obtain this equation\n",
    "\n",
    "  $\\frac{h_i} {6} * m_{i - 1} + \\frac{h_i + h_{i + 1}} {3} * m_i + \\frac{h_{i + 1}} {6} * m_{i + 1} = \\frac{\\delta f_i} {h_{i + 1}} - \\frac{\\delta f_{i - 1}} {h_i}$\n",
    "\n",
    "So this is our dependence"
   ]
  },
  {
   "cell_type": "markdown",
   "metadata": {},
   "source": [
    "### 6. Create a system of equations using this formula [Matrix representation. Mathematical formulas]"
   ]
  },
  {
   "cell_type": "markdown",
   "metadata": {},
   "source": [
    "Using the last equation above we can obtain our system of linear equations and try to solve it. \n",
    "\n",
    "(image just as an example)\n",
    "\n",
    "![title](eq.png)"
   ]
  },
  {
   "cell_type": "markdown",
   "metadata": {},
   "source": [
    "### 7. Explain what is an unknown variable in this system. whether the system is closed with respect to an unknown variable. What is missing for closure. [Text, no more than 200 characters]"
   ]
  },
  {
   "cell_type": "markdown",
   "metadata": {},
   "source": [
    "Unknown variables are $m_i$ where $i=0$ and $i=n$. Our system of linear equations is not closed because we have only $n-1$ equations. And t solve this we should apply border conditions in order to compute $m_0$, $m_n$."
   ]
  },
  {
   "cell_type": "markdown",
   "metadata": {},
   "source": [
    "### 8. Bring this matrix to the appropriate form to use the Tridiagonal matrix algorithm [Mathematical derivation. Use Gauss Elimination]"
   ]
  },
  {
   "cell_type": "markdown",
   "metadata": {},
   "source": [
    "Too much to write. But in the end we will have something like this\n",
    "\n",
    "$$\n",
    "\\left(\\begin{array}{cc} \n",
    "1 & -P_1 & 0 & 0 & ... & Q_1 \\\\\n",
    "0 & 1 & -P_2 & 0 & ... & Q_2\\\\\n",
    "0 & 0 & 0 & -P_3 & ... & Q_3\\\\\n",
    "0 & 0 & 1 & 0 & ... & ..\\\\\n",
    "0 & 0 & 0 & 1 & ... & Q_N\\\\\n",
    "\\end{array}\\right)\n",
    "$$ \n"
   ]
  },
  {
   "cell_type": "markdown",
   "metadata": {},
   "source": [
    "### 9. Derive formulas of direct pass and reverse pass of Tridiagonal matrix algorithm [Mathematical formals]"
   ]
  },
  {
   "cell_type": "markdown",
   "metadata": {},
   "source": [
    "##### Direct pass\n",
    "\n",
    "Suppose we have initial equation:\n",
    "$ a_ix_{i-1}-b_ix_i+y_ix_{i+1}=\\delta_i$, where $a_1=y_n=0, i=1:n $\n",
    "\n",
    "We will have our A matrix:\n",
    "\n",
    "$$\n",
    "\\left(\\begin{array}{cc} \n",
    "\\beta_1 & \\gamma_1 & 0 & 0 & ... & \\delta_1 \\\\\n",
    "\\alpha_2 & \\beta_2 & \\gamma_2 & 0 & ... & \\delta_2\\\\\n",
    "0 & \\alpha_3 & \\beta_3 & \\gamma_3 & ... & \\delta_3\\\\\n",
    "0 & 0 &  & \\beta_{n-1} & ... & ..\\\\\n",
    "0 & 0 &  &  & ... & \\delta_n\\\\\n",
    "\\end{array}\\right)\n",
    "$$ \n",
    "\n",
    "\n",
    "Lets use Gauss eliminiation($A^*$) on this matrix\n",
    "\n",
    "$$\n",
    "\\left(\\begin{array}{cc} \n",
    "0 & -P_1 & 0 & 0 & ... & Q_1 \\\\\n",
    "0 & 1 & -P_2 & 0 & ... & Q_2\\\\\n",
    "0 & 0 & 1 & -P_3 & ... & Q_{N-1}\\\\\n",
    "0 & 0 & 0 & 1 & ... & ..\\\\\n",
    "0 & 0 & 0 & 0 & ... & 0\\\\\n",
    "\\end{array}\\right)\n",
    "$$ \n",
    "\n",
    "\n",
    "We need to find the solution for our  $x = (x_1, ..., x_n)^T$\n",
    "\n",
    "By multiplying this $A^* * x$ we will get this reccurent equation $x_i = P_{i}x_{i+1} + Q_i$\n",
    "\n",
    "Subsituting it to initial system we will get - $a_i(P_{i-1}x_i+Q_{i-1})-B_ix_i+y_ix_{i+1}=\\delta_i$\n",
    "\n",
    "Finally, \n",
    "\n",
    "$P_i=\\frac{y_1}{\\beta_i-a_iP_{i-1}}$\n",
    "\n",
    "$Q_i=\\frac{a_iQ_{i-1}-\\delta_i}{\\beta_i-a_iP_{i-1}}$\n",
    "\n",
    "\n",
    "\n",
    "#### Reverse pass\n",
    "\n",
    "\n",
    "From the initial reccurent equation that we get, we can calculate $x_n$\n",
    "\n",
    "$x_{n-1} = P_{n-1}x_n + Q_{n-1} $\n",
    "\n",
    "$a_nx_{n-1} - \\beta_nx_n = \\delta_n $\n",
    "\n",
    "$x_n = \\frac{a_nQ_{n-1} - \\delta_n}{\\delta_n - \\alpha_nP_{n-1}} = Q_n $\n",
    "\n"
   ]
  },
  {
   "cell_type": "markdown",
   "metadata": {},
   "source": [
    "### 10. Implement code prototype of the future algorithm implementation. Classes/methods (if you use OOP), functions. The final implementation (on language chosen by you) should not differ from the functions declared in the prototype. [Python code]"
   ]
  },
  {
   "cell_type": "code",
   "execution_count": 174,
   "metadata": {},
   "outputs": [],
   "source": [
    "\n",
    "#----------------------\n",
    "#Refer to system of linear equations in question 6\n",
    "#Spline part\n",
    "def tridiagonal_matrix():\n",
    "    pass\n",
    "\n",
    "def b_matrix():\n",
    "    pass\n",
    "\n",
    "def compute_k():\n",
    "    tridiagonal_matrix().I*b_matrix\n",
    "    pass\n",
    "\n",
    "#----------------------\n",
    "#Interpolation part\n",
    "\n",
    "def interpolate():\n",
    "    pass\n",
    "\n",
    "\n",
    "\n",
    "\n",
    "\n"
   ]
  },
  {
   "cell_type": "markdown",
   "metadata": {},
   "source": [
    "for more information open this links:\n",
    "1. https://en.wikipedia.org/wiki/Spline_interpolation\n",
    "2. https://en.wikiversity.org/wiki/Cubic_Spline_Interpolation"
   ]
  },
  {
   "cell_type": "markdown",
   "metadata": {},
   "source": [
    "### 11. Derive formula of Cubic Spline method error [Mathematical formulas]"
   ]
  },
  {
   "cell_type": "markdown",
   "metadata": {},
   "source": [
    "$||f^{(p)} - S^{(p)}_3(x) ||_{C[a,b]} = \\max_{[a,b]}|f^{(p)} - S^{(p)}_3(x)| \\le M_4h^{4-p}, ~p=0,1,2.$\n"
   ]
  },
  {
   "cell_type": "markdown",
   "metadata": {},
   "source": [
    "### 12. Rate the complexity of the algorithm [Text, and rate in terms of big O, no more than 100 characters]"
   ]
  },
  {
   "cell_type": "markdown",
   "metadata": {},
   "source": [
    "\n",
    "Direct pass: $O(n)$. \n",
    "\n",
    "Reverse pass: $O(n)$. \n",
    "\n",
    "Direct pass + Reverse pass =  $O(n)$."
   ]
  },
  {
   "cell_type": "markdown",
   "metadata": {},
   "source": [
    "### Congrats!"
   ]
  }
 ],
 "metadata": {
  "kernelspec": {
   "display_name": "Python 3",
   "language": "python",
   "name": "python3"
  },
  "language_info": {
   "codemirror_mode": {
    "name": "ipython",
    "version": 3
   },
   "file_extension": ".py",
   "mimetype": "text/x-python",
   "name": "python",
   "nbconvert_exporter": "python",
   "pygments_lexer": "ipython3",
   "version": "3.6.8"
  }
 },
 "nbformat": 4,
 "nbformat_minor": 2
}
