{
  "nbformat": 4,
  "nbformat_minor": 0,
  "metadata": {
    "kernelspec": {
      "display_name": "Python 3",
      "language": "python",
      "name": "python3"
    },
    "language_info": {
      "codemirror_mode": {
        "name": "ipython",
        "version": 3
      },
      "file_extension": ".py",
      "mimetype": "text/x-python",
      "name": "python",
      "nbconvert_exporter": "python",
      "pygments_lexer": "ipython3",
      "version": "3.6.8"
    },
    "colab": {
      "name": "ha2.ipynb",
      "provenance": [],
      "collapsed_sections": []
    }
  },
  "cells": [
    {
      "cell_type": "code",
      "metadata": {
        "id": "LhbvOnUx70Gp",
        "colab_type": "code",
        "colab": {}
      },
      "source": [
        "import sympy as sp\n",
        "import numpy as np\n",
        "import matplotlib.pyplot as plt"
      ],
      "execution_count": 0,
      "outputs": []
    },
    {
      "cell_type": "markdown",
      "metadata": {
        "id": "VArHeQVA70G2",
        "colab_type": "text"
      },
      "source": [
        "### 1. Formulate the statement of the interpolation problem with Cubic Spline [mathematical formula]"
      ]
    },
    {
      "cell_type": "markdown",
      "metadata": {
        "id": "oYwUSARbcu5K",
        "colab_type": "text"
      },
      "source": [
        "We are given grid function $y_i=f(x_i)$ on grid $\\Omega_n=\\{x_i, i=\\overline{0, n}\\}$, where $x_i \\in [a, b]$. Find such S $S_3(x_i)=f_i$ where\n",
        "\n",
        "$\\overline{S_3}(x) = \\bigcup \\limits_{i=0}^{n-1} \\overline{S_{3, i}}(x)$ holds, such that $S_3 \\in C^2[a, b]$, with defect $q = 1$"
      ]
    },
    {
      "cell_type": "markdown",
      "metadata": {
        "id": "xCOsnuaP70HD",
        "colab_type": "text"
      },
      "source": [
        "### 2. Formulate the functional and differential compatibility conditions [mathematical formula]"
      ]
    },
    {
      "cell_type": "markdown",
      "metadata": {
        "id": "fhlqvrlVgFUz",
        "colab_type": "text"
      },
      "source": [
        "Compatibility conditions:\n",
        "$\\delta S^{(p_1)}_{3, i}(x_j) = S^{(p_1)}_{3, i}(x)$ $\\large|_{x=x_i}$ $ - f^{(p_1)}(x)$ $\\large |_{x=x_i}$ \n",
        "$ = 0, j = i, i+1$\n",
        "\n",
        "Where\n",
        "$S_{3, i} = a_{0, i} + a_{1, i} (x - x_i) + a_{2, i} (x - x_i)^2 + a_{3, i} (x - x_i)^3$, corresponding to $i$th spline link.\n",
        "\n",
        "\n",
        "$p_1 = \\{0, 2\\}$ is picked \n",
        "\n",
        "Functional compatibility conditions (corresponding to the ends of $[x_i, x_{i+1}]$):\n",
        "\n",
        "* $\\delta S_{3, i}(x)$ $\\large|_{x=x_i}$ $= S_{3, i}(x_i)$ $ - f(x_i)$ $ = 0$\n",
        "\n",
        "* $\\delta S_{3, i}(x)$ $\\large|_{x=x_{i+1}}$ $= S_{3, i}(x_{i+1})$ $ - f(x_{i+1})$ $ = 0$\n",
        "\n",
        "Differential compatibility conditions (corresponding to the ends of $[x_i, x_{i+1}]$):\n",
        "\n",
        "* $\\delta S^{''}_{3, i}(x)$ $\\large|_{x=x_i}$ $= S^{''}_{3, i}(x_i)$ $ - f^{''}(x_i)$ $ = 0$\n",
        "\n",
        "* $\\delta S^{''}_{3, i}(x)$ $\\large|_{x=x_{i+1}}$ $= S^{''}_{3, i}(x_{i+1})$ $ - f^{''}(x_{i+1})$ $ = 0$\n",
        "\n",
        "\n",
        "\n",
        "\n",
        "\n",
        "\n",
        "\n",
        "\n",
        "\n"
      ]
    },
    {
      "cell_type": "markdown",
      "metadata": {
        "id": "uUSfWB3970HL",
        "colab_type": "text"
      },
      "source": [
        "### 3. Formulate stitching conditions [mathematical formula]"
      ]
    },
    {
      "cell_type": "markdown",
      "metadata": {
        "id": "ymA4WDDYjRiX",
        "colab_type": "text"
      },
      "source": [
        "Stitching conditions: $S^{(p_2)}_{3, i-1}(x)$ $\\large|_{x=x_i}$ \n",
        "$= S^{(p_2)}_{3, i}(x)$ $\\large|_{x=x_i}$  $ i = \\overline{1, n-1}$\n",
        "\n",
        "$p_2\\notin p_1$, where $p_1$ are for compatibility conditions.\n",
        "\n",
        "$p_2 = {1}$ is picked.\n",
        "\n",
        "* $S^{'}_{3, i-1}(x)$ $\\large|_{x=x_i}$ \n",
        "$= S^{'}_{3, i}(x)$ $\\large|_{x=x_i}$  $ i = \\overline{1, n-1}$"
      ]
    },
    {
      "cell_type": "markdown",
      "metadata": {
        "id": "VFyR_DNo70HW",
        "colab_type": "text"
      },
      "source": [
        "### 4. Justify why these conditions provide you with the required smoothness [thesis text, no more than 500 characters]"
      ]
    },
    {
      "cell_type": "markdown",
      "metadata": {
        "id": "N6_4B0aokaRE",
        "colab_type": "text"
      },
      "source": [
        "Functional compatibility condition ensures that the resulting function solves the interpolation problem.\n",
        "\n",
        "Differential compatibility condition provides additional equations in system to find coefficient of spline.\n",
        "\n",
        "Stitching conditions ensures that the resulting function is continuous and differentiable on $[x_0;x_n]$.\n",
        "\n",
        "\n",
        "\n",
        "\n",
        "\n",
        "\n",
        "\n"
      ]
    },
    {
      "cell_type": "markdown",
      "metadata": {
        "id": "msQST1uW70Hi",
        "colab_type": "text"
      },
      "source": [
        "### 5. Derive dependency formula: the dependence of the second derivatives at the grid nodes on the increment of the function (the function values difference on the grid nodes). [Mathematical formulas derivation. Detailed, with clear transitions]"
      ]
    },
    {
      "cell_type": "markdown",
      "metadata": {
        "id": "34OlA2Ijn8Xe",
        "colab_type": "text"
      },
      "source": [
        "Applying functional/differential conditions to the ends of this segment:\n",
        "\\begin{cases}\\begin{align*}\n",
        "S_{3, i}(x)|_{x=x_{i}} &= f(x_{i})\\\\ \n",
        "S_{3, i}(x)|_{x=x_{i+1}} &= f(x_{i+1})\\\\ \n",
        "S^{''}_{3, i}(x)|_{x=x_{i}} &= f^{''}(x_{i})\\\\ \n",
        "S^{''}_{3, i}(x)|_{x=x_{i+1}} &= f^{''}(x_{i+1})\n",
        "\\end{align*}\\end{cases}\n",
        "\n",
        "Lets find first and second derivatives of Cubic Spline:\n",
        "\n",
        "\\begin{align}\n",
        "S^{'}_{3, i}(x) &= a_{1,i} + 2a_{2, i}(x - x_i) + 3a_{3, i}(x - x_i)^2\\\\\n",
        "S^{''}_{3, i}(x) &= 2a_{2, i} + 6a_{3, i} (x - x_i)\n",
        "\\end{align}\n",
        "\n",
        "Unfolding the equations:\n",
        "\n",
        "\\begin{cases}\\begin{align*}  \n",
        "a_{0,i} + a_{1,i}(x_i - x_i) + a_{2,i}(x_i - x_i)^2 + a_{3,i}(x_i - x_i)^3 &= f(x_i) \\\\ \n",
        "a_{0,i} + a_{1,i}(x_{i+1} - x_i) + a_{2,i}(x_{i+1} - x_i)^2 + a_{3,i}(x_{i+1} - x_i)^3 &= f(x_{i+1})\\\\ \n",
        "2a_{2,i} + 6a_{3,i}(x_i - x_i) &= f^{''}(x_i) \\\\ \n",
        "2a_{2,i} + 6a_{3,i}(x_{i+1} - x_i) &= f^{''}(x_{i+1}) \n",
        "\\end{align*}\\end{cases}\n",
        "\n",
        "Reducing $x_i - x_i$:\n",
        "\n",
        "\\begin{cases}\\begin{align*}  \n",
        "a_{0,i} &= f(x_i) \\\\ \n",
        "a_{0,i} + a_{1,i}(x_{i+1} - x_i) + a_{2,i}(x_{i+1} - x_i)^2 + a_{3,i}(x_{i+1} - x_i)^3 &= f(x_{i+1})\\\\ \n",
        "2a_{2,i} &= f^{''}(x_i) \\\\ \n",
        "2a_{2,i} + 6a_{3,i}(x_{i+1} - x_i) &= f^{''}(x_{i+1}) \n",
        "\\end{align*}\\end{cases}\n",
        "\n",
        "Let us have following replacings:\n",
        "\\begin{align}\n",
        "h_{i+1} = x_{i+1} - x_{i}\\\\ \n",
        "\\Delta f_i = f_{i+1} - f_{i}, f_i = f(x_i)\\\\ \n",
        "\\Delta m_i = m_{i+1} - m_i, m_i = f^{''}(x_i)\n",
        "\\end{align}\n",
        "\n",
        "In a shorter form it will look like:\n",
        "\\begin{cases}\\begin{align*}  \n",
        "a_{0,i} &= f_i \\\\ \n",
        "a_{0,i} + a_{1,i}\\cdot h_{i+1} + a_{2,i}\\cdot h_{i+1}^2 + a_{3,i}\\cdot h_{i+1}^3 &= f_{i+1}\\\\ \n",
        "2a_{2,i} &= m_i \\\\ \n",
        "2a_{2,i} + 6a_{3,i}\\cdot h_{i+1} &= m_{i+1} \n",
        "\\end{align*}\\end{cases}\n",
        "\n",
        "After substitunting of third and fourth we will have:\n",
        "\\begin{align}\n",
        "2a_{2,i} + 6a_{3,i}\\cdot h_{i+1} - 2a_{2,i}= m_{i+1} - m_i &\\Leftrightarrow \\\\\n",
        "6a_{3,i}\\cdot h_{i+1} = \\Delta m_i &\\Leftrightarrow \\\\\n",
        "a_{3, i} = \\frac{1}{6h_{i+1}}\\Delta m_i\n",
        "\\end{align}\n",
        "\n",
        "Also one can see that:\n",
        "\\begin{align}\n",
        "2a_{2,i} = m_i &\\Leftrightarrow \\\\\n",
        "a_{2,i} = \\frac{m_i}{2}\n",
        "\\end{align}\n",
        "\n",
        "Putting it back to the place:\n",
        "\\begin{cases}\\begin{align*}  \n",
        "a_{0,i} &= f_i \\\\ \n",
        "a_{0,i} + a_{1,i}\\cdot h_{i+1} + a_{2,i}\\cdot h_{i+1}^2 + a_{3,i}\\cdot h_{i+1}^3 &= f_{i+1}\\\\ \n",
        "a_{2,i} &= \\frac{m_i}{2} \\\\ \n",
        "a_{3, i} &= \\frac{1}{6h_{i+1}}\\Delta m_i\\\\ \n",
        "\\end{align*}\\end{cases}\n",
        "\n",
        "Replacing the second equation:\n",
        "\\begin{cases}\\begin{align*}  \n",
        "a_{0,i} &= f_i \\\\ \n",
        "f_i + a_{1,i}\\cdot h_{i+1} + \\frac{m_i}{2}\\cdot h_{i+1}^2 + \\frac{1}{6h_{i+1}}\\Delta m_i\\cdot h_{i+1}^3 &= f_{i+1}\\\\ \n",
        "a_{2,i} &= \\frac{m_i}{2} \\\\ \n",
        "a_{3, i} &= \\frac{1}{6h_{i+1}}\\Delta m_i\\\\ \n",
        "\\end{align*}\\end{cases}\n",
        "\n",
        "Working with the second equation:\n",
        "\\begin{align}\n",
        "f_i + a_{1,i}\\cdot h_{i+1} + \\frac{m_i}{2}\\cdot h_{i+1}^2 + \\frac{1}{6h_{i+1}}\\Delta m_i\\cdot h_{i+1}^3 = f_{i+1} &\\Leftrightarrow \\\\\n",
        "f_i - f_{i+1} + a_{1,i}\\cdot h_{i+1} + \\frac{m_i}{2}\\cdot h_{i+1}^2 + \\frac{1}{6h_{i+1}}\\Delta m_i\\cdot h_{i+1}^3 = 0 &\\Leftrightarrow \\\\\n",
        "-\\Delta f_i + a_{1,i}\\cdot h_{i+1} + \\frac{m_i}{2}\\cdot h_{i+1}^2 + \\frac{1}{6h_{i+1}}\\Delta m_i\\cdot h_{i+1}^3 = 0 &\\Leftrightarrow \\\\\n",
        "a_{1,i}\\cdot h_{i+1}  = \\Delta f_i - \\frac{m_i}{2}\\cdot h_{i+1}^2 - \\frac{1}{6h_{i+1}}\\Delta m_i\\cdot h_{i+1}^3 &\\Leftrightarrow \\\\\n",
        "a_{1,i}\\cdot h_{i+1}  = \\Delta f_i - \\frac{m_i}{2}\\cdot h_{i+1}^2 - \\frac{1}{6}\\Delta m_i\\cdot h_{i+1}^2 &\\Leftrightarrow \\\\\n",
        "a_{1,i}  = \\Delta f_i - \\frac{m_i}{2}\\cdot h_{i+1} - \\frac{1}{6}\\Delta m_i\\cdot h_{i+1}\n",
        "\\end{align}\n",
        "\n",
        "Putting it back:\n",
        "\\begin{cases}\\begin{align*}  \n",
        "a_{0,i} &= f_i \\\\ \n",
        "a_{1,i} &= \\Delta f_i - \\frac{m_i}{2}\\cdot h_{i+1} - \\frac{1}{6}\\Delta m_i\\cdot h_{i+1}\\\\ \n",
        "a_{2,i} &= \\frac{m_i}{2} \\\\ \n",
        "a_{3, i} &= \\frac{1}{6h_{i+1}}\\Delta m_i\\\\ \n",
        "\\end{align*}\\end{cases}\n",
        "\n",
        "Now we have all $a$ and put it to the spline:\n",
        "$$\n",
        "S_{3, i}(x) = f_i + \n",
        "\\left( \\Delta f_i - \\frac{m_i}{2}\\cdot h_{i+1} - \\frac{1}{6}\\Delta m_i\\cdot h_{i+1} \\right)(x-x_i) + \n",
        "\\frac{m_i}{2} (x - x_i)^2 + \\frac{1}{6h_{i+1}}\\Delta m_i (x - x_i)^3\n",
        "$$\n",
        "\n",
        "Rewriting stitching condition given with founded coefficients $a$:\n",
        "\\begin{align}\n",
        " S'_{i-1}(x_i) = S'_i(x_i) &\\Leftrightarrow\\\\\n",
        "S^{'}_{3, i}(x) = a_{1,i} + 2a_{2, i}(x - x_i) + 3a_{3, i}(x - x_i)^2 &\\Leftrightarrow\\\\\n",
        " \\left[\\frac{1}{h_i} \\Delta f_{i-1} - \\frac{h_i}{2} m_{i-1} - \\frac{h_i}{6} \\Delta m_{i-1} +  m_{i-1}(x_i - x_{i-1}) + \\frac{\\Delta m_{i-1}}{2h_{i}}(x_i - x_{i-1})^2 = \\\\ =\\frac{1}{h_{i+1}} \\Delta f_{i} - \\frac{h_{i+1}}{2} m_{i} - \\frac{h_{i+1}}{6} \\Delta m_{i} +  m_{i}(x_i - x_{i}) + \\frac{\\Delta m_{i}}{2h_{i+1}}(x_i - x_{i})^2 \\right] &\\Leftrightarrow\\\\\n",
        "  \\left[ \\frac{1}{h_{i}} \\Delta f_{i-1} - \\frac{h_{i}}{2} m_{i-1} - \\frac{h_{i}}{6} \\Delta m_{i-1} +  m_{i-1} h_{i} + \\frac{\\Delta m_{i-1}}{2} h_{i} = \\frac{1}{h_{i+1}} \\Delta f_{i} - \\frac{h_{i+1}}{2} m_{i} - \\frac{h_{i+1}}{6} \\Delta m_{i} \\right] \n",
        "\\end{align}\n",
        "\n",
        "Getting rid of $\\Delta m_{i-1}$ and $\\Delta m_{i}$:\n",
        "\\begin{align}\n",
        "\\frac{h_i}{2}m_{i-1} + \\frac{h_i}{3}(m_i - m_{i-1}) + \\frac{h_{i+1}}{2}m_i + \\frac{h_{i+1}}{6} (m_{i+1} - m_i) = \\frac{1}{h_{i+1}} \\Delta f_i  \\frac{1}{h_i} \\Delta f_{i-1} &\\Leftrightarrow\\\\\n",
        "\\frac{h_i}{6}m_{i-1} + \\frac{h_i + h_{i+1}}{3} m_i + \\frac{h_{i+1}}{6} m_{i+1} =  \\frac{1}{h_{i+1}} \\Delta f_i - \\frac{1}{h_i} \\Delta f_{i-1}\n",
        "\\end{align}"
      ]
    },
    {
      "cell_type": "markdown",
      "metadata": {
        "id": "PvZPCduI70Hs",
        "colab_type": "text"
      },
      "source": [
        "### 6. Create a system of equations using this formula [Matrix representation. Mathematical formulas]"
      ]
    },
    {
      "cell_type": "markdown",
      "metadata": {
        "id": "SntDPlxg7PFe",
        "colab_type": "text"
      },
      "source": [
        "Tridiagonal matrix algorithm equations should be in form (p 31 from textbook):\n",
        "\n",
        "$\\alpha_i\\cdot m_{i-1}-\\beta_i \\cdot m_i+\\gamma_i \\cdot m_{i+1}=\\delta_i, \\  \\alpha_1=\\gamma_n=0, \\  i=\\overline{1, n-1}$\n",
        "\n",
        "These are:\n",
        "\\begin{align}\n",
        " \\alpha_i &= \\frac{h_i}{6} \\\\\n",
        " -\\beta_i &= \\frac{h_i + h_{i+1}}{3} \\\\\n",
        " \\gamma_i &= \\frac{h_{i+1}}{6} \\\\\n",
        " \\delta_i &= \\frac{\\Delta f_i}{h_{i+1}} - \\frac{\\Delta f_{i-1}}{h_i}\\\\ \n",
        "\\end{align}\n",
        "\\\\\n",
        "\n",
        "$$ \\begin{bmatrix}\n",
        "    -\\beta_1    & \\gamma_1    & 0 & 0     & \\dots   & 0      \\\\\n",
        "    \\alpha_2    & -\\beta_2    & \\gamma_2  & 0  & \\dots   & 0      \\\\\n",
        "    0      & \\alpha_3    & -\\beta_3    & \\gamma_3 & \\dots   & 0      \\\\\n",
        "    \\vdots & \\vdots & \\vdots & \\vdots & \\ddots  & \\vdots \\\\\n",
        "    0      & 0      & 0      & \\dots  & \\alpha_{n-1}    & -\\beta_{n-1} \n",
        "\\end{bmatrix} \\begin{bmatrix}\n",
        "    m_1 \\\\\n",
        "    m_2 \\\\\n",
        "    m_3 \\\\\n",
        "    \\vdots \\\\\n",
        "    m_{n-1}\n",
        "\\end{bmatrix} = \\begin{bmatrix}\n",
        "    \\delta_1 \\\\\n",
        "    \\delta_2 \\\\\n",
        "    \\delta_3 \\\\\n",
        "    \\vdots \\\\\n",
        "    \\delta_{n-1}\n",
        "\\end{bmatrix} $$ "
      ]
    },
    {
      "cell_type": "markdown",
      "metadata": {
        "id": "cuzUM5LX70Hz",
        "colab_type": "text"
      },
      "source": [
        "### 7. Explain what is an unknown variable in this system. whether the system is closed with respect to an unknown variable. What is missing for closure. [Text, no more than 200 characters]"
      ]
    },
    {
      "cell_type": "markdown",
      "metadata": {
        "id": "qdx_3svT9ILx",
        "colab_type": "text"
      },
      "source": [
        "The unknown variable is $m_i$, system is not closed with respect to it. \n",
        "\n",
        "We need to add two more equations for natural spline for closure:\n",
        "$m_0 = 0,\\ m_N = 0$"
      ]
    },
    {
      "cell_type": "markdown",
      "metadata": {
        "id": "UgUcmKiF70H6",
        "colab_type": "text"
      },
      "source": [
        "### 8. Bring this matrix to the appropriate form to use the Tridiagonal matrix algorithm [Mathematical derivation. Use Gauss Elimination]"
      ]
    },
    {
      "cell_type": "markdown",
      "metadata": {
        "id": "pam8_5X3-Dsu",
        "colab_type": "text"
      },
      "source": [
        "$$ \\begin{bmatrix}\n",
        "    1      & -P_1   & 0      & 0      & \\dots     & 0      \\\\\n",
        "    0      & 1      & -P_2   & 0      & \\dots     & 0      \\\\\n",
        "    0      & 0      & 1      & -P_3   & \\dots     & 0      \\\\\n",
        "    \\vdots & \\vdots & \\vdots & \\vdots & \\ddots    & \\vdots \\\\\n",
        "    0      & 0      & 0      & 0      & \\dots     & 1 \n",
        "\\end{bmatrix} M = \\begin{bmatrix}\n",
        "    Q_0 \\\\\n",
        "    Q_1 \\\\\n",
        "    Q_2 \\\\\n",
        "    \\vdots \\\\\n",
        "    Q_{n-1}\n",
        "\\end{bmatrix} $$ \n",
        "\n",
        "\n",
        "\n",
        "\n",
        "\n",
        "\n",
        "\n"
      ]
    },
    {
      "cell_type": "markdown",
      "metadata": {
        "id": "xIAsrIE070IA",
        "colab_type": "text"
      },
      "source": [
        "### 9. Derive formulas of direct pass and reverse pass of Tridiagonal matrix algorithm [Mathematical formals]"
      ]
    },
    {
      "cell_type": "markdown",
      "metadata": {
        "id": "pZYKeQRc-imR",
        "colab_type": "text"
      },
      "source": [
        "\n",
        "* Forward pass:\n",
        "\n",
        "  * Find initial $P$ and $Q$:\n",
        "\\begin{align}\n",
        " P_1 &= \\frac{\\gamma_1}{\\beta_1} \\\\ \n",
        " Q_1 &= - \\frac{\\delta_1}{\\beta_1}\n",
        "\\end{align}\n",
        "  * Find coefficients for $i=\\overline{2, n-2}$:\n",
        "\\begin{align}\n",
        "P_i &= \\frac{\\gamma_i}{\\beta_i - \\alpha_i P_{i-1}} \\\\ \n",
        "Q_i &= \\frac{\\alpha_i Q_{i-1} - \\delta_i}{\\beta_i - \\alpha_i P_{i-1}} \n",
        "\\end{align}\n",
        "\n",
        "* Backward pass:\n",
        "\n",
        "  * Find last $x$:\n",
        "$$ x_{n-1} = \\frac{\\alpha_{n-1} Q_{n-2} - \\delta_{n-1}}{\\beta_{n-1} - \\alpha_{n-1} P_{n-2}}  $$ \n",
        "  * Find $x_i$ for $i=\\overline{1, n-2}$:\n",
        "$$ x_i=P_i\\cdot x_{i+1}+Q_i$$\n"
      ]
    },
    {
      "cell_type": "markdown",
      "metadata": {
        "id": "mL-_5GVm70IF",
        "colab_type": "text"
      },
      "source": [
        "### 10. Implement code prototype of the future algorithm implementation. Classes/methods (if you use OOP), functions. The final implementation (on language chosen by you) should not differ from the functions declared in the prototype. [Python code]"
      ]
    },
    {
      "cell_type": "code",
      "metadata": {
        "id": "UwjI-Vf370IH",
        "colab_type": "code",
        "colab": {}
      },
      "source": [
        "# M: Matrix in  tridiagonal form\n",
        "# d: Corresponding vector\n",
        "\n",
        "def thomas_alg(M, d):\n",
        "  n = M.shape[0]\n",
        "  x = [0] * n\n",
        "  Pi = []\n",
        "  Qi = []\n",
        "  \n",
        "  \n",
        "  # Forward pass\n",
        "  #   Initial P and Q\n",
        "  Pi.append(M[0][1] / -M[0][0])\n",
        "  Qi.append(d[0] / M[0][0])\n",
        "  #   Finding coefficients\n",
        "  for i in range(1, n):\n",
        "    Pi.append(M[i][i+1] / (-M[i][i - 1] * Pi[-1] - M[i][i]))\n",
        "    Qi.append((-d[i] + M[i][i - 1] * Qi[-1]) / (-M[i][i - 1] * Pi[-2] - M[i][i]))\n",
        "  \n",
        "  # Backward pass\n",
        "  #   Last x\n",
        "  x[n - 1] = (d[n - 1] - M[n - 1][n - 2] * Qi[-1]) / (M[n - 1][n - 2] + M[n - 1][n - 1])\n",
        "  #   Finding x's\n",
        "  for i in range(n - 2, 0, -1):\n",
        "    x[i] = Pi[i] * x[i + 1] + Qi[i]\n",
        "    \n",
        "  return x\n",
        "# x: array of solutions"
      ],
      "execution_count": 0,
      "outputs": []
    },
    {
      "cell_type": "markdown",
      "metadata": {
        "id": "YbHjdE_670IO",
        "colab_type": "text"
      },
      "source": [
        "### 11. Derive formula of Cubic Spline method error [Mathematical formulas]"
      ]
    },
    {
      "cell_type": "markdown",
      "metadata": {
        "id": "xFOBMAQ1JA1b",
        "colab_type": "text"
      },
      "source": [
        "Cubic Spline method error:\n",
        "\n",
        "$|| f^{(p)}(x)-S_3^{(p)}(x)||_{C[a,b]} = \\max_{[a,b]}|f^{(p)}(x)-S_3^{(p)}(x)|\\leq M_4h^{4-p}$, $p=[0,2]$,\n",
        "\n",
        "For each each p:\n",
        "\n",
        "function:\n",
        "$|| f^{(0)}(x)-S_3^{(0)}(x)||_{C[a,b]} = \\max_{[a,b]}|f^{(0)}(x)-S_3^{(0)}(x)|\\leq M_4h^{4}$, \n",
        "\n",
        "first derivative:\n",
        "$|| f^{(1)}(x)-S_3^{(1)}(x)||_{C[a,b]} = \\max_{[a,b]}|f^{(1)}(x)-S_3^{(1)}(x)|\\leq M_4h^{3}$, \n",
        "\n",
        "second derivative: \n",
        "$|| f^{(2)}(x)-S_3^{(2)}(x)||_{C[a,b]} = \\max_{[a,b]}|f^{(2)}(x)-S_3^{(2)}(x)|\\leq M_4h^{2}$, \n",
        "\n",
        "This metrics only work if $f(x) \\in C_4[a,b]$"
      ]
    },
    {
      "cell_type": "markdown",
      "metadata": {
        "id": "vx3-LwKY70IU",
        "colab_type": "text"
      },
      "source": [
        "### 12. Rate the complexity of the algorithm [Text, and rate in terms of big O, no more than 100 characters]"
      ]
    },
    {
      "cell_type": "markdown",
      "metadata": {
        "id": "q_LeQEeBnPtM",
        "colab_type": "text"
      },
      "source": [
        "\n",
        "\n",
        "Forward pass is $\\mathcal{O}(n)$ and backward pass is $\\mathcal{O}(n)$ so overall complexity is $\\mathcal{O}(n)$.\n"
      ]
    },
    {
      "cell_type": "markdown",
      "metadata": {
        "id": "Piqh-YEZ70Ib",
        "colab_type": "text"
      },
      "source": [
        "### Congrats!"
      ]
    }
  ]
}