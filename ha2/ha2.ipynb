{
 "cells": [
  {
   "cell_type": "code",
   "execution_count": null,
   "metadata": {},
   "outputs": [],
   "source": [
    "import sympy as sp\n",
    "import numpy as np\n",
    "import matplotlib.pyplot as plt"
   ]
  },
  {
   "cell_type": "markdown",
   "metadata": {},
   "source": [
    "### 1. Formulate the statement of the interpolation problem with Cubic Spline [mathematical formula]"
   ]
  },
  {
   "cell_type": "markdown",
   "metadata": {},
   "source": [
    "Generally the interpolation problem is to derive from the given discrete set of quantity values its intermediate (unknown) values. It is important that according to the interpolation terms the obtained functuion must pass thorugh all the given points. \n",
    "\n",
    "Method of spline interpolation suggests fitting the given points by a piecewise polynomial function $S(x)$, known as the spline, a composite function formed by $n$ low-degree polynomials $P_i(x)$ each fitting $f(x)$ in the interval between $x_{i-1}$ and $x_i,\\;(i=1,\\cdots,n)$. For the case of Cubic Spline these polynomials are of the form $P_i=a_{0, i}+a_{1, i}x+a_{2, i}x^2+a_{3, i}x^3 $ $(i=1,\\cdots,n)$.\n",
    "\n",
    "$S(x)=\\left\\{\\begin{array}{rl}\n",
    "P_1(x), & x_0 \\leq x \\leq x_1\\\\\n",
    "\\cdots &\\\\\n",
    "P_i(x), & x_{i-1}\\leq x \\leq x_i\\\\\n",
    "\\cdots &\\\\\n",
    "P_n(x), & x_{n-1} < x \\leq x_n\\end{array}\\right.$\n",
    "\n",
    "Summing up, the statement of the interpolation problem with Cubic Spline is to find the polynomials of the determined type that have their 2nd derivatives in union: $S_3(x) = \\bigcup_{i=0}^{n-1}S_{3,i}(x) \\in C_2[a, b]$, where $a = x_0$ and $b = x_n$"
   ]
  },
  {
   "cell_type": "markdown",
   "metadata": {},
   "source": [
    "### 2. Formulate the functional and differential compatibility conditions [mathematical formula]"
   ]
  },
  {
   "cell_type": "markdown",
   "metadata": {},
   "source": [
    "The functional compatibility conditions: $\\delta S(x)|_{x=x_i} = {S_i}(x)-f_i(x_i)=0$\n",
    "\n",
    "The differential compatibility conditions: $\\delta S''(x)|_{x=x_i} = {S_i''}(x)-f_i''(x_i)=0$"
   ]
  },
  {
   "cell_type": "markdown",
   "metadata": {},
   "source": [
    "### 3. Formulate stitching conditions [mathematical formula]"
   ]
  },
  {
   "cell_type": "markdown",
   "metadata": {},
   "source": [
    "$S^{(p)}_{3, i}(x)|_{x = x_{i}} = S^{(p)}_{3, i}(x)|_{x = x_{i}}$, where $i \\in [1..n - 1]$."
   ]
  },
  {
   "cell_type": "markdown",
   "metadata": {},
   "source": [
    "### 4. Justify why these conditions provide you with the required smoothness [thesis text, no more than 500 characters]"
   ]
  },
  {
   "cell_type": "markdown",
   "metadata": {},
   "source": [
    "According to its statement the functional compatibility conditions provide a solution to the interpolation problem. The stitching compatibility conditions provide the absense of the derivatives discontinuities, since the sufficiently smooth function is supposed to have the derivatives which are also smooth. The differential compatibility conditions provide the way of finding the rest unknwown variables.Therefore, all these conditions provide you with the required smoothness."
   ]
  },
  {
   "cell_type": "markdown",
   "metadata": {},
   "source": [
    "### 5. Derive dependency formula: the dependence of the second derivatives at the grid nodes on the increment of the function (the function values difference on the grid nodes). [Mathematical formulas derivation. Detailed, with clear transitions]"
   ]
  },
  {
   "cell_type": "markdown",
   "metadata": {},
   "source": [
    "![](files/5_1.jpg)"
   ]
  },
  {
   "cell_type": "markdown",
   "metadata": {},
   "source": [
    "![](files/5_2.jpg)"
   ]
  },
  {
   "cell_type": "markdown",
   "metadata": {},
   "source": [
    "### 6. Create a system of equations using this formula [Matrix representation. Mathematical formulas]"
   ]
  },
  {
   "cell_type": "markdown",
   "metadata": {},
   "source": [
    "![](files/6_1.jpg)"
   ]
  },
  {
   "cell_type": "markdown",
   "metadata": {},
   "source": [
    "### 7. Explain what is an unknown variable in this system. whether the system is closed with respect to an unknown variable. What is missing for closure. [Text, no more than 200 characters]"
   ]
  },
  {
   "cell_type": "markdown",
   "metadata": {},
   "source": [
    "![](files/7_1.jpg)"
   ]
  },
  {
   "cell_type": "markdown",
   "metadata": {},
   "source": [
    "### 8. Bring this matrix to the appropriate form to use the Tridiagonal matrix algorithm [Mathematical derivation. Use Gauss Elimination]"
   ]
  },
  {
   "cell_type": "markdown",
   "metadata": {},
   "source": [
    "![](files/8_1.jpg)"
   ]
  },
  {
   "cell_type": "markdown",
   "metadata": {},
   "source": [
    "![](files/8_2.jpg)"
   ]
  },
  {
   "cell_type": "markdown",
   "metadata": {},
   "source": [
    "### 9. Derive formulas of direct pass and reverse pass of Tridiagonal matrix algorithm [Mathematical formals]"
   ]
  },
  {
   "cell_type": "markdown",
   "metadata": {},
   "source": [
    "Formulas of direct pass ($P_{i-1}$ and $Q_{i-1}$) were obtained in the end of the latter task, while formulas of reverse pass are easy derived from each matrix row independently: $x_{i-1} = P_{i-1}x_{i} + Q_{i-1}$ (since they are the recursive equations for $x_i$)."
   ]
  },
  {
   "cell_type": "markdown",
   "metadata": {},
   "source": [
    "### 10. Implement code prototype of the future algorithm implementation. Classes/methods (if you use OOP), functions. The final implementation (on language chosen by you) should not differ from the functions declared in the prototype. [Python code]"
   ]
  },
  {
   "cell_type": "code",
   "execution_count": 9,
   "metadata": {},
   "outputs": [
    {
     "name": "stdout",
     "output_type": "stream",
     "text": [
      "[ 0.14877589  0.75612053 -1.00188324  2.25141243]\n"
     ]
    }
   ],
   "source": [
    "import numpy as np\n",
    "\n",
    "# Basically I will just read input and for each dataset find the matrix solution via TriagonalMatrixAlgorithm\n",
    "\n",
    "def TriagonalMatrixAlgorithm(a, b, c, d):\n",
    "    ## Tri Diagonal Matrix Algorithm\n",
    "    nf = len(d) # number of equations\n",
    "    ac, bc, cc, dc = map(np.array, (a, b, c, d)) # copy arrays\n",
    "    for it in range(1, nf):\n",
    "        mc = ac[it-1]/bc[it-1]\n",
    "        bc[it] = bc[it] - mc*cc[it-1] \n",
    "        dc[it] = dc[it] - mc*dc[it-1]\n",
    "        \t    \n",
    "    xc = bc\n",
    "    xc[-1] = dc[-1]/bc[-1]\n",
    "\n",
    "    for il in range(nf-2, -1, -1):\n",
    "        xc[il] = (dc[il]-cc[il]*xc[il+1])/bc[il]\n",
    "\n",
    "    return xc\n",
    "\n",
    "A = np.array([[10,2,0,0],[3,10,4,0],[0,1,7,5],[0,0,3,4]],dtype=float)   \n",
    "\n",
    "a = np.array([3.,1,3]) \n",
    "b = np.array([10.,10.,7.,4.])\n",
    "c = np.array([2.,4.,5.])\n",
    "d = np.array([3,4,5,6.])\n",
    "\n",
    "print(TriagonalMatrixAlgorithm(a, b, c, d))"
   ]
  },
  {
   "cell_type": "markdown",
   "metadata": {},
   "source": [
    "### 11. Derive formula of Cubic Spline method error [Mathematical formulas]"
   ]
  },
  {
   "cell_type": "markdown",
   "metadata": {},
   "source": [
    "$(\\int_{x_i}^{x_{i+1}} S_3(x) \\,dx = \\hat{I}_{i}^{i+1})  \\approx (\\int_{x_i}^{x_{i+1}} {f_m}(x,{a}) \\,dx= I_{i}^{i+1})$ for each $[x_i, x_{i + 1}]$\n",
    "\n",
    "Error is $O(h^{5}_{i + 1})$\n",
    "\n",
    " $H = max(h_{i + 1})$\n",
    " \n",
    "For $I_{a}^{b} = \\int_a^{b} f(x) \\,dx$ for $[a, b]$ error is $O(H^4)$"
   ]
  },
  {
   "cell_type": "markdown",
   "metadata": {},
   "source": [
    "### 12. Rate the complexity of the algorithm [Text, and rate in terms of big O, no more than 100 characters]"
   ]
  },
  {
   "cell_type": "markdown",
   "metadata": {},
   "source": [
    "It can be seen, that the forward pass takes 𝑂(𝑛) and the reverse pass takes  𝑂(𝑛) resulting in the total algorithm complexity of 𝑂(𝑛).\n",
    "\n",
    "\n",
    "\n",
    "\n",
    "\n",
    "\n",
    "\n"
   ]
  },
  {
   "cell_type": "markdown",
   "metadata": {},
   "source": [
    "### Congrats!"
   ]
  }
 ],
 "metadata": {
  "kernelspec": {
   "display_name": "Python 3",
   "language": "python",
   "name": "python3"
  },
  "language_info": {
   "codemirror_mode": {
    "name": "ipython",
    "version": 3
   },
   "file_extension": ".py",
   "mimetype": "text/x-python",
   "name": "python",
   "nbconvert_exporter": "python",
   "pygments_lexer": "ipython3",
   "version": "3.7.4"
  }
 },
 "nbformat": 4,
 "nbformat_minor": 2
}
