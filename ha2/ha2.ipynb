{
 "cells": [
  {
   "cell_type": "code",
   "execution_count": 1,
   "metadata": {},
   "outputs": [],
   "source": [
    "import sympy as sp\n",
    "import numpy as np\n",
    "import matplotlib.pyplot as plt"
   ]
  },
  {
   "cell_type": "markdown",
   "metadata": {},
   "source": [
    "### 1. Formulate the statement of the interpolation problem with Cubic Spline [mathematical formula]"
   ]
  },
  {
   "cell_type": "markdown",
   "metadata": {},
   "source": [
    "We need to find $S_{3}(x)$ such that:\n",
    "* $S_3(x_i) = f(x_i)$ for $i \\in [0, N-1]$\n",
    "* $S_{3}(x) = \\bigcup\\limits_{i=0}^{N-1} S_{3, i}(x) \\in C_2[a, b]$\n",
    "* $S_{3, i}(x) = a_{0, i} + a_{1, i}(x - x_i) + a_{2, i}(x - x_i)^2 + a_{3, i}(x - x_i)^3$"
   ]
  },
  {
   "cell_type": "markdown",
   "metadata": {},
   "source": [
    "### 2. Formulate the functional and differential compatibility conditions [mathematical formula]"
   ]
  },
  {
   "cell_type": "markdown",
   "metadata": {},
   "source": [
    "Functional:\n",
    "\n",
    "$S_{3, i} (x_i) - f (x_i) = 0$ \n",
    "<br>\n",
    "$S_{3, i} (x_{i+1}) - f (x_{i+1}) = 0$\n",
    "\n",
    "Differential:\n",
    "\n",
    "$S_{3, i}^{ (2) } (x_i) - f^{(2)} (x_i) = 0$ \n",
    "<br>\n",
    "$S_{3, i}^{ (2) } (x_{i+1}) - f^{(2)} (x_{i+1}) = 0$"
   ]
  },
  {
   "cell_type": "markdown",
   "metadata": {},
   "source": [
    "### 3. Formulate stitching conditions [mathematical formula]"
   ]
  },
  {
   "cell_type": "markdown",
   "metadata": {},
   "source": [
    "$S_{3, i - 1}^{(1)} (x_i) = S_{3, i}^{(1)} (x_{i})$ \n",
    "\n",
    "\n",
    "\n",
    "\n",
    "\n",
    "\n",
    "\n",
    "\n",
    "\n"
   ]
  },
  {
   "cell_type": "markdown",
   "metadata": {},
   "source": [
    "### 4. Justify why these conditions provide you with the required smoothness [thesis text, no more than 500 characters]"
   ]
  },
  {
   "cell_type": "markdown",
   "metadata": {},
   "source": [
    "Условия сшивки гарантируют непрерывность, условия дифференциального согласования гарантируют гладкость, то что у нас кубический полином гарантирует дважды диффренцируемость"
   ]
  },
  {
   "cell_type": "markdown",
   "metadata": {},
   "source": [
    "### 5. Derive dependency formula: the dependence of the second derivatives at the grid nodes on the increment of the function (the function values difference on the grid nodes). [Mathematical formulas derivation. Detailed, with clear transitions]"
   ]
  },
  {
   "cell_type": "markdown",
   "metadata": {},
   "source": [
    "Подставляем формулу $S_{3, i}(x) = a_{0, i} + a_{1, i}(x - x_i) + a_{2, i}(x - x_i)^2 + a_{3, i}(x - x_i)^3$ в формулы из 2 задания и туда подставляем $x_i$ и $x_{i+1}$, получаем:\n",
    "\n",
    "$a_{0,i} = f(x_i)$ <br>\n",
    "$a_{0,i} + a_{1,i}(x_{i+1} - x_i) + a_{2,i}(x_{i+1} - x_i)^2 + a_{3,i}(x_{i+1} - x_i)^3 - f(x_{i+1}) = 0$ <br>\n",
    "$2a_{2,i} = f^{(2)} (x_{i})$ <br>\n",
    "$2a_{2,i} + 6a_{3,i}(x_{i+1} - x_i) = f^{(2)} (x_{i+1})$\n",
    "\n",
    "Упрощаем ($f^{(2)} (x_{i}) = m_i, x_{i+1} - x_i = h_{i+1}, \\Delta f_i = f_{i+1} - f_i$) и подставляем коэффиценты в выражение, получаем:\n",
    "\n",
    "$S_{3, i}(x) = f(x_i) + (\\frac{\\Delta f_i}{h_{i+1}} - \\frac{h_{i+1}}{2}m_i - \\frac{h_{i+1}}{6}\\Delta m_i)(x - x_i) + \\frac{m_i}{2}(x - x_i)^2 + \\frac{\\Delta m_i}{6h_{i+1}}(x - x_i)^3$\n",
    "\n",
    "Это выражение подставляем в формулу из 3 задания, получаем:\n",
    "\n",
    "$\\frac{\\Delta f_{i-1}}{h_{i}} - \\frac{h_{i}}{2}m_{i-1} - \\frac{h_{i}}{6}\\Delta m_{i-1} + m_i h_i + \\frac{\\Delta m_{i-1}h_i}{2} = \\frac{\\Delta f_i}{h_{i+1}} - \\frac{h_{i+1}}{2}m_i - \\frac{h_{i+1}}{6}\\Delta m_i$\n",
    "\n",
    "Расписываем $\\Delta m_i = m_{i+1} - m_i$ и упрощаем, получаем:\n",
    "\n",
    "$ \\frac{m_{i-1} h_i}{6} + \\frac{h_i + h_{i+1}}{3}m_i + \\frac{h_{i+1}}{6}m_{i+1} = \\frac{\\Delta f_i}{h_{i+1}} - \\frac{\\Delta f_{i-1}}{h_{i}}$\n"
   ]
  },
  {
   "cell_type": "markdown",
   "metadata": {},
   "source": [
    "### 6. Create a system of equations using this formula [Matrix representation. Mathematical formulas]"
   ]
  },
  {
   "attachments": {},
   "cell_type": "markdown",
   "metadata": {},
   "source": [
    "\\begin{bmatrix}\n",
    "\\frac{h_1+h_2}{3} & \\frac{h_2}{6}     & 0                 & \\dots & 0   & 0  & 0 \n",
    "& \\frac{\\Delta f_1}{h_2} - \\frac{\\Delta f_0}{h_1} \\\\ \n",
    "\\frac{h_2}{6}     & \\frac{h_2+h_3}{3} & \\frac{h_3}{6}     & \\dots & 0   & 0  & 0   \n",
    "& \\frac{\\Delta f_2}{h_3} - \\frac{\\Delta f_1}{h_2} \\\\\n",
    "\\dots             & \\dots             & \\dots             & \\dots & \\dots & \\dots & \\dots & \\dots \\\\\n",
    "0 & \\dots & \\frac{h_i}{6} & \\frac{h_i+h_{i+1}}{3} & \\frac{h_{i+1}}{6} & \\dots  & 0\n",
    "& \\frac{\\Delta f_i}{h_{i+1}} - \\frac{\\Delta f_{i-1}}{h_i} \\\\\n",
    "\\dots             & \\dots             & \\dots             & \\dots & \\dots & \\dots & \\dots & \\dots \\\\\n",
    "0                 & 0        & 0         & 0                 & \\dots & \\frac{h_{n-1}}{6} & \\frac{h_{n-1}+h_n}{3}\n",
    "& \\frac{\\Delta f_{n-1}}{h_n} - \\frac{\\Delta f_{n-2}}{h_{n-1}},\n",
    "\\end{bmatrix}"
   ]
  },
  {
   "cell_type": "markdown",
   "metadata": {},
   "source": [
    "### 7. Explain what is an unknown variable in this system. whether the system is closed with respect to an unknown variable. What is missing for closure. [Text, no more than 200 characters]"
   ]
  },
  {
   "cell_type": "markdown",
   "metadata": {},
   "source": [
    "В данной системе n - 1 уравнений (i от 1 до n - 1), а неизвестных n + 1 (m от 0 до n). Поэтому добавим условия $m_0 = 0$ и $m_n = 0$ "
   ]
  },
  {
   "cell_type": "markdown",
   "metadata": {},
   "source": [
    "### 8. Bring this matrix to the appropriate form to use the Tridiagonal matrix algorithm [Mathematical derivation. Use Gauss Elimination]"
   ]
  },
  {
   "cell_type": "markdown",
   "metadata": {},
   "source": [
    "Продемонстрирую на примере первых 2 строк матрицы А из задания 6\n",
    "\n",
    "Шаг 1: Делим первую строку на $A_{11} = \\frac{h_1 + h_2}{3}$ чтобы получить там 1. \n",
    "\n",
    "Получаем для первой строки:    \n",
    "\\begin{bmatrix}\n",
    "    1 & \\frac{h_2}{2(h_1+h_2)} & 0 & \\dots & 0 & (\\frac{\\Delta f_1}{h_2} - \\frac{\\Delta f_0}{h_1})\\frac{3}{h_1+h_2}\n",
    "\\end{bmatrix}\n",
    "\n",
    "Получившиеся значения во 2 и в последней колонке обозначим $P_1$ и $Q_1$ соответственно.\n",
    "\n",
    "Шаг 2: Вычитаем из второй строки домноженную на $A_{21} = \\frac{h_2}{6}$ первую строку чтобы получить ноль в $A_{21}$. Первая строка не меняется.\n",
    "\n",
    "Получаем для второй строки:\n",
    "\\begin{bmatrix}\n",
    "    0 & \\frac{-h_2^2 + 4(h_1+h_2)(h_2+h_3)}{12(h_1+h_2)} & \\frac{h_3}{6} & \\dots & 0 & \\frac{2(\\Delta f_2 h_2 - \\Delta f_1 h_3)h_1(h_1+h_2) - (\\Delta f_1 h_1 - \\Delta f_0 h_2)h_2 h_3}{2 h_1 h_2 h_3 (h_1 + h_2)}\n",
    "\\end{bmatrix}\n",
    "\n",
    "Шаг 3: Делим вторую строку на $A_{22} = \\frac{-h_2^2 + 4(h_1+h_2)(h_2+h_3)}{12(h_1+h_2)}$ чтобы получить 1 в $A_{22}$. Первая строка не меняется.\n",
    "\n",
    "Получаем для второй строки:\n",
    "\\begin{bmatrix}\n",
    "    0 & 1 & \\frac{2h_3(h_1+h_2)}{4(h_2+h_3)(h_1+h_2)-h_2} & \\dots & 0 & \\frac{6 h_2^2 h_3 \\Delta f_0 + 12(h_1+h_2) \\Delta f_2 + h_2 h_1 - 12(h_1+h_2)\\Delta f_1 h_1 h_3 - h_1 h_2 h_3 6 \\Delta f_1}{h_1 h_2 h_3 (4(h_2+h_3)(h_1 + h_2) - h_2^2)}\n",
    "\\end{bmatrix}\n",
    "\n",
    "Получившиеся значения в 3 и в последней колонке обозначим $P_2$ и $Q_2$ соответственно."
   ]
  },
  {
   "cell_type": "markdown",
   "metadata": {},
   "source": [
    "### 9. Derive formulas of direct pass and reverse pass of Tridiagonal matrix algorithm [Mathematical formals]"
   ]
  },
  {
   "attachments": {
    "image.png": {
     "image/png": "[encoded data removed]"
    }
   },
   "cell_type": "markdown",
   "metadata": {},
   "source": [
    "![image.png](attachment:image.png)\n",
    "\n",
    "где forward pass:\n",
    "\n",
    "$P_1 = -\\frac{h_2}{2(h_1 + h_2)}$    \n",
    "\n",
    "$Q_1 = 3(\\frac{\\Delta f_1}{h_2} - \\frac{\\Delta f_0}{h_1})/(h_1 + h_2)$\n",
    "\n",
    "$P_i = \\frac{h_{i+1}}{(-2(h_i + h_{i+1}) - h_iP_{i-1})}$\n",
    "\n",
    "$Q_i = \\frac{h_iQ_{i-1} - 6\\frac{\\Delta f_i}{h_{i+1}} + 6\\frac{\\Delta f_{i-1}}{h_i}}{2(h_{i+1} + h_i)- h_iP_{i-1}}$\n",
    "\n",
    "backward pass:\n",
    "\n",
    "$x_n = Q_n$\n",
    "\n",
    "$x_{i} = P_{i}x_{i+1} + Q_{i}$"
   ]
  },
  {
   "cell_type": "markdown",
   "metadata": {},
   "source": [
    "### 10. Implement code prototype of the future algorithm implementation. Classes/methods (if you use OOP), functions. The final implementation (on language chosen by you) should not differ from the functions declared in the prototype. [Python code]"
   ]
  },
  {
   "cell_type": "code",
   "execution_count": null,
   "metadata": {},
   "outputs": [],
   "source": [
    "def forward_pass():\n",
    "    #Посчитать P и Q \n",
    "    pass\n",
    "\n",
    "def backward_pass():\n",
    "    #На основе посчитаных в предыдущем прогоне P и Q посчитать x\n",
    "    pass"
   ]
  },
  {
   "cell_type": "markdown",
   "metadata": {},
   "source": [
    "### 11. Derive formula of Cubic Spline method error [Mathematical formulas]"
   ]
  },
  {
   "cell_type": "markdown",
   "metadata": {},
   "source": [
    "Если f 4 раза дифференцируема, то можем посчитать по такой формуле:\n",
    "\n",
    "$max|f^p - S_3^p| \\leqslant \\mu_4 h^{4-p}$\n",
    "\n",
    "Иначе ничего не знаем("
   ]
  },
  {
   "cell_type": "markdown",
   "metadata": {},
   "source": [
    "### 12. Rate the complexity of the algorithm [Text, and rate in terms of big O, no more than 100 characters]"
   ]
  },
  {
   "cell_type": "markdown",
   "metadata": {},
   "source": [
    "Forward pass - $O(n)$, backward pass - $O(n)$ \n",
    "\n",
    "In summary - $O(n)$"
   ]
  },
  {
   "cell_type": "markdown",
   "metadata": {},
   "source": [
    "### Congrats!"
   ]
  }
 ],
 "metadata": {
  "kernelspec": {
   "display_name": "Python 3",
   "language": "python",
   "name": "python3"
  },
  "language_info": {
   "codemirror_mode": {
    "name": "ipython",
    "version": 3
   },
   "file_extension": ".py",
   "mimetype": "text/x-python",
   "name": "python",
   "nbconvert_exporter": "python",
   "pygments_lexer": "ipython3",
   "version": "3.6.4"
  }
 },
 "nbformat": 4,
 "nbformat_minor": 2
}
