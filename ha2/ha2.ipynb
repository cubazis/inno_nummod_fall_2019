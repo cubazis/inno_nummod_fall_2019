{
  "nbformat": 4,
  "nbformat_minor": 0,
  "metadata": {
    "kernelspec": {
      "display_name": "Python 3",
      "language": "python",
      "name": "python3"
    },
    "language_info": {
      "codemirror_mode": {
        "name": "ipython",
        "version": 3
      },
      "file_extension": ".py",
      "mimetype": "text/x-python",
      "name": "python",
      "nbconvert_exporter": "python",
      "pygments_lexer": "ipython3",
      "version": "3.6.8"
    },
    "colab": {
      "name": "Copy_of_ha2.ipynb",
      "provenance": [],
      "collapsed_sections": []
    }
  },
  "cells": [
    {
      "cell_type": "code",
      "metadata": {
        "colab_type": "code",
        "id": "4THzAMguufDg",
        "colab": {}
      },
      "source": [
        "import sympy as sp\n",
        "import numpy as np\n",
        "import matplotlib.pyplot as plt"
      ],
      "execution_count": 0,
      "outputs": []
    },
    {
      "cell_type": "markdown",
      "metadata": {
        "id": "tdIZIJrREOu4",
        "colab_type": "text"
      },
      "source": [
        "### 1. Formulate the statement of the interpolation problem with Cubic Spline [mathematical formula]"
      ]
    },
    {
      "cell_type": "markdown",
      "metadata": {
        "id": "MORJz_kaEbSP",
        "colab_type": "text"
      },
      "source": [
        "Definition from the book: (4.5.2)\n",
        "\n",
        "$y_i = f(x_i)$, $x_i\\in[a,b]$\n",
        "\n",
        "$S_{3,i}(x)=a_{0,i} + a_{1,i}(x-x_i) + a_{2,i}(x-x_i)^2 + a_{3,i}(x-x_i)^3$, $x \\in [x_i, x_{i+1}]$ (4.68 from the book)\n",
        "\n",
        "$S_{3}(x) \\in C_2[a,b]$ \n",
        "\n",
        "Book page: 188"
      ]
    },
    {
      "cell_type": "markdown",
      "metadata": {
        "id": "uhXw2uKfEOvL",
        "colab_type": "text"
      },
      "source": [
        "### 2. Formulate the functional and differential compatibility conditions [mathematical formula]"
      ]
    },
    {
      "cell_type": "markdown",
      "metadata": {
        "id": "DpdCew86aksp",
        "colab_type": "text"
      },
      "source": [
        "Functional compatibility conditions (4.69 from the book):\n",
        "\n",
        "$\\delta S_{3,i}(x)|_{x=x_i} = S_{3,i}(x_i)-f(x_i) = 0$,\n",
        "\n",
        "$\\delta S_{3,i}(x)|_{x=x_{i+1}} = S_{3,i}(x_{i+1})-f(x_{i+1}) = 0$;\n",
        "\n",
        "Differential compatibility conditions (4.70 from the book):\n",
        "\n",
        "$\\delta S_{3,i}^{''}(x)|_{x=x_i} = S_{3,i}^{''}(x_i)-f^{''}(x_i) = 0$,\n",
        "\n",
        "$\\delta S_{3,i}^{''}(x)|_{x=x_{i+1}} = S_{3,i}^{''}(x_{i+1})-f^{''}(x_{i+1}) = 0$.\n",
        "\n",
        "Order:\n",
        "$p_1=\\{0; 2\\}$\n",
        "\n",
        "Book page: 188"
      ]
    },
    {
      "cell_type": "markdown",
      "metadata": {
        "id": "2whKACGrEOvT",
        "colab_type": "text"
      },
      "source": [
        "### 3. Formulate stitching conditions [mathematical formula]"
      ]
    },
    {
      "cell_type": "markdown",
      "metadata": {
        "id": "4hE0T4M3apOD",
        "colab_type": "text"
      },
      "source": [
        "After the 4.71 formula in the book, we have condition of continuity:\n",
        "$S_{3,i-1}^{(p_1)}(x)|_{x=x_i} = S_{3,i}^{(p_1)}(x)|_{x=x_i}, i = \\overline{1, n-1}$\n",
        "\n",
        "Spline second derivatives: $S_{3,i-1}^{'}(x)|_{x=x_i} = S_{3,i}^{'}(x)|_{x=x_i}, i = \\overline{1, n-1}$\n",
        "\n",
        "(for all internal nodes)\n",
        "\n",
        "Book page: 189"
      ]
    },
    {
      "cell_type": "markdown",
      "metadata": {
        "id": "BRXQZaLaEOvc",
        "colab_type": "text"
      },
      "source": [
        "### 4. Justify why these conditions provide you with the required smoothness [thesis text, no more than 500 characters]"
      ]
    },
    {
      "cell_type": "markdown",
      "metadata": {
        "id": "5iH3tBdKdvEg",
        "colab_type": "text"
      },
      "source": [
        "These conditions in result provide the same slope and change of the function (stitching condition).  \n",
        "=> derivative of the function is smooth, then we understand that function is smooth. "
      ]
    },
    {
      "cell_type": "markdown",
      "metadata": {
        "id": "6tRu2rcIEOvk",
        "colab_type": "text"
      },
      "source": [
        "### 5. Derive dependency formula: the dependence of the second derivatives at the grid nodes on the increment of the function (the function values difference on the grid nodes). [Mathematical formulas derivation. Detailed, with clear transitions]"
      ]
    },
    {
      "cell_type": "markdown",
      "metadata": {
        "id": "Lclgupx4fbU7",
        "colab_type": "text"
      },
      "source": [
        "$\\begin{cases} \n",
        "  \\Delta S_{3,i}(x)|_{x=x_i} = S_{3,i}(x_i)-f(x_i) = 0 \\\\\n",
        "  \\Delta S_{3,i}(x)|_{x=x_{i+1}} = S_{3,i}(x_{i+1})-f(x_{i+1}) = 0 \\\\\n",
        "  \\Delta S_{3,i}^{''}(x)|_{x=x_i} = S_{3,i}^{''}(x_i)-f^{''}(x_i) = 0 \\\\\n",
        "  \\Delta S_{3,i}^{''}(x)|_{x=x_{i+1}} = S_{3,i}^{''}(x_{i+1})-f^{''}(x_{i+1}) = 0. \\\\\n",
        "   m_i = f''(x_{i}) \\\\\n",
        "  \\Delta m_i = m_{i+1} - m_i \\\\\n",
        "  i = \\overline{1, n-1}\n",
        "\\end{cases}$\n",
        "\n",
        "$\\begin{cases} \n",
        "  S_{3,i}(x)=a_{0,i} + a_{1,i}(x-x_i) + a_{2,i}(x-x_i)^2 + a_{3,i}(x-x_i)^3\\\\\n",
        "  S_{3,i}^{'}(x)=a_{1,i}+2a_{2,i}(x-x_i)+3a_{3,i}(x-x_i)^2\\\\\n",
        "  S_{3,i}^{''}(x)=2(a_{2,i}+3a_{3,i}(x-x_i))\n",
        "\\end{cases}$\n",
        "\n",
        "$\\begin{cases} \n",
        "    a_{0,i} + a_{1,i}(x_i-x_i) + a_{2,i}(x_i-x_i)^2 + a_{3,i}(x_i-x_i)^3 - f(x_i) = 0 \\\\\n",
        "    a_{0,i} + a_{1,i}(x_{i+1}-x_i) + a_{2,i}(x_{i+1}-x_{i})^2 + a_{3,i}(x_{i+1}-x_i)^3 - f(x_{i+1}) = 0 \\\\\n",
        "    2a_{2,i}+6a_{3,i}(x_i-x_i)-f^{''}(x_i) = 0 \\\\\n",
        "    2a_{2,i}+6a_{3,i}(x_{i+1}-x_{i})-f^{''}(x_{i+1}) = 0\n",
        "\\end{cases}$\n",
        "\n",
        "$\\begin{cases} \n",
        "    a_{0,i} = f(x_i) \\\\\n",
        "    a_{0,i} + a_{1,i}(x_{i+1}-x_i) + a_{2,i}(x_{i+1}-x_{i})^2 + a_{3,i}(x_{i+1}-x_i)^3 - f(x_{i+1}) = 0 \\\\\n",
        "    a_{2,i} = f^{''}(x_i) / 2\\\\\n",
        "    2a_{2,i}+6a_{3,i}(x_{i+1}-x_{i})-f^{''}(x_{i+1}) = 0\n",
        "\\end{cases}$\n",
        "\n",
        "$h_{i+1}=x_{i+1}-x_i$\n",
        "\n",
        "$\\begin{cases} \n",
        "  a_{0,i} = f(x_i) \\\\\n",
        "  a_{2,i} = \\frac{m_i}{2} \\\\\n",
        "  a_{3,i}=\\frac{\\Delta m_i}{6h_{i+1}}\n",
        "\\end{cases}$\n",
        "\n",
        "\n",
        "$f(x_i) + a_{1,i}h_{i+1} + \\frac{m_i}{2}h_{i+1}^2 + \\frac{\\Delta m_i}{6(h_{i+1})}h_{i+1}^3 = f(x_{i+1}) $\n",
        "\n",
        "$a_{1,i} = \\frac{\\Delta f_i - \\frac{m_i}{2}h_{i+1}^2 - \\frac{\\Delta m_i}{6(h_{i+1})}h_{i+1}^3}{h_{i+1}} = \\frac{\\Delta f_i}{h_{i+1}} - \\frac{m_i  h_{i+1}}{2} - \\frac{\\Delta m_i  h_{i+1}}{6}$\n",
        "\n",
        "\n",
        "$S'_{3, i}(x)=a_{1,i}+2a_{2,i}(x_{i+1}-x_{i})+3a_{3,i}(x_{i+1}-x_{i})^2$\n",
        "\n",
        "$S'_{3, i-1}(x)=a_{1,i-1}+2a_{2,i-1}(x_{i+1}-x_{i})+3a_{3,i-1}(x_{i+1}-x_{i})^2$\n",
        "\n",
        "$S'_{3, i}(x)|_{x=x_i} = S'_{3, i-1}(x)|_{x=x_i}$\n",
        "\n",
        "$a_{1,i}=a_{1,i-1}+2a_{2,i-1}h_{i}+3a_{3,i-1}h_{i}^2$\n",
        "\n",
        "$\\frac{\\Delta f_i}{h_{i+1}} - \\frac{m_i  h_{i+1}}{2} - \\frac{\\Delta m_i h_{i+1}}{6} = \\frac{\\Delta f_{i-1}}{h_{i}} - \\frac{m_{i-1}  h_{i}}{2} - \\frac{\\Delta m_{i-1}  h_{i}}{6} + \\frac {2 m_{i-1} h_{i}}{2} +\\frac{3\\Delta m_{i-1}h_{i}^2}{6h_{i}} $\n",
        "\n",
        ".\n",
        "\n",
        "$\\frac{m_{i-1}h_i}{6} + \\frac{m_i(h_i+h_{i+1})}{3} + \\frac{m_{i+1}h_{i+1}}{6} = \\frac{\\Delta f_{i}}{h_{i+1}} - \\frac{\\Delta f_{i-1}}{h_{i}}$\n",
        "\n",
        "Result: $\\frac{\\Delta f_{i}}{h_{i+1}} - \\frac{\\Delta f_{i-1}}{h_{i}}$\n"
      ]
    },
    {
      "cell_type": "markdown",
      "metadata": {
        "id": "UOuT7eylEOvs",
        "colab_type": "text"
      },
      "source": [
        "### 6. Create a system of equations using this formula [Matrix representation. Mathematical formulas]"
      ]
    },
    {
      "cell_type": "markdown",
      "metadata": {
        "id": "g_sI-4HHfcz5",
        "colab_type": "text"
      },
      "source": [
        "$$\n",
        "\\begin{pmatrix}\n",
        "1 & \\frac{h2}{2(h_1+h_2)} & 0 & 0 & ...  & 0 & 0 \\\\\n",
        "\\frac{h_2}{6} & \\frac{(h_2+h_3)}{3} & \\frac{h_3}{6} & 0 & ... & 0 & 0  \\\\\n",
        "0 & \\frac{h_3}{6} & \\frac{h_3+h_4}{3} & \\frac{h_4}{6} & ... & 0 & 0 \\\\\n",
        "&... & ... & ... & ... & ...  \\\\\n",
        "0 & 0 & 0 & 0 & ... & \\frac{h_{n-1}}{6} & \\frac{h_{n-1}+h_{n}}{3} \\\\ \n",
        "\\end{pmatrix}\n",
        "\\quad\n",
        "\\begin{pmatrix}\n",
        "m_0 \\\\\n",
        "m_1 \\\\\n",
        "m_2 \\\\\n",
        "... \\\\\n",
        "m_{n-1} \\\\\n",
        "m_{n}\n",
        "\\end{pmatrix}=\n",
        "\\begin{pmatrix}\n",
        "\\frac{\\Delta f_1}{h_{2}}-\\frac{\\Delta f_{0}}{h_1} \\\\\n",
        "\\frac{\\Delta f_2}{h_{3}}-\\frac{\\Delta f_{1}}{h_2} \\\\\n",
        "\\frac{\\Delta f_3}{h_{4}}-\\frac{\\Delta f_{2}}{h_3} \\\\\n",
        "... \\\\\n",
        "\\frac{\\Delta f_{n-2}}{h_{n-1}}-\\frac{\\Delta f_{n-3}}{h_{n-2}} \\\\\n",
        "\\frac{\\Delta f_{n-1}}{h_{n}}-\\frac{\\Delta f_{n-2}}{h_{n-1}}\n",
        "\\end{pmatrix}\n",
        "$$\n",
        "\n",
        "Book page: 31"
      ]
    },
    {
      "cell_type": "markdown",
      "metadata": {
        "id": "96nSpGRXEOvz",
        "colab_type": "text"
      },
      "source": [
        "### 7. Explain what is an unknown variable in this system. whether the system is closed with respect to an unknown variable. What is missing for closure. [Text, no more than 200 characters]"
      ]
    },
    {
      "cell_type": "markdown",
      "metadata": {
        "id": "iKPsPpTmC7_H",
        "colab_type": "text"
      },
      "source": [
        "Unknown variable is $m_i$, $i \\in [a, b]$. System is not closed."
      ]
    },
    {
      "cell_type": "markdown",
      "metadata": {
        "id": "04XL6FKtEOv6",
        "colab_type": "text"
      },
      "source": [
        "### 8. Bring this matrix to the appropriate form to use the Tridiagonal matrix algorithm [Mathematical derivation. Use Gauss Elimination]"
      ]
    },
    {
      "cell_type": "markdown",
      "metadata": {
        "id": "lK0vVl0nEudg",
        "colab_type": "text"
      },
      "source": [
        "$$\n",
        "\\begin{pmatrix}\n",
        "1 & \\frac{h2}{2(h_1+h_2)} & 0 & 0 & ...  & 0 & 0 \\\\\n",
        "\\frac{h_2}{6} & \\frac{(h_2+h_3)}{3} & \\frac{h_3}{6} & 0 & ... & 0 & 0  \\\\\n",
        "0 & \\frac{h_3}{6} & \\frac{h_3+h_4}{3} & \\frac{h_4}{6} & ... & 0 & 0 \\\\\n",
        "&... & ... & ... & ... & ...  \\\\\n",
        "0 & 0 & 0 & 0 & ... & \\frac{h_{n-1}}{6} & \\frac{h_{n-1}+h_{n}}{3} \\\\ \n",
        "\\end{pmatrix}\n",
        "\\quad\n",
        "\\begin{pmatrix}\n",
        "m_0 \\\\\n",
        "m_1 \\\\\n",
        "m_2 \\\\\n",
        "... \\\\\n",
        "m_{n-1} \\\\\n",
        "m_{n}\n",
        "\\end{pmatrix}=\n",
        "\\begin{pmatrix}\n",
        "\\frac{\\Delta f_1}{h_{2}}-\\frac{\\Delta f_{0}}{h_1} \\\\\n",
        "\\frac{\\Delta f_2}{h_{3}}-\\frac{\\Delta f_{1}}{h_2} \\\\\n",
        "\\frac{\\Delta f_3}{h_{4}}-\\frac{\\Delta f_{2}}{h_3} \\\\\n",
        "... \\\\\n",
        "\\frac{\\Delta f_{n-2}}{h_{n-1}}-\\frac{\\Delta f_{n-3}}{h_{n-2}} \\\\\n",
        "\\frac{\\Delta f_{n-1}}{h_{n}}-\\frac{\\Delta f_{n-2}}{h_{n-1}}\n",
        "\\end{pmatrix}\n",
        "$$\n",
        "\n",
        "\n",
        "$$\n",
        "\\begin{pmatrix}\n",
        "1 & -P1 & 0 & 0 & ...  & 0 & 0 & 0 \\\\\n",
        "0 & 1 & -P2 & 0 & ... & 0 & 0 & 0 \\\\\n",
        "0 & 0 & 1 & -P3 & ... & 0 & 0 & 0  \\\\\n",
        "&... & ... & ... & ... & ... & ... \\\\\n",
        "0 & 0 & 0 & 0 & ... & 0 & 1 & -P_{n-1} \\\\ \n",
        "0 & 0 & 0 & 0 & ... & 0 & 0 & 1 \\\\\n",
        "\\end{pmatrix}\n",
        "\\quad\n",
        "\\begin{pmatrix}\n",
        "m_0 \\\\\n",
        "m_1 \\\\\n",
        "m_2 \\\\\n",
        "... \\\\\n",
        "m_{n-1} \\\\\n",
        "m_{n}\n",
        "\\end{pmatrix}=\n",
        "\\begin{pmatrix}\n",
        "Q_1 \\\\\n",
        "Q_2 \\\\\n",
        "Q_3 \\\\\n",
        "... \\\\\n",
        "Q_{n-1} \\\\\n",
        "Q_{n}\n",
        "\\end{pmatrix}\n",
        "$$\n",
        "\n",
        "Book page: 31"
      ]
    },
    {
      "cell_type": "markdown",
      "metadata": {
        "id": "HKJCkbk6uWPv",
        "colab_type": "text"
      },
      "source": [
        ""
      ]
    },
    {
      "cell_type": "markdown",
      "metadata": {
        "id": "3UPn7L0zEOwB",
        "colab_type": "text"
      },
      "source": [
        "### 9. Derive formulas of direct pass and reverse pass of Tridiagonal matrix algorithm [Mathematical formals]"
      ]
    },
    {
      "cell_type": "markdown",
      "metadata": {
        "id": "llPOPzgZuXzM",
        "colab_type": "text"
      },
      "source": [
        ""
      ]
    },
    {
      "cell_type": "markdown",
      "metadata": {
        "id": "iNWpvLjAILa9",
        "colab_type": "text"
      },
      "source": [
        "Forward:\n",
        "\n",
        "$x_{i-1} = P_{i-1}x_i+Q_{i-1}$, where $i = \\overline{1, n-1}$\n",
        "\n",
        "$\\frac{(P_{i-1}x_i + Q_{i-1}) h_i}{6} - \\frac{x_i(h_i+h_{i+1})}{3} + \\frac{x_{i+1}h_{i+1}}{6} = \\frac{\\Delta f_{i}}{h_{i+1}} - \\frac{\\Delta f_{i-1}}{h_{i}}$\n",
        "\n",
        "$a_i = \\frac{h_i}{6}\\\\\n",
        "b_i = \\frac{h_i + h_{i+1}}{3}\\\\\n",
        "c_i = \\frac{h_{i+1}}{6}\\\\\\\n",
        "q = \\frac{\\Delta f_{i}}{h_{i+1}} - \\frac{\\Delta f_{i-1}}{h_{i}}$\n",
        "\n",
        "$x_i = -\\frac{c_i x_{i+1}}{a_i P_{i-1} - b_i} - \\frac{a_i Q_{i-1}}{a_i P_{i-1} - b_i} + \\frac{q_i}{a_i P_{i-1} - b_i} = \\frac{c_i x_{i+1}}{b_i - a_i P_{i-1}} + \\frac{a_i Q_{i-1} - q_i}{b_i - a_i P_{i-1}}$\n",
        "\n",
        "$\\frac{c_i x_{i+1}}{b_i - a_i P_{i-1}} + \\frac{a_i Q_{i-1} - q_i}{b_i - a_i P_{i-1}} = P_{i}x_{i+1}+Q_{i}$\n",
        "\n",
        "$P_{i} = \\frac{c_i }{b_i - a_i P_{i-1}}$\n",
        "\n",
        "$Q_i = \\frac{a_i Q_{i-1} - q_i}{b_i - a_i P_{i-1}}$\n",
        "\n",
        "Reverse:\n",
        "\n",
        "$x_{n-1} = P_{n-1}x_n + Q_{n-1}$\n",
        "\n",
        "$\\begin{cases}\n",
        "  q_n = a_n x_{n-1} - b_n x_n \\\\\n",
        "  q_n = a_n(P_{n-1}x_n + Q_{n-1}) - b_n x_n \n",
        "\\end{cases}$\n",
        "\n",
        "$x_n(a_n P_{n-1} - b_n) = q_n - a_n Q_{n-1} $\n",
        "\n",
        "$x_n = Q_n = \\frac{a_n Q_{n-1} - q_n}{b_n - a_n P_{n-1}}$\n"
      ]
    },
    {
      "cell_type": "markdown",
      "metadata": {
        "id": "EpkjnslvEOwH",
        "colab_type": "text"
      },
      "source": [
        "### 10. Implement code prototype of the future algorithm implementation. Classes/methods (if you use OOP), functions. The final implementation (on language chosen by you) should not differ from the functions declared in the prototype. [Python code]"
      ]
    },
    {
      "cell_type": "code",
      "metadata": {
        "id": "hpqHaWMwQCfP",
        "colab_type": "code",
        "colab": {}
      },
      "source": [
        "def build_spline(x, y):\n",
        "  pass\n",
        "\n",
        "def compute_spline_value(spline):\n",
        "  pass\n",
        "\n",
        "def direct_pass():\n",
        "  pass\n",
        "\n",
        "def reverse_pass():\n",
        "  pass\n",
        "\n",
        "def main():\n",
        "  pass\n"
      ],
      "execution_count": 0,
      "outputs": []
    },
    {
      "cell_type": "markdown",
      "metadata": {
        "id": "o7etS1JmEOwO",
        "colab_type": "text"
      },
      "source": [
        "### 11. Derive formula of Cubic Spline method error [Mathematical formulas]"
      ]
    },
    {
      "cell_type": "markdown",
      "metadata": {
        "id": "85bE4Gj2uai1",
        "colab_type": "text"
      },
      "source": [
        "$|| f^{(p)}(x)-S_3^{(p)}(x)||_{C[a,b]} = \\max\\limits_{[a,b]}|f^{(p)}(x)-S_3^{(p)}(x)|\\leq M_4h^{4-p}$, $p=0,1,2$\n",
        "\n",
        "Book page: 192, formula: 4.78"
      ]
    },
    {
      "cell_type": "markdown",
      "metadata": {
        "id": "GqjbLi3KEOwU",
        "colab_type": "text"
      },
      "source": [
        "### 12. Rate the complexity of the algorithm [Text, and rate in terms of big O, no more than 100 characters]"
      ]
    },
    {
      "cell_type": "markdown",
      "metadata": {
        "id": "qIJRDfgZucIV",
        "colab_type": "text"
      },
      "source": [
        "O(n) for forward, O(n) for reverse\n",
        "\n",
        "=> result: O(n)"
      ]
    },
    {
      "cell_type": "markdown",
      "metadata": {
        "id": "oLSprMC6EOwZ",
        "colab_type": "text"
      },
      "source": [
        "\n",
        "\n",
        "### Congrats!"
      ]
    }
  ]
}