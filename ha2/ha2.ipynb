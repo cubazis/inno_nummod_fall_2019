{
 "cells": [
  {
   "cell_type": "code",
   "execution_count": 53,
   "metadata": {},
   "outputs": [],
   "source": [
    "import sympy as sp\n",
    "import numpy as np\n",
    "import matplotlib.pyplot as plt\n",
    "from bisect import bisect_left"
   ]
  },
  {
   "cell_type": "markdown",
   "metadata": {},
   "source": [
    "### 1. Formulate the statement of the interpolation problem with Cubic Spline [mathematical formula]\n"
   ]
  },
  {
   "cell_type": "markdown",
   "metadata": {},
   "source": [
    "Let $y_i=f(x_i)$ be grid function on $\\Omega_n$, where $i=\\overline{0, n}$, $x_i \\in [a, b]$. Find a function S such that $S(x_i)=f_i$, $S(x)$ is a polynomial of degree 3 ($S_3(x)$).\n",
    "\n",
    "$S_3(x) = \\bigcup \\limits_{i=0}^{n-1} S_{3, i}(x)$, such that $S_3 \\in C^2[a, b]$, with defect $q = 1$\n",
    "\n",
    "\n",
    "\n",
    "\n"
   ]
  },
  {
   "cell_type": "markdown",
   "metadata": {},
   "source": [
    "### 2. Formulate the functional and differential compatibility conditions [mathematical formula]"
   ]
  },
  {
   "cell_type": "markdown",
   "metadata": {},
   "source": [
    "Compatibility conditions:\n",
    "$\\delta S^{(p_1)}_{3, i}(x_j) = S^{(p_1)}_{3, i}(x)$ $\\large|_{x=x_i}$ $ - f^{(p_1)}(x)$ $\\large |_{x=x_i}$ \n",
    "$ = 0, j = i, i+1$\n",
    "\n",
    "Where $p_1$ is set $\\in\\mathbb{Z}$. For different $p_1$ we have different conditions. When $p_1=0$ - functional, for $p_1=1$ or more - differential but in usual case $p_1 = \\{0, 2\\}$\n",
    "\n",
    "Functional compatibility conditions:\n",
    "\n",
    "$\\delta S_{3, i}(x)$ $\\large|_{x=x_i}$ $= S_{3, i}(x_i)$ $ - f(x_i)$ $ = 0$\n",
    "\n",
    "$\\delta S_{3, i}(x)$ $\\large|_{x=x_{i+1}}$ $= S_{3, i}(x_{i+1})$ $ - f(x_{i+1})$ $ = 0$\n",
    "\n",
    "Differential compatibility conditions:\n",
    "\n",
    "$\\delta S^{''}_{3, i}(x)$ $\\large|_{x=x_i}$ $= S^{''}_{3, i}(x_i)$ $ - f^{''}(x_i)$ $ = 0$\n",
    "\n",
    "$\\delta S^{''}_{3, i}(x)$ $\\large|_{x=x_{i+1}}$ $= S^{''}_{3, i}(x_{i+1})$ $ - f^{''}(x_{i+1})$ $ = 0$\n",
    "\n",
    "\n",
    "\n",
    "\n",
    "\n",
    "\n",
    "\n",
    "\n",
    "\n"
   ]
  },
  {
   "cell_type": "markdown",
   "metadata": {},
   "source": [
    "### 3. Formulate stitching conditions [mathematical formula]"
   ]
  },
  {
   "cell_type": "markdown",
   "metadata": {},
   "source": [
    "$S^{(p_2)}_{3, i-1}(x)$ $\\large|_{x=x_i}$ \n",
    "$= S^{(p_2)}_{3, i}(x)$ $\\large|_{x=x_i}$  $ i = \\overline{1, n-1}$\n",
    "\n",
    "Where $p_2$ is number $\\in\\mathbb{Z}$. $p_2\\notin p_1$, where $p_1$ from compatibility conditions\n",
    "\n",
    "In usual case $p_2 = 1$\n",
    "\n",
    "* $S^{'}_{3, i-1}(x)$ $\\large|_{x=x_i}$ \n",
    "$= S^{'}_{3, i}(x)$ $\\large|_{x=x_i}$  $ i = \\overline{1, n-1}$\n",
    "\n",
    "\n",
    "\n",
    "\n",
    "\n",
    "\n",
    "\n",
    "\n"
   ]
  },
  {
   "cell_type": "markdown",
   "metadata": {},
   "source": [
    "### 4. Justify why these conditions provide you with the required smoothness [thesis text, no more than 500 characters]"
   ]
  },
  {
   "cell_type": "markdown",
   "metadata": {},
   "source": [
    "Functional compatibility condition defined for all spline. They ensures that the resulting function solves the interpolation problem.\n",
    "\n",
    "Differential compatibility condition also defined for all spline. They provides additional equations in system to find coefficient of spline.\n",
    "\n",
    "Stitching conditions defined for different components of spline $(S_{i-1},S_i)$ in the same node. They ensure that the resulting function is continuous and differentiable on $[x_0;x_n]$\n",
    "\n",
    "\n",
    "\n",
    "\n",
    "\n",
    "\n",
    "\n"
   ]
  },
  {
   "cell_type": "markdown",
   "metadata": {},
   "source": [
    "### 5. Derive dependency formula: the dependence of the second derivatives at the grid nodes on the increment of the function (the function values difference on the grid nodes). [Mathematical formulas derivation. Detailed, with clear transitions]"
   ]
  },
  {
   "cell_type": "markdown",
   "metadata": {},
   "source": [
    "Lets find first and second derivatives of Cubic Spline:\n",
    "\n",
    "$S^{'}_{3, i}(x) = a_{1,i} + 2a_{2, i}(x - x_i) + 3a_{3, i}(x - x_i)^2$\n",
    "\n",
    "$S^{''}_{3, i}(x) = 2a_{2, i} + 6a_{3, i} (x - x_i)$\n",
    "\n",
    "Substitute functional and differential compatibility conditions with this derivatives:\n",
    "\n",
    "\\begin{cases} a_{0,i} + a_{1,i}(x_i - x_i) + a_{2,i}(x_i - x_i)^2 + a_{3,i}(x_i - x_i)^3 - f(x_i) = 0 \\\\ a_{0,i} + a_{1,i}(x_{i+1} - x_i) + a_{2,i}(x_{i+1} - x_i)^2 + a_{3,i}(x_{i+1} - x_i)^3 - f(x_{i+1}) = 0 \\\\ 2a_{2,i} + 6a_{3,i}(x_i - x_i) - f^{''}(x_i) = 0 \\\\ 2a_{2,i} + 6a_{3,i}(x_{i+1} - x_i) - f^{''}(x_{i+1}) = 0 \\end{cases}\n",
    "\n",
    "Let $h_{i+1} = x_{i+1} - x_{i}$, $\\Delta f_i = f_{i+1} - f_{i}$, $f_i = f(x_i)$, $\\Delta m_i = m_{i+1} - m_i$, $m_i = f^{''}(x_i)$\n",
    "\n",
    "\\begin{cases} a_{0, i} - f_i = 0 \\\\ a_{0,i} + a_{1,i}(x_{i+1} - x_i) + a_{2,i}(x_{i+1} - x_i)^2 + a_{3,i}(x_{i+1} - x_i)^3 - f_{i+1} = 0 \\\\ 2a_{2, i} - m_i = 0 \\\\ 2a_{2, i} + 6a_{3, i}(x_{i+1} - x_i) - m_{i+1} = 0 \\end{cases}\n",
    "\n",
    "Subtracting 3th from 4rd equations and then substituting all founded $a$ except $a_{1_i}$ in second equation we get:\n",
    "\n",
    "\\begin{cases} a_{0, i} = f_i \\\\ a_{1, i} = \\frac{1}{h_{i+1}}\\Delta f_i - \\frac{h_{i+1}}{2} m_i - \\frac{h_{i+1}}{6}\\Delta m_i \\\\  a_{2, i} = \\frac{m_i}{2} \\\\ a_{3, i} = \\frac{1}{6h_{i+1}}\\Delta m_i \\end{cases}\n",
    "\n",
    "So the spline equation and derivative of it become look:\n",
    "\n",
    "\\begin{equation}S_{3, i}(x) = f_i + \\left( \\frac{1}{h_{i+1}}\\Delta f_i - \\frac{h_{i+1}}{2} m_i - \\frac{h_{i+1}}{6}\\Delta m_i \\right)(x-x_i) + \\frac{m_i}{2} (x - x_i)^2 + \\frac{1}{6h_{i+1}}\\Delta m_i (x - x_i)^3\\end{equation}\n",
    "\n",
    "Let rewrite stitching condition given $p_2=1$ with founded coefficients $a_0,a_1,a_2,a_3$:\n",
    "\n",
    "$$ S'_{i-1}(x_i) = S'_i(x_i) $$\n",
    "$$S^{'}_{3, i}(x) = a_{1,i} + 2a_{2, i}(x - x_i) + 3a_{3, i}(x - x_i)^2$$\n",
    "\\begin{equation} \\frac{1}{h_i} \\Delta f_{i-1} - \\frac{h_i}{2} m_{i-1} - \\frac{h_i}{6} \\Delta m_{i-1} +  m_{i-1}(x_i + x_{i-1}) + \\frac{\\Delta m_{i-1}}{2h_{i}}(x_i - x_{i-1})^2 = \\frac{1}{h_{i+1}} \\Delta f_{i} - \\frac{h_{i+1}}{2} m_{i} - \\frac{h_{i+1}}{6} \\Delta m_{i} +  m_{i}(x_i + x_{i}) + \\frac{\\Delta m_{i}}{2h_{i+1}}(x_i - x_{i})^2 \\end{equation}\n",
    "\n",
    "After solving this equations we get the dependence of the second derivatives$(m)$ at the grid nodes on the increment of the function$(\\Delta f)$:\n",
    "\n",
    "\\begin{equation} \\frac{h_i}{6}m_{i-1} + \\frac{h_i + h_{i+1}}{3} m_i + \\frac{h_{i+1}}{6} m_{i+1} =  \\frac{1}{h_{i+1}} \\Delta f_i - \\frac{1}{h_i} \\Delta f_{i-1} \\end{equation}"
   ]
  },
  {
   "cell_type": "markdown",
   "metadata": {},
   "source": [
    "### 6. Create a system of equations using this formula [Matrix representation. Mathematical formulas]"
   ]
  },
  {
   "cell_type": "markdown",
   "metadata": {},
   "source": [
    "For using Tridiagonal matrix algorithm equations should be in form (from page 31 of the textbook):\n",
    "\n",
    "$\\alpha_i*m_{i-1}-\\beta_i*m_i+\\gamma_i*m_{i+1}=\\delta_i, \\\\ \\alpha_1=\\gamma_n=0, \\\\ i=\\overline{1, n-1}$\n",
    "$$ \\alpha_i = \\frac{h_i}{6} $$\n",
    "$$ -\\beta_i = \\frac{h_i + h_{i+1}}{3} $$\n",
    "$$ \\gamma_i = \\frac{h_{i+1}}{6} $$\n",
    "$$ \\delta_i = \\frac{\\Delta f_i}{h_{i+1}} - \\frac{\\Delta f_{i-1}}{h_i}$$ \n",
    "\n",
    "$$ \\begin{bmatrix}\n",
    "    -\\beta_1    & \\gamma_1    & 0 & 0     & \\dots   & 0      \\\\\n",
    "    \\alpha_2    & -\\beta_2    & \\gamma_2  & 0  & \\dots   & 0      \\\\\n",
    "    0      & \\alpha_3    & -\\beta_3    & \\gamma_3 & \\dots   & 0      \\\\\n",
    "    \\vdots & \\vdots & \\vdots & \\vdots & \\ddots  & \\vdots \\\\\n",
    "    0      & 0      & 0      & \\dots  & \\alpha_{n-1}    & -\\beta_{n-1} \n",
    "\\end{bmatrix} \\begin{bmatrix}\n",
    "    m_1 \\\\\n",
    "    m_2 \\\\\n",
    "    m_3 \\\\\n",
    "    \\vdots \\\\\n",
    "    m_{n-1}\n",
    "\\end{bmatrix} = \\begin{bmatrix}\n",
    "    \\delta_1 \\\\\n",
    "    \\delta_2 \\\\\n",
    "    \\delta_3 \\\\\n",
    "    \\vdots \\\\\n",
    "    \\delta_{n-1}\n",
    "\\end{bmatrix} $$ \n",
    "\n",
    "\n",
    "\n",
    "\n",
    "\n",
    "\n",
    "\n"
   ]
  },
  {
   "cell_type": "markdown",
   "metadata": {},
   "source": [
    "### 7. Explain what is an unknown variable in this system. whether the system is closed with respect to an unknown variable. What is missing for closure. [Text, no more than 200 characters]"
   ]
  },
  {
   "cell_type": "markdown",
   "metadata": {},
   "source": [
    "The unknown variable is $m$, which is the second derivative of function $f$.\n",
    "\n",
    "This system is not closed. A natural spline can be obtained by adding two equations (edge conditions) to the system to make it solvable: \n",
    "$$ m_0 = 0 $$\n",
    "$$ m_N = 0 $$ \n",
    "\n",
    "\n",
    "\n",
    "\n",
    "\n",
    "\n",
    "\n",
    "\n"
   ]
  },
  {
   "cell_type": "markdown",
   "metadata": {},
   "source": [
    "### 8. Bring this matrix to the appropriate form to use the Tridiagonal matrix algorithm [Mathematical derivation. Use Gauss Elimination]"
   ]
  },
  {
   "cell_type": "markdown",
   "metadata": {},
   "source": [
    "$$ \\begin{bmatrix}\n",
    "    1      & -P_1   & 0      & 0      & \\dots     & 0      \\\\\n",
    "    0      & 1      & -P_2   & 0      & \\dots     & 0      \\\\\n",
    "    0      & 0      & 1      & -P_3   & \\dots     & 0      \\\\\n",
    "    \\vdots & \\vdots & \\vdots & \\vdots & \\ddots    & \\vdots \\\\\n",
    "    0      & 0      & 0      & 0      & \\dots     & 1 \n",
    "\\end{bmatrix} M = \\begin{bmatrix}\n",
    "    Q_1 \\\\\n",
    "    Q_2 \\\\\n",
    "    Q_3 \\\\\n",
    "    \\vdots \\\\\n",
    "    Q_{n-1}\n",
    "\\end{bmatrix} $$ \n",
    "\n",
    "\n",
    "\n",
    "\n",
    "\n",
    "\n",
    "\n"
   ]
  },
  {
   "cell_type": "markdown",
   "metadata": {},
   "source": [
    "### 9. Derive formulas of direct pass and reverse pass of Tridiagonal matrix algorithm [Mathematical formals]"
   ]
  },
  {
   "cell_type": "markdown",
   "metadata": {},
   "source": [
    "Direct pass:\n",
    "\n",
    "1) Find initial $P$ and $Q$:\n",
    "$$ P_1 = \\frac{\\gamma_1}{\\beta_1} $$ \n",
    "$$ Q_1 = - \\frac{\\gamma_1}{\\beta_1} $$ \n",
    "2) Find coefficients for $i=\\overline{2, n-2}$:\n",
    "$$ P_i = \\frac{\\gamma_i}{\\beta_i - \\alpha_i P_{i-1}} $$ \n",
    "$$ Q_i = \\frac{\\alpha_i Q_{i-1} - \\delta_i}{\\beta_i - \\alpha_i P_{i-1}} $$\n",
    "\n",
    "\n",
    "Reverse pass:\n",
    "\n",
    "1) Find last $m$:\n",
    "$$ m_{n-1} = \\frac{\\alpha_{n-1} Q_{n-2} - \\delta_{n-1}}{\\beta_{n-1} - \\alpha_{n-1} P_{n-2}}  $$ \n",
    "2) Find $m_i$ for $i=\\overline{1, n-2}$:\n",
    "$$ m_i=P_i*m_{i+1}+Q_i$$\n",
    "\n",
    "\n",
    "\n",
    "\n",
    "\n",
    "\n",
    "\n",
    "\n",
    "\n"
   ]
  },
  {
   "cell_type": "markdown",
   "metadata": {},
   "source": [
    "### 10. Implement code prototype of the future algorithm implementation. Classes/methods (if you use OOP), functions. The final implementation (on language chosen by you) should not differ from the functions declared in the prototype. [Python code]"
   ]
  },
  {
   "cell_type": "code",
   "execution_count": 57,
   "metadata": {},
   "outputs": [],
   "source": [
    "def metod_progonki(A, d):\n",
    "    \"\"\"\n",
    "    :param A: np.ndarray of dimensionality 2. In tridiagonal form.\n",
    "    :param d: np.ndarray of dimensionality 1. Corresponding vector. I.e. b term in Ax = b.\n",
    "    :return: np.ndarray. Array of solutions.\n",
    "    \"\"\"\n",
    "    n = A.shape[0]\n",
    "    xs = np.zeros(n)\n",
    "\n",
    "    Ps = []\n",
    "    Qs = []\n",
    "\n",
    "    Ps.append(A[0][1] / -A[0][0])\n",
    "    Qs.append(d[0] / A[0][0])\n",
    "\n",
    "    for i in range(1, n):\n",
    "    Ps.append(A[i][i+1] / (-A[i][i - 1] * Ps[-1] - A[i][i]))\n",
    "    Qs.append((-d[i] + A[i][i - 1] * Qs[-1]) / (-A[i][i - 1] * Ps[-2] - A[i][i]))\n",
    "\n",
    "    xs[n - 1] = (d[n - 1] - A[n - 1][n - 2] * Qs[-1]) / (A[n - 1][n - 2] + A[n - 1][n - 1])\n",
    "\n",
    "    for i in range(n - 2, 0, -1):\n",
    "    xs[i] = Ps[i] * xs[i + 1] + Qs[i]\n",
    "\n",
    "    return xs"
   ]
  },
  {
   "cell_type": "markdown",
   "metadata": {},
   "source": [
    "### 11. Derive formula of Cubic Spline method error [Mathematical formulas]"
   ]
  },
  {
   "cell_type": "markdown",
   "metadata": {},
   "source": [
    "Cubic Spline method error:\n",
    "\n",
    "$|| f^{(p)}(x)-S_3^{(p)}(x)||_{C[a,b]} = \\max_{[a,b]}|f^{(p)}(x)-S_3^{(p)}(x)|\\leq M_4h^{4-p}$, $p=0,1,2$\n",
    "\n",
    "Then, using each p:\n",
    "\n",
    "$|| f^{(0)}(x)-S_3^{(0)}(x)||_{C[a,b]} = \\max_{[a,b]}|f^{(0)}(x)-S_3^{(0)}(x)|\\leq M_4h^{4}$, for function\n",
    "\n",
    "$|| f^{(1)}(x)-S_3^{(1)}(x)||_{C[a,b]} = \\max_{[a,b]}|f^{(1)}(x)-S_3^{(1)}(x)|\\leq M_4h^{3}$, for first derivative\n",
    "\n",
    "$|| f^{(2)}(x)-S_3^{(2)}(x)||_{C[a,b]} = \\max_{[a,b]}|f^{(2)}(x)-S_3^{(2)}(x)|\\leq M_4h^{2}$, for second derivative\n",
    "\n",
    "This metrics only work for $f(x) \\in C_4[a,b]$\n"
   ]
  },
  {
   "cell_type": "markdown",
   "metadata": {},
   "source": [
    "### 12. Rate the complexity of the algorithm [Text, and rate in terms of big O, no more than 100 characters]"
   ]
  },
  {
   "cell_type": "markdown",
   "metadata": {},
   "source": [
    "For the direct pass, there is $O(n)$\n",
    "\n",
    "For the reverse pass, there is $O(n)$\n",
    "\n",
    "Combining $O(2n) = O(n)$"
   ]
  },
  {
   "cell_type": "markdown",
   "metadata": {},
   "source": [
    "### Congrats!"
   ]
  }
 ],
 "metadata": {
  "kernelspec": {
   "display_name": "Python 3",
   "language": "python",
   "name": "python3"
  },
  "language_info": {
   "codemirror_mode": {
    "name": "ipython",
    "version": 3
   },
   "file_extension": ".py",
   "mimetype": "text/x-python",
   "name": "python",
   "nbconvert_exporter": "python",
   "pygments_lexer": "ipython3",
   "version": "3.7.3"
  }
 },
 "nbformat": 4,
 "nbformat_minor": 2
}
