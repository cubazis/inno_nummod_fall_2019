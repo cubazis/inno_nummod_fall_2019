{
  "nbformat": 4,
  "nbformat_minor": 0,
  "metadata": {
    "kernelspec": {
      "display_name": "Python 3",
      "language": "python",
      "name": "python3"
    },
    "language_info": {
      "codemirror_mode": {
        "name": "ipython",
        "version": 3
      },
      "file_extension": ".py",
      "mimetype": "text/x-python",
      "name": "python",
      "nbconvert_exporter": "python",
      "pygments_lexer": "ipython3",
      "version": "3.6.8"
    },
    "colab": {
      "name": "Copy of ha2.ipynb",
      "provenance": []
    }
  },
  "cells": [
    {
      "cell_type": "code",
      "metadata": {
        "id": "kzVCpdhxGW8A",
        "colab_type": "code",
        "colab": {}
      },
      "source": [
        "import sympy as sp\n",
        "import numpy as np\n",
        "import matplotlib.pyplot as plt"
      ],
      "execution_count": 0,
      "outputs": []
    },
    {
      "cell_type": "markdown",
      "metadata": {
        "id": "WXn5ZuOoGW8E",
        "colab_type": "text"
      },
      "source": [
        "### 1. Formulate the statement of the interpolation problem with Cubic Spline [mathematical formula]"
      ]
    },
    {
      "cell_type": "markdown",
      "metadata": {
        "id": "4a6abTEmGa7k",
        "colab_type": "text"
      },
      "source": [
        "The task is to complete a grid-based function $y_i = f(x_i)$, $i = \\overline{0, n}$, $x_i \\in [a,b]$\n",
        "on the basis of Cubic Spline with $q=1$, meaning\n",
        "\n",
        "$S_3 \\in C_2[a, b]$\n",
        "\n",
        "and\n",
        "\n",
        "$S_{3, i} = a_{0, i} + a_{1, i} (x - x_i) + a_{2, i} (x - x_i)^2 + a_{3, i} (x - x_i)^3 $"
      ]
    },
    {
      "cell_type": "markdown",
      "metadata": {
        "id": "EmgfYv__GW8I",
        "colab_type": "text"
      },
      "source": [
        "### 2. Formulate the functional and differential compatibility conditions [mathematical formula]"
      ]
    },
    {
      "cell_type": "markdown",
      "metadata": {
        "id": "LhQQnJ8LfXxu",
        "colab_type": "text"
      },
      "source": [
        "Functional compatibility conditions:\n",
        "1. $\\delta S_{3, i}(x)$ $\\large|_{x=x_i}$ $= S_{3, i}(x_i)$ $ - f(x_i)$ $ = 0$\n",
        "2. $\\delta S_{3, i}(x)$ $\\large|_{x=x_{i+1}}$ $= S_{3, i}(x_{i+1})$ $ - f(x_{i+1})$ $ = 0$\n",
        "\n",
        "Differential compatibility conditions:\n",
        "3. $\\delta S^{''}_{3, i}(x)$ $\\large|_{x=x_i}$ $= S^{''}_{3, i}(x_i)$ $ - f^{''}(x_i)$ $ = 0$\n",
        "4. $\\delta S^{''}_{3, i}(x)$ $\\large|_{x=x_{i+1}}$ $= S^{''}_{3, i}(x_{i+1})$ $ - f^{''}(x_{i+1})$ $ = 0$"
      ]
    },
    {
      "cell_type": "markdown",
      "metadata": {
        "id": "d-IomgjyGW8M",
        "colab_type": "text"
      },
      "source": [
        "### 3. Formulate stitching conditions [mathematical formula]"
      ]
    },
    {
      "cell_type": "markdown",
      "metadata": {
        "id": "_V0xQPX4fNF1",
        "colab_type": "text"
      },
      "source": [
        "$S^{'}_{3, i-1}(x)$ $\\large|_{x=x_i} = S^{'}_{3, i}(x)$ $\\large|_{x=x_i}$  $ i = \\overline{1, n-1}$\n"
      ]
    },
    {
      "cell_type": "markdown",
      "metadata": {
        "id": "Mo-GQPQMGW8Q",
        "colab_type": "text"
      },
      "source": [
        "### 4. Justify why these conditions provide you with the required smoothness [thesis text, no more than 500 characters]"
      ]
    },
    {
      "cell_type": "markdown",
      "metadata": {
        "id": "ioT-8u7E8KjG",
        "colab_type": "text"
      },
      "source": [
        "The fuction is in smoothness  $ C_2[a,b]$, which means that the first and second derivatives are continuos. \n",
        "\n",
        "Functional and diffirential conditions provide us with continuity in the spline (up to the second derivative), and stitching conditions provie us continuity at the end of the splines.\n",
        "\n"
      ]
    },
    {
      "cell_type": "markdown",
      "metadata": {
        "id": "cLRUad5XGW8V",
        "colab_type": "text"
      },
      "source": [
        "### 5. Derive dependency formula: the dependence of the second derivatives at the grid nodes on the increment of the function (the function values difference on the grid nodes). [Mathematical formulas derivation. Detailed, with clear transitions]"
      ]
    },
    {
      "cell_type": "markdown",
      "metadata": {
        "id": "B5Wb7IRAngP6",
        "colab_type": "text"
      },
      "source": [
        "Spline eqaution: $S_i(x) = a_{0,i} + a_{1,i}(x - x_i) + a_{2,i}(x-x_i)^2 + a_{3,i}(x-x_i)^3$\n",
        "\n",
        "Compatibility conditions: \n",
        "1. $ S_{3, i}(x_i)$ $ - f(x_i)$ $ = 0$\n",
        "2. $S_{3, i}(x_{i+1})$ $ - f(x_{i+1})$ $ = 0$\n",
        "3. $S^{''}_{3, i}(x_i)$ $ - f^{''}(x_i)$ $ = 0$\n",
        "4. $ S^{''}_{3, i}(x_{i+1})$ $ - f^{''}(x_{i+1})$ $ = 0$\n",
        "\n",
        "First derivative of $S_i(x)$:\n",
        "\n",
        "$S'_{3, i}(x) = a_{1,i} + 2a_{2, i}(x - x_i) + 3a_{3, i}(x - x_i)^2$\n",
        "\n",
        "Second derivative of $S_i(x)$:\n",
        "\n",
        "$S''_{3, i}(x) = 2a_{2, i} + 6a_{3, i} (x - x_i)$\n",
        "\n",
        "Substituting each equation of Compatibility conditions with Spline eqaution and the second derivative of $S_i(x)$:\n",
        "1. $ a_{0i} + a_{1,i}(x_i - x_i) + a_{2i}(x_i-x_i)^2 + a_{3i}(x_i-x_i)^3- f(x_i) = 0$\n",
        "2. $a_{0,i} + a_{1,i}(x_{i+1} - x_i) + a_{2,i}(x_{i+1} - x_i)^2 + a_{3,i}(x_{i+1} - x_i)^3 - f(x_{i+1}) = 0 $\n",
        "3. $2a_{2, i} + 6a_{3, i} (x_i - x_i) - f^{''}(x_i) = 0$\n",
        "4. $ 2a_{2, i} + 6a_{3, i} (x_{i+1} - x_i) - f^{''}(x_{i+1}) = 0$\n",
        "\n",
        "Then:\n",
        "1. $ a_{0i} - f(x_i) = 0$\n",
        "2. $a_{0,i} + a_{1,i}(x_{i+1} - x_i) + a_{2,i}(x_{i+1} - x_i)^2 + a_{3,i}(x_{i+1} - x_i)^3 - f(x_{i+1}) = 0 $\n",
        "3. $2a_{2, i}  - f^{''}(x_i) = 0$\n",
        "4. $ 2a_{2, i} + 6a_{3, i} (x_{i+1} - x_i) - f^{''}(x_{i+1}) = 0$\n",
        "\n",
        "\n",
        "Substracting (3) from (4):\n",
        "\n",
        "5.$6a_{3, i} (x_{i+1} - x_i) +  f^{''}(x_i) -  f^{''}(x_{i+1}) = 0 $\n",
        "\n",
        "Given that $h_{i+1} = x_{i+1} - x_{i}$, $\\Delta f_i = f_{i+1} - f_{i}$, $f_i = f(x_i)$, $\\Delta m_i = m_{i+1} - m_i$, $m_i = f^{''}(x_i)$\n",
        "\n",
        "$6a_{3, i}h_{i+1} - \\Delta m_i = 0$\n",
        "\n",
        "Therefore: $a_{3, i} = \\frac{1}{6h_{i+1}}\\Delta m_i$\n",
        "\n",
        "Therefore:\n",
        "1. $ a_{0i} = f(x_i)$\n",
        "2. $a_{0,i} + a_{1,i}(x_{i+1} - x_i) + a_{2,i}(x_{i+1} - x_i)^2 + a_{3,i}(x_{i+1} - x_i)^3 - f(x_{i+1}) = 0 $\n",
        "3. $a_{2, i} = \\frac{m_i}{2}$\n",
        "4. $a_{3, i} = \\frac{1}{6h_{i+1}}\\Delta m_i$\n",
        "\n",
        "Substituting all the known variables in (2) and solving it for $a_{1, i}$ :\n",
        "\n",
        "$f_i + a_{1,i}h_{i+1} + \\frac{m_i}{2} h_{i+1}^2 + \\frac{1}{6h_{i+1}}\\Delta m_i h_{i+1}^3 - f_{i+1} = 0$\n",
        "$a_{1, i} = \\frac{1}{h_{i+1}}\\Delta f_i - \\frac{h_{i+1}}{2} m_i - \\frac{h_{i+1}}{6}\\Delta m_i$\n",
        "\n",
        "Therefore the coefficients become:\n",
        "1. $ a_{0i} = f(x_i)$\n",
        "2. $a_{1, i} = \\frac{1}{h_{i+1}}\\Delta f_i - \\frac{h_{i+1}}{2} m_i - \\frac{h_{i+1}}{6}\\Delta m_i$\n",
        "3. $a_{2, i} = \\frac{m_i}{2}$\n",
        "4. $a_{3, i} = \\frac{1}{6h_{i+1}}\\Delta m_i$\n",
        "\n",
        "The formaula then becomes:\n",
        "$  S_{3,i}(x) = f(x_i) \n",
        "        + ( \\frac{1}{h_{i+1}}\\Delta f_i - \\frac{h_{i+1}}{2} m_i - \\frac{h_{i+1}}{6}\\Delta m_i) (x-x_i)\n",
        "        + \\frac{m_i}{2} (x-x_i)^2 +  \\frac{1}{6h_{i+1}}\\Delta m_i (x-x_i)^3.$\n",
        "        \n",
        "Using stiching conditions and the first derivative:\n",
        "\n",
        "$  S_{3, i-1}^{'}(x) = a_{1, i-1} + 2a_{2, i-1}(x - x_{i-1}) + 3a_{3, i-1}(x - x_{i-1})^2 $ \n",
        "\n",
        "\n",
        "$ S_{3, i}^{'}(x) = a_{1, i} + 2a_{2, i}(x - x_{i}) + 3a_{3, i}(x - x_{i})^2$ \n",
        "\n",
        "Substitute coeffitients into stitching condition:\n",
        "$  \\frac{1}{h_i} \\Delta f_{i-1} - \\frac{h_i}{2} m_{i-1} - \\frac{h_i}{6} \\Delta m_{i-1} +  m_{i-1}(x_i - x_{i-1}) + \\frac{\\Delta m_{i-1}}{2h_{i}}(x_i - x_{i-1})^2 = \\frac{1}{h_{i+1}} \\Delta f_{i} - \\frac{h_{i+1}}{2} m_{i} - \\frac{h_{i+1}}{6} \\Delta m_{i} +  m_{i}(x_i - x_{i}) + \\frac{\\Delta m_{i}}{2h_{i+1}}(x_i - x_{i})^2 $ \n",
        "\n",
        "Simplifying:\n",
        "\n",
        "$\\frac{h_i}{6}m_{i-1} + \\frac{h_i + h_{i+1}}{3} m_i + \\frac{h_{i+1}}{6} m_{i+1} =  \\frac{1}{h_{i+1}} \\Delta f_i - \\frac{1}{h_i} \\Delta f_{i-1}$"
      ]
    },
    {
      "cell_type": "markdown",
      "metadata": {
        "id": "w0EMfw3WGW8Z",
        "colab_type": "text"
      },
      "source": [
        "### 6. Create a system of equations using this formula [Matrix representation. Mathematical formulas]"
      ]
    },
    {
      "cell_type": "markdown",
      "metadata": {
        "id": "HIvdkP0710uj",
        "colab_type": "text"
      },
      "source": [
        "$$\\begin{bmatrix} \\frac{h_1}{6}&\n",
        "\\frac{h_1 + h_2}{3} & \\frac{h_2}{6} & 0 & 0 & \\dots & 0 & 0 & 0 & \\frac{\\Delta f_1}{h_2} - \\frac{\\Delta f_0}{h_1} \\\\ 0 &\n",
        "\\frac{h_2}{6} & \\frac{h_2 + h_3}{3} & \\frac{h_3}{6} & 0 & \\dots & 0 & 0 & 0 & \\frac{\\Delta f_2}{h_3} - \\frac{\\Delta f_1}{h_2} \\\\ 0 &\n",
        "0 & \\frac{h_3}{6} & \\frac{h_3 + h_4}{3} & \\frac{h_4}{6} & \\dots & 0 & 0 & 0 & \\frac{\\Delta f_3}{h_4} - \\frac{\\Delta f_2}{h_3} \\\\ \\dots &\n",
        "\\dots & \\dots & \\dots & \\dots & \\dots & \\dots & \\dots & \\dots & \\dots \\\\ 0 &\n",
        "0 & 0 & 0 & 0 & \\dots & \\frac{h_{n-1}}{6} & \\frac{h_{n-1} + h_{n}}{3} & \\frac{h_n}{6} & \\frac{\\Delta f_{n-1}}{h_{n}} - \\frac{\\Delta f_{n-2}}{h_{n-1}}\n",
        "\\end{bmatrix} $$\n"
      ]
    },
    {
      "cell_type": "markdown",
      "metadata": {
        "id": "VBdo3z_TGW8e",
        "colab_type": "text"
      },
      "source": [
        "### 7. Explain what is an unknown variable in this system. whether the system is closed with respect to an unknown variable. What is missing for closure. [Text, no more than 200 characters]"
      ]
    },
    {
      "cell_type": "markdown",
      "metadata": {
        "id": "Nkq0LK6r5kwY",
        "colab_type": "text"
      },
      "source": [
        "In this system an unknown vaiable is  $m_i$. The system is not closed with respect to this unknown variable. For closure we should understand its value on the ends of the spline. We could assume that $m_0 = 0$, \n",
        "$m_n = 0$ to obtain a natural spline."
      ]
    },
    {
      "cell_type": "markdown",
      "metadata": {
        "id": "tIztonUkGW8j",
        "colab_type": "text"
      },
      "source": [
        "### 8. Bring this matrix to the appropriate form to use the Tridiagonal matrix algorithm [Mathematical derivation. Use Gauss Elimination]"
      ]
    },
    {
      "cell_type": "markdown",
      "metadata": {
        "id": "JA0oSqNKAElq",
        "colab_type": "text"
      },
      "source": [
        "$$\n",
        "\\begin{bmatrix}\n",
        "1 & \\frac{h_2}{2(h_1 + h_2)} & 0 & 0 & \\dots & (\\frac{\\Delta f_1}{h_2} - \\frac{\\Delta f_0}{h_1}) \\frac{3}{h_1 + h_2}  \\\\\n",
        "0 & 1 & \\frac{h_3}{2(h_2 + h_3)} - \\frac{2 h_3 (h_1 + h_2)}{h_2^2} & 0 & \\dots & (\\frac{h_2}{2(h_1 + h_2)} (\\frac{\\Delta f_1}{h_2} - \\frac{\\Delta f_0}{h_1}) - \\frac{\\Delta f_2}{h_3} + \\frac{\\Delta f_1}{h_2}) : (-\\frac{h_2 + h_3}{3} + \\frac{h_2^2}{12(h_1 + h_2)}) \\\\\n",
        "\\dots & \\dots & \\dots & \\dots & \\dots & \\dots \\\\\n",
        "0 & 0 & 0 & 1 & \\dots & (\\frac{h_{n-1}}{6} Q_{n-2}) : (-\\frac{h_{n-1} + h_n}{3} - \\frac{h_{n-1}}{6} P_{n-2})\n",
        "\\end{bmatrix}\n",
        "$$ "
      ]
    },
    {
      "cell_type": "markdown",
      "metadata": {
        "id": "cIwYMG0TGW8o",
        "colab_type": "text"
      },
      "source": [
        "### 9. Derive formulas of direct pass and reverse pass of Tridiagonal matrix algorithm [Mathematical formals]"
      ]
    },
    {
      "cell_type": "markdown",
      "metadata": {
        "id": "81yBavZN-y5t",
        "colab_type": "text"
      },
      "source": [
        "Direct pass:\n",
        "\n",
        "1. Find $P_1$ and $Q_1$\n",
        "\n",
        "    From 8th exercise:\n",
        "    $$-P_1 = -\\frac{\\gamma_1}{\\beta_1} = \\frac{h_2}{2(h_1 + h_2)}$$\n",
        "    $$P_1 = -\\frac{h_2}{2(h_1 + h_2)}$$\n",
        "    $$Q_1 = -\\frac{\\delta_1}{\\beta_1} = -(\\frac{\\Delta f_1}{h_2} - \\frac{\\Delta f_0}{h_1}) \\frac{3}{h_1 + h_2}$$\n",
        "\n",
        "2. Find coefficients $P_2, Q_2$; $P_3, Q_3$; $\\dots$; $P_{n-1}, Q_{n-1}$, where\n",
        "\n",
        "$$-P_2 = \\gamma_2 : (-\\beta_2 + \\frac{\\gamma_1 \\alpha_2}{\\beta_1}) =  \\gamma_2 : (-\\beta_2 + \\alpha_2 \\frac{\\gamma_1}{\\beta_1})$$\n",
        "\n",
        "Substitute $P_1$:\n",
        "\n",
        "$$P_2 = \\frac{\\gamma_2}{\\beta_2 - \\alpha_2 P_{1}}$$\n",
        "\n",
        "Thus,\n",
        "\n",
        "$P_i = \\frac{\\gamma_i}{\\beta_i - \\alpha_i P_{i-1}} = \\frac{h_{i+1}}{6} : (-\\frac{h_i + h_{i+1}}{3} - \\frac{h_i}{6} P_{i-1}) = - \\frac{h_{i+1}}{2(h_i + h_{i+1})} - \\frac{h_{i+1}}{h_i} P_{i-1}$\n",
        "\n",
        "$$Q_2 = (\\delta_2 + \\frac{\\delta_1 \\alpha_2}{\\beta_1}) : (-\\beta_2 + \\frac{\\gamma_1 \\alpha_2}{\\beta_1}) = (\\delta_2 - \\alpha_2 (-\\frac{\\delta_1}{\\beta_1})) : (-\\beta_2 + \\alpha_2 \\frac{\\gamma_1}{\\beta_1})$$\n",
        "\n",
        "Substitute $P_1$ and $Q_1$:\n",
        "\n",
        "$$Q_2 = \\frac{\\delta_2 - \\alpha_2 Q_1}{-\\beta_2 + \\alpha_2 P_1} = \\frac{\\alpha_2 Q_{1} - \\delta_2}{\\beta_2 - \\alpha_2 P_{1}}$$\n",
        "\n",
        "Thus,\n",
        "\n",
        "$Q_i = \\frac{\\alpha_i Q_{i-1} - \\delta_i}{\\beta_i - \\alpha_i P_{i-1}} = (\\frac{h_i}{6} Q_{i-1} - \\frac{\\Delta f_i}{h_{i+1}} + \\frac{\\Delta f_{i-1}}{h_i}) : (- \\frac{h_i + h_{i+1}}{3} - \\frac{h_i}{6} P_{i-1})$\n",
        "\n",
        "Reverse pass:\n",
        "\n",
        "1. Find $m_{n-1} = \\frac{\\alpha_{n-1} Q_{n-2} - \\delta_{n-1}}{\\beta_{n-1} - \\alpha_{n-1} P_{n-2}} = (\\frac{h_{n-1}}{6} Q_{n-2} - \\frac{\\Delta f_{n-1}}{h_{n}} + \\frac{\\Delta f_{n-2}}{h_{n-1}}) : (- \\frac{h_{n-1} + h_{n}}{3} - \\frac{h_{n-1}}{6} P_{n-2})$\n",
        "\n",
        "2. Find $m_{n-2}, m_{n-3}, \\dots, m_1$ with formula \n",
        "\n",
        "$m_{n-2} = P_{n-2} m_{n-1} + Q_{n-2} = P_{n-2} (\\frac{h_{n-1}}{6} Q_{n-2} - \\frac{\\Delta f_{n-1}}{h_{n}} + \\frac{\\Delta f_{n-2}}{h_{n-1}}) : (- \\frac{h_{n-1} + h_{n}}{3} - \\frac{h_{n-1}}{6} P_{n-2}) + Q_{n-2}$\n",
        "\n",
        "$m_{n-3} = P_{n-3} m_{n-2} + Q_{n-3}$\n",
        "\n",
        "$m_1 = P_1 m_2 + Q_1$\n"
      ]
    },
    {
      "cell_type": "markdown",
      "metadata": {
        "id": "crKw3Dx8GW8r",
        "colab_type": "text"
      },
      "source": [
        "### 10. Implement code prototype of the future algorithm implementation. Classes/methods (if you use OOP), functions. The final implementation (on language chosen by you) should not differ from the functions declared in the prototype. [Python code]"
      ]
    },
    {
      "cell_type": "code",
      "metadata": {
        "id": "zX6kts64GW8s",
        "colab_type": "code",
        "colab": {}
      },
      "source": [
        "def create_matrix():\n",
        "    pass\n",
        "\n",
        "def direct_pass():\n",
        "    pass\n",
        "  \n",
        "def reverse_pass():\n",
        "    pass\n",
        "\n",
        "def combine():\n",
        "    pass\n",
        "\n",
        "\n",
        "\n",
        "\n",
        "\n",
        "\n",
        "\n",
        "\n"
      ],
      "execution_count": 0,
      "outputs": []
    },
    {
      "cell_type": "markdown",
      "metadata": {
        "id": "9xl9JwpEGW8x",
        "colab_type": "text"
      },
      "source": [
        "### 11. Derive formula of Cubic Spline method error [Mathematical formulas]"
      ]
    },
    {
      "cell_type": "markdown",
      "metadata": {
        "id": "_HgbHaMsCYMu",
        "colab_type": "text"
      },
      "source": [
        "Assuming $u(x) \\in C_4[a,b]$, \n",
        "\n",
        "Cubic Spline error:\n",
        "\n",
        "$|| f^{(p)}(x) - S_3^{(p)}(x) ||_{C[a,b]} = \\max \\limits_{[a,b]} |  f^{(p)}(x) - S_3^{(p)}(x) | \\leq M_4 h^{4-p}, p = 0, 1, 2$\n",
        "\n",
        "For function:\n",
        "\n",
        "$|| f(x) - S_3(x) ||_{C[a,b]} = \\max \\limits_{[a,b]} |  f(x) - S_3(x) | \\leq M_4 h^{4}$\n",
        "\n",
        "For first derivative:\n",
        "\n",
        "$|| f^{'}(x) - S_3^{'}(x) ||_{C[a,b]} = \\max \\limits_{[a,b]} |  f^{'}(x) - S_3^{'}(x) | \\leq M_4 h^{3}$\n",
        "\n",
        "For second derivative:\n",
        "\n",
        "$|| f^{''}(x) - S_3^{''}(x) ||_{C[a,b]} = \\max \\limits_{[a,b]} |  f^{''}(x) - S_3^{''}(x) | \\leq M_4 h^{2}$\n"
      ]
    },
    {
      "cell_type": "markdown",
      "metadata": {
        "id": "WQrHRoWNGW80",
        "colab_type": "text"
      },
      "source": [
        "### 12. Rate the complexity of the algorithm [Text, and rate in terms of big O, no more than 100 characters]"
      ]
    },
    {
      "cell_type": "markdown",
      "metadata": {
        "id": "0at66xoPCg_b",
        "colab_type": "text"
      },
      "source": [
        "For Direct pass: $O(n)$\n",
        "\n",
        "For Reverse pass: $O(n)$\n",
        "\n",
        "Total: $O(n)$"
      ]
    },
    {
      "cell_type": "markdown",
      "metadata": {
        "id": "J0doanOqGW84",
        "colab_type": "text"
      },
      "source": [
        "### Congrats!"
      ]
    }
  ]
}