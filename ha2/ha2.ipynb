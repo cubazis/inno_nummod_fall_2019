{
  "nbformat": 4,
  "nbformat_minor": 0,
  "metadata": {
    "kernelspec": {
      "display_name": "Python 3",
      "language": "python",
      "name": "python3"
    },
    "language_info": {
      "codemirror_mode": {
        "name": "ipython",
        "version": 3
      },
      "file_extension": ".py",
      "mimetype": "text/x-python",
      "name": "python",
      "nbconvert_exporter": "python",
      "pygments_lexer": "ipython3",
      "version": "3.6.8"
    },
    "colab": {
      "name": "ha2.ipynb",
      "version": "0.3.2",
      "provenance": [],
      "collapsed_sections": []
    }
  },
  "cells": [
    {
      "cell_type": "code",
      "metadata": {
        "id": "d5Qz5Ow1ESFl",
        "colab_type": "code",
        "colab": {}
      },
      "source": [
        "import sympy as sp\n",
        "import numpy as np\n",
        "import matplotlib.pyplot as plt"
      ],
      "execution_count": 0,
      "outputs": []
    },
    {
      "cell_type": "markdown",
      "metadata": {
        "id": "6LjUO4AFESFq",
        "colab_type": "text"
      },
      "source": [
        "### 1. Formulate the statement of the interpolation problem with Cubic Spline [mathematical formula]"
      ]
    },
    {
      "cell_type": "markdown",
      "metadata": {
        "id": "K5Ach-6WvmyP",
        "colab_type": "text"
      },
      "source": [
        "Let y<sub>i</sub> = f(x<sub>i</sub>) to be grid function on $\\Omega$<sub>n</sub> and to be defined on [a, b]. We need to approximate it with S<sub>m</sub>(x), where **m** is the function degree.\n",
        "\n",
        "Given a set of n + 1 data points (x<sub>i</sub>, y<sub>i</sub>) with no two same x<sub>i</sub> and \n",
        "\n",
        "\\begin{equation*}a=x_{0}<x_{1}<\\cdots <x_{n}=b\\end{equation*}\n",
        "\n",
        "the cubic spline S(x) is a function satisfying:\n",
        "\n",
        "<ul>\n",
        "  <li> \\begin{equation*}S(x)\\in C^2[a, b]\\end{equation*}</li>\n",
        "  <li> On each subinterval [x<sub>i</sub>, x<sub>i+1</sub>] S(x) is a polynomial of degree 3, where i = 0, 1, ..., n-1</li>\n",
        "  </ul>"
      ]
    },
    {
      "cell_type": "code",
      "metadata": {
        "id": "OtGcgwe5ESFs",
        "colab_type": "code",
        "colab": {}
      },
      "source": [
        "### YOUR TEXT/CODE HERE\n",
        "\n",
        "\n",
        "\n",
        "\n",
        "\n",
        "\n",
        "\n",
        "\n"
      ],
      "execution_count": 0,
      "outputs": []
    },
    {
      "cell_type": "markdown",
      "metadata": {
        "id": "pEat93--ESFw",
        "colab_type": "text"
      },
      "source": [
        "### 2. Formulate the functional and differential compatibility conditions [mathematical formula]"
      ]
    },
    {
      "cell_type": "markdown",
      "metadata": {
        "id": "F_efbi4K4NKN",
        "colab_type": "text"
      },
      "source": [
        "### Functional compatability condition\n",
        "\n",
        "S(x) is a cubic polynomial, denoted S<sub>i</sub>, on the subinterval [x<sub>i</sub>, x<sub>i+1</sub>] for each i  = 0, 1, ..., n-1:\n",
        "\n",
        "**S(x<sub>i</sub>) = y<sub>i</sub>**\n",
        "\n",
        "\n",
        "### Differentail compatability condition\n",
        "\n",
        "S(x) is a cubic polynomial, denoted S<sub>i</sub>, on the subinterval [x<sub>i</sub>, x<sub>i+1</sub>] for each i  = 0, 1, ..., n-1:\n",
        "\n",
        "**S''(x<sub>i</sub>) = y''(x<sub>i</sub>)** \n"
      ]
    },
    {
      "cell_type": "code",
      "metadata": {
        "id": "s3JjF9wGESFx",
        "colab_type": "code",
        "colab": {}
      },
      "source": [
        "### YOUR TEXT/CODE HERE\n",
        "\n",
        "\n",
        "\n",
        "\n",
        "\n",
        "\n"
      ],
      "execution_count": 0,
      "outputs": []
    },
    {
      "cell_type": "markdown",
      "metadata": {
        "id": "vmDtYTr0ESFz",
        "colab_type": "text"
      },
      "source": [
        "### 3. Formulate stitching conditions [mathematical formula]"
      ]
    },
    {
      "cell_type": "markdown",
      "metadata": {
        "id": "s-T7hzp_jMQ9",
        "colab_type": "text"
      },
      "source": [
        "S(x) is a cubic polynomial, denoted Si, on the subinterval [xi, xi+1] for each i = 0, 1, ..., n-1\n",
        "\n",
        "<ul>\n",
        "  \n",
        "\\begin{equation*}S_{m, i+1}^{(p)}(x)|_{x = x_i} = S_{m, i}^{(p)}(x)|_{x = x_i}\n",
        "  \\end{equation*}\n",
        "  \n",
        "</ul>\n",
        "\n",
        "Where p - degree of derrivative, m - spline polynomial degree (in our case, **m == 3**)"
      ]
    },
    {
      "cell_type": "code",
      "metadata": {
        "id": "2uBb9SutESF0",
        "colab_type": "code",
        "colab": {}
      },
      "source": [
        "### YOUR TEXT/CODE HERE\n",
        "\n",
        "\n",
        "\n",
        "\n",
        "\n",
        "\n",
        "\n"
      ],
      "execution_count": 0,
      "outputs": []
    },
    {
      "cell_type": "markdown",
      "metadata": {
        "id": "CgVNIvblESF2",
        "colab_type": "text"
      },
      "source": [
        "### 4. Justify why these conditions provide you with the required smoothness [thesis text, no more than 500 characters]"
      ]
    },
    {
      "cell_type": "markdown",
      "metadata": {
        "id": "KsGwUYZJqYWX",
        "colab_type": "text"
      },
      "source": [
        "The compatability conditions ensure a cubic spline S(x), S'(x), S''(x) to be continuous on [a, b] . The \\begin{equation*}S_{i+1}''(x_{i+1}) = S_{i}(x_{i+1}'')\\end{equation*} equation gives spline **smoothness** of degree 2 and ensures the **loss of smoothness** to be 1.\n",
        "\n",
        "The stitching conditions ensure the derrivatives of degree p to be the same from left and right sides of the x<sub>i</sub>.\n",
        "\n",
        "These conditions ensure S<sub>3</sub>(x) $\\in$ C<sub>2</sub>[a, b] and the existense of continuous derrivatives of 1st and 2nd order."
      ]
    },
    {
      "cell_type": "code",
      "metadata": {
        "id": "deBGnqw2ESF3",
        "colab_type": "code",
        "colab": {}
      },
      "source": [
        "### YOUR TEXT/CODE HERE\n",
        "\n",
        "\n",
        "\n",
        "\n",
        "\n",
        "\n",
        "\n",
        "\n"
      ],
      "execution_count": 0,
      "outputs": []
    },
    {
      "cell_type": "markdown",
      "metadata": {
        "id": "5RfaH1oTESF4",
        "colab_type": "text"
      },
      "source": [
        "### 5. Derive dependency formula: the dependence of the second derivatives at the grid nodes on the increment of the function (the function values difference on the grid nodes). [Mathematical formulas derivation. Detailed, with clear transitions]"
      ]
    },
    {
      "cell_type": "markdown",
      "metadata": {
        "id": "g8Jv0ykt6j8q",
        "colab_type": "text"
      },
      "source": [
        "<ul>\n",
        "\n",
        "<li>\\begin{equation*} S_i(x) = S_i(x_i)+s_i'(x_i)(x-x_i)+\\frac{s_i''(x_i)}{2}(x-x_i)^2+\\frac{s_i'''(x_i)}{6}(x-x_i)^3 = a_i+b_i(x-x_i)+\\frac{c_i}{2}(x-x_i)^2+\\frac{d_i}{6}(x-x_i)^3]\n",
        "\\end{equation*}</li>\n",
        "\n",
        "<li>\\begin{equation*}a_i = s_i(x_i), b_i = s_i'(x_i), c_i = s_i''(x_i), d_i = s_i'''(x_i)\n",
        "\\end{equation*}</li> by analogy with Taylor series\n",
        "  \n",
        "  \n",
        " \n",
        "  <li>Let h<sub>i</sub> = x<sub>i</sub> - x<sub>i-1</sub> - grid step, then using h<sub>i</sub> we van represent a<sub>i-1</sub>, b<sub>i-1</sub>, c<sub>i-1</sub> as\n",
        "  </li>\n",
        "  \n",
        "  <li>\\begin{equation*}a_{i-1} = s_{i-1}(x_{i-1}) = s_i(x_{i-1}) = a_i - b_i*h_i+\\frac{c_i}{2}h_i^2-\\frac{d_i}{h_i^3}, i\\in[2..N]\n",
        "    \\end{equation*}\n",
        "    </li>\n",
        "  \n",
        "  <li>\\begin{equation*}b_{i-1} =  b_i - c_i*h_i+\\frac{d_i}{2}h_i^2, i \\in [2, N]\n",
        "  \\end{equation*}</li>\n",
        "  \n",
        "  <li>SECOND DERIVATIVE: \\begin{equation*}\n",
        "    c_{i-1} = c_i-d_i*h_i, i \\in [2, N]\n",
        "    \\end{equation*}\n",
        "    </li>\n",
        "  \n",
        "  </ul>\n",
        "  \n",
        "  \n",
        "Let denote U(x) as our spline S(x) and u(x) as our original function to avoid misunderstanding in notation.\n",
        "\n",
        "From the compatability condition:\n",
        "\n",
        "\\begin{equation*}U(x) = s_i(x) = u(x), x\\in[x_{i-1}, x_i], i \\in [1, N]\n",
        "\\end{equation*} \n",
        "\n",
        "\\begin{equation*}\n",
        "a_i = u(x_i)\\, from \\, substitution\\,in\\,Q5.2(a_i = s_i(x_i), from\\, above\\, statement: s_i(x_i) = u(x_i))\n",
        "\\end{equation*}\n",
        "\n",
        "\n",
        "As our range for a, b, c is from 2..N,\n",
        "\\begin{equation*} for\\, x_0:a_1-b_1h_1+\\frac{c_1}{2}h_1^2-\\frac{d_1}{6}h_1^3 = u(x_0)\n",
        "\\end{equation*}\n",
        "\n",
        "\\begin{cases}a_{i-1} = a_i-b_ih_i+\\frac{c_i}{2}h_i^2-\\frac{d_i}{6}h_i^3, i\\in[2, N]\\\\b_{i-1} = b_i-c_ih_i+\\frac{d_i}{2}h_i^2, i\\in [2, N]\\\\c_{i-1} = c_i-d_ih_i, i \\in [2, N]\\\\a_i = u(x_i), i\\in[1, N]\\\\u(x_0) = a_1-b_1h_1+\\frac{c_1}{2}h_1^2-\\frac{d_1}{6}h_1^3 \\end{cases}\n",
        "\n",
        "\n",
        "\n",
        "Eliminate all unknown a<sub>i</sub>, i = 1..N using 5th system's equation as u(x<sub>i</sub> - u(x<sub>i-1</sub>)).\n",
        "\n",
        "\\begin{cases}b_ih_i - \\frac{c_i}{2}h_i^2+\\frac{d_i}{6}h_i^3 = u(x_i) - u(x_{i-1}), i\\in[2, N]\\\\b_{i-1} = b_i-c_ih_i+\\frac{d_i}{2}h_i^2, i\\in [2, N]\\\\c_{i-1} = c_i-d_ih_i, i \\in [2, N]\\\\u(x_0) = a_1-b_1h_1+\\frac{c_1}{2}h_1^2-\\frac{d_1}{6}h_1^3\\end{cases}\n",
        "\n",
        "\n",
        "\n",
        "\n",
        "Eliminate all unknown d<sub>i</sub>:\n",
        "\n",
        "\\begin{cases}b_ih_i - \\frac{c_i}{2}h_i^2+\\frac{c_i - c_{i-1}}{6}h_i^2 = u(x_i) - u(x_{i-1}), i\\in[2, N]\\\\b_{i-1} = b_i-c_ih_i+\\frac{c_i - c_{i-1}}{2}h_i, i\\in [2, N]\\\\u(x_0) = a_1-b_1h_1+\\frac{c_1}{2}h_1^2-\\frac{d_1}{6}h_1^3 \\end{cases}\n",
        "\n",
        "\n",
        "Divide 1st system's equation by h<sub>i</sub> \n",
        "\n",
        "\n",
        "\\begin{cases}b_i - \\frac{c_i}{2}h_i+\\frac{c_i - c_{i-1}}{6}h_i = \\frac{u(x_i) - u(x_{i-1})}{h_i}, i\\in[2, N]\\\\b_{i-1} = b_i-c_ih_i+\\frac{c_i - c_{i-1}}{2}h_i, i\\in [2, N]\\\\u(x_0) = a_1-b_1h_1+\\frac{c_1}{2}h_1^2-\\frac{d_1}{6}h_1^3\\end{cases}\n",
        "\n",
        "\n",
        "Group c<sub>i</sub>\n",
        "\n",
        "\\begin{cases}b_i - \\frac{c_i}{3}h_i-\\frac{c_{i-1}}{6}h_i = \\frac{u(x_i) - u(x_{i-1})}{h_i}, i\\in[2, N]\\\\b_{i} - b_{i-1}-\\frac{c_ih_i}{2}-\\frac{c_{i-1}}{2}h_i = 0, i\\in [2, N]\\\\u(x_0) = a_1-b_1h_1+\\frac{c_1}{2}h_1^2-\\frac{d_1}{6}h_1^3\\end{cases}\n",
        "\n",
        "Expressing b<sub>i</sub> - b<sub>i-1</sub> via the first equation:\n",
        "\n",
        "\\begin{cases}b_i = \\frac{c_ih_i}{3}+\\frac{c_{i-1}h_i}{6}+\\frac{u(x_i) - u(x_{i-1})}{h_i}, i\\in [2, N]\\\\b_i - b_{i-1} = \\frac{c_ih_i}{3}+\\frac{c_{i-1}h_i}{6}-\\frac{c_{i-1}h_{h-1}}{3}-\\frac{c_{i-2}h_{i-1}}{6}+\\frac{u(x_i) - u(x_{i-1})}{h_i}-\\frac{u(x_{i-2}) - u(x_{i-1})}{h_{i-1}} ,i\\in [2, N]\\\\u(x_0) = a_1-b_1h_1+\\frac{c_1}{2}h_1^2-\\frac{d_1}{6}h_1^3\n",
        "\\end{cases}\n",
        "\n",
        "\\begin{equation*}\\frac{h_{i-1}c_{i-2}}{6}+\\frac{h_i+h_{i-1}}{3}c_{i-1}+\\frac{h_ic_i}{6} = \\frac{u(x_i) - u(x_{i-1})}{h_i}-\\frac{u(x_{i-1}) - u(x_{i-2})}{h_{i-1}}, i\\in[2, N]\n",
        "\\end{equation*}\n",
        "\n",
        "or \n",
        "\n",
        "\\begin{equation*}\\frac{h_{i}c_{i-1}}{6}+\\frac{h_{i+1}+h_{i}}{3}c_{i}+\\frac{h_{i+1}c_{i+1}}{6} = \\frac{u(x_{i+1}) - u(x_{i})}{h_{i+1}}-\\frac{u(x_{i}) - u(x_{i-1})}{h_{i}}, i\\in[1, N-1]\n",
        "\\end{equation*}\n",
        "\n"
      ]
    },
    {
      "cell_type": "code",
      "metadata": {
        "id": "trobn0jX6bJn",
        "colab_type": "code",
        "colab": {}
      },
      "source": [
        ""
      ],
      "execution_count": 0,
      "outputs": []
    },
    {
      "cell_type": "code",
      "metadata": {
        "id": "wH5VTLpiESF4",
        "colab_type": "code",
        "colab": {}
      },
      "source": [
        "### YOUR TEXT/CODE HERE\n",
        "\n",
        "\n",
        "\n",
        "\n",
        "\n",
        "\n",
        "\n",
        "\n"
      ],
      "execution_count": 0,
      "outputs": []
    },
    {
      "cell_type": "markdown",
      "metadata": {
        "id": "NGuMbXajESF6",
        "colab_type": "text"
      },
      "source": [
        "### 6. Create a system of equations using this formula [Matrix representation. Mathematical formulas]"
      ]
    },
    {
      "cell_type": "markdown",
      "metadata": {
        "id": "MbAhRa9gBwrb",
        "colab_type": "text"
      },
      "source": [
        "Assuming even grid step (h<sub>i</sub> = h<sub>i+1</sub>), the system of equation can be rewritten like:\n",
        "\n",
        "\\begin{equation*}\\frac{hc_{i-1}}{6}+\\frac{2h}{3}c_{i}+\\frac{hc_{i+1}}{6} = \\frac{u(x_{i+1}) - u(x_{i})}{h{}}-\\frac{u(x_{i}) - u(x_{i-1})}{h_{}}, i\\in[1, N-1]\n",
        "\\end{equation*}\n",
        "\n",
        "\n",
        "\n",
        "\n",
        "\\begin{vmatrix}\\frac{h}{6}&\\frac{2h}{3}&\\frac{h}{6}&....\\\\...&\\frac{h}{6}&\\frac{2h}{3}&\\frac{h}{6}\\\\..&...&...&...\\\\\n",
        "\\end{vmatrix}* \n",
        "\\begin{vmatrix}c_0\\\\..\\\\.c_n\n",
        "\\end{vmatrix} = \n",
        "\n",
        "\n",
        "\\begin{vmatrix}\\frac{u(x_2)-u(x_1)}{h} - \\frac{u(x_1)-u(x_{0})}{h}\\\\..\\\\\\frac{u(x_n)-u(x_{n-1})}{h} - \\frac{u(x_{n-1})-u(x_{n-2})}{h}\n",
        "\\end{vmatrix}"
      ]
    },
    {
      "cell_type": "code",
      "metadata": {
        "id": "EjB1mjA4ESF6",
        "colab_type": "code",
        "colab": {}
      },
      "source": [
        "### YOUR TEXT/CODE HERE\n",
        "\n",
        "\n",
        "\n",
        "\n",
        "\n",
        "\n",
        "\n",
        "\n"
      ],
      "execution_count": 0,
      "outputs": []
    },
    {
      "cell_type": "markdown",
      "metadata": {
        "id": "ABukO1ScESF7",
        "colab_type": "text"
      },
      "source": [
        "### 7. Explain what is an unknown variable in this system. whether the system is closed with respect to an unknown variable. What is missing for closure. [Text, no more than 200 characters]"
      ]
    },
    {
      "cell_type": "markdown",
      "metadata": {
        "id": "8UICfZpTeA_8",
        "colab_type": "text"
      },
      "source": [
        "The unknown variables in the system are c<sub>i</sub> for i across all given grid points. The overall number of unknowns is N, but from our system we can see that we have N-2 equations. Therefore, we can not call the system closed because the solution can not be found in terms of operations from the system (according to definition from http://mathworld.wolfram.com/Closed-FormSolution.html). For system to become closed, we can fullfill it with edge conditions for natural spline - c<sub>0</sub> = c<sub>n</sub> = 0"
      ]
    },
    {
      "cell_type": "code",
      "metadata": {
        "id": "0KD1sUztESF8",
        "colab_type": "code",
        "colab": {}
      },
      "source": [
        "### YOUR TEXT/CODE HERE\n",
        "\n",
        "\n",
        "\n",
        "\n",
        "\n",
        "\n",
        "\n",
        "\n"
      ],
      "execution_count": 0,
      "outputs": []
    },
    {
      "cell_type": "markdown",
      "metadata": {
        "id": "NlYeVEcoESF9",
        "colab_type": "text"
      },
      "source": [
        "### 8. Bring this matrix to the appropriate form to use the Tridiagonal matrix algorithm [Mathematical derivation. Use Gauss Elimination]"
      ]
    },
    {
      "cell_type": "markdown",
      "metadata": {
        "id": "Mzb6ZimhRkuT",
        "colab_type": "text"
      },
      "source": [
        "Using edge conditions, \\begin{equation*}U''(x_0) = U''(x_N) = 0. \n",
        "\\end{equation*},  we eliminate $c_0$ and $c_n$ in the system and in the matrix.\n",
        "\n",
        "Therefore, the matrix will have the following form:\n",
        "\n",
        "\\begin{vmatrix}\\frac{2h}{3}&\\frac{h}{6}&...&...&...\\\\\\frac{h}{6}&\\frac{2h}{3}&\\frac{h}{6}&...&...\\\\...&...&...&...&...\\\\...&...&\\frac{h}{6}&\\frac{2h}{3}&\\frac{h}{6}\\\\...&...&...&\\frac{h}{6}&\\frac{2h}{3}\n",
        "\\end{vmatrix} * \n",
        "\\begin{vmatrix}c_1\\\\c_2\\\\...\\\\c_{n-1}\n",
        "\\end{vmatrix} = \n",
        "\n",
        "\\begin{vmatrix}\\frac{u(x_3)-u(x_2)}{h} - \\frac{u(x_2)-u(x_{1})}{h}\\\\..\\\\\\frac{u(x_{n-1})-u(x_{n-2})}{h} - \\frac{u(x_{n-2})-u(x_{n-3})}{h}\n",
        "\\end{vmatrix}\n",
        "\n",
        "\n",
        "After applying Gaussian elimination, we will get matrix in the form:\n",
        "\n",
        "\\begin{vmatrix}1&-P1&0&0&...\\\\0&1&-P2&0&...\\\\.......\\\\0&0&0&1&...\n",
        "\\end{vmatrix}*\n",
        "\\begin{vmatrix}c_1\\\\c_2\\\\...\\\\c_{n-1}\n",
        "\\end{vmatrix} = \n",
        "\n",
        "\\begin{vmatrix}Q1\\\\..\\\\Q_l\n",
        "\\end{vmatrix}, \n",
        "\n",
        "where $P_j, Q_j\\,j\\in[1, l]$, l - number of rows in the matrix \n",
        ", are coefficients that are found during direct pass of tridiagonal matrix algorithm (they will be found in the next section).\n"
      ]
    },
    {
      "cell_type": "markdown",
      "metadata": {
        "id": "sNO7dfKlQs1x",
        "colab_type": "text"
      },
      "source": [
        ""
      ]
    },
    {
      "cell_type": "code",
      "metadata": {
        "id": "lMPgTxaIESF9",
        "colab_type": "code",
        "colab": {}
      },
      "source": [
        "### YOUR TEXT/CODE HERE\n",
        "\n",
        "\n",
        "\n",
        "\n",
        "\n",
        "\n",
        "\n",
        "\n"
      ],
      "execution_count": 0,
      "outputs": []
    },
    {
      "cell_type": "markdown",
      "metadata": {
        "id": "FQUGQD2gESF-",
        "colab_type": "text"
      },
      "source": [
        "### 9. Derive formulas of direct pass and reverse pass of Tridiagonal matrix algorithm [Mathematical formals]"
      ]
    },
    {
      "cell_type": "markdown",
      "metadata": {
        "id": "Tt5ZQP_DoHFD",
        "colab_type": "text"
      },
      "source": [
        "Using explanation and algrithm description from http://scask.ru/i_book_clm.php?id=47, https://pro-prof.com/forums/topic/sweep-method-for-solving-systems-of-linear-algebraic-equations and from Kireev book\n",
        "\n",
        "\n",
        "## DIRECT PASS\n",
        "\n",
        "For j = 1..l (l = N-1) (number of rows in the tridiagonal matrix), we need to find coefficents  $P$<sub>j</sub>, $Q$<sub>j</sub> and assuming $\\frac{u(x_{i+1}) - u(x_{i})}{h_{i+1}}-\\frac{u(x_{i}) - u(x_{i-1})}{h_{i}}$ = $\\sigma_j, i\\in[1, N-1]$:\n",
        "\n",
        "**STEP 1**\n",
        "\n",
        "if j == 1:\n",
        "\n",
        "  \\begin{equation*}\n",
        "  P_1 = -\\frac{1}{4}, Q_1 = \\frac{3\\sigma_1}{2h}\n",
        "  \\end{equation*}\n",
        "  \n",
        " \n",
        " if 1<j<l:\n",
        "\n",
        "  \\begin{equation*}P_j = \\frac{\\frac{h}{6}}{\\frac{-2h}{3}-\\frac{h}{6}*P_{j-1}} = -\\frac{1}{4} - P_{j-1}\n",
        "  \\end{equation*}, \n",
        "  \n",
        " $Q_j = \\frac{\\frac{h}{6}Q_{j-1}-\\sigma_j}{\\frac{2h}{3} - \\frac{h}{6}P_{j-1}}$\n",
        "  \n",
        "   if j==l:\n",
        "\n",
        "  \\begin{equation*}Q_l   = \\frac{\\frac{h}{6}Q_{l-1}-\\sigma_l}{\\frac{2h}{3} - \\frac{h}{6}P_{l-1}}\n",
        "  \\end{equation*}\n",
        "  \n",
        " ## REVERSE PASS\n",
        " \n",
        " For j = l..1 (l = N-1), we need to find unknowns z<sub>j</sub> (that correspond to our vector of unknowns **c**) by using the formula\n",
        " \n",
        " <ul>\n",
        " <li>\\begin{equation*}z_j = P_j*z_{j+1}+Q_{j}\n",
        " \\end{equation*} for j = k-1..1\n",
        " </li>\n",
        "  \n",
        " <li>\\begin{equation*}z_l = Q_l\n",
        "   \\end{equation*} for j = k\n",
        "   </li>\n",
        " </ul>\n",
        " \n",
        "In our case:\n",
        "\n",
        "<ul>\n",
        "  <li>\\begin{equation*} z_l = \\frac{r(x_{n-2}, x_{n-1}, x_{n}) - h_{n-1}*\\beta_{k-1}}{\\gamma_k}\n",
        "  \\end{equation*}</li>\n",
        "  \n",
        "  \n",
        "  <li>\\begin{equation*}z_l = Q_l   = \\frac{\\frac{h}{6}Q_{l-1}-\\sigma_l}{\\frac{2h}{3} - \\frac{h}{6}P_{l-1}}, z_j = (-\\frac{1}{4} - P_{j-1})z_{j+1}+\\frac{\\frac{h}{6}Q_{j-1}-\\sigma_j}{\\frac{2h}{3} - \\frac{h}{6}P_{j-1}}\n",
        "    \\end{equation*}\n",
        "    </li>\n",
        "  \n",
        "  </ul>"
      ]
    },
    {
      "cell_type": "code",
      "metadata": {
        "id": "WXcSn40gESF-",
        "colab_type": "code",
        "colab": {}
      },
      "source": [
        "### YOUR TEXT/CODE HERE\n",
        "\n",
        "\n",
        "\n",
        "\n",
        "\n",
        "\n",
        "\n",
        "\n"
      ],
      "execution_count": 0,
      "outputs": []
    },
    {
      "cell_type": "markdown",
      "metadata": {
        "id": "_e_KB_3cESF_",
        "colab_type": "text"
      },
      "source": [
        "### 10. Implement code prototype of the future algorithm implementation. Classes/methods (if you use OOP), functions. The final implementation (on language chosen by you) should not differ from the functions declared in the prototype. [Python code]"
      ]
    },
    {
      "cell_type": "code",
      "metadata": {
        "id": "3ahrnTgGESGA",
        "colab_type": "code",
        "colab": {}
      },
      "source": [
        "### Code prototype in Python, but the code will be (probably) implemented in C++\n",
        "\n",
        "def spline(x, y):\n",
        "  # x, y - points on the grid and the function value\n",
        "  n = len(x)-1\n",
        "  a = y.copy() # coefficicents a for polynomial\n",
        "  h = [x[i+1]-x[i] for i in range(n)] # for different h\n",
        "  \n",
        "  c = [0]*(len(x))\n",
        "  b = [0]*n\n",
        "  d = [0]*n\n",
        "  c[n] = 0\n",
        "  c[0] = 0\n",
        "  #h = x[2] - x[1] # for same h \n",
        "  \n",
        "  alpha = [], beta = [], gamma = [] # coefficients for direct pass\n",
        "  \n",
        "  alpha.append(...)# add initial coefficients (for same h and different h, the formula\n",
        "  # is sligtly different)\n",
        "  gamma.append(...)\n",
        "  beta.append(...)\n",
        "  for i in range(1, n):\n",
        "    \n",
        "    alpha[i] = #calculating coefficients for direct pass using formulas from\n",
        "    beta[i] = #https://pro-prof.com/forums/topic/sweep-method-for-solving-systems-of-linear-algebraic-equations\n",
        "    gamma[i] = #\n",
        "\n",
        "  gamma.append(...)# append last coefficients\n",
        "  beta.append(...)\n",
        "  for i in range(n-1, 0, -1): #reverse pass\n",
        "    c[i] = .... # calculate c, d, b using formula for reverse pass and then\n",
        "    b[i] = ....# express d and b from c\n",
        "    d[i] = ....\n",
        "\n",
        "    \n",
        "  return a, b, c, d\n",
        "\n",
        "\n",
        "\n",
        "\n",
        "\n",
        "\n"
      ],
      "execution_count": 0,
      "outputs": []
    },
    {
      "cell_type": "markdown",
      "metadata": {
        "id": "K0cY0qUQESGB",
        "colab_type": "text"
      },
      "source": [
        "### 11. Derive formula of Cubic Spline method error [Mathematical formulas]"
      ]
    },
    {
      "cell_type": "markdown",
      "metadata": {
        "id": "596zUK5XWTC8",
        "colab_type": "text"
      },
      "source": [
        ""
      ]
    },
    {
      "cell_type": "markdown",
      "metadata": {
        "id": "kv-3GsCcJaBE",
        "colab_type": "text"
      },
      "source": [
        "Using theorem statement from http://scask.ru/i_book_clm.php?id=89, \n",
        "the Cubic Spline approximation error is denoted as\n",
        "\\begin{equation*}max_{a,b}|u(x)^{(p)} - U_3(x)^{(p)}| <=CM_4h_{max}^{4-p}, p = 0, 1, 2.\n",
        "\\end{equation*}, \n",
        "where \n",
        "<ul>\n",
        "<li>u(x) - our original function</li> \n",
        "  <li>U<sub>3</sub>(x) is the cubic spline</li>\n",
        "  \n",
        "  <li>\\begin{equation*}M_4 = max_{a,b}|u^{(4)}(x)|\n",
        "  \\end{equation*}</li>, which is the 4th max derrivative of original function\n",
        "  <li>h<sub>max</sub> - max step between two points in the grid </li>\n",
        "  \n",
        "  <li>C - const</li>\n",
        "  <li>p - degree of derrivative</li>\n",
        "  </ul>\n",
        "  \n",
        "  \n",
        " This condition is true if original function u(x) has 4th derrivative. The note here is that the formula approximates derrivatives of degree p too. According to the Theorem explanation from the link, the error assessment is not full for **natural spline** as it has only 2nd accuracy degree, so it leads to lack of accuracy after 2nd derrivative."
      ]
    },
    {
      "cell_type": "code",
      "metadata": {
        "id": "AhLIy4XmESGB",
        "colab_type": "code",
        "colab": {}
      },
      "source": [
        "### YOUR TEXT/CODE HERE\n",
        "\n",
        "\n",
        "\n",
        "\n",
        "\n",
        "\n",
        "\n",
        "\n"
      ],
      "execution_count": 0,
      "outputs": []
    },
    {
      "cell_type": "markdown",
      "metadata": {
        "id": "enYIiNgEESGC",
        "colab_type": "text"
      },
      "source": [
        "### 12. Rate the complexity of the algorithm [Text, and rate in terms of big O, no more than 100 characters]"
      ]
    },
    {
      "cell_type": "markdown",
      "metadata": {
        "id": "UV8bGpi790Ta",
        "colab_type": "text"
      },
      "source": [
        "The complexity of the algorithm will be O(n), because:\n",
        "\n",
        "\n",
        "*   The Tridiagonal matrix algorithm complexity O(n) - direct pass - N, reverse pass - N, N+N = 2N ~ O(N)\n",
        "\n"
      ]
    },
    {
      "cell_type": "code",
      "metadata": {
        "id": "7u1A_kMyESGC",
        "colab_type": "code",
        "colab": {}
      },
      "source": [
        "### YOUR TEXT/CODE HERE\n",
        "\n",
        "\n",
        "\n",
        "\n",
        "\n",
        "\n",
        "\n",
        "\n"
      ],
      "execution_count": 0,
      "outputs": []
    },
    {
      "cell_type": "markdown",
      "metadata": {
        "id": "Wr4Z19J2ESGD",
        "colab_type": "text"
      },
      "source": [
        "### Congrats!"
      ]
    }
  ]
}