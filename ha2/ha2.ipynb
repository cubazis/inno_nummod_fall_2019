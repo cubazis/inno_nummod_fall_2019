{
  "nbformat": 4,
  "nbformat_minor": 0,
  "metadata": {
    "kernelspec": {
      "display_name": "Python 3",
      "language": "python",
      "name": "python3"
    },
    "language_info": {
      "codemirror_mode": {
        "name": "ipython",
        "version": 3
      },
      "file_extension": ".py",
      "mimetype": "text/x-python",
      "name": "python",
      "nbconvert_exporter": "python",
      "pygments_lexer": "ipython3",
      "version": "3.6.8"
    },
    "colab": {
      "name": "ha2.ipynb",
      "provenance": [],
      "collapsed_sections": []
    }
  },
  "cells": [
    {
      "cell_type": "code",
      "metadata": {
        "id": "Wje5EDlf3x-B",
        "colab_type": "code",
        "colab": {}
      },
      "source": [
        "import sympy as sp\n",
        "import numpy as np\n",
        "import matplotlib.pyplot as plt"
      ],
      "execution_count": 0,
      "outputs": []
    },
    {
      "cell_type": "markdown",
      "metadata": {
        "id": "8tSKO0Ra3x-I",
        "colab_type": "text"
      },
      "source": [
        "### 1. Formulate the statement of the interpolation problem with Cubic Spline [mathematical formula]"
      ]
    },
    {
      "cell_type": "markdown",
      "metadata": {
        "id": "ZxlpqdcB8bOY",
        "colab_type": "text"
      },
      "source": [
        "$y_i = f(x_i)$ - interpolation points \n",
        "\n",
        "$x_i \\in \\Omega_n, \\Omega_n [a,b]$ - grid definition  \n",
        "\n",
        "$S(t) \\in C^2[a,b]$ - spline $S$ is two times continuously differentiable on $[a, b]$\n",
        "\n",
        "$\\forall i : S^i_3$ is a polynomial of degree $3$ on subregion $i$, where $subregion_i$ is $x \\in [x_i, x_{i+1}]$   "
      ]
    },
    {
      "cell_type": "markdown",
      "metadata": {
        "id": "vbsaNPZ33x-N",
        "colab_type": "text"
      },
      "source": [
        "### 2. Formulate the functional and differential compatibility conditions [mathematical formula]"
      ]
    },
    {
      "cell_type": "markdown",
      "metadata": {
        "id": "9EJ0Ey_o_vsC",
        "colab_type": "text"
      },
      "source": [
        "\\begin{cases}\n",
        "   p_1 & [0, 2]\\\\\n",
        "   p_2 & \\{1\\}\n",
        "\\end{cases}\n",
        "\n",
        "$\\delta S_{3,i}|_{x=x_j} = S_{3,i}(x_j) - f(x_j) = 0, j={i, i+1}$ - functional compatability condition  \n",
        "\n",
        "$\\delta S^{(p_1)}_{3,u}|_{x=x_j} = S^{(p_1)}_{3,i}(x_j) - f^{(p_1)}(x_j) = 0, j={i, i+1}$ - differential compatability condition"
      ]
    },
    {
      "cell_type": "markdown",
      "metadata": {
        "id": "wJNuDkWE3x-S",
        "colab_type": "text"
      },
      "source": [
        "### 3. Formulate stitching conditions [mathematical formula]"
      ]
    },
    {
      "cell_type": "markdown",
      "metadata": {
        "id": "8MY82OF_DXL7",
        "colab_type": "text"
      },
      "source": [
        "$S^{(p2)}_{i, m} = S^{(p2)}_{i+1, m}, i \\in \\overline{0..N-1}$ - each consecutive pair of polynomials of a spline must have equal derivates of degrees from $p2$."
      ]
    },
    {
      "cell_type": "markdown",
      "metadata": {
        "id": "HHepEomz3x-X",
        "colab_type": "text"
      },
      "source": [
        "### 4. Justify why these conditions provide you with the required smoothness [thesis text, no more than 500 characters]"
      ]
    },
    {
      "cell_type": "markdown",
      "metadata": {
        "id": "iKSPvSfiEy7p",
        "colab_type": "text"
      },
      "source": [
        "Functional condition provides correctness of approximation: $S(x_i) = f(x_i), x_i \\in \\Omega_n \\implies C^0$\n",
        "\n",
        "Stitching condition tells about equal first derivatives (slopes) on each point $\\implies C^1$\n",
        "\n",
        "Differential condition tells about existence of second derivative and its value is equal to $f{(2)}$ in each point $\\implies C^2$  "
      ]
    },
    {
      "cell_type": "markdown",
      "metadata": {
        "id": "aR9VRBkv3x-c",
        "colab_type": "text"
      },
      "source": [
        "### 5. Derive dependency formula: the dependence of the second derivatives at the grid nodes on the increment of the function (the function values difference on the grid nodes). [Mathematical formulas derivation. Detailed, with clear transitions]"
      ]
    },
    {
      "cell_type": "markdown",
      "metadata": {
        "id": "b9oRBvsEE1la",
        "colab_type": "text"
      },
      "source": [
        "**Statements** \n",
        "\n",
        "$\\Delta^+ m_{2,i} = f''(x_{i+1}) - f''(x_i)$ - forward second derivative values difference \n",
        "\n",
        "$h_{i+1} = x_{i+1} - x_i$\n",
        "\n",
        "$\\Delta+ f_{i} = f_{i+1} - f_i, f_i = f(x_i)$\n",
        "\n",
        "\n",
        "\n",
        "---\n",
        "\n",
        "\n",
        "**Logic steps**\n",
        "\n",
        "$S_{3, i}(x) = a_{0,i} + a_{1,i}(x-x_i) + a_{2, i}(x-x_i)^2 + a_{3, i}(x-x_i)^3$\n",
        "\n",
        "$S^(1)_{i+1, 3} =  S^{(1)}_{i, 3}$\n",
        "\n",
        "$S^{(2)}_{3,i}(x) = 6a_{3,i}(x-x_i) + 2a_{2,i}$\n",
        "\n",
        "1) $S_{3,i}(x_i) - f(x_i) = a_{0,i} + a_{1, i}(x_i -x_i) + a_{2,i}*0 + ... - f(x_i) = 0 \\implies a_{0,i} = f(x_i) $\n",
        "\n",
        "2) $S^{(2)}_{3, i}(x_i) - f^{(2)}(x_i) = 2a_{2,i} - f^{(2)}(x_i) = 0 \\implies a_{2,i} = \\frac{f^{(2)}(x_i)}{2} = \\frac{m_{2,i}}{2}$\n",
        "\n",
        "3) $S^{(2)}_{3, i}(x_{i+1}) - f^{(2)}(x_{i+1}) = m_{1,i} + 6a_{3,i}(x_{i+1}-x_i) - f^{(2)}(x_{i+1}) = 0 \\implies a_{3,i} = \\frac{\\Delta m^+_{2,i}}{6h_{i+1}}$\n",
        "\n",
        "4) $S(x_{i+1}) - f(x_{i+1}) = f(x_i) - f(x_{i+1}) + a_{1,i}h_{i+1} + \\frac{m_{2,i}}{2}h_{i+1}^2 + \\frac{\\Delta m^+_{2,i}}{6h_{i+1}}h_{i+1}^3 = 0 \\implies a_{2,i} = \\frac{\\Delta+ f_{i}}{h_{i+1}} - \\frac{\\Delta^+m_{2,i}}{6}h_{i+1} - \\frac{m_{2,i}}{2}h_{i+1}$\n",
        "\n",
        "5) Stitching condition $S'_{i-1, 3}(x_{i+1}) = a_{1, i-1} + 2a_{2,i-1}(x_{i+1}-x_i) + 3a_{3,i-1}(x_{i+1}-x_i)^2 = (\\frac{\\Delta^+ f_{i-1}}{h_{i}} - \\frac{\\Delta^+m_{2,i-1}}{6}h_{i} - \\frac{m_{2,i-1}}{2}h_{i}) + h_i m_{2,i-1} + h_{i}\\frac{\\Delta^+ m_{2,i-1}}{3} = ... = \\frac{\\Delta^+ f_{i-1}}{h_{i}} + h_i \\frac{m_{2,i-1}}{2} + h_{i}\\frac{\\Delta^+ m_{2,i-1}}{6}$\n",
        "\n",
        "6) $\\frac{\\Delta^+ f_{i-1}}{h_{i}} + h_i \\frac{m_{2,i-1}}{2} + h_{i}\\frac{\\Delta^+ m_{2,i-1}}{6} = \\frac{\\Delta^+ f_{i}}{h_{i+1}} + h_{i+1} \\frac{m_{2,i}}{2} + h_{i+1}\\frac{\\Delta^+ m_{2,i}}{6}$\n",
        "\n",
        "7) $\\frac{\\Delta^+ f_{i}}{h_{i+1}} - \\frac{\\Delta^+ f_{i-1}}{h_{i}} = h_i \\frac{m_{2,i-1}}{2} + h_{i}\\frac{\\Delta^+ m_{2,i-1}}{6} - h_{i+1} \\frac{m_{2,i}}{2} - h_{i+1}\\frac{\\Delta^+ m_{2,i}}{6}$\n",
        "\n",
        "8) $\\frac{\\Delta^+ f_{i}}{h_{i+1}} - \\frac{\\Delta^+ f_{i-1}}{h_{i}} = h_i \\frac{m_{2,i-1}}{2} + h_{i}\\frac{m_{2,i} - m_{2,i-1}}{6} - h_{i+1} \\frac{m_{2,i}}{2} - h_{i+1}\\frac{m_{2,i+1} - m_{2,i}}{6}$"
      ]
    },
    {
      "cell_type": "code",
      "metadata": {
        "id": "3sBlov28T0x2",
        "colab_type": "code",
        "colab": {}
      },
      "source": [
        ""
      ],
      "execution_count": 0,
      "outputs": []
    },
    {
      "cell_type": "markdown",
      "metadata": {
        "id": "tL1fH6Zc3x-g",
        "colab_type": "text"
      },
      "source": [
        "### 6. Create a system of equations using this formula [Matrix representation. Mathematical formulas]"
      ]
    },
    {
      "cell_type": "markdown",
      "metadata": {
        "id": "UkGAIwpccbgI",
        "colab_type": "text"
      },
      "source": [
        "![](https://i.imgur.com/0l0KuK8.png)\n"
      ]
    },
    {
      "cell_type": "markdown",
      "metadata": {
        "id": "LL_Vb3zN3x-n",
        "colab_type": "text"
      },
      "source": [
        "### 7. Explain what is an unknown variable in this system. whether the system is closed with respect to an unknown variable. What is missing for closure. [Text, no more than 200 characters]"
      ]
    },
    {
      "cell_type": "markdown",
      "metadata": {
        "id": "wJnX558keKQw",
        "colab_type": "text"
      },
      "source": [
        "The unknown variable is vector **u**. $m_i, i \\in [a,b]$ are values of $f''(x_i)$ of adjacency points $x_i \\in [a,b]$.\n",
        "\n",
        "System is not closed as the matrix has the size of _Nx(N-2)_, but the amount of unknown variables is _N_, we need to define border conditions.  \n",
        "\n",
        "For example periodic condition: $S(a) = S(b), S'(a) = S'(b)$, which will provide missing $m_0$ and $m_N$ for closure."
      ]
    },
    {
      "cell_type": "code",
      "metadata": {
        "id": "AKDNA7yw3x-o",
        "colab_type": "code",
        "colab": {}
      },
      "source": [
        ""
      ],
      "execution_count": 0,
      "outputs": []
    },
    {
      "cell_type": "markdown",
      "metadata": {
        "id": "_upKmc6B3x-r",
        "colab_type": "text"
      },
      "source": [
        "### 8. Bring this matrix to the appropriate form to use the Tridiagonal matrix algorithm [Mathematical derivation. Use Gauss Elimination]"
      ]
    },
    {
      "cell_type": "markdown",
      "metadata": {
        "id": "QC24KC-UfWbW",
        "colab_type": "text"
      },
      "source": [
        "![](https://i.imgur.com/GhgY3mf.png)"
      ]
    },
    {
      "cell_type": "markdown",
      "metadata": {
        "id": "d8Z0IFbq3x-v",
        "colab_type": "text"
      },
      "source": [
        "### 9. Derive formulas of direct pass and reverse pass of Tridiagonal matrix algorithm [Mathematical formals]"
      ]
    },
    {
      "cell_type": "markdown",
      "metadata": {
        "id": "4M29979Tg8Be",
        "colab_type": "text"
      },
      "source": [
        "$a_ix_{i-1} + b_ix_i + c_ix_{i+1} = d_i$\n",
        "\n",
        "$d_i = 6(\\frac{\\Delta^+ f_i}{h_{i+1}} + \\frac{\\Delta^+ f_{i-1}}{h_{i}})$\n",
        "\n",
        "---\n",
        "\n",
        "#### Forward pass\n",
        "\n",
        "$w_i = \\frac{a_i}{b_{i-1}} = \\frac{h_i}{2(h_{i-1}+h_i)}$\n",
        "\n",
        "$b_i = b_{i-1} - w_ic_{i-1} = 2(h_{i-1}+h_i) - \\frac{h^2_i}{2(h_{i-1}+h_i)}$\n",
        "\n",
        "$d_i = d_i - w_id_{i-1} = 6(\\frac{\\Delta^+ f_i}{h_{i+1}} + \\frac{\\Delta^+ f_{i-1}}{h_{i}}) - 6\\frac{h_i}{2(h_{i-1}+h_{i})}(\\frac{\\Delta^+ f_{i-1}}{h_{i}} + \\frac{\\Delta^+ f_{i-2}}{h_{i-1}})$\n",
        "\n",
        "\n",
        "#### Reverse pass\n",
        "\n",
        "$x_i = \\frac{d_i - c_ix_{i-1}}{b_i}$\n",
        "\n"
      ]
    },
    {
      "cell_type": "markdown",
      "metadata": {
        "id": "r12srzzY3x-1",
        "colab_type": "text"
      },
      "source": [
        "### 10. Implement code prototype of the future algorithm implementation. Classes/methods (if you use OOP), functions. The final implementation (on language chosen by you) should not differ from the functions declared in the prototype. [Python code]"
      ]
    },
    {
      "cell_type": "code",
      "metadata": {
        "id": "eOrJe-GT3x-2",
        "colab_type": "code",
        "colab": {}
      },
      "source": [
        "def tridiagonal_matrix_solve(matrix):\n",
        "  pass\n",
        "\n",
        "def obtain_spline_weights(x, y, m):\n",
        "  pass\n",
        "\n",
        "def build_matrix(x, y):\n",
        "  pass\n",
        "\n",
        "def cubic_spline(x, y):\n",
        "  matrix = build_matrix(x, y)\n",
        "  m_vector = tridiagonal_matrix_solve(matrix)\n",
        "  a = obtain_spline_weights(x, y, m_vector)\n",
        "  return a"
      ],
      "execution_count": 0,
      "outputs": []
    },
    {
      "cell_type": "markdown",
      "metadata": {
        "id": "DJN0aQte3x-6",
        "colab_type": "text"
      },
      "source": [
        "### 11. Derive formula of Cubic Spline method error [Mathematical formulas]"
      ]
    },
    {
      "cell_type": "markdown",
      "metadata": {
        "id": "Rq3RvBNlkYc1",
        "colab_type": "text"
      },
      "source": [
        "## Petrov-Lobanov 6.5\n",
        "_Actually funny mistake, that authors loose factorial in the fraction, when tries interpollation on grid with fixed step size (page 139)_\n",
        "\n",
        "$R(N) = f(t) - L_N(t)$\n",
        "\n",
        "_Theorem: Let f(t) on $[a,b]$ to have $N+1$ limited derivatives, hence $R_N(t)=(\\frac{1}{(N+1)!})\\prod^N_{j=0}(t-t_j)f^{(N+1)}(\\xi), \\xi \\in [a,b] $_\n",
        "---\n",
        "_Proof_\n",
        "\n",
        "$\\phi(x) = f(x) - L_N(x) - R_N(t)\\frac{(x-t_0)...(x-t_N)}{(t-t_0)...(t-t_N)}$, There are at least _N+2_ zeroes on $[a,b]$ for $\\phi(x)$\n",
        "There exist N+1 zeroes for $\\phi'(x)$\n",
        "...\n",
        "There exist zero for $\\phi^{(N+1)}(x) \\implies \\phi^{(N+1)}(\\xi) = 0, \\xi \\in [a,b]$\n",
        "\n",
        "$\\phi^{(N+1)}(\\xi) = f^{(N+1)}(\\xi) - L^{(N+1)}_N(\\xi) - (R(t)[...])^{(N+1)}|_\\xi $\n",
        "\n",
        "$L^{(N+1)}_N(\\xi) = 0$\n",
        "\n",
        "$0 = f^{(N+1)}(\\xi) - R_N(t)\\frac{(N+1)!}{\\prod^N_{j=0}(t-t_j)}$\n",
        "\n",
        "---\n",
        "$R_N(t)=\\frac{f^{(N+1)}(\\xi)}{(N+1)!}\\prod^N_{j=0}(t-t_j), \\xi \\in [a,b]$\n",
        "\n",
        "$|R_N(t)| \\le \\frac{h^{N+1}}{(N+1)!}M_{N+1}$, where $\\Omega_n$ has fixed step $h$\n",
        "\n",
        "$|R_3(t)| \\le \\frac{h^{4}}{12}M_{4}$ for natural cubic spline"
      ]
    },
    {
      "cell_type": "markdown",
      "metadata": {
        "id": "114B8pRh3x--",
        "colab_type": "text"
      },
      "source": [
        "### 12. Rate the complexity of the algorithm [Text, and rate in terms of big O, no more than 100 characters]"
      ]
    },
    {
      "cell_type": "markdown",
      "metadata": {
        "id": "Id3lBvgUjkWO",
        "colab_type": "text"
      },
      "source": [
        "Gaussian algorithm = $O(N^3)$\n",
        "\n",
        "---\n",
        "\n",
        "Tridiagonal Matrix algorithm = $O(N)$\n",
        "\n",
        "\n",
        "```\n",
        "Sub TriDiagonal_Matrix_Algorithm(N%, A#(), B#(), C#(), D#(), X#())\n",
        " Dim i%, W#\n",
        " For i = 2 To N\n",
        "  W = A(i) / B(i - 1)\n",
        "  B(i) = B(i) - W * C(i - 1)\n",
        "  D(i) = D(i) - W * D(i - 1)\n",
        " Next i\n",
        " X(N) = D(N) / B(N)\n",
        " For i = N - 1 To 1 Step -1\n",
        "  X(i) = (D(i) - C(i) * X(i + 1)) / B(i)\n",
        " Next i\n",
        "End Sub\n",
        "```\n",
        "\n",
        "_N-1_ steps in forward pass\n",
        "_N-1_ steps in backward pass\n",
        "\n",
        "$2N-2 + Const = O(N)$"
      ]
    },
    {
      "cell_type": "markdown",
      "metadata": {
        "id": "E6O6JjVV3x_C",
        "colab_type": "text"
      },
      "source": [
        "### Congrats!"
      ]
    }
  ]
}