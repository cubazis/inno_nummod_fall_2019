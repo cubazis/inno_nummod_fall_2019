{
  "nbformat": 4,
  "nbformat_minor": 0,
  "metadata": {
    "kernelspec": {
      "display_name": "Python 3",
      "language": "python",
      "name": "python3"
    },
    "language_info": {
      "codemirror_mode": {
        "name": "ipython",
        "version": 3
      },
      "file_extension": ".py",
      "mimetype": "text/x-python",
      "name": "python",
      "nbconvert_exporter": "python",
      "pygments_lexer": "ipython3",
      "version": "3.6.8"
    },
    "colab": {
      "name": "ha2.ipynb",
      "provenance": [],
      "collapsed_sections": []
    }
  },
  "cells": [
    {
      "cell_type": "code",
      "metadata": {
        "colab_type": "code",
        "id": "4THzAMguufDg",
        "colab": {}
      },
      "source": [
        "import sympy as sp\n",
        "import numpy as np\n",
        "import matplotlib.pyplot as plt"
      ],
      "execution_count": 0,
      "outputs": []
    },
    {
      "cell_type": "markdown",
      "metadata": {
        "id": "tdIZIJrREOu4",
        "colab_type": "text"
      },
      "source": [
        "### 1. Formulate the statement of the interpolation problem with Cubic Spline [mathematical formula]"
      ]
    },
    {
      "cell_type": "markdown",
      "metadata": {
        "id": "MORJz_kaEbSP",
        "colab_type": "text"
      },
      "source": [
        "Given: \n",
        "$y_i=f(x_i)$, \n",
        "$i=\\overline{0, n}$,\n",
        "$x_i\\in[a,b]$\n",
        "\n",
        "To find:\n",
        "$\\tilde{f_m}{(x, \\overline{a})}=\\sum_{j=0}^{m}{a_j \\varphi_j(x)}$, which in case of best integral approximation is \n",
        "\n",
        "$\\tilde{f_m}{(x, \\overline{a})}=S_m(x)=a_0 + a_1x + a_2x^2 + ... + a_mx^m$,\n",
        "\n",
        "where $S_m(x)=\\cup_{i=0}^{n-1}S_{m,i}(x)$ is a function defined on $[a, b]$ that belongs to $C_r[a,b]$ and called integral-differential spline of degree $m$ and of defect $q \\ (0 \\leq r \\leq m, q = m-r)$,\n",
        "if each $S_{m,i}(x)=\\sum_{k=0}^m{a_{k,i}(x-x_i)^k}$, $x \\in [x_i, x_{i+1}], i=\\overline{0, n-1}$.\n",
        "\n",
        "In case of Cubic Spline, $m=3, r=2$"
      ]
    },
    {
      "cell_type": "markdown",
      "metadata": {
        "id": "uhXw2uKfEOvL",
        "colab_type": "text"
      },
      "source": [
        "### 2. Formulate the functional and differential compatibility conditions [mathematical formula]"
      ]
    },
    {
      "cell_type": "markdown",
      "metadata": {
        "id": "DpdCew86aksp",
        "colab_type": "text"
      },
      "source": [
        "functional compatibility condition:\n",
        "\n",
        "$\\delta \\tilde{f_m}(x_i, \\overline{a})=\\tilde{f_m}(x_i, \\overline{a})-f(x_i)=0$\n",
        "\n",
        "differential compatibility condition:\n",
        "\n",
        "$\\delta S^{(p_1)}_{m, i}(x_j)=S^{(p_1)}_{m, i}(x)|_{x=x_j}-f^{(p_1)}(x)|_{x=x_j}=0 \\ \\ j =i, i+1$, where $p_1 \\ (0 \\leq p_1 \\leq r)$ takes a value from the collection of several integers corresponding to the orders of derivatives"
      ]
    },
    {
      "cell_type": "markdown",
      "metadata": {
        "id": "2whKACGrEOvT",
        "colab_type": "text"
      },
      "source": [
        "### 3. Formulate stitching conditions [mathematical formula]"
      ]
    },
    {
      "cell_type": "markdown",
      "metadata": {
        "id": "4hE0T4M3apOD",
        "colab_type": "text"
      },
      "source": [
        "$S_{i-1}^{p_2}(x)|_{x=x_i}=S_{i}^{p_2}(x)|_{x=x_i}, \\ \\ i =\\overline{1,n-1}$\n",
        "\n",
        "$p_2$ is a integer value or, in general, some set of integer values, s.t. $0≤p_2≤r$  and none of $p_2$ is equal to $p_1$"
      ]
    },
    {
      "cell_type": "markdown",
      "metadata": {
        "id": "BRXQZaLaEOvc",
        "colab_type": "text"
      },
      "source": [
        "### 4. Justify why these conditions provide you with the required smoothness [thesis text, no more than 500 characters]"
      ]
    },
    {
      "cell_type": "markdown",
      "metadata": {
        "id": "5iH3tBdKdvEg",
        "colab_type": "text"
      },
      "source": [
        "Existence and equalness of derivatives (Stitching condition stated) of order of $p_2$ from both sides $i-1$ and $i$ give (if $p_2 == 1$) the uniqeness of tangent for each $x_i$, this means resulting spline is continuous at least, (if $p_2 == 2$) the nature of the bulge is the same for both spline units around each $x_i$, and existence of second derivative is already confirmation of some kind of smoothness, etc. As Kireev mentioned, if target function is smooth, then its derivatives are smooth too, so, it is required the derivatives of spline to be approximated as well.   "
      ]
    },
    {
      "cell_type": "markdown",
      "metadata": {
        "id": "6tRu2rcIEOvk",
        "colab_type": "text"
      },
      "source": [
        "### 5. Derive dependency formula: the dependence of the second derivatives at the grid nodes on the increment of the function (the function values difference on the grid nodes). [Mathematical formulas derivation. Detailed, with clear transitions]"
      ]
    },
    {
      "cell_type": "markdown",
      "metadata": {
        "id": "Lclgupx4fbU7",
        "colab_type": "text"
      },
      "source": [
        "$S_{3,i}(x)=a_{0,i} + a_{1,i}(x-x_i) + a_{2,i}(x-x_i)^2 + a_{3,i}(x-x_i)^3$\n",
        "\n",
        "From differential compatibility condtions (let $p=\\{0, 2\\}$):\n",
        "\n",
        "$S_{3,i}(x_i)-f(x_i)=0$\n",
        "\n",
        "Hence, $a_{0,i}=f(x_i)=f_i$ \n",
        "\n",
        "$S_{3,i}(x_{i+1})-f(x_{i+1})=0$\n",
        "\n",
        "$S''_{3,i}(x_i)-f''(x_i)=0$\n",
        "\n",
        "$S''_{3,i}(x_{i+1})-f''(x_{i+1})=0$ \n",
        "\n",
        "Further:\n",
        "\n",
        "$S''_{3,i}(x) = 2a_{2,i}+6a_{3,i}(x-x_i)$\n",
        "\n",
        "$S''_{3,i}(x)|_{x=x_i}=2a_{2,i}=f''(x_i)$\n",
        "\n",
        "$f''(x_{i+1})-f''(x_{i}) = 6a_{3,i}(x_{i+1} - x_i)$\n",
        "\n",
        "Let $h_{i+1}=x_{i+1}-x_i, m_i = f''(x_{i}), \\Delta m_i=m_{i+1}-m_i$\n",
        "\n",
        "Hence, $a_{2,i}=m_i/2$; \n",
        "$a_{3,i}=\\frac{\\Delta m_i}{6h_{i+1}}$\n",
        "\n",
        "$f(x_{i+1})=a_{0,i} + a_{1,i}(x_{i+1}-x_i) + a_{2,i}(x_{i+1}-x_i)^2 + a_{3,i}(x_{i+1}-x_i)^3$\n",
        "\n",
        "$a_{1, i}=\\frac{\\Delta f_i}{h_{i+1}} - \\frac{m_i h_{i+1}}{2} - \\frac{\\Delta m_i h_{i+1}}{6}$\n",
        "\n",
        "Now, let's consider stitching between $S_{3,i-1}$ and $S_{3,i}$, $p=1$:\n",
        "\n",
        "$S'_{3, i}(x)=a_{1,i}+2a_{2,i}(x-x_i)+3a_{3,i}(x-x_i)^2$\n",
        "\n",
        "$S'_{3, i-1}(x)=a_{1,i-1}+2a_{2,i-1}(x-x_{i-1})+3a_{3,i-1}(x-x_{i-1})^2$\n",
        "\n",
        "$S'_{3, i}(x)|_{x=x_i} = S'_{3, i-1}(x)|_{x=x_i}$\n",
        "\n",
        "$a_{1,i}=a_{1,i-1}+2a_{2,i-1}h_i+3a_{3,i-1}h_i^2$\n",
        "\n",
        "By submission of all $a$s, it will turn to:\n",
        "\n",
        "$\\frac{\\Delta f_i}{h_{i+1}} - \\frac{m_ih_{i+1}}{3} - \\frac{m_{i+1}h_{i+1}}{6}=\\frac{\\Delta f_{i-1}}{h_{i}} - \\frac{m_{i-1}h_i}{3} - \\frac{m_{i}h_{i}}{6} + m_{i-1}h_i + \\frac{m_ih_i}{2}-\\frac{m_{i-1}h_i}{2}$\n",
        "\n",
        "Which in fact is:\n",
        "\n",
        "$\\frac{h_i}{6}m_{i-1}+\\frac{h_i+h_{i+1}}{3}m_i+\\frac{h_{i+1}}{6}m_{i+1}=\\frac{\\Delta f_i}{h_{i+1}}-\\frac{\\Delta f_{i-1}}{h_i}, \\ \\ i =\\overline{1,n-1}$"
      ]
    },
    {
      "cell_type": "markdown",
      "metadata": {
        "id": "UOuT7eylEOvs",
        "colab_type": "text"
      },
      "source": [
        "### 6. Create a system of equations using this formula [Matrix representation. Mathematical formulas]"
      ]
    },
    {
      "cell_type": "markdown",
      "metadata": {
        "id": "g_sI-4HHfcz5",
        "colab_type": "text"
      },
      "source": [
        "$$\\frac{1}{6}\n",
        "\\begin{bmatrix}\n",
        "h_1 & 2(h_1+h_2) & h_2 & 0 &  0 & ... & 0 \\\\\n",
        "0 & h_2 & 2(h_2+h_3) & h_3 &  0 & ... & 0 \\\\\n",
        "0 & 0 & h_3 & 2(h_3+h_4) & h_4 & ... & 0 \\\\\n",
        "\\vdots & \\vdots & \\vdots & \\vdots &\\vdots &\\ddots & \\vdots\\\\\n",
        "0 & 0 & ... & h_{n-2} & 2(h_{n-2}+h_{n-1}) & h_{n-1} & 0\\\\\n",
        "0 & 0 & ... & 0 & h_{n-1} & 2(h_{n-1}+h_n) & h_{n}\\\\\n",
        "\\end{bmatrix}_{(n-1)\\times (n+1)}\n",
        "\\times\n",
        "\\begin{bmatrix}\n",
        "m_0 \\\\\n",
        "m_1  \\\\\n",
        "m_2 \\\\\n",
        "\\vdots \\\\\n",
        "m_{n-2} \\\\\n",
        "m_{n-1} \\\\\n",
        "m_{n}\n",
        "\\end{bmatrix}_{(n+1)\\times 1}=\n",
        "$$\n",
        "$$=\n",
        "\\begin{bmatrix}\n",
        "\\frac{\\Delta f_1}{h_{2}}-\\frac{\\Delta f_{0}}{h_1} \\\\\n",
        "\\frac{\\Delta f_2}{h_{3}}-\\frac{\\Delta f_{1}}{h_2} \\\\\n",
        "\\frac{\\Delta f_3}{h_{4}}-\\frac{\\Delta f_{2}}{h_3} \\\\\n",
        "\\vdots \\\\\n",
        "\\frac{\\Delta f_{n-2}}{h_{n-1}}-\\frac{\\Delta f_{n-3}}{h_{n-2}} \\\\\n",
        "\\frac{\\Delta f_{n-1}}{h_{n}}-\\frac{\\Delta f_{n-2}}{h_{n-1}}\n",
        "\\end{bmatrix}_{(n-1)\\times 1}\n",
        "$$\n"
      ]
    },
    {
      "cell_type": "markdown",
      "metadata": {
        "id": "96nSpGRXEOvz",
        "colab_type": "text"
      },
      "source": [
        "### 7. Explain what is an unknown variable in this system. whether the system is closed with respect to an unknown variable. What is missing for closure. [Text, no more than 200 characters]"
      ]
    },
    {
      "cell_type": "markdown",
      "metadata": {
        "id": "iKPsPpTmC7_H",
        "colab_type": "text"
      },
      "source": [
        "This system is non-closed relatively $m_i$($i=\\overline{1,n-1}$), because there are two equations missed ($f_{-1}, f_{n+1}$). To deal with it:\n",
        "\n",
        "1) set $m_0=0; \\ m_n = 0;$\n",
        "\n",
        "or\n",
        "\n",
        "2) apply differential compatability of $p=3$, this will give proportion $\\Delta m_{k-1}/h_k = \\Delta m_k/h_{k+1}, (k=1,n-1)$ and two three-point equations:\n",
        "\n",
        "$\\frac{m_0}{h_1} - (\\frac{1}{h_1}+\\frac{1}{h_2})m_1 + \\frac{m_2}{h_2}= 0$\n",
        "\n",
        "$\\frac{m_{n-2}}{h_{n-1}} - (\\frac{1}{h_{n-1}}+\\frac{1}{h_n})m_{n-1} + \\frac{m_n}{h_n}= 0$\n",
        "\n",
        "These relations allow to close the system."
      ]
    },
    {
      "cell_type": "markdown",
      "metadata": {
        "id": "04XL6FKtEOv6",
        "colab_type": "text"
      },
      "source": [
        "### 8. Bring this matrix to the appropriate form to use the Tridiagonal matrix algorithm [Mathematical derivation. Use Gauss Elimination]"
      ]
    },
    {
      "cell_type": "markdown",
      "metadata": {
        "id": "HKJCkbk6uWPv",
        "colab_type": "text"
      },
      "source": [
        "After performing (7) upon (6) we've got:\n",
        "\n",
        "$$\\frac{1}{6}\n",
        "\\begin{bmatrix}\n",
        "2(h_1+h_2) & h_2 & 0 & 0 &  0 & ... & 0 \\\\\n",
        "h_2 & 2(h_2+h_3) & h_3 & 0 & 0 & ... & 0 \\\\\n",
        "0 & h_3 & 2(h_3+h_4) & h_4 & 0 & ... & 0 \\\\\n",
        "\\vdots & \\vdots & \\vdots & \\ddots &\\ddots &\\ddots & \\vdots\\\\\n",
        "0 & 0 & ... & 0 & h_{n-2} & 2(h_{n-2}+h_{n-1}) & h_{n-1}\\\\\n",
        "0 & 0 & ... & 0 & 0 & h_{n-1} & 2(h_{n-1}+h_n) \\\\\n",
        "\\end{bmatrix}_{(n-1)\\times (n-1)}$$\n",
        "\n",
        "Gauss Elimination Representation:\n",
        "$$\\frac{1}{6}\n",
        "\\left[\n",
        "\\begin{array}{ccccccc|c}\n",
        "2(h_1+h_2) & h_2 & 0 & 0 &  0 & ... & 0 & \\frac{\\Delta f_1}{h_{2}}-\\frac{\\Delta f_{0}}{h_1} \\\\\n",
        "h_2 & 2(h_2+h_3) & h_3 & 0 &  0 & ... & 0 & \\frac{\\Delta f_2}{h_{3}}-\\frac{\\Delta f_{1}}{h_2}\\\\\n",
        "0 & h_3 & 2(h_3+h_4) & h_4 & 0 & ... & 0 & \\frac{\\Delta f_3}{h_{4}}-\\frac{\\Delta f_{2}}{h_3}\\\\\n",
        "\\vdots & \\vdots & \\vdots & \\ddots &\\ddots &\\ddots & \\vdots & \\vdots\\\\\n",
        "0 & 0 & ... & 0 & h_{n-2} & 2(h_{n-2}+h_{n-1}) & h_{n-1} & \\frac{\\Delta f_{n-2}}{h_{n-1}}-\\frac{\\Delta f_{n-3}}{h_{n-2}}\\\\\n",
        "0 & 0 & ... & 0 & 0 & h_{n-1} & 2(h_{n-1}+h_n) & \\frac{\\Delta f_{n-1}}{h_{n}}-\\frac{\\Delta f_{n-2}}{h_{n-1}}\\\\\n",
        "\\end{array}\n",
        "\\right]=\n",
        "$$\n",
        "\n",
        "\n",
        "$$=\n",
        "\\left[\n",
        "\\begin{array}{ccccccc|c}\n",
        "-b_1 & c_1 & 0 & 0 &  0 & ... & 0 & q_1 \\\\\n",
        "a_2 & -b_2 & c_2 & 0 & 0 & ... & 0 & q_2\\\\\n",
        "0 & a_3 & -b_3 & c_3 & ... & 0 & 0 & q_3\\\\\n",
        "\\vdots & \\vdots & \\vdots & \\ddots &\\ddots &\\ddots & \\vdots & \\vdots\\\\\n",
        "0 & 0 & ... & 0 & a_{l-1} & b_{l-1} & c_{l-1} & q_{l-1}\\\\\n",
        "0 & 0 & ... & 0 & 0 & a_{l} & -b_{l} & q_{l}\\\\\n",
        "\\end{array}\n",
        "\\right]\n",
        "$$\n",
        "\n",
        "This matrix above reflects the system of equations:\n",
        "\n",
        "(*) $a_ix_{i-1}-b_ix_i+c_ix_{i+1}=q_i; a_1=c_n=0, i=\\overline{1,l},$ where $l=n-2$ \n",
        "\n",
        "Let's divide first row by $-b_1$ and set $P_1 = \\frac{c_1}{b_1}$, $Q_1=-\\frac{q_1}{b_1}$:\n",
        "\n",
        "$$=\n",
        "\\left[\n",
        "\\begin{array}{ccccccc|c}\n",
        "1 & -P_1 & 0 & 0 &  0 & ... & 0 & Q_1 \\\\\n",
        "a_2 & -b_2 & c_2 & 0 &  0 & ... & 0 & q_2\\\\\n",
        "0 & a_3 & -b_3 & c_3 & ... & 0 & 0 & q_3\\\\\n",
        "\\vdots & \\vdots & \\vdots & \\ddots &\\ddots &\\ddots & \\vdots & \\vdots\\\\\n",
        "0 & 0 & ... & 0 & a_{l-1} & b_{l-1} & c_{l-1} & q_{l-1}\\\\\n",
        "0 & 0 & ... & 0 & 0 & a_{l} & -b_{l} & q_{l}\\\\\n",
        "\\end{array}\n",
        "\\right]\n",
        "$$\n",
        "\n",
        "Note: $x_1=P_1x_2+Q_1$\n",
        "\n",
        "Let's multiply first row by $a_2$ and subtract it from second row:\n",
        "\n",
        "$$\n",
        "\\left[\n",
        "\\begin{array}{ccccccc|c}\n",
        "1 & -P_1 & 0 & 0 &  0 & ... & 0 & Q_1 \\\\\n",
        "0 & a_2P_1-b_2 & c_2 & 0 &  0 & ... & 0 & q_2-a_2Q_1\\\\\n",
        "0 & a_3 & -b_3 & c_3 & ... & 0 & 0 & q_3\\\\\n",
        "\\vdots & \\vdots & \\vdots & \\ddots &\\ddots &\\ddots & \\vdots & \\vdots\\\\\n",
        "0 & 0 & ... & 0 & a_{l-1} & b_{l-1} & c_{l-1} & q_{l-1}\\\\\n",
        "0 & 0 & ... & 0 & 0 & a_{l} & -b_{l} & q_{l}\\\\\n",
        "\\end{array}\n",
        "\\right]\n",
        "$$\n",
        "\n",
        "Let's divide second row by $a_2P_1-b_2$ and set $P_2 = \\frac{c_2}{a_2P_1-b_2}$, $Q_2=-\\frac{q_2-a_2Q_1}{a_2P_1-b_2}$:\n",
        "\n",
        "$$\n",
        "\\left[\n",
        "\\begin{array}{ccccccc|c}\n",
        "1 & -P_1 & 0 & 0 &  0 & ... & 0 & Q_1 \\\\\n",
        "0 & 1 & -P_2 & 0 &  0 & ... & 0 & Q_2\\\\\n",
        "0 & a_3 & -b_3 & c_3 & ... & 0 & 0 & q_3\\\\\n",
        "\\vdots & \\vdots & \\vdots & \\ddots &\\ddots &\\ddots & \\vdots & \\vdots\\\\\n",
        "0 & 0 & ... & 0 & a_{l-1} & b_{l-1} & c_{l-1} & q_{l-1}\\\\\n",
        "0 & 0 & ... & 0 & 0 & a_{l} & -b_{l} & q_{l}\\\\\n",
        "\\end{array}\n",
        "\\right]\n",
        "$$\n",
        "\n",
        "Note: $x_2=P_2x_3+Q_2$\n",
        "\n",
        "This process of substitutions and eliminations repeats until matrix becomes:\n",
        "$$\n",
        "\\left[\n",
        "\\begin{array}{ccccccc|c}\n",
        "1 & -P_1 & 0 & 0 &  0 & ... & 0 & Q_1 \\\\\n",
        "0 & 1 & -P_2 & 0 &  0 & ... & 0 & Q_2\\\\\n",
        "0 & 0 & 1 & -P_3 & ... & 0 & 0 & q_3\\\\\n",
        "\\vdots & \\vdots & \\vdots & \\ddots &\\ddots &\\ddots & \\vdots & \\vdots\\\\\n",
        "0 & 0 & ... & 0 & 0 & 1 & -P_{l-1} & Q_{l-1}\\\\\n",
        "0 & 0 & ... & 0 & 0 & 0 & 1 & Q_{l}\\\\\n",
        "\\end{array}\n",
        "\\right]\n",
        "$$\n",
        "\n",
        "Thus, recurrent formulas could be retrieved:\n",
        "\n",
        "$x_{i-1}=P_{i-1}x_{i}+Q_{i-1}, \\ i=\\overline{1,l-1}$\n",
        "\n",
        "by substituting into (*):\n",
        "\n",
        "$a_i(P_{i-1}x_i + Q_{i-1})-b_ix_i+c_ix_{i+1}=q_i$\n",
        "\n",
        "AND\n",
        "\n",
        "$P_i=\\frac{c_i}{b_i-a_iP_{i-1}}, \\ Q_i=\\frac{a_iQ_{i-1}-q_i}{b_i-a_iP_{i-1}}, \\ i=\\overline{1,l-1}$\n",
        "\n",
        "This all above is a direct pass of Gauss Elimination."
      ]
    },
    {
      "cell_type": "markdown",
      "metadata": {
        "id": "3UPn7L0zEOwB",
        "colab_type": "text"
      },
      "source": [
        "### 9. Derive formulas of direct pass and reverse pass of Tridiagonal matrix algorithm [Mathematical formals]"
      ]
    },
    {
      "cell_type": "markdown",
      "metadata": {
        "id": "llPOPzgZuXzM",
        "colab_type": "text"
      },
      "source": [
        "Direct pass is described in the previous task.\n",
        "\n",
        "Reverse pass reflects the following:\n",
        "\n",
        "(**) $x_i=P_ix_{i+1}+Q_i, i=\\overline{1,l-1}$\n",
        "\n",
        "from last defined equation from direct pass:\n",
        "\n",
        "$x_{n-1}=P_{n-1}x_n+Q_{n-1}$\n",
        "\n",
        "from last equation of initial system:\n",
        "\n",
        "$a_nx_{n-1}-b_nx_n+0*x_{n+1}=q_l$\n",
        "\n",
        "Hence,\n",
        "$x_n=\\frac{a_nQ_{n-1}-q_n}{b_n-a_nP_{n-1}}$\n",
        "\n",
        "And all of the $x_{n-1}, x_{n-2}, ..., x_1$ can be calculted through the (**)"
      ]
    },
    {
      "cell_type": "markdown",
      "metadata": {
        "id": "EpkjnslvEOwH",
        "colab_type": "text"
      },
      "source": [
        "### 10. Implement code prototype of the future algorithm implementation. Classes/methods (if you use OOP), functions. The final implementation (on language chosen by you) should not differ from the functions declared in the prototype. [Python code]"
      ]
    },
    {
      "cell_type": "code",
      "metadata": {
        "id": "4InLGaxPN798",
        "colab_type": "code",
        "colab": {}
      },
      "source": [
        "def retrieve_parameters(n, h, f):\n",
        "  a_s = [0]\n",
        "  a_s.extend([h[i]/6 for i in range(1,len(h))])\n",
        "  b_s = [float(h[i]+h[i-1])/3 for i in range(1,len(h))]\n",
        "  c_s = [h[i]/6 for i in range(1,len(h))] + [0]\n",
        "  q_s = [((f[i]-f[i-1])/h[i-1]-(f[i-1]-f[i-2])/h[i-2]) for i in range(2,n)]\n",
        "  return a_s, b_s, c_s, q_s\n",
        "\n",
        "def gauss_forward_pass(n, a_s, b_s, c_s, q_s):\n",
        "  # Task 8\n",
        "  Ps = [c_s[0]/b_s[0]]\n",
        "  Qs = [-q_s[0]/b_s[0]]\n",
        "  for i in range(1,n-2):\n",
        "    Ps.append(c_s[i]/(b_s[i]-a_s[i]*Ps[i-1]))\n",
        "    Qs.append((q_s[i]-a_s[i]*Qs[i-1])/(a_s[i]*Ps[i-1]-b_s[i]))\n",
        "  return Ps, Qs\n",
        "\n",
        "def gauss_reverse_pass(n, Ps, Qs):\n",
        "  # Task 9\n",
        "  ms = [Qs[-1]]\n",
        "  for i in range(n-1):\n",
        "    ms.insert(0, Qs[len(Qs)-i-1]-Ps[len(Ps)-i-1]*ms[0])\n",
        "  return ms\n",
        "\n",
        "def build_splines(ms, h, f):\n",
        "  # Task 5\n",
        "  splines = []\n",
        "  for i in range(len(f)-1):\n",
        "    a0 = f[i]\n",
        "    a1 = ((f[i+1] - f[i])/h[i]) + (h[i]*ms[i]/2) + (ms[i+1]-ms[i])*h[i]/6\n",
        "    a2 = ms[i]/2\n",
        "    a3 = (ms[i+1]-ms[i])/6*h[i]\n",
        "    splines.append([a0,a1,a2,a3])\n",
        "  return splines\n",
        "\n",
        "def main():\n",
        "  # ALL CODE IN PCMS WILL BE WRAPPED INTO ONE FUNCTION\n",
        "  # THIS CODE IS PROTOYPE AND MAY CONTAIN TYPOS OR MISTAKES\n",
        "  x = ??? \n",
        "  f = ???\n",
        "  h = [x[i]-x[i-1] for i in range(1,len(x))]\n",
        "  n = len(x)\n",
        "  a_s, b_s, c_s, q_s = retrieve_parameters(n, h, f)\n",
        "  Ps, Qs = gauss_forward_pass(n, a_s, b_s, c_s, q_s)\n",
        "  ms = gauss_reverse_pass(n-1, Ps, Qs)\n",
        "  splines = build_splines(ms, h, f)"
      ],
      "execution_count": 0,
      "outputs": []
    },
    {
      "cell_type": "markdown",
      "metadata": {
        "id": "o7etS1JmEOwO",
        "colab_type": "text"
      },
      "source": [
        "### 11. Derive formula of Cubic Spline method error [Mathematical formulas]"
      ]
    },
    {
      "cell_type": "markdown",
      "metadata": {
        "id": "85bE4Gj2uai1",
        "colab_type": "text"
      },
      "source": [
        "If $S_3(x)$ converges to $f(x) \\in C_4[a,b]$, then estimation is legal:\n",
        "\n",
        "$||f^{(p)}(x)-S_3^{(p)}(x)||_{C[a,b]} = max_{[a,b]}|f^{(p)}(x)-S^{(p)}_3(x)|\\leq M_4h^{4-p}_{max}, where \\  M_4=max_{[a,b]}|f^{(4)}(x)|, \\ h_{max}=max_{1\\leq i \\leq n}h_i$"
      ]
    },
    {
      "cell_type": "markdown",
      "metadata": {
        "id": "GqjbLi3KEOwU",
        "colab_type": "text"
      },
      "source": [
        "### 12. Rate the complexity of the algorithm [Text, and rate in terms of big O, no more than 100 characters]"
      ]
    },
    {
      "cell_type": "markdown",
      "metadata": {
        "id": "qIJRDfgZucIV",
        "colab_type": "text"
      },
      "source": [
        "Let $N$ be the number of datapoints.\n",
        "\n",
        "Forward pass of Gauss Elimination is $O(N)$, reverse pass is also $O(N)$.\n",
        "\n",
        "Thus, total complexety of the algorithm is $O(N)$."
      ]
    },
    {
      "cell_type": "markdown",
      "metadata": {
        "id": "oLSprMC6EOwZ",
        "colab_type": "text"
      },
      "source": [
        "### Congrats!"
      ]
    }
  ]
}