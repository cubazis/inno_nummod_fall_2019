{
 "cells": [
  {
   "cell_type": "code",
   "execution_count": null,
   "metadata": {},
   "outputs": [],
   "source": [
    "import sympy as sp\n",
    "import numpy as np\n",
    "import matplotlib.pyplot as plt"
   ]
  },
  {
   "cell_type": "markdown",
   "metadata": {},
   "source": [
    "### 1. Formulate the statement of the interpolation problem with Cubic Spline [mathematical formula]\n",
    "\n",
    "Given grid function $f(x)$ on interval $[a, b]$, divided on pieces $[x_{i-1}, x_i]$, such that $a = x_0 < x_1 ... < x_N = b$. We need to restore it by function  $S_m(x)$ , where $m$ - degree of polynomial, using piecewise-global method.\n",
    "Cubic spline with defect $3 - p$, called the function $S_3(x)$, which\n",
    "- on each $[x_{i-1}, x_i]$ is polynomial of degree no greater than 3\n",
    "- has continious derivatives of degree 1..p on $[a, b]$\n",
    "- on $x_i$ points $S_3(x_i) = f(x_i)$\n",
    "- satisfies border conditions $S''(a) = S''(b) = 0$ (natural spline)"
   ]
  },
  {
   "cell_type": "markdown",
   "metadata": {},
   "source": [
    "### 2. Formulate the functional and differential compatibility conditions [mathematical formula]\n",
    "\n",
    "\n",
    "\n",
    "$S_{m,i}^{(p)}(x_i) - f^{(p)}(x_i) = 0, i = 0...n - 1$\n",
    "- if $p = 0$ then functional compatibility condition\n",
    "- if $p > 0$ then differential compatibility condition"
   ]
  },
  {
   "cell_type": "markdown",
   "metadata": {},
   "source": [
    "### 3. Formulate stitching conditions [mathematical formula]\n",
    "\n",
    "$S_{m,i - 1}^{(p)}(x)|_{x=x_i} = S_{m,i}^{(p)}(x)|_{x=x_i}, i = 1...n-1$"
   ]
  },
  {
   "cell_type": "markdown",
   "metadata": {},
   "source": [
    "### 4. Justify why these conditions provide you with the required smoothness [thesis text, no more than 500 characters]\n",
    "\n",
    "- Functional compatibility condition provides a solution to the interpolation problem.\n",
    "- Differential compatibility conditions ensure that the resulting function is differentiable up to $p$ (2 in our case).\n",
    "- Stiching conditions ensure that the resulting function is continuous."
   ]
  },
  {
   "cell_type": "markdown",
   "metadata": {},
   "source": [
    "### 5. Derive dependency formula: the dependence of the second derivatives at the grid nodes on the increment of the function (the function values difference on the grid nodes). [Mathematical formulas derivation. Detailed, with clear transitions]\n",
    "\n",
    "###### Stage 1: \n",
    "\n",
    "Find $a_{0, i}, a_{1, i}, a_{2, i}, a_{3, i}$ for $S_{3, i} = a_{0, i} + a_{1, i}(x - x_i) + a_{2, i}(x - x_i)^2 + a_{3, i}(x - x_i)^3$\n",
    "\n",
    "Solve the system of the following equations (funcional compatibility conditons and differential compatibility (p = 2) conditions):\n",
    "\n",
    "$\\begin{cases}S_{3, i}(x_i)-f(x_i)=0 \\\\ S_{3, i}(x_{i + 1})-f(x_{i + 1})=0 \\\\ S_{3, i}^{''}(x_i)-f^{''}(x_i)=0 \\\\ S_{3, i}^{''}(x_{i + 1})-f^{''}(x_{i + 1})=0\\end{cases}$\n",
    "\n",
    "Let\n",
    "- $h_{i + 1} = x_{i + 1} - x_{i}$\n",
    "- $Δf_i = f_{i + 1} - f_{i}$\n",
    "- $Δm_i = m_{i + 1} - m_{i}$\n",
    "\n",
    "then\n",
    "\n",
    "$\\begin{cases}a_{0, i} - f_i = 0 &\\Rightarrow& a_{0, i} = f_i \\\\ a_{0, i} + a_{1, i}h_{i + 1} + a_{2, i}h_{i + 1}^2 + a_{3, i}h_{i + 1}^3 - f_{i + 1} = 0 \\\\ 2a_{2, i} - m_i = 0 &\\Rightarrow& a_{2, i} = \\frac{m_i}{2} \\\\ 2a_{2, i} + 6a_{3, i}h_{i + 1} - m_{i + 1} = 0\\end{cases}$\n",
    "\n",
    "then\n",
    "\n",
    "$m_i + 6a_{3, i}h_{i + 1} - m_{i + 1} = 0 \\Rightarrow a_{3, i} = \\frac{Δm_i}{6h_{i + 1}}$\n",
    "\n",
    "then\n",
    "\n",
    "$f_i + a_{1, i}h_{i + 1} + \\frac{m_i}{2}h_{i + 1}^2 + \\frac{Δm_i}{6h_{i + 1}}h_{i + 1}^3 - f_{i + 1} = 0 \\Rightarrow -\\frac{Δf_i}{h_{i + 1}} + a_{1, i} + \\frac{m_i}{2}h_{i + 1} + \\frac{Δm_i}{6}h_{i + 1} = 0 \\Rightarrow a_{1, i} = \\frac{Δf_i}{h_{i + 1}} - \\frac{h_{i + 1}}{2}m_i - \\frac{h_{i + 1}}{6}Δm_i$\n",
    "\n",
    "so\n",
    "\n",
    "$S_{3, i} = f_i + (\\frac{Δf_i}{h_{i + 1}} - \\frac{h_{i + 1}}{2}m_i - \\frac{h_{i + 1}}{6}Δm_i)(x - x_i) + \\frac{m_i}{2}(x - x_i)^2 + \\frac{Δm_i}{6h_{i + 1}}(x - x_i)^3$\n",
    "\n",
    "###### Stage 2:\n",
    "\n",
    "$S_{3, i - 1}(x) = f_{i - 1} + (\\frac{Δf_{i - 1}}{h_{i}} - \\frac{h_{i}}{2}m_{i - 1} - \\frac{h_{i}}{6}Δm_{i - 1})(x - x_{i - 1}) + \\frac{m_{i - 1}}{2}(x - x_{i - 1})^2 + \\frac{Δm_{i - 1}}{6h_{i}}(x - x_{i - 1})^3$\n",
    "\n",
    "$S_{3, i - 1}^{'}(x_i) = \\frac{Δf_{i - 1}}{h_i} - \\frac{h_i}{2}m_{i - 1} - \\frac{h_i}{6}Δm_{i - 1} + h_im_{i - 1} + \\frac{h_i}{2}Δm_{i - 1}$\n",
    "\n",
    "$S_{3, i}^{'}(x_i) = \\frac{Δf_i}{h_{i + 1}} - \\frac{h_{i + 1}}{2}m_i - \\frac{h_{i + 1}}{6}Δm_i$\n",
    "\n",
    "By using stitching condition ($S_{3,i - 1}^{'}(x)|_{x=x_i} = S_{3,i}^{'}(x)|_{x=x_i}$):\n",
    "\n",
    "$\\frac{Δf_{i - 1}}{h_i} - \\frac{h_i}{2}m_{i - 1} - \\frac{h_i}{6}Δm_{i - 1} + h_im_{i - 1} + \\frac{h_i}{2}Δm_{i - 1} = \\frac{Δf_i}{h_{i + 1}} - \\frac{h_{i + 1}}{2}m_i - \\frac{h_{i + 1}}{6}Δm_i \\Rightarrow$\n",
    "\n",
    "$\\Rightarrow \\frac{h_i}{2}m_{i - 1} - \\frac{h_i}{6}m_{i} + \\frac{h_i}{6}m_{i - 1} + \\frac{h_i}{2}m_{i} - \\frac{h_i}{2}m_{i - 1} + \\frac{h_{i + 1}}{2}m_i - \\frac{h_{i + 1}}{6}m_{i + 1} + \\frac{h_{i + 1}}{6}m_i = \\frac{Δf_i}{h_{i + 1}} - \\frac{Δf_{i - 1}}{h_i}$\n",
    "\n",
    "so:\n",
    "\n",
    "$\\frac{h_i}{6}m_{i - 1} + \\frac{h_i + h_{i + 1}}{3}m_i + \\frac{h_{i + 1}}{6}m_{i + 1} = \\frac{Δf_i}{h_{i + 1}} - \\frac{Δf_{i - 1}}{h_i}, i = 1..n-1$\n",
    "\n",
    "or\n",
    "\n",
    "$h_im_{i - 1} + 2(h_i + h_{i + 1})m_i + h_{i + 1}m_{i + 1} = 6(\\frac{Δf_i}{h_{i + 1}} - \\frac{Δf_{i - 1}}{h_i}), i = 1..n-1$"
   ]
  },
  {
   "cell_type": "markdown",
   "metadata": {},
   "source": [
    "### 6. Create a system of equations using this formula [Matrix representation. Mathematical formulas]\n",
    "\n",
    "$\\begin{bmatrix}\n",
    "2(h_2+h_1) & h_2 & 0 & .. & .. & 0\n",
    "\\\\ .. & .. & .. & .. & .. & .. \\\\ 0 & h_i & 2(h_{i+1}+h_i) & h_{i+1} & 0 & ..\n",
    "\\\\ .. & .. & .. & .. & .. & .. \\\\\n",
    "0 & .. & .. & 0 & h_{n-1} & 2(h_n+h_{n-1})\n",
    "\\end{bmatrix}\n",
    "\\begin{bmatrix}\n",
    "m_1 \\\\ .. \\\\ m_i \\\\ .. \\\\ m_{n-1}\n",
    "\\end{bmatrix}\n",
    "=\n",
    "\\begin{bmatrix}\n",
    "6(\\frac{\\Delta f_1}{h_2}-\\frac{\\Delta f_0}{h_1}) \n",
    "\\\\ .. \\\\\n",
    "6(\\frac{\\Delta f_i}{h_{i+1}}-\\frac{\\Delta f_{i-1}}{h_i})\n",
    "\\\\ .. \\\\\n",
    "6(\\frac{\\Delta f_{n-1}}{h_n}-\\frac{\\Delta f_{n-2}}{h_{n-1}})\n",
    "\\end{bmatrix}$"
   ]
  },
  {
   "cell_type": "markdown",
   "metadata": {},
   "source": [
    "### 7. Explain what is an unknown variable in this system. whether the system is closed with respect to an unknown variable. What is missing for closure. [Text, no more than 200 characters]\n",
    "\n",
    "The system has n - 2 unknown variables ($m_i, i = 1..n-1$) and it is not closed with respect to $m_i, i = 0..n$. For closure of the system we may set that second derivitives at the ends equal to 0, so $m_0 = m_n = 0$."
   ]
  },
  {
   "cell_type": "markdown",
   "metadata": {},
   "source": [
    "### 8. Bring this matrix to the appropriate form to use the Tridiagonal matrix algorithm [Mathematical derivation. Use Gauss Elimination]\n",
    "\n",
    "$\\begin{bmatrix}\n",
    "1 & -P_1 & 0 & .. & .. & 0 & .. & Q_1\n",
    "\\\\ 0 & 1 & -P_2 & 0  & 0  & 0 & .. & Q_2\n",
    "\\\\ 0 & 0 & 1 & -P_3 & 0 & 0 & .. & Q_3\n",
    "\\\\ .. & .. & .. & .. & .. & .. & .. & ..\n",
    "\\\\ 0 & 0 & 0 & 0 & 0 & 1 & .. & Q_{n-1}\n",
    "\\end{bmatrix}\n",
    "$\n",
    "\n",
    "where $P_i = \\frac{h_{i + 1}}{-2(h_{i + 1} + h_i) - h_iP_{i-1}}, Q_i = \\frac{h_iQ_{i - 1} - 6(\\frac{\\Delta f_{i}}{h_{i+1}} - \\frac{\\Delta f_{i - 1}}{h_{i}})}{-2(h_{i + 1} + h_i) - h_iP_{i-1}}, P_1 = \\frac{h_2}{-2(h_2 + h_1)}, Q_1 = -\\frac{6(\\frac{\\Delta f_1}{h_2}-\\frac{\\Delta f_0}{h_1})}{-2(h_2 + h_1)}$"
   ]
  },
  {
   "cell_type": "markdown",
   "metadata": {},
   "source": [
    "### 9. Derive formulas of direct pass and reverse pass of Tridiagonal matrix algorithm [Mathematical formals]\n",
    "\n",
    "Expanded record of tridiagonal matrix is:  \n",
    "\n",
    "$\\alpha_ix_{i - 1} - \\beta_ix_i + \\gamma_ix_{i + 1} = \\delta_i, \\alpha_1=\\gamma_n=0, i=1..n$ (1)\n",
    "\n",
    "If we convert tridiagonal matrix to upper triangular matrix by gaussian elimination, we will get matrix from previous question.\n",
    "Considering that the last row of this matrix equal to right side (so $x_n = Q_n$) and each upper row depends on downstream row, we get recurrent formula: $x_i = P_ix_{i + 1} + Q_i, i = 1..n-1$ (2). This is reverse pass formula.\n",
    "\n",
    "$x_{i - 1} = P_{i - 1}x_i + Q_{i - 1}$ (3)\n",
    "\n",
    "Putting (3) in (1): \n",
    "\n",
    "$\\alpha_i(P_{i - 1}x_i + Q_{i - 1}) - \\beta_ix_i + \\gamma_ix_{i + 1} = \\delta_i \\Rightarrow x_i = \\frac{-\\gamma_i}{\\alpha_iP_{i - 1} - \\beta_i}x_{i + 1} + \\frac{-\\alpha_iQ_{i - 1} + \\delta_i}{\\alpha_iP_{i - 1} - \\beta_i}$\n",
    "\n",
    "by comparing it with (2):\n",
    "\n",
    "$P_i = \\frac{\\gamma_i}{\\beta_i - \\alpha_iP_{i - 1}}$\n",
    "\n",
    "$Q_i = \\frac{\\alpha_iQ_{i - 1} - \\delta_i}{\\beta_i - \\alpha_iP_{i - 1}}$\n",
    "\n",
    "$P_i$ and $Q_i$ are direct pass formulas."
   ]
  },
  {
   "cell_type": "markdown",
   "metadata": {},
   "source": [
    "### 10. Implement code prototype of the future algorithm implementation. Classes/methods (if you use OOP), functions. The final implementation (on language chosen by you) should not differ from the functions declared in the prototype. [Python code in ipynb]"
   ]
  },
  {
   "cell_type": "code",
   "execution_count": 1,
   "metadata": {},
   "outputs": [],
   "source": [
    "import numpy as np\n",
    "\n",
    "def solve_tdm(A, delta):\n",
    " \n",
    "    n = len(delta)\n",
    "    \n",
    "    P = np.zeros(n - 1)\n",
    "    Q = np.zeros(n - 1)\n",
    "    \n",
    "    P[0] = -A[2][0] / A[1][0]\n",
    "    Q[0] = delta[0] / A[1][0]\n",
    " \n",
    "    for i in range(1, n - 1):\n",
    "        P[i] = -A[2][i] / (A[1][i] + A[0][i] * P[i - 1])\n",
    "        Q[i] = (delta[i] - A[0][i] * Q[i - 1]) / (A[1][i] + A[0][i] * P[i - 1])\n",
    " \n",
    "    x = np.zeros(n)\n",
    " \n",
    "    x[n - 1] = (delta[n - 1] - A[0][n - 1] * Q[n - 2]) / (A[1][n - 1] + A[0][n - 1] * P[n - 2])\n",
    " \n",
    "    for i in range(n - 2, -1, -1):\n",
    "        x[i] = x[i + 1] * P[i] + Q[i]\n",
    "    \n",
    "    return x;\n",
    " \n",
    "def build_spline(x, f):\n",
    "    \n",
    "    n = len(x)\n",
    "    \n",
    "    h = np.zeros(n - 1)\n",
    "    df = np.zeros(n - 1)\n",
    "    \n",
    "    A = np.zeros((3, n - 2))\n",
    "    delta = np.zeros(n - 2)\n",
    "    \n",
    "    for i in range(0, n - 1):\n",
    "        h[i] = x[i + 1] - x[i]\n",
    "        df[i] = f[i + 1] - f[i]\n",
    " \n",
    "    for i in range(0, n - 2):\n",
    "        A[0][i] = h[i]\n",
    "        A[1][i] = 2 * (h[i] + h[i + 1])\n",
    "        A[2][i] = h[i + 1]\n",
    "        delta[i] = 6 * (df[i + 1] / h[i + 1] - df[i] / h[i])\n",
    "\n",
    "    A[0][0] = 0;\n",
    "    A[2][n - 3] = 0;\n",
    " \n",
    "    m = np.concatenate((np.zeros(1), solve_tdm(A, delta), np.zeros(1)))\n",
    " \n",
    "    coef = np.zeros((4, n - 1))\n",
    "    \n",
    "    for i in range(0, n - 1):\n",
    "        coef[0][i] = f[i]\n",
    "        coef[1][i] = (df[i] / h[i] - h[i] * m[i] / 2 - h[i] * (m[i + 1] - m[i]) / 6)\n",
    "        coef[2][i] = m[i] / 2\n",
    "        coef[3][i] = (m[i + 1] - m[i]) / (6 * h[i])\n",
    " \n",
    "    return coef\n",
    " \n",
    "def interpolate(q, coef, x):\n",
    " \n",
    "    i = 0\n",
    "    \n",
    "    while x[i] < q:\n",
    "        i += 1\n",
    "    i -= 1\n",
    "    \n",
    "    h = q - x[i]\n",
    " \n",
    "    return coef[0][i] + coef[1][i] * h + coef[2][i] * h**2 + coef[3][i] * h**3"
   ]
  },
  {
   "cell_type": "code",
   "execution_count": 3,
   "metadata": {},
   "outputs": [
    {
     "data": {
      "image/png": "[encoded data removed]",
      "text/plain": [
       "<Figure size 432x288 with 1 Axes>"
      ]
     },
     "metadata": {
      "needs_background": "light"
     },
     "output_type": "display_data"
    }
   ],
   "source": [
    "import matplotlib.pyplot as plt\n",
    "\n",
    "x = [0, 1, 2, 3, 4, 5, 6]\n",
    "f = [0, 1, 4, 9, 4, 7, 1]\n",
    "plt.scatter(x, f)\n",
    "\n",
    "coef = build_spline(x, f)\n",
    "_x = np.arange(0.1, 6, 0.1)\n",
    "_y = [interpolate(i, coef, x) for i in _x]\n",
    "plt.plot(_x, _y)\n",
    "\n",
    "plt.show()"
   ]
  },
  {
   "cell_type": "markdown",
   "metadata": {},
   "source": [
    "### 11. Derive formula of Cubic Spline method error [Mathematical formulas]\n",
    "\n",
    "Let the function $y = f(x)$ have a fourth-order continuous derivative on the interval $[a, b]$ and $M_4 = max_{[a, b]}|f^{(4)}(x)|$. Then, for cubic spline $S_3(x)$, satisfying the boundary conditions, the following error estimate holds: $max_{[a, b]}|f^{(p)}(x) - S_3^{(p)}(x)| ≤ С_pM_4h_{max}^{4 - p}, p=[1,2,3], h_{max} = max_{1 ≤ i ≤ n}h_i$"
   ]
  },
  {
   "cell_type": "markdown",
   "metadata": {},
   "source": [
    "### 12. Rate the complexity of the algorithm [Text, and rate in terms of big O, no more than 100 characters]\n",
    "\n",
    "The complexity is $O(n)$, because Tridiagonal matrix algorithm has complexity $O(n)$ and building of Tridiagonal matrix has complexity $O(n)$."
   ]
  },
  {
   "cell_type": "markdown",
   "metadata": {},
   "source": [
    "### Congrats!"
   ]
  }
 ],
 "metadata": {
  "kernelspec": {
   "display_name": "Python 3",
   "language": "python",
   "name": "python3"
  },
  "language_info": {
   "codemirror_mode": {
    "name": "ipython",
    "version": 3
   },
   "file_extension": ".py",
   "mimetype": "text/x-python",
   "name": "python",
   "nbconvert_exporter": "python",
   "pygments_lexer": "ipython3",
   "version": "3.6.8"
  }
 },
 "nbformat": 4,
 "nbformat_minor": 2
}
