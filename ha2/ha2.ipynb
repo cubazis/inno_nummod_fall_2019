{
  "nbformat": 4,
  "nbformat_minor": 0,
  "metadata": {
    "kernelspec": {
      "display_name": "Python 3",
      "language": "python",
      "name": "python3"
    },
    "language_info": {
      "codemirror_mode": {
        "name": "ipython",
        "version": 3
      },
      "file_extension": ".py",
      "mimetype": "text/x-python",
      "name": "python",
      "nbconvert_exporter": "python",
      "pygments_lexer": "ipython3",
      "version": "3.6.8"
    },
    "colab": {
      "name": "Copy of ha2.ipynb",
      "version": "0.3.2",
      "provenance": [],
      "collapsed_sections": []
    }
  },
  "cells": [
    {
      "cell_type": "code",
      "metadata": {
        "colab_type": "code",
        "id": "4THzAMguufDg",
        "colab": {}
      },
      "source": [
        "import sympy as sp\n",
        "import numpy as np\n",
        "import matplotlib.pyplot as plt"
      ],
      "execution_count": 0,
      "outputs": []
    },
    {
      "cell_type": "markdown",
      "metadata": {
        "id": "tdIZIJrREOu4",
        "colab_type": "text"
      },
      "source": [
        "### 1. Formulate the statement of the interpolation problem with Cubic Spline [mathematical formula]"
      ]
    },
    {
      "cell_type": "markdown",
      "metadata": {
        "id": "MORJz_kaEbSP",
        "colab_type": "text"
      },
      "source": [
        "Given: \n",
        "\n",
        "$y_i=f(x_i)$,  $x_i\\in[a,b]$,  $i=\\overline{0, n}$, $m=3$\n",
        "\n",
        "Then:\n",
        "\n",
        "$\\tilde{y} = \\tilde{f_m}(x, \\overline{a} )$\n",
        "\n",
        "\n",
        "$S_{3,i}(x)=a_{0,i} + a_{1,i}(x-x_i) + a_{2,i}(x-x_i)^2 + a_{3,i}(x-x_i)^3$, where $x \\in [x_i, x_{i+1}]$\n",
        "\n",
        "$S_{3}(x)=\\cup_{i=0}^{n-1}S_{3,i}(x)$ defined on the segment $[a,b]$, belongs to $C_2[a,b]$ \n"
      ]
    },
    {
      "cell_type": "markdown",
      "metadata": {
        "id": "uhXw2uKfEOvL",
        "colab_type": "text"
      },
      "source": [
        "### 2. Formulate the functional and differential compatibility conditions [mathematical formula]"
      ]
    },
    {
      "cell_type": "markdown",
      "metadata": {
        "id": "DpdCew86aksp",
        "colab_type": "text"
      },
      "source": [
        "$p_1=\\{0,2\\}$\n",
        "\n",
        "Functional:\n",
        "\n",
        "$\\delta S_{3,i}(x)|_{x=x_i} = S_{3,i}(x_i)-f(x_i) = 0$,\n",
        "\n",
        "$\\delta S_{3,i}(x)|_{x=x_{i+1}} = S_{3,i}(x_{i+1})-f(x_{i+1}) = 0$;\n",
        "\n",
        "Differential:\n",
        "\n",
        "$\\delta S_{3,i}^{''}(x)|_{x=x_i} = S_{3,i}^{''}(x_i)-f^{''}(x_i) = 0$,\n",
        "\n",
        "$\\delta S_{3,i}^{''}(x)|_{x=x_{i+1}} = S_{3,i}^{''}(x_{i+1})-f^{''}(x_{i+1}) = 0$."
      ]
    },
    {
      "cell_type": "markdown",
      "metadata": {
        "id": "2whKACGrEOvT",
        "colab_type": "text"
      },
      "source": [
        "### 3. Formulate stitching conditions [mathematical formula]"
      ]
    },
    {
      "cell_type": "markdown",
      "metadata": {
        "id": "4hE0T4M3apOD",
        "colab_type": "text"
      },
      "source": [
        "$S_{3,i-1}^{(p_1)}(x)|_{x=x_i} = S_{3,i}^{(p_1)}(x)|_{x=x_i}$, \n",
        "\n",
        "$i \\in [1, n-1]$\n",
        "\n",
        "$p_1=\\{1\\}$\n",
        "\n",
        "\n",
        "$S_{3,i-1}^{'}(x)|_{x=x_i} = S_{3,i}^{'}(x)|_{x=x_i}$"
      ]
    },
    {
      "cell_type": "markdown",
      "metadata": {
        "id": "BRXQZaLaEOvc",
        "colab_type": "text"
      },
      "source": [
        "### 4. Justify why these conditions provide you with the required smoothness [thesis text, no more than 500 characters]"
      ]
    },
    {
      "cell_type": "markdown",
      "metadata": {
        "id": "5iH3tBdKdvEg",
        "colab_type": "text"
      },
      "source": [
        "If function`s derivative is smooth then function is smooth too. So derivatives should be continuous in all internal nodes.\n"
      ]
    },
    {
      "cell_type": "markdown",
      "metadata": {
        "id": "6tRu2rcIEOvk",
        "colab_type": "text"
      },
      "source": [
        "### 5. Derive dependency formula: the dependence of the second derivatives at the grid nodes on the increment of the function (the function values difference on the grid nodes). [Mathematical formulas derivation. Detailed, with clear transitions]"
      ]
    },
    {
      "cell_type": "markdown",
      "metadata": {
        "id": "Lclgupx4fbU7",
        "colab_type": "text"
      },
      "source": [
        "1)\n",
        "\n",
        "$\\delta S_{3,i}(x)|_{x=x_i} = S_{3,i}(x_i)-f(x_i) = 0$,\n",
        "\n",
        "$\\delta S_{3,i}(x)|_{x=x_{i+1}} = S_{3,i}(x_{i+1})-f(x_{i+1}) = 0$;\n",
        "\n",
        "$\\delta S_{3,i}^{''}(x)|_{x=x_i} = S_{3,i}^{''}(x_i)-f^{''}(x_i) = 0$,\n",
        "\n",
        "$\\delta S_{3,i}^{''}(x)|_{x=x_{i+1}} = S_{3,i}^{''}(x_{i+1})-f^{''}(x_{i+1}) = 0$.\n",
        "\n",
        "2)\n",
        "\n",
        "$S_{3,i}(x)=a_{0,i} + a_{1,i}(x-x_i) + a_{2,i}(x-x_i)^2 + a_{3,i}(x-x_i)^3$\n",
        "\n",
        "$S_{3,i}^{'}(x)=a_{1,i}+2a_{2,i}(x-x_i)+3a_{3,i}(x-x_i)^2$\n",
        "\n",
        "$S_{3,i}^{''}(x)=2a_{2,i}+6a_{3,i}(x-x_i)$\n",
        "\n",
        "\n",
        "3)\n",
        "\n",
        "$\\begin{cases} \n",
        "    a_{0,i} + a_{1,i}(x_i-x_i) + a_{2,i}(x_i-x_i)^2 + a_{3,i}(x_i-x_i)^3 - f(x_i) = 0 \\\\\n",
        "    a_{0,i} + a_{1,i}(x_{i+1}-x_i) + a_{2,i}(x_{i+1}-x_{i})^2 + a_{3,i}(x_{i+1}-x_i)^3 - f(x_{i+1}) = 0 \\\\\n",
        "    2a_{2,i}+6a_{3,i}(x_i-x_i)-f^{''}(x_i) = 0 \\\\\n",
        "    2a_{2,i}+6a_{3,i}(x_{i+1}-x_{i})-f^{''}(x_{i+1}) = 0\n",
        "\\end{cases}$\n",
        "\n",
        "$\\begin{cases} \n",
        "    a_{0,i} = f(x_i) \\\\\n",
        "    a_{0,i} + a_{1,i}(x_{i+1}-x_i) + a_{2,i}(x_{i+1}-x_{i})^2 + a_{3,i}(x_{i+1}-x_i)^3 - f(x_{i+1}) = 0 \\\\\n",
        "    a_{2,i} = f^{''}(x_i) / 2\\\\\n",
        "    2a_{2,i}+6a_{3,i}(x_{i+1}-x_{i})-f^{''}(x_{i+1}) = 0\n",
        "\\end{cases}$\n",
        "\n",
        "Let $h_{i+1}=x_{i+1}-x_i, m_i = f''(x_{i}), \\Delta m_i=m_{i+1}-m_i, \\Delta f_i = f(x_{i+1}) - f(x_i)$\n",
        "\n",
        "$a_{0,i} = f(x_i) $\n",
        "\n",
        "$a_{2,i} = m_i / 2 $\n",
        "\n",
        "$a_{3,i}=\\frac{\\Delta m_i}{6h_{i+1}}$\n",
        "\n",
        "\n",
        "\n",
        "$f(x_i) + a_{1,i}h_{i+1} + \\frac{m_i}{2}h_{i+1}^2 + \\frac{\\Delta m_i}{6(h_{i+1})}h_{i+1}^3 = f(x_{i+1}) $\n",
        "\n",
        "$a_{1,i} = \\frac{\\Delta f_i - \\frac{m_i}{2}h_{i+1}^2 - \\frac{\\Delta m_i}{6(h_{i+1})}h_{i+1}^3}{h_{i+1}} = \\frac{\\Delta f_i}{h_{i+1}} - \\frac{m_i  h_{i+1}}{2} - \\frac{\\Delta m_i  h_{i+1}}{6}$\n",
        "\n",
        "4) Stiching\n",
        "\n",
        "$S'_{3, i}(x)=a_{1,i}+2a_{2,i}(x_{i+1}-x_{i})+3a_{3,i}(x_{i+1}-x_{i})^2$\n",
        "\n",
        "$S'_{3, i-1}(x)=a_{1,i-1}+2a_{2,i-1}(x_{i+1}-x_{i})+3a_{3,i-1}(x_{i+1}-x_{i})^2$\n",
        "\n",
        "$S'_{3, i}(x)|_{x=x_i} = S'_{3, i-1}(x)|_{x=x_i}$\n",
        "\n",
        "$a_{1,i}=a_{1,i-1}+2a_{2,i-1}h_{i}+3a_{3,i-1}h_{i}^2$\n",
        "\n",
        "$\\frac{\\Delta f_i}{h_{i+1}} - \\frac{m_i  h_{i+1}}{2} - \\frac{\\Delta m_i h_{i+1}}{6} = \\frac{\\Delta f_{i-1}}{h_{i}} - \\frac{m_{i-1}  h_{i}}{2} - \\frac{\\Delta m_{i-1}  h_{i}}{6} + \\frac {2 m_{i-1} h_{i}}{2} +\\frac{3\\Delta m_{i-1}h_{i}^2}{6h_{i}} $\n",
        "\n",
        ".\n",
        "\n",
        ".\n",
        "\n",
        ".\n",
        "\n",
        "$\\Delta m_i = m_{i+1} - m_i$\n",
        "\n",
        "$\\frac{m_{i-1}h_i}{6} + \\frac{m_i(h_i+h_{i+1})}{3} + \\frac{m_{i+1}h_{i+1}}{6} = \\frac{\\Delta f_{i}}{h_{i+1}} - \\frac{\\Delta f_{i-1}}{h_{i}}$, for $i \\in [1, n-1]$\n"
      ]
    },
    {
      "cell_type": "markdown",
      "metadata": {
        "id": "UOuT7eylEOvs",
        "colab_type": "text"
      },
      "source": [
        "### 6. Create a system of equations using this formula [Matrix representation. Mathematical formulas]"
      ]
    },
    {
      "cell_type": "markdown",
      "metadata": {
        "id": "g_sI-4HHfcz5",
        "colab_type": "text"
      },
      "source": [
        "$$\\frac{1}{6}\n",
        "\\begin{bmatrix}\n",
        "h_1 & 2(h_1+h_2) & h_2 & 0 & 0 & 0 & ... & 0 \\\\\n",
        "0 & h_2 & 2(h_2+h_3) & h_3 & 0 & 0 & ... & 0 \\\\\n",
        "0 & 0 & h_3 & 2(h_3+h_4) & h_4 & 0 & ... & 0 \\\\\n",
        "&... & ... & ... & ... & ... & ... \\\\\n",
        "&... & ... & ... & ... & ... & ... \\\\\n",
        "&... & ... & ... & ... & ... & ... \\\\\n",
        "0 & 0 & 0 & ... & h_{n-2} & 2(h_{n-2}+h_{n-1}) & h_{n-1} & 0 \\\\ \n",
        "0 & 0 & 0 & ... & 0 & h_{n-1} & 2(h_{n-1}+h_n) & h_{n} \\\\\n",
        "\\end{bmatrix}\n",
        "\\quad\n",
        "\\begin{bmatrix}\n",
        "m_0 \\\\\n",
        "m_1 \\\\\n",
        "m_2 \\\\\n",
        "... \\\\\n",
        "... \\\\\n",
        "... \\\\\n",
        "m_{n-1} \\\\\n",
        "m_{n}\n",
        "\\end{bmatrix}=\n",
        "\\begin{bmatrix}\n",
        "\\frac{\\Delta f_1}{h_{2}}-\\frac{\\Delta f_{0}}{h_1} \\\\\n",
        "\\frac{\\Delta f_2}{h_{3}}-\\frac{\\Delta f_{1}}{h_2} \\\\\n",
        "\\frac{\\Delta f_3}{h_{4}}-\\frac{\\Delta f_{2}}{h_3} \\\\\n",
        "... \\\\\n",
        "... \\\\\n",
        "... \\\\\n",
        "\\frac{\\Delta f_{n-2}}{h_{n-1}}-\\frac{\\Delta f_{n-3}}{h_{n-2}} \\\\\n",
        "\\frac{\\Delta f_{n-1}}{h_{n}}-\\frac{\\Delta f_{n-2}}{h_{n-1}}\n",
        "\\end{bmatrix}\n",
        "$$\n"
      ]
    },
    {
      "cell_type": "markdown",
      "metadata": {
        "id": "96nSpGRXEOvz",
        "colab_type": "text"
      },
      "source": [
        "### 7. Explain what is an unknown variable in this system. whether the system is closed with respect to an unknown variable. What is missing for closure. [Text, no more than 200 characters]"
      ]
    },
    {
      "cell_type": "markdown",
      "metadata": {
        "id": "iKPsPpTmC7_H",
        "colab_type": "text"
      },
      "source": [
        "This system is non-closed about $m_i$, where $i \\in [1, n-1]$\n"
      ]
    },
    {
      "cell_type": "markdown",
      "metadata": {
        "id": "04XL6FKtEOv6",
        "colab_type": "text"
      },
      "source": [
        "### 8. Bring this matrix to the appropriate form to use the Tridiagonal matrix algorithm [Mathematical derivation. Use Gauss Elimination]"
      ]
    },
    {
      "cell_type": "markdown",
      "metadata": {
        "id": "lK0vVl0nEudg",
        "colab_type": "text"
      },
      "source": [
        "$$\\frac{1}{6}\n",
        "\\begin{bmatrix}\n",
        "2(h_1+h_2) & h_2 & 0 & 0 & 0  & ... & 0 & 0 \\\\\n",
        "h_2 & 2(h_2+h_3) & h_3 & 0 & 0 & ... & 0 & 0 \\\\\n",
        "0 & h_3 & 2(h_3+h_4) & h_4 & 0 & ... & 0 & 0  \\\\\n",
        "&... & ... & ... & ... & ... & ... \\\\\n",
        "&... & ... & ... & ... & ... & ... \\\\\n",
        "&... & ... & ... & ... & ... & ... \\\\\n",
        "0 & 0 & 0 & 0 & ... & h_{n-2} & 2(h_{n-2}+h_{n-1}) & h_{n-1} \\\\ \n",
        "0 & 0 & 0 & 0 & ... & 0 & h_{n-1} & 2(h_{n-1}+h_n) \\\\\n",
        "\\end{bmatrix}\n",
        "\\quad\n",
        "\\begin{bmatrix}\n",
        "m_0 \\\\\n",
        "m_1 \\\\\n",
        "m_2 \\\\\n",
        "... \\\\\n",
        "... \\\\\n",
        "... \\\\\n",
        "m_{n-1} \\\\\n",
        "m_{n}\n",
        "\\end{bmatrix}=\n",
        "\\begin{bmatrix}\n",
        "\\frac{\\Delta f_1}{h_{2}}-\\frac{\\Delta f_{0}}{h_1} \\\\\n",
        "\\frac{\\Delta f_2}{h_{3}}-\\frac{\\Delta f_{1}}{h_2} \\\\\n",
        "\\frac{\\Delta f_3}{h_{4}}-\\frac{\\Delta f_{2}}{h_3} \\\\\n",
        "... \\\\\n",
        "... \\\\\n",
        "... \\\\\n",
        "\\frac{\\Delta f_{n-2}}{h_{n-1}}-\\frac{\\Delta f_{n-3}}{h_{n-2}} \\\\\n",
        "\\frac{\\Delta f_{n-1}}{h_{n}}-\\frac{\\Delta f_{n-2}}{h_{n-1}}\n",
        "\\end{bmatrix}\n",
        "$$\n",
        "\n",
        "\n",
        "$$\n",
        "\\begin{bmatrix}\n",
        "1 & -P1 & 0 & 0 & 0  & ... & 0 & 0 \\\\\n",
        "0 & 1 & -P2 & 0 & 0 & ... & 0 & 0 \\\\\n",
        "0 & 0 & 1 & -P3 & 0 & ... & 0 & 0  \\\\\n",
        "&... & ... & ... & ... & ... & ... \\\\\n",
        "&... & ... & ... & ... & ... & ... \\\\\n",
        "&... & ... & ... & ... & ... & ... \\\\\n",
        "0 & 0 & 0 & 0 & ... & 0 & 1 & -P_{n-1} \\\\ \n",
        "0 & 0 & 0 & 0 & ... & 0 & 0 & 1 \\\\\n",
        "\\end{bmatrix}\n",
        "\\quad\n",
        "\\begin{bmatrix}\n",
        "m_0 \\\\\n",
        "m_1 \\\\\n",
        "m_2 \\\\\n",
        "... \\\\\n",
        "... \\\\\n",
        "... \\\\\n",
        "m_{n-1} \\\\\n",
        "m_{n}\n",
        "\\end{bmatrix}=\n",
        "\\begin{bmatrix}\n",
        "Q_1 \\\\\n",
        "Q_2 \\\\\n",
        "Q_3 \\\\\n",
        "... \\\\\n",
        "... \\\\\n",
        "... \\\\\n",
        "Q_{n-1} \\\\\n",
        "Q_{n}\n",
        "\\end{bmatrix}\n",
        "$$\n",
        "\n",
        "\n",
        "$m_{i-1} = P_{i-1}m_i+Q_{i-1}$, where $i \\in [1, n-1]$"
      ]
    },
    {
      "cell_type": "markdown",
      "metadata": {
        "id": "HKJCkbk6uWPv",
        "colab_type": "text"
      },
      "source": [
        ""
      ]
    },
    {
      "cell_type": "markdown",
      "metadata": {
        "id": "3UPn7L0zEOwB",
        "colab_type": "text"
      },
      "source": [
        "### 9. Derive formulas of direct pass and reverse pass of Tridiagonal matrix algorithm [Mathematical formals]"
      ]
    },
    {
      "cell_type": "markdown",
      "metadata": {
        "id": "llPOPzgZuXzM",
        "colab_type": "text"
      },
      "source": [
        ""
      ]
    },
    {
      "cell_type": "markdown",
      "metadata": {
        "id": "iNWpvLjAILa9",
        "colab_type": "text"
      },
      "source": [
        "###Direct pass :\n",
        "\n",
        "$m_{i-1} = P_{i-1}m_i+Q_{i-1}$, where $i \\in [1, n-1]$\n",
        "\n",
        "Then:\n",
        "$\\frac{(P_{i-1}m_i + Q_{i-1}) h_i}{6} - \\frac{m_i(h_i+h_{i+1})}{3} + \\frac{m_{i+1}h_{i+1}}{6} = \\frac{\\Delta f_{i}}{h_{i+1}} - \\frac{\\Delta f_{i-1}}{h_{i}}$\n",
        "\n",
        "$a_i = \\frac{h_i}{6},b_i = \\frac{h_i + h_{i+1}}{3}, c_i = \\frac{h_{i+1}}{6}, q = \\frac{\\Delta f_{i}}{h_{i+1}} - \\frac{\\Delta f_{i-1}}{h_{i}}$\n",
        "\n",
        "$m_i = -\\frac{c_i m_{i+1}}{a_i P_{i-1} - b_i} - \\frac{a_i Q_{i-1}}{a_i P_{i-1} - b_i} + \\frac{q_i}{a_i P_{i-1} - b_i} = \\frac{c_i m_{i+1}}{b_i - a_i P_{i-1}} + \\frac{a_i Q_{i-1} - q_i}{b_i - a_i P_{i-1}}$\n",
        "\n",
        "$\\frac{c_i m_{i+1}}{b_i - a_i P_{i-1}} + \\frac{a_i Q_{i-1} - q_i}{b_i - a_i P_{i-1}} = P_{i}m_{i+1}+Q_{i}$\n",
        "\n",
        "$P_{i} = \\frac{c_i }{b_i - a_i P_{i-1}}$\n",
        "\n",
        "$Q_i = \\frac{a_i Q_{i-1} - q_i}{b_i - a_i P_{i-1}}$\n",
        "\n",
        "###Reverse pass:\n",
        "\n",
        "$m_{n-1} = P_{n-1}m_n + Q_{n-1}$\n",
        "\n",
        "$a_n m_{n-1} - b_n m_n = q_n$\n",
        "\n",
        "$a_n(P_{n-1}m_n + Q_{n-1}) - b_n m_n = q_n $\n",
        "\n",
        "$m_n(a_n P_{n-1} - b_n) = q_n - a_n Q_{n-1} $\n",
        "\n",
        "$m_n = \\frac{q_n - a_n Q_{n-1}}{a_n P_{n-1} - b_n} = \\frac{a_n Q_{n-1} - q_n}{b_n - a_n P_{n-1}} = Q_n$\n",
        "\n",
        "\n",
        "\n"
      ]
    },
    {
      "cell_type": "markdown",
      "metadata": {
        "id": "EpkjnslvEOwH",
        "colab_type": "text"
      },
      "source": [
        "### 10. Implement code prototype of the future algorithm implementation. Classes/methods (if you use OOP), functions. The final implementation (on language chosen by you) should not differ from the functions declared in the prototype. [Python code]"
      ]
    },
    {
      "cell_type": "code",
      "metadata": {
        "id": "hpqHaWMwQCfP",
        "colab_type": "code",
        "colab": {
          "base_uri": "https://localhost:8080/",
          "height": 53
        },
        "outputId": "22a7ccef-0c96-4725-a5b3-bbeda4dfe667"
      },
      "source": [
        "import random\n",
        "from math import sin, cos\n",
        "\n",
        "n = 20\n",
        "x = [0.1 * i for i in range(n)]\n",
        "y = [sin(x[i]) * i for i in range(int(len(x) / 2))] + [cos(x[i]) * i for i in range(int((len(x) / 2)), len(x))]\n",
        "\n",
        "my_x = [0.1 * i + random.uniform(0, 0.1) for i in range(n - 1)]\n",
        "\n",
        "\n",
        "def parameters(i):\n",
        "    return x[i] / 6 - x[i - 1] / 6, -x[i + 1] / 3 + x[i - 1] / 3, x[i + 1] / 6 - x[i] / 6, (\n",
        "            (y[i + 1] - y[i]) / (x[i + 1] - x[i])) - ((y[i] - y[i - 1]) / (x[i] - x[i - 1]))\n",
        "\n",
        "\n",
        "def find_m():\n",
        "    P = [0]\n",
        "    Q = [0]\n",
        "    m = [0] * n\n",
        "\n",
        "    for i in range(1, n - 1):\n",
        "        a, b, c, q = parameters(i)\n",
        "\n",
        "        if i == 1:\n",
        "            P.append(c / b)\n",
        "            Q.append(- q / b)\n",
        "            continue\n",
        "\n",
        "        P.append(c / (b - a * P[i - 1]))\n",
        "        Q.append((a * Q[i - 1] - q) / (b - a * P[i - 1]))\n",
        "\n",
        "    m[n - 2] = Q[n - 2]\n",
        "    for i in range(n - 2, 1, -1):\n",
        "        m[i - 1] = P[i - 1] * m[i] + Q[i - 1]\n",
        "    return m\n",
        "\n",
        "\n",
        "m = find_m()\n",
        "\n",
        "\n",
        "def ans(my_x):\n",
        "    for i in range(n):\n",
        "        if my_x < x[i]:\n",
        "            i -= 1\n",
        "            x_dif = (my_x - x[i])\n",
        "            a_0, a_1, a_2, a_3 = y[i], ((y[i + 1] - y[i]) / (x[i + 1] - x[i])) - ((m[i] * (x[i + 1] - x[i])) / 2) - (\n",
        "                    ((m[i + 1] - m[i]) * (x[i + 1] - x[i])) / 6), m[i] / 2, (m[i + 1] - m[i]) / (6 * (x[i + 1] - x[i]))\n",
        "            return a_0 + a_1 * x_dif + a_2 * x_dif ** 2 + a_3 * x_dif ** 3\n",
        "\n",
        "\n",
        "my_y = []\n",
        "for item in my_x:\n",
        "    my_y.append(ans(item))\n",
        "print(str(my_y)[1:-1])\n"
      ],
      "execution_count": 1,
      "outputs": [
        {
          "output_type": "stream",
          "text": [
            "0.01154136254733343, 0.23928403239894075, 0.6168332077001728, 0.9463633995150453, 1.7651305191058688, 3.2431793042831196, 4.501139483446685, 5.237221707041131, 6.1227259679465735, 6.963605849250702, 5.00595066951392, 4.693842737098635, 4.284202134887114, 2.581167225380396, 2.2574264325583027, 0.36151256688643, -1.7002404721082198, -2.4563840996430453, -5.023367148647818\n"
          ],
          "name": "stdout"
        }
      ]
    },
    {
      "cell_type": "markdown",
      "metadata": {
        "id": "o7etS1JmEOwO",
        "colab_type": "text"
      },
      "source": [
        "### 11. Derive formula of Cubic Spline method error [Mathematical formulas]"
      ]
    },
    {
      "cell_type": "markdown",
      "metadata": {
        "id": "85bE4Gj2uai1",
        "colab_type": "text"
      },
      "source": [
        "$|| f^{(p)}(x)-S_3^{(p)}(x)||_{C[a,b]} = \\max\\limits_{[a,b]}|f^{(p)}(x)-S_3^{(p)}(x)|\\leq M_4h^{4-p}$, $p=0,1,2$\n"
      ]
    },
    {
      "cell_type": "markdown",
      "metadata": {
        "id": "GqjbLi3KEOwU",
        "colab_type": "text"
      },
      "source": [
        "### 12. Rate the complexity of the algorithm [Text, and rate in terms of big O, no more than 100 characters]"
      ]
    },
    {
      "cell_type": "markdown",
      "metadata": {
        "id": "qIJRDfgZucIV",
        "colab_type": "text"
      },
      "source": [
        "Direct pass - O(n) (Find n of P and Q)\n",
        "\n",
        "Reverse pass- O(n) (Find n of m)\n",
        "\n",
        "Total - O(n)\n",
        " \n",
        "\n",
        "\n",
        "\n",
        "\n",
        "\n",
        "\n"
      ]
    },
    {
      "cell_type": "markdown",
      "metadata": {
        "id": "oLSprMC6EOwZ",
        "colab_type": "text"
      },
      "source": [
        "\n",
        "\n",
        "### Congrats!"
      ]
    }
  ]
}