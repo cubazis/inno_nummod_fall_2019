{
 "cells": [
  {
   "cell_type": "code",
   "execution_count": 1,
   "metadata": {},
   "outputs": [],
   "source": [
    "import numpy as np\n",
    "import sympy as sp\n",
    "import matplotlib.pyplot as plt\n",
    "from IPython.display import display\n",
    "from typing import *"
   ]
  },
  {
   "cell_type": "markdown",
   "metadata": {},
   "source": [
    "### 1. The statement of the interpolation problem with Cubic Spline\n",
    "\n",
    "Given $ N $ pairs of values $\\{(x_i, y_i) | x_i < x_{i+1}, y_i = f(x_i), i = 1..N\\}$, define the function $ f(x) $ as\n",
    "\n",
    "$$ f(x) = \\sum_{i=1}^{N-1} \\theta_i(x) $$ \n",
    "$$ \\theta_i(x) = \\begin{cases}\n",
    "    a_i + b_i(x - x_i) + c_i(x - x_i)^2 + d_i(x - x_i)^3, & \\text{if } x_i \\le x\\lt x_{i+1}\\\\\n",
    "    0,                                                    & \\text{otherwise}\n",
    "\\end{cases} $$\n",
    "\n",
    "and find its parameters.\n",
    "\n",
    "$$ \\theta_i'(x) = b_i + 2c_i(x - x_i) + 3d_i(x - x_i)^2 $$\n",
    "\n",
    "$$ \\theta_i''(x) = 2c_i + 6d_i(x - x_i) $$"
   ]
  },
  {
   "cell_type": "markdown",
   "metadata": {},
   "source": [
    "### 2. The functional and differential compatibility conditions\n",
    "\n",
    "$$ \\forall i=1..N-1: $$\n",
    "\n",
    "#### Functional compatibility conditions\n",
    "\n",
    "$$ \\theta_i(x_i) - f(x_i) = 0 $$\n",
    "\n",
    "$$ \\theta_i(x_{i+1}) - f(x_{i+1}) = 0 $$\n",
    "\n",
    "#### Differential compatiility conditions\n",
    "\n",
    "$$ \\theta_i''(x_i) - f''(x_i) = 0 $$\n",
    "\n",
    "$$ \\theta_i''(x_{i+1}) - f''(x_{i+1}) = 0 $$\n"
   ]
  },
  {
   "cell_type": "markdown",
   "metadata": {},
   "source": [
    "### 3. Stitching conditions\n",
    "\n",
    "$$ \\theta_i(x_{i+1}) = \\theta_{i+1}(x_{i+1}) = y_{i_1}, i=1..N-1 $$\n",
    "\n",
    "$$ \\theta_i'(x_{i+1}) = \\theta_{i+1}'(x_{i+1}), i=1..N-1 $$\n",
    "\n",
    "$$ \\theta_i''(x_{i+1}) = \\theta_{i+1}''(x_{i+1}), i=1..N-1 $$"
   ]
  },
  {
   "cell_type": "markdown",
   "metadata": {},
   "source": [
    "### 4. Justify why these conditions provide you with the required smoothness [thesis text, no more than 500 characters]\n",
    "\n",
    "Stiching conditions ensure that the resulting function is continuous.\n",
    "\n",
    "Differential compatibility conditions ensure that the resulting function is differentiable up to $r$ (2 in our case).\n",
    "\n",
    "Functional compatibility conditions ensure that the resulting function solves the interpolation problem and passes through all grid points."
   ]
  },
  {
   "cell_type": "markdown",
   "metadata": {},
   "source": [
    "### 5. Derive dependency formula: the dependence of the second derivatives at the grid nodes on the increment of the function (the function values difference on the grid nodes). [Mathematical formulas derivation. Detailed, with clear transitions]\n",
    "\n",
    "#### Deriving polynomial parameters\n",
    "Additional definitions:\n",
    "\n",
    "$$ m_i = f''(x_i) $$\n",
    "$$ h_i = x_i - x_{i-1} $$\n",
    "$$ \\Delta m_i = m_{i+1} - m_i $$\n",
    "$$ \\Delta f_i = f(x_{i+1}) - f(x_i) = y_{i+1} - y_i $$\n",
    "\n",
    "Differential conditions:\n",
    "\n",
    "$$ \\theta_i(x_i) - f(x_i) = 0 $$\n",
    "$$ \\theta_i(x_{i+1}) - f(x_{i+1}) = 0 $$\n",
    "$$ \\theta_i''(x_i) - f''(x_i) = 0 $$\n",
    "$$ \\theta_i''(x_{i+1}) - f''(x_{i+1}) = 0 $$\n",
    "\n",
    "Substituting with our polynomial:\n",
    "\n",
    "$$ a_i + b_i(x_i - x_i) + c_i(x_i - x_i)^2 + d_i(x _i - x_i)^3 - y_i = 0 $$\n",
    "$$ a_i + b_i(x_{i+1} - x_i) + c_i(x_{i+1} - x_i)^2 + d_i(x_{i+1}- x_i)^3 - y_{i+1} = 0 $$\n",
    "$$ 2c_i + 6d_i(x_i - x_i) - m_i = 0 $$\n",
    "$$ 2c_i + 6d_i(x_{i+1} - x_i) - m_{i+1} = 0 $$\n",
    "\n",
    "Simplifying 1st:\n",
    "\n",
    "$$ a_i = y_i $$\n",
    "\n",
    "Subtracting 4th from 3rd:\n",
    "\n",
    "$$ 2c_i + 6d_i(x_{i+1} - x_i) - m_{i+1} - 2c_i - 6d_i(x_i - x_i) + m_i = 0$$\n",
    "$$ \\Delta m_i = 6d_i h_{i+1} $$\n",
    "$$ d_i = \\frac{\\Delta m_i}{6 h_{i+1}} $$\n",
    "\n",
    "Subtracting 3rd from 1st:\n",
    "\n",
    "$$ a_i - y_i - 2c_i + m_i = 0 $$\n",
    "$$ a_i = y_i + 2c_i - m_i $$\n",
    "$$ 2c_i = m_i $$\n",
    "$$ c_i = \\frac{m_i}{2} $$\n",
    "\n",
    "Subtracting 2nd from 1st:\n",
    "\n",
    "$$ b_i(x_{i+1} - x_i) + c_i(x_{i+1} - x_i)^2 + d_i(x _{i+1}- x_i)^3 - y_{i+1} + y_i = 0 $$\n",
    "$$ b_i h_{i+1} + c_i h_{i+1}^2 + d_i h_{i+1}^3 = \\Delta f_i $$\n",
    "$$ b_i = \\frac{\\Delta f_i}{h_{i+1}} - c_i h_{i+1} - d_i h_{i+1}^2 $$\n",
    "$$ b_i = \\frac{\\Delta f_i}{h_{i+1}} - \\frac{h_{i+1} m_i}{2} - \\frac{\\Delta m_i h_{i+1}}{6} $$\n",
    "\n",
    "#### Deriving dependency\n",
    "\n",
    "Stiching condition:\n",
    "\n",
    "$$ \\theta_i'(x_{i+1}) = \\theta_{i+1}'(x_{i+1}) $$\n",
    "$$ \\theta_i'(x) = b_i + 2c_i(x - x_i) + 3d_i(x - x_i)^2 $$\n",
    "\n",
    "Substituting with the polynomial:\n",
    "\n",
    "$$ b_i + 2c_i(x_{i+1} - x_i) + 3d_i(x_{i+1} - x_i)^2 = b_{i+1} + 2c_{i+1}(x_{i+1} - x_{i+1}) + 3d_{i+1}(x_{i+1} - x_{i+1})^2 $$\n",
    "$$ b_i + 2c_i h_{i+1} + 3d_i h_{i+1}^2 = b_{i+1} $$\n",
    "\n",
    "Substituting the parameters:\n",
    "\n",
    "$$ \\frac{\\Delta f_i}{h_{i+1}} - \\frac{h_{i+1} m_i}{2} - \\frac{\\Delta m_i h_{i+1}}{6} + m_i h_{i+1} + \\frac{\\Delta m_i h_{i+1}}{2} = \\frac{\\Delta f_{i+1}}{h_{i+2}} - \\frac{h_{i+2} m_{i+1}}{2} - \\frac{\\Delta m_{i+1} h_{i+2}}{6} $$\n",
    "$$ \\frac{\\Delta f_i}{h_{i+1}} + \\frac{3 h_{i+1} m_i - \\Delta m_i h_{i+1} + 3 \\Delta m_i h_{i+1}}{6} = \\frac{\\Delta f_{i+1}}{h_{i+2}} - \\frac{3 h_{i+2} m_{i+1} + \\Delta m_{i+1} h_{i+2}}{6} $$\n",
    "$$ \\frac{\\Delta f_i}{h_{i+1}} + \\frac{h_{i+1}(3 m_i - \\Delta m_i + 3 m_{i+1} - 3 m_i)}{6} = \\frac{\\Delta f_{i+1}}{h_{i+2}} - \\frac{3 h_{i+2} m_{i+1} + \\Delta m_{i+1} h_{i+2}}{6} $$\n",
    "$$ \\frac{h_{i+1}(3 m_{i+1} - \\Delta m_i)}{6} + \\frac{3 h_{i+2} m_{i+1} + \\Delta m_{i+1} h_{i+2}}{6} = \\frac{\\Delta f_{i+1}}{h_{i+2}} - \\frac{\\Delta f_i}{h_{i+1}} $$\n",
    "$$ \\frac{h_{i+1} m_{i+1}}{2} - \\frac{(m_{i+1} - m_i) h_{i+1}}{6}  + \\frac{h_{i+2} m_{i+1}}{2} + \\frac{(m_{i+2} - m_{i+1}) h_{i+2}}{6} = \\frac{\\Delta f_{i+1}}{h_{i+2}} - \\frac{\\Delta f_i}{h_{i+1}} $$\n",
    "$$ \\frac{h_{i+1} m_{i+1}}{3} + \\frac{m_i h_{i+1}}{6}  + \\frac{h_{i+2} m_{i+1}}{3} + \\frac{m_{i+2} h_{i+2}}{6} = \\frac{\\Delta f_{i+1}}{h_{i+2}} - \\frac{\\Delta f_i}{h_{i+1}} $$\n",
    "$$ \\frac{m_i h_{i+1}}{6} + \\frac{(h_{i+1} + h_{i+2}) m_{i+1}}{3} + \\frac{m_{i+2} h_{i+2}}{6} = \\frac{\\Delta f_{i+1}}{h_{i+2}} - \\frac{\\Delta f_i}{h_{i+1}} $$"
   ]
  },
  {
   "cell_type": "markdown",
   "metadata": {},
   "source": [
    "### 6. Create a system of equations using this formula [Matrix representation. Mathematical formulas]\n",
    "\n",
    "$$ \\frac{h_i}{6} m_{i-1} + \\frac{(h_i + h_{i+1})}{3} m_i + \\frac{h_{i+1}}{6} m_{i+1} = \\frac{\\Delta f_i}{h_{i+1}} - \\frac{\\Delta f_{i-1}}{h_i}, \\forall i = 2..{N-1} $$\n",
    "$$ A_i m_{i-1} + B_i m_i + C_i m_{i+1} = F_i $$ \n",
    "\n",
    "$$ A_i = \\frac{h_i}{6} = \\frac{x_i - x_{i-1}}{6} $$\n",
    "$$ B_i = \\frac{h_i + h_{i+1}}{3} = \\frac{x_i - x_{i-1} + x_{i+1} - x_i}{3} = \\frac{x_{i+1} - x_{i-1}}{3} $$\n",
    "$$ C_i = \\frac{h_{i+1}}{6} = \\frac{x_{i+1} - x_i}{6} $$\n",
    "$$ F_i = \\frac{\\Delta f_i}{h_{i+1}} - \\frac{\\Delta f_{i-1}}{h_i} = \\frac{y_{i+1} - y_i}{x_{i+1} - x_i} - \\frac{y_i - y_{i-1}}{x_i - x_{i-1}} $$\n",
    "\n",
    "$$\n",
    "\\begin{bmatrix}\n",
    "    B_1    & C_1    & 0      & 0      & \\dots   & 0 \\\\\n",
    "    A_2    & B_2    & C_2    & 0      & \\dots   & 0 \\\\\n",
    "    0      & A_3    & B_3    & C_3    & \\dots   & 0 \\\\\n",
    "    0      & 0      & A_4    & B_4    & \\dots   & 0 \\\\\n",
    "    \\vdots & \\vdots & \\vdots & \\vdots & \\ddots  & \\vdots \\\\\n",
    "    0      & 0      & 0      & \\dots  & A_N    & B_N \n",
    "\\end{bmatrix} \\begin{bmatrix}\n",
    "    m_1 \\\\\n",
    "    m_2 \\\\\n",
    "    m_3 \\\\\n",
    "    m_4 \\\\\n",
    "    \\vdots \\\\\n",
    "    m_N\n",
    "\\end{bmatrix} = \\begin{bmatrix}\n",
    "    F_1 \\\\\n",
    "    F_2 \\\\\n",
    "    F_3 \\\\\n",
    "    F_4 \\\\\n",
    "    \\vdots \\\\\n",
    "    F_N\n",
    "\\end{bmatrix}\n",
    "$$"
   ]
  },
  {
   "cell_type": "markdown",
   "metadata": {},
   "source": [
    "### 7. Explain what is an unknown variable in this system. whether the system is closed with respect to an unknown variable. What is missing for closure. [Text, no more than 200 characters]\n",
    "\n",
    "Unknown variables are variables which are neither given in the input data nor are derivable from it. Our systems is not closed due to the unknown variables $ m_1 $ and $ m_N $. We will define them both as zeroes."
   ]
  },
  {
   "cell_type": "markdown",
   "metadata": {},
   "source": [
    "### 8. Bring this matrix to the appropriate form to use the Tridiagonal matrix algorithm [Mathematical derivation. Use Gauss Elimination]\n",
    "$$ \\begin{bmatrix}\n",
    "    1      & -P_1   & 0      & 0      & \\dots     & 0      \\\\\n",
    "    0      & 1      & -P_2   & 0      & \\dots     & 0      \\\\\n",
    "    0      & 0      & 1      & -P_3   & \\dots     & 0      \\\\\n",
    "    \\vdots & \\vdots & \\vdots & \\vdots & \\ddots    & \\vdots \\\\\n",
    "    0      & 0      & 0      & 0      & \\dots     & 1 \n",
    "\\end{bmatrix} X = \\begin{bmatrix}\n",
    "    Q_1 \\\\\n",
    "    Q_2 \\\\\n",
    "    Q_3 \\\\\n",
    "    \\vdots \\\\\n",
    "    Q_N\n",
    "\\end{bmatrix} $$ \n",
    "\n",
    "where \n",
    "$$ P_1 = \\frac{C_1}{-B_1} $$ \n",
    "$$ Q_1 = \\frac{F_1}{B_1} $$ \n",
    "$$ P_i = \\frac{C_i}{-B_i - A_i P_{i-1}} $$ \n",
    "$$ Q_i = \\frac{A_i Q_{i-1} - F_i}{-B_i - A_i P_{i-1}} $$\n"
   ]
  },
  {
   "cell_type": "markdown",
   "metadata": {},
   "source": [
    "### 9. Derive formulas of direct pass and reverse pass of Tridiagonal matrix algorithm [Mathematical formals]\n",
    "\n",
    "#### Forward pass\n",
    "\n",
    "Given $i$th equation of form $a m_{i-1} + b m_i + c m_{i+1} = d $ and $i-1$th equation of form $ a' m_{i-1} + b' m_i = d' $, we can derive another equation:\n",
    "\n",
    "$$ a a' m_{i-1} + b a' m_i + c a' m_{i+1} - a a' m_{i-1} - a b' m_i = d a' - a d' $$\n",
    "$$ (b a' - a b') m_i + c a' m_{i+1} = d a' - a d' $$\n",
    "\n",
    "The very first equation already has only two variables, so we start with $ i = 2 $ \n",
    "\n",
    "The last equation's $ c = 0 $, as a result it will have only one variable.\n",
    "\n",
    "#### Reverse pass\n",
    "\n",
    "Given $i$th equation of form $a m_i + b m_{i+1} = d $ and $i+1$th equation of form $ b' m_{i+1} = d' $, we can derive following equation:\n",
    "\n",
    "$$ a b' m_i + b b' m_{i+1} - b b' m_{i+1} = d b' - d' b $$\n",
    "$$ a b' m_i = d b' - d' b $$\n",
    "$$ m_i = \\frac{d b' - d' b}{a b'} $$"
   ]
  },
  {
   "cell_type": "markdown",
   "metadata": {},
   "source": [
    "### 10. Implement code prototype of the future algorithm implementation. Classes/methods (if you use OOP), functions. The final implementation (on language chosen by you) should not differ from the functions declared in the prototype. [Python code]\n",
    "\n",
    "$$ A_i = \\frac{x_i - x_{i-1}}{6} $$\n",
    "$$ B_i = \\frac{x_{i+1} - x_{i-1}}{3} $$\n",
    "$$ C_i = \\frac{x_{i+1} - x_i}{6} $$\n",
    "$$ F_i = \\frac{y_{i+1} - y_i}{x_{i+1} - x_i} - \\frac{y_i - y_{i-1}}{x_i - x_{i-1}} $$\n",
    "\n",
    "Forward:\n",
    "$$ (b a' - a b') m_i + c a' m_{i+1} = d a' - a d' $$\n",
    "\n",
    "Backward:\n",
    "$$ m_i = \\frac{d b' - d' b}{a b'} $$"
   ]
  },
  {
   "cell_type": "code",
   "execution_count": 2,
   "metadata": {},
   "outputs": [
    {
     "data": {
      "image/png": "[encoded data removed]",
      "text/plain": [
       "<Figure size 720x432 with 1 Axes>"
      ]
     },
     "metadata": {
      "needs_background": "light"
     },
     "output_type": "display_data"
    }
   ],
   "source": [
    "plt.rcParams['figure.figsize'] = [10, 6]\n",
    "\n",
    "def gen_func() -> np.ndarray:\n",
    "    def func(x: np.ndarray) -> np.ndarray:\n",
    "        return np.sin(x) * (np.cos(x / 2) + 1)\n",
    "    \n",
    "    x = np.linspace(0, 25, 20)\n",
    "    y = func(x)\n",
    "    plt.plot(x, y)\n",
    "    values = np.stack([x, y])\n",
    "    # draw a more detailed plot\n",
    "    x = np.linspace(0, 25, 200)\n",
    "    y = func(x)\n",
    "    plt.plot(x, y)\n",
    "    plt.show()\n",
    "    return values\n",
    "    \n",
    "values = gen_func()"
   ]
  },
  {
   "cell_type": "code",
   "execution_count": 3,
   "metadata": {},
   "outputs": [
    {
     "data": {
      "image/png": "[encoded data removed]",
      "text/plain": [
       "<Figure size 720x432 with 1 Axes>"
      ]
     },
     "metadata": {
      "needs_background": "light"
     },
     "output_type": "display_data"
    }
   ],
   "source": [
    "def solve(pairs: np.ndarray) -> np.ndarray:\n",
    "    ac = (pairs[0, 1:] - pairs[0, :-1]) / 6  # A and C diagonals are actually the same\n",
    "    b = (pairs[0, 2:] - pairs[0, :-2]) / 3  # B diagonal\n",
    "    # the result vector\n",
    "    f = (pairs[1, 2:] - pairs[1, 1:-1]) / (pairs[0, 2:] - pairs[0, 1:-1])\n",
    "    f -= (pairs[1, 1:-1] - pairs[1, :-2]) / (pairs[0, 1:-1] - pairs[0, :-2])\n",
    "    matrix = np.stack([ac[:-1], b, ac[1:], f])\n",
    "    matrix[0, 0] = matrix[2, -1] = 0  # set top-left and bottom right cells to 0 because m_0 = m_N = 0 \n",
    "    # forward pass\n",
    "    for i in range(1, matrix.shape[1]):\n",
    "        prev = matrix[:, i - 1]\n",
    "        curr = matrix[:, i]\n",
    "        matrix[:, i] = np.array([\n",
    "            0,\n",
    "            curr[1] * prev[1] - curr[0] * prev[2],\n",
    "            curr[2] * prev[1],\n",
    "            curr[3] * prev[1] - curr[0] * prev[3],\n",
    "        ])\n",
    "    # backwards pass\n",
    "    matrix[:, -1] = np.array([0, 1, 0, matrix[3, -1] / matrix[1, -1]])\n",
    "    for i in range(matrix.shape[1] - 2, -1, -1):\n",
    "        curr = matrix[:, i]\n",
    "        nuxt = matrix[:, i + 1]\n",
    "        matrix[:, i] = np.array([\n",
    "            0,\n",
    "            1,\n",
    "            0,\n",
    "            (curr[3] * nuxt[1] - nuxt[3] * curr[2]) / (curr[1] * nuxt[1]),\n",
    "        ])\n",
    "    m = np.concatenate([[0], matrix[3], [0]])  # add zeros at start and end because m_0 = m_N = 0\n",
    "    # find polynomial coefficients\n",
    "    a = values[1, :-1]\n",
    "    c = m[:-1] / 2\n",
    "    d = (m[1:] - m[:-1]) / (values[0, 1:] - values[0, :-1]) / 6\n",
    "    b = (values[1, 1:] - values[1, :-1]) / (values[0, 1:] - values[0, :-1])\n",
    "    b -= (values[0, 1:] - values[0, :-1]) * m[:-1] / 2\n",
    "    b -= (values[0, 1:] - values[0, :-1]) * (m[1:] - m[:-1]) / 6\n",
    "    return np.stack([a, b, c, d])\n",
    "\n",
    "params = solve(values)\n",
    "\n",
    "def print_spline(coefs: np.ndarray, x1: int, x2: int):\n",
    "    xs = np.linspace(0, x2 - x1, 100)\n",
    "    ys = np.polyval(np.flip(coefs), xs)\n",
    "    plt.plot(xs + x1, ys)\n",
    "    \n",
    "for i in range(params.shape[1]):\n",
    "    print_spline(params[:, i], values[0, i], values[0, i + 1])\n",
    "\n",
    "\n",
    "\n",
    "plt.scatter(values[0], values[1])\n",
    "plt.show()"
   ]
  },
  {
   "cell_type": "markdown",
   "metadata": {},
   "source": [
    "### 11. Derive formula of Cubic Spline method error [Mathematical formulas]"
   ]
  },
  {
   "cell_type": "markdown",
   "metadata": {},
   "source": [
    "### 12. Rate the complexity of the algorithm [Text, and rate in terms of big O, no more than 100 characters]\n",
    "\n",
    "Calculating splines parameters:\n",
    "\n",
    "Forward pass: O(n)\n",
    "\n",
    "Backward pass: O(n)\n",
    "\n",
    "O(n) + O(n) = O(n)\n",
    "\n",
    "\n",
    "Calculating the function value at a particular point:\n",
    "\n",
    "Finding the necessary spline: O(log n) -- binary search\n",
    "\n",
    "Polynomial calculation: O(1)\n",
    "\n",
    "O(log n) + O(1) = O(log n)"
   ]
  },
  {
   "cell_type": "markdown",
   "metadata": {},
   "source": [
    "### Congrats!\n",
    "\n",
    "Thanks"
   ]
  }
 ],
 "metadata": {
  "kernelspec": {
   "display_name": "Python 3",
   "language": "python",
   "name": "python3"
  },
  "language_info": {
   "codemirror_mode": {
    "name": "ipython",
    "version": 3
   },
   "file_extension": ".py",
   "mimetype": "text/x-python",
   "name": "python",
   "nbconvert_exporter": "python",
   "pygments_lexer": "ipython3",
   "version": "3.7.4"
  }
 },
 "nbformat": 4,
 "nbformat_minor": 2
}
