{
 "cells": [
  {
   "cell_type": "code",
   "execution_count": null,
   "metadata": {},
   "outputs": [],
   "source": [
    "import sympy as sp\n",
    "import numpy as np\n",
    "import matplotlib.pyplot as plt"
   ]
  },
  {
   "cell_type": "markdown",
   "metadata": {},
   "source": [
    "### 1. Formulate the statement of the interpolation problem with Cubic Spline [mathematical formula]"
   ]
  },
  {
   "cell_type": "markdown",
   "metadata": {},
   "source": [
    "Given a set of pairs of points $\\{(x_i, y_i)\\}$, $0 \\le i \\le n$, we need to find the set of splines $S_{m}(x)=\\bigcup_{i=0}^{n-1} S_{m, i}(x)$ such that $S_{m, i}(x)$-cubic polynomial (m=3) and $S_{m}(x_i) = y_i$\n",
    "\n",
    "\n",
    "\n",
    "\n",
    "\n",
    "\n",
    "\n"
   ]
  },
  {
   "cell_type": "markdown",
   "metadata": {},
   "source": [
    "### 2. Formulate the functional and differential compatibility conditions [mathematical formula]"
   ]
  },
  {
   "cell_type": "markdown",
   "metadata": {},
   "source": [
    "$\\forall 0 \\le i \\le n - 1$\n",
    "$\\begin{array}{l}{\\left.\\delta S_{3, i}(x)\\right|_{x=x_{i}}=S_{3, i}\\left(x_{i}\\right)-f\\left(x_{i}\\right)=0} \\\\ {\\left.\\delta S_{3, i}(x)\\right|_{x=x_{i+1}}=S_{3, i}\\left(x_{i+1}\\right)-f\\left(x_{i+1}\\right)=0} \\\\ {\\left.\\delta S_{3, i}^{\\prime \\prime}(x)\\right|_{x=x_{i}}=S_{3, i}^{\\prime \\prime}\\left(x_{i}\\right)-f^{\\prime \\prime}\\left(x_{i}\\right)=0} \\\\ {\\left.\\delta S_{3, i}^{\\prime \\prime}(x)\\right|_{x=x_{i+1}}=S_{3, i}^{\\prime \\prime}\\left(x_{i+1}\\right)-f^{\\prime \\prime}\\left(x_{i+1}\\right)=0}\\end{array}$\n",
    "\n",
    "\n",
    "\n",
    "\n",
    "\n",
    "\n",
    "\n"
   ]
  },
  {
   "cell_type": "markdown",
   "metadata": {},
   "source": [
    "### 3. Formulate stitching conditions [mathematical formula]"
   ]
  },
  {
   "cell_type": "markdown",
   "metadata": {},
   "source": [
    "$\\forall 1 \\le i \\le n - 1$\n",
    "$\\begin{array}{l}{S_{3, i-1}^{\\prime}\\left(x_{i}\\right)=S_{3, i}^{\\prime}\\left(x_{i}\\right)} \\end{array}$\n",
    "\n",
    "\n",
    "\n",
    "\n",
    "\n",
    "\n",
    "\n",
    "\n",
    "\n"
   ]
  },
  {
   "cell_type": "markdown",
   "metadata": {},
   "source": [
    "### 4. Justify why these conditions provide you with the required smoothness [thesis text, no more than 500 characters]"
   ]
  },
  {
   "cell_type": "markdown",
   "metadata": {},
   "source": [
    "We need to show $S_3 \\in C_2[x_0,x_{n}]$. At $x \\ne x_i,1 \\le i \\le n - 1$ it is obvious, because each spline is n-times differentiable. Considering points $x_i,1 \\le i \\le n - 1$, $S_{3,i-1}(x_i) = f(x_i) = S_{3,i}(x_i)$ and $S^{\\prime \\prime}_{3,i-1}(x_i) = f^{\\prime \\prime}(x_i) = S^{\\prime \\prime}_{3,i}(x_i)$ by compatibility conditions. Also $S_{3, i-1}^{\\prime}\\left(x_{i}\\right)=S_{3, i}^{\\prime}\\left(x_{i}\\right)$ by stiching conditions. Hence $S_3^{(p)}$ is continuous for $p \\in \\{ 0,1,2\\}$, so $S_3 \\in C_2[x_0, x_{n}]$\n",
    "\n",
    "\n",
    "\n",
    "\n",
    "\n",
    "\n"
   ]
  },
  {
   "cell_type": "markdown",
   "metadata": {},
   "source": [
    "### 5. Derive dependency formula: the dependence of the second derivatives at the grid nodes on the increment of the function (the function values difference on the grid nodes). [Mathematical formulas derivation. Detailed, with clear transitions]"
   ]
  },
  {
   "cell_type": "markdown",
   "metadata": {},
   "source": [
    "$S_{3, i}(x)=a_{0, i}+a_{1, i}\\left(x-x_{i}\\right)+a_{2, i}\\left(x-x_{i}\\right)^{2}+a_{3, i}\\left(x-x_{i}\\right)^{3}$\n",
    "Define $h_{i+1}=x_{i+1}-x_{i}, \\quad f_{i} = f(x_{i}),\\quad \\Delta f_{i}=f_{i+1}-f_{i}, \\quad m_i=f^{\\prime \\prime}(x_i), \\quad \\Delta m_{i}=m_{i+1}-m_{i}$\n",
    "\n",
    "Then $S_{3,i}(x_i) = a_{0,i} = f(x_i)$ from functional compatibility conditions.\n",
    "\n",
    "Find $S_{3,i}^{\\prime}(x)$: $S_{3,i}^{\\prime}(x) = a_{1, i}+2a_{2,i}(x-x_i)+3a_{3,i}(x-x_i)^2$.\n",
    "\n",
    "Find $S_{3,i}^{\\prime \\prime}(x)$: $S_{3,i}^{\\prime \\prime}(x) = 2a_{2,i}+6a_{3,i}(x-x_i)$.\n",
    "\n",
    "Then $S_{3,i}^{\\prime \\prime}(x_i) = 2a_{2,i} = m_i \\Rightarrow a_{2,i}=\\frac{m_i}{2}$ from functional compatibility conditions.\n",
    "\n",
    "Then $S_{3,i}^{\\prime \\prime}(x_{i+1}) = 2a_{2,i}+6a_{3,i}(x_{i+1}-x_i) = m_{i+1} \\Rightarrow a_{3,i}=\\frac{m_{i+1}-2a_{2,i}}{6h_{i+1}} = \\frac{\\Delta m_{i}}{6h_{i+1}}$ from functional compatibility conditions.\n",
    "\n",
    "\n",
    "\n",
    "\n",
    "\n",
    "\n",
    "\n",
    "\n"
   ]
  },
  {
   "cell_type": "markdown",
   "metadata": {},
   "source": [
    "Then $S_{3,i}(x_{i+1}) = a_{0,i}+a_{1,i}h_{i+1}+a_{2,i}h_{i+1}^2+a_{3,i}h_{i+1}^3 = f_{i+1} \\Rightarrow a_{1,i} = \\frac{f(x_{i+1})-a_{0,i}-a_{2,i}h_{i+1}^2-a_{3,i}h_{i+1}^3}{h_{i+1}} = \\frac{f_{i+1}}{h_{i+1}}-\\frac{f_{i}}{h_{i+1}}-\\frac{m_i h_{i+1}}{2}-\\frac{\\Delta m_i h_{i+1}}{6} = \\frac{\\Delta f_i}{h_{i+1}}-\\frac{m_i h_{i+1}}{2}-\\frac{\\Delta m_i h_{i+1}}{6}$ from functional compatibility conditions."
   ]
  },
  {
   "cell_type": "markdown",
   "metadata": {},
   "source": [
    "Use stitching conditions:\n",
    "\n",
    "$S_{3,i-1}^{\\prime}(x_i) = S_{3,i}^{\\prime}(x_i) \\Rightarrow a_{1,i-1}+2a_{2,i-1}h_i+3a_{3,i-1}h_i^2=a_{1,i} \\Rightarrow$\n",
    "\n",
    "$\\frac{\\Delta f_{i-1}}{h_{i}}-\\frac{m_{i-1} h_{i}}{2}-\\frac{\\Delta m_{i-1} h_{i}}{6}+m_{i-1}h_i+\\frac{\\Delta m_{i-1}h_i}{2}=\\frac{\\Delta f_i}{h_{i+1}}-\\frac{m_i h_{i+1}}{2}-\\frac{\\Delta m_i h_{i+1}}{6} \\Rightarrow$\n",
    "\n",
    "$\\frac{h_{i+1}m_{i+1}}{6}+\\frac{m_ih_i}{3}+\\frac{m_ih_{i+1}}{3}+\\frac{m_{i-1}h_i}{6} = \\frac{\\Delta f_i}{h_{i+1}}-\\frac{\\Delta f_{i-1}}{h_i}$"
   ]
  },
  {
   "cell_type": "markdown",
   "metadata": {},
   "source": [
    "### 6. Create a system of equations using this formula [Matrix representation. Mathematical formulas]"
   ]
  },
  {
   "cell_type": "markdown",
   "metadata": {},
   "source": [
    "$\\frac{h_{i}}{6} m_{i-1}+\\frac{h_{i}+h_{i+1}}{3} m_{i}+\\frac{h_{i+1}}{6} m_{i+1}=\\frac{\\Delta f_{i}}{h_{i+1}}-\\frac{\\Delta f_{i-1}}{h_{i}}, \\quad i=\\overline{1, n-1}$\n",
    "$\\begin{pmatrix}\n",
    "2(h_2+h_1) & h_2 & 0 & .. & .. & 0\n",
    "\\\\ .. & .. & .. & .. & .. & .. \\\\ 0 & h_i & 2(h_{i+1}+h_i) & h_{i+1} & 0 & ..\n",
    "\\\\ .. & .. & .. & .. & .. & .. \\\\\n",
    "0 & .. & .. & 0 & h_{n-1} & 2(h_n+h_{n-1})\n",
    "\\end{pmatrix}\n",
    "\\begin{pmatrix}\n",
    "m_1 \\\\ .. \\\\ m_i \\\\ .. \\\\ m_{n-1}\n",
    "\\end{pmatrix}\n",
    "=\n",
    "\\begin{pmatrix}\n",
    "6(\\frac{\\Delta f_1}{h_2}-\\frac{\\Delta f_0}{h_1}) \n",
    "\\\\ .. \\\\\n",
    "6(\\frac{\\Delta f_i}{h_{i+1}}-\\frac{\\Delta f_{i-1}}{h_i})\n",
    "\\\\ .. \\\\\n",
    "6(\\frac{\\Delta f_{n-1}}{h_n}-\\frac{\\Delta f_{n-2}}{h_{n-1}})\n",
    "\\end{pmatrix}$\n",
    "\n",
    "Notice we didn't include $m_0$ and $m_n$, the reason is below \n",
    "\n",
    "\n",
    "\n",
    "\n"
   ]
  },
  {
   "cell_type": "markdown",
   "metadata": {},
   "source": [
    "### 7. Explain what is an unknown variable in this system. whether the system is closed with respect to an unknown variable. What is missing for closure. [Text, no more than 200 characters]"
   ]
  },
  {
   "cell_type": "markdown",
   "metadata": {},
   "source": [
    "Unknown variables in this system are ${m_i}$. The system is not closed, because we have only n-1 equations, while the number of unknown variables is n+1. To make system closed, we need to take care of corner cases, namely the second derivatives in $x_0$ and $x_n$. If we assume natural splines, we set $m_0=m_n=0$.\n",
    "\n",
    "\n",
    "\n",
    "\n",
    "\n",
    "\n",
    "\n"
   ]
  },
  {
   "cell_type": "markdown",
   "metadata": {},
   "source": [
    "### 8. Bring this matrix to the appropriate form to use the Tridiagonal matrix algorithm [Mathematical derivation. Use Gauss Elimination]"
   ]
  },
  {
   "cell_type": "markdown",
   "metadata": {},
   "source": [
    "$\\begin{pmatrix} \n",
    "1             &          0        &     ..     &  .. & 0 \\\\\n",
    "h_1 & 2(h_1+h_2) & h_2 &  .. & 0 \\\\\n",
    "              &                   &      ..      &     & & \\\\\n",
    "0             & &..                & h_{n-1} &  2(h_{n-1}+h_{n})& h_{n} \\\\\n",
    "0             & &..                &  &  & 1 \\\\\n",
    "\\end{pmatrix}\n",
    "\\begin{pmatrix} \n",
    "m_0 \\\\\n",
    "    \\\\\n",
    "..  \\\\\n",
    "    \\\\\n",
    "m_n \\\\\n",
    "\\end{pmatrix}\n",
    "= b\n",
    "$, where $b_i = 6(\\frac{\\Delta f_{i}}{h_{i+1}}-\\frac{\\Delta f_{i-1}}{h_{i}}), i=\\overline{1, n-1}$, and 0 otherwise\n",
    "\n",
    "Let's exclude $m_0$ and $m_n$ from equation, because we know that they are zeros.\n",
    "\n",
    "In the end, we will have matrix of the following form:\n",
    "\n",
    "$\\begin{pmatrix}\n",
    "1 & -P_1 & 0 & .. & .. & 0 & .. & Q_1\n",
    "\\\\ 0 & 1 & -P_2 & 0  & 0  & 0 & .. & Q_2\n",
    "\\\\ 0 & 0 & 1 & -P_3 & 0 & 0 & .. & Q_3\n",
    "\\\\ .. & .. & .. & .. & .. & .. & .. & ..\n",
    "\\\\ 0 & 0 & 0 & 0 & 0 & 1 & .. & Q_{n-1}\n",
    "\\end{pmatrix}\n",
    "$\n",
    "\n",
    "where $P_i = \\frac{h_{i + 1}}{-2(h_{i + 1} + h_i) - h_iP_{i-1}}, Q_i = \\frac{h_iQ_{i - 1} - 6(\\frac{\\Delta f_{i}}{h_{i+1}} - \\frac{\\Delta f_{i - 1}}{h_{i}})}{-2(h_{i + 1} + h_i) - h_iP_{i-1}}, P_1 = \\frac{h_2}{-2(h_2 + h_1)}, Q_1 = -\\frac{6(\\frac{\\Delta f_1}{h_2}-\\frac{\\Delta f_0}{h_1})}{-2(h_2 + h_1)}$"
   ]
  },
  {
   "cell_type": "markdown",
   "metadata": {},
   "source": [
    "### 9. Derive formulas of direct pass and reverse pass of Tridiagonal matrix algorithm [Mathematical formals]"
   ]
  },
  {
   "cell_type": "markdown",
   "metadata": {},
   "source": [
    "Expanded record of tridiagonal matrix is:  \n",
    "\n",
    "$\\alpha_ix_{i - 1} - \\beta_ix_i + \\gamma_ix_{i + 1} = \\delta_i, \\alpha_1=\\gamma_n=0, i=1..n$ (1)\n",
    "\n",
    "If we convert tridiagonal matrix to upper triangular matrix by Gaussian Elimination, we will get matrix from previous question.\n",
    "Considering that the last row of this matrix is equal to right side (so $x_n = Q_n$) and each upper row depends on downstream row, we get reverse pass formula: $x_i = P_ix_{i + 1} + Q_i, i = 1..n-1$ (2).\n",
    "\n",
    "$x_{i - 1} = P_{i - 1}x_i + Q_{i - 1}$ (3)\n",
    "\n",
    "Put (3) in (1): \n",
    "\n",
    "$\\alpha_i(P_{i - 1}x_i + Q_{i - 1}) - \\beta_ix_i + \\gamma_ix_{i + 1} = \\delta_i \\Rightarrow x_i = \\frac{-\\gamma_i}{\\alpha_iP_{i - 1} - \\beta_i}x_{i + 1} + \\frac{-\\alpha_iQ_{i - 1} + \\delta_i}{\\alpha_iP_{i - 1} - \\beta_i}$\n",
    "\n",
    "By comparing it with (2), we get direct pass formulas:\n",
    "\n",
    "$P_i = \\frac{\\gamma_i}{\\beta_i - \\alpha_iP_{i - 1}}$\n",
    "\n",
    "$Q_i = \\frac{\\alpha_iQ_{i - 1} - \\delta_i}{\\beta_i - \\alpha_iP_{i - 1}}$\n",
    "\n",
    "\n",
    "\n",
    "\n",
    "\n",
    "\n",
    "\n",
    "\n"
   ]
  },
  {
   "cell_type": "markdown",
   "metadata": {},
   "source": [
    "### 10. Implement code prototype of the future algorithm implementation. Classes/methods (if you use OOP), functions. The final implementation (on language chosen by you) should not differ from the functions declared in the prototype. [Python code]"
   ]
  },
  {
   "cell_type": "code",
   "execution_count": null,
   "metadata": {},
   "outputs": [],
   "source": [
    "import numpy as np\n",
    "\n",
    "def tridiagonal_matrix_algorithm(A, delta):\n",
    " \n",
    "    n = len(delta)\n",
    "    \n",
    "    P = np.zeros(n - 1)\n",
    "    Q = np.zeros(n - 1)\n",
    "    \n",
    "    P[0] = - A[2][0] \n",
    "    Q[0] = delta[0] \n",
    "     \n",
    "    P[0] /= A[1][0]\n",
    "    Q[0] /= A[1][0]\n",
    "    \n",
    "    for i in range(1, n - 1):\n",
    "        P[i] = -A[2][i] / (A[1][i] + A[0][i] * P[i - 1])\n",
    "        Q[i] = (delta[i] - A[0][i] * Q[i - 1]) / (A[1][i] + A[0][i] * P[i - 1])\n",
    " \n",
    "    x = np.zeros(n)\n",
    " \n",
    "    x[n - 1] = (delta[n - 1] - A[0][n - 1] * Q[n - 2]) / (A[1][n - 1] + A[0][n - 1] * P[n - 2])\n",
    " \n",
    "    for i in range(n - 2, -1, -1):\n",
    "        x[i] = x[i + 1] * P[i] + Q[i]\n",
    "    \n",
    "    return x;\n",
    "\n",
    "\n",
    "def calc_as(f, df, h, m, a, i):\n",
    "    a[0][i] = f[i]\n",
    "    a[1][i] = (df[i] / h[i] - h[i] * m[i] / 2 - h[i] * (m[i + 1] - m[i]) / 6)\n",
    "    a[2][i] = m[i] / 2\n",
    "    a[3][i] = (m[i + 1] - m[i]) / (6 * h[i])\n",
    "\n",
    "def build_splines(x, f):\n",
    "    \n",
    "    n = len(x)\n",
    "    \n",
    "    h = np.zeros(n - 1)\n",
    "    df = np.zeros(n - 1)\n",
    "    \n",
    "    A = np.zeros((3, n - 2))\n",
    "    delta = np.zeros(n - 2)\n",
    "    \n",
    "    for i in range(0, n - 1):\n",
    "        h[i] = x[i + 1] - x[i]\n",
    "        df[i] = f[i + 1] - f[i]\n",
    " \n",
    "    for i in range(0, n - 2):\n",
    "        A[0][i] = h[i]\n",
    "        A[1][i] = 2 * (h[i] + h[i + 1])\n",
    "        A[2][i] = h[i + 1]\n",
    "        delta[i] = 6 * (df[i + 1] / h[i + 1] - df[i] / h[i])\n",
    "\n",
    "    A[0][0] = 0;\n",
    "    A[2][n - 3] = 0;\n",
    " \n",
    "    m = np.concatenate((np.zeros(1), tridiagonal_matrix_algorithm(A, delta, n - 2), np.zeros(1)))\n",
    " \n",
    "    a = np.zeros((4, n - 1))\n",
    "    \n",
    "    for i in range(0, n - 1):\n",
    "        calc_as(f,df,h,m,a,i)\n",
    " \n",
    "    return a\n",
    " \n",
    "def interpolate(a, x, x0):\n",
    " \n",
    "    i = 0\n",
    "    while x[i] < x0:\n",
    "        i += 1\n",
    "    i -= 1\n",
    "    \n",
    "    h = x0 - x[i]\n",
    " \n",
    "    return a[0][i] + a[1][i] * h + a[2][i] * h**2 + a[3][i] * h**3\n",
    "\n",
    "def main():\n",
    "    "
   ]
  },
  {
   "cell_type": "markdown",
   "metadata": {},
   "source": [
    "### 11. Derive formula of Cubic Spline method error [Mathematical formulas]"
   ]
  },
  {
   "cell_type": "markdown",
   "metadata": {},
   "source": [
    "Let the function $y = f(x)$ have a fourth-order continuous derivative on the interval $[a, b]$ and $M_4 = max_{[a, b]}|f^{(4)}(x)|$. \n",
    "\n",
    "Then, for cubic spline $S_3(x)$, satisfying the boundary conditions, the following error estimate holds: $max_{[a, b]}|f^{(p)}(x) - S_3^{(p)}(x)| ≤ С_pM_4h_{max}^{4 - p}, p \\in \\{1,2,3\\}, h_{max} = max_{1 ≤ i ≤ n}h_i$"
   ]
  },
  {
   "cell_type": "markdown",
   "metadata": {},
   "source": [
    "### 12. Rate the complexity of the algorithm [Text, and rate in terms of big O, no more than 100 characters]"
   ]
  },
  {
   "cell_type": "markdown",
   "metadata": {},
   "source": [
    "The overall time complexity is $O(n)$, because building of Triagonal matrix and Tridiagonal matrix algorithm are both $O(n)$. The memory complexity is $O(n)$, because we deal with matrix with $O(n)$ rows with O(1) non-zero values.\n",
    "\n",
    "\n",
    "\n",
    "\n",
    "\n",
    "\n",
    "\n"
   ]
  },
  {
   "cell_type": "markdown",
   "metadata": {},
   "source": [
    "### Congrats!"
   ]
  }
 ],
 "metadata": {
  "kernelspec": {
   "display_name": "Python 3",
   "language": "python",
   "name": "python3"
  },
  "language_info": {
   "codemirror_mode": {
    "name": "ipython",
    "version": 3
   },
   "file_extension": ".py",
   "mimetype": "text/x-python",
   "name": "python",
   "nbconvert_exporter": "python",
   "pygments_lexer": "ipython3",
   "version": "3.6.8"
  }
 },
 "nbformat": 4,
 "nbformat_minor": 2
}
