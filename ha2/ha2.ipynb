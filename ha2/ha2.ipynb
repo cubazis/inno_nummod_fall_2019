{
 "cells": [
  {
   "cell_type": "code",
   "execution_count": null,
   "metadata": {},
   "outputs": [],
   "source": [
    "import sympy as sp\n",
    "import numpy as np\n",
    "import matplotlib.pyplot as plt\n"
   ]
  },
  {
   "cell_type": "markdown",
   "metadata": {},
   "source": [
    "### 1. Formulate the statement of the interpolation problem with Cubic Spline [mathematical formula]"
   ]
  },
  {
   "cell_type": "markdown",
   "metadata": {
    "pycharm": {
     "is_executing": false,
     "name": "#%% md\n"
    }
   },
   "source": [
    "Given a set of $n+1$ points defined on $[a, b]$ such that $a = x_0 < x_1 < ... < x_n = b$, the cubic spline $S(x)$ is a \n",
    "function, that satisfies:\n",
    "- $S(x)$ is a polynomial of degree 3\n",
    "- $S(x_i) = y_i $ for each interval $[x_i, x_{i+1}]$\n",
    "- $S(x_i)$ has continuous derivatives of degrees $1$ to $p$ on $[a, b]"
   ]
  },
  {
   "cell_type": "markdown",
   "metadata": {},
   "source": [
    "### 2. Formulate the functional and differential compatibility conditions [mathematical formula]"
   ]
  },
  {
   "cell_type": "markdown",
   "metadata": {
    "pycharm": {
     "name": "#%% md\n"
    }
   },
   "source": [
    "Functional compatibility: $S(x_i) = f(x_i) $ for $i = 0,1,...,n-1$  \n",
    "Differential compatibility: $S^{(p)}(x_i) = f^{(p)}(x_i) $ for $i = 0,1,...,n-1$ and $p > 0$\n"
   ]
  },
  {
   "cell_type": "markdown",
   "metadata": {},
   "source": [
    "### 3. Formulate stitching conditions [mathematical formula]"
   ]
  },
  {
   "cell_type": "markdown",
   "metadata": {
    "pycharm": {
     "name": "#%% md\n"
    }
   },
   "source": [
    "$S_{m, i-1}^{(p)}(x)|_{x = x_i} = S_{m, i}^{(p)}(x)|_{x = x_i}$\n",
    "for $i = 1,2,...,n-1$ and $m = 3$ in our case"
   ]
  },
  {
   "cell_type": "markdown",
   "metadata": {},
   "source": [
    "### 4. Justify why these conditions provide you with the required smoothness [thesis text, no more than 500 characters]"
   ]
  },
  {
   "cell_type": "markdown",
   "source": [
    "**Functional compatibility** ensures that derived function actually solves the interpolation problem.   \n",
    "**Differential compatibility** ensures ensures that that derived function is differentiable up to $p$ degree.  \n",
    "**Stiching conditions** ensures that the derived function is continuous."
   ],
   "metadata": {
    "collapsed": false,
    "pycharm": {
     "name": "#%% md\n"
    }
   }
  },
  {
   "cell_type": "markdown",
   "metadata": {},
   "source": [
    "### 5. Derive dependency formula: the dependence of the second derivatives at the grid nodes on the increment of the function (the function values difference on the grid nodes). [Mathematical formulas derivation. Detailed, with clear transitions]"
   ]
  },
  {
   "cell_type": "markdown",
   "metadata": {
    "pycharm": {
     "name": "#%% md\n"
    }
   },
   "source": [
    "Solve equation system composed of compatibility conditions \n",
    "to find $a_{0, i}, a_{1, i}, a_{2, i}, a_{3, i}$ \n",
    "for $i = 1, 2, ..., n-1$  \n",
    "$\\begin{cases}\n",
    "S_{3, i}(x_i)-f(x_i)=0 \\\\\n",
    "S_{3, i}(x_{i + 1})-f(x_{i + 1})=0 \\\\\n",
    "S_{3, i}^{''}(x_i)-f^{''}(x_i)=0 \\\\\n",
    "S_{3, i}^{''}(x_{i + 1})-f^{''}(x_{i + 1})=0\n",
    "\\end{cases}$ \n",
    "where $S_{i} = a_{0, i} + a_{1, i}(x - x_i) + a_{2, i}(x - x_i)^2 + a_{3, i}(x - x_i)^3$: \n",
    "\n",
    "Spline derivatives:   \n",
    "$S^{'}_{3, i}(x) = a_{1,i} + 2a_{2, i}(x - x_i) + 3a_{3, i}(x - x_i)^2$  \n",
    "$S^{''}_{3, i}(x) = 2a_{2, i} + 6a_{3, i} (x - x_i)$  \n",
    "$S^{'''}_{3, i}(x) = 6a_{3, i} $\n",
    "\n",
    "then\n",
    "\n",
    "$\\begin{cases}\n",
    "a_{0, i} + a_{1, i}h_{i + 1} + a_{2, i}h_{i + 1}^2 + a_{3, i}h_{i + 1}^3 - f_{i + 1} = 0 \\\\\n",
    "2a_{2, i} + 6a_{3, i}h_{i + 1} - m_{i + 1} = 0 \\\\\n",
    "2a_{2, i} - m_i = 0 \\\\\n",
    "a_{0, i} - f_i = 0 \n",
    "\\end{cases}$  \n",
    ", where:  \n",
    "$h_{i + 1} = x_{i + 1} - x_{i}$  \n",
    "$\\Delta m_i = m_{i + 1} - m_{i}$  \n",
    "$\\Delta f_i = f_{i + 1} - f_{i}$  \n",
    "\n",
    "then\n",
    "\n",
    "$a_{0, i} = f_i; a_{2, i} = \\frac{m_i}{2} $  \n",
    "\n",
    "$m_i + 6a_{3, i}h_{i + 1} - m_{i + 1} = 0 \n",
    "\\Rightarrow a_{3, i} = \\frac{m_{i + 1} - m_i}{6h_{i + 1}}  = \\frac{\\Delta m_i}{6h_{i + 1}}$  \n",
    "\n",
    "$f_i + a_{1, i}h_{i + 1} + \\frac{m_i}{2}h_{i + 1}^2 + \\frac{\\Delta m_i}{6h_{i + 1}}h_{i + 1}^3 - f_{i + 1} = 0 \n",
    "\\Rightarrow -\\frac{\\Delta f_i}{h_{i + 1}} + a_{1, i} + \\frac{m_i}{2}h_{i + 1} + \\frac{\\Delta m_i}{6}h_{i + 1} = 0 \\Rightarrow$\n",
    "$\\Rightarrow a_{1, i} = \\frac{\\Delta f_i}{h_{i + 1}} - \\frac{h_{i + 1}}{2}m_i - \\frac{h_{i + 1}}{6}\\Delta m_i$\n",
    "\n",
    "thus\n",
    "\n",
    "$S_{3, i} = f_i + \n",
    "(\\frac{\\Delta f_i}{h_{i + 1}} - \\frac{h_{i + 1}}{2}m_i - \\frac{h_{i + 1}}{6}\\Delta m_i)(x - x_i) + \n",
    "\\frac{m_i}{2}(x - x_i)^2 + \\frac{\\Delta m_i}{6h_{i + 1}}(x - x_i)^3$\n",
    "\n",
    "$S_{3, i}^{'}(x_i) = \\frac{\\Delta f_i}{h_{i + 1}} - \n",
    "\\frac{h_{i + 1}}{2}m_i - \n",
    "\\frac{h_{i + 1}}{6}\\Delta m_i$\n",
    "\n",
    "and \n",
    "\n",
    "$S_{3, i - 1}(x) = f_{i - 1} + \n",
    "(\\frac{\\Delta f_{i - 1}}{h_{i}} - \\frac{h_{i}}{2}m_{i - 1} - \\frac{h_{i}}{6}\\Delta m_{i - 1})(x - x_{i - 1}) + \n",
    "\\frac{m_{i - 1}}{2}(x - x_{i - 1})^2 + \\frac{\\Delta m_{i - 1}}{6h_{i}}(x - x_{i - 1})^3$\n",
    "\n",
    "$S_{3, i - 1}^{'}(x_i) = \\frac{\\Delta f_{i - 1}}{h_i} - \n",
    "\\frac{h_i}{2}m_{i - 1} - \n",
    "\\frac{h_i}{6}\\Delta m_{i - 1} + \n",
    "h_im_{i - 1} + \n",
    "\\frac{h_i}{2}\\Delta m_{i - 1}$\n",
    "\n",
    "\n",
    "From stitching condition $S_{3,i - 1}^{'}(x)|_{x=x_i} = S_{3,i}^{'}(x)|_{x=x_i}$, therefore:\n",
    "\n",
    "$\\frac{\\Delta f_{i - 1}}{h_i} - \\frac{h_i}{2}m_{i - 1} - \\frac{h_i}{6}\\Delta m_{i - 1} + h_im_{i - 1} + \\frac{h_i}{2}\\Delta m_{i - 1} = \n",
    "\\frac{\\Delta f_i}{h_{i + 1}} - \\frac{h_{i + 1}}{2}m_i - \\frac{h_{i + 1}}{6}\\Delta m_i \\Rightarrow$\n",
    "\n",
    "$\\Rightarrow \\frac{h_i}{2}m_{i - 1} - \\frac{h_i}{6}m_{i} + \\frac{h_i}{6}m_{i - 1} + \\frac{h_i}{2}m_{i} - \\frac{h_i}{2}m_{i - 1} + \\frac{h_{i + 1}}{2}m_i - \\frac{h_{i + 1}}{6}m_{i + 1} + \\frac{h_{i + 1}}{6}m_i = \n",
    "\\frac{\\Delta f_i}{h_{i + 1}} - \\frac{\\Delta f_{i - 1}}{h_i}$\n",
    "\n",
    "thus\n",
    "\n",
    "$\\frac{h_i}{6}m_{i - 1} + \\frac{h_i + h_{i + 1}}{3}m_i + \\frac{h_{i + 1}}{6}m_{i + 1} = \n",
    "\\frac{\\Delta f_i}{h_{i + 1}} - \\frac{\\Delta f_{i - 1}}{h_i}$\n",
    "for $i = 1, 2, ..., n-1$"
   ]
  },
  {
   "cell_type": "markdown",
   "metadata": {},
   "source": [
    "### 6. Create a system of equations using this formula [Matrix representation. Mathematical formulas]"
   ]
  },
  {
   "cell_type": "markdown",
   "metadata": {
    "pycharm": {
     "name": "#%% md\n"
    }
   },
   "source": [
    "$\\begin{bmatrix}\n",
    "\\frac{h_1}{6} & \\frac{h_1+h_2}{3} & \\frac{h_2}{6} & 0 & ... & ... & 0 \\\\\n",
    "... & ... & ... & ... & ... & ... & ... \\\\ \n",
    "...& 0 & \\frac{h_i}{6} & \\frac{h_i+h_{i+1}}{3} & \\frac{h_{i+1}}{6} & 0 & ... \\\\\n",
    "... & ... & ... & ... & ... & ... & ... \\\\\n",
    "0 & ... & ... & 0 & \\frac{h_{n-1}}{6} & \\frac{h_{n-1}+h_n}{3} & \\frac{h_n}{6}\n",
    "\\end{bmatrix}\n",
    "\\begin{bmatrix}\n",
    "m_0 \\\\ ... \\\\ m_i \\\\ ... \\\\ m_n\n",
    "\\end{bmatrix}\n",
    "=\n",
    "\\begin{bmatrix}\n",
    "\\frac{\\Delta f_1}{h_2}-\\frac{\\Delta f_0}{h_1} \n",
    "\\\\ ... \\\\\n",
    "\\frac{\\Delta f_i}{h_{i+1}}-\\frac{\\Delta f_{i-1}}{h_i}\n",
    "\\\\ ... \\\\\n",
    "\\frac{\\Delta f_{n-1}}{h_n}-\\frac{\\Delta f_{n-2}}{h_{n-1}}\n",
    "\\end{bmatrix}$\n",
    "\n"
   ]
  },
  {
   "cell_type": "markdown",
   "metadata": {},
   "source": [
    "### 7. Explain what is an unknown variable in this system. whether the system is closed with respect to an unknown variable. What is missing for closure. [Text, no more than 200 characters]"
   ]
  },
  {
   "cell_type": "markdown",
   "source": [
    "The unknown variable here is $m_i$ for $i = 0, 1, 2, ..., n$.  \n",
    "The system is not closed since there is $n$ unknown variables, but only $n - 2$ equations for $i$ in $1$ to $n-1$.  \n",
    "For closure we can add 2 extra equations of edge conditions: $m_0 = 0$ and $m_n = 0$ "
   ],
   "metadata": {
    "collapsed": false,
    "pycharm": {
     "name": "#%% md\n"
    }
   }
  },
  {
   "cell_type": "markdown",
   "metadata": {},
   "source": [
    "### 8. Bring this matrix to the appropriate form to use the Tridiagonal matrix algorithm [Mathematical derivation. Use Gauss Elimination]"
   ]
  },
  {
   "cell_type": "markdown",
   "metadata": {
    "pycharm": {
     "name": "#%% md\n"
    }
   },
   "source": [
    "$\\begin{bmatrix}\n",
    "1 & -P_1 & 0 & 0 & ... & Q_1 \\\\\n",
    "0 & 1 & -P_2 & 0 & ... & Q_2 \\\\\n",
    "0 & 0 & 1 & -P_3 & ... & Q_3 \\\\\n",
    "... & ... & ... & ... & ... & ... \\\\\n",
    "0 & 0 & 0 & 1 & ... & Q_{n-1} \\\\\n",
    "\\end{bmatrix}$  \n",
    "  \n",
    "Direct:  \n",
    "$P_i = \\frac{h_{i + 1}}{-2(h_{i+1} + h_i) - h_i P_{i-1}}$\n",
    ", \n",
    "$P_1 = \\frac{h_2}{-2(h_2 + h_1)}$  \n",
    "\n",
    "$Q_i = \\frac\n",
    "{h_i Q_{i - 1} - 6(\\frac{\\Delta f_i}{h_{i + 1}} - \\frac{\\Delta f_{i - 1}}{h_i})}\n",
    "{-2(h_{i + 1} + h_i) - h_i P_{i - 1}}$\n",
    ", \n",
    "$Q_1 = \\frac{6(\\frac{\\Delta f_1}{h_2} - \\frac{\\Delta f_0}{h_1})}{2(h_2 + h_1)}$\n",
    "\n",
    "Reverse:  \n",
    "$x_i = P_i x_{i+1} + Q_i$, $x_{n - 1} = Q_{n - 1}$"
   ]
  },
  {
   "cell_type": "markdown",
   "metadata": {},
   "source": [
    "### 9. Derive formulas of direct pass and reverse pass of Tridiagonal matrix algorithm [Mathematical formals]"
   ]
  },
  {
   "cell_type": "markdown",
   "metadata": {
    "pycharm": {
     "name": "#%% md\n"
    }
   },
   "source": [
    "After conversion of tridiagonal matrix from question 6 to upper triangular matrix from question 8 we can see that each\n",
    "row depends on the next row, and from last row we see that $x_n = Q_n$, thus we can make recursive formula \n",
    "for reverse pass:   \n",
    "$x_i = P_i x_{i+1} + Q_i$\n",
    "\n",
    "A tridiagonal matrix can be represented as:  \n",
    "$\\alpha_ix_{i - 1} - \\beta_ix_i + \\gamma_ix_{i + 1} = \\delta_i, \\alpha_1=\\gamma_n=0, i=1..n$\n",
    "\n",
    "$x_i = P_i x_{i+1} + Q_i$, and therefore  \n",
    "$x_{i-1} = P_{i-1} x_i + Q_{i-1}$  \n",
    "\n",
    "thus\n",
    "\n",
    "$\\alpha_i(P_{i - 1}x_i + Q_{i - 1}) - \\beta_ix_i + \\gamma_ix_{i + 1} = \\delta_i \\Rightarrow$  \n",
    "$\\Rightarrow x_i = \n",
    "\\frac{-\\gamma_i}{\\alpha_iP_{i - 1} - \\beta_i}x_{i + 1} + \n",
    "\\frac{-\\alpha_iQ_{i - 1} + \\delta_i}{\\alpha_iP_{i - 1} - \\beta_i} \\Rightarrow \n",
    "x_i = P_i x_{i+1} + Q_i$\n",
    "\n",
    "thus the direct pass formulas are:  \n",
    "$P_i = \\frac{\\gamma_i}{\\beta_i - \\alpha_iP_{i - 1}}$  \n",
    "$Q_i = \\frac{\\alpha_iQ_{i - 1} - \\delta_i}{\\beta_i - \\alpha_iP_{i - 1}}$\n"
   ]
  },
  {
   "cell_type": "markdown",
   "metadata": {},
   "source": [
    "### 10. Implement code prototype of the future algorithm implementation. Classes/methods (if you use OOP), functions. The final implementation (on language chosen by you) should not differ from the functions declared in the prototype. [Python code]"
   ]
  },
  {
   "cell_type": "code",
   "execution_count": null,
   "metadata": {},
   "outputs": [],
   "source": [
    "### YOUR CODE HERE\n",
    "\n",
    "\n",
    "\n",
    "\n",
    "\n",
    "\n",
    "\n",
    "\n"
   ]
  },
  {
   "cell_type": "markdown",
   "metadata": {},
   "source": [
    "### 11. Derive formula of Cubic Spline method error [Mathematical formulas]"
   ]
  },
  {
   "cell_type": "code",
   "execution_count": null,
   "metadata": {},
   "outputs": [],
   "source": [
    "### YOUR TEXT/CODE HERE\n",
    "\n",
    "\n",
    "\n",
    "\n",
    "\n",
    "\n",
    "\n",
    "\n"
   ]
  },
  {
   "cell_type": "markdown",
   "metadata": {},
   "source": [
    "### 12. Rate the complexity of the algorithm [Text, and rate in terms of big O, no more than 100 characters]"
   ]
  },
  {
   "cell_type": "code",
   "execution_count": null,
   "metadata": {},
   "outputs": [],
   "source": [
    "### YOUR TEXT/CODE HERE\n",
    "\n",
    "\n",
    "\n",
    "\n",
    "\n",
    "\n",
    "\n",
    "\n"
   ]
  },
  {
   "cell_type": "markdown",
   "metadata": {},
   "source": [
    "### Congrats!"
   ]
  }
 ],
 "metadata": {
  "kernelspec": {
   "display_name": "Python 3",
   "language": "python",
   "name": "python3"
  },
  "language_info": {
   "codemirror_mode": {
    "name": "ipython",
    "version": 3
   },
   "file_extension": ".py",
   "mimetype": "text/x-python",
   "name": "python",
   "nbconvert_exporter": "python",
   "pygments_lexer": "ipython3",
   "version": "3.6.8"
  },
  "pycharm": {
   "stem_cell": {
    "cell_type": "raw",
    "source": [],
    "metadata": {
     "collapsed": false
    }
   }
  }
 },
 "nbformat": 4,
 "nbformat_minor": 2
}