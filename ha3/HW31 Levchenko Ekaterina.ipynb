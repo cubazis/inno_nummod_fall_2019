{
  "nbformat": 4,
  "nbformat_minor": 0,
  "metadata": {
    "kernelspec": {
      "display_name": "Python 3",
      "language": "python",
      "name": "python3"
    },
    "language_info": {
      "codemirror_mode": {
        "name": "ipython",
        "version": 3
      },
      "file_extension": ".py",
      "mimetype": "text/x-python",
      "name": "python",
      "nbconvert_exporter": "python",
      "pygments_lexer": "ipython3",
      "version": "3.6.8"
    },
    "colab": {
      "name": "hw31.ipybn",
      "provenance": []
    }
  },
  "cells": [
    {
      "cell_type": "markdown",
      "metadata": {
        "id": "UopiePFXgO1z",
        "colab_type": "text"
      },
      "source": [
        "### 1. Derive formula of $L_{2}(x)$ in terms of interpolation phase $ u = \\frac{x - x_{i}}{h} $.  Integrate $ \\hat{I_{i}^{i+2}}$ with received formula as integrand  [mathematical formula]. Usetimation time: ~30m"
      ]
    },
    {
      "cell_type": "markdown",
      "metadata": {
        "id": "x9DoiwGmgO13",
        "colab_type": "text"
      },
      "source": [
        "**Note** Use constant step $h = const$ and condition *number of segments is even* $n = 2k$"
      ]
    },
    {
      "cell_type": "markdown",
      "metadata": {
        "id": "Dnmv0XdwYGoV",
        "colab_type": "text"
      },
      "source": [
        "$L_2(x)={(x-x_{i+1})(x-x_{i+2})\\over(x_i-x_{i+1)(x_i-x_{i+2}})}f_i + {(x - x_i)(x - x_{i+2})\\over((x_{i+1} - x_i)(x_{i+1} - x_{i+2})))}f_{i+1} + {(x-x_i)(x-x_{i+1})\\over(x_{i+2}-x_i)(x_{i+2}-x_{i+1})}f_{i+2}\n",
        "\\\\\n",
        "u_i = {x-x_i\\over h }$\n",
        "\n",
        "\n",
        "$x-x_i=u_ih\\\\\n",
        "x-x_{i+1} = u_{i+1}h\\\\\n",
        "x-x_{i+2} = u_{i+2}h$\n",
        "\n",
        "\n",
        "$h=x_{i+1}-x_i\\\\\n",
        "x_{i+1}=h+x_i\\\\\n",
        "x_{i+2}=2h+x_i$\n",
        "\n",
        "$L_2(x)={u_{i+1}u_{i+2}\\over 2h^2}f_i - {u_iu_{i+2}h\\over (h+x_i-x_i)(h+x_i-2h-x_i)}f_{i+2}+{u_ihu_{i+1}h\\over (2h+x_i-x_i)(2h+x_i-h-x_i)}f_{i+2}\\\\\n",
        "L_2(x)={u_{i+1}u_{i+2}\\over 2u_i}f_i - u_iu_{i+2}f_{i+1} + {u_iu_{i+1}\\over 2}f_{i+2}\\\\\n",
        "u_{i+1}={x-x_{i+1}\\over h} = {x-h-x_i\\over h} = {x - x_i\\over h} - 1 = u-1\\\\\n",
        "u_{i+2}={x-x_{i+2}\\over h} = {x-2h-x_i\\over h} = {x - x_i\\over h} - 2 = u-2\\\\\n",
        "L_2(x)={(u-1)(u-2)\\over 2}f_i -u(u-2)f_{i+1} + {u(u-1)\\over2}f_{i+2}$"
      ]
    },
    {
      "cell_type": "markdown",
      "metadata": {
        "id": "mLc3N5C89p8N",
        "colab_type": "text"
      },
      "source": [
        "$\\hat{I} = \\int_{x_i}^{x_{i+2}}L_2(x)dx=\\int_0^2[{(u-1)(u-2)\\over 2}f_i-u(u-2)f_{i+1}+{u(u-1)\\over 2}f_{i+2}]hdu\\\\\n",
        "\\hat{I}=[{u^3\\over6} - {3u^2\\over4} + u]|_0^2f_i-[{u^3\\over3}-u^2]|_0^2f_{i+1}+[{u^3\\over6}-{u^2\\over4}]|_0^2f_{i+2}\\\\\n",
        "\\hat{I}=({8\\over6}-3+2)f_i-({8\\over3}-4)f_{i+1}+({8\\over6}-1)f_{i+2}\\\\\n",
        "\\hat{I}={1\\over3}f_i+{4\\over3}f_{i+2} + {1\\over3}f_{i+2}\\\\\n",
        "\\hat{I}={h\\over3}(f_i + 4f_{i+1}+f_{i+2})$"
      ]
    },
    {
      "cell_type": "markdown",
      "metadata": {
        "id": "iCT0eiA4gO2B",
        "colab_type": "text"
      },
      "source": [
        "### 2. Explain how used condition $n = 2k$ helps us in integration. If we want to use odd number of segments we have to integrate with even number of segments but add the value $I_{n-1}^n$. What is the calculation accuracy order of $I_{n-1}^n$? Why? Explain both. [mathematical formula]. Usetimation time: ~30m"
      ]
    },
    {
      "cell_type": "markdown",
      "metadata": {
        "id": "cWceUU8VTz02",
        "colab_type": "text"
      },
      "source": [
        "Three dot template works with two ssegments. That's why $n=2k$. If we will have odd number of segments we will add the last segment to the result by integrating in. \n",
        "\n",
        "$\\hat{I_{n-1}^n }= \\hat{I_{n-3, c}^{n}} - \\hat{I_{n-3}^{n-1}} = \\frac{3h}{8}(f_{n-3}+3f_{n-2}+3f_{n-1}+f_n) - \\frac{h}{3}(f_{n-3}+4f_{n-2}+f_{n-1}) = \\frac{h}{24}(f_{n-3}-5f_{n-2}+19f_{n-1}+9_{n})$\n",
        "\n",
        "The accuracy of computations for  $I_{n-1}^n$  will be $O(h^5)$"
      ]
    },
    {
      "cell_type": "markdown",
      "metadata": {
        "id": "of2ojBQrgO2H",
        "colab_type": "text"
      },
      "source": [
        "### 3. Derive the formula of whole $\\hat{I_{a}^{b}}$. Summarize all integrals on segments $\\hat{I_{i}^{i+1}}$ for even case, and for odd case. [mathematical formula]. Usetimation time: ~30m"
      ]
    },
    {
      "cell_type": "markdown",
      "metadata": {
        "id": "WzSb6RG2HgJu",
        "colab_type": "text"
      },
      "source": [
        "$\\hat{I}_a^b = \\sum_{i=0}^{n-1} I_{x_i}^{x_{i+2}}=\\sum_{i=0}^{n-1}(f_i+4f_{i+1}+f){i+2})={h\\over3}(f_0+4(f_1+f_3+...+f_{2k-1})+2(f_2+f_4+...+f_{2k-2})+f_n={h\\over3}(f_0+4\\sum_{i=1}^kf_{2i-1}+2\\sum_{i=1}^{k-1}f_{2i}+f_{2k})$"
      ]
    },
    {
      "cell_type": "markdown",
      "metadata": {
        "id": "u3_4zzHygO2O",
        "colab_type": "text"
      },
      "source": [
        "### 4. Derive the formula of trapezoid quadrature formula error estimation. Use Taylor series expansion for antiderivative первообразной $F_{i+1}$ and $f_{i+1}$  [mathematical formula] Usetimation time: ~30m"
      ]
    },
    {
      "cell_type": "markdown",
      "metadata": {
        "id": "CfTlkwP6HfE3",
        "colab_type": "text"
      },
      "source": [
        "$F_{i+1} = F_i + h_{i+1}f_i + \\frac{h_{i+1}^2}{2}f'_i+\\frac{h_{i+1}^3}{6}f''(\\xi_i)$ <br>\n",
        "$f_{i+1} = f_i + h_{i+1}f'_i+\\frac{h_{i+1}^2}{2}f''(\\xi_i)$\n",
        "\n",
        "$I_i^{i+1} - \\hat{I}_i^{i+1} = F_{i+1} - F_i - \\frac{h_{i+1}}{2}(f_i + f_{i+1}) = F_i + h_{i+1}f_i + \\frac{h_{i+1}^2}{2}f'_i+\\frac{h_{i+1}^3}{6}f''(\\xi_i) - F_i - \\frac{h_{i+1}}{2}(f_i + f_i + h_{i+1}f'_i+\\frac{h_{i+1}^2}{2}f''(\\xi_i)) = $ \n",
        "$= \\frac{h_{i+1}^3}{6}f''(\\xi_i) - \\frac{h_{i+1}^3}{4}f''(\\xi_i)\\\\ = -\\frac{h_{i+1}^3}{12}f''(\\xi_i)$\n",
        "\n",
        "Обобщаем для всего отрезка:\n",
        "\n",
        "$I_a^b - \\hat{I}_a^b = -\\frac{1}{12}h^3(f''(\\xi_0) + \\dots + f''(\\xi_{n-1})) = -\\frac{h^3}{12}nf''(\\xi)$\n",
        "\n",
        "Подставим $n = \\frac{b-a}{h}$ и $M_2 = \\max\\limits_{[a,b]}|f''(x)|$ \n",
        "\n",
        "$|I_a^b - \\hat{I}_a^b| \\leq \\frac{M_2}{12}(b - a)h^2 $"
      ]
    },
    {
      "cell_type": "markdown",
      "metadata": {
        "id": "iqm0MhavgO2T",
        "colab_type": "text"
      },
      "source": [
        "### Congrats!"
      ]
    }
  ]
}