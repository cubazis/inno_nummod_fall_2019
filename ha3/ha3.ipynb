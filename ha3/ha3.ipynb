{
  "nbformat": 4,
  "nbformat_minor": 0,
  "metadata": {
    "kernelspec": {
      "display_name": "Python 3",
      "language": "python",
      "name": "python3"
    },
    "language_info": {
      "codemirror_mode": {
        "name": "ipython",
        "version": 3
      },
      "file_extension": ".py",
      "mimetype": "text/x-python",
      "name": "python",
      "nbconvert_exporter": "python",
      "pygments_lexer": "ipython3",
      "version": "3.6.8"
    },
    "colab": {
      "name": "ha3.ipynb",
      "provenance": []
    }
  },
  "cells": [
    {
      "cell_type": "code",
      "metadata": {
        "id": "RwEvTtUVuaZp",
        "colab_type": "code",
        "colab": {}
      },
      "source": [
        "import sympy as sp\n",
        "import numpy as np\n",
        "import matplotlib.pyplot as plt"
      ],
      "execution_count": 0,
      "outputs": []
    },
    {
      "cell_type": "markdown",
      "metadata": {
        "id": "mjXGk4xPuaZu",
        "colab_type": "text"
      },
      "source": [
        "### 1. Derive formula of $L_{2}(x)$ in terms of interpolation phase $ u = \\frac{x - x_{i}}{h} $.  Integrate $ \\hat{I_{i}^{i+2}}$ with received formula as integrand  [mathematical formula]. Usetimation time: ~30m"
      ]
    },
    {
      "cell_type": "markdown",
      "metadata": {
        "id": "py9sSb9puaZv",
        "colab_type": "text"
      },
      "source": [
        "**Note** Use constant step $h = const$ and condition *number of segments is even* $n = 2k$"
      ]
    },
    {
      "cell_type": "markdown",
      "metadata": {
        "id": "EyzKQ3_S_Krt",
        "colab_type": "text"
      },
      "source": [
        "Interpolation phase $u = \\frac{x-x_i}{h}$, with $h = x_{i+1}-x_i$\n",
        "\n",
        "$L_n(x) = \\sum_{i = 0}^{n}y_i\\prod_{j = 0, j!=i}^{n}\\frac{x-x_j}{x_i - x_j}$\n",
        "\n",
        "In our case $n = 2$, so \n",
        "\n",
        "$L_2(x) = y_i\\frac{x-x_{i+1}}{x_i - x_{i+1}}*\\frac{x-x_{i+2}}{x_i-x_{i+2}} + y_{i+1}\\frac{x-x_{i}}{x_{i+1} - x_{i}}*\\frac{x-x_{i+2}}{x_{i+1}-x_{i+2}}+y_{i+2}\\frac{x-x_i}{x_{i+2} - x_{i}}*\\frac{x-x_{i+1}}{x_{i+2}-x_{i+1}} = y_i\\frac{x-x_{i+1}}{-2h}*\\frac{x-x_{i+2}}{-h} + y_{i+1}\\frac{x-x_{i}}{h}*\\frac{x-x_{i+2}}{-h}+y_{i+2}\\frac{x-x_i}{2h}*\\frac{x-x_{i+1}}{h} = y_i\\frac{x-x_{i+1}+x_i-x_i}{h}*\\frac{x-x_{i+2}+x_i-x_i}{2h} + y_{i+1}u*\\frac{x-x_{i+2}+x_i-x_i}{-h}+y_{i+2}\\frac{u}{2}*\\frac{x-x_{i+1}+x_i-x_i}{h}  = y_i\\frac{(u-1)(u-2)}{2}-y_{i+1}u(u-2)+y_{i+2}\\frac{u(u-1)}{2}$\n",
        "\n",
        "$\\hat{I_i^{i+2} }= \\int_{i}^{i+2}(y_i(u-1)(u-2)-y_{i+1}u(u-2)+y_{i+2}\\frac{u(u-1)}{2}) dx   = \\int_{0}^{2}(y_i(u-1)(u-2)-y_{i+1}u(u-2)+y_{i+2}\\frac{u(u-1)}{2})h du = y_ih(\\frac{u^3}{2} - {3u^2}{2}+2u)- y_{i+1}h(\\frac{u^3}{3}-u^2)+y_{i+2}h(\\frac{u^3}{3} - \\frac{u^2}{2}) |_0^2 = \\frac{h}{3}(y_i+4y_{i+1}+y_{i+2})$, assuming that  for $x_i, u = 0, x_{i+2}, u = 2$ for integration boundaries, $dx = hdu$"
      ]
    },
    {
      "cell_type": "markdown",
      "metadata": {
        "id": "Jm79J2i_uaZz",
        "colab_type": "text"
      },
      "source": [
        "### 2. Explain how used condition $n = 2k$ helps us in integration. If we want to use odd number of segments we have to integrate with even number of segments but add the value $I_{n-1}^n$. What is the calculation accuracy order of $I_{n-1}^n$? Why? Explain both. [mathematical formula]. Usetimation time: ~30m"
      ]
    },
    {
      "cell_type": "markdown",
      "metadata": {
        "id": "TWsAXyzIPu3R",
        "colab_type": "text"
      },
      "source": [
        "With odd number of segments we need to calculate an estimation of $I_n^n$ : $\\hat{I_{n-1}^n}$. For this, we can subtract estimation on three point grid with n = 2k (as in the previous step) from four point grid estimation of Newton-Kotese\n",
        "\n",
        "$\\hat{I_{n-1}^n }= \\hat{I_{n-3, c}^{n}} - \\hat{I_{n-3}^{n-1}} = \\frac{3h}{8}(f_{n-3}+3f_{n-2}+3f_{n-1}+f_n) - \\frac{h}{3}(f_{n-3}+4f_{n-2}+f_{n-1}) = \\frac{h}{24}(f_{n-3}-5f_{n-2}+19f_{n-1}+9_{n})$\n",
        "\n",
        "The calculation accuracy of this estimation is O($h^5$), because the accuracy order of four-point grid is O($h^5$) and for three-point grid with n = 2k is also O($h^5$)"
      ]
    },
    {
      "cell_type": "markdown",
      "metadata": {
        "id": "cU6SEiThuaZ2",
        "colab_type": "text"
      },
      "source": [
        "### 3. Derive the formula of whole $\\hat{I_{a}^{b}}$. Summarize all integrals on segments $\\hat{I_{i}^{i+1}}$ for even case, and for odd case. [mathematical formula]. Usetimation time: ~30m"
      ]
    },
    {
      "cell_type": "markdown",
      "metadata": {
        "id": "QNCePW2587g6",
        "colab_type": "text"
      },
      "source": [
        "Even case:\n",
        "$\\hat{I_a^b} = \\frac{h}{3}(f_0+4(f_1+f_3+...+f_{2k-1})+2(f_2+ f_4+...+ f_{2k-2}+f_n)) = \\frac{h}{3}(f_0+4\\sum_\n",
        "{i = 1}^kf_{2i-1}+2\\sum_{i = 1}^{k-1}f_{2i}+f_{2k})$\n",
        "\n",
        "Odd case:\n",
        "\n",
        "$\\hat{I_a^b} = \\frac{h}{3}(f_0+4(f_1+f_3+...+f_{2k-1})+2(f_2+ f_4+...+ f_{2k-2}+f_n))+ \\frac{h}{24}(f_{n-3}-5f_{n-2}+19f_{n-1}+9_{n}) = \\frac{h}{3}(f_0+4\\sum_\n",
        "{i = 1}^kf_{2i-1}+2\\sum_{i = 1}^{k-1}f_{2i}+f_{2k}) + \\frac{h}{24}(f_{n-3}-5f_{n-2}+19f_{n-1}+9_{n})$\n"
      ]
    },
    {
      "cell_type": "markdown",
      "metadata": {
        "id": "0M8ntXSkuaZ6",
        "colab_type": "text"
      },
      "source": [
        "### 4. Derive the formula of trapezoid quadrature formula error estimation. Use Taylor series expansion for antiderivative $F_{i+1}$ and $f_{i+1}$  [mathematical formula] Usetimation time: ~30m"
      ]
    },
    {
      "cell_type": "markdown",
      "metadata": {
        "id": "sOYWNFL_ChFz",
        "colab_type": "text"
      },
      "source": [
        "$I_i^{i+1} - \\hat{I_i^{i+1}} = F_{i+1} - F_i  - \\frac{h_{i+1}}{2}(f_i+f_{i+1})= F_i+h_{i+1}f_i+\\frac{h_{i+1}^2}{2}f_i'+\\frac{h_{i+1}^3}{6}f(\\xi_i)'' - F_i - \\frac{h_{i+1}}{2}(f_i+f_i+h_{i+1}f_i'+\\frac{h_{i+1}^2}{2}f''(\\xi_i)) = \\frac{h_{i+1}^3}{6}f''(\\xi_i) - \\frac{h_{i+1}^3}{4}f''(\\xi_i) = -\\frac{1}{12}h_{i+1}^3f''(\\xi_i)$, \n",
        "\n",
        "assuming $f(x) \\in C_2[a, b], \\xi_i\\in (x_i, x_{i+1})$ the same point for F(x) and f(x). So the error is bound by $\\frac{M_{2, i}}{12}h_{i+1}^3, M_{2, i} = max_{x_i, x_{i+1}} |f''(x)|$\n",
        "\n",
        "$I_i^{i+1} - \\hat{I_i^{i+1}} = -\\frac{1}{12}h_{i+1}^3f''(\\xi_i) = -\\frac{1}{12}h^3(f''(\\xi_0)+...+f''(\\xi_{n-1})) = -\\frac{1}{12}nf''(\\xi), \\xi \\in [a, b]$,\n",
        "\n",
        "with $n = \\frac{b-a}{h}$, our final error estimation is \n",
        "\n",
        "$|I_i^{i+1} - \\hat{I_i^{i+1}}| = \\frac{M_2}{12}(b-a)h^2$"
      ]
    },
    {
      "cell_type": "markdown",
      "metadata": {
        "id": "gEAsi433uaZ8",
        "colab_type": "text"
      },
      "source": [
        "### Congrats!"
      ]
    }
  ]
}