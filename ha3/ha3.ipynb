{
 "cells": [
  {
   "cell_type": "code",
   "execution_count": 1,
   "metadata": {},
   "outputs": [],
   "source": [
    "import sympy as sp\n",
    "import numpy as np\n",
    "import matplotlib.pyplot as plt"
   ]
  },
  {
   "cell_type": "markdown",
   "metadata": {},
   "source": [
    "### 1. Derive formula of $L_{2}(x)$ in terms of interpolation phase $ u = \\frac{x - x_{i}}{h} $.  Integrate $ \\hat{I_{i}^{i+2}}$ with received formula as integrand  [mathematical formula]. Usetimation time: ~30m"
   ]
  },
  {
   "cell_type": "markdown",
   "metadata": {},
   "source": [
    "**Note** Use constant step $h = const$ and condition *number of segments is even* $n = 2k$"
   ]
  },
  {
   "cell_type": "markdown",
   "metadata": {},
   "source": [
    "$T = (x_i, x_{i+1}, x_{i+2})$\n",
    "\n",
    "$f_i = f(x_i)$\n",
    "\n",
    "$h = x_{i+1}-x_i$ - const\n",
    "\n",
    "$L_2(x) \n",
    "= \n",
    "\\frac{(x-x_{i+1})\\cdot(x-x_{i+2})}{(x_i-x_{i+1})\\cdot(x_i-x_{i+2})}f_i\n",
    "+\n",
    "\\frac{(x-x_{i})\\cdot(x-x_{i+2})}{(x_{i+1}-x_{i})\\cdot(x_{i+1}-x_{i+2})}f_{i+1}\n",
    "+\n",
    "\\frac{(x-x_{i})\\cdot(x-x_{i+1})}{(x_{i+2}-x_{i})\\cdot(x_{i+2}-x_{i+1})}f_{i+2} \n",
    "= \n",
    "(1 - \\frac{x-x_i}{x_{i+1}-x_{i}})\\cdot(1-\\frac{x-x_i}{2(x_{i+1}-x_{i})})f_i\n",
    "+\n",
    "(\\frac{x-x_i}{x_{i+1}-x_{i}})\\cdot(2-\\frac{x-x_i}{x_{i+1}-x_{i}})f_{i+1}\n",
    "+\n",
    "(\\frac{x-x_i}{2(x_{i+1}-x_{i})})\\cdot(\\frac{x-x_i}{x_{i+1}-x_{i}}-1)f_{i+2}\n",
    "=\n",
    "(1-u)(1-\\frac{u}{2})f_{i}\n",
    "+\n",
    "u(2-u)f_{i+1}\n",
    "+\n",
    "\\frac{u}{2}(u-1)f_{i+2}\n",
    "$\n",
    "\n",
    "$u\\cdot h = x - x_i$\n",
    "\n",
    "$h\\cdot du = dx$\n",
    "\n",
    "\n",
    "$\\stackrel{\\wedge}{I}^{i+2}_i = \n",
    "\\int_{x_i}^{x_{i+2}}L_2(x)dx = \n",
    "\\int_{0}^{2}((1-u)(1-\\frac{u}{2})f_{i}\n",
    "+\n",
    "u(2-u)f_{i+1}\n",
    "+\n",
    "\\frac{u}{2}(u-1)f_{i+2})du \n",
    "= \n",
    "h((\\frac{u^3}{6}-\\frac{3}{4}u^2+u)f_i\n",
    "+\n",
    "(-\\frac{u^3}{3}+u^2)f_{i+1}\n",
    "+\n",
    "(\\frac{u^3}{6}-\\frac{u^2}{4})f_{i+2})|_0^2 \n",
    "=\n",
    "\\frac{h}{3}(f_i+4f_{i+1}+f_{i+2})\n",
    "$\n",
    "\n",
    "\n",
    "\n",
    "\n",
    "\n",
    "\n",
    "\n"
   ]
  },
  {
   "cell_type": "markdown",
   "metadata": {},
   "source": [
    "### 2. Explain how used condition $n = 2k$ helps us in integration. If we want to use odd number of segments we have to integrate with even number of segments but add the value $I_{n-1}^n$. What is the calculation accuracy order of $I_{n-1}^n$? Why? Explain both. [mathematical formula]. Usetimation time: ~30m"
   ]
  },
  {
   "cell_type": "markdown",
   "metadata": {},
   "source": [
    "Condition $n=2k$ helps us in integration, because it helps us in calculation. In compound quadrature formulas $n=2k$ is number of pairs of split segments. If this condition not met, then integral calcultated for even number of segments and to the result appended $\\stackrel{\\wedge}{I}^{n}_{n-1}$ \n",
    "\n",
    "$\n",
    "\\stackrel{\\wedge}{I}^{n}_{n-1} \n",
    "=\n",
    "\\stackrel{\\wedge}{I}^{n}_{n-3}-\\stackrel{\\wedge}{I}^{n}_{n-2}\n",
    "=\n",
    "\\frac{3h}{8}(f_{n-3}+3f_{n-2}+3f_{n-1}+f_n)\n",
    "+\n",
    "\\frac{h}{3}(f_{n-2}+4f_{n-1}+f_n)\n",
    "$ by Newton-Cotes (3/8) formula and by Simpson formula respectively for $\\stackrel{\\wedge}{I}^{n}_{n-3}$ and $\\stackrel{\\wedge}{I}^{n}_{n-2}$\n",
    "\n",
    "So, \n",
    "\n",
    "$\n",
    "\\stackrel{\\wedge}{I}^{n}_{n-1} \n",
    "= \n",
    "\\frac{h}{24}(f_{n-3}-5f_{n-2}+19f_{n-1}+9f_n)\n",
    "$\n",
    "\n",
    "Accuracy of $\\stackrel{\\wedge}{I}^{n}_{n-1}$ is $O(h^5)$ because accuracy of $\\stackrel{\\wedge}{I}^{n}_{n-3}$ is $O(h^5)$ and\n",
    "accuracy of $\\stackrel{\\wedge}{I}^{n}_{n-2}$ is $O(h^5)$"
   ]
  },
  {
   "cell_type": "markdown",
   "metadata": {},
   "source": [
    "### 3. Derive the formula of whole $\\hat{I_{a}^{b}}$. Summarize all integrals on segments $\\hat{I_{i}^{i+1}}$ for even case, and for odd case. [mathematical formula]. Usetimation time: ~30m"
   ]
  },
  {
   "cell_type": "markdown",
   "metadata": {},
   "source": [
    "Even (n = 2k):\n",
    "\n",
    "\n",
    "$\\stackrel{\\wedge}{I}^{b}_{a}\n",
    "=\n",
    "\\sum_{i=0}^{k-1}\\frac{h}{3}(f_{2i}+4f_{2i+1}+f_{2i+2})\n",
    "=\n",
    "\\frac{h}{3}(\\sum_{i=0}^{k-1}f_{2i}\n",
    "+\n",
    "4\\sum_{i=0}^{k-1}f_{2i+1}\n",
    "+\n",
    "\\sum_{i=0}^{k-1}f_{2i+2})\n",
    "=\n",
    "\\frac{h}{3}(\n",
    "f_0\n",
    "+\n",
    "2\\sum_{i=1}^{k-1}f_{2i}\n",
    "+\n",
    "4\\sum_{i=0}^{k-1}f_{2i+1}\n",
    "+\n",
    "f_{2k})\n",
    "$ \n",
    "\n",
    "\n",
    "\n",
    "Odd (n = 2k + 1):\n",
    "\n",
    "Need add $\\stackrel{\\wedge}{I}^{n}_{n-1}$ to even result:\n",
    "\n",
    "\n",
    "$\\stackrel{\\wedge}{I}^{b}_{a}\n",
    "=\n",
    "\\frac{h}{3}(\n",
    "f_0\n",
    "+\n",
    "2\\sum_{i=1}^{k-1}f_{2i}\n",
    "+\n",
    "4\\sum_{i=0}^{k-1}f_{2i+1}\n",
    "+\n",
    "f_{2k})\n",
    "+\n",
    "\\frac{h}{24}(f_{k-2}-5f_{k-1}+19f_{k}+9f_{k+1})\n",
    "$\n",
    "\n"
   ]
  },
  {
   "cell_type": "markdown",
   "metadata": {},
   "source": [
    "### 4. Derive the formula of trapezoid quadrature formula error estimation. Use Taylor series expansion for antiderivative $F_{i+1}$ and $f_{i+1}$  [mathematical formula] Usetimation time: ~30m"
   ]
  },
  {
   "cell_type": "markdown",
   "metadata": {},
   "source": [
    "${I}^{i+1}_{i} - \\stackrel{\\wedge}{I}^{b}_{a}\n",
    "=\n",
    "F_{i+1}-F_i - \\frac{h_{i+1}}{2}(f_i+f_{i+1})\n",
    "= \n",
    "F_i \n",
    "+ \n",
    "h_{i+1}f_i \n",
    "+ \n",
    "\\frac{h^2_i+1}{2}f_i'\n",
    "+\n",
    "\\frac{h^3_i+1}{6}f_i''(\\xi_i)\n",
    "-\n",
    "F_i\n",
    "-\n",
    "\\frac{h_{i+1}}{2}(\n",
    "f_i\n",
    "+\n",
    "f_i\n",
    "+\n",
    "h_{i+1}f_i'\n",
    "+\n",
    "\\frac{h^2_i+1}{2}f_i''(\\xi_i)\n",
    ")\n",
    "=\n",
    "\\frac{h^3_i+1}{6}f_i''(\\xi_i)\n",
    "-\n",
    "\\frac{h^3_i+1}{4}f_i''(\\xi_i)\n",
    "=\n",
    "-\\frac{h^3_i+1}{12}f_i''(\\xi_i)\n",
    "$, where $\\xi_i \\in (x_i,x_{i+1})$ \n"
   ]
  },
  {
   "cell_type": "markdown",
   "metadata": {},
   "source": [
    "### Congrats!"
   ]
  }
 ],
 "metadata": {
  "kernelspec": {
   "display_name": "Python 3",
   "language": "python",
   "name": "python3"
  },
  "language_info": {
   "codemirror_mode": {
    "name": "ipython",
    "version": 3
   },
   "file_extension": ".py",
   "mimetype": "text/x-python",
   "name": "python",
   "nbconvert_exporter": "python",
   "pygments_lexer": "ipython3",
   "version": "3.6.8"
  }
 },
 "nbformat": 4,
 "nbformat_minor": 2
}
