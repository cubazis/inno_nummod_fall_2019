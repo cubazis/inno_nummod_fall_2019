{
  "nbformat": 4,
  "nbformat_minor": 0,
  "metadata": {
    "kernelspec": {
      "display_name": "Python 3",
      "language": "python",
      "name": "python3"
    },
    "language_info": {
      "codemirror_mode": {
        "name": "ipython",
        "version": 3
      },
      "file_extension": ".py",
      "mimetype": "text/x-python",
      "name": "python",
      "nbconvert_exporter": "python",
      "pygments_lexer": "ipython3",
      "version": "3.6.8"
    },
    "colab": {
      "name": "ha3.ipynb",
      "provenance": []
    }
  },
  "cells": [
    {
      "cell_type": "code",
      "metadata": {
        "id": "HaWS3_dq7vPA",
        "colab_type": "code",
        "colab": {}
      },
      "source": [
        "import sympy as sp\n",
        "import numpy as np\n",
        "import matplotlib.pyplot as plt"
      ],
      "execution_count": 0,
      "outputs": []
    },
    {
      "cell_type": "markdown",
      "metadata": {
        "id": "DStfmXkL7vPG",
        "colab_type": "text"
      },
      "source": [
        "### 1. Derive formula of $L_{2}(x)$ in terms of interpolation phase $ u = \\frac{x - x_{i}}{h} $.  Integrate $ \\hat{I_{i}^{i+2}}$ with received formula as integrand  [mathematical formula]. Usetimation time: ~30m"
      ]
    },
    {
      "cell_type": "markdown",
      "metadata": {
        "id": "iJZfUOWm7vPI",
        "colab_type": "text"
      },
      "source": [
        "**Note** Use constant step $h = const$ and condition *number of segments is even* $n = 2k$"
      ]
    },
    {
      "cell_type": "markdown",
      "metadata": {
        "id": "eMTmry-D7w_D",
        "colab_type": "text"
      },
      "source": [
        "Consider a segment $[x_{i}, x_{i+2}]$.\n",
        "$L_{2}(x) = \\frac{(x-x_{i+1})(x-x_{i+2})}{(x_{i}-x_{i+1})(x_{i}-x_{i+2})}f_{i} + \n",
        "\\frac{(x-x_{i})(x-x_{i+2})}{(x_{i+1}-x_{i})(x_{i+1}-x_{i+2})}f_{i+1} + \n",
        "\\frac{(x-x_{i})(x-x_{i+1})}{(x_{i+2}-x_{i})(x_{i+2}-x_{i+1})}f_{i+2}$\n",
        "\n",
        "Add and subtract $x_{i}$ to and from each of the brackets in the numerator of the expression before $f_{i}$:\n",
        "\n",
        "$\\frac{(x-x_{i+1})(x-x_{i+2})}{(x_{i}-x_{i+1})(x_{i}-x_{i+2})} = \\frac{((x-x_{i})-(x_{i+1}-x_{i}))((x-x_{i})-(x_{i+2}-x_{i}))}{(-h)(-2h)} = \\frac{(uh-h)(uh-2h)}{2h^{2}} = \\frac{(u-1)(u-2)}{2}$\n",
        "\n",
        "(We use the fact that $uh = x - x_{i}$ here)\n",
        "\n",
        "Applying the same operations to 2 other brackets, we obtain the following expression for $L_{2}(x)$ in terms of $u$'s:\n",
        "\n",
        "$L_{2}(x) = \\frac{(u-1)(u-2)}{2}f_{1} - u(u-2)f_{i+1} + \\frac{u(u-1)}{2}f_{i+2}$\n",
        "\n",
        "Integrating it we get:\n",
        "\n",
        "$\\hat{I}_{i}^{i+2} = \\int_{x_{i}}^{x_{i+2}}(\\frac{(u-1)(u-2)}{2}f_{1} - u(u-2)f_{i+1} + \\frac{u(u-1)}{2}f_{i+2})hdx = \\int_{0}^{2}(\\frac{(u-1)(u-2)}{2}f_{1} - u(u-2)f_{i+1} + \\frac{u(u-1)}{2}f_{i+2})hdu = \n",
        "\\int_{0}^{2}(\\frac{u^{2} - 3u + 2}{2}f_{1} - (u^{2}-2u)f_{i+1} + \\frac{u^{2} - u}{2}f_{i+2})hdu =\n",
        "h((8/6 - 12/4 + 2)f_{i} - (8/3 - 4)f_{i+1} + (8/6 - 4/4)f_{i+2}) =\n",
        "h(f_{i}/3 + 4f_{i+1}/3 + f_{i+2}/3) =\n",
        "\\frac{h}{3}(f_{i} + 4f_{i+1} + f_{i+2})$"
      ]
    },
    {
      "cell_type": "markdown",
      "metadata": {
        "id": "FZSCaSTK7vPP",
        "colab_type": "text"
      },
      "source": [
        "### 2. Explain how used condition $n = 2k$ helps us in integration. If we want to use odd number of segments we have to integrate with even number of segments but add the value $I_{n-1}^n$. What is the calculation accuracy order of $I_{n-1}^n$? Why? Explain both. [mathematical formula]. Usetimation time: ~30m"
      ]
    },
    {
      "cell_type": "markdown",
      "metadata": {
        "id": "ybD1e-tyRxYf",
        "colab_type": "text"
      },
      "source": [
        "When number of intervals is even, we can use a three-point template only. If this number were odd, we would have to use an $L_{3}$ curve on last 4 points.\n",
        "\n",
        "In that case accuracy order of $O(h^{5})$. It happens for the following reason: $\\hat{I}_{x_{n-1}}^{x_{n}} = \\hat{I}_{x_{n-3}}^{x_{n}} - \\hat{I}_{x_{n-3}}^{x_{n-1}}$. Both values have orders of accuracy of $O(h^{5})$ (first given by Newton-Kotes formula for three-interval template and second is a well-known accuracy for a two-point interval template), hence calculation accuracy order of $\\hat{I}_{x_{n-1}}^{x_{n}}$ will be $O(h^5)$, too."
      ]
    },
    {
      "cell_type": "markdown",
      "metadata": {
        "id": "XUq8Jp9Y7vPV",
        "colab_type": "text"
      },
      "source": [
        "### 3. Derive the formula of whole $\\hat{I_{a}^{b}}$. Summarize all integrals on segments $\\hat{I_{i}^{i+1}}$ for even case, and for odd case. [mathematical formula]. Usetimation time: ~30m"
      ]
    },
    {
      "cell_type": "markdown",
      "metadata": {
        "id": "1xV2YH3CHFJB",
        "colab_type": "text"
      },
      "source": [
        "Even case: $n = 2k, k \\in N$\n",
        "\n",
        "$\\hat{I}_{a}^{b} = \\sum_{i=0}^{\\frac{n}{2}-1}\\hat{I}_{2i}^{2(i+1)} =  \\sum_{i=0}^{\\frac{n}{2}-1}\\frac{h}{3}(f_{2i} + 4f_{2i+1} + f_{2i+2}) = \\frac{h}{3}(f_{0} + 4\\sum_{i=1}^{k}f_{2i-1} + 2\\sum_{i=1}^{k - 1}f_{2i} + f_{n})$\n",
        "\n",
        "Odd case: $n = 2k + 1, k \\in N$\n",
        "\n",
        "$\\hat{I}_{a}^{b} = \n",
        "\\sum_{i=0}^{k-2}\\hat{I}_{2i}^{2(i+1)} + \\hat{I}_{2k-2}^{2k+1} = \n",
        "\\sum_{i=0}^{k-2}\\frac{h}{3}(f_{2i} + 4f_{2i+1} + f_{2i+2}) + \\frac{3h}{8}(f_{2k-2} + 3f_{2k-1} + 3f_{2k} + f_{2k+1}) = \n",
        "\\frac{h}{3}(f_{0} + 4\\sum_{i=1}^{k-1}f_{2i-1} + 2\\sum_{i=1}^{k - 2}f_{2i} + f_{2k-2}) + \\frac{3h}{8}(f_{2k-2} + 3f_{2k-1} + 3f_{2k} + f_{2k+1}) = \n",
        "\\frac{h}{3}f_{0} + \\frac{4h}{3}\\sum_{i=1}^{k-1}f_{2i-1} + \\frac{2h}{3}\\sum_{i=1}^{k-2}f_{2i} +\\frac{17h}{24}f_{2k-2} + \\frac{9h}{8}f_{2k-1} + \\frac{9h}{8}f_{2k} + \\frac{3h}{8}f_{2k+1}$"
      ]
    },
    {
      "cell_type": "markdown",
      "metadata": {
        "id": "U1n-dnOf7vPb",
        "colab_type": "text"
      },
      "source": [
        "### 4. Derive the formula of trapezoid quadrature formula error estimation. Use Taylor series expansion for antiderivative $F_{i+1}$ and $f_{i+1}$  [mathematical formula] Usetimation time: ~30m"
      ]
    },
    {
      "cell_type": "markdown",
      "metadata": {
        "id": "JCMdAPFXK7U6",
        "colab_type": "text"
      },
      "source": [
        "Taylor series expansion for $F(x)$ around a point $a$ is the following:\n",
        "\n",
        "$F(x-a) = F(a) + f(a)(x-a) + \\frac{f'(a)}{2}(x-a)^2 + \\frac{f''(a)}{6}(x-a)^{3} + o((x-a)^{4})$\n",
        "\n",
        "For $f(x)$ it looks like this:\n",
        "\n",
        "$f(x-a) = f(a) + f'(a)(x-a) + \\frac{f''(a)}{2}(x-a)^2 o((x-a)^{3})$\n",
        "\n",
        "Hence $F(x_{i+1})$ around the point $x_{i}$ is $F(x_{i}) + f(x_{i})h + \\frac{f'(x_{i})}{2}h^2 + \\frac{f''(x_{i})}{6}h^{3}$ and $f(x_{i+1})$ around the same point is $f(x_{i}) + f'(x_{i})h + \\frac{f''(x_{i})}{2}h^2$\n",
        "\n",
        "$F(x_{i})$ is just $F(x_{i})$ and $f(x_{i})$ is just $f(x_{i})$.\n",
        "\n",
        "Our error on an interval $[x_{i}, x_{i+1}]$ is $I_{x_{i}}^{x_{i+1}} - \\hat{I}_{x_{i}}^{x_{i+1}} =\n",
        "F(x_{i+1}) - F(x_{i}) - \\frac{h}{2}(f_{i}+f_{i+1}) = F(x_{i}) + f(x_{i})h + \\frac{f'(x_{i})}{2}h^2 + \\frac{f''(\\xi_{i})}{6}h^{3} - F({x_{i}}) - \\frac{h}{2}(f(x_{i}) + f(x_{i}) + f'(x_{i})h + \\frac{f''(\\xi_{i})}{2}h^2) = -\\frac{h^{3}}{12}f''({\\xi_{i}})$,\n",
        "\n",
        "where $\\xi_{i}$ is a point on $(x_{i}, x_{i+1})$.\n",
        "\n",
        "Summing over each interval $[x_{i}, x_{i+1}]$ we obtain error on the whole $[a, b]$:\n",
        "\n",
        "$I_{a}^{b} - \\hat{I}_{a}^{b} = -\\frac{h^{3}}{12}(f''(\\xi_{0}) + f''(\\xi_{1}) + ...+ f''(\\xi_{n-2}) +  f''(\\xi_{n-1})) = -\\frac{h^{3}}{12}nf''({\\xi})$\n",
        "\n",
        "Substituting $n = \\frac{b-a}{h}$, $M_{2} = \\max_{[a, b]}|f''(x)|$ we get the following inequality:\n",
        "\n",
        "$|I_{a}^{b} - \\hat{I}_{a}^{b}| \\leq \\frac{M_{2}}{12}(b-a)h^2$"
      ]
    },
    {
      "cell_type": "markdown",
      "metadata": {
        "id": "EGwzmsx77vPg",
        "colab_type": "text"
      },
      "source": [
        "### Congrats!"
      ]
    }
  ]
}