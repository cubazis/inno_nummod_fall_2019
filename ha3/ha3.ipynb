{
 "cells": [
  {
   "cell_type": "code",
   "execution_count": 1,
   "metadata": {},
   "outputs": [],
   "source": [
    "import sympy as sp\n",
    "import numpy as np\n",
    "import matplotlib.pyplot as plt"
   ]
  },
  {
   "cell_type": "markdown",
   "metadata": {},
   "source": [
    "### 1. Derive formula of $L_{2}(x)$ in terms of interpolation phase $ u = \\frac{x - x_{i}}{h} $.  Integrate $ \\hat{I_{i}^{i+2}}$ with received formula as integrand  [mathematical formula]. Usetimation time: ~30m"
   ]
  },
  {
   "cell_type": "markdown",
   "metadata": {},
   "source": [
    "**Note** Use constant step $h = const$ and condition *number of segments is even* $n = 2k$"
   ]
  },
  {
   "cell_type": "markdown",
   "metadata": {},
   "source": [
    "$L_2(x) = f_i*\\frac{x-x_{i+1}}{x_i-x_{i+1}}*\\frac{x-x_{i+2}}{x_i-x_{i+2}}+f_{i+1}*\\frac{x-x_{i}}{x_{i+1}-x_i}*\\frac{x-x_{i+2}}{x_{i+1}-x_{i+2}}+f_{i+2}*\\frac{x-x_i}{x_{i+2}-x_i}*\\frac{x-x_{i+1}}{x_{i+2}-x_{i+1}}$ \\\n",
    "u = $\\frac{x-x_i}{h}$\n",
    "\n",
    "Now let's substitute u into $L_2(x)$:\n",
    "\n",
    "1: $\\frac{x-x_{i+1}}{x_i-x_{i+1}} - 1 = \\frac{x-x_{i}}{x_i-x_{i+1}} = -u$, thus \\\n",
    "$\\:\\:\\:\\frac{x-x_{i+1}}{x_i-x_{i+1}} = 1-u$\n",
    "\n",
    "2: $\\frac{x-x_{i+2}}{x_i-x_{i+2}} - 1 = \\frac{x-x_{i}}{x_i-x_{i+2}} = -\\frac{u}{2}$, thus \\\n",
    "$\\:\\:\\:\\frac{x-x_{i+1}}{x_i-x_{i+1}}$ = 1-$\\frac{u}{2}$\n",
    "\n",
    "3: $\\frac{x-x_{i}}{x_{i+1}-x_i} = u$ \n",
    "\n",
    "4: $\\frac{x-x_{i+2}}{x_{i+1}-x_{i+2}} - 1 = \\frac{x-x_{i+1}}{x_{i+1}-x_{i+2}}= 1-u $, thus \n",
    "\n",
    "$\\:\\:\\:\\frac{x-x_{i+2}}{x_{i+1}-x_{i+2}} = 2-u $\n",
    "\n",
    "5: $\\frac{x-x_i}{x_{i+2}-x_i} = \\frac{u}{2}$\n",
    "\n",
    "6: $\\frac{x-x_{i+1}}{x_{i+2}-x_{i+1}} = u-1$\n",
    "\n",
    "Final formula is:\n",
    "\n",
    "$L_2(x) = f_i*\\frac{(1-u)(2-u)}{2}+f_{i+1}*u(2-u)+f_{i+2}*\\frac{u(u-1)}{2} = f_i*\\frac{(u-1)(u-2)}{2}-f_{i+1}*u(u-2)+f_{i+2}*\\frac{u(u-1)}{2}$\n",
    "\n",
    "$\\hat{I}_{i}^{i+2} = \\int_{x_{i}}^{x_{i+2}} L_2(x)dx = \\int_{0}^{2} (f_i*\\frac{(u-1)(u-2)}{2}-f_{i+1}*u(u-2)+f_{i+2}*\\frac{u(u-1)}{2})hdu = \\frac{1}{2}h[\\frac{1}{3}u^3-\\frac{3}{2}u^2+2u]_0^2-\\frac{1}{2}h[\\frac{1}{3}u^3-u^2]_0^2 +\\frac{1}{2}h[\\frac{1}{3}u^3-\\frac{1}{2}u^2]_0^2=\\frac{1}{3}hf_i+\\frac{4}{3}hf_{i+1}+\\frac{1}{3}hf_{i+2}={\\frac{1}{3}h(f_i+4f_{i+1}+f_{i+2})} - Simpson's formula$"
   ]
  },
  {
   "cell_type": "markdown",
   "metadata": {},
   "source": [
    "### 2. Explain how used condition $n = 2k$ helps us in integration. If we want to use odd number of segments we have to integrate with even number of segments but add the value $I_{n-1}^n$. What is the calculation accuracy order of $I_{n-1}^n$? Why? Explain both. [mathematical formula]. Usetimation time: ~30m"
   ]
  },
  {
   "cell_type": "markdown",
   "metadata": {},
   "source": [
    "1: Why 2N: it helps us with calculating partial sum\n",
    "2: We can aprroximate $I_{n-1}^n$ using paraboloid(even if it is one interval), let's use this trick:\n",
    "\n",
    "$I_{n-1}^n = I_{n-3}^{n} - I_{n-3}^{n-1}=\\frac{3h}{8}(f_{n-3}+3f_{n-2}+3f_{n-1}+f_n)-\\frac{h}{3}(f_{n-3}+4f_{n-2}+f_{n-1})=(\\frac{3h}{8}f_{n-3}-\\frac{h}{3}f_{n-3})+(\\frac{9h}{8}f_{n-2}-\\frac{4h}{3}f_{n-2})+(\\frac{9h}{8}f_{n-1}-\\frac{h}{3}f_{n-1})+\\frac{3h}{8}f_n=\\frac{h}{24}[f_{n-3}-5f_{n-2}+19f_{n-1}+9f_n]$\n",
    "\n",
    "For $I_{n-1}^n: (I_{n-1}^n - \\hat{I}_{n-1}^{n})\\leq\\frac{19}{720}h^5M_{4,i}$, thus calculation accuracy order is $O(h^5)$"
   ]
  },
  {
   "cell_type": "markdown",
   "metadata": {},
   "source": [
    "### 3. Derive the formula of whole $\\hat{I_{a}^{b}}$. Summarize all integrals on segments $\\hat{I_{i}^{i+1}}$ for even case, and for odd case. [mathematical formula]. Usetimation time: ~30m"
   ]
  },
  {
   "cell_type": "markdown",
   "metadata": {},
   "source": [
    "Having Simpson formula from 1: \n",
    "\n",
    "Rewrite it ($f_{i+1}$ is always odd and $f_{i+2}$ is always even as 3 point integral approximation is provided without intersection of segments.)\n",
    "\n",
    "$\\hat{I_{a}^{b}} = h/3[f_0 + 4(f_1+..+f_{2k-1}) + 2(f_2+..+f_{2k-2}) +f_n]$ ----eq 1.\n",
    "\n",
    "This is a final integral for case where $n = 2k$\n",
    "\n",
    "If we have odd case we are to add trapezoid quadrature after eq1 calculated for n-1 points.\n",
    "\n",
    "Assume $2k = n-1$\n",
    "$\\hat{I_{a}^{b}} = h/3[f_0 + 4(f_1+..+f_{2k-1}) + 2(f_2+..+f_{2k-2}) +f_{n-1}] + \\frac{h_{n-1}}{2}*(f_{n-1}+ f_{n})$\n",
    "\n",
    "This is final integral for odd case.\n",
    "\n",
    "\n",
    "\n",
    "\n",
    "\n",
    "\n",
    "\n"
   ]
  },
  {
   "cell_type": "markdown",
   "metadata": {},
   "source": [
    "### 4. Derive the formula of trapezoid quadrature formula error estimation. Use Taylor series expansion for antiderivative $F_{i+1}$ and $f_{i+1}$  [mathematical formula] Usetimation time: ~30m"
   ]
  },
  {
   "cell_type": "markdown",
   "metadata": {},
   "source": [
    "In order to calculate error of trapezoid quadrature formula we find:\n",
    "Assume:$h = h_{i+1}$\n",
    "\n",
    "\n",
    "$I_{i}^{i+1} - \\hat{I_{i}^{i+1}}$\n",
    "\n",
    "Rewrite $I_{i}^{i+1}$ as $F_{i+1}-F_i$\n",
    "\n",
    "Define $\\hat{I_{i}^{i+1}}$ as $\\frac{h}{2}(f_i+f_{i+1}$\n",
    "\n",
    "$= F_{i+1}-F_i - \\frac{h}{2}(f_i+f_{i+1}$\n",
    "\n",
    "Rewrite $ F_{i+1}$ as Taylor series:\n",
    "\n",
    "$F_i + hf_i + \\frac{h^2}{2}f_i' + \\frac{h^3}{6}f_i'' *(\\xi)$\n",
    "\n",
    "\n",
    "Rewrite $ f_{i+1}$ as Taylor series:\n",
    "\n",
    "$f_i + hf_i' + \\frac{h^2}{2}f_i'' *(\\xi)$\n",
    "\n",
    "Merge everything:\n",
    "\n",
    "$hf_i + \\frac{h^2}{2}f_i' + \\frac{h^3}{6}f_i'' *(\\xi) - \\frac{h}{2}(2f_i + hf_i' + \\frac{h^2}{2}f_i'' *(\\xi)) $\n",
    "\n",
    "$= -\\frac{1}{12}h^3f_i'' *(\\xi)$\n",
    "\n",
    "Where $(\\xi)$ is the point inside interval $h$\n",
    "\n",
    "\n",
    "\n",
    "\n",
    "\n",
    "\n",
    "\n",
    "\n"
   ]
  },
  {
   "cell_type": "markdown",
   "metadata": {},
   "source": [
    "### Congrats!"
   ]
  }
 ],
 "metadata": {
  "kernelspec": {
   "display_name": "Python 3",
   "language": "python",
   "name": "python3"
  },
  "language_info": {
   "codemirror_mode": {
    "name": "ipython",
    "version": 3
   },
   "file_extension": ".py",
   "mimetype": "text/x-python",
   "name": "python",
   "nbconvert_exporter": "python",
   "pygments_lexer": "ipython3",
   "version": "3.7.3"
  }
 },
 "nbformat": 4,
 "nbformat_minor": 2
}
