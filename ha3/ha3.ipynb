{
 "cells": [
  {
   "cell_type": "code",
   "execution_count": 1,
   "metadata": {},
   "outputs": [],
   "source": [
    "import sympy as sp\n",
    "import numpy as np\n",
    "import matplotlib.pyplot as plt"
   ]
  },
  {
   "cell_type": "markdown",
   "metadata": {},
   "source": [
    "### 1. Derive formula of $L_{2}(x)$ in terms of interpolation phase $ u = \\frac{x - x_{i}}{h} $.  Integrate $ \\hat{I_{i}^{i+2}}$ with received formula as integrand  [mathematical formula]. Usetimation time: ~30m"
   ]
  },
  {
   "cell_type": "markdown",
   "metadata": {},
   "source": [
    "**Note** Use constant step $h = const$ and condition *number of segments is even* $n = 2k$"
   ]
  },
  {
   "cell_type": "markdown",
   "metadata": {
    "pycharm": {
     "name": "#%% md\n"
    }
   },
   "source": [
    "\n",
    "$L_k(x)=\\sum_{m=i}^{i+k}P_{km}(x)\\cdot f_m$, for $m \\neq i$ \n",
    "\n",
    "where Lagrange coefficients $P_{ni}(x)$ can be derived in the scope of segnment as following:\n",
    "\n",
    "$P_{km}(x) = \\frac{(x-x_i)\\cdot (x-x_{i+1})...(x-x_{m-1})\\cdot (x-x_{m+1})...(x-x_k)}{(x_m-x_i)\\cdot (x_m-x_{i+1})...(x_m-x_{m-1})\\cdot (x_m-x_{m+1})...(x_m-x_k)}$, for $m \\neq i$\n",
    "\n",
    "Then,\n",
    "\n",
    "$L_2(x)=\\frac{(x-x_{i+1})\\cdot (x-x_{i+2})}{(x_i-x_{i+1})\\cdot (x_i-x_{i+2})}f_i + \\frac{(x-x_{i})\\cdot (x-x_{i+2})}{(x_{i+1}-x_{i})\\cdot (x_{i+1}-x_{i+2})}f_{i+1} + \\frac{(x-x_{i})\\cdot (x-x_{i+1})}{(x_{i+2}-x_{i})\\cdot (x_{i+2}-x_{i+1})}f_{i+2}$\n",
    "\n",
    "Let $h=h_i=h_{i+1}=const, i=\\overline{1,n}$ \n",
    "\n",
    "and $u=\\frac{x-x_i}{h}$:\n",
    "\n",
    "$\\frac{x-x_{i+1}}{h}=\\frac{x-(x_i+h)}{h}=\\frac{x-x_i-h}{h}=\\frac{x-x_i}{h}-\\frac{h}{h}=u-1$\n",
    "\n",
    "$\\frac{x-x_{i+2}}{h}=\\frac{x-(x_i+2h)}{h}=\\frac{x-x_i-2h}{h}=\\frac{x-x_i}{h}-\\frac{2h}{h}=u-2$\n",
    "\n",
    "Thus,\n",
    "\n",
    "$L_2(u)=\\frac{(u-1)(u-2)}{2}f_i-u(u-2)f_{i+1}+\\frac{u(u-1)}{2}f_{i+2}$\n",
    "\n",
    "$\\hat{I_{i}}^{i+2} = \\int^{x_{i+2}}_{x_i}L_2(x)=(L_2(x)\\rightarrow L_2(u): dx=hdu, u \\in [0,2])=\\int^2_0(L_2(u)\\cdot h)du$\n",
    "\n",
    "$=\\frac{f_ih}{2}\\int_0^2(u^2-3u+2)du -f_{i+1}h\\int_0^2(u^2-u)du + \\frac{f_{i+2}h}{2}\\int^2_0(u^2-u)du$\n",
    "\n",
    "$=\\frac{f_ih}{2}(\\frac{u^3}{3}-\\frac{3u^2}{2}+2u)|^2_0-f_{i+1}h(\\frac{u^3}{3}-u^2)|^2_0+\\frac{f_{i+1}}{2}h(\\frac{u^3}{3}-\\frac{u^2}{2})|^2_0$\n",
    "\n",
    "$=\\frac{h}{3}(f_i+4f_{i+1}+f_{i+2})$\n",
    "\n",
    "\n",
    "\n",
    "\n",
    "\n",
    "\n",
    "\n",
    "\n",
    "\n",
    "\n",
    "\n",
    "\n",
    "\n",
    "\n",
    "\n",
    "\n",
    "\n",
    "\n",
    "\n"
   ]
  },
  {
   "cell_type": "markdown",
   "metadata": {},
   "source": [
    "### 2. Explain how used condition $n = 2k$ helps us in integration. If we want to use odd number of segments we have to integrate with even number of segments but add the value $I_{n-1}^n$. What is the calculation accuracy order of $I_{n-1}^n$? Why? Explain both. [mathematical formula]. Usetimation time: ~30m"
   ]
  },
  {
   "cell_type": "markdown",
   "metadata": {
    "pycharm": {
     "name": "#%% md\n"
    }
   },
   "source": [
    "During integration we use 3 points -> 2 segments are inside these points. So for algorithm to work we need even number of segments. Otherwise we will not be able to compute last segment $I_{n-1}^n$ using our algorithm. \n",
    "\n",
    "To overcome this problem we can derive formula to compute this last segment: compute integral of last three segments $I_{n-1}^n, I_{n-2}^{n-1}, I_{n-3}^{n-2}$ and subtract from it $I_{n-2}^{n-3}$, $ I_{n-2}^{n-1}$\n",
    "\n",
    "This can be found by Simpson formula: $\\hat{I}^{n-1}_{n-3}$ ($O(h^5)$ for two segments and Newton-Kotes formula $\\hat{I}^{n}_{n-3}$ ($O(h^5)$ for three.\n",
    "\n",
    "$\\hat{I}^n_{n-1} = \\hat{I}^{n}_{n-3} - \\hat{I}^{n-1}_{n-3} = \\frac{3h}{8}(f_{n-3} + 3f_{n-2}+3f_{n-1}+f_{n}) - \\frac{h}{3}(f_{n-3} + 4f_{n-2} + f_{n-1})$\n",
    "\n",
    "$=\\frac{h}{24}(f_{n-3}-5f_{n-2} + 19f_{n-1}+9f_{n})$   $\\ \\ (O(h^5))$\n",
    "\n",
    "\n",
    "\n",
    "\n",
    "\n",
    "\n",
    "\n",
    "\n",
    "\n",
    "\n",
    "\n"
   ]
  },
  {
   "cell_type": "markdown",
   "metadata": {},
   "source": [
    "### 3. Derive the formula of whole $\\hat{I_{a}^{b}}$. Summarize all integrals on segments $\\hat{I_{i}^{i+1}}$ for even case, and for odd case. [mathematical formula]. Usetimation time: ~30m"
   ]
  },
  {
   "cell_type": "markdown",
   "metadata": {
    "pycharm": {
     "name": "#%% md\n"
    }
   },
   "source": [
    "$\\hat{I}_a^b = \\sum_{i=0}^{n-1} I_i^{i+1}, \\ n = \\frac{a-b}{h} \\ if \\ n \\ mod\\ 2 = 0$\n",
    "\n",
    "$ \\hat{I}_a^b = \\sum_{i=0}^{n-2} I_{i}^{i+1} + I_{n-1}^n, \\ n = \\frac{a-b}{h} \\ if \\ n \\ mod\\ 2 = 1 \\\\ I_{n-1}^n = \\frac{h}{24}(f_{n-3}-5f_{n-2} + 19f_{n-1}+9f_{n}) $"
   ]
  },
  {
   "cell_type": "markdown",
   "metadata": {},
   "source": [
    "### 4. Derive the formula of trapezoid quadrature formula error estimation. Use Taylor series expansion for antiderivative $F_{i+1}$ and $f_{i+1}$  [mathematical formula] Usetimation time: ~30m"
   ]
  },
  {
   "cell_type": "markdown",
   "metadata": {
    "pycharm": {
     "name": "#%% md\n"
    }
   },
   "source": [
    "\n",
    "\n",
    "\n",
    "\n",
    "$\\begin{array}{l}{I_{i}^{i+1}-\\hat{I}_{i, \\mathrm{Tp}}^{i+1}=F_{i+1}-F_{i}-\\frac{h_{i+1}}{2}\\left(f_{i}+f_{i+1}\\right)=F_{i}+h_{i+1} f_{i}+\\frac{h_{i+1}^{2}}{2} f_{i}^{\\prime}+\\frac{h_{i+1}^{3}}{6} f^{\\prime \\prime}\\left(\\xi_{i}\\right)-F_{i}-} \\\\ {-\\frac{h_{i+1}}{2}\\left(f_{i}+f_{i}+h_{i+1} f_{i}^{\\prime}+\\frac{h_{i+1}^{2}}{2} f^{\\prime \\prime}\\left(\\xi_{i}\\right)\\right)=\\frac{h_{i+1}^{3}}{6} f^{\\prime \\prime}\\left(\\xi_{i}\\right)-\\frac{h_{i+1}^{3}}{4} f^{\\prime \\prime}\\left(\\xi_{i}\\right)=-\\frac{1}{12} h_{i+1}^{3} f^{\\prime \\prime}\\left(\\xi_{i}\\right)}\\end{array}$\n",
    "\n",
    "\n",
    "\n"
   ]
  },
  {
   "cell_type": "markdown",
   "metadata": {},
   "source": [
    "### Congrats!"
   ]
  }
 ],
 "metadata": {
  "kernelspec": {
   "display_name": "Python 3",
   "language": "python",
   "name": "python3"
  },
  "language_info": {
   "codemirror_mode": {
    "name": "ipython",
    "version": 3
   },
   "file_extension": ".py",
   "mimetype": "text/x-python",
   "name": "python",
   "nbconvert_exporter": "python",
   "pygments_lexer": "ipython3",
   "version": "3.6.8"
  },
  "pycharm": {
   "stem_cell": {
    "cell_type": "raw",
    "source": [],
    "metadata": {
     "collapsed": false
    }
   }
  }
 },
 "nbformat": 4,
 "nbformat_minor": 2
}