{
  "nbformat": 4,
  "nbformat_minor": 0,
  "metadata": {
    "kernelspec": {
      "display_name": "Python 3",
      "language": "python",
      "name": "python3"
    },
    "language_info": {
      "codemirror_mode": {
        "name": "ipython",
        "version": 3
      },
      "file_extension": ".py",
      "mimetype": "text/x-python",
      "name": "python",
      "nbconvert_exporter": "python",
      "pygments_lexer": "ipython3",
      "version": "3.6.8"
    },
    "colab": {
      "name": "ha3.ipynb",
      "provenance": []
    }
  },
  "cells": [
    {
      "cell_type": "code",
      "metadata": {
        "id": "hB14VNFq-DDZ",
        "colab_type": "code",
        "colab": {}
      },
      "source": [
        "import sympy as sp\n",
        "import numpy as np\n",
        "import matplotlib.pyplot as plt"
      ],
      "execution_count": 0,
      "outputs": []
    },
    {
      "cell_type": "markdown",
      "metadata": {
        "id": "Rngt_Hg5-DDb",
        "colab_type": "text"
      },
      "source": [
        "### 1. Derive formula of $L_{2}(x)$ in terms of interpolation phase $ u = \\frac{x - x_{i}}{h} $.  Integrate $ \\hat{I_{i}^{i+2}}$ with received formula as integrand  [mathematical formula]. Usetimation time: ~30m"
      ]
    },
    {
      "cell_type": "markdown",
      "metadata": {
        "id": "iGM0YEHT-DDc",
        "colab_type": "text"
      },
      "source": [
        "**Note** Use constant step $h = const$ and condition *number of segments is even* $n = 2k$"
      ]
    },
    {
      "cell_type": "markdown",
      "metadata": {
        "id": "vm0Bnsw8IVgm",
        "colab_type": "text"
      },
      "source": [
        "$L_2(x) = \n",
        "\\frac{(x - x_{i+1})(x - x_{i+2})}\n",
        "{(x_i - x_{i+1})(x_i - x_{i+2})} f_i + \n",
        "\\frac{(x - x_{i})(x - x_{i+2})}\n",
        "{(x_{i+1} - x_{i})(x_{i+1} - x_{i+2})} f_{i+1}+\n",
        "\\frac{(x - x_{i})(x - x_{i+1})}\n",
        "{(x_{i+2} - x_{i})(x_{i+2} - x_{i+1})} f_{i+2}\n",
        "$\n",
        "\n",
        "$| \\ u=\\frac{x-x_i}{h}; \\ h = x_{i+1} - x_i = const; \\ x_{i+2} - x_{i} = 2h$\n",
        "\n",
        "$L_2(x) = (\\frac{x - x_{i}}{x_{i+1} - x_{i}} - 1)(\\frac{x - x_{i}}{2(x_{i+1} - x_{i})} - 1)f_i + (\\frac{x - x_{i}}{x_{i+1} - x_{i}})(\\frac{x - x_{i}}{x_{i+1} - x_{i}} - 2)f_{i+1} + (\\frac{x - x_{i}}{2(x_{i+1} - x_{i})})(\\frac{x - x_{i}}{x_{i+1} - x_{i}} - 1)f_{i+2}\n",
        "$\n",
        "\n",
        "$L_2(x) = \\frac{1}{2}(u-1)(u-2)f_i+u(u-2)f_{i+1}+\\frac{1}{2}u(u-1)f_{i+2}$\n",
        "\n",
        "$| \\ dx = h*du; \\ x = x_i => u = 0; x = x_{i+1} => u = 1; x = x_{i+2} => u=2$\n",
        "\n",
        "$\\hat{I_i^{i+2}}=\\int_{x_i}^{x_{i+2}}L_2(x)dx = h*\\int_{0}^{2}(\\frac{1}{2}(u-1)(u-2)f_i+u(u-2)f_{i+1}+\\frac{1}{2}u(u-1)f_{i+2})du = \\frac{h}{3}(f_i + 4f_{i+1}+f_{i+2})$"
      ]
    },
    {
      "cell_type": "markdown",
      "metadata": {
        "id": "aJhl1a_C-DDe",
        "colab_type": "text"
      },
      "source": [
        "### 2. Explain how used condition $n = 2k$ helps us in integration. If we want to use odd number of segments we have to integrate with even number of segments but add the value $I_{n-1}^n$. What is the calculation accuracy order of $I_{n-1}^n$? Why? Explain both. [mathematical formula]. Usetimation time: ~30m"
      ]
    },
    {
      "cell_type": "markdown",
      "metadata": {
        "id": "D8ObytfrIWwp",
        "colab_type": "text"
      },
      "source": [
        "When we use Simpson's formula (double-interval quadrature formula of parabolas) we calculate $\\hat{I}_{i-1}^{i+1}$ for $2$ intervals $([x_{i-1},x_{i}]; \\ [x_i,x_{i+1}])$\n",
        "\n",
        "Which is perfect when we have even n (and $n=2k$ guaranties us that)\n",
        "\n",
        "calculation accuracy for last segment is $O(h^5)$ because calculation accuracy of the Simpson's formula is $O(h^5)$   (we have $O(h^4)$ due to order matching rule and plus one due to simmetry of the formula when $h=const$) "
      ]
    },
    {
      "cell_type": "markdown",
      "metadata": {
        "id": "kNPUymCb-DDg",
        "colab_type": "text"
      },
      "source": [
        "### 3. Derive the formula of whole $\\hat{I_{a}^{b}}$. Summarize all integrals on segments $\\hat{I_{i}^{i+1}}$ for even case, and for odd case. [mathematical formula]. Usetimation time: ~30m"
      ]
    },
    {
      "cell_type": "markdown",
      "metadata": {
        "id": "5dPff9_bIX45",
        "colab_type": "text"
      },
      "source": [
        "even case:\n",
        "\n",
        "$| \\ n = 2k$\n",
        "\n",
        "$\\hat{I}_a^b =\\sum\\limits_{i = 0}^{k - 1} \\hat{I}_{2i}^{2i+2} = \\frac{h}{3}(f_0 + 4f_{1}+f_{2}) + \\frac{h}{3}(f_2 + 4f_{3}+f_{4}) + \\ldots + \\frac{h}{3}(f_{n-2} + 4f_{n-1}+f_{2}) = \\frac{h}{3}(f_0+4(f_1+f_3+\\ldots+f_{2k-1}) + 2(f_2+f_4+\\ldots+f_{2k-2}) + f_n)=\n",
        "\\frac{h}{3}(f_0+4\\sum\\limits_{i=1}^{k}f_{2i-1}+2\\sum\\limits_{i=1}^{k-1}f_{2i} + f_{2k})$\n",
        "\n",
        "odd case:\n",
        "\n",
        "$| \\ n-3 = 2k$\n",
        "\n",
        "$\\hat{I}_a^b =\\sum\\limits_{i = 0}^{k - 1} \\hat{I}_{2i}^{2i+2} + \\hat{I}_{n-3}^n$\n",
        "\n",
        "$using \\ Simpson's \\ 3/8 \\ rule \\ for \\ the \\ last \\ segment$\n",
        "\n",
        "$\\hat{I}_a^b =\\frac{h}{3}(f_0+4\\sum\\limits_{i=1}^{k}f_{2i-1}+2\\sum\\limits_{i=1}^{k-1}f_{2i} + f_{2k}) + \\frac{3h}{8}(f_{n-3}+3f_{n-2}+3f_{n-1}+f_n)$\n"
      ]
    },
    {
      "cell_type": "markdown",
      "metadata": {
        "id": "VNMhLpCO-DDi",
        "colab_type": "text"
      },
      "source": [
        "### 4. Derive the formula of trapezoid quadrature formula error estimation. Use Taylor series expansion for antiderivative $F_{i+1}$ and $f_{i+1}$  [mathematical formula] Usetimation time: ~30m"
      ]
    },
    {
      "cell_type": "markdown",
      "metadata": {
        "id": "1IRlzQFkIYwz",
        "colab_type": "text"
      },
      "source": [
        "Error can be estimated as $I_i^{i+1} - \\hat{I}_i^{i+1}$\n",
        "\n",
        "$| \\ substitute \\ I_i^{i+1} \\ with \\ F_{i+1} - F_i \\ and \\ expand \\ F(x) \\ and \\ functions \\ at \\ right \\ side \\ of \\ quadrature \\ formula \\ by \\ Taylor \\ series \\ relative \\ to \\ point \\ x_i$\n",
        "\n",
        "$I_i^{i+1} - \\hat{I}_i^{i+1} = F_{i+1} - F_i - \\frac{h_{i+1}}{2}(f_i+f_{i+1}) = F_i + h_{i+1}f_i+\\frac{h_{i+1}^{2}}{2}f_i'+\\frac{h_{i+1}^{3}}{6}f''(\\xi_i)-F_i-\\frac{h_{i+1}}{2}(f_i+f_i+h_{i+1}f'_i+\\frac{h_{i+1}^{2}}{2}f''(\\xi_i)) = \\frac{h_{i+1}^{3}}{6}f''(\\xi_i)-\\frac{h_{i+1}^{3}}{4}f''(\\xi_i)=\n",
        "-\\frac{1}{12}h_{i+1}^{3}f''(\\xi_i)$\n",
        "\n",
        "$| \\ \\xi_i \\in (x_i,x_{i+1})$\n",
        "\n",
        "$|I_i^{i+1} - \\hat{I}_i^{i+1}| \\le \\frac{max_{[x_i,x_{i+1}]}|f''(x)|}{12}h_{i+1}^3$\n",
        "\n",
        "To find error of estimating $I_a^b$ we have to sum $I_i^{i+1} - \\hat{I}_i^{i+1}=\n",
        "-\\frac{1}{12}h_{i+1}^{3}f''(\\xi_i)$ by all intervals\n",
        "\n",
        "$I_a^{b} - \\hat{I}_a^{b}=\n",
        "-\\frac{1}{12}h^{3}(f''(\\xi_0)+f''(\\xi_1)+f''(\\xi_2)+\\ldots+f''(\\xi_{n-1})) = -\\frac{h^3}{12}nf''(\\xi), \\ \\xi \\in[a,b]$\n",
        "\n",
        "$| \\ n = \\frac{b-a}{h}$\n",
        "\n",
        "$|I_a^{b} - \\hat{I}_a^{b}| \\le \\frac{max_{[a,b]}|f''(x)|}{12}(b-a)h^2$"
      ]
    },
    {
      "cell_type": "markdown",
      "metadata": {
        "id": "WtkjhDyL-DDk",
        "colab_type": "text"
      },
      "source": [
        "### Congrats!"
      ]
    }
  ]
}