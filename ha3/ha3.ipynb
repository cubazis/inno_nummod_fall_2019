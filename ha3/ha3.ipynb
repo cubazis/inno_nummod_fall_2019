{
 "cells": [
  {
   "cell_type": "code",
   "execution_count": 1,
   "metadata": {},
   "outputs": [],
   "source": [
    "import sympy as sp\n",
    "import numpy as np\n",
    "import matplotlib.pyplot as plt"
   ]
  },
  {
   "cell_type": "markdown",
   "metadata": {},
   "source": [
    "### 1. Derive formula of $L_{2}(x)$ in terms of interpolation phase $ u = \\frac{x - x_{i}}{h} $.  Integrate $ \\hat{I_{i}^{i+2}}$ with received formula as integrand  [mathematical formula]. Usetimation time: ~30m"
   ]
  },
  {
   "cell_type": "markdown",
   "metadata": {},
   "source": [
    "**Note** Use constant step $h = const$ and condition *number of segments is even* $n = 2k$"
   ]
  },
  {
   "cell_type": "markdown",
   "metadata": {},
   "source": [
    "$L_2(x) = \\frac{(x-x_{i+1})(x-x_{i+2})}{(x_i-x_{i+1})(x_i-x_{i+2})}f_i + \\frac{(x-x_{i})(x-x_{i+2})}{(x_{i+1}-x_{i})(x_{i+1}-x_{i+2})}f_{i+1} + \\frac{(x-x_{i})(x-x_{i+1})}{(x_{i+2}-x_{i})(x_{i+2}-x_{i+1})}f_{i+2}$\n",
    "\n",
    "$u = \\frac{x-x_i}{h} \\Rightarrow x-x_i = uh$\n",
    "\n",
    "$x-x_{i+1} = x-(x_i+h) = x-x_i-h = uh-h = h(u-1)$\n",
    "\n",
    "$x-x_{i+2} = x-(x_i+2h) = x-x_i-2h = uh-2h = h(u-2)$\n",
    "\n",
    "$L_2(x) = \\frac{h(u-1)h(u-2)}{-h*(-2h)}f_i + \\frac{uh*h(u-2)}{h*(-h)}f_{i+1} + \\frac{uh*h(u-1)}{2h*h}f_{i+2} = \\frac{(u-1)(u-2)}{2}f_i - u(u-2)f_{i+1} + \\frac{u(u-1)}{2}f_{i+2}$\n",
    "\n",
    "$\\hat{I}_{i}^{i+2} = \\int_{x_i}^{x_{i+2}} L_2(x)dx$\n",
    "\n",
    "$u = \\frac{x-x_i}{h} = \\frac{x_{i+2}-x_i}{h} = \\frac{2h}{h} = 2$\n",
    "\n",
    "$u = \\frac{x-x_i}{h} = \\frac{x_{i}-x_i}{h} = 0$\n",
    "\n",
    "$du = \\frac{dx}{h} \\Rightarrow dx = hdu$\n",
    "\n",
    "$\\hat{I}_{i}^{i+2} = \\int_{0}^{2} [\\frac{(u-1)(u-2)}{2}f_i - u(u-2)f_{i+1} + \\frac{u(u-1)}{2}f_{i+2}]hdu = [(\\frac{u^3}{6} - \\frac{3u^2}{4} + u)|_0^2 f_i - (\\frac{u^3}{3}-u^2)|_0^2 f_{i+1} + (\\frac{u^3}{6}-\\frac{u^2}{4})|_0^2 f_{i+2}]h = [(\\frac{8}{6} - \\frac{12}{4} + 2)f_i - (\\frac{8}{3} - 4)f_{i+1} + (\\frac{8}{6} - \\frac{4}{4})f_{i+2}]h = \\frac{hf_i}{3} + \\frac{4hf_{i+1}}{3} + \\frac{hf_{i+2}}{3} = \\frac{h}{3}(f_i + 4f_{i+1} + f_{i+2})$"
   ]
  },
  {
   "cell_type": "markdown",
   "metadata": {},
   "source": [
    "### 2. Explain how used condition $n = 2k$ helps us in integration. If we want to use odd number of segments we have to integrate with even number of segments but add the value $I_{n-1}^n$. What is the calculation accuracy order of $I_{n-1}^n$? Why? Explain both. [mathematical formula]. Usetimation time: ~30m"
   ]
  },
  {
   "cell_type": "markdown",
   "metadata": {},
   "source": [
    "If number of intervals is even, we always can use a three-point template. If this number were odd, we have to use an $L_{3}$ curve on last 3 intervals or Trapezoid rule for last interval.\n",
    "\n",
    "$\\hat{I}_{x_{n-1}}^{x_{n}} = \\hat{I}_{x_{n-3}}^{x_{n}} - \\hat{I}_{x_{n-3}}^{x_{n-1}}$. Both values have orders of accuracy of $O(h^{5})$. First given by Simpson's 3/8 rule and second is from usual Simpson's rule (both are Closed Newton–Cotes formulas for different number of intervals). Therefore, calculation accuracy order of $\\hat{I}_{x_{n-1}}^{x_{n}}$ will be $O(h^5)$, too."
   ]
  },
  {
   "cell_type": "markdown",
   "metadata": {},
   "source": [
    "### 3. Derive the formula of whole $\\hat{I_{a}^{b}}$. Summarize all integrals on segments $\\hat{I_{i}^{i+1}}$ for even case, and for odd case. [mathematical formula]. Usetimation time: ~30m"
   ]
  },
  {
   "cell_type": "markdown",
   "metadata": {},
   "source": [
    "#### Even case:\n",
    "\n",
    "$\\hat{I}_a^b = \\sum_{i=0}^{n-2} \\frac{h}{3}(f_i + 4f_{i+1} + f_{i+2})$\n",
    "\n",
    "\n",
    "$\\hat{I}_a^b = \\frac{h}{3}(f_0 + 4f_1 + f_2 + f_2 + 4f_3 + f_4 + f_4 + 4f_5 + ... + f_n) = \\frac{h}{3}(f_0 + 4(f_1+f_3+...+f_{2k-1}) + 2(f_2+f_4+...+f_{2k-2})+f_n) = \\frac{h}{3}(f_0 + 4\\sum_{i=1}^{k}f_{2i-1} + 2\\sum_{i=1}^{k-1}f_{2i} + f_{2k})$\n",
    "\n",
    "#### Odd case:\n",
    "\n",
    "We know:\n",
    "\n",
    "$\\hat{I}_{n-3}^n = \\frac{3h}{8}(f_{n-3} + 3f_{n-2} + 3f_{n-1} + f_{n})$ \n",
    "\n",
    "$\\hat{I}_{n-3}^{n-1} = \\frac{h}{3}(f_{n-3} + 4f_{n-2} + f_{n-1})$\n",
    "\n",
    "$I_{n-1}^n = \\hat{I}_{n-3}^n - \\hat{I}_{n-3}^{n-1} = \\frac{3h}{8}(f_{n-3} + 3f_{n-2} + 3f_{n-1} + f_{n}) - \\frac{h}{3}(f_{n-3} + 4f_{n-2} + f_{n-1}) = \\frac{h}{24}(f_{n-3} - 5f_{n-2} + 19f_{n-1} + 9f_{n})$\n",
    "\n",
    "So,\n",
    "\n",
    "$\\hat{I}_{a}^{b} = \\frac{h}{3}(f_0 + 4\\sum_{i=1}^{k}f_{2i-1} + 2\\sum_{i=2}^{k}f_{2i} + f_{2k}) + \\frac{h}{24}(f_{n-3} - 5f_{n-2} + 19f_{n-1} + 9f_{n})$"
   ]
  },
  {
   "cell_type": "markdown",
   "metadata": {},
   "source": [
    "### 4. Derive the formula of trapezoid quadrature formula error estimation. Use Taylor series expansion for antiderivative $F_{i+1}$ and $f_{i+1}$  [mathematical formula] Usetimation time: ~30m"
   ]
  },
  {
   "cell_type": "markdown",
   "metadata": {},
   "source": [
    "$\\hat{I}_i^{i+1} = h_{i+1}\\frac{f_i+f_{i+1}}{2}$\n",
    "\n",
    "$I_i^{i+1} = F_{i+1} - F_i$\n",
    "\n",
    "$I_i^{i+1} - \\hat{I}_i^{i+1} = F_{i+1} - F_i - h_{i+1}\\frac{f_i+f_{i+1}}{2} = F_i + h_{i+1}f_i + \\frac{h_{i+1}^2}{2}f_i^{'} + \\frac{h_{i+1}^3}{6}f^{''}(\\xi_i) - F_i - \\frac{h_{i+1}}{2}(f_i+f_i+h_{i+1}f_i^{'} + \\frac{h_{i+1}^2}{2}f^{''}(\\xi_i)) = \\frac{h_{i+1}^3}{6}f^{''}(\\xi_i) - \\frac{h_{i+1}^3}{4}f^{''}(\\xi_i) = -\\frac{1}{12}h_{i+1}^3 f^{''}(\\xi_i),$\n",
    "\n",
    "where $\\xi_i \\in (x_i, x_{i+1})$, so:\n",
    "\n",
    "$|I_i^{i+1} - \\hat{I}_i^{i+1}| \\leq \\frac{M_{2,i}}{12}h_{i+1}^3,$\n",
    "\n",
    "$M_{2,i} = \\max_{[x_i, x_{i+1}]}|f^{''}(x)|$"
   ]
  },
  {
   "cell_type": "markdown",
   "metadata": {},
   "source": [
    "### Congrats!"
   ]
  }
 ],
 "metadata": {
  "kernelspec": {
   "display_name": "Python 3",
   "language": "python",
   "name": "python3"
  },
  "language_info": {
   "codemirror_mode": {
    "name": "ipython",
    "version": 3
   },
   "file_extension": ".py",
   "mimetype": "text/x-python",
   "name": "python",
   "nbconvert_exporter": "python",
   "pygments_lexer": "ipython3",
   "version": "3.7.3"
  }
 },
 "nbformat": 4,
 "nbformat_minor": 2
}
