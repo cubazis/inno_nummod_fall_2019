{
 "cells": [
  {
   "cell_type": "code",
   "execution_count": 1,
   "metadata": {},
   "outputs": [],
   "source": [
    "import sympy as sp\n",
    "import numpy as np\n",
    "import matplotlib.pyplot as plt"
   ]
  },
  {
   "cell_type": "markdown",
   "metadata": {},
   "source": [
    "### 1. Derive formula of $L_{2}(x)$ in terms of interpolation phase $ u = \\frac{x - x_{i}}{h} $.  Integrate $ \\hat{I_{i}^{i+2}}$ with received formula as integrand  [mathematical formula]. Usetimation time: ~30m"
   ]
  },
  {
   "cell_type": "markdown",
   "metadata": {},
   "source": [
    "**Note** Use constant step $h = const$ and condition *number of segments is even* $n = 2k$"
   ]
  },
  {
   "cell_type": "markdown",
   "metadata": {},
   "source": [
    "$f \\tilde{} L_2 = \\frac{(x-x_{i+1})(x-x_{i+2})}{(x_i-x_{i+1})(x_i-x_{i+2})}f_i + \\frac{(x-x_i)(x-x_{i+2})}{(x_{i+1}-x_i)(x_{i+1}-x_{i+2})}f_{i+1} + \\frac{(x-x_i)(x-x_{i+1})}{(x_{i+2}-x_i)(x_{i+2}-x_{i+1})}f_{i+2}$ <br>\n",
    "\n",
    "$\\frac{(x-x_{i+1})(x-x_{i+2})}{(x_i-x_{i+1})(x_i-x_{i+2})} = \\frac{(x-x_{i+1}+x_i-x_i)(x-x_{i+1} - (x_{i+1}-x_i))}{(x_{i+1} - x_i)((x_{i+2} - x_{i+1}) + (x_{i+1} - x_i))} = \\frac{(u - 1) (x - x_i - 2x_{i+1} + 2x_i)}{2h} = \\frac{(u - 1)(u - 2)}{2}$ <br>\n",
    "\n",
    "$\\frac{(x-x_i)(x-x_{i+2})}{(x_{i+1}-x_i)(x_{i+1}-x_{i+2})} = -u(u-2)$ <br>\n",
    "\n",
    "$\\frac{(x-x_i)(x-x_{i+1})}{(x_{i+2}-x_i)(x_{i+2}-x_{i+1})} = \\frac{(x-x_i)(x-x_{i+1}+x_i-x_i)}{h * 2h} = \\frac{u(u-1)}{2}$ <br>\n",
    "\n",
    "$f \\tilde{} L_2 = \\int_{x_i}^{x_{i+2}}(\\frac{(u-1)(u-2)}{2}f_i - u(u-2)f_{i+1} + \\frac{u(u-1)}{2}f_{i+2})hdu = \\int_{x_i}^{x_{i+2}}(\\frac{u^2-3u+2}{2}f_i - u^2f_{i+1} + 2uf_{i+1} + \\frac{u^2-u}{2}f_{i+2})hdu = \n",
    "h((\\frac{u^3}{6} - \\frac{3u^2}{4} + u)f_i - (\\frac{u^3}{3} - u^2)f_{i+1} + (\\frac{u^3}{6} - \\frac{u^2}{4})f_{i+2})|_0^2 =\n",
    " \\frac{h}{3}(f_i + 4f_{i+1} + f_{i+2})$\n"
   ]
  },
  {
   "cell_type": "markdown",
   "metadata": {},
   "source": [
    "### 2. Explain how used condition $n = 2k$ helps us in integration. If we want to use odd number of segments we have to integrate with even number of segments but add the value $I_{n-1}^n$. What is the calculation accuracy order of $I_{n-1}^n$? Why? Explain both. [mathematical formula]. Usetimation time: ~30m"
   ]
  },
  {
   "cell_type": "markdown",
   "metadata": {},
   "source": [
    "Мы разбиваем на четное кол-во отрезков потому что у нас трехточечный шаблон и мы берем в интегрирование сразу 3 точки (или 2 отрезка) (например это первый интеграл: $\\int_{x_0}^{x_{2}}f$, это второй: $\\int_{x_2}^{x_{4}}f$ и т.д.). При нечетном кол-ве отрезков у нас один остается в конце и мы должны его проинтегрировать отдельно. Его порядок будет составлять $O(h^5)$.\n",
    "\n",
    "\n",
    "\n",
    "\n",
    "\n",
    "\n",
    "\n"
   ]
  },
  {
   "cell_type": "markdown",
   "metadata": {},
   "source": [
    "### 3. Derive the formula of whole $\\hat{I_{a}^{b}}$. Summarize all integrals on segments $\\hat{I_{i}^{i+1}}$ for even case, and for odd case. [mathematical formula]. Usetimation time: ~30m"
   ]
  },
  {
   "cell_type": "markdown",
   "metadata": {},
   "source": [
    "$\\hat{I}_a^b = \\sum_{i=0}^{n-1} \\hat{I}_{x_i}^{x_{i+2}} = \\sum_{i=0}^{n-1} \\frac{h}{3}(f_i + 4f_{i+1} + f_{i+2}) = \\frac{h}{3}( f_0 + 4(f_1 + f_3 + \\dots + f_{2k-1}) + 2(f_2 + f_4 + \\dots + f_{2k-2}) + f_n) = \\frac{h}{3}(f_0 + 4\\sum_{i=1}^{k} f_{2i-1} +  2\\sum_{i=1}^{k-1} f_{2i} + f_{2k})$ <br>\n",
    "\n",
    "где $n=2k$\n"
   ]
  },
  {
   "cell_type": "markdown",
   "metadata": {},
   "source": [
    "### 4. Derive the formula of trapezoid quadrature formula error estimation. Use Taylor series expansion for antiderivative $F_{i+1}$ and $f_{i+1}$  [mathematical formula] Usetimation time: ~30m"
   ]
  },
  {
   "cell_type": "markdown",
   "metadata": {},
   "source": [
    "Формула тейлора для функции и первообразной в окрестности точки $x_i$ равны:\n",
    "\n",
    "$F_{i+1} = F_i + h_{i+1}f_i + \\frac{h_{i+1}^2}{2}f_i^{'}+\\frac{h_{i+1}^3}{6}f^{''}(\\xi_i)$ <br>\n",
    "$f_{i+1} = f_i + h_{i+1}f_i^{'}+\\frac{h_{i+1}^2}{2}f^{''}(\\xi_i)$\n",
    "\n",
    "Тогда формула ошибки для соседних точек равна:\n",
    "\n",
    "$I_i^{i+1} - \\hat{I}_i^{i+1} = F_{i+1} - F_i - \\frac{h_{i+1}}{2}(f_i + f_{i+1}) = F_i + h_{i+1}f_i + \\frac{h_{i+1}^2}{2}f_i^{'}+\\frac{h_{i+1}^3}{6}f^{''}(\\xi_i) - F_i - \\frac{h_{i+1}}{2}(f_i + f_i + h_{i+1}f_i^{'}+\\frac{h_{i+1}^2}{2}f^{''}(\\xi_i)) = $ <br>\n",
    "$= \\frac{h_{i+1}^3}{6}f^{''}(\\xi_i) - \\frac{h_{i+1}^3}{4}f^{''}(\\xi_i) = -\\frac{h_{i+1}^3}{12}f^{''}(\\xi_i)$\n",
    "\n",
    "Обобщаем для всего отрезка:\n",
    "\n",
    "$I_a^b - \\hat{I}_a^b = -\\frac{1}{12}h^3(f^{''}(\\xi_0) + \\dots + f^{''}(\\xi_{n-1})) = -\\frac{h^3}{12}nf^{''}(\\xi)$\n",
    "\n",
    "Подставляем $n = \\frac{b-a}{h}$ и $M_2 = \\max\\limits_{[a,b]}|f^{''}(x)|$ получаем\n",
    "\n",
    "$|I_a^b - \\hat{I}_a^b| \\leq \\frac{M_2}{12}(b - a)h^2 $"
   ]
  },
  {
   "cell_type": "markdown",
   "metadata": {},
   "source": [
    "### Congrats!"
   ]
  }
 ],
 "metadata": {
  "kernelspec": {
   "display_name": "Python 3",
   "language": "python",
   "name": "python3"
  },
  "language_info": {
   "codemirror_mode": {
    "name": "ipython",
    "version": 3
   },
   "file_extension": ".py",
   "mimetype": "text/x-python",
   "name": "python",
   "nbconvert_exporter": "python",
   "pygments_lexer": "ipython3",
   "version": "3.6.4"
  }
 },
 "nbformat": 4,
 "nbformat_minor": 2
}
