{
 "cells": [
  {
   "cell_type": "code",
   "execution_count": 1,
   "metadata": {},
   "outputs": [],
   "source": [
    "import sympy as sp\n",
    "import numpy as np\n",
    "import matplotlib.pyplot as plt"
   ]
  },
  {
   "cell_type": "markdown",
   "metadata": {},
   "source": [
    "### 1. Derive formula of $L_{2}(x)$ in terms of interpolation phase $ u = \\frac{x - x_{i}}{h} $.  Integrate $ \\hat{I_{i}^{i+2}}$ with received formula as integrand  [mathematical formula]. Usetimation time: ~30m"
   ]
  },
  {
   "cell_type": "markdown",
   "metadata": {},
   "source": [
    "**Note** Use constant step $h = const$ and condition *number of segments is even* $n = 2k$"
   ]
  },
  {
   "cell_type": "markdown",
   "metadata": {},
   "source": [
    "$L_2(x) = \\frac{(x-x_{i+1})(x-x_{i+2})}{(x_i-x_{i+1})(x_i-x_{i+2})}f_i + \\frac{(x-x_{i})(x-x_{i+2})}{(x_{i+1}-x_i)(x_{i+1}-x_{i+2})}f_{i+1} + \\frac{(x-x_{i})(x-x_{i+1})}{(x_{i+2}-x_i)(x_{i+2}-x_{i+1})}f_{i+2}$\n",
    "\n",
    "(1) $L_2(x) = \\frac{(x-x_{i}-h)(x - x_i - 2h)}{(-h)(-2h)}f_i + \\frac{(x-x_{i})(x-x_{i}-2h)}{(h)(-h)}f_{i+1} + \\frac{(x-x_{i})(x-x_{i}-h)}{(2h)(h)}f_{i+2}$\n",
    "\n",
    "----------\n",
    "\n",
    "$u = \\frac{x - x_{i}}{h}$\n",
    "\n",
    "Substitute $u$ into (1):\n",
    "\n",
    "$L_2(u) = (u - 1)(\\frac{u}{2} - 1)f_i + u(u - 2)f_{i+1} + \\frac{u(u - 1)}{2}f_{i+2}$\n",
    "\n",
    "----------\n",
    "\n",
    "$\\hat{I}^{i+2}_i = \\int_{x_i}^{x_{i+2}} f(x)dx$\n",
    "\n",
    "Let's define $du*h = dx$ for integration.\n",
    "\n",
    "Let's find lower value of limit $\\frac{x_{i} - x_{i}}{h} = 0$ and upper value of limit $\\frac{x_{i+2} - x_{i}}{h} = \\frac{h + x_{i+1} - x_{i}}{h} = \\frac{h + h}{h} = 2$\n",
    "\n",
    "\n",
    "$\\hat{I}^{i+2}_i = \\int_{x_i}^{x_{i+2}} L_{2}(x)dx$\n",
    "\n",
    "Substitute with $L(u)$:\n",
    "\n",
    "$\\hat{I}^{i+2}_i = \\int_{0}^{2} L_{2}(u)hdu = \\int_{0}^{2}[(u-1)(\\frac{u}{2}-1)f_i-u(u-2)f_{i+1} + \\frac{u(u-1)}{2}f_{i+2}]hdu $\n",
    "\n",
    "$= [(\\frac{u^3}{6}-\\frac{3u^2}{4}+u)f_i-(\\frac{u^3}{3}-u^2)f_{i+1} + (\\frac{u^3}{6}-\\frac{u^2}{4})f_{i+2}]h |_0^2  $\n",
    "\n",
    "$ =[(\\frac{8}{6}- 3 +2)f_i-(\\frac{8}{3}-4)f_{i+1} + (\\frac{8}{6}-1)f_{i+2}]h   $\n",
    "\n",
    "$= [\\frac{1}{3}f_i+\\frac{4}{3}f_{i+1} + \\frac{1}{3}f_{i+2}]h   $\n",
    "\n",
    "$ = [f_i+4f_{i+1} + f_{i+2}]\\frac{h}{3} $\n",
    "\n",
    "\n",
    "\n",
    "\n",
    "\n",
    "\n"
   ]
  },
  {
   "cell_type": "markdown",
   "metadata": {},
   "source": [
    "### 2. Explain how used condition $n = 2k$ helps us in integration. If we want to use odd number of segments we have to integrate with even number of segments but add the value $I_{n-1}^n$. What is the calculation accuracy order of $I_{n-1}^n$? Why? Explain both. [mathematical formula]. Usetimation time: ~30m"
   ]
  },
  {
   "cell_type": "markdown",
   "metadata": {},
   "source": [
    "$n = 2k$ conditions, helps us to construct full three-point template. As we see from ex. 1, each adjacent segment starts with even point (because first will be $0$, then $2$, etc.). However, for odd number of points, the problem occurs with the last segment $\\hat{I}_{n-1}{n+1}$, where we will miss $x_{n+1}$.\n",
    "\n",
    "Thus, in order to use odd number of segments, we integrate as usual with even number of segments and add the value $\\hat{I}_{n-1}^{n}$\n",
    "\n",
    "----\n",
    "\n",
    "(1) $\\hat{I}_{n-1}^{n} = \\hat{I}_{n-3}^{n} - \\hat{I}_{n-3}^{n-1}$\n",
    "\n",
    "Where:\n",
    "\n",
    "$\\hat{I}_{n-3}^{n}$ is Simpson $3/8$ rule:\n",
    "\n",
    "(2) $\\hat{I}_{n-3}^{n} = \\frac{3h}{8} (f_{n-3} + 3f_{n-2} + 3f_{n-1} + f_{n})$, with calculation accuracy $O(h^5)$\n",
    "\n",
    "$\\hat{I}_{n-3}^{n-1}$ taken from formula from ex. 1:\n",
    "\n",
    "(3) $\\hat{I}_{n-3}^{n-1} = [f_{n-3} + 4f_{n-2} + f_{n-1}]\\frac{h}{3}$, with calculation accuracy $O(h^5)$\n",
    "\n",
    "---\n",
    "\n",
    "Substitute (2), (3) into (1):\n",
    "\n",
    "$\\hat{I}_{n-1}^{n} = \\frac{3h}{8} (f_{n-3} + 3f_{n-2} + 3f_{n-1} + f_{n}) - [f_{n-3} + 4f_{n-2} + f_{n-1}]\\frac{h}{3} = \\frac{3h}{8}f_{n-3} + \\frac{9h}{8}f_{n-2} + \\frac{9h}{8}f_{n-1} + \\frac{3h}{8}f_{n} - \\frac{h}{3}f_{n-3} - \\frac{4h}{3}f_{n-2} - \\frac{h}{3}f_{n-1}$\n",
    "\n",
    "$= \\frac{9h}{24}f_{n-3} + \\frac{27h}{24}f_{n-2} + \\frac{27h}{24}f_{n-1} + \\frac{9h}{24}f_{n} - \\frac{8h}{24}f_{n-3} - \\frac{32h}{24}f_{n-2} - \\frac{8h}{24}f_{n-1}$\n",
    "\n",
    "$= \\frac{h}{24}f_{n-3} - \\frac{5h}{24}f_{n-2} + \\frac{19h}{24}f_{n-1} + \\frac{9h}{24}f_{n}$\n",
    "\n",
    "$= \\frac{h}{24}[f_{n-3} - 5f_{n-2} + 19f_{n-1} + 9f_{n}]$\n",
    "\n",
    "---\n",
    "\n",
    "As both (2) and (3) have accuracy $O(h^5)$, their difference also will have accuracy $O(h^5)$."
   ]
  },
  {
   "cell_type": "markdown",
   "metadata": {},
   "source": [
    "### 3. Derive the formula of whole $\\hat{I_{a}^{b}}$. Summarize all integrals on segments $\\hat{I_{i}^{i+1}}$ for even case, and for odd case. [mathematical formula]. Usetimation time: ~30m"
   ]
  },
  {
   "cell_type": "markdown",
   "metadata": {},
   "source": [
    "$\\hat{I}^{b}_a = \\sum_{j=0}^{l}\\hat{I}^{j}$, where $j$ is the number of integrand, $l$ - number if integrands.\n",
    "\n",
    "-------\n",
    "\n",
    "Even case with $n = 2k$:\n",
    "\n",
    "$\\hat{I}^{b}_a = \\frac{h}{3}[\\hat{I}^{2}_0 + \\hat{I}^{4}_2 + \\hat{I}^{6}_4 + \\dots + \\hat{I}^{n}_{n-2}] = \\frac{h}{3}[(f_0+4f_1+f_2)+(f_2+4f_3+f_4) + \\dots + (f_{n-2}+4f_{n-1}+f_n)] = \\frac{h}{3}[(f_0+4(f_1+f_3+\\dots+f_{2k-1}) + 2(f_2+f_4+\\dots+f_{2k-2})+f_{2k}]$ \n",
    "\n",
    "$= \\frac{h}{3}[f_0+4\\sum_{i=1}^{k}f_{2i-1}+2\\sum_{i=1}^{k-1}f_{2i}+f_{2k}]$ \n",
    "\n",
    "-------\n",
    "\n",
    "Odd case:\n",
    "\n",
    "$\\hat{I}^{b}_a = \\frac{h}{3}[\\hat{I}^{2}_0 + \\hat{I}^{4}_2 + \\hat{I}^{6}_4 + \\dots + \\hat{I}^{n-1}_{n-3}] + \\hat{I}^n_{n-1} = \\frac{h}{3}[f_0+4\\sum_{i=1}^{k-1}f_{2i}+2\\sum_{i=1}^{k-1}f_{2i+1}+f_{2k}] + \\frac{h}{24}[f_{2k-2} - 5f_{2k-1} + 19f_{2k} + 9f_{2k+1}]$"
   ]
  },
  {
   "cell_type": "markdown",
   "metadata": {},
   "source": [
    "### 4. Derive the formula of trapezoid quadrature formula error estimation. Use Taylor series expansion for antiderivative $F_{i+1}$ and $f_{i+1}$  [mathematical formula] Usetimation time: ~30m"
   ]
  },
  {
   "cell_type": "markdown",
   "metadata": {},
   "source": [
    "Trapezoid quadratic formula:\n",
    "(1) $\\hat{I}_{i, tr}^{i+1} = h_{i + 1} \\frac{f_i + f_{i+1}}{2}$\n",
    "\n",
    "Trapezoid quadrature formula error:\n",
    "(2) $I_{i}^{i+1} - \\hat{I}_{i, tr}^{i+1}$\n",
    "\n",
    "-----\n",
    "\n",
    "To find integral:\n",
    "(3) $I_{i}^{i+1} = F_{i+1} - F_i$\n",
    "\n",
    "-----\n",
    "\n",
    "Substitute (1), (3) into (2):\n",
    "\n",
    "(4) $I_{i}^{i+1} - \\hat{I}_{i, tr}^{i+1} = F_{i+1} - F_{i} - h_{i+1} \\frac{f_i + f_{i+1}}{2}$\n",
    "\n",
    "----\n",
    "\n",
    "Assuming $f(x) \\in C^2[a,b]$, re-write $F_{i+1}$ and $f_{i+1}$ as Taylor series:\n",
    " \n",
    "(5) $F_{i+1} = F_{i} + h_{i+1}F^{'}_{i} + \\frac{h_{i+1}^{2}}{2} F^{''}_{i} + \\frac{h_{i+1}^{3}}{6} F^{'''}_{i} = F_{i} + h_{i+1}f_{i} + \\frac{h_{i+1}^{2}}{2} f_{i}^{'} + \\frac{h_{i+1}^{3}}{6} f^{''}(\\xi_{i})$\n",
    "\n",
    "(6) $f_{i+1} = f_{i} + h_{i+1}f_{i}^{'}+\\frac{h_{i+1}^{2}}{2} f^{''}(\\xi_{i})$\n",
    "\n",
    "----\n",
    "\n",
    "Subsitute (5), (6) into (4):\n",
    "\n",
    "$I_{i}^{i+1} - \\hat{I}_{i, tr}^{i+1} = F_{i} + h_{i+1}f_{i} + \\frac{h_{i+1}^{2}}{2} f_{i}^{'} + \\frac{h_{i+1}^{3}}{6} f^{''}(\\xi_{i}) - F_{i} - \\frac{h_{i+1}}{2} [f_i + f_{i} + h_{i+1}f_{i}^{'}+\\frac{h_{i+1}^{2}}{2} f^{''}(\\xi_{i})]$\n",
    "\n",
    "$= h_{i+1}f_{i} + \\frac{h_{i+1}^{2}}{2} f_{i}^{'} + \\frac{h_{i+1}^{3}}{6} f^{''}(\\xi_{i}) - h_{i+1}f_i - \\frac{h_{i+1}^2}{2} f_{i}^{'} - \\frac{h_{i+1}^3}{4} f^{''}(\\xi_{i})$\n",
    "\n",
    "(7) $= \\frac{h_{i+1}^{3}}{6} f^{''}(\\xi_{i}) - \\frac{h_{i+1}^3}{4} f^{''}(\\xi_{i}) = -\\frac{h_{i+1}^3}{12} f^{''}(\\xi_{i})$\n",
    "\n",
    "----\n",
    "\n",
    "(8) $M_{2, i} = \\max \\limits_{[x_i, x_{i+1}]} |f^{''}(x)|$\n",
    "\n",
    "Substitute (8) into (7) we get inequality:\n",
    "\n",
    "$|I_i^{i+1} - \\hat{I}_{i, tr}^{i+1}| \\leq \\frac{M_{2, i}}{12} h^3_{i+1}$\n",
    "\n",
    "\n"
   ]
  },
  {
   "cell_type": "markdown",
   "metadata": {},
   "source": [
    "### Congrats!"
   ]
  }
 ],
 "metadata": {
  "kernelspec": {
   "display_name": "Python 3",
   "language": "python",
   "name": "python3"
  },
  "language_info": {
   "codemirror_mode": {
    "name": "ipython",
    "version": 3
   },
   "file_extension": ".py",
   "mimetype": "text/x-python",
   "name": "python",
   "nbconvert_exporter": "python",
   "pygments_lexer": "ipython3",
   "version": "3.6.5"
  }
 },
 "nbformat": 4,
 "nbformat_minor": 2
}
