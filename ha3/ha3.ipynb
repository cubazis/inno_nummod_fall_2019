{
  "nbformat": 4,
  "nbformat_minor": 0,
  "metadata": {
    "kernelspec": {
      "display_name": "Python 3",
      "language": "python",
      "name": "python3"
    },
    "language_info": {
      "codemirror_mode": {
        "name": "ipython",
        "version": 3
      },
      "file_extension": ".py",
      "mimetype": "text/x-python",
      "name": "python",
      "nbconvert_exporter": "python",
      "pygments_lexer": "ipython3",
      "version": "3.6.8"
    },
    "colab": {
      "name": "ha3.ipynb",
      "provenance": []
    }
  },
  "cells": [
    {
      "cell_type": "markdown",
      "metadata": {
        "id": "Sp1nPL8r-RkF",
        "colab_type": "text"
      },
      "source": [
        "### 1. Derive formula of $L_{2}(x)$ in terms of interpolation phase $ u = \\frac{x - x_{i}}{h} $.  Integrate $ \\hat{I_{i}^{i+2}}$ with received formula as integrand."
      ]
    },
    {
      "cell_type": "markdown",
      "metadata": {
        "id": "wRULaJaT-RkJ",
        "colab_type": "text"
      },
      "source": [
        "**Note** Use constant step $h = const$ and condition *number of segments is even* $n = 2k$"
      ]
    },
    {
      "cell_type": "markdown",
      "metadata": {
        "id": "UGuncOvx-YI1",
        "colab_type": "text"
      },
      "source": [
        "$$ \n",
        "L_2(x) = \n",
        "\\frac{(x-x_{i+1})(x-x_{i+2})}{(x_i-x_{i+1})(x_i-x_{i+2})}f_i + \n",
        "\\frac{(x-x_{i+2})(x-x_i)}{(x_{i+1}-x_{i+2})(x_{i+1}-x_i)}f_{i+1} + \n",
        "\\frac{(x-x_i)(x-x_{i+1})}{(x_{i+2}-x_i)(x_{i+2}-x_{i+1})}f_{i+2}\n",
        "$$\n",
        "\n",
        "By substituting $ (x_i - x_{i+1}) = -h $:\n",
        "$$\n",
        "L_2(x) = \n",
        "\\frac{(x-x_{i+1})(x-x_{i+2})}{2h^2}f_i +\n",
        "\\frac{(x-x_i)(x-x_{i+2})}{h^2}f_{i+1} +\n",
        "\\frac{(x-x_i)(x-x_{i+1})}{2h^2}f_{i+2}\n",
        "$$\n",
        "\n",
        "By substituting $ u = \\frac{x-x_i}{h} $:\n",
        "$$ \n",
        "L_2(x) = \n",
        "\\frac{(u-1)(u-2)}{2}f_i - \n",
        "u(2-u)f_{i+1} -\n",
        "\\frac{u(u-1)}{2}f_{i+2}\n",
        "$$\n",
        "\n",
        "Integrating:\n",
        "$$ \n",
        "\\int_{x_i}^{x_{i+2}} L_2(x) dx = \\frac{h}{3}\\left( f_i + 4f_{i+1} + f_{i+2} \\right) \n",
        "$$"
      ]
    },
    {
      "cell_type": "markdown",
      "metadata": {
        "id": "8upFV4GG-RkS",
        "colab_type": "text"
      },
      "source": [
        "### 2. Explain how used condition $n = 2k$ helps us in integration. If we want to use odd number of segments we have to integrate with even number of segments but add the value $I_{n-1}^n$. What is the calculation accuracy order of $I_{n-1}^n$? Why? Explain both."
      ]
    },
    {
      "cell_type": "markdown",
      "metadata": {
        "id": "fQOL8RdX-fK1",
        "colab_type": "text"
      },
      "source": [
        "$ n = 2k $ allows us to integrate two segments at a time ($[x, x_{i+2}]$) using parabolic integrands. We can't split an odd number of segments into non-intersecting pairs. However, we can apply the previous idea to $n-1$ segments and then add $I^n_{n-1}$\n",
        "\n",
        "The calculation accuracy of $I^{n}_{n_{n-1}}$ is $O(h^5)$, because we can calculate $I^n_{n_{n-3}}$ using Newton-Cotes formula with $O(h^5)$ precision and then subtract $I^{n-1}_{n_{n-3}}$ calculated using Simpson formula with $O(h^5)$ precision. "
      ]
    },
    {
      "cell_type": "markdown",
      "metadata": {
        "id": "lFskSL-u-RkZ",
        "colab_type": "text"
      },
      "source": [
        "### 3. Derive the formula of whole $\\hat{I_{a}^{b}}$. Summarize all integrals on segments $\\hat{I_{i}^{i+1}}$ for even case, and for odd case."
      ]
    },
    {
      "cell_type": "markdown",
      "metadata": {
        "id": "BOB3rYQR-fw7",
        "colab_type": "text"
      },
      "source": [
        "For even case $(n=2k)$:\n",
        "$$\n",
        "\\hat I^n_0 = \\sum_{i=0}^{k-1}\\frac{h}{3}(f_{2i}+4f_{2i+1}+f_{2i+2}) = \\frac{h}{3}\\left( f_0 + f_{2k} + 2\\sum^{k-1}_{i=1}f_{2i}+4\\sum^{k-1}_{i=0}f_{2i+1} \\right)\n",
        "$$\n",
        "\n",
        "For odd case, we only need $ \\hat I^n_{n-1} $:\n",
        "$$\n",
        "\\hat I^n_{n-1} = \\hat I^n_{n-3} - \\hat I^{n-1}_{n-1} = \\frac{h}{24}(f_{n-3} - 5f_{n-2} + 19f_{n-1} + 9f_n)\n",
        "$$\n",
        "It tells us the area of the last segment."
      ]
    },
    {
      "cell_type": "markdown",
      "metadata": {
        "id": "i7oD4RnF-Rkf",
        "colab_type": "text"
      },
      "source": [
        "### 4. Derive the formula of trapezoid quadrature formula error estimation. Use Taylor series expansion for antiderivative $F_{i+1}$ and $f_{i+1}$"
      ]
    },
    {
      "cell_type": "markdown",
      "metadata": {
        "id": "HdsqLxdI-gNG",
        "colab_type": "text"
      },
      "source": [
        "Definition:\n",
        "$$ \n",
        "Error = I^{i+1}_i - \\hat I^{i+1}_{i, TR} = \n",
        "  F_{i+1} - F_i - \\frac{(f_i+f_{i+1})h}{2}\n",
        "$$\n",
        "\n",
        "Taylor expansion for $F_{i+1}$ and $f_{i+1}$:\n",
        "$$\n",
        "F_{i+1} - F_i - \\frac{(f_i+f_{i+1})h}{2} = \n",
        "  F_i + hf_i + \\frac{h^2}{2}f'_i + \\frac{h^3}{6}f''_i - F_i - \\frac{h}{2}\\left( 2f_i + hf'_i + \\frac{h^2}{2}f''(\\xi_i) \\right) = ... = - \\frac{h^3}{12}f''(\\xi_i)\n",
        "$$\n",
        "\n",
        "Upper bound $ M_{2,i} = \\max_{x_i, x_{i+1}} |f''(x)|$, therefore\n",
        "\n",
        "$$ \\left| I_i^{i+1} - \\hat I_i^{i+1} \\right| \\le M_{2,i} \\frac{h^3}{12} $$"
      ]
    },
    {
      "cell_type": "code",
      "metadata": {
        "id": "5pyH1XD1u5Z3",
        "colab_type": "code",
        "colab": {}
      },
      "source": [
        ""
      ],
      "execution_count": 0,
      "outputs": []
    }
  ]
}