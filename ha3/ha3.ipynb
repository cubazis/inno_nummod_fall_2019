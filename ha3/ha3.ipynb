{
 "cells": [
  {
   "cell_type": "code",
   "execution_count": 1,
   "metadata": {},
   "outputs": [],
   "source": [
    "import sympy as sp\n",
    "import numpy as np\n",
    "import matplotlib.pyplot as plt"
   ]
  },
  {
   "cell_type": "markdown",
   "metadata": {},
   "source": [
    "### 1. Derive formula of $L_{2}(x)$ in terms of interpolation phase $ u = \\frac{x - x_{i}}{h} $.  Integrate $ \\hat{I_{i}^{i+2}}$ with received formula as integrand  [mathematical formula]. Usetimation time: ~30m"
   ]
  },
  {
   "cell_type": "markdown",
   "metadata": {},
   "source": [
    "**Note** Use constant step $h = const$ and condition *number of segments is even* $n = 2k$"
   ]
  },
  {
   "cell_type": "markdown",
   "metadata": {},
   "source": [
    "Formula for $L_2(x)$:\n",
    "\n",
    "$$L_2(x) = \\frac{(x - x_{i+1})(x - x_{i+2})}{(x_i - x_{i+1})(x_i - x_{i+2})} f_i + \n",
    "\\frac{(x - x_{i})(x - x_{i+2})}{(x_{i+1} - x_{i})(x_{i+1} - x_{i+2})} f_{i+1} + \n",
    "\\frac{(x - x_{i})(x - x_{i+1})}{(x_{i+2} - x_{i})(x_{i+2} - x_{i+1})} f_{i+2}$$\n",
    "\n",
    "If we substitude $u=\\frac{x-x_i}{h}$:\n",
    "\n",
    "$$L_2(u) = \\frac{1}{2}(u^2 - 3u + 2)f_{i} + (2u - u^2)f_{i+1} + \\frac{1}{2}(u^2 - u)f_{i+2} $$\n",
    "\n",
    "Now lets integrate $\\hat{I}_{i}^{i+2}$:\n",
    "\n",
    "$$\\hat{I}_{i}^{i+2} = \\int_{x_i}^{x_{i+2}}L_2(x) dx = \\int_{0}^{2}L_2(u) du = \\left [ \\frac{1}{2}(\\frac{u^3}{3} - \\frac{3}{2}u^2 + 2u)f_{i} + (u^2 - \\frac{u^3}{3})f_{i+1} + \\frac{1}{2}(\\frac{u^3}{3} - \\frac{u^2}{2})f_{i+2} \\right ]h \\rvert_{0}^{2}$$\n",
    "\n",
    "$$\\hat{I}_{i}^{i+2} = \\frac{h}{3}(f_i + 4 f_{i+1} + f_{i+2})$$\n"
   ]
  },
  {
   "cell_type": "markdown",
   "metadata": {},
   "source": [
    "### 2. Explain how used condition $n = 2k$ helps us in integration. If we want to use odd number of segments we have to integrate with even number of segments but add the value $I_{n-1}^n$. What is the calculation accuracy order of $I_{n-1}^n$? Why? Explain both. [mathematical formula]. Usetimation time: ~30m"
   ]
  },
  {
   "cell_type": "markdown",
   "metadata": {},
   "source": [
    "When $n=2k$ we're able to construct non-overlapping 3-point-template interpolant (cause every 2 adjacent segments consist of 3 points).\n",
    "\n",
    "But, when we have an odd number of segments, one segment would be without the complement to the 3-point-template. And in such cases we can integrate first $2k$ segments as usual, and then compute the last one using the next formula:\n",
    "\n",
    "$$\\hat{I}_{i}^{i+1} = \\frac{h}{24}(f_{i-2} - 5f_{i-1} + 19f_i + 9f_{i+1})$$\n",
    "which has $O(h^5)$ error estimation."
   ]
  },
  {
   "cell_type": "markdown",
   "metadata": {},
   "source": [
    "### 3. Derive the formula of whole $\\hat{I_{a}^{b}}$. Summarize all integrals on segments $\\hat{I_{i}^{i+1}}$ for even case, and for odd case. [mathematical formula]. Usetimation time: ~30m"
   ]
  },
  {
   "cell_type": "markdown",
   "metadata": {},
   "source": [
    "For even $n$:\n",
    "\n",
    "$\\hat{I}_{a}^{b} = \\sum_{i=0}^{\\frac{n}{2}-1} \\hat{I}_{2i}^{2(i+1)}$\n",
    "\n",
    "For odd $n$:\n",
    "\n",
    "$\\hat{I}_{a}^{b} = \\sum_{i=0}^{\\frac{n- 1}{2}-1} + I_{2i}^{2(i+1)} + \\hat{I}_{n-1}^{n}$"
   ]
  },
  {
   "cell_type": "markdown",
   "metadata": {},
   "source": [
    "### 4. Derive the formula of trapezoid quadrature formula error estimation. Use Taylor series expansion for antiderivative $F_{i+1}$ and $f_{i+1}$  [mathematical formula] Usetimation time: ~30m"
   ]
  },
  {
   "cell_type": "markdown",
   "metadata": {},
   "source": [
    "$ F_{i+1} = F_i + h_{i+1}f_i + \\frac{h_{i+1}^2}{2}f_i^\\prime + \\frac{h_{i+1}^{3}}{6}f^{\\prime\\prime}(\\xi)$\n",
    "\n",
    "$f_{i+1} = f_i + h_{i+1}f_i^\\prime + \\frac{h_{i+1}^2}{2}f^{\\prime\\prime}(\\xi_i)$\n",
    "\n",
    "$I_i^{i+1} - \\hat{I}_{i,trp}^{i+1} = F_{i+1} - F_i - \\frac{h_{i+1}}{2}(f_i + f_{i+1}) = F_i + h_{i+1}f_i + \\frac{h_{i+1}^{2}}{2}f^\\prime + \\frac{h_{i+1}^{3}}{6}f^{\\prime\\prime}(\\xi_i) - F_i - \\frac{h_{i+1}}{2} (2f_i + h_{i+1}f_i^\\prime + \\frac{h_{i+1}^2}{2}f^{\\prime\\prime}(\\xi_i))=\\frac{h_{i+1}^3}{6}f^{\\prime\\prime}(\\xi_i) - \\frac{h_{i+1}^{3}}{4}f^{\\prime\\prime}(\\xi_i)= - \\frac{1}{12}h_{i+1}^3 f^{\\prime\\prime}(\\xi_i)$\n",
    "\n",
    "$\\left|I_i^{i+1} - \\hat{I}_{i, trp}^{i+1}\\right| \\leq \\frac{M_{2,i}}{12}h_{i+1}^3$, where $M_{2, i} = \\max\\limits_{[x_i, x_{i+1}]} \\left|f^{\\prime\\prime}(x)\\right|$"
   ]
  },
  {
   "cell_type": "markdown",
   "metadata": {},
   "source": [
    "### Congrats!"
   ]
  }
 ],
 "metadata": {
  "kernelspec": {
   "display_name": "Python 3",
   "language": "python",
   "name": "python3"
  },
  "language_info": {
   "codemirror_mode": {
    "name": "ipython",
    "version": 3
   },
   "file_extension": ".py",
   "mimetype": "text/x-python",
   "name": "python",
   "nbconvert_exporter": "python",
   "pygments_lexer": "ipython3",
   "version": "3.7.3"
  }
 },
 "nbformat": 4,
 "nbformat_minor": 2
}
