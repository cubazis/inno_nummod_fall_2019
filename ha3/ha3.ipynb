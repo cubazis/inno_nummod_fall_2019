{
 "cells": [
  {
   "cell_type": "code",
   "execution_count": 1,
   "metadata": {},
   "outputs": [],
   "source": [
    "import sympy as sp\n",
    "import numpy as np\n",
    "import matplotlib.pyplot as plt"
   ]
  },
  {
   "cell_type": "markdown",
   "metadata": {},
   "source": [
    "### 1. Derive formula of $L_{2}(x)$ in terms of interpolation phase $ u = \\frac{x - x_{i}}{h} $.  Integrate $ \\hat{I_{i}^{i+2}}$ with received formula as integrand  [mathematical formula]. Usetimation time: ~30m"
   ]
  },
  {
   "cell_type": "markdown",
   "metadata": {},
   "source": [
    "**Note** Use constant step $h = const$ and condition *number of segments is even* $n = 2k$"
   ]
  },
  {
   "cell_type": "markdown",
   "metadata": {},
   "source": [
    "$$L_2(x) = \\frac{x - x_{i}}{x_{i-1} - x_{i}} \\frac{x - x_{i+1}}{x_{i-1} - x_{i+1}}f_{i-1} + \n",
    "           \\frac{x - x_{i-1}}{x_{i} - x_{i-1}} \\frac{x - x_{i+1}}{x_{i} - x_{i+1}}f_{i} + \n",
    "           \\frac{x - x_{i-1}}{x_{i+1} - x_{i-1}} \\frac{x - x_{i}}{x_{i+1} - x_{i}}f_{i+1}$$\n",
    "\n",
    "$$u = \\frac{x-x_{i-1}}{h}, h = const, h = x_{i} - x_{i-1} = x_{i+1} - x_{i}$$\n",
    "\n",
    "$$L_2(x) = \\frac{x - x_{i-1} - h}{-h} \\frac{x - x_{i-1} - 2h}{-2h}f_{i-1} + \n",
    "           \\frac{x - x_{i-1}}{h} \\frac{x - x_{i-1} - 2h}{-h}f_{i} + \n",
    "           \\frac{x - x_{i-1}}{2h} \\frac{x - x_{i-1} - h}{h}f_{i+1}$$\n",
    "\n",
    "$$L_2(x) = (-u + 1)(-\\frac{u}{2} + 1)f_{i-1} + \n",
    "           u (-u + 2)f_{i} + \n",
    "          \\frac{u}{2} (u-1)f_{i+1}$$\n",
    "          \n",
    "$$L_2(x) = \\frac{1}{2}(1 - u)(2 - u)f_{i-1} + \n",
    "           u (2-u)f_{i} + \n",
    "          \\frac{1}{2}u(u-1)f_{i+1}$$\n",
    "\n",
    "$$L_2(x) = \\frac{1}{2}(2 - 3u + u^2)f_{i-1} + \n",
    "           (2u - u^2)f_{i} + \n",
    "          \\frac{1}{2}(u^2-u)f_{i+1}$$\n",
    "          \n",
    "$$\\hat{I}_{i-1}^{i+1} = \\int_{i-1}^{i+1}L_2(x)dx = \\int_{0}^{2}(\\frac{1}{2}(2 - 3u + u^2)f_{i-1} + \n",
    "           (2u - u^2)f_{i} + \n",
    "          \\frac{1}{2}(u^2-u)f_{i+1})hdu = \n",
    "          \\frac{1}{2}(2u - \\frac{3u^2}{2} + \\frac{u^3}{3})hf_{i-1}\\Big{|}_{0}^{2} + (u^2 - \\frac{u^3}{3})hf_{i}\\Big{|}_{0}^{2} + \\frac{1}{2}(\\frac{u^3}{3} - \\frac{u^2}{2})hf_{i+1}\\Big{|}_{0}^{2} =\n",
    "          (2 - 3 + \\frac{4}{3})hf_{i-1} + (4 - \\frac{8}{3})hf_i + (\\frac{4}{3} - 1)hf_{i+1} = \\frac{h}{3}(f_{i-1} + 4f_{i} + f_{i+1})$$\n"
   ]
  },
  {
   "cell_type": "markdown",
   "metadata": {},
   "source": [
    "### 2. Explain how used condition $n = 2k$ helps us in integration. If we want to use odd number of segments we have to integrate with even number of segments but add the value $I_{n-1}^n$. What is the calculation accuracy order of $I_{n-1}^n$? Why? Explain both. [mathematical formula]. Usetimation time: ~30m"
   ]
  },
  {
   "cell_type": "markdown",
   "metadata": {},
   "source": [
    "$\\hat{I}_{i-1}^{i+1}$ is calculated on 2 segments (3 points). Thus, in order to use the formula without any problems, we have to have even number of segments on $[a,b]$ in order to calculate whole $\\hat{I}_{a}^{b}$. In the case of odd number of segments we need to somehow calculate $\\hat{I}_{n-1}^{n}$.\n",
    "\n",
    "We can calculate $\\hat{I}_{n-1}^{n}$ as difference $\\hat{I}_{n-3}^{n} - \\hat{I}_{n-3}^{n-1}$\n",
    "\n",
    "$\\hat{I}_{n-3}^{n} = \\frac{3h}{8}(f_{n-3} + 3f_{n-2} + 3f_{n-1} + f_n)$\n",
    "\n",
    "$\\hat{I}_{n-3}^{n-1} = \\frac{h}{3}(f_{n-3} + 4f_{n-2} + f_{n-1})$\n",
    "\n",
    "$\\hat{I}_{n-1}^{n} = \\frac{h}{24}(f_{n-3} - 5f_{n-2} + 19f_{n-1} + 9f_n)$\n",
    "\n",
    "We know that accuracy of $\\hat{I}_{n-3}^{n}$ and $\\hat{I}_{n-3}^{n-1}$ is $O(h^5)$, thus their difference also has accuracy of $O(h^5)$\n"
   ]
  },
  {
   "cell_type": "markdown",
   "metadata": {},
   "source": [
    "### 3. Derive the formula of whole $\\hat{I_{a}^{b}}$. Summarize all integrals on segments $\\hat{I_{i}^{i+1}}$ for even case, and for odd case. [mathematical formula]. Usetimation time: ~30m"
   ]
  },
  {
   "cell_type": "markdown",
   "metadata": {},
   "source": [
    "For even case:\n",
    "\n",
    "$$\\hat{I}_{a}^{b} = \\frac{h}{3}\\left[ f_0 + 4(f_1 + f_3 + ...f_{2k-1}) + 2(f_2 + f_4 + ... + f_{2k-2} + f_n)\\right] = \\frac{h}{3}\\left[f_0 + \\sum_{i=1}^{k}f_{2i-1} + \\sum_{i=2}^{k}f_{2i} + f_{2k}\\right]$$\n",
    "\n",
    "For odd case:\n",
    "\n",
    "$$\\hat{I}_{a}^{b} = \\frac{h}{3}\\left[ f_0 + 4(f_1 + f_3 + ...f_{2k-1}) + 2(f_2 + f_4 + ... + f_{2k-2} + f_n)\\right] = \\frac{h}{3}\\left[f_0 + \\sum_{i=1}^{k}f_{2i-1} + \\sum_{i=2}^{k}f_{2i} + f_{2k}\\right] + \\frac{h}{24}(f_{2k-2} - 5f_{2k-1} + 19f_{2k} + 9f_{2k+1})$$\n",
    "\n",
    "\n",
    "\n",
    "\n",
    "\n",
    "\n",
    "\n",
    "\n"
   ]
  },
  {
   "cell_type": "markdown",
   "metadata": {},
   "source": [
    "### 4. Derive the formula of trapezoid quadrature formula error estimation. Use Taylor series expansion for antiderivative $F_{i+1}$ and $f_{i+1}$  [mathematical formula] Usetimation time: ~30m"
   ]
  },
  {
   "cell_type": "markdown",
   "metadata": {},
   "source": [
    "$$F_{i+1} = F_{i} + hf_{i} + \\frac{h^2}{2}f'_{i} + \\frac{h^3}{6}f''(\\xi_i)$$\n",
    "\n",
    "$$f_{i+1} = f_{i} + hf'_{i} + \\frac{h^2}{2}f''({\\xi_i})$$\n",
    "\n",
    "$$I_{i}^{i+1} - \\hat{I}_{i}^{i+1} = (F_{i+1} - F_i) - \\frac{h}{2}(f_i + f_{i+1}) = F_{i} + hf_{i} + \\frac{h^2}{2}f'_{i} + \\frac{h^3}{6}f''(\\xi_i) - F_{i} - \\frac{h}{2}(f_{i} + f_{i} + hf'{i} + \\frac{h^2}{2}f''({\\xi_i})) = \n",
    "hf_{i} + \\frac{h^2}{2}f'_{i} + \\frac{h^3}{6}f''(\\xi_i) - \\frac{h}{2}(f_{i} + f_{i} + hf'{i} + \\frac{h^2}{2}f''({\\xi_i})) = hf_{i} + \\frac{h^2}{2}f'_{i} + \\frac{h^3}{6}f''(\\xi_i) - hf_{i} - \\frac{h^2}{2}f'_{i} - \\frac{h^3}{4}f''({\\xi_i}) = \\frac{h^3}{6}f''(\\xi_i) - \\frac{h^3}{4}f''({\\xi_i}) = -\\frac{h^3}{12}f''(\\xi_i)$$\n",
    "\n",
    "$f''(\\xi_i)$ can be bounded by $max_{[x_{i}, x_{i+1}]}|f''(x)|$\n",
    "\n",
    "Rewriting:\n",
    "$$M_{2,i} = max_{[x_{i}, x_{i+1}]}|f''(x)|$$\n",
    "$$\\big{|}I_{i}^{i+1} - \\hat{I}_{i}^{i+1}\\big{|} \\le \\frac{M_{2,i}}{12}h^3$$\n",
    "\n",
    "\n",
    "\n"
   ]
  },
  {
   "cell_type": "markdown",
   "metadata": {},
   "source": [
    "### Congrats!"
   ]
  }
 ],
 "metadata": {
  "kernelspec": {
   "display_name": "Python 3",
   "language": "python",
   "name": "python3"
  },
  "language_info": {
   "codemirror_mode": {
    "name": "ipython",
    "version": 3
   },
   "file_extension": ".py",
   "mimetype": "text/x-python",
   "name": "python",
   "nbconvert_exporter": "python",
   "pygments_lexer": "ipython3",
   "version": "3.6.8"
  }
 },
 "nbformat": 4,
 "nbformat_minor": 2
}
