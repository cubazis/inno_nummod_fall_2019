{
 "cells": [
  {
   "cell_type": "code",
   "execution_count": 1,
   "metadata": {},
   "outputs": [],
   "source": [
    "import sympy as sp\n",
    "import numpy as np\n",
    "import matplotlib.pyplot as plt"
   ]
  },
  {
   "cell_type": "markdown",
   "metadata": {},
   "source": [
    "### 1. Derive formula of $L_{2}(x)$ in terms of interpolation phase $ u = \\frac{x - x_{i}}{h} $.  Integrate $ \\hat{I_{i}^{i+2}}$ with received formula as integrand  [mathematical formula]. Usetimation time: ~30m"
   ]
  },
  {
   "cell_type": "markdown",
   "metadata": {},
   "source": [
    "**Note** Use constant step $h = const$ and condition *number of segments is even* $n = 2k$"
   ]
  },
  {
   "cell_type": "markdown",
   "metadata": {},
   "source": [
    "$$ L_2(x) = \\frac{(x-x_{i+1})(x-x_{i+2})}{(x_i-x_{i+1})(x_i-x_{i+2})}f_i+\\frac{(x-x_{i})(x-x_{i+2})}{(x_{i+1}-x_{i})(x_{i+1}-x_{i+2})}f_{i+1}+\\frac{(x-x_{i})(x-x_{i+1})}{(x_{i+2}-x_i)(x_{i+2}-x_{i+1})}f_{i+2} =$$\n",
    "\n",
    "$$= \\frac{(x - x_{i+1})(x - x_{i+2})}{2*(-h)*(-h)} f_i + \\frac{(x - x_i)(x - x_{i+2})}{h*(-h)}f_{i+1} + \\frac{(x - x_i)(x - x_{i+1})}{2*h*h}f_{i+2} =$$\n",
    "$$= \\frac{(x - x_i - h)(x - x_i - 2h)}{2*h*h} f_i + \\frac{(x - x_i)(x - x_i - 2h)}{h*(-h)}f_{i+1} + \\frac{(x - x_i)(x - x_i - h)}{2*h*h}f_{i+2} = $$\n",
    "$$= (\\frac{(x - x_i)}{h} - 1)(\\frac{(x - x_i)}{h} - 2)\\frac{f_i}{2}  - (\\frac{(x - x_i)}{h})(\\frac{(x - x_i)}{h} - 2)f_{i+1} + (\\frac{(x - x_i)}{h})(\\frac{(x - x_i)}{h} - 1)\\frac{f_{i+2}}{2} =$$\n",
    "$$= \\frac{(u - 1)(u - 2)}{2}f_i  - u(u - 2)f_{i+1} + \\frac{u(u - 1)}{2}f_{i+2}$$\n",
    "\n",
    "Now, let's integrate:<br>\n",
    "\n",
    "$$\\hat{I}_i^{i+2} = \\int\\limits_0^2[\\frac{(u - 1)(u - 2)}{2}f_i  - u(u - 2)f_{i+1} + \\frac{u(u - 1)}{2}f_{i+2}]hdu = h[f_i\\int\\limits_0^2\\frac{u^2-3u+2}{2}du - f_{i+1}\\int\\limits_0^2(u^2 - 2u)du + f_{i+2}\\int\\limits_0^2\\frac{u^2 - u}{2}du] =$$ $$= h[f_i (\\frac{u^3}{6}|_0^2) - \\frac{3u^2}{4}|_0^2) + u|_0^2) - f_{i+1}(\\frac{u^3}{3}|_0^2) - u^2|_0^2)) + f_{i+2}(\\frac{u^3}{6}|_0^2) - \\frac{u^2}{4}|_0^2))] = \\frac{h}{3}(f_i + 4f_{i+1} + f_{i+2})$$<br>\n",
    "So, finally, we got: $$\\hat{I}_i^{i+2} = \\frac{h}{3}(f_i + 4f_{i+1} + f_{i+2})$$ \n",
    "This is Simpson's formula.\n",
    "\n",
    "\n",
    "\n",
    "\n",
    "\n",
    "\n"
   ]
  },
  {
   "cell_type": "markdown",
   "metadata": {},
   "source": [
    "### 2. Explain how used condition $n = 2k$ helps us in integration. If we want to use odd number of segments we have to integrate with even number of segments but add the value $I_{n-1}^n$. What is the calculation accuracy order of $I_{n-1}^n$? Why? Explain both. [mathematical formula]. Usetimation time: ~30m"
   ]
  },
  {
   "cell_type": "markdown",
   "metadata": {},
   "source": [
    "Condition $n=2k$ allows us to use the same methods to integrate. The only changes is that we have to add  $I_{n-1}^n$ in the odd case.\n",
    "\n",
    "\n",
    "To get the calculation accuracy of $I_{n-1}^n$ let's calculate $\\hat{I}_{n-3}^n$ using 3/8 Simpson's rule:<br>\n",
    "$$\\hat{I}_{n-3}^n = \\frac{3h}{8}(f_{n-3} + 3f_{n-2} + 3f_{n-1} + f_{n})$$\n",
    "Then let's calculate $\\hat{I}_{n-3}^{n-1}$ using formula for $\\hat{I}_i^{i+2}$\n",
    "$$\\hat{I}_{n-3}^{n-1} = \\frac{h}{3}(f_{n-3} + 4f_{n-2} + f_{n-1})$$\n",
    "Now, let's substract the second equation from the first one:\n",
    "$$I_{n-1}^n = \\hat{I}_{n-3}^n - \\hat{I}_{n-3}^{n-1} = \\frac{3h}{8}(f_{n-3} + 3f_{n-2} + 3f_{n-1} + f_{n}) - \\frac{h}{3}(f_{n-3} + 4f_{n-2} + f_{n-1}) = \\frac{h}{24}(f_{n-3} - 5f_{n-2} + 19f_{n-1} + 9f_{n})$$\n",
    "We know that Simpson's rule and 3/8 Simpson's rule have calculation accuracy $O(h^5)$. So, as we substract these two rules, we can conclude that calculation accuracy of $I_{n-1}^n$ is $O(h^5)$\n",
    "\n",
    "\n",
    "\n",
    "\n",
    "\n"
   ]
  },
  {
   "cell_type": "markdown",
   "metadata": {},
   "source": [
    "### 3. Derive the formula of whole $\\hat{I_{a}^{b}}$. Summarize all integrals on segments $\\hat{I_{i}^{i+1}}$ for even case, and for odd case. [mathematical formula]. Usetimation time: ~30m"
   ]
  },
  {
   "cell_type": "markdown",
   "metadata": {},
   "source": [
    "Even case:<br>\n",
    "$$\\hat{I}_a^b = \\sum_{i=0}^{n-2} \\frac{h}{3}(f_i + 4f_{i+1} + f_{i+2})$$\n",
    "Let's write it as a sum:<br>\n",
    "$$\\hat{I}_a^b = \\frac{h}{3}(f_0 + 4f_1 + 2f_2 + 4f_3 + 2f_4 + 4f_5 + 2f_6 + ... + f_n)$$\n",
    "Let's notice coeffitients before odd and even indexes. So:\n",
    "$$\\hat{I}_a^b = \\frac{h}{3}(f_0 + 4(f_1+f_3+...+f_{2k-1}) + 2(f_2+f_4+...+f_{2k-2})+f_n) = \\frac{h}{3}(f_0 + 4\\sum_{i=1}^{k}f_{2i-1} + 2\\sum_{i=1}^{k-1}f_{2i} + f_{2k})$$\n",
    "<br><br>Odd case:<br>\n",
    "$$\\hat{I}_{a}^{b} = \\frac{h}{3}(f_0 + 4(f_1+f_3+...+f_{2k-1}) + 2(f_2+f_4+...+f_{2k-2})+f_n) =$$\n",
    "$$ = \\frac{h}{3}(f_0 + 4\\sum_{i=1}^{k}f_{2i-1} + 2\\sum_{i=2}^{k}f_{2i} + f_{2k}) + \\frac{h}{24}(f_{n-3} - 5f_{n-2} + 19f_{n-1} + 9f_{n})$$\n",
    "\n",
    "\n",
    "\n",
    "\n",
    "\n",
    "\n",
    "\n",
    "\n"
   ]
  },
  {
   "cell_type": "markdown",
   "metadata": {},
   "source": [
    "### 4. Derive the formula of trapezoid quadrature formula error estimation. Use Taylor series expansion for antiderivative $F_{i+1}$ and $f_{i+1}$  [mathematical formula] Usetimation time: ~30m"
   ]
  },
  {
   "cell_type": "markdown",
   "metadata": {},
   "source": [
    "$I_i^{i+1} = F_{i+1} - F_i$<br>\n",
    "$\\hat{I}_i^{i+1} = h_{i+1}\\frac{f_i+f_{i+1}}{2}$<br>\n",
    "$I_i^{i+1} - \\hat{I}_i^{i+1} = F_{i+1} - F_i - h_{i+1}\\frac{f_i+f_{i+1}}{2} = F_i + h_{i+1}f_i + \\frac{h_{i+1}^2}{2}f_i^{'} + \\frac{h_{i+1}^3}{6}f^{''}(\\xi_i) - F_i - \\frac{h_{i+1}}{2}(f_i+f_i+h_{i+1}f_i^{'} + \\frac{h_{i+1}^2}{2}f^{''}(\\xi_i)) = \\frac{h_{i+1}^3}{6}f^{''}(\\xi_i) - \\frac{h_{i+1}^3}{4}f^{''}(\\xi_i) =$<br>\n",
    "$= -\\frac{1}{12}h_{i+1}^3 f^{''}(\\xi_i),$<br>\n",
    "$\\xi_i \\in (x_i, x_{i+1})$<br>\n",
    "$|I_i^{i+1} - \\hat{I}_i^{i+1}| \\leq \\frac{M_{2,i}}{12}h_{i+1}^3,$<br>\n",
    "$M_{2,i} = \\max_{[x_i, x_{i+1}]}|f^{''}(x)|$\n",
    "\n",
    "\n",
    "\n",
    "\n",
    "\n",
    "\n",
    "\n",
    "\n"
   ]
  },
  {
   "cell_type": "markdown",
   "metadata": {},
   "source": [
    "### Congrats!"
   ]
  }
 ],
 "metadata": {
  "kernelspec": {
   "display_name": "Python 3",
   "language": "python",
   "name": "python3"
  },
  "language_info": {
   "codemirror_mode": {
    "name": "ipython",
    "version": 3
   },
   "file_extension": ".py",
   "mimetype": "text/x-python",
   "name": "python",
   "nbconvert_exporter": "python",
   "pygments_lexer": "ipython3",
   "version": "3.7.1"
  }
 },
 "nbformat": 4,
 "nbformat_minor": 2
}
