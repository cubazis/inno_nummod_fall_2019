{
 "cells": [
  {
   "cell_type": "code",
   "execution_count": 1,
   "metadata": {},
   "outputs": [],
   "source": [
    "import sympy as sp\n",
    "import numpy as np\n",
    "import matplotlib.pyplot as plt"
   ]
  },
  {
   "cell_type": "markdown",
   "metadata": {},
   "source": [
    "### 1. Derive formula of $L_{2}(x)$ in terms of interpolation phase $ u = \\frac{x - x_{i}}{h} $.  Integrate $ \\hat{I_{i}^{i+2}}$ with received formula as integrand  [mathematical formula]. Usetimation time: ~30m"
   ]
  },
  {
   "cell_type": "markdown",
   "metadata": {},
   "source": [
    "**Note** Use constant step $h = const$ and condition *number of segments is even* $n = 2k$"
   ]
  },
  {
   "cell_type": "markdown",
   "metadata": {},
   "source": [
    "Рассмотрим отрезок $[x_{i}, x_{i+2}]$:\n",
    "\n",
    "$L_{2}(x) = \\frac{(x-x_{i+1})(x-x_{i+2})}{(x_{i}-x_{i+1})(x_{i}-x_{i+2})}f_{i} + \n",
    "\\frac{(x-x_{i})(x-x_{i+2})}{(x_{i+1}-x_{i})(x_{i+1}-x_{i+2})}f_{i+1} + \n",
    "\\frac{(x-x_{i})(x-x_{i+1})}{(x_{i+2}-x_{i})(x_{i+2}-x_{i+1})}f_{i+2}$\n",
    "\n",
    "Добавим $x_{i}$ к каждой скобке в числителе, а затем вычтем $x_{i}$ из каждой скобки в числителе выражения, стоящего перед $f_{i}$, и, учитывая, что в данном случае $uh = x - x_{i}$ , получим:\n",
    "\n",
    "$\\frac{(x-x_{i+1})(x-x_{i+2})}{(x_{i}-x_{i+1})(x_{i}-x_{i+2})} = $\n",
    "\n",
    "$=\\frac{((x-x_{i})-(x_{i+1}-x_{i}))((x-x_{i})-(x_{i+2}-x_{i}))}{(-h)(-2h)} = $\n",
    "\n",
    "$= \\frac{(uh-h)(uh-2h)}{2h^{2}} = $\n",
    "\n",
    "$=\\frac{(u-1)(u-2)}{2}$\n",
    "\n",
    "Теперь мы получим выражение $L_{2}(x)$, выраженное через $u$'s, благодаря применению тех же операций к двум оставшимся скобкам:\n",
    "\n",
    "\n",
    "$L_{2}(x) = \\frac{(u-1)(u-2)}{2}f_{1} - u(u-2)f_{i+1} + \\frac{u(u-1)}{2}f_{i+2}$\n",
    "\n",
    "Проинтегрируя, мы получим:\n",
    "\n",
    "$\\hat{I}_{i}^{i+2} = \\int_{x_{i}}^{x_{i+2}}(\\frac{(u-1)(u-2)}{2}f_{1} - u(u-2)f_{i+1} + \\frac{u(u-1)}{2}f_{i+2})hdx =$\n",
    "\n",
    "$=\\int_{0}^{2}(\\frac{(u-1)(u-2)}{2}f_{1} - u(u-2)f_{i+1} + \\frac{u(u-1)}{2}f_{i+2})hdu = $\n",
    "\n",
    "$=\\int_{0}^{2}(\\frac{u^{2} - 3u + 2}{2}f_{1} - (u^{2}-2u)f_{i+1} + \\frac{u^{2} - u}{2}f_{i+2})hdu = $\n",
    "\n",
    "$=h((8/6 - 12/4 + 2)f_{i} - (8/3 - 4)f_{i+1} + (8/6 - 4/4)f_{i+2}) =$\n",
    "\n",
    "$=h(f_{i}/3 + 4f_{i+1}/3 + f_{i+2}/3) = $\n",
    "\n",
    "$=\\frac{h}{3}(f_{i} + 4f_{i+1} + f_{i+2})$\n",
    "\n",
    "\n",
    "\n",
    "\n",
    "\n",
    "\n",
    "\n",
    "\n"
   ]
  },
  {
   "cell_type": "markdown",
   "metadata": {},
   "source": [
    "### 2. Explain how used condition $n = 2k$ helps us in integration. If we want to use odd number of segments we have to integrate with even number of segments but add the value $I_{n-1}^n$. What is the calculation accuracy order of $I_{n-1}^n$? Why? Explain both. [mathematical formula]. Usetimation time: ~30m"
   ]
  },
  {
   "cell_type": "markdown",
   "metadata": {},
   "source": [
    "Когда количество интервалов четное, мы можем использовать только трех точечный шаблон. А если бы число интервалов было нечетным, то мы могли бы испольщовать $L_{3}$ кривую на 4 последних точках.\n",
    "\n",
    "В этом случае порядок точность будет равен $O(h^{5})$. Это объясняется тем, что:  \n",
    "\n",
    "$\\hat{I}_{x_{n-1}}^{x_{n}} = \\hat{I}_{x_{n-3}}^{x_{n}} - \\hat{I}_{x_{n-3}}^{x_{n-1}}$.\n",
    "\n",
    "Оба значения имеют порядок точности равный $O(h^{5})$, первая дана нам по формуле Ньютона-Котса для трёх интрервального шаблона, а вторая является хорошо известной точностью для двух точечного интервального шаблона.\n",
    "\n",
    "Из этого следует, что подсчет точности порядка $\\hat{I}_{x_{n-1}}^{x_{n}}$ будет так же $O(h^5)$.\n",
    "\n",
    "\n"
   ]
  },
  {
   "cell_type": "markdown",
   "metadata": {},
   "source": [
    "### 3. Derive the formula of whole $\\hat{I_{a}^{b}}$. Summarize all integrals on segments $\\hat{I_{i}^{i+1}}$ for even case, and for odd case. [mathematical formula]. Usetimation time: ~30m"
   ]
  },
  {
   "cell_type": "markdown",
   "metadata": {},
   "source": [
    "Нечетный случай:\n",
    "\n",
    "$n = 2k + 1, k \\in N$\n",
    "\n",
    "$\\hat{I}_{a}^{b} = \\sum_{i=0}^{k-2}\\hat{I}_{2i}^{2(i+1)} + \\hat{I}_{2k-2}^{2k+1} =$\n",
    "\n",
    "$= \\sum_{i=0}^{k-2}\\frac{h}{3}(f_{2i} + 4f_{2i+1} + f_{2i+2}) + \\frac{3h}{8}(f_{2k-2} + 3f_{2k-1} + 3f_{2k} + f_{2k+1}) = $\n",
    "\n",
    "$= \\frac{h}{3}(f_{0} + 4\\sum_{i=1}^{k-1}f_{2i-1} + 2\\sum_{i=1}^{k - 2}f_{2i} + f_{2k-2}) + \\frac{3h}{8}(f_{2k-2} + 3f_{2k-1} + 3f_{2k} + f_{2k+1}) = $\n",
    "\n",
    "$=\\frac{h}{3}f_{0} + \\frac{4h}{3}\\sum_{i=1}^{k-1}f_{2i-1} + \\frac{2h}{3}\\sum_{i=1}^{k-2}f_{2i} +\\frac{17h}{24}f_{2k-2} + \\frac{9h}{8}f_{2k-1} + \\frac{9h}{8}f_{2k} + \\frac{3h}{8}f_{2k+1}$\n",
    "\n",
    "Чётный случай: \n",
    "\n",
    "$\\hat{I}_{a}^{b} = \\sum_{i=0}^{\\frac{n}{2}-1}\\hat{I}_{2i}^{2(i+1)} = $\n",
    "\n",
    "$=\\sum_{i=0}^{\\frac{n}{2}-1}\\frac{h}{3}(f_{2i} + 4f_{2i+1} + f_{2i+2}) = $\n",
    "\n",
    "$=\\frac{h}{3}(f_{0} + 4\\sum_{i=1}^{k}f_{2i-1} + 2\\sum_{i=1}^{k - 1}f_{2i} + f_{n})$"
   ]
  },
  {
   "cell_type": "markdown",
   "metadata": {},
   "source": [
    "### 4. Derive the formula of trapezoid quadrature formula error estimation. Use Taylor series expansion for antiderivative $F_{i+1}$ and $f_{i+1}$  [mathematical formula] Usetimation time: ~30m"
   ]
  },
  {
   "cell_type": "markdown",
   "metadata": {},
   "source": [
    "Разложение по формуле Тейлора для $F(x)$ вокруг точки $a$ будет следующим:\n",
    "\n",
    "$F(x-a) = F(a) + f(a)(x-a) + \\frac{f'(a)}{2}(x-a)^2 + \\frac{f''(a)}{6}(x-a)^{3} + o((x-a)^{4})$\n",
    "\n",
    "Для $f(x)$ оно выглядит как:\n",
    "\n",
    "$f(x-a) = f(a) + f'(a)(x-a) + \\frac{f''(a)}{2}(x-a)^2 o((x-a)^{3})$\n",
    "\n",
    "Из этого следует, что $F(x_{i+1})$ вокруг точки $x_{i}$ is $F(x_{i}) + f(x_{i})h + \\frac{f'(x_{i})}{2}h^2 + \\frac{f''(x_{i})}{6}h^{3}$,\n",
    "\n",
    "И $f(x_{i+1})$ вокруг той же точки, $x_{i}$, будет равно $f(x_{i}) + f'(x_{i})h + \\frac{f''(x_{i})}{2}h^2$\n",
    "\n",
    "Ошибка на интервале будет $[x_{i}, x_{i+1}]$ будет равна:\n",
    "\n",
    "\n",
    " $I_{x_{i}}^{x_{i+1}} - \\hat{I}_{x_{i}}^{x_{i+1}} =\n",
    "F(x_{i+1}) - F(x_{i}) - \\frac{h}{2}(f_{i}+f_{i+1}) =$\n",
    "\n",
    "$= F(x_{i}) + f(x_{i})h + \\frac{f'(x_{i})}{2}h^2 + \\frac{f''(\\xi_{i})}{6}h^{3} - F({x_{i}}) - \\frac{h}{2}(f(x_{i}) + f(x_{i}) + f'(x_{i})h + \\frac{f''(\\xi_{i})}{2}h^2) =$\n",
    "\n",
    "$=-\\frac{h^{3}}{12}f''({\\xi_{i}})$,\n",
    "\n",
    "где $\\xi_{i}$ является точкой на $(x_{i}, x_{i+1})$.\n",
    "\n",
    "Просуммируя на каждом отрезке $[x_{i}, x_{i+1}]$ мы получим, что ошибка на всем интервале $[a, b]$ равна:\n",
    "\n",
    "$I_{a}^{b} - \\hat{I}_{a}^{b} = -\\frac{h^{3}}{12}(f''(\\xi_{0}) + f''(\\xi_{1}) + ...+ f''(\\xi_{n-2}) +  f''(\\xi_{n-1})) = $ \n",
    "\n",
    "$= -\\frac{h^{3}}{12}nf''({\\xi})$\n",
    "\n",
    "Заменяя $n$ на $\\frac{b-a}{h}$ и вводя $M_{2} = \\max_{[a, b]}|f''(x)|$, мы получаем следующее неравенство:\n",
    "\n",
    "$|I_{a}^{b} - \\hat{I}_{a}^{b}| \\leq \\frac{M_{2}}{12}(b-a)h^2$"
   ]
  },
  {
   "cell_type": "markdown",
   "metadata": {},
   "source": [
    "### Congrats!"
   ]
  }
 ],
 "metadata": {
  "kernelspec": {
   "display_name": "Python 3",
   "language": "python",
   "name": "python3"
  },
  "language_info": {
   "codemirror_mode": {
    "name": "ipython",
    "version": 3
   },
   "file_extension": ".py",
   "mimetype": "text/x-python",
   "name": "python",
   "nbconvert_exporter": "python",
   "pygments_lexer": "ipython3",
   "version": "3.6.4"
  }
 },
 "nbformat": 4,
 "nbformat_minor": 2
}
