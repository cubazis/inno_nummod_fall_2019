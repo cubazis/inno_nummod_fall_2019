{
 "cells": [
  {
   "cell_type": "code",
   "execution_count": 1,
   "metadata": {},
   "outputs": [],
   "source": [
    "import sympy as sp\n",
    "import numpy as np\n",
    "import matplotlib.pyplot as plt"
   ]
  },
  {
   "cell_type": "markdown",
   "metadata": {},
   "source": [
    "### 1. Derive formula of $L_{2}(x)$ in terms of interpolation phase $ u = \\frac{x - x_{i}}{h} $.  Integrate $ \\hat{I_{i}^{i+2}}$ with received formula as integrand  [mathematical formula]. Usetimation time: ~30m"
   ]
  },
  {
   "cell_type": "markdown",
   "metadata": {},
   "source": [
    "**Note** Use constant step $h = const$ and condition *number of segments is even* $n = 2k$"
   ]
  },
  {
   "cell_type": "markdown",
   "metadata": {},
   "source": [
    "$$\n",
    "L_2(x) = \\frac{(x - x_{i+1})(x - x_{i+2})}{(x_i - x_{i+1})(x_i - x_{i+2})}f_i + \\frac{(x - x_{i})(x - x_{i+2})}{(x_{i+1} - x_{i})(x_{i+1} - x_{i+2})}f_{i+1} + \\frac{(x - x_{i})(x - x_{i+1})}{(x_{i+2} - x_{i})(x_{i+2} - x_{i+1})}f_{i+2}\n",
    "$$\n",
    "\n",
    "Первое слагаемое:\n",
    "$$\n",
    "\\frac{(x - x_{i+1})(x - x_{i+2})}{(x_i - x_{i+1})(x_i - x_{i+2})} = \\frac{(x - x_i + x_i - x_{i+1})(x - x_i + x_i - x_{i+2})}{(-h)(-2h)} = \\frac{(uh-h)(uh-2h)}{2h^2} = \\frac{(u-1)(u-2)}{2}\n",
    "$$\n",
    "\n",
    "\n",
    "Второе слагаемое:\n",
    "$$\n",
    "\\frac{(x - x_{i})(x - x_{i+2})}{(x_{i+1} - x_{i})(x_{i+1} - x_{i+2})} = \\frac{uh(x - x_i + x_i - x_{i+2})}{h(-h)} = \\frac{uh(uh-2h)}{-h^2} = \\frac{uh^2(u-2)}{-h^2} = -u(u-2)\n",
    "$$\n",
    "\n",
    "Третье слагаемое:\n",
    "$$\n",
    "\\frac{(x - x_{i})(x - x_{i+1})}{(x_{i+2} - x_{i})(x_{i+2} - x_{i+1})} = \\frac{uh(uh-h)}{2h^2} = \\frac{u(u-1)}{2}\n",
    "$$\n",
    "\n",
    "\n",
    "Итак:\n",
    "$$\n",
    "L_2(x) = \\frac{(u-1)(u-2)}{2} f_i -u(u-2) f_{i+1} + \\frac{u(u-1)}{2} f_{i+2}\n",
    "$$\n",
    "\n",
    "Интегрируем:\n",
    "$$\n",
    "\\hat{I}_{i}^{i+2} = \\int_{0}^{2}(\\frac{(u-1)(u-2)}{2}f_{1} - u(u-2)f_{i+1} + \\frac{u(u-1)}{2}f_{i+2})hdu = \n",
    "\\int_{0}^{2}(\\frac{u^{2} - 3u + 2}{2}f_{1} - (u^{2}-2u)f_{i+1} + \\frac{u^{2} - u}{2}f_{i+2})hdu =\n",
    "((8/6 - 12/4 + 2)f_{i} - (8/3 - 4)f_{i+1} + (8/6 - 4/4)f_{i+2})h =\n",
    "(f_{i}/3 + 4f_{i+1}/3 + f_{i+2}/3)h =\n",
    "\\frac{h}{3}(f_{i} + 4f_{i+1} + f_{i+2})\n",
    "$$\n",
    "\n"
   ]
  },
  {
   "cell_type": "markdown",
   "metadata": {},
   "source": [
    "### 2. Explain how used condition $n = 2k$ helps us in integration. If we want to use odd number of segments we have to integrate with even number of segments but add the value $I_{n-1}^n$. What is the calculation accuracy order of $I_{n-1}^n$? Why? Explain both. [mathematical formula]. Usetimation time: ~30m"
   ]
  },
  {
   "cell_type": "markdown",
   "metadata": {},
   "source": [
    "$n = 2k$ дает нам возможность проинтегрировать весь отрезок $[a,b]$ трехточечным шаблоном.\n",
    "\n",
    "Точность падает до $O(h^{5})$ при интеграции последнего интервала $I_{n-1}^n$."
   ]
  },
  {
   "cell_type": "markdown",
   "metadata": {},
   "source": [
    "### 3. Derive the formula of whole $\\hat{I_{a}^{b}}$. Summarize all integrals on segments $\\hat{I_{i}^{i+1}}$ for even case, and for odd case. [mathematical formula]. Usetimation time: ~30m"
   ]
  },
  {
   "cell_type": "markdown",
   "metadata": {},
   "source": [
    "$$\n",
    "\\hat{I}_a^b = \\sum_{i=0}^{n-1} \\hat{I}_{i}^{i+2} = \\sum_{i=0}^{n-1} \\frac{h}{3}(f_i + 4f_{i+1} + f_{i+2}) = \\frac{h}{3}( f_0 + 4(f_1 + f_3 + \\dots + f_{2k-1}) + 2(f_2 + f_4 + \\dots + f_{2k-2}) + f_n) = \\frac{h}{3}(f_0 + 4\\sum_{i=1}^{k} f_{2i-1} + 2\\sum_{i=1}^{k-1} f_{2i} + f_{2k})\n",
    "$$\n",
    "\n",
    "\n",
    "\n",
    "\n",
    "\n",
    "\n",
    "\n",
    "\n"
   ]
  },
  {
   "cell_type": "markdown",
   "metadata": {},
   "source": [
    "### 4. Derive the formula of trapezoid quadrature formula error estimation. Use Taylor series expansion for antiderivative $F_{i+1}$ and $f_{i+1}$  [mathematical formula] Usetimation time: ~30m"
   ]
  },
  {
   "cell_type": "markdown",
   "metadata": {},
   "source": [
    "Ошибка исчисляется как разница между точным интегралом и посчитатанным $I_{a}^{b} - \\hat{I}_{a}^{b}$. Для начала вычислим $I_{i}^{i+1} - \\hat{I}_{i,тр}^{i+1}$, заменив $I_{i}^{i+1} = F_{i+1} - F_i$ с помощью разложения по Тейлору:\n",
    "\n",
    "$$\n",
    "I_{i}^{i+1} - \\hat{I}_{i,тр}^{i+1} = F_{i+1} - F_i - \\frac{h}{2}(f_i+f_{i+1}) = \\frac{h^3}{6}f^{''}(\\xi_i) - \\frac{h^3}{4}f^{''}(\\xi_i) = \\frac{-h^3}{12}f^{''}(\\xi_i)\n",
    "$$\n",
    "\n",
    "При вычислении $I_{a}^{b} - \\hat{I}_{a}^{b}$ возникает следующая сумма:\n",
    "\n",
    "$$\n",
    "I_{a}^{b} - \\hat{I}_{a}^{b} = \\frac{-h^{3}}{12} \\sum^{n-1}_{i=0}f''(\\xi_{i}) = \\frac{-h^{3}}{12}nf''({\\xi})\n",
    "$$\n",
    "\n",
    "\n"
   ]
  },
  {
   "cell_type": "markdown",
   "metadata": {},
   "source": [
    "### Congrats!"
   ]
  }
 ],
 "metadata": {
  "kernelspec": {
   "display_name": "Python 3",
   "language": "python",
   "name": "python3"
  },
  "language_info": {
   "codemirror_mode": {
    "name": "ipython",
    "version": 3
   },
   "file_extension": ".py",
   "mimetype": "text/x-python",
   "name": "python",
   "nbconvert_exporter": "python",
   "pygments_lexer": "ipython3",
   "version": "3.7.3"
  }
 },
 "nbformat": 4,
 "nbformat_minor": 2
}
