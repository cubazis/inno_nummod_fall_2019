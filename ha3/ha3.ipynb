{
  "nbformat": 4,
  "nbformat_minor": 0,
  "metadata": {
    "kernelspec": {
      "display_name": "Python 3",
      "language": "python",
      "name": "python3"
    },
    "language_info": {
      "codemirror_mode": {
        "name": "ipython",
        "version": 3
      },
      "file_extension": ".py",
      "mimetype": "text/x-python",
      "name": "python",
      "nbconvert_exporter": "python",
      "pygments_lexer": "ipython3",
      "version": "3.6.8"
    },
    "colab": {
      "name": "NM evgeny sorokin ha3.ipynb",
      "provenance": [],
      "collapsed_sections": []
    }
  },
  "cells": [
    {
      "cell_type": "code",
      "metadata": {
        "id": "LgTsY-lVdK0h",
        "colab_type": "code",
        "colab": {}
      },
      "source": [
        "import sympy as sp\n",
        "import numpy as np\n",
        "import matplotlib.pyplot as plt"
      ],
      "execution_count": 0,
      "outputs": []
    },
    {
      "cell_type": "markdown",
      "metadata": {
        "id": "PX6plHQVdK0p",
        "colab_type": "text"
      },
      "source": [
        "### 1. Derive formula of $L_{2}(x)$ in terms of interpolation phase $ u = \\frac{x - x_{i}}{h} $.  Integrate $ \\hat{I_{i}^{i+2}}$ with received formula as integrand  [mathematical formula]. Usetimation time: ~30m"
      ]
    },
    {
      "cell_type": "markdown",
      "metadata": {
        "id": "lPwyKJ06dK0q",
        "colab_type": "text"
      },
      "source": [
        "**Note** Use constant step $h = const$ and condition *number of segments is even* $n = 2k$"
      ]
    },
    {
      "cell_type": "markdown",
      "metadata": {
        "id": "eyck_YjbdUb_",
        "colab_type": "text"
      },
      "source": [
        "$L_2(x) = \\frac{(x-x_{i+1})(x-x_{i+2})}{(x_i - x_{i+1})(x_i-x_{i+2})}f_i + \\frac{(x-x_{i})(x-x_{i+2})}{(x_{i+1} - x_{i})(x_{i+1}-x_{i+2})}f_{i+1} + \\frac{(x-x_{i})(x-x_{i+1})}{(x_{i+2} - x_{i})(x_{i+2}-x_{i+1})}f_{i+2}$\n",
        "\n",
        "$u = \\frac{x-x_i}{h} \\implies dx = hdu$\n",
        "\n",
        "$\\forall j > i, x_{j} - x_i = (j-i)h | \\text{as the step size is const}$\n",
        "\n",
        "$\\hat{I}^{i+2}_{i} = \\int_{x_i}^{x_{i+2}}L_2(x)dx=\\int_0^2L_2(u)hdu$\n",
        "\n",
        "\n",
        "1) $\\frac{(x-x_{i+1})(x-x_{i+2})}{(x_i - x_{i+1})(x_i-x_{i+2})} = \\frac{(x-x_i - h)(x-x_i - 2h)}{2h^2} = \\frac{1}{2}(u-1)(u-2) = \\frac{1}{2}(u^2 - 3u +2)$\n",
        "\n",
        "2) $\\frac{(x-x_{i})(x-x_{i+2})}{(x_{i+1} - x_{i})(x_{i+1}-x_{i+2})} = -\\frac{(x-x_i)(x-x_i-2h)}{h^2} = -u(u-2) = -(u^2 - 2u)$\n",
        "\n",
        "3) $\\frac{(x-x_{i})(x-x_{i+1})}{(x_{i+2} - x_{i})(x_{i+2}-x_{i+1})} = \\frac{(x-x_i)(x-x_i - h)}{2h^2} = \\frac{1}{2}u(u-1) = \\frac{1}{2}(u^2-u)$\n",
        "\n",
        "4) $\\int_0^2L_2(u)hdu = h(\\frac{1}{2}(u^3/3-3u^2/2 + 2u)f_i + (u^2-u^3/3)f_{i+1} + f_{i+2}(u^3/6 - u^2/4))|_0^2 = \\frac{h}{3}(f_i + 4f_{i+1} + f_{i+2})$"
      ]
    },
    {
      "cell_type": "code",
      "metadata": {
        "id": "3hYQFdaedK0s",
        "colab_type": "code",
        "colab": {}
      },
      "source": [
        ""
      ],
      "execution_count": 0,
      "outputs": []
    },
    {
      "cell_type": "markdown",
      "metadata": {
        "id": "zO3mYdGzdK0y",
        "colab_type": "text"
      },
      "source": [
        "### 2. Explain how used condition $n = 2k$ helps us in integration. If we want to use odd number of segments we have to integrate with even number of segments but add the value $I_{n-1}^n$. What is the calculation accuracy order of $I_{n-1}^n$? Why? Explain both. [mathematical formula]. Usetimation time: ~30m"
      ]
    },
    {
      "cell_type": "markdown",
      "metadata": {
        "id": "BSCsNf8zmFL6",
        "colab_type": "text"
      },
      "source": [
        "Even number of sectors allows us to apply formula above (previous task), with odd number, however, we are not able to evaluate the value of integral with described formula, there will be missing item $I^n_{n-1}$.  \n",
        "It is possible to evaluate the last sector using overlapping: evaluate the value of 3 sectors using Newton-Cotes formula $I_{i-2}^{i+1} = \\frac{3h}{8}(f_{i-2} + 3f_{i-1} + 3f_i + f_{i+1})$ for values sectors _[n-2, n]_ and then substract paired sectors $I_{n-3}^{n-1}$ using Simpson's formula with accuracy $O(h^5)$"
      ]
    },
    {
      "cell_type": "code",
      "metadata": {
        "id": "jgCtE71TdK00",
        "colab_type": "code",
        "colab": {}
      },
      "source": [
        " "
      ],
      "execution_count": 0,
      "outputs": []
    },
    {
      "cell_type": "markdown",
      "metadata": {
        "id": "G-xXz90-dK04",
        "colab_type": "text"
      },
      "source": [
        "### 3. Derive the formula of whole $\\hat{I_{a}^{b}}$. Summarize all integrals on segments $\\hat{I_{i}^{i+1}}$ for even case, and for odd case. [mathematical formula]. Usetimation time: ~30m"
      ]
    },
    {
      "cell_type": "markdown",
      "metadata": {
        "id": "Vk5lhtrMjpVH",
        "colab_type": "text"
      },
      "source": [
        "_n = 2k_ :: $\\hat{I}^b_a = \\sum_{i=1}^k\\hat{I}^{2i}_{2(i-1)} = \\frac{h}{3}(f_0 + 4(f_1 + f_3 + ... + f_{n-1}) + 2(f_2 + f_4 + ... + f_{n-2}) + f_n)$  \n",
        "\n",
        "_n = 2k+1_ :: \n",
        "$\\hat{I}^b_a = \\sum_{i=1}^k\\hat{I}^{2i}_{2(i-1)} + \\hat{I}^n_{n-1} = \\frac{h}{3}(f_0 + 4(f_1 + f_3 + ... + f_{n-1}) + 2(f_2 + f_4 + ... + f_{n-2}) + f_n) + \\frac{h}{24}(f_{n-3} - 5f_{n-2} + 19f_{n-1} + 9f_n)$  "
      ]
    },
    {
      "cell_type": "code",
      "metadata": {
        "id": "cVbXsDAidK05",
        "colab_type": "code",
        "colab": {}
      },
      "source": [
        ""
      ],
      "execution_count": 0,
      "outputs": []
    },
    {
      "cell_type": "markdown",
      "metadata": {
        "id": "A8I4B4qndK0-",
        "colab_type": "text"
      },
      "source": [
        "### 4. Derive the formula of trapezoid quadrature formula error estimation. Use Taylor series expansion for antiderivative $F_{i+1}$ and $f_{i+1}$  [mathematical formula] Usetimation time: ~30m"
      ]
    },
    {
      "cell_type": "markdown",
      "metadata": {
        "id": "AWqOpCdInvYs",
        "colab_type": "text"
      },
      "source": [
        "$F_{i+1} = F_i + h_{i+1}f_i + \\frac{h^2_{i+1}}{2}f'_i + \\frac{h^3_{i+1}}{6}f''_i$  \n",
        "\n",
        "$f_{i+1} = f_i + h_{i+1}f'_i + \\frac{h^2_{i+1}}{2}f''_i$  \n",
        "\n",
        "$I_{i}^{i+1} - \\hat{I}^{i+1}_i = F_{i+1} - F_i - \\frac{h_{i+1}}{2}(f_i+ f_{i+1}) = F_i + h_{i+1}f_i + \\frac{h^2_{i+1}}{2}f'_i + \\frac{h^3_{i+1}}{6}f''_i - \\frac{h_{i+1}}{2}(f_i+ f_i + h_{i+1}f'_i + \\frac{h^2_{i+1}}{2}f''_i) = \\frac{h^3_{i+1}}{6}f''(\\xi) - \\frac{h^3_{i+1}}{4}f''(\\xi) = -\\frac{1}{12}h^3_{i+1}f''(\\xi)$\n",
        "\n",
        "$|I_{i}^{i+1} - \\hat{I}^{i+1}_i| \\le \\frac{M_{2,i}}{12}h^3_{i+1}$"
      ]
    },
    {
      "cell_type": "code",
      "metadata": {
        "id": "Wm3I0GfBdK0_",
        "colab_type": "code",
        "colab": {}
      },
      "source": [
        ""
      ],
      "execution_count": 0,
      "outputs": []
    },
    {
      "cell_type": "markdown",
      "metadata": {
        "id": "1P4qQYoKdK1F",
        "colab_type": "text"
      },
      "source": [
        "### Congrats!"
      ]
    }
  ]
}