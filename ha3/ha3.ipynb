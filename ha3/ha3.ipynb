{
 "cells": [
  {
   "cell_type": "code",
   "execution_count": 0,
   "metadata": {
    "colab": {},
    "colab_type": "code",
    "id": "3BFG5sTxTBHc"
   },
   "outputs": [],
   "source": [
    "import sympy as sp\n",
    "import numpy as np\n",
    "import matplotlib.pyplot as plt"
   ]
  },
  {
   "cell_type": "markdown",
   "metadata": {
    "colab_type": "text",
    "id": "sgAPYtsPTBHw"
   },
   "source": [
    "### 1. Derive formula of $L_{2}(x)$ in terms of interpolation phase $ u = \\frac{x - x_{i}}{h} $.  Integrate $ \\hat{I_{i}^{i+2}}$ with received formula as integrand  [mathematical formula]. Usetimation time: ~30m"
   ]
  },
  {
   "cell_type": "markdown",
   "metadata": {
    "colab_type": "text",
    "id": "1x2RTEp5TBH6"
   },
   "source": [
    "**Note** Use constant step $h = const$ and condition *number of segments is even* $n = 2k$"
   ]
  },
  {
   "cell_type": "markdown",
   "metadata": {
    "colab_type": "text",
    "id": "Uk8A9P-DVjVv"
   },
   "source": [
    "$$\n",
    "L_2(x) = \\frac{(x-x_{i+1})(x-x_{i+2})}{(x_i-x_{i+1})(x_i-x_{i+2})}f_i + \\frac{(x-x_{i})(x-x_{i+2})}{(x_{i+1}-x_i)(x_{i+1}-x_{i+2})}f_{i+1} + \\frac{(x-x_{i})(x-x_{i+1})}{(x_{i+2}-x_i)(x_{i+2}-x_{i+1})}f_{i+2} \\\\\n",
    "= \\frac{(x-x_{i}-h)(x - x_i - 2h)}{(-h)(-2h)}f_i + \\frac{(x-x_{i})(x-x_{i}-2h)}{(h)(-h)}f_{i+1} + \\frac{(x-x_{i})(x-x_{i}-h)}{(2h)(h)}f_{i+2} \n",
    "$$\n",
    "Putting $u$:\n",
    "\n",
    "$$L_2(u) = (u - 1)(\\frac{u}{2} - 1)f_i + u(u - 2)f_{i+1} + \\frac{u(u - 1)}{2}f_{i+2}$$\n",
    "\n",
    "Integration:\n",
    "\n",
    "$$ \\hat{I}_{i}^{i+2} = \\int_{x_i}^{x_{i+2}} f(x)dx $$\n",
    "\n",
    "Let $dx = h \\cdot du $\n",
    "\n",
    "lower value of limit:\n",
    "$\\frac{x_{i} - x_{i}}{h} = 0$\n",
    "\n",
    "upper value of limit:\n",
    "$\\frac{x_{i+2} - x_{i}}{h} = \\frac{h + x_{i+1} - x_{i}}{h} = \\frac{h + h}{h} = 2$\n",
    "\n",
    "$$ \\hat{I}_{i}^{i+2} = \\int_{x_i}^{x_{i+2}} L_2(x)dx \\\\\n",
    "= \\int_{0}^{2} L_{2}(u)hdu \\\\\n",
    "= \\int_{0}^{2}[\\frac{(u-1)(u-2)}{2}f_i-u(u-2)f_{i+1} + \\frac{u(u-1)}{2}f_{i+2}]hdu \\\\\n",
    "= [(\\frac{u^3}{6}+\\frac{3u^2}{4}+u)f_i-(\\frac{u^3}{3}+u^2)f_{i+1} + (\\frac{u^3}{6}-\\frac{u^2}{4})f_{i+2}]h |_0^2 \\\\ \n",
    " =[(\\frac{2^3}{6}+\\frac{3 \\cdot 2^2}{4}+2)f_i-(\\frac{2^3}{3}+2^2)f_{i+1} + (\\frac{2^3}{6}-\\frac{2^2}{4})f_{i+2}]h   \\\\\n",
    "= [\\frac{1}{3}f_i+\\frac{4}{3}f_{i+1} + \\frac{1}{3}f_{i+2}]h \\\\   \n",
    " = [f_i+4f_{i+1} + f_{i+2}]\\frac{h}{3} $$\n",
    "\n"
   ]
  },
  {
   "cell_type": "markdown",
   "metadata": {
    "colab_type": "text",
    "id": "6N5YvVkkTBIL"
   },
   "source": [
    "### 2. Explain how used condition $n = 2k$ helps us in integration. If we want to use odd number of segments we have to integrate with even number of segments but add the value $I_{n-1}^n$. What is the calculation accuracy order of $I_{n-1}^n$? Why? Explain both. [mathematical formula]. Usetimation time: ~30m"
   ]
  },
  {
   "cell_type": "markdown",
   "metadata": {
    "colab_type": "text",
    "id": "R8pCgQztVlQx"
   },
   "source": [
    "$n = 2k$ makes even number of points, it helps us to construct full three-point template. For even number of segments there are no problems, but for odd number we will have the problem with last segment $\\hat{I}_{n-1}{n+1}$, where we will miss $x_{n+1}.$\n",
    "To use odd number of segments, we use an even number segments and add the value $\\hat{I}_{n-1}^{n}$\n",
    "\n",
    "\n",
    "\n",
    "\n",
    "$\\hat{I}_{n-3}^{n} = \\frac{3h}{8} (f_{n-3} + 3f_{n-2} + 3f_{n-1} + f_{n})$, with accuracy $O(h^5)$ (Simpson $3/8$ rule)\n",
    "\n",
    "$\\hat{I}_{n-3}^{n-1} = [f_{n-3} + 4f_{n-2} + f_{n-1}]\\frac{h}{3}$, with accuracy $O(h^5)$\n",
    "\n",
    "\n",
    "Compute $\\hat{I}_{n-1}^{n} = \\hat{I}_{n-3}^{n} - \\hat{I}_{n-3}^{n-1}$ :\n",
    "\n",
    "\n",
    "\n",
    "$$\\hat{I}_{n-1}^{n} = \\frac{3h}{8} (f_{n-3} + 3f_{n-2} + 3f_{n-1} + f_{n}) - [f_{n-3} + 4f_{n-2} + f_{n-1}]\\frac{h}{3}\\\\ \n",
    "= \\frac{3h}{8}f_{n-3} + \\frac{9h}{8}f_{n-2} + \\frac{9h}{8}f_{n-1} + \\frac{3h}{8}f_{n} - \\frac{h}{3}f_{n-3} - \\frac{4h}{3}f_{n-2} - \\frac{h}{3}f_{n-1}\\\\\n",
    "= \\frac{9h}{24}f_{n-3} + \\frac{27h}{24}f_{n-2} + \\frac{27h}{24}f_{n-1} + \\frac{9h}{24}f_{n} - \\frac{8h}{24}f_{n-3} - \\frac{32h}{24}f_{n-2} - \\frac{8h}{24}f_{n-1}\\\\\n",
    "= \\frac{h}{24}f_{n-3} - \\frac{5h}{24}f_{n-2} + \\frac{19h}{24}f_{n-1} + \\frac{9h}{24}f_{n}\\\\\n",
    "= \\frac{h}{24}[f_{n-3} - 5f_{n-2} + 19f_{n-1} + 9f_{n}]$$\n",
    "\n",
    "\n",
    "Both have accuracy $O(h^5)$, their difference will aslo be $O(h^5)$."
   ]
  },
  {
   "cell_type": "markdown",
   "metadata": {
    "colab_type": "text",
    "id": "0iy5GxvvTBIe"
   },
   "source": [
    "### 3. Derive the formula of whole $\\hat{I_{a}^{b}}$. Summarize all integrals on segments $\\hat{I_{i}^{i+1}}$ for even case, and for odd case. [mathematical formula]. Usetimation time: ~30m"
   ]
  },
  {
   "cell_type": "markdown",
   "metadata": {
    "colab_type": "text",
    "id": "CgeffVP5Vl3Q"
   },
   "source": [
    "Even case:\n",
    "\n",
    "$$\\hat{I}^{b}_a = \\sum_{i=0}^{n-2}I^{i+2}_i \\\\ \n",
    "= \\frac{h}{3}[(f_0+4f_1+f_2)+(f_2+4f_3+f_4) + \\ldots + (f_{n-2}+4f_{n-1}+f_n)] \\\\\n",
    "= \\frac{h}{3}[(f_0+4(f_1+f_3+\\ldots+f_{2k-1}) + 2(f_2+f_4+\\ldots+f_{2k-2})+f_{2k}] \\\\ \n",
    "= \\frac{h}{3}[f_0+4\\sum_{i=1}^{k}f_{2i-1}+2\\sum_{i=1}^{k-1}f_{2i}+f_{2k}] \n",
    "$$\n",
    "\n",
    "Odd case:\n",
    "\n",
    "$$\\hat{I}_{a}^{b} = \\frac{h}{3}[f_0+4\\sum_{i=1}^{k}f_{2i-1}+2\\sum_{i=1}^{k-1}f_{2i}+f_{2k}] + \\frac{h}{24}(f_{2k-2} - 5f_{2k-1} + 19f_{2k} + 9f_{2k+1}) $$"
   ]
  },
  {
   "cell_type": "markdown",
   "metadata": {
    "colab_type": "text",
    "id": "SdgEG0HnTBIv"
   },
   "source": [
    "### 4. Derive the formula of trapezoid quadrature formula error estimation. Use Taylor series expansion for antiderivative $F_{i+1}$ and $f_{i+1}$  [mathematical formula] Usetimation time: ~30m"
   ]
  },
  {
   "cell_type": "markdown",
   "metadata": {
    "colab_type": "text",
    "id": "e21k3tfTVnK2"
   },
   "source": [
    "Trapezoid quadratic formula:\n",
    "$\\hat{I}_{i, tr}^{i+1} = h_{i + 1} \\frac{f_i + f_{i+1}}{2}$\n",
    "\n",
    "Trapezoid quadrature formula error:\n",
    "$I_{i}^{i+1} - \\hat{I}_{i, tr}^{i+1}$\n",
    "\n",
    "\n",
    "$I_{i}^{i+1} = F_{i+1} - F_i$\n",
    "\n",
    "So trapezoid quadrature formula error becomes:\n",
    "$I_{i}^{i+1} - \\hat{I}_{i, tr}^{i+1} = F_{i+1} - F_{i} - h_{i+1} \\frac{f_i + f_{i+1}}{2}$\n",
    "\n",
    "Presentaion of $F_{i+1}$ as Taylor series:\n",
    "$$F_{i+1} = F_{i} + h_{i+1}F^{'}_{i} + \\frac{h_{i+1}^{2}}{2} F^{''}_{i} + \\frac{h_{i+1}^{3}}{6} F^{'''}_{i} \\\\ \n",
    "= F_{i} + h_{i+1}f_{i} + \\frac{h_{i+1}^{2}}{2} f_{i}^{'} + \\frac{h_{i+1}^{3}}{6} f^{''}(\\xi_{i})$$\n",
    "Presentaion of $f_{i+1}$ as Taylor series:\n",
    "$$f_{i+1} = f_{i} + h_{i+1}f_{i}^{'}+\\frac{h_{i+1}^{2}}{2} f^{''}(\\xi_{i})$$\n",
    "\n",
    "Put them into trapezoid quadrature formula error:\n",
    "$$I_{i}^{i+1} - \\hat{I}_{i, tr}^{i+1} = F_{i} + h_{i+1}f_{i} + \\frac{h_{i+1}^{2}}{2} f_{i}^{'} + \\frac{h_{i+1}^{3}}{6} f^{''}(\\xi_{i}) - F_{i} - \\frac{h_{i+1}}{2} [f_i + f_{i} + h_{i+1}f_{i}^{'}+\\frac{h_{i+1}^{2}}{2} f^{''}(\\xi_{i})]\\\\\n",
    "= h_{i+1}f_{i} + \\frac{h_{i+1}^{2}}{2} f_{i}^{'} + \\frac{h_{i+1}^{3}}{6} f^{''}(\\xi_{i}) - h_{i+1}f_i - \\frac{h_{i+1}^2}{2} f_{i}^{'} - \\frac{h_{i+1}^3}{4} f^{''}(\\xi_{i})\\\\\n",
    "= \\frac{h_{i+1}^{3}}{6} f^{''}(\\xi_{i}) - \\frac{h_{i+1}^3}{4} f^{''}(\\xi_{i}) \\\\ \n",
    "= -\\frac{h_{i+1}^3}{12} f^{''}(\\xi_{i})$$\n",
    "\n",
    "Majorant is $M_{2, i} = \\max \\limits_{[x_i, x_{i+1}]} |f^{''}(x)|$\n",
    "$$|I_i^{i+1} - \\hat{I}_{i, tr}^{i+1}| \\leq \\frac{M_{2, i}}{12} h^3_{i+1}$$\n",
    "\n",
    "\n",
    "\n"
   ]
  },
  {
   "cell_type": "markdown",
   "metadata": {
    "colab_type": "text",
    "id": "vQGH4lk-TBI_"
   },
   "source": [
    "### Congrats!"
   ]
  }
 ],
 "metadata": {
  "colab": {
   "collapsed_sections": [],
   "name": "ha3.ipynb",
   "provenance": []
  },
  "kernelspec": {
   "display_name": "Python 3",
   "language": "python",
   "name": "python3"
  },
  "language_info": {
   "codemirror_mode": {
    "name": "ipython",
    "version": 2
   },
   "file_extension": ".py",
   "mimetype": "text/x-python",
   "name": "python",
   "nbconvert_exporter": "python",
   "pygments_lexer": "ipython2",
   "version": "2.7.15+"
  }
 },
 "nbformat": 4,
 "nbformat_minor": 1
}
