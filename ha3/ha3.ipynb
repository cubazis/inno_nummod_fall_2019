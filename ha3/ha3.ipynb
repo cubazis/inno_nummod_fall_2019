{
 "cells": [
  {
   "cell_type": "code",
   "execution_count": 1,
   "metadata": {},
   "outputs": [],
   "source": [
    "import sympy as sp\n",
    "import numpy as np\n",
    "import matplotlib.pyplot as plt"
   ]
  },
  {
   "cell_type": "markdown",
   "metadata": {},
   "source": [
    "### 1. Derive formula of $L_{2}(x)$ in terms of interpolation phase $ u = \\frac{x - x_{i}}{h} $.  Integrate $ \\hat{I_{i}^{i+2}}$ with received formula as integrand  [mathematical formula]. Usetimation time: ~30m"
   ]
  },
  {
   "cell_type": "markdown",
   "metadata": {},
   "source": [
    "**Note** Use constant step $h = const$ and condition *number of segments is even* $n = 2k$"
   ]
  },
  {
   "cell_type": "markdown",
   "metadata": {
    "pycharm": {
     "name": "#%% md\n"
    }
   },
   "source": [
    "\\begin{gather}\n",
    "    L_2(x) = \\frac{(x-x_{i+1})(x-x_{i+2})}{(x_i - x_{i+1})(x_i - x_{i+2})}f_i \n",
    "        + \\frac{(x-x_{i})(x-x_{i+2})}{(x_{i+1} - x_{i})(x_{i+1}- x_{i+2})}f_{i+1}\n",
    "        + \\frac{(x-x_{i})(x-x_{i+1})}{(x_{i+2} - x_{i})(x_{i+2} - x_{i+1})}f_{i+2}; \\\\\n",
    "    L_2(x) = (\\frac{(x-x_{i})-(x_{i+1} - x_i)}{x_{i+1} - x_i})\n",
    "                (\\frac{(x-x_i) - (x_{i+1}-x_i) -(x_{i+2}-x_{i+1})}{(x_{i+2} - x_{i+1}) + (x_{i+1} - x_i)})f_i \n",
    "        + (\\frac{(x-x_{i})}{(x_{i+1} - x_{i})})\n",
    "                (\\frac{(x-x_i) - (x_{i+1}-x_i) -(x{i+2} - x_{i+1})}{-(x_{i+2} - x_{i+1})})f_{i+1}\n",
    "        + (\\frac{(x-x_{i})}{(x_{i+2} -x_{i+1}) + (x_{i+1}- x_{i})})\n",
    "                (\\frac{x-x_i - (x_{i+1}-x_i)}{(x_{i+2} - x_{i+1})})f_{i+2};  \\\\\n",
    "    L_2(x) = (\\frac{uh-h}{h})(\\frac{uh - h -h}{h + h})f_i \n",
    "        + (\\frac{uh}{h})(\\frac{uh - h - h}{-h})f_{i+1}\n",
    "        + (\\frac{uh}{h + h})(\\frac{uh - h}{h})f_{i+2}; \\\\\n",
    "    L_2(x) = \\frac{(u-1)(u - 2)}{2}f_i - u(u - 2)f_{i+1} + \\frac{u(u - 1)}{2}f_{i+2}.\n",
    "\\end{gather}\n",
    "\n",
    "Integrate $ \\hat{I_{i}^{i+2}}$:\n",
    "\n",
    "\\begin{gather}\n",
    "    \\hat{I_{i}^{i+2}} = \\int_{x_i}^{x_{i+2}}L_2(x) dx; \\\\\n",
    "    \\hat{I_{i}^{i+2}} = \\int_{0}^{2} [\\frac{(u-1)(u - 2)}{2}f_i - u(u - 2)f_{i+1} + \\frac{u(u - 1)}{2}f_{i+2}] hdu;\\\\\n",
    "    \\hat{I_{i}^{i+2}} = \\frac{f_i h}{2}\\int_{0}^{2} (u^2 - 3u +2)du - f_{i+1}h\\int_{0}^{2} (u^2 - 2u) du + \\frac{f_{i+2} h}{2} \\int_{0}^{2}(u^2 - u)du;   \\\\ \n",
    "    \\hat{I_{i}^{i+2}} = \\frac{f_i h}{2}[\\frac{u^3}3 - \\frac{3u^2}2 +2u]|_0^2 \n",
    "            - f_{i+1}h [\\frac{u^3}3 - \\frac{2u^2}2]|_0^2  \n",
    "            + \\frac{f_{i+2} h}{2} [\\frac{u^3}3 - \\frac{u^2}2]|_0^2;    \\\\\n",
    "    \\hat{I_{i}^{i+2}} = \\frac{f_i h}{2}(\\frac{8}3 - 6 +4) - f_{i+1}h (\\frac{8}3- 4) + \\frac{f_{i+2} h}{2} (\\frac{8}3 - 2);    \\\\\n",
    "    \\hat{I_{i}^{i+2}} = \\frac{f_i h}{3}(4 - 3) - \\frac{f_{i+1}h}{3} (8 - 12) + \\frac{f_{i+2} h}{3} (4 - 3);    \\\\\n",
    "    \\hat{I_{i}^{i+2}} = \\frac{f_i h}{3} + \\frac{4f_{i+1}h}{3} + \\frac{f_{i+2} h}{3}; \\\\\n",
    "    \\hat{I_{i}^{i+2}} =\\frac{h}{3}( f_i + 4f_{i+1} + f_{i+2}).\n",
    "\\end{gather}\n",
    "\n",
    "\n",
    "\n",
    "\n",
    "\n",
    "\n",
    "\n"
   ]
  },
  {
   "cell_type": "markdown",
   "metadata": {},
   "source": [
    "### 2. Explain how used condition $n = 2k$ helps us in integration. If we want to use odd number of segments we have to integrate with even number of segments but add the value $I_{n-1}^n$. What is the calculation accuracy order of $I_{n-1}^n$? Why? Explain both. [mathematical formula]. Usetimation time: ~30m"
   ]
  },
  {
   "cell_type": "markdown",
   "metadata": {
    "pycharm": {
     "name": "#%% md\n"
    }
   },
   "source": [
    "Formula $\\hat{I_{i}^{i+2}} =\\frac{h}{3}( f_i + 4f_{i+1} + f_{i+2})$ used when $n$ is even \n",
    "and we computing every to pairs of the segments \n",
    "If the $n$ is odd therefore we should integrate one more segment by Newton-Kotes formula.\n",
    "\n",
    "\\begin{gather}\n",
    "    I_{n-1}^n = I_{n-3}^n - I_{n-3}^{n-2} = \\frac{3h}{8}( f_{n-3} + 3f_{n-2} + 3f_{n-1} + f_{n}) - \\frac{h}{3}( f_{n-3} + 4f_{n-2} + f_{n-1});\\\\\n",
    "    I_{n-1}^n = \\frac{3h}{8}f_{n-3} + \\frac{6h}{8}f_{n-2} + \\frac{9h}{8}f_{n-1} + \\frac{3h}{8}f_{n} \n",
    "        - \\frac{h}{3} f_{n-3} -  \\frac{4h}{3}f_{n-2} - \\frac{h}{3} f_{n-1};    \\\\\n",
    "    I_{n-1}^n = \\frac{9h}{24}f_{n-3} - \\frac{8h}{24} f_{n-3} + \\frac{27h}{24}f_{n-2} -  \\frac{32h}{24}f_{n-2} \n",
    "        + \\frac{18h}{24}f_{n-1} - \\frac{8h}{24} f_{n-1} + \\frac{9h}{24}f_{n}; \\\\\n",
    "    I_{n-1}^n = \\frac{h}{24}f_{n-3} -  \\frac{8h}{24}f_{n-2} + \\frac{19h}{24}f_{n-1}+ \\frac{9h}{24}f_{n};\\\\\n",
    "    I_{n-1}^n = \\frac{h}{24} (f_{n-3} -  8f_{n-2} + 19f_{n-1} + 9f_{n}).\n",
    "\\end{gather}\n",
    "\n",
    "Both Newton-Kotes formula and Simpson formula have accuracy $O(h^5)$ therefore their difference has the same accuracy $O(h^5)$."
   ]
  },
  {
   "cell_type": "markdown",
   "metadata": {},
   "source": [
    "### 3. Derive the formula of whole $\\hat{I_{a}^{b}}$. Summarize all integrals on segments $\\hat{I_{i}^{i+1}}$ for even case, and for odd case. [mathematical formula]. Usetimation time: ~30m"
   ]
  },
  {
   "cell_type": "markdown",
   "metadata": {
    "pycharm": {
     "name": "#%% md\n"
    }
   },
   "source": [
    "Even case $n = 2k$:\n",
    "\n",
    "\\begin{gather}\n",
    "    \\hat{I_{a}^{b}} = \\sum_{i=0}^{k-1}\\hat{I_{i}^{i+2}} =\\frac{h}{3}( \\sum_{i=0}^{k-1}f_2i + \\sum_{i=0}^{k-1}4f_{2i+1} + \\sum_{i=0}^{k-1}f_{2i+2}); \\\\\n",
    "    \\hat{I_{a}^{b}} =\\frac{h}{3}( f_0 +  \\sum_{i=1}^{k-1}f_2i + \\sum_{i=0}^{k-1}4f_{2i+1} + \\sum_{i=1}^{k}f_{2i}); \\\\\n",
    "    \\hat{I_{a}^{b}} =\\frac{h}{3}( f_0 +  \\sum_{i=1}^{k-1}f_2i + \\sum_{i=0}^{k-1}4f_{2i+1} + \\sum_{i=1}^{k-1}f_{2i} + f_{2k});\\\\\n",
    "    \\hat{I_{a}^{b}} =\\frac{h}{3}( f_0 + 2 \\sum_{i=1}^{k-1}f_2i + \\sum_{i=0}^{k-1}4f_{2i+1} + f_{2k}).\n",
    "\\end{gather}\n",
    "\n",
    "Odd case $n = 2k+1$:\n",
    "\n",
    "\n",
    "\\begin{gather}\n",
    "    \\hat{I_{a}^{b}} =\\frac{h}{3}( f_0 + 2 \\sum_{i=1}^{k-1}f_2i + \\sum_{i=0}^{k-1}4f_{2i+1} + f_{2k}) \n",
    "        + \\frac{h}{24} (f_{2k-2} -  8f_{2k-1} + 19f_{2k} + 9f_{2k+1}).\n",
    "\\end{gather}\n",
    "\n",
    "\n",
    "\n",
    "\n"
   ]
  },
  {
   "cell_type": "markdown",
   "metadata": {},
   "source": [
    "### 4. Derive the formula of trapezoid quadrature formula error estimation. Use Taylor series expansion for antiderivative $F_{i+1}$ and $f_{i+1}$  [mathematical formula] Usetimation time: ~30m"
   ]
  },
  {
   "cell_type": "markdown",
   "metadata": {
    "pycharm": {
     "name": "#%% md\n"
    }
   },
   "source": [
    "Trapezoid quadrature formula:\n",
    "\n",
    "\n",
    "\\begin{gather}\n",
    "    I_{i}^{i+1} - \\hat{I_{i,tr}^{i+1}} = F_{i+1} - F_{i} - \\frac{h_{i+1}}{2} (f_i + f{i+1}).\n",
    "\\end{gather}\n",
    "\n",
    "Taylor series expansion:\n",
    "\n",
    "\\begin{gather}\n",
    "   F_{i+1} = F_i + h_{i+1}f_i + \\frac{h_{i+1}^2 }{2} f_i^{\\prime} + \\frac{h_{i+1}^3 }{6} f_i^{\\prime\\prime} (\\zeta); \\\\\n",
    "   f_{i+1} = f_i + h_{i+1} f_i^{\\prime} + \\frac{h_{i+1}^2}{2} f_i^{\\prime\\prime} (\\zeta); \\\\\n",
    "   \\zeta \\in (x_i,x_{i+1}).   \n",
    "\\end{gather}\n",
    "\n",
    "Therefore:\n",
    "\n",
    "\\begin{gather}\n",
    "    I_{i}^{i+1} - \\hat{I_{i,tr}^{i+1}} = F_i + h_{i+1}f_i + \\frac{h_{i+1}^2}{2} f_i^{\\prime} + \\frac{h_{i+1}^3}{6} f_i^{\\prime\\prime} (\\zeta) - F_{i} \n",
    "        - \\frac{h_{i+1}}{2} (f_i + f_i + h_{i+1} f_i^{\\prime} + \\frac{h_{i+1}^2}{2} f_i^{\\prime\\prime} (\\zeta)); \\\\\n",
    "    I_{i}^{i+1} - \\hat{I_{i,tr}^{i+1}} =h_{i+1}f_i + \\frac{h_{i+1}^2 }{2} f_i^{\\prime} + \\frac{h_{i+1}^3 }{6} f_i^{\\prime\\prime} (\\zeta)\n",
    "        - \\frac{h_{i+1}}{2} 2f_i  - \\frac{h_{i+1}}{2} h_{i+1} f_i^{\\prime} - \\frac{h_{i+1}}{2}\\frac{h_{i+1}^2}{2} f_i^{\\prime\\prime} (\\zeta); \\\\\n",
    "    I_{i}^{i+1} - \\hat{I_{i,tr}^{i+1}} =h_{i+1}f_i + \\frac{h_{i+1}^2}{2} f_i^{\\prime} + \\frac{h_{i+1}^3}{6} f_i^{\\prime\\prime} (\\zeta)\n",
    "        - h_{i+1} f_i  - \\frac{h_{i+1}^2}{2} f_i^{\\prime} - \\frac{h_{i+1}^3}{4} f_i^{\\prime\\prime} (\\zeta); \\\\\n",
    "    I_{i}^{i+1} - \\hat{I_{i,tr}^{i+1}} = \\frac{2h_{i+1}^3}{12} f_i^{\\prime\\prime} (\\zeta) - \\frac{3h_{i+1}^3}{12} f_i^{\\prime\\prime} (\\zeta); \\\\\n",
    "    I_{i}^{i+1} - \\hat{I_{i,tr}^{i+1}} = -\\frac{h_{i+1}^3}{12} f_i^{\\prime\\prime} (\\zeta).\n",
    "\\end{gather}"
   ]
  },
  {
   "cell_type": "markdown",
   "metadata": {},
   "source": [
    "### Congrats!"
   ]
  }
 ],
 "metadata": {
  "kernelspec": {
   "display_name": "Python 3",
   "language": "python",
   "name": "python3"
  },
  "language_info": {
   "codemirror_mode": {
    "name": "ipython",
    "version": 3
   },
   "file_extension": ".py",
   "mimetype": "text/x-python",
   "name": "python",
   "nbconvert_exporter": "python",
   "pygments_lexer": "ipython3",
   "version": "3.6.8"
  },
  "pycharm": {
   "stem_cell": {
    "cell_type": "raw",
    "source": [],
    "metadata": {
     "collapsed": false
    }
   }
  }
 },
 "nbformat": 4,
 "nbformat_minor": 2
}