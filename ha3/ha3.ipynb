{
  "nbformat": 4,
  "nbformat_minor": 0,
  "metadata": {
    "kernelspec": {
      "display_name": "Python 3",
      "language": "python",
      "name": "python3"
    },
    "language_info": {
      "codemirror_mode": {
        "name": "ipython",
        "version": 3
      },
      "file_extension": ".py",
      "mimetype": "text/x-python",
      "name": "python",
      "nbconvert_exporter": "python",
      "pygments_lexer": "ipython3",
      "version": "3.6.8"
    },
    "colab": {
      "name": "ha3.ipynb",
      "provenance": []
    }
  },
  "cells": [
    {
      "cell_type": "markdown",
      "metadata": {
        "id": "FrpKRXR-cZ4P",
        "colab_type": "text"
      },
      "source": [
        "### 1. Derive formula of $L_{2}(x)$ in terms of interpolation phase $ u = \\frac{x - x_{i}}{h} $.  Integrate $\\hat{I_{i}}^{i+2}$ with received formula as integrand  [mathematical formula]. Usetimation time: ~30m"
      ]
    },
    {
      "cell_type": "markdown",
      "metadata": {
        "id": "vIUmOcS6cZ4T",
        "colab_type": "text"
      },
      "source": [
        "**Note** Use constant step $h = const$ and condition *number of segments is even* $n = 2k$"
      ]
    },
    {
      "cell_type": "markdown",
      "metadata": {
        "id": "q7BY_zt_fo0j",
        "colab_type": "text"
      },
      "source": [
        "$L_k(x)=\\sum_{m=i}^{i+k}P_{km}(x)\\cdot f_m$, for $m \\neq i$ \n",
        "\n",
        "where Lagrange coefficients $P_{ni}(x)$ can be derived in the scope of segnment as following:\n",
        "\n",
        "$P_{km}(x) = \\frac{(x-x_i)\\cdot (x-x_{i+1})...(x-x_{m-1})\\cdot (x-x_{m+1})...(x-x_k)}{(x_m-x_i)\\cdot (x_m-x_{i+1})...(x_m-x_{m-1})\\cdot (x_m-x_{m+1})...(x_m-x_k)}$, for $m \\neq i$\n",
        "\n",
        "Then,\n",
        "\n",
        "$L_2(x)=\\frac{(x-x_{i+1})\\cdot (x-x_{i+2})}{(x_i-x_{i+1})\\cdot (x_i-x_{i+2})}f_i + \\frac{(x-x_{i})\\cdot (x-x_{i+2})}{(x_{i+1}-x_{i})\\cdot (x_{i+1}-x_{i+2})}f_{i+1} + \\frac{(x-x_{i})\\cdot (x-x_{i+1})}{(x_{i+2}-x_{i})\\cdot (x_{i+2}-x_{i+1})}f_{i+2}$\n",
        "\n",
        "Let $h=h_i=h_{i+1}=const, i=\\overline{1,n}$ \n",
        "\n",
        "and $u=\\frac{x-x_i}{h}$:\n",
        "\n",
        "$\\frac{x-x_{i+1}}{h}=\\frac{x-(x_i+h)}{h}=\\frac{x-x_i-h}{h}=\\frac{x-x_i}{h}-\\frac{h}{h}=u-1$\n",
        "\n",
        "$\\frac{x-x_{i+2}}{h}=\\frac{x-(x_i+2h)}{h}=\\frac{x-x_i-2h}{h}=\\frac{x-x_i}{h}-\\frac{2h}{h}=u-2$\n",
        "\n",
        "Thus,\n",
        "\n",
        "$L_2(u)=\\frac{(u-1)(u-2)}{2}f_i-u(u-2)f_{i+1}+\\frac{u(u-1)}{2}f_{i+2}$\n",
        "\n",
        "$\\hat{I_{i}}^{i+2} = \\int^{x_{i+2}}_{x_i}L_2(x)=(L_2(x)\\rightarrow L_2(u): dx=hdu, u \\in [0,2])=\\int^2_0(L_2(u)\\cdot h)du$\n",
        "\n",
        "$=\\frac{f_ih}{2}\\int_0^2(u^2-3u+2)du -f_{i+1}h\\int_0^2(u^2-u)du + \\frac{f_{i+2}h}{2}\\int^2_0(u^2-u)du$\n",
        "\n",
        "$=\\frac{f_ih}{2}(\\frac{u^3}{3}-\\frac{3u^2}{2}+2u)|^2_0-f_{i+1}h(\\frac{u^3}{3}-u^2)|^2_0+\\frac{f_{i+1}}{2}h(\\frac{u^3}{3}-\\frac{u^2}{2})|^2_0$\n",
        "\n",
        "$=\\frac{h}{3}(f_i+4f_{i+1}+f_{i+2})$"
      ]
    },
    {
      "cell_type": "markdown",
      "metadata": {
        "id": "y4Pi8LWMcZ4b",
        "colab_type": "text"
      },
      "source": [
        "### 2. Explain how used condition $n = 2k$ helps us in integration. If we want to use odd number of segments we have to integrate with even number of segments but add the value $I_{n-1}^n$. What is the calculation accuracy order of $I_{n-1}^n$? Why? Explain both. [mathematical formula]. Usetimation time: ~30m"
      ]
    },
    {
      "cell_type": "markdown",
      "metadata": {
        "id": "5CB5EDocfqaE",
        "colab_type": "text"
      },
      "source": [
        "$\\hat{I}^{i+2}_{i}$ can be calculated on three points, or, on two segments: $\\{(i, i+1); (i+1, i+2)\\}$. \n",
        "\n",
        "If the number of segments is even (means the number of points is odd) resulting $\\hat{I}^a_b$ can be interpolated by bunch of parabolas, constructed on each pair of segments. \n",
        "\n",
        "If it is odd, then it is needed to calculate the integral related to last segment $\\hat{I}^n_{n-1}$. This can be found by subtraction of $\\hat{I}^{n-1}_{n-3}$ ($O(h^5)$ by Simpson formula) from $\\hat{I}^{n}_{n-3}$ ($O(h^5)$ by Newton-Kotes formula).\n",
        "\n",
        "$\\hat{I}^n_{n-1} = \\hat{I}^{n}_{n-3} - \\hat{I}^{n-1}_{n-3} = \\frac{3h}{8}(f_{n-3} + 3f_{n-2}+3f_{n-1}+f_{n}) - \\frac{h}{3}(f_{n-3} + 4f_{n-2} + f_{n-1})$\n",
        "\n",
        "$=\\frac{h}{24}(f_{n-3}-5f_{n-2} + 19f_{n-1}+9f_{n})$   $\\ \\ (O(h^5))$\n",
        "\n"
      ]
    },
    {
      "cell_type": "markdown",
      "metadata": {
        "id": "4Z19pTtXcZ4i",
        "colab_type": "text"
      },
      "source": [
        "### 3. Derive the formula of whole $\\hat{I_{a}^{b}}$. Summarize all integrals on segments $\\hat{I_{i}}^{i+1}$ for even case, and for odd case. [mathematical formula]. Usetimation time: ~30m"
      ]
    },
    {
      "cell_type": "markdown",
      "metadata": {
        "id": "uBAiyoiDfsIb",
        "colab_type": "text"
      },
      "source": [
        "Case of even number of segments:\n",
        "\n",
        "$\\hat{I}_a^b = \\sum_{i=0}^{k-1} \\frac{h}{3} (f_{2i} + 4f_{2i+1} + f_{2i+2}) =\n",
        "  \\frac{h}{3} (\\sum_{i=0}^{k-1} f_{2i} + 4\\sum_{i=0}^{k-1} f_{2i+1} + \\sum_{i=0}^{k-1} f_{2i+2}) =\n",
        "  \\frac{h}{3} (f_0 + 2\\sum_{i=1}^{k-1} f_{2i} + 4\\sum_{i=0}^{k-1} f_{2i+1}+ f_{2k})$\n",
        "\n",
        "Case of odd number of segments:\n",
        "\n",
        "$\\hat{I}^a_b=\\hat{I}^{b}_{x_{n-1}}+\\hat{I}^{x_{n-1}}_a = \\frac{h}{3} (f_0 + 2\\sum_{i=1}^{k-1} f_{2i} + 4\\sum_{i=0}^{k-1} f_{2i+1}+ f_{2k}) + \\frac{h}{24}(f_{n-3}-5f_{n-2} + 19f_{n-1}+9f_{n})$"
      ]
    },
    {
      "cell_type": "markdown",
      "metadata": {
        "id": "p38Yv_PGcZ4p",
        "colab_type": "text"
      },
      "source": [
        "### 4. Derive the formula of trapezoid quadrature formula error estimation. Use Taylor series expansion for antiderivative $F_{i+1}$ and $f_{i+1}$  [mathematical formula] Usetimation time: ~30m"
      ]
    },
    {
      "cell_type": "markdown",
      "metadata": {
        "id": "mZZSUGG8ftps",
        "colab_type": "text"
      },
      "source": [
        "$I^{i+1}_i-\\hat{I_{i}}^{i+1}=F_{i+1}-F_i-\\frac{h_{i+1}}{2}(f_i+f_{i+1})$\n",
        "\n",
        "$=F_i+h_{i+1}f_i+\\frac{h_{i+1}^2}{2}f'_i+\\frac{h^3_{i+1}}{6}f''(\\xi_i)-F_i-\\frac{h_{i+1}}{2}[f_i+f_i+h_{i+1}f'_i+\\frac{h^2_{i+1}}{2}f''(\\xi_i)]$\n",
        "\n",
        "$=\\frac{h_{i+1}^3}{6}f''(\\xi_i)-\\frac{h_{i+1}^3}{4}f''(\\xi_i)$\n",
        "\n",
        "$=-\\frac{1}{12}h_{i+1}^3f''(\\xi_i)$, where $\\xi_i \\in (x_i, x_{i+1})$"
      ]
    },
    {
      "cell_type": "markdown",
      "metadata": {
        "id": "No1BP2LhcZ4x",
        "colab_type": "text"
      },
      "source": [
        "### Congrats!"
      ]
    }
  ]
}