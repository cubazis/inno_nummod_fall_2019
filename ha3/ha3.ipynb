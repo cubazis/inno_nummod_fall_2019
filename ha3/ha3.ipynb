{
 "cells": [
  {
   "cell_type": "code",
   "execution_count": 1,
   "metadata": {},
   "outputs": [],
   "source": [
    "import sympy as sp\n",
    "import numpy as np\n",
    "import matplotlib.pyplot as plt"
   ]
  },
  {
   "cell_type": "markdown",
   "metadata": {},
   "source": [
    "### 1. Derive formula of $L_{2}(x)$ in terms of interpolation phase $ u = \\frac{x - x_{i}}{h} $.  Integrate $ \\hat{I_{i}^{i+2}}$ with received formula as integrand  [mathematical formula]. Usetimation time: ~30m"
   ]
  },
  {
   "cell_type": "markdown",
   "metadata": {},
   "source": [
    "**Note** Use constant step $h = const$ and condition *number of segments is even* $n = 2k$"
   ]
  },
  {
   "cell_type": "markdown",
   "metadata": {},
   "source": [
    "\n",
    "$$L_2(x)=f_i\\frac{(x-x_{i-1})(x-x_{i+1})}{(x_i-x_{i-1})(x_i-x_{i+1})}+f_{i+1}\\frac{(x-x_{i})(x-x_{i+2})}{(x_{i+1}-x_{i})(x_{i+1}-x_{i+2})}+f_{i+2}\\frac{(x-x_{i})(x-x_{i+2})}{(x_{i+1}-x_{i})(x_{i+1}-x_{i+2})}$$\n",
    "\n",
    "$$x-x_i=uh, \\  x-x_{i+1}=x-(x_i+h)=uh-h=h(u-1), \\ x-x_{i+2}=h(u-2)$$\n",
    "\n",
    "$$L_2(x)=f_i \\frac{(u-1)(u-2)}{2}+f_{i+1}u(u-2)+f_{i+1} \\frac{(u-1)u}{2}$$\n",
    "\n",
    "$$\\hat I_i^{i+2} = \\int_i^{i+2} (\\frac{u(u-1)}{2}f_i - (u^2-1)f_{i+1} + \\frac{(u+1)u}{2}f_{i+2})h  du$$\n",
    "\n",
    "$$\n",
    "\\hat I_i^{i+2} = h ((\\frac{u^3}{6} - \\frac{u^2}{4})f_i\n",
    "- (\\frac{u^3}{3} - u)f_{i+1}\n",
    "+ (\\frac{u^3}{6} + \\frac{u^2}{4})f_{i+2}) |_i^{i+2}\n",
    "$$\n",
    "\n",
    "$$\n",
    "\\hat I_i^{i+2} = \\frac{h}{3} (f_i + 4f_{i+1} + f_{i+2})\n",
    "$$"
   ]
  },
  {
   "cell_type": "markdown",
   "metadata": {},
   "source": [
    "### 2. Explain how used condition $n = 2k$ helps us in integration. If we want to use odd number of segments we have to integrate with even number of segments but add the value $I_{n-1}^n$. What is the calculation accuracy order of $I_{n-1}^n$? Why? Explain both. [mathematical formula]. Usetimation time: ~30m"
   ]
  },
  {
   "cell_type": "markdown",
   "metadata": {},
   "source": [
    "$n=2k$ helps us in integration since $L_2(x)$ uses three-point template and hence need two sections per iteration, otherwise,  $n = 2k + 1$, there will be one unpaired section and we will need to add additional term $I^n_{n-1}$. It can be calculated with error of order $O(h^5)$, using Euler-Maclaurin quadrature formula:\n",
    "\n",
    "$$\n",
    "\\hat I_{n-1}^n = \\frac{h}{24}(f_{n-3} - 5f_{n-2} + 19f_{n-1} + 9f_n)\n",
    "$$\n",
    "\n",
    "(5.64) from Kireev"
   ]
  },
  {
   "cell_type": "markdown",
   "metadata": {},
   "source": [
    "### 3. Derive the formula of whole $\\hat{I_{a}^{b}}$. Summarize all integrals on segments $\\hat{I_{i}^{i+1}}$ for even case, and for odd case. [mathematical formula]. Usetimation time: ~30m"
   ]
  },
  {
   "cell_type": "markdown",
   "metadata": {},
   "source": [
    "$\\bullet$ For even case:\n",
    "\n",
    "$$\\hat I_a^b = \\sum_{i=0}^{k-1} \\frac{h}{3} (f_{2i} + 4f_{2i+1} + f_{2i+2}) = $$\n",
    "\n",
    "$$= \\frac{h}{3} (\\sum_{i=0}^{k-1} f_{2i} + 4\\sum_{i=0}^{k-1} f_{2i+1} + \\sum_{i=0}^{k-1} f_{2i+2}) = $$\n",
    "\n",
    "$$ = \\frac{h}{3} (f_0 + f_{2k} + 2\\sum_{i=1}^{k-1} f_{2i} + 4\\sum_{i=0}^{k-1} f_{2i+1}) $$\n",
    "\n",
    "(5.50) from Kireev\n",
    "\n",
    "$\\bullet$ For odd case (even case + previous task):\n",
    "\n",
    "$$\n",
    "\\hat I_b^a = \\sum_{i=1}^k I_{2(i-1)}^{2i} + I_{n-1}^n\n",
    "= \\frac{h}{3}(f_0 + 4(f_1 + f_3 + \\cdots + f_{n-2}) + 2(f_2 + f_4 + \\cdots + f_{n-1}) + f_n)\n",
    "+ \\frac{h}{24}(f_{n-3} - 5f_{n-2} + 19f_{n-1} + 9f_n)\n",
    "$$\n",
    "\n"
   ]
  },
  {
   "cell_type": "markdown",
   "metadata": {},
   "source": [
    "### 4. Derive the formula of trapezoid quadrature formula error estimation. Use Taylor series expansion for antiderivative $F_{i+1}$ and $f_{i+1}$  [mathematical formula] Usetimation time: ~30m"
   ]
  },
  {
   "cell_type": "markdown",
   "metadata": {},
   "source": [
    "$$ I_i^{i+1} - \\hat I_{i,тр}^{i+1} = F_{i+1} - F_i - \\frac{h_{i+1}}{2}(f_i + f_{i+1}) = $$\n",
    "\n",
    "$$ = F_i + h_{i+1}f_i + \\frac{h_{i+1}^2}{2}f'_i + \\frac{h_{i+1}^3}{6}f''_i - F_i - \\frac{h_{i+1}}{2}(2f_i + h_{i+1}f'_i + \\frac{h_{i+1}^2}{2}f''(\\xi_i)) = $$\n",
    "\n",
    "$$ = \\frac{h_{i+1}^3}{6}f''(\\xi_i) - \\frac{h_{i+1}^3}{4}f''(\\xi_i) = -\\frac{1}{12}h_{i+1}^3 f''(\\xi_i) $$\n",
    "\n",
    "\n",
    "\n"
   ]
  },
  {
   "cell_type": "markdown",
   "metadata": {},
   "source": [
    "### Congrats!"
   ]
  }
 ],
 "metadata": {
  "kernelspec": {
   "display_name": "Python 3",
   "language": "python",
   "name": "python3"
  },
  "language_info": {
   "codemirror_mode": {
    "name": "ipython",
    "version": 3
   },
   "file_extension": ".py",
   "mimetype": "text/x-python",
   "name": "python",
   "nbconvert_exporter": "python",
   "pygments_lexer": "ipython3",
   "version": "3.7.1"
  }
 },
 "nbformat": 4,
 "nbformat_minor": 2
}
