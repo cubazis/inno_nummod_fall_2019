{
  "nbformat": 4,
  "nbformat_minor": 0,
  "metadata": {
    "kernelspec": {
      "display_name": "Python 3",
      "language": "python",
      "name": "python3"
    },
    "language_info": {
      "codemirror_mode": {
        "name": "ipython",
        "version": 3
      },
      "file_extension": ".py",
      "mimetype": "text/x-python",
      "name": "python",
      "nbconvert_exporter": "python",
      "pygments_lexer": "ipython3",
      "version": "3.6.8"
    },
    "colab": {
      "name": "ha30.ipynb",
      "provenance": [],
      "collapsed_sections": []
    }
  },
  "cells": [
    {
      "cell_type": "code",
      "metadata": {
        "id": "OzTkhed1-eBn",
        "colab_type": "code",
        "colab": {}
      },
      "source": [
        "import sympy as sp\n",
        "import numpy as np\n",
        "import matplotlib.pyplot as plt"
      ],
      "execution_count": 0,
      "outputs": []
    },
    {
      "cell_type": "markdown",
      "metadata": {
        "id": "lY3sQnym-eBr",
        "colab_type": "text"
      },
      "source": [
        "### 1. Derive formula of $L_{2}(x)$ in terms of interpolation phase $ u = \\frac{x - x_{i}}{h} $.  Integrate $ \\hat{I_{i}^{i+2}}$ with received formula as integrand  [mathematical formula]. Usetimation time: ~30m"
      ]
    },
    {
      "cell_type": "markdown",
      "metadata": {
        "id": "4YKRhwkQ-eBs",
        "colab_type": "text"
      },
      "source": [
        "**Note** Use constant step $h = const$ and condition *number of segments is even* $n = 2k$"
      ]
    },
    {
      "cell_type": "markdown",
      "metadata": {
        "id": "UkwiwvQ5_F8g",
        "colab_type": "text"
      },
      "source": [
        "$L_2(x) = \\frac{x-x_{i+1}}{x_i-x_{i+1}} \\frac{x-x_{i+2}}{x_i-x_{i+2}} f_i + \n",
        "         \\frac{x-x_i}{x_{i+1}-x_i} \\frac{x-x_{i+2}}{x_{i+1}-x_{i+2}} f_{i+1} +\n",
        "         \\frac{x-x_i}{x_{i+2}-x_i} \\frac{x-x_{i+1}}{x_{i+2}-x_{i+1}} f_{i+2} =$\n",
        "         \n",
        "$=(1-\\frac{x_i-x}{x_i-x_{i+1}}) (1-\\frac{x_i-x}{x_i-x_{i+2}}) f_i +\n",
        "  (\\frac{x-x_i}{x_{i+1}-x_i}) (2-\\frac{x_i-x}{x_i-x_{i+1}}) f_{i+1} +\n",
        "  (\\frac{x-x_i}{x_{i+2}-x_i}) (-1+\\frac{x-x_i}{x_{i+1}-x_i}) f_{i+1} =$\n",
        "         \n",
        "$=(1-u)(1-\\frac{u}{2})f_i + u(2-u)f_{i+1} + \\frac{u}{2}(u-1)f_{i+2}$\n",
        "\n",
        "$u(x_i) = 0, $\n",
        "$u(x_{i + 2}) = 2$\n",
        "\n",
        "$\\hat{I}_i^{i+2}=\\int\\limits_{0}^{2}L_2(x)dx=$\n",
        "\n",
        "$=\\int\\limits_{0}^{2}[(1-u)(1-\\frac{u}{2})f_i + u(2-u)f_{i+1} + \\frac{u}{2}(u-1)f_{i+2}]hdu=$\n",
        "\n",
        "$=hf_i(u-\\frac{3}{4}u^2+\\frac{u^3}{6})|_0^2+hf_{i+1}(u^2-\\frac{u^3}{3})|_0^2+hf_{i+2}(\\frac{u^3}{6}-\\frac{u^2}{4})|_0^2=$\n",
        "\n",
        "$=hf_i(2-3+\\frac{8}{6})+hf_{i+1}(4-\\frac{8}{3})+hf_{i+2}(\\frac{8}{6}-1)=\\frac{h}{3}(f_i+4f_{i+1}+f_{i+2})$"
      ]
    },
    {
      "cell_type": "markdown",
      "metadata": {
        "id": "MlzEmoYP-eBw",
        "colab_type": "text"
      },
      "source": [
        "### 2. Explain how used condition $n = 2k$ helps us in integration. If we want to use odd number of segments we have to integrate with even number of segments but add the value $I_{n-1}^n$. What is the calculation accuracy order of $I_{n-1}^n$? Why? Explain both. [mathematical formula]. Usetimation time: ~30m"
      ]
    },
    {
      "cell_type": "markdown",
      "metadata": {
        "id": "wIgMcyDJ_PnK",
        "colab_type": "text"
      },
      "source": [
        "For a more accurate calculation of the integral, the interval $ [a, b] $ is divided into $ n = 2k $ segments of the same length. The Simpson formula is applied to them. $ \\ hat {I} _ {i-1} ^ {i + 1} $ easily splits into an even number of segments. To calculate it for an odd number of segments, we need to calculate $ \\ hat {I} _ {n-1} ^ {n} $, which can be calculated as the difference $\\hat{I}_{n-3}^{n}$ and $\\hat{I}_{n-2}^{n}$\n",
        "\n",
        "$\\hat{I}_{n-3}^{n} = \\frac{3h}{8}(f_{n-3} + 3f_{n-2} + 3f_{n-1} + f_n)$  (by Newton-Cotes)  \n",
        "$\\hat{I}_{n-2}^{n} = \\frac{h}{3}(f_{n-2} + 4f_{n-1} + f_n)$ (by Simpson)  \n",
        "\n",
        "therefore  \n",
        "\n",
        "$\\hat{I}_{n-1}^{n} = \\hat{I}_{n-3}^{n} - \\hat{I}_{n-2}^{n} = \\frac{h}{24}(f_{n-3} - 5f_{n-2} + 19f_{n-1} + 9f_n)$ \n",
        "\n",
        "Accuracy of $\\hat{I}_{n-3}^{n}$ and $\\hat{I}_{n-2}^{n}$ is $O(h^5)$, \n",
        "so accuraccy of $\\hat{I}_{n-1}^{n}$ is also $O(h^5)$\n"
      ]
    },
    {
      "cell_type": "markdown",
      "metadata": {
        "id": "_kv4To5T-eB0",
        "colab_type": "text"
      },
      "source": [
        "### 3. Derive the formula of whole $\\hat{I_{a}^{b}}$. Summarize all integrals on segments $\\hat{I_{i}^{i+1}}$ for even case, and for odd case. [mathematical formula]. Usetimation time: ~30m"
      ]
    },
    {
      "cell_type": "markdown",
      "metadata": {
        "id": "LiDF-7a_AiDr",
        "colab_type": "text"
      },
      "source": [
        "Case of even number of segments:\n",
        "\n",
        "$\\hat{I}_a^b = \\sum_{i=0}^{k-1} \\frac{h}{3} (f_{2i} + 4f_{2i+1} + f_{2i+2}) =\n",
        "  \\frac{h}{3} (\\sum_{i=0}^{k-1} f_{2i} + 4\\sum_{i=0}^{k-1} f_{2i+1} + \\sum_{i=0}^{k-1} f_{2i+2}) =\n",
        "  \\frac{h}{3} (f_0 + 2\\sum_{i=1}^{k-1} f_{2i} + 4\\sum_{i=0}^{k-1} f_{2i+1}+ f_{2k})$\n",
        "\n",
        "Case of odd number of segments:\n",
        "\n",
        "$\\hat{I}^a_b=\\hat{I}^{b}_{x_{n-1}}+\\hat{I}^{x_{n-1}}_a = \\frac{h}{3} (f_0 + 2\\sum_{i=1}^{k-1} f_{2i} + 4\\sum_{i=0}^{k-1} f_{2i+1}+ f_{2k}) + \\frac{h}{24}(f_{n-3}-5f_{n-2} + 19f_{n-1}+9f_{n})$"
      ]
    },
    {
      "cell_type": "markdown",
      "metadata": {
        "id": "degPa6RZ-eB3",
        "colab_type": "text"
      },
      "source": [
        "### 4. Derive the formula of trapezoid quadrature formula error estimation. Use Taylor series expansion for antiderivative $F_{i+1}$ and $f_{i+1}$  [mathematical formula] Usetimation time: ~30m"
      ]
    },
    {
      "cell_type": "markdown",
      "metadata": {
        "id": "TGQ13thrApVa",
        "colab_type": "text"
      },
      "source": [
        "$F_{i+1} = F_i + h_{i+1}f_i + \\frac{h^2_{i+1}}{2}f'_i + \\frac{h^3_{i+1}}{6}f''_i$  \n",
        "\n",
        "$f_{i+1} = f_i + h_{i+1}f'_i + \\frac{h^2_{i+1}}{2}f''_i$  \n",
        "\n",
        "$I_{i}^{i+1} - \\hat{I}^{i+1}_i = F_{i+1} - F_i - \\frac{h_{i+1}}{2}(f_i+ f_{i+1}) = F_i + h_{i+1}f_i + \\frac{h^2_{i+1}}{2}f'_i + \\frac{h^3_{i+1}}{6}f''_i - \\frac{h_{i+1}}{2}(f_i+ f_i + h_{i+1}f'_i + \\frac{h^2_{i+1}}{2}f''_i) = \\frac{h^3_{i+1}}{6}f''(\\xi) - \\frac{h^3_{i+1}}{4}f''(\\xi) = -\\frac{1}{12}h^3_{i+1}f''(\\xi)$\n",
        "\n",
        "$|I_{i}^{i+1} - \\hat{I}^{i+1}_i| \\le \\frac{M_{2,i}}{12}h^3_{i+1}$"
      ]
    },
    {
      "cell_type": "markdown",
      "metadata": {
        "id": "UFae_4HO-eB7",
        "colab_type": "text"
      },
      "source": [
        "### Congrats!"
      ]
    }
  ]
}