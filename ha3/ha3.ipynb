{
  "nbformat": 4,
  "nbformat_minor": 0,
  "metadata": {
    "kernelspec": {
      "display_name": "Python 3",
      "language": "python",
      "name": "python3"
    },
    "language_info": {
      "codemirror_mode": {
        "name": "ipython",
        "version": 3
      },
      "file_extension": ".py",
      "mimetype": "text/x-python",
      "name": "python",
      "nbconvert_exporter": "python",
      "pygments_lexer": "ipython3",
      "version": "3.6.8"
    },
    "colab": {
      "name": "ha3.ipynb",
      "provenance": [],
      "collapsed_sections": []
    }
  },
  "cells": [
    {
      "cell_type": "code",
      "metadata": {
        "id": "7BTMKdSdm2Mp",
        "colab_type": "code",
        "colab": {}
      },
      "source": [
        "import sympy as sp\n",
        "import numpy as np\n",
        "import matplotlib.pyplot as plt"
      ],
      "execution_count": 0,
      "outputs": []
    },
    {
      "cell_type": "markdown",
      "metadata": {
        "id": "RiNwNuQbm2Ms",
        "colab_type": "text"
      },
      "source": [
        "### 1. Derive formula of $L_{2}(x)$ in terms of interpolation phase $ u = \\frac{x - x_{i}}{h} $.  Integrate $ \\hat{I_{i}^{i+2}}$ with received formula as integrand  [mathematical formula]. Usetimation time: ~30m"
      ]
    },
    {
      "cell_type": "markdown",
      "metadata": {
        "id": "J3y_oWXtm2Mu",
        "colab_type": "text"
      },
      "source": [
        "**Note** Use constant step $h = const$ and condition *number of segments is even* $n = 2k$"
      ]
    },
    {
      "cell_type": "markdown",
      "metadata": {
        "id": "KZYemOiJs6CO",
        "colab_type": "text"
      },
      "source": [
        "$L_2(x) = \\frac{(x-x_{i+1})(x-x_{i+2})}{(x_i-x_{i+1})(x_i-x_{i+2})}f_i + \\frac{(x-x_{i})(x-x_{i+2})}{(x_{i+1}-x_i)(x_{i+1}-x_{i+2})}f_{i+1} + \\frac{(x-x_{i})(x-x_{i+1})}{(x_{i+2}-x_i)(x_{i+2}-x_{i+1})}f_{i+2}$\n",
        "\n",
        "$L_2(x) = \\frac{(x-x_{i}-h)(x-x_{i}-2h)}{(x_i-x_{i}-h)(x_i-x_{i}-2h)}f_i + \\frac{(x-x_{i})(x-x_{i}-2h)}{(x_{i}+h-x_i)(x_{i}+h-x_{i}-2h)}f_{i+1} + \\frac{(x-x_{i})(x-x_{i}-h)}{(x_{i}+2h-x_i)(x_{i}+2h-x_{i}-h)}f_{i+2}$\n",
        "\n",
        "$u = \\frac{x - x_{i}}{h}$\n",
        "\n",
        "$uh = x - x_{i}$\n",
        "\n",
        "$L_2(u) = \\frac{(uh-h)(uh-2h)}{(-h)(-2h)}f_i + \\frac{(uh)(uh-2h)}{(h)(h-2h)}f_{i+1} + \\frac{(uh)(uh-h)}{(2h)(2h-h)}f_{i+2}$\n",
        "\n",
        "$L_2(u) = \\frac{h(u-1)h(u-2)}{2h^2}f_i + \\frac{uh*h(u-2)}{h^2(1-2)}f_{i+1} + \\frac{uh*h(u-1)}{2h^2}f_{i+2}$\n",
        "\n",
        "$L_2(u) = \\frac{(u-1)(u-2)}{2}f_i - {u(u-2)}f_{i+1} + \\frac{u(u-1)}{2}f_{i+2}$\n",
        "\n",
        "\n",
        "$I^{i+2}_i = \\int_{x_i}^{x_{i+2}} f(x)dx$\n",
        "\n",
        "\n",
        "\n",
        "lower :\n",
        "$\\frac{x_{i} - x_{i}}{h} = 0$\n",
        "\n",
        "upper :\n",
        "$\\frac{x_{i+2} - x_{i}}{h} = \\frac{h + x_{i+1} - x_{i}}{h} = \\frac{h + h}{h} = 2$\n",
        "\n",
        "\n",
        "$I^{i+2}_i = \\int_{x_i}^{x_{i+2}} L_{2}(x)dx$\n",
        "\n",
        "$I^{i+2}_i = \\int_{0}^{2} L_{2}(u)hdu = \\int_{0}^{2}[\\frac{(u-1)(u-2)}{2}f_i-u(u-2)f_{i+1} + \\frac{u(u-1)}{2}f_{i+2}]hdu $\n",
        "\n",
        "$= [(\\frac{u^3}{6}+\\frac{3u^2}{4}+u)f_i-(\\frac{u^3}{3}+u^2)f_{i+1} + (\\frac{u^3}{6}-\\frac{u^2}{4})f_{i+2}]h |_0^2  $\n",
        "\n",
        "$ =[(\\frac{2^3}{6}+\\frac{3*2^2}{4}+2)f_i-(\\frac{2^3}{3}+2^2)f_{i+1} + (\\frac{2^3}{6}-\\frac{2^2}{4})f_{i+2}]h   $\n",
        "\n",
        "$= [\\frac{1}{3}f_i+\\frac{4}{3}f_{i+1} + \\frac{1}{3}f_{i+2}]h   $\n",
        "\n",
        "$ = [f_i+4f_{i+1} + f_{i+2}]\\frac{h}{3} $\n",
        "\n",
        "$I^{b}_a = \\sum_{i=0}^{n-2}I^{i+2}_i = \\frac{h}{3}[(f_0+4f_1+f_2)+(f_2+4f_3+f_4) + .. + (f_{n-2}+4f_{n-1}+f_n)] = \\frac{h}{3}[(f_0+4(f_1+f_3+..+f_{2k-1}) + 2(f_2+f_4+..+f_{2k-2})+f_{2k}]$ \n",
        "\n",
        "$= \\frac{h}{3}[f_0+4\\sum_{i=1}^{k}f_{2i-1}+2\\sum_{i=1}^{k-1}f_{2i}+f_{2k}]$ \n"
      ]
    },
    {
      "cell_type": "markdown",
      "metadata": {
        "id": "rYi_2S7Fm2Mx",
        "colab_type": "text"
      },
      "source": [
        "### 2. Explain how used condition $n = 2k$ helps us in integration. If we want to use odd number of segments we have to integrate with even number of segments but add the value $I_{n-1}^n$. What is the calculation accuracy order of $I_{n-1}^n$? Why? Explain both. [mathematical formula]. Usetimation time: ~30m"
      ]
    },
    {
      "cell_type": "markdown",
      "metadata": {
        "id": "zFnnH5SFpf30",
        "colab_type": "text"
      },
      "source": [
        "For calculation of the integral, the interval $[a, b]$ is divided into $n = 2k$ , as with the odd numbers of $n$, we won't be able to build $\\hat{I}^{n+1}_{n-1}$.\n",
        "\n",
        "For odd n we need to add to  even number of segments \n",
        "\n",
        "$\\hat{I}_{n-1}^n = \\frac{h}{2} (f_{n-1} + f_n) - \\frac{h^2}{12} (f^{'}_n - f^{'}_{n-1})$\n",
        "\n",
        "ACCURACY:\n",
        "\n",
        " $I_{n-1}^n - \\hat{I}_{n-1}^n = F_n - F_{n-1} - \\frac{h}{2} (f_{n-1} + f_n) + \\frac{h^2}{12} (f^{'}_n - f^{'}_{n-1})$.\n",
        "\n",
        "$F_n = F_{n-1} + h F^{'}_{n-1} + \\frac{h^2}{2} F^{''}_{n-1} + \\frac{h^3}{6} F^{'''}_{n-1} + \\frac{h^4}{24} F^{''''}_{n-1} + \\frac{h^5}{120} F^{'''''}(\\xi) = F_{n-1} + h f_{n-1} + \\frac{h^2}{2} f^{'}_{n-1} + \\frac{h^3}{6} f^{''}_{n-1} + \\frac{h^4}{24} f^{'''}_{n-1} + \\frac{h^5}{120} f^{''''}(\\xi)$\n",
        "\n",
        "$f_n = f_{n-1} + h f^{'}_{n-1} + \\frac{h^2}{2} f^{''}_{n-1} + \\frac{h^3}{6} f^{'''}_{n-1} + \\frac{h^4}{24} f^{''''}(\\xi)$\n",
        "\n",
        "$f^{'}_{n} = f^{'}_{n-1} + h f^{''}_{n-1} + \\frac{h^2}{2} f^{'''}_{n-1} + \\frac{h^3}{6} f^{''''}(\\xi)$\n",
        "\n",
        "$I_{n-1}^n - \\hat{I}_{n-1}^n = F_{n-1} + h f_{n-1} + \\frac{h^2}{2} f^{'}_{n-1} + \\frac{h^3}{6} f^{''}_{n-1} + \\frac{h^4}{24} f^{'''}_{n-1} + \\frac{h^5}{120} f^{''''}(\\xi) - F_{n-1} - \\frac{h}{2} (f_{n-1} + f_{n-1} + h f^{'}_{n-1} + \\frac{h^2}{2} f^{''}_{n-1} + \\frac{h^3}{6} f^{'''}_{n-1} + \\frac{h^4}{24} f^{''''}(\\xi)) + \\frac{h^2}{12} (f^{'}_{n-1} + h f^{''}_{n-1} + \\frac{h^2}{2} f^{'''}_{n-1} + \\frac{h^3}{6} f^{''''}(\\xi) - f^{'}_{n-1})$\n",
        "\n",
        "$I_{n-1}^n - \\hat{I}_{n-1}^n = \\frac{h^2}{2} f^{'}_{n-1} + \\frac{h^3}{6} f^{''}_{n-1} + \\frac{h^4}{24} f^{'''}_{n-1} + \\frac{h^5}{120} f^{''''}(\\xi) - \\frac{h^2}{2} f^{'}_{n-1} - \\frac{h^3}{4} f^{''}_{n-1} - \\frac{h^4}{6} f^{'''}_{n-1} - \\frac{h^5}{48} f^{''''}(\\xi) + \\frac{h^3}{12} f^{''}_{n-1} + \\frac{h^4}{24} f^{'''}_{n-1} + \\frac{h^5}{72} f^{''''}(\\xi)$\n",
        "\n",
        "$I_{n-1}^n - \\hat{I}_{n-1}^n = f^{''}_{n-1} (\\frac{h^3}{6} - \\frac{h^3}{4} + \\frac{h^3}{12}) + f^{'''}_{n-1} (\\frac{h^4}{24} - \\frac{h^4}{6} + \\frac{h^4}{24}) + f^{''''}(\\xi) (\\frac{h^5}{120} - \\frac{h^5}{48} + \\frac{h^5}{72})$\n",
        "\n",
        "$I_{n-1}^n - \\hat{I}_{n-1}^n = \\frac{h^5}{720} f^{'''}(\\xi)$\n",
        "\n",
        "Add inequality and substitute $f^{'''}(\\xi)$ with $M_{4,n-1}$:\n",
        "\n",
        "$|I_{n-1}^n - \\hat{I}_{n-1}^n| \\leq M_{4,n-1} \\frac{h^5}{720}$\n",
        "\n",
        "Thus, we have calculation accuracy order $5$."
      ]
    },
    {
      "cell_type": "markdown",
      "metadata": {
        "id": "Vu2pQHt-m2M0",
        "colab_type": "text"
      },
      "source": [
        "### 3. Derive the formula of whole $\\hat{I_{a}^{b}}$. Summarize all integrals on segments $\\hat{I_{i}^{i+1}}$ for even case, and for odd case. [mathematical formula]. Usetimation time: ~30m"
      ]
    },
    {
      "cell_type": "markdown",
      "metadata": {
        "id": "M_LWM1IPfdH9",
        "colab_type": "text"
      },
      "source": [
        "Even case from first task:\n",
        "\n",
        "$\\hat{I}_{a}^{b} = \\frac{h}{3}[f_0+4\\sum_{i=1}^{k}f_{2i-1}+2\\sum_{i=1}^{k-1}f_{2i}+f_{2k}]$\n",
        "\n",
        "Odd case:\n",
        "Even case with some additions\n",
        "\n",
        "$\\hat{I}_{a}^{b} = \\frac{h}{3}[f_0+4\\sum_{i=1}^{k}f_{2i-1}+2\\sum_{i=1}^{k-1}f_{2i}+f_{2k}] + \\frac{h}{24}(f_{2k-2} - 5f_{2k-1} + 19f_{2k} + 9f_{2k+1}) $"
      ]
    },
    {
      "cell_type": "markdown",
      "metadata": {
        "id": "PAovumSem2M6",
        "colab_type": "text"
      },
      "source": [
        "### 4. Derive the formula of trapezoid quadrature formula error estimation. Use Taylor series expansion for antiderivative $F_{i+1}$ and $f_{i+1}$  [mathematical formula] Usetimation time: ~30m"
      ]
    },
    {
      "cell_type": "markdown",
      "metadata": {
        "id": "JI7lPoEIYlZQ",
        "colab_type": "text"
      },
      "source": [
        "Error:\n",
        "$I_{i}^{i+1} - \\hat{I}_{i, tr}^{i+1}$\n",
        "\n",
        "\n",
        "$I_{i}^{i+1} - \\hat{I}_{i, tr}^{i+1} = F_{i+1} - F_{i} - \\frac{h_{i+1}}{2}\\left(f_{i}+f_{i+1}\\right)$\n",
        "\n",
        "Taylor series expansion for antiderivatives:  \n",
        "$F_{i+1} = F_{i} + h_{i+1}f_{i} + \\frac{h_{i+1}^{2}}{2} f_{i}^{\\prime} + \\frac{h_{i+1}^{3}}{6} f^{\\prime \\prime}\\left(\\xi_{i}\\right)$  \n",
        "$f_{i+1} = f_{i} + h_{i+1}f_{i}^{\\prime}+\\frac{h_{i+1}^{2}}{2} f^{\\prime \\prime}(\\xi_{i})$\n",
        "\n",
        "so\n",
        "\n",
        "$F_{i+1}-F_{i} - \\frac{h_{i+1}}{2}\\left(f_{i}+f_{i+1}\\right)=$\n",
        "$=F_{i}+h_{i+1} f_{i}+\\frac{h_{i+1}^{2}}{2} f_{i}^{\\prime} + \\frac{h_{i+1}^{3}}{6} f^{\\prime \\prime}\\left(\\xi_{i}\\right) - F_{i}\n",
        "-\\frac{h_{i+1}}{2}\\left(f_{i}+f_{i}+h_{i+1} f_{i}^{\\prime}+\\frac{h_{i+1}^{2}}{2} f^{\\prime \\prime}\\left(\\xi_{i}\\right)\\right)=$\n",
        "$=h_{i+1} f_{i}+\\frac{h_{i+1}^{2}}{2} f_{i}^{\\prime} + \\frac{h_{i+1}^{3}}{6} f^{\\prime \\prime}\\left(\\xi_{i}\\right)\n",
        "-\\frac{2}{2} h_{i+1} f_{i} - \\frac{h_{i+1}}{2} h_{i+1} f_{i}^{\\prime} - \\frac{h_{i+1}^{3}}{4} f^{\\prime \\prime}\\left(\\xi_{i}\\right)=$\n",
        "$=\\frac{h_{i+1}^{3}}{6} f^{\\prime \\prime}\\left(\\xi_{i}\\right)-\\frac{h_{i+1}^{3}}{4} f^{\\prime \\prime}\\left(\\xi_{i}\\right)=\n",
        "-\\frac{1}{12} h_{i+1}^{3} f^{\\prime \\prime}\\left(\\xi_{i}\\right)$\n",
        "\n",
        "thus  \n",
        "$I_{i}^{i+1} - \\hat{I}_{i, tr}^{i+1} = -\\frac{1}{12} h_{i+1}^{3} f^{\\prime \\prime}\\left(\\xi_{i}\\right)$"
      ]
    },
    {
      "cell_type": "markdown",
      "metadata": {
        "id": "bcOjbYBkm2M-",
        "colab_type": "text"
      },
      "source": [
        "### Congrats!"
      ]
    }
  ]
}