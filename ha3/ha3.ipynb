{
 "cells": [
  {
   "cell_type": "code",
   "execution_count": 1,
   "metadata": {},
   "outputs": [],
   "source": [
    "import sympy as sp\n",
    "import numpy as np\n",
    "import matplotlib.pyplot as plt"
   ]
  },
  {
   "cell_type": "markdown",
   "metadata": {},
   "source": [
    "### 1. Derive formula of $L_{2}(x)$ in terms of interpolation phase $ u = \\frac{x - x_{i}}{h} $.  Integrate $ \\hat{I_{i}^{i+2}}$ with received formula as integrand  [mathematical formula]. Usetimation time: ~30m"
   ]
  },
  {
   "cell_type": "markdown",
   "metadata": {},
   "source": [
    "**Note** Use constant step $h = const$ and condition *number of segments is even* $n = 2k$"
   ]
  },
  {
   "cell_type": "markdown",
   "metadata": {},
   "source": [
    "### YOUR TEXT/CODE HERE\n",
    "$ \\hat I_i^{i+2} = \\int_{x_i}^{x_{i+2}}L_2(x)dx = \\int_{x_i}^{x_{i+2}}( \\frac{(x-x_{i+1})(x-x_{i+2})}{2h^2}f_i - \\frac{(x-x_i)(x-x_{i+2})}{h^2}f_{i+1} + \\frac{(x-x_i)(x-x_{i+1})}{2h^2}f_{i+2})dx = \\\\\n",
    "\\int_{0}^{2}(\\frac{(u-1)(u-2)}{2} f_i - u(2-u) f_{i+1} + \\frac{u(u-1)}{2} f_{i+2}) h du = \\frac{h}{3}(f_i+4f_{i+1}+f_{i+2})$\n",
    "\n",
    "\n",
    "\n",
    "\n",
    "\n",
    "\n",
    "\n",
    "\n"
   ]
  },
  {
   "cell_type": "markdown",
   "metadata": {},
   "source": [
    "### 2. Explain how used condition $n = 2k$ helps us in integration. If we want to use odd number of segments we have to integrate with even number of segments but add the value $I_{n-1}^n$. What is the calculation accuracy order of $I_{n-1}^n$? Why? Explain both. [mathematical formula]. Usetimation time: ~30m"
   ]
  },
  {
   "cell_type": "markdown",
   "metadata": {},
   "source": [
    "### YOUR TEXT/CODE HERE\n",
    "With even number of segments, we can pair segments so we can interpolate parabolas on non-intersecting segments of type $[ x_i, x_{i+2}]$ and calculate areas of these parabolas. With odd number of segments, however, we can't decompose segments into pairs, but we can apply the previous idea for all the segments except the last one, and then add $I_{n-1}^n$.\n",
    "\n",
    "The calculation accuracy order of $I_{n-1}^n$ is $O(h^5)$. It is so because we can calculate $I_{n-3}^n$ for three segments using Newton-Cotes formula:\n",
    "$\\hat{I}_{i-2, c}^{i+1}=\\frac{3 h}{8}\\left(f_{i-2}+3 f_{i-1}+3 f_{i}+f_{i+1}\\right)$, then calculate the integral $I_{n-3}^{n-1}$ using Simpson formula, with accuracy $O(h^5)$, and then subtract the second from the first. \n",
    "\n",
    "\n",
    "\n",
    "\n",
    "\n",
    "\n",
    "\n"
   ]
  },
  {
   "cell_type": "markdown",
   "metadata": {},
   "source": [
    "### 3. Derive the formula of whole $\\hat{I_{a}^{b}}$. Summarize all integrals on segments $\\hat{I_{i}^{i+1}}$ for even case, and for odd case. [mathematical formula]. Usetimation time: ~30m"
   ]
  },
  {
   "cell_type": "markdown",
   "metadata": {},
   "source": [
    "### YOUR TEXT/CODE HERE\n",
    "We derive formula for $n=2k$, in odd case we subtract $I_{n-1}^n$.\n",
    "$ \\hat I_0^n = \\sum_{i=0}^{k-1} \\frac{h}{3} (f_{2i} + 4f_{2i+1} + f_{2i+2}) =\n",
    "  \\frac{h}{3} (\\sum_{i=0}^{k-1} f_{2i} + 4\\sum_{i=0}^{k-1} f_{2i+1} + \\sum_{i=0}^{k-1} f_{2i+2}) =\n",
    "  \\frac{h}{3} (f_0 + f_{2k} + 2\\sum_{i=1}^{k-1} f_{2i} + 4\\sum_{i=0}^{k-1} f_{2i+1})\\\\\n",
    "  \\hat I_{n-1}^{n} = \\hat I_{n-3}^{n} - \\hat I_{n-3}^{n-1} = \\frac{h}{24}(f_{n-3} - 5f_{n-2} + 19f_{n-1} + 9f_{n})$\n",
    "\n",
    "\n",
    "\n",
    "\n",
    "\n",
    "\n",
    "\n"
   ]
  },
  {
   "cell_type": "markdown",
   "metadata": {},
   "source": [
    "### 4. Derive the formula of trapezoid quadrature formula error estimation. Use Taylor series expansion for antiderivative $F_{i+1}$ and $f_{i+1}$  [mathematical formula] Usetimation time: ~30m"
   ]
  },
  {
   "cell_type": "markdown",
   "metadata": {},
   "source": [
    "### YOUR TEXT/CODE HERE\n",
    "$I_i^{i+1} - \\hat I_{i,тр}^{i+1} = F_{i+1} - F_i - \\frac{h_{i+1}}{2}(f_i + f_{i+1}) = \\\\\n",
    "F_i + h_{i+1}f_i + \\frac{h_{i+1}^2}{2}f'_i + \\frac{h_{i+1}^3}{6}f''_i - F_i - \\frac{h_{i+1}}{2}(2f_i + h_{i+1}f'_i + \\frac{h_{i+1}^2}{2}f''(\\xi_i)) = \\\\\n",
    "\\frac{h_{i+1}^3}{6}f''(\\xi_i) - \\frac{h_{i+1}^3}{4}f''(\\xi_i) = -\\frac{1}{12}h_{i+1}^3 f''(\\xi_i) $\n",
    "\n",
    "\n",
    "\n",
    "\n",
    "\n"
   ]
  },
  {
   "cell_type": "markdown",
   "metadata": {},
   "source": [
    "### Congrats!"
   ]
  }
 ],
 "metadata": {
  "kernelspec": {
   "display_name": "Python 3",
   "language": "python",
   "name": "python3"
  },
  "language_info": {
   "codemirror_mode": {
    "name": "ipython",
    "version": 3
   },
   "file_extension": ".py",
   "mimetype": "text/x-python",
   "name": "python",
   "nbconvert_exporter": "python",
   "pygments_lexer": "ipython3",
   "version": "3.6.8"
  }
 },
 "nbformat": 4,
 "nbformat_minor": 2
}
