{
 "cells": [
  {
   "cell_type": "markdown",
   "metadata": {},
   "source": [
    "### 1. Derive formula of $L_{2}(x)$ in terms of interpolation phase $ u = \\frac{x - x_{i}}{h} $.  Integrate $ \\hat{I_{i}^{i+2}}$ with received formula as integrand  [mathematical formula]. Usetimation time: ~30m"
   ]
  },
  {
   "cell_type": "markdown",
   "metadata": {},
   "source": [
    "**Note** Use constant step $h = const$ and condition *number of segments is even* $n = 2k$"
   ]
  },
  {
   "cell_type": "markdown",
   "metadata": {},
   "source": [
    "$L_2(x) = \\frac{x-x_{i+1}}{x_i-x_{i+1}} \\frac{x-x_{i+2}}{x_i-x_{i+2}} f_i + \n",
    "         \\frac{x-x_i}{x_{i+1}-x_i} \\frac{x-x_{i+2}}{x_{i+1}-x_{i+2}} f_{i+1} +\n",
    "         \\frac{x-x_i}{x_{i+2}-x_i} \\frac{x-x_{i+1}}{x_{i+2}-x_{i+1}} f_{i+2} =$\n",
    "         \n",
    "$=(1-\\frac{x_i-x}{x_i-x_{i+1}}) (1-\\frac{x_i-x}{x_i-x_{i+2}}) f_i +\n",
    "  (\\frac{x-x_i}{x_{i+1}-x_i}) (2-\\frac{x_i-x}{x_i-x_{i+1}}) f_{i+1} +\n",
    "  (\\frac{x-x_i}{x_{i+2}-x_i}) (-1+\\frac{x-x_i}{x_{i+1}-x_i}) f_{i+1} =$\n",
    "         \n",
    "$=(1-u)(1-\\frac{u}{2})f_i + u(2-u)f_{i+1} + \\frac{u}{2}(u-1)f_{i+2}$\n",
    "\n",
    "$u(x_i) = 0, $\n",
    "$u(x_{i + 2}) = 2$\n",
    "\n",
    "$\\hat{I}_i^{i+2}=\\int\\limits_{0}^{2}L_2(x)dx=$\n",
    "\n",
    "$=\\int\\limits_{0}^{2}[(1-u)(1-\\frac{u}{2})f_i + u(2-u)f_{i+1} + \\frac{u}{2}(u-1)f_{i+2}]hdu=$\n",
    "\n",
    "$=hf_i(u-\\frac{3}{4}u^2+\\frac{u^3}{6})|_0^2+hf_{i+1}(u^2-\\frac{u^3}{3})|_0^2+hf_{i+2}(\\frac{u^3}{6}-\\frac{u^2}{4})|_0^2=$\n",
    "\n",
    "$=hf_i(2-3+\\frac{8}{6})+hf_{i+1}(4-\\frac{8}{3})+hf_{i+2}(\\frac{8}{6}-1)=\\frac{h}{3}(f_i+4f_{i+1}+f_{i+2})$"
   ]
  },
  {
   "cell_type": "markdown",
   "metadata": {},
   "source": [
    "### 2. Explain how used condition $n = 2k$ helps us in integration. If we want to use odd number of segments we have to integrate with even number of segments but add the value $I_{n-1}^n$. What is the calculation accuracy order of $I_{n-1}^n$? Why? Explain both. [mathematical formula]. Usetimation time: ~30m"
   ]
  },
  {
   "cell_type": "markdown",
   "metadata": {},
   "source": [
    "Condition of $n = 2k$ helps us to compute all integral peices with the same formula, because if we have odd number of segments, we are left with one segment with 2 points instead of required 3 for $L_2$. So we have to integrate this last piece seprately with $I_{n-1}^{n}$.\n",
    "\n",
    "\n",
    "Calculation accuracy order of $I_{n-1}^{n}$ is $O(h^5)$. It can be computed by subtracting parabola formula for 2 last segments (accuracy order $O(h^5)$) from Newton-Cotes formula for 3 last segments (accuracy order $O(h^5)$).\n",
    "$I_{n-1}^n = I_{n-3}^{n} - I_{n-3}^{n-1} = \\cfrac{3h}{8}(f_{n-3}+3f_{n-2}+3f_{n-1}+f_n) - \\cfrac{h}{3}(f_{n-3}+4f_{n-2}+f_{n-1}) = (\\cfrac{3h}{8}f_{n-3} - \\cfrac{h}{3}f_{n-3}) + (\\cfrac{9h}{8}f_{n-2} - \\cfrac{4h}{3}f_{n-2}) + (\\cfrac{9h}{8}f_{n-1} - \\cfrac{h}{3}f_{n-1}) + \\cfrac{3h}{8}f_n = \\cfrac{h}{24}[f_{n-3} - 5f_{n-2} + 19f_{n-1} + 9f_n]$ "
   ]
  },
  {
   "cell_type": "markdown",
   "metadata": {},
   "source": [
    "### 3. Derive the formula of whole $\\hat{I_{a}^{b}}$. Summarize all integrals on segments $\\hat{I_{i}^{i+1}}$ for even case, and for odd case. [mathematical formula]. Usetimation time: ~30m"
   ]
  },
  {
   "cell_type": "markdown",
   "metadata": {},
   "source": [
    "#### Even case:\n",
    "$\\hat{I}_a^b=\\sum_{i=0}^{k-1}\\frac{h}{3}(f_{2i}+4f_{2i+1}+f_{2i+2})=$\n",
    "\n",
    "$=\\frac{h}{3}(\\sum_{i=0}^{k-1}f_{2i}+4\\sum_{i=0}^{k-1}f_{2i+1}+\\sum_{i=0}^{k-1}f_{2i+2})=$\n",
    "\n",
    "$=\\frac{h}{3}(f_0+\\sum_{i=1}^{k-1}f_{2i}+4\\sum_{i=0}^{k-1}f_{2i+1}+\\sum_{i=1}^{k-1}f_{2i}+f_{2k})=$\n",
    "\n",
    "$=\\frac{h}{3}(f_0+2\\sum_{i=1}^{k-1}f_{2i}+4\\sum_{i=0}^{k-1}f_{2i+1}+f_{2k})$\n",
    "\n",
    "#### For odd case we simply add $I_{n-1}^n$:\n",
    "\n",
    "$\\hat{I}_a^b$ = $\\frac{h}{3}(f_0+2\\sum_{i=1}^{k-1}f_{2i}+4\\sum_{i=0}^{k-1}f_{2i+1}+f_{2k}) + \\frac{h}{24}(f_{2k-2} - 5f_{2k-1} + 19f_{2k} + 9f_{2k+1})$"
   ]
  },
  {
   "cell_type": "markdown",
   "metadata": {},
   "source": [
    "### 4. Derive the formula of trapezoid quadrature formula error estimation. Use Taylor series expansion for antiderivative $F_{i+1}$ and $f_{i+1}$  [mathematical formula] Usetimation time: ~30m"
   ]
  },
  {
   "cell_type": "markdown",
   "metadata": {},
   "source": [
    "Trapezoid quadrature formula error:\n",
    "$I_{i}^{i+1} - \\hat{I}_{i, tr}^{i+1}$\n",
    "\n",
    "From trapezoid formula $\\hat{I}_{i, \\mathrm{tr}}^{i+1} =  \\frac{h_{i+1}}{2}\\left(f_{i}+f_{i+1}\\right)$ and definition of $I_{i}^{i+1}$:  \n",
    "$I_{i}^{i+1} - \\hat{I}_{i, tr}^{i+1} = F_{i+1} - F_{i} - \\frac{h_{i+1}}{2}\\left(f_{i}+f_{i+1}\\right) = (*)$\n",
    "\n",
    "Taylor series expansion for antiderivatives relative to the point $x_i$:  \n",
    "$F_{i+1} = F_{i} + h_{i+1}f_{i} + \\frac{h_{i+1}^{2}}{2} f_{i}^{\\prime} + \\frac{h_{i+1}^{3}}{6} f^{\\prime \\prime}\\left(\\xi_{i}\\right) + O(h^4)$  \n",
    "$f_{i+1} = f_{i} + h_{i+1}f_{i}^{\\prime}+\\frac{h_{i+1}^{2}}{2} f^{\\prime \\prime}(\\xi_{i}) + O(h^4)$\n",
    "\n",
    "$\\Rightarrow$\n",
    "\n",
    "$(*) = F_{i}+h_{i+1} f_{i}+\\frac{h_{i+1}^{2}}{2} f_{i}^{\\prime} + \\frac{h_{i+1}^{3}}{6} f^{\\prime \\prime}\\left(\\xi_{i}\\right) + O(h^4) - F_{i} -\\frac{h_{i+1}}{2}\\left(f_{i}+f_{i}+h_{i+1} f_{i}^{\\prime}+\\frac{h_{i+1}^{2}}{2} f^{\\prime \\prime}\\left(\\xi_{i}\\right) + O(h^4)\\right)=$\n",
    "$=h_{i+1} f_{i}+\\frac{h_{i+1}^{2}}{2} f_{i}^{\\prime} + \\frac{h_{i+1}^{3}}{6} f^{\\prime \\prime}\\left(\\xi_{i}\\right)\n",
    "-\\frac{2}{2} h_{i+1} f_{i} - \\frac{h_{i+1}}{2} h_{i+1} f_{i}^{\\prime} - \\frac{h_{i+1}^{3}}{4} f^{\\prime \\prime}\\left(\\xi_{i}\\right)=$\n",
    "$=\\frac{h_{i+1}^{3}}{6} f^{\\prime \\prime}\\left(\\xi_{i}\\right)-\\frac{h_{i+1}^{3}}{4} f^{\\prime \\prime}\\left(\\xi_{i}\\right)=\n",
    "-\\frac{1}{12} h_{i+1}^{3} f^{\\prime \\prime}\\left(\\xi_{i}\\right)$\n",
    "\n",
    "$\\Rightarrow$\n",
    "\n",
    "$I_{i}^{i+1} - \\hat{I}_{i, tr}^{i+1} = -\\frac{1}{12} h_{i+1}^{3} f^{\\prime \\prime}\\left(\\xi_{i}\\right), \\xi_i \\in (x_i, x_{i + 1})$\n",
    "\n",
    "$\\Rightarrow$\n",
    "\n",
    "$|I_{i}^{i+1} - \\hat{I}_{i, tr}^{i+1}| \\leq \\frac{M_{2, i}}{12} h_{i+1}^{3}, M_{2, i} = max_{[x_i, x_{i + 1}]}|f''(x)|$"
   ]
  },
  {
   "cell_type": "markdown",
   "metadata": {},
   "source": [
    "### Congrats!"
   ]
  }
 ],
 "metadata": {
  "kernelspec": {
   "display_name": "Python 3",
   "language": "python",
   "name": "python3"
  },
  "language_info": {
   "codemirror_mode": {
    "name": "ipython",
    "version": 3
   },
   "file_extension": ".py",
   "mimetype": "text/x-python",
   "name": "python",
   "nbconvert_exporter": "python",
   "pygments_lexer": "ipython3",
   "version": "3.6.8"
  }
 },
 "nbformat": 4,
 "nbformat_minor": 2
}
