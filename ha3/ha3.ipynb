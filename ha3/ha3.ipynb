{
 "cells": [
  {
   "cell_type": "code",
   "execution_count": 1,
   "metadata": {},
   "outputs": [],
   "source": [
    "import sympy as sp\n",
    "import numpy as np\n",
    "import matplotlib.pyplot as plt"
   ]
  },
  {
   "cell_type": "markdown",
   "metadata": {},
   "source": [
    "### 1. Derive formula of $L_{2}(x)$ in terms of interpolation phase $ u = \\frac{x - x_{i}}{h} $.  Integrate $ \\hat{I_{i}^{i+2}}$ with received formula as integrand  [mathematical formula]. Usetimation time: ~30m"
   ]
  },
  {
   "cell_type": "markdown",
   "metadata": {},
   "source": [
    "**Note** Use constant step $h = const$ and condition *number of segments is even* $n = 2k$"
   ]
  },
  {
   "cell_type": "markdown",
   "metadata": {},
   "source": [
    "$L_2(x) = \n",
    "\\frac{(x - x_{i+1})(x - x_{i+2})}\n",
    "{(x_i - x_{i+1})(x_i - x_{i+2})} f_i + \n",
    "\\frac{(x - x_{i})(x - x_{i+2})}\n",
    "{(x_{i+1} - x_{i})(x_{i+1} - x_{i+2})} f_{i+1}+\n",
    "\\frac{(x - x_{i})(x - x_{i+1})}\n",
    "{(x_{i+2} - x_{i})(x_{i+2} - x_{i+1})} f_{i+2}\n",
    "$ $| \\ u=\\frac{x-x_i}{h}; \\ h = x_{i+1} - x_i = const; \\ x_{i+2} - x_{i} = 2h$\n",
    "\n",
    "$L_2(x) = (\\frac{x - x_{i}}{x_{i+1} - x_{i}} - 1)(\\frac{x - x_{i}}{2(x_{i+1} - x_{i})} - 1)f_i + (\\frac{x - x_{i}}{x_{i+1} - x_{i}})(\\frac{x - x_{i}}{x_{i+1} - x_{i}} - 2)f_{i+1} + (\\frac{x - x_{i}}{2(x_{i+1} - x_{i})})(\\frac{x - x_{i}}{x_{i+1} - x_{i}} - 1)f_{i+2}\n",
    "$\n",
    "\n",
    "$L_2(x) = \\frac{1}{2}(u-1)(u-2)f_i+u(u-2)f_{i+1}+\\frac{1}{2}u(u-1)f_{i+2}$ $| \\ dx = h*du; \\ x = x_i => u = 0; x = x_{i+1} => u = 1; x = x_{i+2} => u=2$\n",
    "\n",
    "$\\hat{I_i^{i+2}}=\\int_{x_i}^{x_{i+2}}L_2(x)dx = h*\\int_{0}^{2}(\\frac{1}{2}(u-1)(u-2)f_i+u(u-2)f_{i+1}+\\frac{1}{2}u(u-1)f_{i+2})du = \\frac{h}{3}(f_i + 4f_{i+1}+f_{i+2})$"
   ]
  },
  {
   "cell_type": "markdown",
   "metadata": {},
   "source": [
    "### 2. Explain how used condition $n = 2k$ helps us in integration. If we want to use odd number of segments we have to integrate with even number of segments but add the value $I_{n-1}^n$. What is the calculation accuracy order of $I_{n-1}^n$? Why? Explain both. [mathematical formula]. Usetimation time: ~30m"
   ]
  },
  {
   "cell_type": "markdown",
   "metadata": {},
   "source": [
    "The provided condition helps us in the following way: $n=2k$ guaranties that n is even, thus, applying Simpson's formula (the double-interval quadrature formula of parabolas), we compute $\\hat{I}_{i-1}^{i+1}$ for $2$ intervals $([x_{i-1},x_{i}]; \\ [x_i,x_{i+1}])$. According to the order matching rule ($O(h^4)$) and the formula simmetry when $h=const$, the calculation accuracy of the Simpson's formula is $O(h^5)$, thus the calculation accuracy of the last segment is $O(h^5)$."
   ]
  },
  {
   "cell_type": "markdown",
   "metadata": {},
   "source": [
    "### 3. Derive the formula of whole $\\hat{I_{a}^{b}}$. Summarize all integrals on segments $\\hat{I_{i}^{i+1}}$ for even case, and for odd case. [mathematical formula]. Usetimation time: ~30m"
   ]
  },
  {
   "cell_type": "markdown",
   "metadata": {},
   "source": [
    "Odd case ($n-3 = 2k$): \n",
    "\n",
    "$\\hat{I}_a^b =\\sum\\limits_{i = 0}^{k - 1} \\hat{I}_{2i}^{2i+2} + \\hat{I}_{n-3}^n$ \n",
    "\n",
    "Even case ($n = 2k$):\n",
    "\n",
    "$\\hat{I}_a^b =\\sum\\limits_{i = 0}^{k - 1} \\hat{I}_{2i}^{2i+2} = \\frac{h}{3}(f_0 + 4f_{1}+f_{2}) + \\frac{h}{3}(f_2 + 4f_{3}+f_{4}) + \\ldots + \\frac{h}{3}(f_{n-2} + 4f_{n-1}+f_{2}) = \\frac{h}{3}(f_0+4(f_1+f_3+\\ldots+f_{2k-1}) + 2(f_2+f_4+\\ldots+f_{2k-2}) + f_n)=\n",
    "\\frac{h}{3}(f_0+4\\sum\\limits_{i=1}^{k}f_{2i-1}+2\\sum\\limits_{i=1}^{k-1}f_{2i} + f_{2k})$ \n",
    "\n",
    "\n",
    "Applying the Simpson's 3/8 rule for the last segment, we obtain: $\\hat{I}_a^b =\\frac{h}{3}(f_0+4\\sum\\limits_{i=1}^{k}f_{2i-1}+2\\sum\\limits_{i=1}^{k-1}f_{2i} + f_{2k}) + \\frac{3h}{8}(f_{n-3}+3f_{n-2}+3f_{n-1}+f_n)$\n"
   ]
  },
  {
   "cell_type": "markdown",
   "metadata": {},
   "source": [
    "### 4. Derive the formula of trapezoid quadrature formula error estimation. Use Taylor series expansion for antiderivative $F_{i+1}$ and $f_{i+1}$  [mathematical formula] Usetimation time: ~30m"
   ]
  },
  {
   "cell_type": "markdown",
   "metadata": {},
   "source": [
    "The required error can be estimated as $I_i^{i+1} - \\hat{I}_i^{i+1}$ and derived via Taylor series expansion\n",
    ":("
   ]
  },
  {
   "cell_type": "markdown",
   "metadata": {},
   "source": [
    "### Congrats!"
   ]
  }
 ],
 "metadata": {
  "kernelspec": {
   "display_name": "Python 3",
   "language": "python",
   "name": "python3"
  },
  "language_info": {
   "codemirror_mode": {
    "name": "ipython",
    "version": 3
   },
   "file_extension": ".py",
   "mimetype": "text/x-python",
   "name": "python",
   "nbconvert_exporter": "python",
   "pygments_lexer": "ipython3",
   "version": "3.7.4"
  }
 },
 "nbformat": 4,
 "nbformat_minor": 2
}
