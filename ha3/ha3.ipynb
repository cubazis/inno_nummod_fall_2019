{
 "cells": [
  {
   "cell_type": "code",
   "execution_count": 1,
   "metadata": {},
   "outputs": [],
   "source": [
    "import sympy as sp\n",
    "import numpy as np\n",
    "import matplotlib.pyplot as plt"
   ]
  },
  {
   "cell_type": "markdown",
   "metadata": {},
   "source": [
    "### 1. Derive formula of $L_{2}(x)$ in terms of interpolation phase $ u = \\frac{x - x_{i}}{h} $.  Integrate $ \\hat{I_{i}^{i+2}}$ with received formula as integrand  [mathematical formula]. Usetimation time: ~30m"
   ]
  },
  {
   "cell_type": "markdown",
   "metadata": {},
   "source": [
    "$$ \\hat I_i^{i+2} = \\int_{x_i}^{x_{i+2}}L_2(x)dx = $$\n",
    "\n",
    "$$ = \\int_{x_i}^{x_{i+2}}( \\frac{(x - x_{i+1})(x - x_{i+2})}{2h^2}f_i - \\frac{(x - x_i)(x - x_{i+2})}{h^2}f_{i+1} + \\frac{(x - x_i)(x - x_{i+1})}{2h^2}f_{i+2})dx = $$\n",
    "\n",
    "$$ = h \\int_{x_i}^{x_{i+2}}((1-u)(1-\\frac{u}{2}) f_i - u(2-u) f_{i+1} + \\frac{u}{2}(u-1) f_{i+2}) du $$"
   ]
  },
  {
   "cell_type": "markdown",
   "metadata": {},
   "source": [
    "**Note** Use constant step $h = const$ and condition *number of segments is even* $n = 2k$"
   ]
  },
  {
   "cell_type": "markdown",
   "metadata": {},
   "source": [
    "### 2. Explain how used condition $n = 2k$ helps us in integration. If we want to use odd number of segments we have to integrate with even number of segments but add the value $I_{n-1}^n$. What is the calculation accuracy order of $I_{n-1}^n$? Why? Explain both. [mathematical formula]. Usetimation time: ~30m"
   ]
  },
  {
   "cell_type": "markdown",
   "metadata": {},
   "source": [
    "$n=2k$ allows us to use only parabolic integration polynomials. If the number of segments is odd, we have to additionally calculate the last segment.\n",
    "\n",
    "The last segment is calculated by firstly calculating the last three segments using the Newton-Cotes formula with accuracy of $O(n^5)$ and subtracting the two segments calculated with parabolic formula with accuracy of $O(n^5)$.\n",
    "\n",
    "$$ \\hat I_n^{n+1} = \\hat I_{n-2}^{n+1} - \\hat I_{n-2}^n $$\n",
    "\n",
    "Accuracy of the last segment:\n",
    "\n",
    "$$ f(x) = O(n^5) - O(n^5) = O(n^5) $$"
   ]
  },
  {
   "cell_type": "markdown",
   "metadata": {},
   "source": [
    "### 3. Derive the formula of whole $\\hat{I_{a}^{b}}$. Summarize all integrals on segments $\\hat{I_{i}^{i+1}}$ for even case, and for odd case. [mathematical formula]. Usetimation time: ~30m"
   ]
  },
  {
   "cell_type": "markdown",
   "metadata": {},
   "source": [
    "$$ \\hat I_a^b = \\sum_{i=0}^{k-1} \\frac{h}{3} (f_{2i} + 4f_{2i+1} + f_{2i+2}) = $$\n",
    "\n",
    "$$ = \\frac{h}{3} (\\sum_{i=0}^{k-1} f_{2i} + 4\\sum_{i=0}^{k-1} f_{2i+1} + \\sum_{i=0}^{k-1} f_{2i+2}) = $$\n",
    "\n",
    "$$ = \\frac{h}{3} (f_0 + f_{2k} + 2\\sum_{i=1}^{k-1} f_{2i} + 4\\sum_{i=0}^{k-1} f_{2i+1}) $$\n",
    "\n",
    "Final chlen for an odd case:\n",
    "\n",
    "$$ \\hat I_n^{n+1} = \\hat I_{n-2}^{n+1} - \\hat I_{n-2}^n = \\frac{h}{24}(f_{n-2} - 5f_{n-1} + 19f_n + 9f_{n+1}) $$"
   ]
  },
  {
   "cell_type": "markdown",
   "metadata": {},
   "source": [
    "### 4. Derive the formula of trapezoid quadrature formula error estimation. Use Taylor series expansion for antiderivative $F_{i+1}$ and $f_{i+1}$  [mathematical formula] Usetimation time: ~30m"
   ]
  },
  {
   "cell_type": "markdown",
   "metadata": {},
   "source": [
    "$$ I_i^{i+1} - \\hat I_{i,тр}^{i+1} = F_{i+1} - F_i - \\frac{h_{i+1}}{2}(f_i + f_{i+1}) = $$\n",
    "$$ = F_i + h_{i+1}f_i + \\frac{h_{i+1}^2}{2}f'_i + \\frac{h_{i+1}^3}{6}f''_i - F_i - \\frac{h_{i+1}}{2}(2f_i + h_{i+1}f'_i + \\frac{h_{i+1}^2}{2}f''(\\xi_i)) = $$\n",
    "$$ = \\frac{h_{i+1}^3}{6}f''(\\xi_i) - \\frac{h_{i+1}^3}{4}f''(\\xi_i) = -\\frac{1}{12}h_{i+1}^3 f''(\\xi_i) $$"
   ]
  },
  {
   "cell_type": "markdown",
   "metadata": {},
   "source": [
    "### Congrats!"
   ]
  }
 ],
 "metadata": {
  "kernelspec": {
   "display_name": "Python 3",
   "language": "python",
   "name": "python3"
  },
  "language_info": {
   "codemirror_mode": {
    "name": "ipython",
    "version": 3
   },
   "file_extension": ".py",
   "mimetype": "text/x-python",
   "name": "python",
   "nbconvert_exporter": "python",
   "pygments_lexer": "ipython3",
   "version": "3.7.4"
  }
 },
 "nbformat": 4,
 "nbformat_minor": 2
}
