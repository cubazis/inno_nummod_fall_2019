{
  "nbformat": 4,
  "nbformat_minor": 0,
  "metadata": {
    "colab": {
      "name": "NM_project.ipynb",
      "provenance": [],
      "collapsed_sections": [],
      "machine_shape": "hm"
    },
    "kernelspec": {
      "name": "python3",
      "display_name": "Python 3"
    }
  },
  "cells": [
    {
      "cell_type": "code",
      "metadata": {
        "id": "XJksAs-CCf0E",
        "colab_type": "code",
        "colab": {}
      },
      "source": [
        "import numpy as np\n",
        "import matplotlib.pyplot as plt\n",
        "from scipy.sparse import csr_matrix, lil_matrix\n",
        "import matplotlib\n",
        "from datetime import datetime"
      ],
      "execution_count": 0,
      "outputs": []
    },
    {
      "cell_type": "code",
      "metadata": {
        "id": "roZLZsGjH8GX",
        "colab_type": "code",
        "colab": {}
      },
      "source": [
        "def is_edge(x,y):\n",
        "  mirr_big_houses = [(138,51),(138,204),\n",
        "              (261,51),(261,204)]\n",
        "  big_houses = [(69,12),(69,165),\n",
        "            (192,12),(192,165)]\n",
        "  candles = [(69,111),(69,264),\n",
        "           (138,12),(138,165),\n",
        "           (192,111),(192,264),\n",
        "           (261,12),(261,165)]\n",
        "\n",
        "  for house in mirr_big_houses:\n",
        "    if house[0] < x and x < house[0]+18 and house[1] < y and y < house[1]+78:\n",
        "      return True\n",
        "    if house[0]-12 < x and x < house[0]+1 and house[1]+60 < y and y < house[1]+78:\n",
        "      return True\n",
        "\n",
        "  for house in big_houses:\n",
        "    if house[0] < x and x < house[0]+18 and house[1] < y and y < house[1]+78:\n",
        "      return True\n",
        "    if house[0]+17 < x and x < house[0]+29 and house[1] < y and y < house[1]+18:\n",
        "      return True\n",
        "\n",
        "  for candle in candles:\n",
        "    if candle[0] < x and x < candle[0]+18 and candle[1] < y and y < candle[1]+18:\n",
        "      return True\n",
        "\n",
        "  if x > 299 or y > 299 or y == 0:\n",
        "    return True\n",
        "  return False\n",
        "\n",
        "def get_schema(eps):  \n",
        "  lambda1 = 1\n",
        "  lambda2 = 0 \n",
        "  k = 0.5\n",
        "  h = 1/300\n",
        "  tau = (h * h) / (4 * k)\n",
        "  steps = 50000\n",
        "  n = 300\n",
        "    \n",
        "  A = lil_matrix((n*n, n*n))\n",
        "  b = np.zeros(n*n)\n",
        "  x = np.zeros((n*n, 1))\n",
        "  for i in range(n):\n",
        "    x[n*i,0]=1\n",
        "    \n",
        "  u0 = 1-4*(tau*k)/(h**2)\n",
        "  dx = [1, -1, 0, 0]\n",
        "  dy = [0, 0, 1, -1]\n",
        "  coefficients = [tau*(k/(h**2)-lambda1/(2*h)),\n",
        "            tau*(k/(h**2)+lambda1/(2*h)),\n",
        "            tau*(k/(h**2)-lambda2/(2*h)),\n",
        "            tau*(k/(h**2)+lambda2/(2*h))]\n",
        "\n",
        "  for i in range(0, n): \n",
        "      for e in range(0, n):\n",
        "          index = i*n+e\n",
        "          A[index, index] = u0\n",
        "          for j in range(0, 4):\n",
        "              x1 = i + dx[j]\n",
        "              y1 = e + dy[j]\n",
        "              if x1==0:\n",
        "                  b[index] += coefficients[j]\n",
        "              elif is_edge(x1,y1):\n",
        "                  A[index, index] += coefficients[j]\n",
        "              else:\n",
        "                  A[index, x1*300+y1] = coefficients[j]\n",
        "\n",
        "  A = csr_matrix(A)\n",
        "  b = b.reshape(n*n, -1)\n",
        "  for i in range(steps):\n",
        "    temp = (A*x + b)\n",
        "    error = np.max(np.abs(temp - x))\n",
        "    if error < eps:\n",
        "        print(f\"{i} steps\")\n",
        "        break\n",
        "    x = temp\n",
        "  x = x.reshape((n,n))\n",
        "  print(f'M = {n}')\n",
        "\n",
        "  for i in range(n):\n",
        "    for j in range(n):\n",
        "      if is_edge(i, j):\n",
        "        x[i][j] = -1\n",
        "  return x"
      ],
      "execution_count": 0,
      "outputs": []
    },
    {
      "cell_type": "code",
      "metadata": {
        "id": "gJ_8n26ziGiL",
        "colab_type": "code",
        "outputId": "a6b02886-12f1-4683-f8fc-3be8e2113c5e",
        "colab": {
          "base_uri": "https://localhost:8080/",
          "height": 378
        }
      },
      "source": [
        "epsilon = float(input())\n",
        "start_time = datetime.now()\n",
        "result = get_schema(epsilon)\n",
        "print(f'Elapsed time: {datetime.now() - start_time}')\n",
        "\n",
        "fig, ax = plt.subplots()\n",
        "current_cmap = matplotlib.cm.get_cmap(\"GnBu\")\n",
        "current_cmap.set_under('brown')\n",
        "im = ax.imshow(result.T, cmap=current_cmap)\n",
        "fig.gca().invert_yaxis()\n",
        "fig.tight_layout()\n",
        "fig.colorbar(im, ax=ax)\n",
        "for im in fig.gca().get_images():\n",
        "    im.set_clim(0, 1)\n",
        "plt.show()\n",
        "\n",
        "# output the values of grid\n",
        "\n",
        "# for i in range(len(result)):\n",
        "#   for j in range(len(result[0])):\n",
        "#     print(f'{i} {j} {result.T[i][j]} ')\n",
        "#   print('\\n')"
      ],
      "execution_count": 7,
      "outputs": [
        {
          "output_type": "stream",
          "text": [
            "10e-6\n",
            "36091 steps\n",
            "M = 300\n",
            "Elapsed time: 0:00:08.029732\n"
          ],
          "name": "stdout"
        },
        {
          "output_type": "display_data",
          "data": {
            "image/png": "[encoded data removed]",
            "text/plain": [
              "<Figure size 432x288 with 2 Axes>"
            ]
          },
          "metadata": {
            "tags": []
          }
        }
      ]
    },
    {
      "cell_type": "code",
      "metadata": {
        "id": "ccm_kQLhIJ5s",
        "colab_type": "code",
        "colab": {}
      },
      "source": [
        ""
      ],
      "execution_count": 0,
      "outputs": []
    }
  ]
}