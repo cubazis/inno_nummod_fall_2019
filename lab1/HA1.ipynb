{
 "cells": [
  {
   "cell_type": "markdown",
   "metadata": {},
   "source": [
    "## Потеря значимости"
   ]
  },
  {
   "cell_type": "code",
   "execution_count": null,
   "metadata": {},
   "outputs": [],
   "source": [
    "import numpy as np"
   ]
  },
  {
   "cell_type": "code",
   "execution_count": null,
   "metadata": {},
   "outputs": [],
   "source": [
    "from myPosit import posit"
   ]
  },
  {
   "cell_type": "code",
   "execution_count": null,
   "metadata": {},
   "outputs": [],
   "source": [
    "x = lambda a, dtype: np.array([10**a, 1223, 10**(a-1), 10**(a-2), 3, -10**(a-5)], dtype)\n",
    "y = lambda b, dtype: np.array([10**b, 2, -10**(b+1), 10**b, 2111, 10**(b+3)], dtype)"
   ]
  },
  {
   "cell_type": "code",
   "execution_count": null,
   "metadata": {},
   "outputs": [],
   "source": [
    "bs = [5, 8, 12, 15, 20] "
   ]
  },
  {
   "cell_type": "code",
   "execution_count": null,
   "metadata": {},
   "outputs": [],
   "source": [
    "for val in [np.dot(x(5, posit), y(b, posit)) for b in bs]:\n",
    "    print(val)\n",
    "    assert val == 8779.0"
   ]
  },
  {
   "cell_type": "code",
   "execution_count": null,
   "metadata": {},
   "outputs": [],
   "source": [
    "for val in [np.dot(x(10, posit), y(b, posit)) for b in bs]:\n",
    "    print(val)\n",
    "    assert val == 8779.0"
   ]
  },
  {
   "cell_type": "markdown",
   "metadata": {},
   "source": [
    "## Закон ассоциативности"
   ]
  },
  {
   "cell_type": "code",
   "execution_count": null,
   "metadata": {},
   "outputs": [],
   "source": [
    "assert 1.644725755214774951 == np.sum(np.array(list(map(lambda x: 1/x**2, range(1, 4801))), posit))"
   ]
  },
  {
   "cell_type": "markdown",
   "metadata": {},
   "source": [
    "## Half divide method"
   ]
  },
  {
   "cell_type": "code",
   "execution_count": null,
   "metadata": {},
   "outputs": [],
   "source": [
    "f = lambda x: (x - 4/3)**2"
   ]
  },
  {
   "cell_type": "code",
   "execution_count": null,
   "metadata": {},
   "outputs": [],
   "source": [
    "def half_divide_method(a, b, stop, f, iterations):\n",
    "    eps = 0.5\n",
    "    x = (a + b) / 2\n",
    "    i = 0\n",
    "    while f(x) >=stop and i < iterations:\n",
    "        x = (a + b) / 2\n",
    "        f1 = f(x - eps)\n",
    "        f2 = f(x + eps)\n",
    "        a, b = (a, x) if f1 < f2 else (x, b)\n",
    "        i += 1\n",
    "    return (a + b) / 2"
   ]
  },
  {
   "cell_type": "code",
   "execution_count": null,
   "metadata": {},
   "outputs": [],
   "source": [
    "assert 1.3333333333333333 == half_divide_method(-2, 4.65,  0.0001, f, 10000000)"
   ]
  }
 ],
 "metadata": {
  "kernelspec": {
   "display_name": "Python 3",
   "language": "python",
   "name": "python3"
  },
  "language_info": {
   "codemirror_mode": {
    "name": "ipython",
    "version": 3
   },
   "file_extension": ".py",
   "mimetype": "text/x-python",
   "name": "python",
   "nbconvert_exporter": "python",
   "pygments_lexer": "ipython3",
   "version": "3.7.3"
  }
 },
 "nbformat": 4,
 "nbformat_minor": 2
}
