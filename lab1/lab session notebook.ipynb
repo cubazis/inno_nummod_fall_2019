{
 "cells": [
  {
   "cell_type": "markdown",
   "metadata": {},
   "source": [
    "## Потеря значимости"
   ]
  },
  {
   "cell_type": "code",
   "execution_count": 1,
   "metadata": {},
   "outputs": [],
   "source": [
    "import numpy as np"
   ]
  },
  {
   "cell_type": "code",
   "execution_count": 2,
   "metadata": {},
   "outputs": [
    {
     "data": {
      "text/plain": [
       "5.0"
      ]
     },
     "execution_count": 2,
     "metadata": {},
     "output_type": "execute_result"
    }
   ],
   "source": [
    "a = np.array([1, 2, 3], float)\n",
    "b = np.array([0, 1, 1], float)\n",
    "np.dot(a, b)"
   ]
  },
  {
   "cell_type": "code",
   "execution_count": 3,
   "metadata": {},
   "outputs": [],
   "source": [
    "x = lambda a, dtype: np.array([10**a, 1223, 10**(a-1), 10**(a-2), 3, -10**(a-5)], dtype)\n",
    "y = lambda b, dtype: np.array([10**b, 2, -10**(b+1), 10**b, 2111, 10**(b+3)], dtype)"
   ]
  },
  {
   "cell_type": "code",
   "execution_count": 4,
   "metadata": {},
   "outputs": [],
   "source": [
    "bs = [5, 8, 12, 15, 20] "
   ]
  },
  {
   "cell_type": "code",
   "execution_count": 5,
   "metadata": {},
   "outputs": [
    {
     "data": {
      "text/plain": [
       "[8384.0, 8192.0, 0.0, 0.0, 0.0]"
      ]
     },
     "execution_count": 5,
     "metadata": {},
     "output_type": "execute_result"
    }
   ],
   "source": [
    "[np.dot(x(5, np.float32), y(b, np.float32)) for b in bs]    "
   ]
  },
  {
   "cell_type": "code",
   "execution_count": 6,
   "metadata": {},
   "outputs": [
    {
     "data": {
      "text/plain": [
       "[8779.0, 8779.0, 8781.0, 6272.0, 0.0]"
      ]
     },
     "execution_count": 6,
     "metadata": {},
     "output_type": "execute_result"
    }
   ],
   "source": [
    "[np.dot(x(5, np.float64), y(b, np.float64)) for b in bs]  "
   ]
  },
  {
   "cell_type": "code",
   "execution_count": 7,
   "metadata": {},
   "outputs": [
    {
     "data": {
      "text/plain": [
       "[0.0, 0.0, 0.0, -1.1529215e+18, 1.1805916e+21]"
      ]
     },
     "execution_count": 7,
     "metadata": {},
     "output_type": "execute_result"
    }
   ],
   "source": [
    "[np.dot(x(10, np.float32), y(b, np.float32)) for b in bs]    "
   ]
  },
  {
   "cell_type": "code",
   "execution_count": 8,
   "metadata": {},
   "outputs": [
    {
     "data": {
      "text/plain": [
       "[8779.0, 8764.0, 0.0, 0.0, 0.0]"
      ]
     },
     "execution_count": 8,
     "metadata": {},
     "output_type": "execute_result"
    }
   ],
   "source": [
    "[np.dot(x(10, np.float64), y(b, np.float64)) for b in bs]    "
   ]
  },
  {
   "cell_type": "code",
   "execution_count": 9,
   "metadata": {},
   "outputs": [
    {
     "data": {
      "text/plain": [
       "[-2912.000000,\n",
       " -40894464.000000,\n",
       " -6287832121344.000000,\n",
       " -20688410788233216.000000,\n",
       " -28039050992038518456320.000000]"
      ]
     },
     "execution_count": 9,
     "metadata": {},
     "output_type": "execute_result"
    }
   ],
   "source": [
    "[np.dot(x(5, np.posit32), y(b, np.posit32)) for b in bs]    "
   ]
  },
  {
   "cell_type": "code",
   "execution_count": 10,
   "metadata": {},
   "outputs": [
    {
     "data": {
      "text/plain": [
       "[-11382456320.000000,\n",
       " -59871844106240.000000,\n",
       " 16550728630586572800.000000,\n",
       " -26415737513552077914112.000000,\n",
       " -44565841414273689896368472064.000000]"
      ]
     },
     "execution_count": 10,
     "metadata": {},
     "output_type": "execute_result"
    }
   ],
   "source": [
    "[np.dot(x(10, np.posit32), y(b, np.posit32)) for b in bs]    "
   ]
  },
  {
   "cell_type": "code",
   "execution_count": 11,
   "metadata": {},
   "outputs": [],
   "source": [
    "from unum import Unum as posit"
   ]
  },
  {
   "cell_type": "code",
   "execution_count": 12,
   "metadata": {},
   "outputs": [
    {
     "data": {
      "text/plain": [
       "[8779, 8779, 8779, 8779, 8779]"
      ]
     },
     "execution_count": 12,
     "metadata": {},
     "output_type": "execute_result"
    }
   ],
   "source": [
    "[np.dot(x(5, posit), y(b, posit)) for b in bs]"
   ]
  },
  {
   "cell_type": "code",
   "execution_count": 13,
   "metadata": {},
   "outputs": [
    {
     "data": {
      "text/plain": [
       "[8779, 8779, 8779, 8779, 8779]"
      ]
     },
     "execution_count": 13,
     "metadata": {},
     "output_type": "execute_result"
    }
   ],
   "source": [
    "[np.dot(x(10, posit), y(b, posit)) for b in bs]"
   ]
  },
  {
   "cell_type": "markdown",
   "metadata": {},
   "source": [
    "## Закон ассоциативности"
   ]
  },
  {
   "cell_type": "code",
   "execution_count": 14,
   "metadata": {},
   "outputs": [
    {
     "data": {
      "text/plain": [
       "1.6447257546352674"
      ]
     },
     "execution_count": 14,
     "metadata": {},
     "output_type": "execute_result"
    }
   ],
   "source": [
    "sum(np.array([1/i**2 for i in range(1, 4801)], np.float32))"
   ]
  },
  {
   "cell_type": "code",
   "execution_count": 15,
   "metadata": {},
   "outputs": [
    {
     "data": {
      "text/plain": [
       "1.6447257552147838"
      ]
     },
     "execution_count": 15,
     "metadata": {},
     "output_type": "execute_result"
    }
   ],
   "source": [
    "sum(np.array([1/i**2 for i in range(1, 4801)], np.float64))"
   ]
  },
  {
   "cell_type": "code",
   "execution_count": 16,
   "metadata": {},
   "outputs": [
    {
     "data": {
      "text/plain": [
       "1.6447257"
      ]
     },
     "execution_count": 16,
     "metadata": {},
     "output_type": "execute_result"
    }
   ],
   "source": [
    "np.sum(np.array(list(map(lambda x: 1/x**2, range(1, 4801))), np.float32))"
   ]
  },
  {
   "cell_type": "code",
   "execution_count": 17,
   "metadata": {},
   "outputs": [
    {
     "data": {
      "text/plain": [
       "1.644725755214775"
      ]
     },
     "execution_count": 17,
     "metadata": {},
     "output_type": "execute_result"
    }
   ],
   "source": [
    "np.sum(np.array(list(map(lambda x: 1/x**2, range(1, 4801))), np.float64))"
   ]
  },
  {
   "cell_type": "code",
   "execution_count": 18,
   "metadata": {},
   "outputs": [
    {
     "data": {
      "text/plain": [
       "1.644725755214775"
      ]
     },
     "execution_count": 18,
     "metadata": {},
     "output_type": "execute_result"
    }
   ],
   "source": [
    "np.sum(np.fromiter(map(lambda x: 1/x**2, range(1, 4801)), np.float64))"
   ]
  },
  {
   "cell_type": "code",
   "execution_count": 57,
   "metadata": {},
   "outputs": [
    {
     "data": {
      "text/plain": [
       "1.6447257552147838"
      ]
     },
     "execution_count": 57,
     "metadata": {},
     "output_type": "execute_result"
    }
   ],
   "source": [
    "np.sum(np.array(list(map(lambda x: 1/x**2, range(1, 4801))), posit))"
   ]
  },
  {
   "cell_type": "markdown",
   "metadata": {},
   "source": [
    "**1.644725755214774951145**"
   ]
  },
  {
   "cell_type": "markdown",
   "metadata": {},
   "source": [
    "## Kahan’s \"Smooth Surprise\""
   ]
  },
  {
   "cell_type": "code",
   "execution_count": 21,
   "metadata": {},
   "outputs": [],
   "source": [
    "toFloat32 = lambda x: np.array(x, np.float32)\n",
    "toFloat64 = lambda x: np.array(x, np.float64)\n",
    "toPosit32 = lambda x: np.array(x, np.posit32)\n",
    "toPositU = lambda x: np.array(x, posit)"
   ]
  },
  {
   "cell_type": "code",
   "execution_count": 22,
   "metadata": {},
   "outputs": [
    {
     "data": {
      "text/plain": [
       "2.327232110413813"
      ]
     },
     "execution_count": 22,
     "metadata": {},
     "output_type": "execute_result"
    }
   ],
   "source": [
    "from scipy.optimize import fmin\n",
    "\n",
    "f = lambda x: np.log(np.absolute(3*(1-x)+1))/80 + np.power(x, 2) + 1\n",
    "\n",
    "f(1.3333333333333333)"
   ]
  },
  {
   "cell_type": "code",
   "execution_count": 23,
   "metadata": {},
   "outputs": [
    {
     "data": {
      "text/plain": [
       "array(2.327232110413813, dtype=object)"
      ]
     },
     "execution_count": 23,
     "metadata": {},
     "output_type": "execute_result"
    }
   ],
   "source": [
    "toPositU(f(1.3333333333333333))"
   ]
  },
  {
   "cell_type": "code",
   "execution_count": 24,
   "metadata": {},
   "outputs": [
    {
     "name": "stdout",
     "output_type": "stream",
     "text": [
      "Optimization terminated successfully.\n",
      "         Current function value: 1.017307\n",
      "         Iterations: 17\n",
      "         Function evaluations: 34\n"
     ]
    },
    {
     "data": {
      "text/plain": [
       "array([0.0046875])"
      ]
     },
     "execution_count": 24,
     "metadata": {},
     "output_type": "execute_result"
    }
   ],
   "source": [
    "fmin(f, 0.8)"
   ]
  },
  {
   "cell_type": "code",
   "execution_count": 25,
   "metadata": {},
   "outputs": [],
   "source": [
    "import matplotlib.pyplot as plt"
   ]
  },
  {
   "cell_type": "code",
   "execution_count": 26,
   "metadata": {},
   "outputs": [
    {
     "data": {
      "text/plain": [
       "<matplotlib.legend.Legend at 0x7fee5d674080>"
      ]
     },
     "execution_count": 26,
     "metadata": {},
     "output_type": "execute_result"
    },
    {
     "data": {
      "image/png": "[encoded data removed]",
      "text/plain": [
       "<Figure size 720x720 with 1 Axes>"
      ]
     },
     "metadata": {
      "needs_background": "light"
     },
     "output_type": "display_data"
    }
   ],
   "source": [
    "x = np.linspace(0, 2, 100)\n",
    "\n",
    "fig1, ax1 = plt.subplots(figsize=(10,10))\n",
    "ax1.plot(x, f(x), label='Kahan’s “Smooth Surprise”')\n",
    "ax1.grid(True, which='both')\n",
    "ax1.axhline(y=0, color='k')\n",
    "ax1.axvline(x=0, color='k')\n",
    "plt.legend()"
   ]
  },
  {
   "cell_type": "code",
   "execution_count": 27,
   "metadata": {},
   "outputs": [],
   "source": [
    "f2 = lambda x: (x - 4/3)**2"
   ]
  },
  {
   "cell_type": "code",
   "execution_count": 58,
   "metadata": {
    "scrolled": true
   },
   "outputs": [
    {
     "data": {
      "text/plain": [
       "<matplotlib.legend.Legend at 0x7fee5d53d160>"
      ]
     },
     "execution_count": 58,
     "metadata": {},
     "output_type": "execute_result"
    },
    {
     "data": {
      "image/png": "[encoded data removed]",
      "text/plain": [
       "<Figure size 720x720 with 1 Axes>"
      ]
     },
     "metadata": {
      "needs_background": "light"
     },
     "output_type": "display_data"
    }
   ],
   "source": [
    "x1 = np.linspace(-2, 4.65, 100)\n",
    "y1 = f2(x1)\n",
    "x2 = [4/3, 4/3]\n",
    "y2 = [-1, 10]\n",
    "fig2, ax2 = plt.subplots(figsize=(10,10))\n",
    "ax2.plot(x1, y1, x2, y2, label='parabola”')\n",
    "ax2.scatter(4/3, 0, color=\"r\", s=100)\n",
    "ax2.grid(True, which='both')\n",
    "ax2.axhline(y=0, color='k')\n",
    "ax2.axvline(x=0, color='k')\n",
    "plt.legend()"
   ]
  },
  {
   "cell_type": "code",
   "execution_count": 29,
   "metadata": {},
   "outputs": [],
   "source": [
    "def half_divide_method(a, b, stop, f, transformer, iterations):\n",
    "    a, b = transformer(a), transformer(b)\n",
    "    x = (a + b) / transformer(2)\n",
    "    stop = transformer(stop)\n",
    "    i = 0\n",
    "    while np.absolute(transformer(f(x))) >=stop and i < iterations:\n",
    "        x = (a + b) / transformer(2)\n",
    "        a, b = (a, x) if transformer(f(a)) * transformer(f(x)) < 0 else (x, b)\n",
    "        i += 1\n",
    "    return (a + b) / 2"
   ]
  },
  {
   "cell_type": "code",
   "execution_count": 60,
   "metadata": {},
   "outputs": [
    {
     "data": {
      "text/plain": [
       "1.3250000476837158"
      ]
     },
     "execution_count": 60,
     "metadata": {},
     "output_type": "execute_result"
    }
   ],
   "source": [
    "half_divide_method(-2, 4.65,  0.0001, f2,toFloat32, 10000000)"
   ]
  },
  {
   "cell_type": "code",
   "execution_count": 62,
   "metadata": {},
   "outputs": [
    {
     "data": {
      "text/plain": [
       "1.3250000000000002"
      ]
     },
     "execution_count": 62,
     "metadata": {},
     "output_type": "execute_result"
    }
   ],
   "source": [
    "half_divide_method(-2, 4.65,  0.0001, f2,toFloat64, 10000000)"
   ]
  },
  {
   "cell_type": "code",
   "execution_count": 32,
   "metadata": {},
   "outputs": [
    {
     "data": {
      "text/plain": [
       "1.325000"
      ]
     },
     "execution_count": 32,
     "metadata": {},
     "output_type": "execute_result"
    }
   ],
   "source": [
    "half_divide_method(-2, 4.65,  0.0001, f2, toPosit32,10000000)"
   ]
  },
  {
   "cell_type": "code",
   "execution_count": 63,
   "metadata": {},
   "outputs": [
    {
     "data": {
      "text/plain": [
       "1.3250000000000002"
      ]
     },
     "execution_count": 63,
     "metadata": {},
     "output_type": "execute_result"
    }
   ],
   "source": [
    "half_divide_method(-2, 4.65,  0.0001, f2, toPositU, 10000000)"
   ]
  },
  {
   "cell_type": "code",
   "execution_count": 83,
   "metadata": {},
   "outputs": [
    {
     "data": {
      "text/plain": [
       "1.3000000000000003"
      ]
     },
     "execution_count": 83,
     "metadata": {},
     "output_type": "execute_result"
    }
   ],
   "source": [
    "half_divide_method2(1.3, 1.4, f(4/3), f, toPositU, 100)"
   ]
  },
  {
   "cell_type": "code",
   "execution_count": 36,
   "metadata": {},
   "outputs": [
    {
     "data": {
      "text/plain": [
       "1.3499999046325684"
      ]
     },
     "execution_count": 36,
     "metadata": {},
     "output_type": "execute_result"
    }
   ],
   "source": [
    "half_divide_method(1.3, 1.4, 2.7850532, f, toFloat32, 10000000)"
   ]
  },
  {
   "cell_type": "code",
   "execution_count": 39,
   "metadata": {},
   "outputs": [
    {
     "data": {
      "text/plain": [
       "2.78505301756274"
      ]
     },
     "execution_count": 39,
     "metadata": {},
     "output_type": "execute_result"
    }
   ],
   "source": [
    "f(1.3499999046325684)"
   ]
  },
  {
   "cell_type": "code",
   "execution_count": 40,
   "metadata": {},
   "outputs": [
    {
     "name": "stdout",
     "output_type": "stream",
     "text": [
      "1.3999512195587158\n",
      "1.3999755382537842\n",
      "1.3999876976013184\n",
      "1.399993896484375\n",
      "1.3999969959259033\n",
      "1.399998426437378\n",
      "1.3999991416931152\n",
      "1.3999996185302734\n",
      "1.3999998569488525\n",
      "1.3999998569488525\n"
     ]
    }
   ],
   "source": [
    "stop = 1.4\n",
    "res = 0\n",
    "steps = 10\n",
    "while res != stop and steps < 20:\n",
    "    res = half_divide_method(1.3, 1.4, 2.327232110413813, f, toFloat32, steps)\n",
    "    print(res)\n",
    "    steps += 1"
   ]
  },
  {
   "cell_type": "code",
   "execution_count": null,
   "metadata": {},
   "outputs": [],
   "source": [
    "f(1.3333333333333333)"
   ]
  },
  {
   "cell_type": "code",
   "execution_count": 41,
   "metadata": {},
   "outputs": [
    {
     "name": "stdout",
     "output_type": "stream",
     "text": [
      "1.399951171875\n",
      "1.3999755859374998\n",
      "1.3999877929687499\n",
      "1.399993896484375\n",
      "1.3999969482421875\n",
      "1.3999984741210936\n",
      "1.3999992370605467\n",
      "1.3999996185302734\n",
      "1.3999998092651367\n",
      "1.3999999046325682\n",
      "1.399999952316284\n",
      "1.399999976158142\n",
      "1.399999988079071\n",
      "1.3999999940395353\n",
      "1.3999999970197676\n",
      "1.3999999985098839\n",
      "1.399999999254942\n",
      "1.3999999996274708\n",
      "1.3999999998137354\n",
      "1.3999999999068677\n",
      "1.3999999999534338\n",
      "1.3999999999767168\n",
      "1.3999999999883583\n",
      "1.3999999999941792\n",
      "1.3999999999970896\n",
      "1.3999999999985446\n",
      "1.3999999999992723\n",
      "1.3999999999996362\n",
      "1.399999999999818\n",
      "1.3999999999999089\n",
      "1.3999999999999544\n",
      "1.3999999999999773\n",
      "1.3999999999999886\n",
      "1.3999999999999941\n",
      "1.399999999999997\n",
      "1.3999999999999986\n",
      "1.3999999999999992\n",
      "1.3999999999999995\n",
      "1.3999999999999997\n",
      "1.4\n"
     ]
    }
   ],
   "source": [
    "stop = 1.4\n",
    "res = 0\n",
    "steps = 10\n",
    "while res != stop and steps < 100:\n",
    "    res = half_divide_method(1.3, 1.4, 2.327232110413813, f, toFloat64, steps)\n",
    "    print(res)\n",
    "    steps += 1"
   ]
  },
  {
   "cell_type": "code",
   "execution_count": 64,
   "metadata": {},
   "outputs": [
    {
     "data": {
      "text/plain": [
       "1.4"
      ]
     },
     "execution_count": 64,
     "metadata": {},
     "output_type": "execute_result"
    }
   ],
   "source": [
    "half_divide_method(1.3, 1.4, 2.32, f, toPositU, 100)"
   ]
  },
  {
   "cell_type": "code",
   "execution_count": 33,
   "metadata": {},
   "outputs": [],
   "source": [
    "def half_divide_method2(a, b, stop, f, transformer, iterations):\n",
    "    eps = transformer(0.5)\n",
    "    a, b = transformer(a), transformer(b)\n",
    "    x = (a + b) / transformer(2)\n",
    "    stop = transformer(stop)\n",
    "    i = 0\n",
    "    while transformer(f(x)) >=stop and i < iterations:\n",
    "        x = (a + b) / transformer(2)\n",
    "        f1 = transformer(f(x - eps))\n",
    "        f2 = transformer(f(x + eps))\n",
    "        a, b = (a, x) if f1 < f2 else (x, b)\n",
    "        i += 1\n",
    "    return (a + b) / 2"
   ]
  },
  {
   "cell_type": "code",
   "execution_count": 43,
   "metadata": {},
   "outputs": [
    {
     "data": {
      "text/plain": [
       "1.2999999523162842"
      ]
     },
     "execution_count": 43,
     "metadata": {},
     "output_type": "execute_result"
    }
   ],
   "source": [
    "half_divide_method2(1.3, 1.4, 2.327232110413813, f, toFloat32, 100)"
   ]
  },
  {
   "cell_type": "code",
   "execution_count": 44,
   "metadata": {},
   "outputs": [
    {
     "data": {
      "text/plain": [
       "1.3000000000000003"
      ]
     },
     "execution_count": 44,
     "metadata": {},
     "output_type": "execute_result"
    }
   ],
   "source": [
    "half_divide_method2(1.3, 1.4, 2.327232110413813, f, toFloat64, 100)"
   ]
  },
  {
   "cell_type": "code",
   "execution_count": 49,
   "metadata": {},
   "outputs": [
    {
     "data": {
      "text/plain": [
       "1.3000000000000003"
      ]
     },
     "execution_count": 49,
     "metadata": {},
     "output_type": "execute_result"
    }
   ],
   "source": [
    "half_divide_method2(1.3, 1.4, 2.327232110413813, f, toPositU, 100)"
   ]
  }
 ],
 "metadata": {
  "kernelspec": {
   "display_name": "Python 3",
   "language": "python",
   "name": "python3"
  },
  "language_info": {
   "codemirror_mode": {
    "name": "ipython",
    "version": 3
   },
   "file_extension": ".py",
   "mimetype": "text/x-python",
   "name": "python",
   "nbconvert_exporter": "python",
   "pygments_lexer": "ipython3",
   "version": "3.7.3"
  }
 },
 "nbformat": 4,
 "nbformat_minor": 2
}
