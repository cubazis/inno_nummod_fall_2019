{
 "cells": [
  {
   "cell_type": "code",
   "execution_count": 50,
   "metadata": {},
   "outputs": [],
   "source": [
    "grid = lambda i: list(\n",
    "    enumerate(\n",
    "        zip(\n",
    "            [1.0, 1.2, 1.4, 1.6, 1.8, 2.0], \n",
    "            [1.0, 0.83333333, 0.7142857, 0.625, 0.5555555, 0.5]\n",
    "        )\n",
    "    )\n",
    ")[i][1]"
   ]
  },
  {
   "cell_type": "code",
   "execution_count": 51,
   "metadata": {},
   "outputs": [
    {
     "name": "stdout",
     "output_type": "stream",
     "text": [
      "1.4 0.7142857\n"
     ]
    }
   ],
   "source": [
    "x, f = grid(2)\n",
    "print(x, f)"
   ]
  },
  {
   "cell_type": "code",
   "execution_count": 59,
   "metadata": {},
   "outputs": [
    {
     "name": "stdout",
     "output_type": "stream",
     "text": [
      "0.19999999999999996\n",
      "0.19999999999999996\n",
      "0.20000000000000018\n",
      "0.19999999999999996\n",
      "0.19999999999999996\n"
     ]
    }
   ],
   "source": [
    "for i in range(5):\n",
    "    x1, _ = grid(i)\n",
    "    x2, _ = grid(i+1)\n",
    "    print(x2 - x1)"
   ]
  },
  {
   "cell_type": "code",
   "execution_count": 60,
   "metadata": {},
   "outputs": [],
   "source": [
    "template = [1, 2, 3]\n",
    "h = 0.2"
   ]
  },
  {
   "cell_type": "code",
   "execution_count": 70,
   "metadata": {},
   "outputs": [
    {
     "data": {
      "text/plain": [
       "-0.5208333249999999"
      ]
     },
     "execution_count": 70,
     "metadata": {},
     "output_type": "execute_result"
    }
   ],
   "source": [
    "(lambda G, T, h: (G(T[2])[1] - G(T[0])[1])/(2*h))(grid, template, h)"
   ]
  },
  {
   "cell_type": "code",
   "execution_count": null,
   "metadata": {},
   "outputs": [],
   "source": []
  }
 ],
 "metadata": {
  "kernelspec": {
   "display_name": "Python 3",
   "language": "python",
   "name": "python3"
  },
  "language_info": {
   "codemirror_mode": {
    "name": "ipython",
    "version": 3
   },
   "file_extension": ".py",
   "mimetype": "text/x-python",
   "name": "python",
   "nbconvert_exporter": "python",
   "pygments_lexer": "ipython3",
   "version": "3.6.8"
  }
 },
 "nbformat": 4,
 "nbformat_minor": 2
}
