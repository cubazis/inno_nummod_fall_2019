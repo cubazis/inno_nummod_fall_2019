{
 "cells": [
  {
   "cell_type": "markdown",
   "metadata": {
    "slideshow": {
     "slide_type": "slide"
    }
   },
   "source": [
    "# Numerical Modeling\n",
    "## 26/10/2019"
   ]
  },
  {
   "cell_type": "markdown",
   "metadata": {
    "slideshow": {
     "slide_type": "slide"
    }
   },
   "source": [
    "# Мат. анализ"
   ]
  },
  {
   "cell_type": "markdown",
   "metadata": {
    "slideshow": {
     "slide_type": "slide"
    }
   },
   "source": [
    "**Оценка погрешности аппроксимационных формул $O(h^{k})$**\n",
    "\n",
    "Пусть $R(h)$ некоторая функция переменной $h$ (Как правило, $R(h)$ - остаточное слагаемое некоторой аппроксимационной формулы) с конечной областью определения $D_{R}$ на полуоси $h>0$. Причем $h \\in D_R$\n",
    "\n",
    "Тогда если при некотором $h \\in h_0$ справедливо неравенство $| R(h) | \\leq ch^{k}$, где $c = const$, не зависящая от $h$, $k$ - целое число, $h_0 > 0$, то пишут $R(h) = O(h^k)$ и говорят, что $R(h)$ есть \"$О$ большое от $h^k$\" при $h \\rightarrow 0$ "
   ]
  },
  {
   "cell_type": "markdown",
   "metadata": {
    "slideshow": {
     "slide_type": "slide"
    }
   },
   "source": [
    "**Свойста остаточного члена**\n",
    "\n",
    "Для $R_1(h) = O(h^k), R_2(h) = O(h^k)$, ($D_{R_1} = D_{R_2}$) справедливы следующие свойства:\n",
    "\n",
    "1. $R_1(h) \\pm R_2(h) = O(h^k)$\n",
    "2. $\\frac{R(h)}{h^p} = O(h^{k-p})$\n",
    "3. $R(h)h^{p} = O(h^{k+p})$\n",
    "4. $\\alpha R(h) = O(h^k)$\n",
    "\n",
    "Для $R_1(h) = O(h^{k_1}), R_2(h^{k_2}) = O(h^k)$:\n",
    "\n",
    "1. $R_1(h)R_2(h) = O(h^{k_1 + k_2})$\n",
    "2. $R_1(h) + R_2(h) = O(h^{\\min(k_1, k_2)})$"
   ]
  },
  {
   "cell_type": "markdown",
   "metadata": {
    "slideshow": {
     "slide_type": "slide"
    }
   },
   "source": [
    "**Класс непрерывно-дифференцируемых функций**\n",
    "\n",
    "Пусть на некоторой области $G[a, b]$ задана функция $f(x)$ и существуют непрерывные производные $f^{(1)}, ..., f^{(n)}$\n",
    "\n",
    "Тогда говорят что функция принадлежит классу $C^{n}(G)$"
   ]
  },
  {
   "cell_type": "markdown",
   "metadata": {
    "slideshow": {
     "slide_type": "fragment"
    }
   },
   "source": [
    "Пусть $f(x) \\in C^{k+1}[a, b]$ тогда справедлива формула: \n",
    "\n",
    "$f(x) = f(x_0) + f^{(1)}(x_0)(x - x_0) + \\frac{f^{(2)}(x_0)}{2!}(x - x_0)^2 + ... + \\frac{f^{(k)}(x_0)}{k!}(x - x_0)^k + \\frac{f^{(k+1)}(\\xi)}{k+1!}(x - x_0)^{k+1} = $\n",
    "\n",
    "$f(x) = \\sum^{k}_{j = 0}\\frac{f^{(j)}(x_0)}{j!}(x - x_0)^j + R_{k+1}(x), \\ \\xi \\in (x, x_0)$\n",
    "\n",
    "$R_{k+1}(x) = \\frac{f^{(k+1)}(\\xi)}{(k+1)!}(x - x_0)^{k+1}$ - **Остаточный член в форме Лагранжа**"
   ]
  },
  {
   "cell_type": "markdown",
   "metadata": {
    "slideshow": {
     "slide_type": "slide"
    }
   },
   "source": [
    "**Если $f^{k+1}$ непрерывна на $G$ то она ограничена и достигает своих верхней и нижней граней**"
   ]
  },
  {
   "cell_type": "markdown",
   "metadata": {
    "slideshow": {
     "slide_type": "fragment"
    }
   },
   "source": [
    "$M_{k+1} = \\max_{G} | f^{k+1}(x) | < \\infty$"
   ]
  },
  {
   "cell_type": "markdown",
   "metadata": {
    "slideshow": {
     "slide_type": "fragment"
    }
   },
   "source": [
    "$| R_{k+1}(x) | \\leq \\frac{M_{k+1}}{(k+1)!}| x - x_0 |^{k+1} \\rightarrow |R_{k+1}(x)| = O(|x-x_0|^{k+1}) = O(h^{k+1})$\n",
    "\n",
    "$h = |x - x_0|$"
   ]
  },
  {
   "cell_type": "markdown",
   "metadata": {
    "slideshow": {
     "slide_type": "slide"
    }
   },
   "source": [
    "**Формула Тейлора может быть представлена в виде:**\n",
    "\n",
    "$f(x) = \\sum^{k}_{j = 0}\\frac{f^{(j)}(x_0)}{j!}(x - x_0)^j + O(h^{k+1})$"
   ]
  },
  {
   "cell_type": "markdown",
   "metadata": {
    "slideshow": {
     "slide_type": "fragment"
    }
   },
   "source": [
    "**При $k = 1$**\n",
    "\n",
    "$f(x_0 + h) = f(x_0) + f^{1}(x_0)h + O(h^2)$\n",
    "\n",
    "$f(x_0 - h) = f(x_0) - f^{1}(x_0)h + O(h^2)$"
   ]
  },
  {
   "cell_type": "markdown",
   "metadata": {
    "slideshow": {
     "slide_type": "fragment"
    }
   },
   "source": [
    "**При $k = 2$**\n",
    "\n",
    "$f(x_0 + h) = f(x_0) + f^{(1)}(x_0)h + f^{(2)}(x_0)\\frac{h^2}{2} + O(h^3)$\n",
    "\n",
    "$f(x_0 - h) = f(x_0) - f^{(1)}(x_0)h + f^{(2)}(x_0)\\frac{h^2}{2} + O(h^3)$"
   ]
  },
  {
   "cell_type": "markdown",
   "metadata": {
    "slideshow": {
     "slide_type": "slide"
    }
   },
   "source": [
    "**Для общего случая, когда:**\n",
    "\n",
    "$x = x_{i+1}$\n",
    "\n",
    "$x_0 = x_{i}$\n",
    "\n",
    "$h_{i+1} = x_{i+1} - x_{i}$, где $[x_i, x_{i+1}] \\subset [a, b]$\n",
    "\n",
    "**получим**\n",
    "\n",
    "$f(x_{i+1}) = f(x_i) + f^{(1)}(x_i)h_{i+1} + f^{(2)}(x_i)\\frac{h_{i+1}^2}{2!} + ... + f^{(k)}(x_i)\\frac{h_{i+1}^k}{k!} + O(h_{i+1}^{k+1})$\n",
    "\n",
    "**обозначив $f_{i+1} = f(x_{i+1}), f_{i} = f(x_{i}), f_{i}^{(p)} = f^{(p)}(x_{i})$, получим**\n",
    "\n",
    "\n",
    "$f_{i+1}) = f_i + f^{(1)}_{i}h_{i+1} + f^{(2)}_i\\frac{h_{i+1}^2}{2!} + ... + f^{(k)}_i\\frac{h_{i+1}^k}{k!} + f^{(k+1)}_i\\frac{h_{i+1}^{k+1}}{(k+1)!}$"
   ]
  },
  {
   "cell_type": "markdown",
   "metadata": {
    "slideshow": {
     "slide_type": "slide"
    }
   },
   "source": [
    "# Элементы теории погрешностей"
   ]
  },
  {
   "cell_type": "markdown",
   "metadata": {
    "slideshow": {
     "slide_type": "slide"
    }
   },
   "source": [
    "$U$ - точное, $U^{*}$ - приближенное"
   ]
  },
  {
   "cell_type": "markdown",
   "metadata": {
    "slideshow": {
     "slide_type": "fragment"
    }
   },
   "source": [
    "1. Абсолютная погрешность есть величина $\\Delta(U^{*})$ удовлетворяющая неравенству $|U - U^{*}| \\leq \\Delta(U^{*})$\n",
    "\n",
    "\n",
    "2. Относительная погрешность есть величина $\\delta(U^{*})$ удовлетворяющая неравенству $|\\frac{U - U^{*}}{U^{*}}| \\leq \\delta(U^{*})$\n",
    "\n",
    "\n",
    "3. Предельная абсолютная погрешность есть величина $D(U^{*}) = \\sup_{t_1, ..., t_n}(U(t_1, ..., t_n) - U^{*})$ \n",
    "\n",
    "\n",
    "4. Предельная относительная погрешность есть величина $\\frac{D(U^{*})}{|U^{*}|}$"
   ]
  },
  {
   "cell_type": "markdown",
   "metadata": {
    "slideshow": {
     "slide_type": "slide"
    }
   },
   "source": [
    "**Пусть известно что**\n",
    "\n",
    "1. $|t_j - t_j^{*}| \\leq \\Delta(t_j^{*})$\n",
    "\n",
    "\n",
    "2. $U^{*} = U(t_1^{*}, ..., t_n^{*})$\n",
    "\n",
    "\n",
    "3. $U \\in C^{k}[\\{t_1, ..., t_n\\}]$ "
   ]
  },
  {
   "cell_type": "markdown",
   "metadata": {
    "slideshow": {
     "slide_type": "fragment"
    }
   },
   "source": [
    "**Тогда**\n",
    "\n",
    "$U(t_1, ..., t_n) - U^{*} = \\sum_{j=1}^{n}\\gamma_j(\\alpha)(t_j - t_j^{*})$\n",
    "\n",
    "$\\gamma_j(\\alpha) = U_{tj}^{(1)}(t_1^{*} + \\alpha(t_1 - t_1^{*}), ..., t_n^{*} + \\alpha(t_n - t_n^{*}))$\n",
    "\n",
    "$0 \\leq \\alpha \\leq 1$"
   ]
  },
  {
   "cell_type": "markdown",
   "metadata": {
    "slideshow": {
     "slide_type": "slide"
    }
   },
   "source": [
    "**Тогда**\n",
    "\n",
    "$| U(t_1, ..., t_n) - U^{*} | \\leq D_1(U^{*}) = \\sum_{j=1}^{n}b_j\\Delta(t_j^{*})$\n",
    "\n",
    "$b_j = \\sup{U_{tj}^{(1)}(t_1, ..., t_n)}$"
   ]
  },
  {
   "cell_type": "markdown",
   "metadata": {
    "slideshow": {
     "slide_type": "fragment"
    }
   },
   "source": [
    "$| U(t_1, ..., t_n) - U^{*} | \\leq D_2(U^{*}) = \\sum_{j=1}^{n}|\\gamma_j(0)|\\Delta(t_j^{*})$"
   ]
  },
  {
   "cell_type": "markdown",
   "metadata": {
    "slideshow": {
     "slide_type": "slide"
    }
   },
   "source": [
    "**Вопросы на сдачу**\n",
    "\n",
    "1. $\\Delta(t_1^{*}, ..., t_n^{*}) = \\Delta(t_1^{*})+ ... + \\Delta(t_n^{*})$\n",
    "\n",
    "\n",
    "2. $\\delta(t_1^{*} \\cdot ... \\cdot t_n^{*}) = \\delta(t_1^{*})+ ... + \\delta(t_n^{*})$\n"
   ]
  },
  {
   "cell_type": "markdown",
   "metadata": {
    "slideshow": {
     "slide_type": "slide"
    }
   },
   "source": [
    "# Численное дифференцирование"
   ]
  },
  {
   "cell_type": "markdown",
   "metadata": {
    "slideshow": {
     "slide_type": "slide"
    }
   },
   "source": [
    "**Первая производная**\n",
    "\n",
    "$f^{(1)} \\approx \\frac{f(x+h) - f(x)}{h}$\n",
    "\n",
    "\n",
    "$f(x+h) = f(x) + hf^{(1)}(x) + O(h^2)$\n",
    "\n",
    "\n",
    "$\\frac{f(x+h) - f(x)}{h} = \\frac{f(x) + hf^{(1)}(x) + O(h^2) - f(x)}{h} = f^{(1)}(x) + O(h)$"
   ]
  },
  {
   "cell_type": "markdown",
   "metadata": {
    "slideshow": {
     "slide_type": "slide"
    }
   },
   "source": [
    "$O(h)$ - погрешность метода"
   ]
  },
  {
   "cell_type": "markdown",
   "metadata": {
    "slideshow": {
     "slide_type": "fragment"
    }
   },
   "source": [
    "$O(h) = | f^{(1)}(x) - \\frac{f(x+h) - f(x)}{h} |$"
   ]
  },
  {
   "cell_type": "markdown",
   "metadata": {
    "slideshow": {
     "slide_type": "fragment"
    }
   },
   "source": [
    "Если более точно, то\n",
    "\n",
    "$O(h) = | f^{(2)}(\\xi)\\frac{h}{2} |$"
   ]
  },
  {
   "cell_type": "markdown",
   "metadata": {
    "slideshow": {
     "slide_type": "fragment"
    }
   },
   "source": [
    "**Почему?**\n",
    "\n",
    "*Вопрос для сдачи*"
   ]
  },
  {
   "cell_type": "markdown",
   "metadata": {
    "slideshow": {
     "slide_type": "slide"
    }
   },
   "source": [
    "**Другая формула**\n",
    "\n",
    "$f^{(1)} \\approx \\frac{f(x+h) - f(x-р)}{2h}$"
   ]
  },
  {
   "cell_type": "markdown",
   "metadata": {
    "slideshow": {
     "slide_type": "fragment"
    }
   },
   "source": [
    "**Откуда она?**\n",
    "\n",
    "*Вопрос для сдачи*"
   ]
  },
  {
   "cell_type": "markdown",
   "metadata": {
    "slideshow": {
     "slide_type": "slide"
    }
   },
   "source": [
    "**Реальная погрешность**\n",
    "\n",
    "$\\Delta = \\frac{h}{2}\\max_{\\xi \\in [x, x+h]}|f^{(2)}(\\xi)| + \\frac{2\\delta_M}{h} = O(h) + O(h^{-1})$"
   ]
  },
  {
   "cell_type": "markdown",
   "metadata": {
    "slideshow": {
     "slide_type": "fragment"
    }
   },
   "source": [
    "**Почему так?**"
   ]
  },
  {
   "cell_type": "markdown",
   "metadata": {
    "slideshow": {
     "slide_type": "fragment"
    }
   },
   "source": [
    "Потому что абсолютная погрешность не превосходит $\\frac{2\\delta_M}{h}$"
   ]
  },
  {
   "cell_type": "markdown",
   "metadata": {
    "slideshow": {
     "slide_type": "fragment"
    }
   },
   "source": [
    "**И что?**"
   ]
  },
  {
   "cell_type": "markdown",
   "metadata": {
    "slideshow": {
     "slide_type": "fragment"
    }
   },
   "source": [
    "*Вопрос для...*"
   ]
  },
  {
   "cell_type": "markdown",
   "metadata": {
    "slideshow": {
     "slide_type": "slide"
    }
   },
   "source": [
    "**Оптимальный шаг**\n",
    "\n",
    "$h_{opt} = \\sqrt{\\frac{4\\delta_M}{\\max{|f^{(2)}(\\xi)|}}} = 2\\sqrt{\\frac{\\delta_M}{M_2}}$"
   ]
  },
  {
   "cell_type": "markdown",
   "metadata": {
    "slideshow": {
     "slide_type": "fragment"
    }
   },
   "source": [
    "**Как был получен?**"
   ]
  },
  {
   "cell_type": "markdown",
   "metadata": {
    "slideshow": {
     "slide_type": "fragment"
    }
   },
   "source": [
    "Имеет ли смысл выбирать $h < h_{opt}$ ?"
   ]
  },
  {
   "cell_type": "markdown",
   "metadata": {
    "slideshow": {
     "slide_type": "fragment"
    }
   },
   "source": [
    "**Почему?**\n",
    "\n",
    "*Вопрос для...*"
   ]
  },
  {
   "cell_type": "markdown",
   "metadata": {
    "slideshow": {
     "slide_type": "slide"
    }
   },
   "source": [
    "**Общий случай**\n",
    "\n",
    "$f^{(1)}(x_j) = \\frac{1}{h}\\sum_{k=-l}^{m}\\alpha_k f(x_j + kh)$"
   ]
  },
  {
   "cell_type": "markdown",
   "metadata": {
    "slideshow": {
     "slide_type": "fragment"
    }
   },
   "source": [
    "Требую чтобы формула приближала $f^{(1)}$ с точностью $O(h^{l+m})$"
   ]
  },
  {
   "cell_type": "markdown",
   "metadata": {
    "slideshow": {
     "slide_type": "fragment"
    }
   },
   "source": [
    "**from Математика import Тейлор**"
   ]
  },
  {
   "cell_type": "markdown",
   "metadata": {
    "slideshow": {
     "slide_type": "fragment"
    }
   },
   "source": [
    "$\\frac{1}{h}\\sum_{k=-l}^{m}\\alpha_k f(x_j + kh) = \\frac{1}{h}f_j\\sum \\alpha_k + f^{(1)}_j\\sum k \\alpha_k + f^{(2)}_j\\sum \\frac{k^2}{2} \\alpha_k h + ...$"
   ]
  },
  {
   "cell_type": "markdown",
   "metadata": {
    "slideshow": {
     "slide_type": "slide"
    }
   },
   "source": [
    "**Требую!**\n",
    "\n",
    "$\\sum \\alpha_k = 0$\n",
    "\n",
    "$\\sum k \\alpha_k = 1$\n",
    "\n",
    "$\\sum \\frac{k^2}{2} \\alpha_k = 0$\n",
    "\n",
    "$...$"
   ]
  },
  {
   "cell_type": "markdown",
   "metadata": {
    "slideshow": {
     "slide_type": "fragment"
    }
   },
   "source": [
    "**Матрица Вандермонда**"
   ]
  },
  {
   "cell_type": "markdown",
   "metadata": {
    "slideshow": {
     "slide_type": "fragment"
    }
   },
   "source": [
    "**А что мы про нее знаем?**"
   ]
  },
  {
   "cell_type": "markdown",
   "metadata": {
    "slideshow": {
     "slide_type": "fragment"
    }
   },
   "source": [
    "*Решение единственно, а значит и разложение единственно!*\n",
    "\n",
    "и значение $f^1$ определено с точностью до $O(h^{l+m})$"
   ]
  },
  {
   "cell_type": "markdown",
   "metadata": {
    "slideshow": {
     "slide_type": "slide"
    }
   },
   "source": [
    "$f^{(2)} = \\frac{1}{h^2}\\sum_{k=-l}^{m}\\alpha_k f(x_j + kh)$\n",
    "\n",
    "$\\sum k \\alpha_k = 0$\n",
    "\n",
    "$\\sum k^2 \\alpha_k = \\frac{1}{2}$"
   ]
  },
  {
   "cell_type": "markdown",
   "metadata": {
    "slideshow": {
     "slide_type": "fragment"
    }
   },
   "source": [
    "**Имеет ли единственное решение?**"
   ]
  },
  {
   "cell_type": "markdown",
   "metadata": {
    "slideshow": {
     "slide_type": "fragment"
    }
   },
   "source": [
    "**А с какой точностью приближает?**"
   ]
  },
  {
   "cell_type": "markdown",
   "metadata": {
    "slideshow": {
     "slide_type": "slide"
    }
   },
   "source": [
    "**Что мы выяснили?**"
   ]
  },
  {
   "cell_type": "markdown",
   "metadata": {
    "slideshow": {
     "slide_type": "fragment"
    }
   },
   "source": [
    "На сеточном шаблоне $N+1$ точек с помощью МНК всегда можно построить единственную формулу для вычисления производной $N$ порядка с точность $O(h^N)$"
   ]
  },
  {
   "cell_type": "markdown",
   "metadata": {
    "slideshow": {
     "slide_type": "fragment"
    }
   },
   "source": [
    "1. Как обобщить формулу для $f^{(n)}$"
   ]
  },
  {
   "cell_type": "markdown",
   "metadata": {
    "slideshow": {
     "slide_type": "fragment"
    }
   },
   "source": [
    "2. Все это работает для равномерное сетки, а как обобщить для неравномерной?"
   ]
  },
  {
   "cell_type": "markdown",
   "metadata": {
    "slideshow": {
     "slide_type": "fragment"
    }
   },
   "source": [
    "3. Оценить оптимальный шаг формул МНК для $f^{(n)}$"
   ]
  },
  {
   "cell_type": "markdown",
   "metadata": {
    "slideshow": {
     "slide_type": "fragment"
    }
   },
   "source": [
    "**И все это прекрасные вопросы для...**"
   ]
  },
  {
   "cell_type": "markdown",
   "metadata": {
    "slideshow": {
     "slide_type": "slide"
    }
   },
   "source": [
    "# Задачи"
   ]
  },
  {
   "cell_type": "markdown",
   "metadata": {
    "slideshow": {
     "slide_type": "slide"
    }
   },
   "source": [
    "# Методы приближения"
   ]
  },
  {
   "cell_type": "markdown",
   "metadata": {
    "slideshow": {
     "slide_type": "slide"
    }
   },
   "source": [
    "Методы приближения разделяют по типу условий согласования"
   ]
  },
  {
   "cell_type": "markdown",
   "metadata": {
    "slideshow": {
     "slide_type": "fragment"
    }
   },
   "source": [
    "Что это такое?"
   ]
  },
  {
   "cell_type": "markdown",
   "metadata": {
    "slideshow": {
     "slide_type": "fragment"
    }
   },
   "source": [
    "*Вопрос для сдачи*"
   ]
  },
  {
   "cell_type": "markdown",
   "metadata": {
    "slideshow": {
     "slide_type": "fragment"
    }
   },
   "source": [
    "Шутка."
   ]
  },
  {
   "cell_type": "markdown",
   "metadata": {
    "slideshow": {
     "slide_type": "slide"
    }
   },
   "source": [
    "1. $\\Omega = \\{x_j\\}, j = \\bar{0, n}$\n",
    "\n",
    "\n",
    "2. $f_i$ - аппроксимируемая (сеточная) функция\n",
    "\n",
    "\n",
    "3. $\\tilde{f_m}(x, \\bar{a})$ - аппроксимирующие функции"
   ]
  },
  {
   "cell_type": "markdown",
   "metadata": {
    "slideshow": {
     "slide_type": "fragment"
    }
   },
   "source": [
    "$\\tilde{f_m}(x, \\bar{a}) = \\sum_{j=0}^{m} a_j x^j$\n",
    "\n",
    "\n",
    "$\\bar{a} = (a_0, ..., a_m)^T$"
   ]
  },
  {
   "cell_type": "markdown",
   "metadata": {
    "slideshow": {
     "slide_type": "slide"
    }
   },
   "source": [
    "**Дискретные условия согласования**\n",
    "\n",
    "Невязка в точках сетки $\\Omega = \\{x_j\\}, j = \\bar{0, n}$\n",
    "\n",
    "\n",
    "$\\delta \\tilde{f_m}^{(p)}(x_j, \\bar{a}) = \\tilde{f_m}^{(p)}(x_j, \\bar{a}) - f^{(p)}(x_i) = 0$"
   ]
  },
  {
   "cell_type": "markdown",
   "metadata": {
    "slideshow": {
     "slide_type": "fragment"
    }
   },
   "source": [
    "При $p = 0$ имеем условие интерполяции (функциональный оператор)\n",
    "\n",
    "$\\delta \\tilde{f_m}(x_j, \\bar{a}) = \\tilde{f_m}(x_j, \\bar{a}) - f(x_i) = 0$"
   ]
  },
  {
   "cell_type": "markdown",
   "metadata": {
    "slideshow": {
     "slide_type": "fragment"
    }
   },
   "source": [
    "При $p > 0$ имеем дифференциальное условие (дифференциальный оператор)"
   ]
  },
  {
   "cell_type": "markdown",
   "metadata": {
    "slideshow": {
     "slide_type": "slide"
    }
   },
   "source": [
    "**Интегральные условия**"
   ]
  },
  {
   "cell_type": "markdown",
   "metadata": {
    "slideshow": {
     "slide_type": "fragment"
    }
   },
   "source": [
    "1. $\\sqrt{\\frac{1}{n+1}\\sum_{i=0}^n[\\tilde{f_m}(x_i, \\bar{a}) - f(x_i)]^2} \\rightarrow \\min_{\\bar{a}}$"
   ]
  },
  {
   "cell_type": "markdown",
   "metadata": {
    "slideshow": {
     "slide_type": "fragment"
    }
   },
   "source": [
    "2. $\\delta \\tilde{f}(I_{x_i}^{x_i+1}) = \\int_{x_i}^{x_i+1}\\tilde{f_m}(x, \\bar{a})dx - I_{i}^{i+1} = 0$"
   ]
  },
  {
   "cell_type": "markdown",
   "metadata": {
    "slideshow": {
     "slide_type": "slide"
    }
   },
   "source": [
    "1. Глобальные"
   ]
  },
  {
   "cell_type": "markdown",
   "metadata": {
    "slideshow": {
     "slide_type": "fragment"
    }
   },
   "source": [
    "2. Локальные"
   ]
  },
  {
   "cell_type": "markdown",
   "metadata": {
    "slideshow": {
     "slide_type": "fragment"
    }
   },
   "source": [
    "3. Кусочные"
   ]
  },
  {
   "cell_type": "markdown",
   "metadata": {
    "slideshow": {
     "slide_type": "fragment"
    }
   },
   "source": [
    "4. Кусочно глобальные"
   ]
  },
  {
   "cell_type": "markdown",
   "metadata": {
    "slideshow": {
     "slide_type": "slide"
    }
   },
   "source": [
    "$f(x) \\in C[a, b]$ и известна первообразная $F(x)$"
   ]
  },
  {
   "cell_type": "markdown",
   "metadata": {
    "slideshow": {
     "slide_type": "fragment"
    }
   },
   "source": [
    "$\\int_a^b f(x)dx = F(b) - F(a)$\n",
    "\n",
    "**Кто это?**"
   ]
  },
  {
   "cell_type": "markdown",
   "metadata": {
    "slideshow": {
     "slide_type": "fragment"
    }
   },
   "source": [
    "$\\int_1^2 \\frac{dx}{lnx}$"
   ]
  },
  {
   "cell_type": "markdown",
   "metadata": {
    "slideshow": {
     "slide_type": "fragment"
    }
   },
   "source": [
    "$\\Omega_n = \\{ x_0, x_1, ..., x_n \\}, \\ x_{i+1} = x_i + h_{i+1}, \\ i = \\bar{0, n-1}$"
   ]
  },
  {
   "cell_type": "markdown",
   "metadata": {
    "slideshow": {
     "slide_type": "slide"
    }
   },
   "source": [
    "Интегралы вычисляются\n",
    "\n",
    "1. Квадратурами\n",
    "2. Функционально-дифференциальной формулой Эйлера-Маклорена\n",
    "3. Гаусса-Кристоффеля\n",
    "4. Маркова\n",
    "5. Неявными алгоритмами"
   ]
  },
  {
   "cell_type": "markdown",
   "metadata": {
    "slideshow": {
     "slide_type": "slide"
    }
   },
   "source": [
    "# Задача численного дифференцирования\n",
    "## Классические постановки\n",
    "\n",
    "**Знать. Спрошу.**"
   ]
  },
  {
   "cell_type": "markdown",
   "metadata": {
    "slideshow": {
     "slide_type": "slide"
    }
   },
   "source": [
    "# Метод решения"
   ]
  }
 ],
 "metadata": {
  "celltoolbar": "Slideshow",
  "kernelspec": {
   "display_name": "Python 3",
   "language": "python",
   "name": "python3"
  },
  "language_info": {
   "codemirror_mode": {
    "name": "ipython",
    "version": 3
   },
   "file_extension": ".py",
   "mimetype": "text/x-python",
   "name": "python",
   "nbconvert_exporter": "python",
   "pygments_lexer": "ipython3",
   "version": "3.7.3"
  }
 },
 "nbformat": 4,
 "nbformat_minor": 2
}
