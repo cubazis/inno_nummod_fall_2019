{
 "cells": [
  {
   "cell_type": "code",
   "execution_count": 1,
   "metadata": {},
   "outputs": [],
   "source": [
    "import numpy as np\n",
    "from sympy import symbols"
   ]
  },
  {
   "cell_type": "code",
   "execution_count": 84,
   "metadata": {},
   "outputs": [],
   "source": [
    "x = symbols('x')\n",
    "\n",
    "# xs = np.array([2,3,4])\n",
    "# fs = np.array([7,5,8])\n",
    "\n",
    "# xs = np.array([-1, 0, 1, 3, 4])\n",
    "# fs = np.array([-1, 0, 1, 27, 64])\n",
    "\n",
    "xs = np.array([1, 3])\n",
    "fs = np.array([1, 27])\n",
    "\n",
    "n = len(xs)"
   ]
  },
  {
   "cell_type": "code",
   "execution_count": 85,
   "metadata": {},
   "outputs": [
    {
     "data": {
      "text/plain": [
       "[x - 1, x - 3]"
      ]
     },
     "execution_count": 85,
     "metadata": {},
     "output_type": "execute_result"
    }
   ],
   "source": [
    "p_lambda = lambda xs_i: x - xs_i\n",
    "[p_lambda(xs_i) for xs_i in xs]"
   ]
  },
  {
   "cell_type": "code",
   "execution_count": 90,
   "metadata": {},
   "outputs": [
    {
     "data": {
      "text/plain": [
       "[2 - 2*x, 2*x - 6]"
      ]
     },
     "execution_count": 90,
     "metadata": {},
     "output_type": "execute_result"
    }
   ],
   "source": [
    "d_lambda = lambda x_i, x_j: x_i - x_j\n",
    "di = lambda x_i, i: (x - x_i) * np.prod([d_lambda(x_i, xs[j]) if j != i else 1 for j in range(n)])\n",
    "ds = lambda xs: [di(xs[i], i) for i in range(n)]\n",
    "\n",
    "ds(xs)"
   ]
  },
  {
   "cell_type": "code",
   "execution_count": 91,
   "metadata": {},
   "outputs": [
    {
     "data": {
      "text/latex": [
       "$\\displaystyle \\frac{27 \\left(x - 3\\right) \\left(x - 1\\right)}{2 x - 6} + \\frac{\\left(x - 3\\right) \\left(x - 1\\right)}{2 - 2 x}$"
      ],
      "text/plain": [
       "27*(x - 3)*(x - 1)/(2*x - 6) + (x - 3)*(x - 1)/(2 - 2*x)"
      ]
     },
     "execution_count": 91,
     "metadata": {},
     "output_type": "execute_result"
    }
   ],
   "source": [
    "lagrange_ = lambda xs, fs: (np.prod([p_lambda(xs_i) for xs_i in xs])*fs/ds(xs)).sum()\n",
    "lagrange_(xs, fs)"
   ]
  },
  {
   "cell_type": "code",
   "execution_count": 92,
   "metadata": {},
   "outputs": [],
   "source": [
    "lagrange = lambda x0, xs, fs: (lagrange_(xs, fs)).subs(x,x0)"
   ]
  },
  {
   "cell_type": "code",
   "execution_count": 93,
   "metadata": {},
   "outputs": [
    {
     "name": "stdout",
     "output_type": "stream",
     "text": [
      "14\n"
     ]
    }
   ],
   "source": [
    "# print(lagrange(2.5, xs, fs))\n",
    "print(lagrange(2, xs, fs))"
   ]
  },
  {
   "cell_type": "code",
   "execution_count": null,
   "metadata": {},
   "outputs": [],
   "source": []
  }
 ],
 "metadata": {
  "kernelspec": {
   "display_name": "Python 3",
   "language": "python",
   "name": "python3"
  },
  "language_info": {
   "codemirror_mode": {
    "name": "ipython",
    "version": 3
   },
   "file_extension": ".py",
   "mimetype": "text/x-python",
   "name": "python",
   "nbconvert_exporter": "python",
   "pygments_lexer": "ipython3",
   "version": "3.7.3"
  }
 },
 "nbformat": 4,
 "nbformat_minor": 2
}
