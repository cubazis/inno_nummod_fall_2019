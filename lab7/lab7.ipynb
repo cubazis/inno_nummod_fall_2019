{
 "cells": [
  {
   "cell_type": "markdown",
   "metadata": {},
   "source": [
    "$ x_1 - x_2 + x_3 - 4 x_4 = -2$\n",
    "\n",
    "$ 2 x_1 + x_2 - 5 x_3 + x_4 = 2$\n",
    "\n",
    "$ 8 x_1 - x_2 - x_3 + 2 x_4 = 11$\n",
    "\n",
    "$ x_1 + 6 x_2 - 2 x_3 - 2 x_4 = -7$"
   ]
  }
 ],
 "metadata": {
  "kernelspec": {
   "display_name": "Python 3",
   "language": "python",
   "name": "python3"
  },
  "language_info": {
   "codemirror_mode": {
    "name": "ipython",
    "version": 3
   },
   "file_extension": ".py",
   "mimetype": "text/x-python",
   "name": "python",
   "nbconvert_exporter": "python",
   "pygments_lexer": "ipython3",
   "version": "3.6.8"
  }
 },
 "nbformat": 4,
 "nbformat_minor": 2
}
