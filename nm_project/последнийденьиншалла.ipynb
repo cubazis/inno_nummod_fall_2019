{
 "cells": [
  {
   "cell_type": "code",
   "execution_count": 83,
   "metadata": {},
   "outputs": [],
   "source": [
    "import numpy as np\n",
    "import cv2\n",
    "from matplotlib import pyplot as plt\n",
    "from scipy.sparse import csr_matrix, lil_matrix, identity\n",
    "from pylab import rcParams\n",
    "rcParams['figure.figsize'] = 8,8"
   ]
  },
  {
   "cell_type": "code",
   "execution_count": 84,
   "metadata": {},
   "outputs": [],
   "source": [
    "def init_lattice():\n",
    "    lenx = 100\n",
    "    leny = 100\n",
    "    mx = np.zeros((leny,lenx))\n",
    "    \n",
    "    #_,axises = plt.subplots(4)\n",
    "    \n",
    "    small_house = [((0,0),(6,6))]\n",
    "    L_house = [((0,0),(20,6)),((20,0),(26,10))]\n",
    "    inv_L_house = [((0,0),(6,10)),((6,4),(26,10))]\n",
    "    \n",
    "    block_shape = (6+7+26,6+13+10)\n",
    "    block_shifts = [(6, 23),\n",
    "                    (6, 23+block_shape[1]+12),\n",
    "                    (6+block_shape[0]+12, 23),\n",
    "                    (6+block_shape[0]+12, 23+block_shape[1]+12)\n",
    "                   ]\n",
    "    def draw_block():\n",
    "        block = np.zeros(block_shape)\n",
    "        house_shifts = [(0,0),(26+7,10+13),(6+7,0),(0,6+13)]\n",
    "        for s,(sy,sx) in zip([small_house, small_house, L_house, inv_L_house],\n",
    "                        house_shifts):\n",
    "            for fig in s:\n",
    "                (yfrom,xfrom),(yto,xto) = fig\n",
    "                block[sy+yfrom:sy+yto,sx+xfrom:sx+xto] = 1\n",
    "        return block\n",
    "    #for (sy,sx),ax in zip(block_shifts,axises):\n",
    "    for (sy,sx) in block_shifts:\n",
    "        t = draw_block()\n",
    "        #print(t.shape)\n",
    "        mx[sy:sy+block_shape[0], sx:sx+block_shape[1]] = t\n",
    "        #ax.imshow(mx, cmap = 'gray')\n",
    "    #plt.plot()\n",
    "    return mx"
   ]
  },
  {
   "cell_type": "code",
   "execution_count": 85,
   "metadata": {},
   "outputs": [],
   "source": [
    "mx = init_lattice()"
   ]
  },
  {
   "cell_type": "code",
   "execution_count": 86,
   "metadata": {},
   "outputs": [
    {
     "data": {
      "text/plain": [
       "<matplotlib.image.AxesImage at 0x20f0b4c0488>"
      ]
     },
     "execution_count": 86,
     "metadata": {},
     "output_type": "execute_result"
    },
    {
     "data": {
      "image/png": "[encoded data removed]",
      "text/plain": [
       "<Figure size 576x576 with 1 Axes>"
      ]
     },
     "metadata": {
      "needs_background": "light"
     },
     "output_type": "display_data"
    }
   ],
   "source": [
    "plt.imshow(mx,cmap = 'gray')"
   ]
  },
  {
   "cell_type": "code",
   "execution_count": 87,
   "metadata": {},
   "outputs": [],
   "source": [
    "def write_video(video_frames):\n",
    "    out = cv2.VideoWriter('gas_gas_gas.avi',cv2.VideoWriter_fourcc(*'XVID'), 60, (100, 100),isColor=False)\n",
    "    for frame in video_frames:\n",
    "        out.write(frame)\n",
    "    out.release()\n",
    "    "
   ]
  },
  {
   "cell_type": "code",
   "execution_count": 88,
   "metadata": {},
   "outputs": [],
   "source": [
    "N_GRID = 100\n",
    "N_VEC = N_GRID*N_GRID\n",
    "l1, l2 = 1, 0\n",
    "k = 0.5\n",
    "h = 1\n",
    "t = 0.25  # (tau must be <= 0.5 AND (between 0.0 and 1.0) -> tau range is between 0.0 and 0.0\n",
    "coeffs = np.array([\n",
    "    1-4*t*k/h**2,\n",
    "    t*(k/h**2 - l1/(2*h)),\n",
    "    t*(k/h**2 + l1/(2*h)),\n",
    "    t*(k/h**2 - l2/(2*h)),\n",
    "    t*(k/h**2 + l2/(2*h)),\n",
    "])"
   ]
  },
  {
   "cell_type": "code",
   "execution_count": 89,
   "metadata": {},
   "outputs": [],
   "source": [
    "gas_field = np.zeros((N_GRID,N_GRID))\n",
    "gas_field[:,0] = 1.0\n",
    "dx = [1, -1, 0, 0]\n",
    "dy = [0, 0, 1, -1]\n",
    "            \n",
    "\n",
    "gas_vec = np.reshape(gas_field,(N_VEC,1))\n",
    "A = lil_matrix((N_VEC,N_VEC))\n",
    "b = np.zeros((N_VEC))\n",
    "for i in range(100):\n",
    "    A[i*N_GRID,i*N_GRID] = 1.0\n",
    "    \n",
    "for y in range(N_GRID):\n",
    "    for x in range(1, N_GRID):\n",
    "        \n",
    "        vecidx = y*N_GRID+x\n",
    "        A[vecidx,vecidx] = coeffs[0]\n",
    "        \n",
    "        for j in range(0, 4):\n",
    "            x1 = x + dx[j]\n",
    "            y1 = y + dy[j]\n",
    "            coeff = coeffs[j+1]\n",
    "            \n",
    "            if x1>=N_GRID or y1>=N_GRID or y1 == 0 or mx[y1,x1]:\n",
    "                A[vecidx,vecidx] += coeff\n",
    "            else:\n",
    "                A[vecidx,y1*N_GRID+x1] = coeff\n",
    "# check\n",
    "for i in range(N_VEC):\n",
    "    if np.abs(np.sum(A[i,:])-1.0)>1e-6:\n",
    "        print(f\"Wrong in {i}: sum of coeffs {np.sum(A[i,:])}\")"
   ]
  },
  {
   "cell_type": "code",
   "execution_count": 104,
   "metadata": {},
   "outputs": [
    {
     "name": "stdout",
     "output_type": "stream",
     "text": [
      "Break at 9092/30000\n",
      "Tau = 0.25\n"
     ]
    },
    {
     "data": {
      "image/png": "[encoded data removed]",
      "text/plain": [
       "<Figure size 576x576 with 1 Axes>"
      ]
     },
     "metadata": {
      "needs_background": "light"
     },
     "output_type": "display_data"
    }
   ],
   "source": [
    "A = csr_matrix(A)\n",
    "x = gas_vec\n",
    "frames = []\n",
    "steps = 30000\n",
    "for i in range(steps):\n",
    "    x_new = A * x\n",
    "    frames.append(np.uint8((x_new**4*255).reshape((100,100))))\n",
    "    error = np.max(np.abs(x_new - x))\n",
    "    if error < 1e-5:\n",
    "        print(f\"Break at {i}/{steps}\")\n",
    "        print(f\"Tau = {t}\")\n",
    "        break\n",
    "    x = x_new\n",
    "plt.matshow(x.reshape((100,100)))\n",
    "plt.gca().invert_yaxis()\n",
    "plt.show()"
   ]
  },
  {
   "cell_type": "code",
   "execution_count": 103,
   "metadata": {},
   "outputs": [],
   "source": [
    "write_video(frames)"
   ]
  },
  {
   "cell_type": "code",
   "execution_count": null,
   "metadata": {},
   "outputs": [],
   "source": []
  },
  {
   "cell_type": "code",
   "execution_count": null,
   "metadata": {},
   "outputs": [],
   "source": []
  },
  {
   "cell_type": "code",
   "execution_count": null,
   "metadata": {},
   "outputs": [],
   "source": []
  }
 ],
 "metadata": {
  "kernelspec": {
   "display_name": "Python 3",
   "language": "python",
   "name": "python3"
  },
  "language_info": {
   "codemirror_mode": {
    "name": "ipython",
    "version": 3
   },
   "file_extension": ".py",
   "mimetype": "text/x-python",
   "name": "python",
   "nbconvert_exporter": "python",
   "pygments_lexer": "ipython3",
   "version": "3.7.4"
  }
 },
 "nbformat": 4,
 "nbformat_minor": 2
}
