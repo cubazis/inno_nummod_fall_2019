{
  "nbformat": 4,
  "nbformat_minor": 0,
  "metadata": {
    "colab": {
      "name": "NM_Project.ipynb",
      "provenance": [],
      "collapsed_sections": [],
      "machine_shape": "hm"
    },
    "kernelspec": {
      "name": "python3",
      "display_name": "Python 3"
    }
  },
  "cells": [
    {
      "cell_type": "code",
      "metadata": {
        "id": "XJksAs-CCf0E",
        "colab_type": "code",
        "colab": {}
      },
      "source": [
        "import numpy as np\n",
        "import matplotlib.pyplot as plt\n",
        "from scipy.sparse import csr_matrix, lil_matrix,identity\n",
        "from pprint import pprint\n",
        "\n",
        "def box_house(posx, posy, x, y):\n",
        "  return (posx < x and x < posx + 18 and posy < y and y < posy + 18)\n",
        "\n",
        "def l_house(posx, posy, x, y):\n",
        "  if posx < x and x < posx + 18 and posy < y and y < posy + 78:\n",
        "    return True\n",
        "    \n",
        "  posx = posx - 12\n",
        "  posy = posy + 60\n",
        "\n",
        "  return (posx < x and x < posx + 13 and posy < y and y < posy + 18)\n",
        "\n",
        "def L_house(posx,posy,x,y):\n",
        "  if posx < x and x < posx + 18 and posy < y and y < posy + 78:\n",
        "    return True\n",
        "    \n",
        "  posx = posx+12\n",
        "\n",
        "  return (posx < x and x < posx + 12 and posy < y and y < posy + 18)\n",
        "\n",
        "def houses_check(x, y):\n",
        "  boxes = [(69, 111), (69, 264),\n",
        "           (138, 12), (138, 165),\n",
        "           (192, 111), (192, 264),\n",
        "           (261, 12), (261, 165)]\n",
        "  L_houses = [(69, 12), (69, 165),\n",
        "              (192, 12), (192, 165)]\n",
        "  \n",
        "  l_houses = [(138, 51), (138, 204),\n",
        "              (261, 51), (261, 204)]\n",
        "  for box in boxes:\n",
        "    if box_house(box[0], box[1], x, y):\n",
        "      return True\n",
        "\n",
        "  for house in L_houses:\n",
        "    if L_house(house[0], house[1], x, y):\n",
        "      return True\n",
        "  \n",
        "  for house in l_houses:\n",
        "    if l_house(house[0], house[1], x, y):\n",
        "      return True\n",
        "      \n",
        "  return False\n",
        "\n",
        "\n",
        "# if edge_cond_check(neighbour.x,neighbour.y) == true\n",
        "# A[idx,idx]-neighbour.coefficient\n",
        "def edge_cond_check(x, y):\n",
        "  if houses_check(x, y):\n",
        "    return True\n",
        "  if x > 299 or y > 299 or y == 0:\n",
        "    return True\n",
        "\n",
        "  return False\n",
        "\n",
        "def crossSchema(eps = 1e-8):   \n",
        "  lambda1 = 1.0\n",
        "  lambda2 = 0\n",
        "  steps = 30000\n",
        "  n = 300\n",
        "  k = 0.5\n",
        "  h = 1 / n\n",
        "  tau = h * h / (4 * k)\n",
        "\n",
        "\n",
        "  N = n * n\n",
        "  \n",
        "  x = np.zeros((N, 1))\n",
        "  for i in range(300):\n",
        "    x[300 * i, 0]=1\n",
        "    \n",
        "  A = lil_matrix((N, N))\n",
        "  \n",
        "  b = np.zeros(N)\n",
        "    \n",
        "  dx = [1, -1, 0, 0]\n",
        "  dy = [0, 0, 1, -1]\n",
        "  u0coeff = 1 - 4 * (tau * k) / (h**2)\n",
        "  coeffs = [tau * (k / (h**2) - lambda1 / (2*h)),\n",
        "            tau * (k / (h**2) + lambda1 / (2*h)),\n",
        "            tau * (k / (h**2) - lambda2 / (2*h)),\n",
        "            tau * (k / (h**2) + lambda2 / (2*h))]\n",
        "\n",
        "  for i in range(0, n): \n",
        "      for e in range(0, n):\n",
        "          ind = i * n + e\n",
        "          if i == 0:\n",
        "            A[ind, ind] = 0\n",
        "            continue \n",
        "          A[ind, ind] = u0coeff\n",
        "          for j in range(0, 4):\n",
        "              x1 = i + dx[j]\n",
        "              y1 = e + dy[j]\n",
        "              coeff = coeffs[j]\n",
        "\n",
        "              if x1==0:\n",
        "                  b[ind] -= coeff\n",
        "              elif edge_cond_check(x1, y1):\n",
        "                  A[ind, ind] += coeff\n",
        "              else:\n",
        "                  A[ind, x1 * 300 + y1] = coeff\n",
        "\n",
        "  A = csr_matrix(A)\n",
        "\n",
        "  b = b.reshape(N, -1)\n",
        "  for i in range(steps):\n",
        "    x_new = (A * x - b)\n",
        "    error = np.max(np.abs(x_new - x))\n",
        "    if error < eps:\n",
        "        break\n",
        "    x = x_new\n",
        "  return x.reshape((300,300))\n"
      ],
      "execution_count": 0,
      "outputs": []
    },
    {
      "cell_type": "code",
      "metadata": {
        "id": "gJ_8n26ziGiL",
        "colab_type": "code",
        "outputId": "5f1235d9-cdb4-4834-93fe-467a93fb93b0",
        "colab": {
          "base_uri": "https://localhost:8080/",
          "height": 503
        }
      },
      "source": [
        "x_res = crossSchema(eps=1e-8)\n",
        "plt.imshow(x_res.T)\n",
        "plt.gca().invert_yaxis()\n",
        "plt.show()\n",
        "print(\"Used M = 300\")\n",
        "pprint(x_res)"
      ],
      "execution_count": 26,
      "outputs": [
        {
          "output_type": "display_data",
          "data": {
            "image/png": "[encoded data removed]",
            "text/plain": [
              "<Figure size 432x288 with 1 Axes>"
            ]
          },
          "metadata": {
            "tags": []
          }
        },
        {
          "output_type": "stream",
          "text": [
            "Used M = 300\n",
            "array([[0.        , 0.        , 0.        , ..., 0.        , 0.        ,\n",
            "        0.        ],\n",
            "       [0.66632312, 0.99785718, 0.99785749, ..., 0.99703364, 0.99703299,\n",
            "        0.99703267],\n",
            "       [0.99636611, 0.99569996, 0.99570058, ..., 0.99404744, 0.99404615,\n",
            "        0.9940455 ],\n",
            "       ...,\n",
            "       [0.01650417, 0.01387668, 0.01387233, ..., 0.01903555, 0.01906132,\n",
            "        0.01907421],\n",
            "       [0.01645928, 0.01385291, 0.01384865, ..., 0.01899163, 0.01901727,\n",
            "        0.0190301 ],\n",
            "       [0.01643128, 0.01384101, 0.0138368 , ..., 0.01896961, 0.01899519,\n",
            "        0.01900799]])\n"
          ],
          "name": "stdout"
        }
      ]
    },
    {
      "cell_type": "code",
      "metadata": {
        "id": "IEkS6es0FtEt",
        "colab_type": "code",
        "colab": {
          "base_uri": "https://localhost:8080/",
          "height": 503
        },
        "outputId": "6ca1efa1-3583-475e-f592-e11c6903479c"
      },
      "source": [
        "x_res = crossSchema(eps=10e-5)\n",
        "plt.imshow(x_res.T)\n",
        "plt.gca().invert_yaxis()\n",
        "plt.show()\n",
        "print(\"Used M = 300\")\n",
        "pprint(x_res)"
      ],
      "execution_count": 27,
      "outputs": [
        {
          "output_type": "display_data",
          "data": {
            "image/png": "[encoded data removed]",
            "text/plain": [
              "<Figure size 432x288 with 1 Axes>"
            ]
          },
          "metadata": {
            "tags": []
          }
        },
        {
          "output_type": "stream",
          "text": [
            "Used M = 300\n",
            "array([[0.00000000e+00, 0.00000000e+00, 0.00000000e+00, ...,\n",
            "        0.00000000e+00, 0.00000000e+00, 0.00000000e+00],\n",
            "       [6.62108357e-01, 9.85202030e-01, 9.85202131e-01, ...,\n",
            "        9.85122863e-01, 9.85122762e-01, 9.85122710e-01],\n",
            "       [9.77711483e-01, 9.70314810e-01, 9.70315013e-01, ...,\n",
            "        9.70155630e-01, 9.70155425e-01, 9.70155322e-01],\n",
            "       ...,\n",
            "       [2.01420154e-11, 1.12928384e-11, 1.12422583e-11, ...,\n",
            "        2.72233590e-11, 2.73590392e-11, 2.74267515e-11],\n",
            "       [1.88483035e-11, 1.07112858e-11, 1.06638064e-11, ...,\n",
            "        2.58971901e-11, 2.60275266e-11, 2.60925984e-11],\n",
            "       [1.80459756e-11, 1.04233983e-11, 1.03774569e-11, ...,\n",
            "        2.52397398e-11, 2.53673944e-11, 2.54311407e-11]])\n"
          ],
          "name": "stdout"
        }
      ]
    }
  ]
}