{
 "cells": [
  {
   "cell_type": "code",
   "execution_count": 5,
   "metadata": {
    "colab": {},
    "colab_type": "code",
    "id": "XJksAs-CCf0E"
   },
   "outputs": [],
   "source": [
    "import numpy as np\n",
    "import matplotlib.pyplot as plt\n",
    "from scipy.sparse import csr_matrix, lil_matrix, identity\n",
    "\n",
    "boxes = [(69,111),\n",
    "             (69,264),\n",
    "             (138,12),\n",
    "             (138,165),\n",
    "             (192,111),\n",
    "             (192,264),\n",
    "             (261,12),\n",
    "             (261,165)]\n",
    "    \n",
    "rects = [(138,51),(138,204),\n",
    "             (261,51),(261,204)]\n",
    "    \n",
    "L_shape = [(69,12),(69,165),\n",
    "               (192,12),(192,165)]\n",
    "\n",
    "def is_in_box(box_x, box_y, x, y):\n",
    "    return (box_x < x and x < box_x+18 and box_y < y and y < box_y+18)\n",
    "\n",
    "def is_in_rect(rect_x, rect_y, x, y):\n",
    "    return (rect_x < x and x < rect_x+18 and rect_y < y and y < rect_y+78) or (rect_x-12 < x and x < rect_x+1 and rect_y+60 < y and y < rect_y+78)\n",
    "\n",
    "def is_in_L_shape(l_x, l_y, x, y):\n",
    "    return (l_x < x and x < l_x+18 and l_y < y and y < l_y+78) or (l_x < x and x < l_x+24 and l_y < y and y < l_y+18)\n",
    "\n",
    "def is_in_house(x,y):\n",
    "    for box in boxes:\n",
    "        if is_in_box(box[0],box[1],x,y):\n",
    "            return True\n",
    "\n",
    "    for l in L_shape:\n",
    "        if is_in_L_shape(l[0],l[1],x,y):\n",
    "            return True\n",
    "\n",
    "    for rect in rects:\n",
    "        if is_in_rect(rect[0],rect[1],x,y):\n",
    "            return True\n",
    "\n",
    "    return False\n",
    "\n",
    "def check_edge(x,y):\n",
    "    if is_in_house(x,y):\n",
    "        return True\n",
    "    if x>299 or y>299 or y == 0:\n",
    "        return True\n",
    "\n",
    "    return False\n",
    "\n",
    "def crossSchema():\n",
    "    n = 300\n",
    "    N = n**2\n",
    "    k = 0.5\n",
    "    h = 1/n\n",
    "    tau = (h**2)/(4*k)\n",
    "    lambda1 = 1.0\n",
    "    lambda2 = 0\n",
    "    steps = 80000\n",
    "\n",
    "    x = np.zeros((N, 1))\n",
    "    \n",
    "    for i in range(300):\n",
    "        x[300*i,0]=1\n",
    "\n",
    "    A = lil_matrix((N, N))\n",
    "\n",
    "    b = np.zeros(N)\n",
    "\n",
    "    dx = [1, -1, 0, 0]\n",
    "    dy = [0, 0, 1, -1]\n",
    "    u0 = 1-4*(tau*k)/(h**2)\n",
    "    u = [tau*(k/(h**2)-lambda1/(2*h)),\n",
    "            tau*(k/(h**2)+lambda1/(2*h)),\n",
    "            tau*(k/(h**2)-lambda2/(2*h)),\n",
    "            tau*(k/(h**2)+lambda2/(2*h))]\n",
    "\n",
    "    for i in range(0, n): \n",
    "        for e in range(0, n):\n",
    "            ind = i * n + e\n",
    "            A[ind, ind] = u0\n",
    "            for j in range(0, 4):\n",
    "                x1 = i + dx[j]\n",
    "                y1 = e + dy[j]\n",
    "                uj = u[j]\n",
    "                \n",
    "                if x1==0:\n",
    "                    b[ind] -= uj\n",
    "                elif check_edge(x1,y1):\n",
    "                    A[ind, ind] += uj\n",
    "                else:\n",
    "                    A[ind, x1*300+y1] = uj\n",
    "\n",
    "    A = csr_matrix(A)\n",
    "    b = b.reshape(N, -1)\n",
    "    eps = 1e-8\n",
    "    for i in range(steps):\n",
    "        x_new = (A * x + b)\n",
    "        error = np.max(np.abs(x_new - x))\n",
    "        if error < eps:\n",
    "            break\n",
    "        x = x_new\n",
    "    return x.reshape((300,300))"
   ]
  },
  {
   "cell_type": "code",
   "execution_count": 6,
   "metadata": {
    "colab": {
     "base_uri": "https://localhost:8080/",
     "height": 265
    },
    "colab_type": "code",
    "id": "gJ_8n26ziGiL",
    "outputId": "035c5ce3-5e60-4e5c-af4d-3b9b99ee9a67"
   },
   "outputs": [
    {
     "data": {
      "image/png": "[encoded data removed]",
      "text/plain": [
       "<Figure size 432x288 with 1 Axes>"
      ]
     },
     "metadata": {
      "needs_background": "light"
     },
     "output_type": "display_data"
    }
   ],
   "source": [
    "x_res = crossSchema()\n",
    "plt.imshow(1-x_res.T)\n",
    "plt.gca().invert_yaxis()\n",
    "plt.show()"
   ]
  },
  {
   "cell_type": "code",
   "execution_count": null,
   "metadata": {},
   "outputs": [],
   "source": []
  }
 ],
 "metadata": {
  "colab": {
   "collapsed_sections": [],
   "machine_shape": "hm",
   "name": "Copy of Untitled3.ipynb",
   "provenance": []
  },
  "kernelspec": {
   "display_name": "Python 3",
   "language": "python",
   "name": "python3"
  },
  "language_info": {
   "codemirror_mode": {
    "name": "ipython",
    "version": 3
   },
   "file_extension": ".py",
   "mimetype": "text/x-python",
   "name": "python",
   "nbconvert_exporter": "python",
   "pygments_lexer": "ipython3",
   "version": "3.7.1"
  }
 },
 "nbformat": 4,
 "nbformat_minor": 1
}
